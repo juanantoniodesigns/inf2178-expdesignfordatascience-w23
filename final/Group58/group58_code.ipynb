{
  "cells": [
    {
      "cell_type": "markdown",
      "source": [
        "Colab link：https://colab.research.google.com/drive/1jA299VneOMy8AkpD2qvSWFrnq4E_GU6h?usp=sharing"
      ],
      "metadata": {
        "id": "keDES5YmHnuw"
      }
    },
    {
      "cell_type": "code",
      "execution_count": null,
      "metadata": {
        "id": "KvWGeDpv9hZE"
      },
      "outputs": [],
      "source": [
        "import numpy as np\n",
        "import pandas as pd\n",
        "import matplotlib.pyplot as plt\n",
        "%matplotlib inline\n",
        "import seaborn as sns\n",
        "import warnings\n",
        "warnings.filterwarnings(\"ignore\")\n",
        "from scipy import stats\n",
        "from scipy.stats import ttest_ind \n",
        "from scipy.stats import chi2_contingency\n",
        "from scipy.stats import f_oneway\n",
        "import statsmodels.stats.multicomp as mc\n",
        "from statsmodels.graphics.factorplots import interaction_plot\n",
        "from sklearn.linear_model import LogisticRegression\n",
        "from sklearn.model_selection import train_test_split\n",
        "from sklearn import metrics\n",
        "import statsmodels.stats.power as smp\n",
        "from statsmodels.stats.power import FTestAnovaPower\n",
        "from statsmodels.stats.power import TTestIndPower\n",
        "import statsmodels.api as sm\n",
        "from sklearn.metrics import roc_curve, auc\n",
        "from sklearn.metrics import classification_report\n",
        "from sklearn.metrics import precision_recall_curve"
      ]
    },
    {
      "cell_type": "markdown",
      "metadata": {
        "id": "a96-GKVx9hZF"
      },
      "source": [
        "# 1. View basic data information"
      ]
    },
    {
      "cell_type": "code",
      "execution_count": null,
      "metadata": {
        "id": "XZBCpdsG9hZG",
        "outputId": "bf0a4ebb-e052-4602-fd65-6f758cb47ae0"
      },
      "outputs": [
        {
          "data": {
            "text/html": [
              "<div>\n",
              "<style scoped>\n",
              "    .dataframe tbody tr th:only-of-type {\n",
              "        vertical-align: middle;\n",
              "    }\n",
              "\n",
              "    .dataframe tbody tr th {\n",
              "        vertical-align: top;\n",
              "    }\n",
              "\n",
              "    .dataframe thead th {\n",
              "        text-align: right;\n",
              "    }\n",
              "</style>\n",
              "<table border=\"1\" class=\"dataframe\">\n",
              "  <thead>\n",
              "    <tr style=\"text-align: right;\">\n",
              "      <th></th>\n",
              "      <th>Arrest_Year</th>\n",
              "      <th>Arrest_Month</th>\n",
              "      <th>EventID</th>\n",
              "      <th>ArrestID</th>\n",
              "      <th>PersonID</th>\n",
              "      <th>Perceived_Race</th>\n",
              "      <th>Sex</th>\n",
              "      <th>Age_group__at_arrest_</th>\n",
              "      <th>Youth_at_arrest__under_18_years</th>\n",
              "      <th>ArrestLocDiv</th>\n",
              "      <th>...</th>\n",
              "      <th>Actions_at_arrest___Resisted__d</th>\n",
              "      <th>Actions_at_arrest___Mental_inst</th>\n",
              "      <th>Actions_at_arrest___Assaulted_o</th>\n",
              "      <th>Actions_at_arrest___Cooperative</th>\n",
              "      <th>SearchReason_CauseInjury</th>\n",
              "      <th>SearchReason_AssistEscape</th>\n",
              "      <th>SearchReason_PossessWeapons</th>\n",
              "      <th>SearchReason_PossessEvidence</th>\n",
              "      <th>ItemsFound</th>\n",
              "      <th>ObjectId</th>\n",
              "    </tr>\n",
              "  </thead>\n",
              "  <tbody>\n",
              "    <tr>\n",
              "      <th>0</th>\n",
              "      <td>2020</td>\n",
              "      <td>July-Sept</td>\n",
              "      <td>1005907</td>\n",
              "      <td>6017884.0</td>\n",
              "      <td>326622</td>\n",
              "      <td>White</td>\n",
              "      <td>M</td>\n",
              "      <td>Aged 35 to 44 years</td>\n",
              "      <td>Not a youth</td>\n",
              "      <td>54</td>\n",
              "      <td>...</td>\n",
              "      <td>0.0</td>\n",
              "      <td>0.0</td>\n",
              "      <td>0.0</td>\n",
              "      <td>1.0</td>\n",
              "      <td>NaN</td>\n",
              "      <td>NaN</td>\n",
              "      <td>NaN</td>\n",
              "      <td>NaN</td>\n",
              "      <td>NaN</td>\n",
              "      <td>1.0</td>\n",
              "    </tr>\n",
              "    <tr>\n",
              "      <th>1</th>\n",
              "      <td>2020</td>\n",
              "      <td>July-Sept</td>\n",
              "      <td>1014562</td>\n",
              "      <td>6056669.0</td>\n",
              "      <td>326622</td>\n",
              "      <td>White</td>\n",
              "      <td>M</td>\n",
              "      <td>Aged 35 to 44 years</td>\n",
              "      <td>Not a youth</td>\n",
              "      <td>54</td>\n",
              "      <td>...</td>\n",
              "      <td>0.0</td>\n",
              "      <td>0.0</td>\n",
              "      <td>0.0</td>\n",
              "      <td>0.0</td>\n",
              "      <td>NaN</td>\n",
              "      <td>NaN</td>\n",
              "      <td>NaN</td>\n",
              "      <td>NaN</td>\n",
              "      <td>NaN</td>\n",
              "      <td>2.0</td>\n",
              "    </tr>\n",
              "    <tr>\n",
              "      <th>2</th>\n",
              "      <td>2020</td>\n",
              "      <td>Oct-Dec</td>\n",
              "      <td>1029922</td>\n",
              "      <td>6057065.0</td>\n",
              "      <td>326622</td>\n",
              "      <td>Unknown or Legacy</td>\n",
              "      <td>M</td>\n",
              "      <td>Aged 35 to 44 years</td>\n",
              "      <td>Not a youth</td>\n",
              "      <td>54</td>\n",
              "      <td>...</td>\n",
              "      <td>0.0</td>\n",
              "      <td>0.0</td>\n",
              "      <td>0.0</td>\n",
              "      <td>0.0</td>\n",
              "      <td>NaN</td>\n",
              "      <td>NaN</td>\n",
              "      <td>NaN</td>\n",
              "      <td>NaN</td>\n",
              "      <td>NaN</td>\n",
              "      <td>3.0</td>\n",
              "    </tr>\n",
              "    <tr>\n",
              "      <th>3</th>\n",
              "      <td>2021</td>\n",
              "      <td>Jan-Mar</td>\n",
              "      <td>1052190</td>\n",
              "      <td>6029059.0</td>\n",
              "      <td>327535</td>\n",
              "      <td>Black</td>\n",
              "      <td>M</td>\n",
              "      <td>Aged 25 to 34 years</td>\n",
              "      <td>Not a youth</td>\n",
              "      <td>XX</td>\n",
              "      <td>...</td>\n",
              "      <td>0.0</td>\n",
              "      <td>0.0</td>\n",
              "      <td>0.0</td>\n",
              "      <td>0.0</td>\n",
              "      <td>NaN</td>\n",
              "      <td>NaN</td>\n",
              "      <td>NaN</td>\n",
              "      <td>NaN</td>\n",
              "      <td>NaN</td>\n",
              "      <td>4.0</td>\n",
              "    </tr>\n",
              "    <tr>\n",
              "      <th>4</th>\n",
              "      <td>2021</td>\n",
              "      <td>Jan-Mar</td>\n",
              "      <td>1015512</td>\n",
              "      <td>6040372.0</td>\n",
              "      <td>327535</td>\n",
              "      <td>South Asian</td>\n",
              "      <td>M</td>\n",
              "      <td>Aged 25 to 34 years</td>\n",
              "      <td>Not a youth</td>\n",
              "      <td>XX</td>\n",
              "      <td>...</td>\n",
              "      <td>0.0</td>\n",
              "      <td>0.0</td>\n",
              "      <td>0.0</td>\n",
              "      <td>0.0</td>\n",
              "      <td>NaN</td>\n",
              "      <td>NaN</td>\n",
              "      <td>NaN</td>\n",
              "      <td>NaN</td>\n",
              "      <td>NaN</td>\n",
              "      <td>5.0</td>\n",
              "    </tr>\n",
              "  </tbody>\n",
              "</table>\n",
              "<p>5 rows × 25 columns</p>\n",
              "</div>"
            ],
            "text/plain": [
              "   Arrest_Year Arrest_Month  EventID   ArrestID  PersonID     Perceived_Race  \\\n",
              "0         2020    July-Sept  1005907  6017884.0    326622              White   \n",
              "1         2020    July-Sept  1014562  6056669.0    326622              White   \n",
              "2         2020      Oct-Dec  1029922  6057065.0    326622  Unknown or Legacy   \n",
              "3         2021      Jan-Mar  1052190  6029059.0    327535              Black   \n",
              "4         2021      Jan-Mar  1015512  6040372.0    327535        South Asian   \n",
              "\n",
              "  Sex Age_group__at_arrest_ Youth_at_arrest__under_18_years ArrestLocDiv  ...  \\\n",
              "0   M   Aged 35 to 44 years                     Not a youth           54  ...   \n",
              "1   M   Aged 35 to 44 years                     Not a youth           54  ...   \n",
              "2   M   Aged 35 to 44 years                     Not a youth           54  ...   \n",
              "3   M   Aged 25 to 34 years                     Not a youth           XX  ...   \n",
              "4   M   Aged 25 to 34 years                     Not a youth           XX  ...   \n",
              "\n",
              "   Actions_at_arrest___Resisted__d  Actions_at_arrest___Mental_inst  \\\n",
              "0                              0.0                              0.0   \n",
              "1                              0.0                              0.0   \n",
              "2                              0.0                              0.0   \n",
              "3                              0.0                              0.0   \n",
              "4                              0.0                              0.0   \n",
              "\n",
              "  Actions_at_arrest___Assaulted_o  Actions_at_arrest___Cooperative  \\\n",
              "0                             0.0                              1.0   \n",
              "1                             0.0                              0.0   \n",
              "2                             0.0                              0.0   \n",
              "3                             0.0                              0.0   \n",
              "4                             0.0                              0.0   \n",
              "\n",
              "   SearchReason_CauseInjury  SearchReason_AssistEscape  \\\n",
              "0                       NaN                        NaN   \n",
              "1                       NaN                        NaN   \n",
              "2                       NaN                        NaN   \n",
              "3                       NaN                        NaN   \n",
              "4                       NaN                        NaN   \n",
              "\n",
              "   SearchReason_PossessWeapons  SearchReason_PossessEvidence  ItemsFound  \\\n",
              "0                          NaN                           NaN         NaN   \n",
              "1                          NaN                           NaN         NaN   \n",
              "2                          NaN                           NaN         NaN   \n",
              "3                          NaN                           NaN         NaN   \n",
              "4                          NaN                           NaN         NaN   \n",
              "\n",
              "   ObjectId  \n",
              "0       1.0  \n",
              "1       2.0  \n",
              "2       3.0  \n",
              "3       4.0  \n",
              "4       5.0  \n",
              "\n",
              "[5 rows x 25 columns]"
            ]
          },
          "execution_count": 2,
          "metadata": {},
          "output_type": "execute_result"
        }
      ],
      "source": [
        "# Import the dataset\n",
        "arrest_data = pd.read_csv(\"Arrests_and_Strip_Searches_(RBDC-ARR-TBL-001)(3).csv\")\n",
        "arrest_data.head()"
      ]
    },
    {
      "cell_type": "code",
      "execution_count": null,
      "metadata": {
        "id": "1wFbqzsP9hZH",
        "outputId": "9d2d227f-ed1d-4b02-f41f-ef89a0ad90bd"
      },
      "outputs": [
        {
          "data": {
            "text/plain": [
              "(62016, 25)"
            ]
          },
          "execution_count": 3,
          "metadata": {},
          "output_type": "execute_result"
        }
      ],
      "source": [
        "arrest_data.shape"
      ]
    },
    {
      "cell_type": "code",
      "execution_count": null,
      "metadata": {
        "scrolled": false,
        "id": "RB54Xtg-9hZH",
        "outputId": "77351064-e50f-4edd-e038-5ec294ed7abc"
      },
      "outputs": [
        {
          "name": "stdout",
          "output_type": "stream",
          "text": [
            "<class 'pandas.core.frame.DataFrame'>\n",
            "RangeIndex: 62016 entries, 0 to 62015\n",
            "Data columns (total 25 columns):\n",
            " #   Column                           Non-Null Count  Dtype  \n",
            "---  ------                           --------------  -----  \n",
            " 0   Arrest_Year                      62016 non-null  int64  \n",
            " 1   Arrest_Month                     62016 non-null  object \n",
            " 2   EventID                          62016 non-null  int64  \n",
            " 3   ArrestID                         61547 non-null  float64\n",
            " 4   PersonID                         62016 non-null  int64  \n",
            " 5   Perceived_Race                   62013 non-null  object \n",
            " 6   Sex                              62016 non-null  object \n",
            " 7   Age_group__at_arrest_            61994 non-null  object \n",
            " 8   Youth_at_arrest__under_18_years  62016 non-null  object \n",
            " 9   ArrestLocDiv                     62016 non-null  object \n",
            " 10  StripSearch                      62016 non-null  int64  \n",
            " 11  Booked                           62016 non-null  int64  \n",
            " 12  Occurrence_Category              61888 non-null  object \n",
            " 13  Actions_at_arrest___Concealed_i  62015 non-null  float64\n",
            " 14  Actions_at_arrest___Combative__  62015 non-null  float64\n",
            " 15  Actions_at_arrest___Resisted__d  62015 non-null  float64\n",
            " 16  Actions_at_arrest___Mental_inst  62015 non-null  float64\n",
            " 17  Actions_at_arrest___Assaulted_o  62015 non-null  float64\n",
            " 18  Actions_at_arrest___Cooperative  62015 non-null  float64\n",
            " 19  SearchReason_CauseInjury         7775 non-null   float64\n",
            " 20  SearchReason_AssistEscape        7775 non-null   float64\n",
            " 21  SearchReason_PossessWeapons      7775 non-null   float64\n",
            " 22  SearchReason_PossessEvidence     7775 non-null   float64\n",
            " 23  ItemsFound                       7775 non-null   float64\n",
            " 24  ObjectId                         62015 non-null  float64\n",
            "dtypes: float64(13), int64(5), object(7)\n",
            "memory usage: 11.8+ MB\n"
          ]
        }
      ],
      "source": [
        "arrest_data.info()# Some fields in the data have missing values"
      ]
    },
    {
      "cell_type": "markdown",
      "metadata": {
        "id": "IcgL37wU9hZH"
      },
      "source": [
        "## 2. Data visualization"
      ]
    },
    {
      "cell_type": "markdown",
      "source": [
        "### Subplots"
      ],
      "metadata": {
        "id": "XMm2mHUb9yxu"
      }
    },
    {
      "cell_type": "code",
      "execution_count": null,
      "metadata": {
        "id": "zaEQRD0Y9hZI",
        "outputId": "a96a02c9-77a5-4952-ac69-048d57e13f30"
      },
      "outputs": [
        {
          "data": {
            "image/png": "[encoded data removed]",
            "text/plain": [
              "<Figure size 1152x360 with 2 Axes>"
            ]
          },
          "metadata": {
            "needs_background": "light"
          },
          "output_type": "display_data"
        }
      ],
      "source": [
        "a_year = pd.DataFrame(arrest_data['Arrest_Year'].value_counts())\n",
        "a_month = pd.DataFrame(arrest_data['Arrest_Month'].value_counts())\n",
        "fig, axs = plt.subplots(1, 2, figsize=(16, 5))\n",
        "axs[0].bar(a_year.index, a_year['Arrest_Year'].values,color='lightpink')\n",
        "axs[0].set_title('Arrest_Year')\n",
        "axs[0].set_xlabel('Year')\n",
        "axs[0].set_ylabel('value')\n",
        "axs[1].bar(a_month.index, a_month['Arrest_Month'],color='lightblue')\n",
        "axs[1].set_title('Arrest_Month')\n",
        "axs[1].set_xlabel('Month')\n",
        "axs[1].set_ylabel('value')\n",
        "plt.savefig('figure1.jpg')\n",
        "plt.show();"
      ]
    },
    {
      "cell_type": "markdown",
      "source": [
        "### pie chart"
      ],
      "metadata": {
        "id": "3s91lQKH91lg"
      }
    },
    {
      "cell_type": "code",
      "execution_count": null,
      "metadata": {
        "id": "56txItUD9hZI",
        "outputId": "728faed7-d3c2-45dc-932d-282894b237d8"
      },
      "outputs": [
        {
          "data": {
            "image/png": "[encoded data removed]",
            "text/plain": [
              "<Figure size 576x432 with 1 Axes>"
            ]
          },
          "metadata": {},
          "output_type": "display_data"
        }
      ],
      "source": [
        "plt.figure(figsize=(8, 6))\n",
        "a_sex = pd.DataFrame(arrest_data['Sex'].value_counts())\n",
        "labels =a_sex.index\n",
        "data = a_sex['Sex'].values \n",
        "explode = [0.2, 0, 0] \n",
        "plt.pie(data, labels= labels, autopct='%0.2f%%',explode= explode,shadow=True)\n",
        "plt.savefig('figure2.pdf')"
      ]
    },
    {
      "cell_type": "code",
      "execution_count": null,
      "metadata": {
        "id": "Q6xHH0rD9hZI",
        "outputId": "7fbf5f7c-be8c-4cbf-d4f0-260b4a14d34a"
      },
      "outputs": [
        {
          "data": {
            "image/png": "[encoded data removed]",
            "text/plain": [
              "<Figure size 1440x576 with 2 Axes>"
            ]
          },
          "metadata": {
            "needs_background": "light"
          },
          "output_type": "display_data"
        }
      ],
      "source": [
        "arrest_data['Age'] = np.where(arrest_data['Age_group__at_arrest_'] == 'Aged 17 years and under', '17 and younger',\n",
        "         np.where(arrest_data['Age_group__at_arrest_'] == 'Aged 17 years and younger', '17 and younger',\n",
        "         np.where(arrest_data['Age_group__at_arrest_'] == 'Aged 18 to 24 years', '18 - 24',\n",
        "         np.where(arrest_data['Age_group__at_arrest_'] == 'Aged 25 to 34 years', '25 - 34',\n",
        "         np.where(arrest_data['Age_group__at_arrest_'] == 'Aged 35 to 44 years', '35 - 44',\n",
        "         np.where(arrest_data['Age_group__at_arrest_'] == 'Aged 45 to 54 years', '45 - 54',\n",
        "         np.where(arrest_data['Age_group__at_arrest_'] == 'Aged 55 to 64 years', '55 - 64',\n",
        "         np.where(arrest_data['Age_group__at_arrest_'] == 'Aged 65 and older', '65 and older',\n",
        "         np.where(arrest_data['Age_group__at_arrest_'] == 'Aged 65 years and older', '65 and older','')))))))))\n",
        "a_age = pd.DataFrame(arrest_data['Age'].value_counts())\n",
        "\n",
        "arrest_data['youth'] = np.where(arrest_data['Youth_at_arrest__under_18_years'] == 'Not a youth', 'Adult',\n",
        "        np.where(arrest_data['Youth_at_arrest__under_18_years'] == 'Youth (aged 17 and younger)', 'Youth',\n",
        "        np.where(arrest_data['Youth_at_arrest__under_18_years'] == 'Youth (aged 17 years and under)', 'Youth','')))\n",
        "a_youth = pd.DataFrame(arrest_data['youth'].value_counts())\n",
        "\n",
        "fig, axs = plt.subplots(1, 2, figsize=(20, 8))\n",
        "axs[0].barh(a_age.index, a_age['Age'].values,color='yellow')\n",
        "axs[0].set_title('Age_group__at_arrest_')\n",
        "axs[0].set_xlabel('value')\n",
        "axs[0].set_ylabel('Age')\n",
        "axs[1].bar(a_youth.index, a_youth['youth'],color='lightgreen')\n",
        "axs[1].set_title('Youth_at_arrest__under_18_years')\n",
        "axs[1].set_xlabel('Youth')\n",
        "axs[1].set_ylabel('value')\n",
        "plt.savefig('figure3.pdf')\n",
        "plt.show();"
      ]
    },
    {
      "cell_type": "code",
      "execution_count": null,
      "metadata": {
        "id": "0_5ZV7eJ9hZJ",
        "outputId": "e9540fa2-4ac9-4d71-e06c-3bea981c2476"
      },
      "outputs": [
        {
          "data": {
            "image/png": "[encoded data removed]",
            "text/plain": [
              "<Figure size 1008x360 with 1 Axes>"
            ]
          },
          "metadata": {
            "needs_background": "light"
          },
          "output_type": "display_data"
        }
      ],
      "source": [
        "plt.figure(figsize=(14, 5))\n",
        "a_race = pd.DataFrame(arrest_data['Perceived_Race'].value_counts())\n",
        "plt.barh(a_race.index, a_race['Perceived_Race'].values,color='orange')\n",
        "plt.xlabel('value')\n",
        "plt.ylabel('Perceived_Race')\n",
        "plt.savefig('figure4.pdf')\n",
        "plt.show();"
      ]
    },
    {
      "cell_type": "code",
      "execution_count": null,
      "metadata": {
        "id": "WZv2xXdb9hZJ",
        "outputId": "ff021a2b-1bf3-4a82-8c72-ca9242df183a"
      },
      "outputs": [
        {
          "data": {
            "image/png": "[encoded data removed]",
            "text/plain": [
              "<Figure size 2160x576 with 1 Axes>"
            ]
          },
          "metadata": {
            "needs_background": "light"
          },
          "output_type": "display_data"
        }
      ],
      "source": [
        "# Check the distribution of Occurrence_Category \n",
        "plt.figure(figsize=(30, 8))\n",
        "sns.countplot(y=\"Occurrence_Category\", data = arrest_data, orient='h')\n",
        "plt.title(\"Count of occurance\")\n",
        "plt.savefig('figure5.pdf')\n",
        "plt.show();"
      ]
    },
    {
      "cell_type": "code",
      "execution_count": null,
      "metadata": {
        "id": "2cfIbIVx9hZJ",
        "outputId": "689a9229-3e68-446a-bbf8-7a87b9dafe42"
      },
      "outputs": [
        {
          "data": {
            "image/png": "[encoded data removed]",
            "text/plain": [
              "<Figure size 1440x1080 with 4 Axes>"
            ]
          },
          "metadata": {
            "needs_background": "light"
          },
          "output_type": "display_data"
        }
      ],
      "source": [
        "a_cauesinjury = pd.DataFrame(arrest_data['SearchReason_CauseInjury'].value_counts())\n",
        "a_SearchReason_AssistEscape = pd.DataFrame(arrest_data['SearchReason_AssistEscape'].value_counts())\n",
        "a_SearchReason_PossessWeapons = pd.DataFrame(arrest_data['SearchReason_PossessWeapons'].value_counts())\n",
        "a_SearchReason_PossessEvidence = pd.DataFrame(arrest_data['SearchReason_PossessEvidence'].value_counts())\n",
        "\n",
        "fig, axs = plt.subplots(2, 2, figsize=(20, 15))\n",
        "axs[0][0].bar(a_cauesinjury.index, a_cauesinjury['SearchReason_CauseInjury'].values,color='green')\n",
        "axs[0][0].set_title('SearchReason_CauseInjury')\n",
        "axs[0][0].set_xlabel('SearchReason_CauseInjury')\n",
        "axs[0][0].set_ylabel('value')\n",
        "\n",
        "axs[0][1].bar(a_SearchReason_AssistEscape.index, a_SearchReason_AssistEscape['SearchReason_AssistEscape'].values,color='green')\n",
        "axs[0][1].set_title('SearchReason_AssistEscape')\n",
        "axs[0][1].set_xlabel('SearchReason_AssistEscape')\n",
        "axs[0][1].set_ylabel('value')\n",
        "\n",
        "axs[1][0].bar(a_SearchReason_PossessWeapons.index, a_SearchReason_PossessWeapons['SearchReason_PossessWeapons'].values,color='green')\n",
        "axs[1][0].set_title('SearchReason_PossessWeaponsy')\n",
        "axs[1][0].set_xlabel('SearchReason_PossessWeapons')\n",
        "axs[1][0].set_ylabel('value')\n",
        "\n",
        "axs[1][1].bar(a_SearchReason_PossessEvidence.index, a_SearchReason_PossessEvidence['SearchReason_PossessEvidence'].values,color='green')\n",
        "axs[1][1].set_title('SearchReason_PossessEvidence')\n",
        "axs[1][1].set_xlabel('SearchReason_PossessEvidence')\n",
        "axs[1][1].set_ylabel('value')\n",
        "plt.savefig('figure6.pdf')\n",
        "plt.show();"
      ]
    },
    {
      "cell_type": "code",
      "execution_count": null,
      "metadata": {
        "id": "mtDVlf2e9hZK",
        "outputId": "b91882f9-f443-4781-e7cc-0fd00b574cee"
      },
      "outputs": [
        {
          "data": {
            "image/png": "[encoded data removed]",
            "text/plain": [
              "<Figure size 576x432 with 1 Axes>"
            ]
          },
          "metadata": {
            "needs_background": "light"
          },
          "output_type": "display_data"
        }
      ],
      "source": [
        "a_StripSearch = pd.DataFrame(arrest_data['StripSearch'].value_counts())\n",
        "a_Booked = pd.DataFrame(arrest_data['Booked'].value_counts())\n",
        "x=[0,1]\n",
        "plt.figure(figsize=(8, 6))\n",
        "plt.bar(x, a_StripSearch['StripSearch'].values,color='orange',alpha=0.6,label='StripSearch')\n",
        "plt.bar(x, a_Booked['Booked'].values,color='green',alpha=0.3,bottom=a_StripSearch['StripSearch'].values,label='Booked')\n",
        "plt.xlabel('StripSearch-Booked')\n",
        "plt.ylabel('value')\n",
        "plt.legend(title='StripSearch-Booked ')\n",
        "plt.savefig('figure7.pdf')\n",
        "plt.show();"
      ]
    },
    {
      "cell_type": "code",
      "execution_count": null,
      "metadata": {
        "id": "HjSaMj1K9hZK",
        "outputId": "cf6b8f4b-bcb2-4327-b856-961b3cae8491"
      },
      "outputs": [
        {
          "data": {
            "image/png": "[encoded data removed]",
            "text/plain": [
              "<Figure size 1008x432 with 1 Axes>"
            ]
          },
          "metadata": {
            "needs_background": "light"
          },
          "output_type": "display_data"
        }
      ],
      "source": [
        "group1 = arrest_data.groupby(['Age', 'Perceived_Race'])['StripSearch'].count().reset_index()\n",
        "fig, ax = plt.subplots(figsize=(14, 6))\n",
        "sns.barplot(x='Age', y='StripSearch', hue='Perceived_Race', data=group1, ax=ax)\n",
        "plt.xlabel('Race')\n",
        "plt.ylabel('Count of Strip Search')\n",
        "plt.title('Count of Strip Search by Race and Age Group')\n",
        "plt.legend(title='Age Group', loc='upper left', bbox_to_anchor=(1.05, 1))\n",
        "plt.savefig('figure8.pdf')\n",
        "plt.show();"
      ]
    },
    {
      "cell_type": "code",
      "execution_count": null,
      "metadata": {
        "id": "5GEyh0Ds9hZK",
        "outputId": "ac5f7080-3a2c-4b6b-a2a2-706bf52244cc"
      },
      "outputs": [
        {
          "data": {
            "image/png": "[encoded data removed]",
            "text/plain": [
              "<Figure size 1440x432 with 2 Axes>"
            ]
          },
          "metadata": {
            "needs_background": "light"
          },
          "output_type": "display_data"
        }
      ],
      "source": [
        "fig, ax = plt.subplots(figsize=(20, 6))\n",
        "# Create a pivot table of the occurrence category and perceived race\n",
        "pivot_table = pd.pivot_table(arrest_data, values='ObjectId', index='Occurrence_Category', columns='Perceived_Race', aggfunc='count')\n",
        "# xCreate the heatmap\n",
        "sns.heatmap(pivot_table, cmap='YlGnBu')\n",
        "plt.title('Heatmap of Occurrence Category and Perceived Race')\n",
        "plt.savefig('figure9.pdf')\n",
        "plt.show();"
      ]
    },
    {
      "cell_type": "markdown",
      "metadata": {
        "id": "sXDxCc1u9hZK"
      },
      "source": [
        "#Power analysis"
      ]
    },
    {
      "cell_type": "code",
      "execution_count": null,
      "metadata": {
        "id": "mjUiqF5d9hZL",
        "outputId": "5b2516c0-9c14-4457-88c7-eb2525fcde32"
      },
      "outputs": [
        {
          "name": "stdout",
          "output_type": "stream",
          "text": [
            "Sample Size: 25.525\n"
          ]
        }
      ],
      "source": [
        "effect = 0.8\n",
        "alpha = 0.05\n",
        "power = 0.8\n",
        "# perform power analysis\n",
        "analysis = TTestIndPower()\n",
        "result = analysis.solve_power(effect, power=power, nobs1=None, ratio=1.0, alpha=alpha)\n",
        "print('Sample Size: %.3f' % result)"
      ]
    },
    {
      "cell_type": "code",
      "execution_count": null,
      "metadata": {
        "id": "PDIov9Vh9hZL",
        "outputId": "14f10343-bbd0-43e5-9db0-e7256b329f01"
      },
      "outputs": [
        {
          "data": {
            "text/plain": [
              "1.0"
            ]
          },
          "execution_count": 91,
          "metadata": {},
          "output_type": "execute_result"
        }
      ],
      "source": [
        "effect_sizes = np.linspace(0.1, 1.0, num=50)  # Effect size\n",
        "alpha = 0.05  # Significance level\n",
        "power = 0.8  # efficacy\n",
        "ratio = 1  # Sample ratio\n",
        "nobs = 100  # \n",
        "smp.tt_ind_solve_power(effect_size=effect_size, alpha=alpha, nobs1=nobs, ratio=ratio)"
      ]
    },
    {
      "cell_type": "code",
      "execution_count": null,
      "metadata": {
        "id": "yECn6KH-9hZL",
        "outputId": "6dd27902-c9d2-4228-8a02-4a809d1597c4"
      },
      "outputs": [
        {
          "data": {
            "image/png": "[encoded data removed]",
            "text/plain": [
              "<Figure size 432x288 with 1 Axes>"
            ]
          },
          "metadata": {
            "needs_background": "light"
          },
          "output_type": "display_data"
        }
      ],
      "source": [
        "# Set parameters\n",
        "effect_sizes = np.linspace(0.1, 1.0, num=50)  # Effect size\n",
        "alpha = 0.05  # Significance level\n",
        "power = 0.8  # efficacy\n",
        "ratio = 1  # Sample ratio\n",
        "nobs = 100  # n\n",
        "\n",
        "# Computational statistical efficacy\n",
        "powers = []\n",
        "for effect_size in effect_sizes:\n",
        "    power = smp.tt_ind_solve_power(effect_size=effect_size, alpha=alpha, nobs1=nobs, ratio=ratio)\n",
        "    powers.append(power)\n",
        "\n",
        "# Power drawing\n",
        "plt.plot(effect_sizes, powers)\n",
        "plt.xlabel(\"Effect Size\")\n",
        "plt.ylabel(\"Power\")\n",
        "plt.title(f\"Power Curve (Sample Size = {nobs}, alpha = {alpha})\")\n",
        "plt.show()"
      ]
    },
    {
      "cell_type": "markdown",
      "metadata": {
        "id": "5N0qqceN9hZL"
      },
      "source": [
        "#T-tests"
      ]
    },
    {
      "cell_type": "code",
      "execution_count": null,
      "metadata": {
        "id": "YBi7TftX9hZL",
        "outputId": "74bd8d46-4240-4012-f546-42da64354968"
      },
      "outputs": [
        {
          "name": "stdout",
          "output_type": "stream",
          "text": [
            "T-statistic: 6.446590183840917\n",
            "P-value: 1.1523178633860255e-10\n",
            "Group 1: Mean = 0.12956055135544872, SD = 0.33581931881272087, Size = 50131\n",
            "Group 2: Mean = 0.10778039744021556, SD = 0.31010285933519044, Size = 11876\n"
          ]
        }
      ],
      "source": [
        "#Whether the number of strip searches by men and women is significant？\n",
        "group1=arrest_data[arrest_data['Sex']=='M']['StripSearch']\n",
        "group2=arrest_data[arrest_data['Sex']=='F']['StripSearch']\n",
        "\n",
        "group1_mean = np.mean(group1)\n",
        "group1_sd = np.std(group1)\n",
        "group1_size = len(group1)\n",
        "group2_mean = np.mean(group2)\n",
        "group2_sd = np.std(group2)\n",
        "group2_size = len(group2)\n",
        "\n",
        "t_statistic, p_value = ttest_ind(group1, group2)\n",
        "print('T-statistic:', t_statistic)\n",
        "print('P-value:', p_value)\n",
        "print('Group 1: Mean = {}, SD = {}, Size = {}'.format(group1_mean, group1_sd, group1_size))\n",
        "print('Group 2: Mean = {}, SD = {}, Size = {}'.format(group2_mean, group2_sd, group2_size))"
      ]
    },
    {
      "cell_type": "code",
      "execution_count": null,
      "metadata": {
        "id": "MRPkPps_9hZM",
        "outputId": "2a09c04d-0013-4225-d668-f1e77e4aafcd"
      },
      "outputs": [
        {
          "name": "stdout",
          "output_type": "stream",
          "text": [
            "T-statistic: -2.8900270963262384\n",
            "P-value: 0.0038539930100923584\n",
            "Group 3: Mean = 0.1339981185324553, SD = 0.340650293941219, Size = 26575\n",
            "Group 4: Mean = 0.1438063597532036, SD = 0.35089327529569464, Size = 16856\n"
          ]
        }
      ],
      "source": [
        "#Is there a significant difference in the mean value of number of strip search between White community and black community?\n",
        "group3=arrest_data[arrest_data['Perceived_Race']=='White']['StripSearch']\n",
        "group4=arrest_data[arrest_data['Perceived_Race']=='Black']['StripSearch']\n",
        "\n",
        "group3_mean = np.mean(group3)\n",
        "group3_sd = np.std(group3)\n",
        "group3_size = len(group3)\n",
        "group4_mean = np.mean(group4)\n",
        "group4_sd = np.std(group4)\n",
        "group4_size = len(group4)\n",
        "\n",
        "t_statistic, p_value = ttest_ind(group3, group4)\n",
        "print('T-statistic:', t_statistic)\n",
        "print('P-value:', p_value)\n",
        "print('Group 3: Mean = {}, SD = {}, Size = {}'.format(group3_mean, group3_sd, group3_size))\n",
        "print('Group 4: Mean = {}, SD = {}, Size = {}'.format(group4_mean, group4_sd, group4_size))"
      ]
    },
    {
      "cell_type": "code",
      "execution_count": null,
      "metadata": {
        "id": "eXu7LaW-9hZM",
        "outputId": "e4f58a22-3d6d-4ef0-9da9-eede0df3ff41"
      },
      "outputs": [
        {
          "name": "stdout",
          "output_type": "stream",
          "text": [
            "T-statistic: 3.670495437191244\n",
            "P-value: 0.00024228367944872597\n",
            "Group 4: Mean = 0.12641429896298795, SD = 0.3323156992692329, Size = 59305\n",
            "Group 5: Mean = 0.10254518627812616, SD = 0.30336392509542875, Size = 2711\n"
          ]
        }
      ],
      "source": [
        "#Age and strip search times\n",
        "group5=arrest_data[arrest_data['youth']=='Adult']['StripSearch']\n",
        "group6=arrest_data[arrest_data['youth']=='Youth']['StripSearch']\n",
        "\n",
        "group5_mean = np.mean(group5)\n",
        "group5_sd = np.std(group5)\n",
        "group5_size = len(group5)\n",
        "group6_mean = np.mean(group6)\n",
        "group6_sd = np.std(group6)\n",
        "group6_size = len(group6)\n",
        "\n",
        "t_statistic, p_value = ttest_ind(group5, group6)\n",
        "print('T-statistic:', t_statistic)\n",
        "print('P-value:', p_value)\n",
        "print('Group 4: Mean = {}, SD = {}, Size = {}'.format(group5_mean, group5_sd, group5_size))\n",
        "print('Group 5: Mean = {}, SD = {}, Size = {}'.format(group6_mean, group6_sd, group6_size))\n"
      ]
    },
    {
      "cell_type": "code",
      "execution_count": null,
      "metadata": {
        "id": "KBAANaSl9hZM",
        "outputId": "bfaf00bf-1911-4085-9720-967cb7607e32"
      },
      "outputs": [
        {
          "name": "stdout",
          "output_type": "stream",
          "text": [
            "t-statistic: 3.161456364319633\n",
            "p-value: 0.050060141193014475\n"
          ]
        }
      ],
      "source": [
        "#Year of arrest and number of strip searches\n",
        "time_StripSearch = arrest_data.groupby(['Arrest_Year','Arrest_Month'])['StripSearch'].sum().reset_index()\n",
        "time_StripSearch = time_StripSearch.rename(columns={'StripSearch' : 'Time_StripSearch' })\n",
        "\n",
        "#define year sample\n",
        "arrests_2020 = time_StripSearch[time_StripSearch['Arrest_Year'] == 2020]['Time_StripSearch']\n",
        "arrests_2021 = time_StripSearch[time_StripSearch['Arrest_Year'] == 2021]['Time_StripSearch']\n",
        "\n",
        "#t test \n",
        "t_statistic, p_value = ttest_ind(arrests_2020, arrests_2021, equal_var=False)\n",
        "print(\"t-statistic:\", t_statistic)\n",
        "print(\"p-value:\", p_value)"
      ]
    },
    {
      "cell_type": "code",
      "execution_count": null,
      "metadata": {
        "id": "7zOvti3F9hZM"
      },
      "outputs": [],
      "source": [
        "count = arrest_data.groupby(\"PersonID\")[\"PersonID\"].transform(\"count\")\n",
        "arrest_data[\"num_arrests\"] = count"
      ]
    },
    {
      "cell_type": "code",
      "execution_count": null,
      "metadata": {
        "id": "K3uZ8Ns59hZM",
        "outputId": "c45d5303-6841-42b0-ee84-4d7cdb659204"
      },
      "outputs": [
        {
          "name": "stdout",
          "output_type": "stream",
          "text": [
            "t-statistic:  -14.591022696277948\n",
            "p-value:  3.8508249516847134e-48\n"
          ]
        }
      ],
      "source": [
        "grouped = arrest_data.groupby(\"youth\")[\"num_arrests\"]\n",
        "youth_arrests = grouped.get_group(\"Youth\").values\n",
        "adult_arrests = grouped.get_group(\"Adult\").values\n",
        "# Whether there is a significant difference in mean numbers of crime committed between youth and adult\n",
        "t_statistic, p_value = stats.ttest_ind(youth_arrests, adult_arrests)\n",
        "# Print the results\n",
        "print(\"t-statistic: \", t_statistic)\n",
        "print(\"p-value: \", p_value)"
      ]
    },
    {
      "cell_type": "code",
      "execution_count": null,
      "metadata": {
        "id": "2w0ybVPg9hZN",
        "outputId": "e557394d-5a67-4464-e902-a14ac8390373"
      },
      "outputs": [
        {
          "name": "stdout",
          "output_type": "stream",
          "text": [
            "t-statistic:  4.4720930386985644\n",
            "p-value:  7.759499175303651e-06\n"
          ]
        }
      ],
      "source": [
        "# Create a new column indicating whether each person is Male or Female\n",
        "arrest_data.loc[arrest_data['Sex'] == 'M', 'Gender'] = 'Male'\n",
        "arrest_data.loc[arrest_data['Sex'] == 'F', 'Gender'] = 'Female'\n",
        "grouped_1 = arrest_data.groupby(\"Gender\")[\"num_arrests\"]\n",
        "Male_arrests = grouped_1.get_group(\"Male\").values\n",
        "Female_arrests = grouped_1.get_group(\"Female\").values\n",
        "# Whether there is a significant difference in mean numbers of crime committed between male and female\n",
        "t_statistic, p_value = stats.ttest_ind(Male_arrests, Female_arrests)\n",
        "# Print the results\n",
        "print(\"t-statistic: \", t_statistic)\n",
        "print(\"p-value: \", p_value)"
      ]
    },
    {
      "cell_type": "code",
      "execution_count": null,
      "metadata": {
        "id": "1-LnL2oO9hZN",
        "outputId": "1426f614-1cd5-41cb-bb0f-61b8252cd216"
      },
      "outputs": [
        {
          "name": "stdout",
          "output_type": "stream",
          "text": [
            "t-statistic:  12.836943963215536\n",
            "p-value:  1.1921956337625876e-37\n"
          ]
        }
      ],
      "source": [
        "white=arrest_data[arrest_data['Perceived_Race']=='White']['num_arrests']\n",
        "black=arrest_data[arrest_data['Perceived_Race']=='Black']['num_arrests']\n",
        "white_arrests = white.values\n",
        "black_arrests = black.values\n",
        "t_statistic, p_value = stats.ttest_ind(white_arrests, black_arrests)\n",
        "# Print the results\n",
        "print(\"t-statistic: \", t_statistic)\n",
        "print(\"p-value: \", p_value)"
      ]
    },
    {
      "cell_type": "code",
      "execution_count": null,
      "metadata": {
        "id": "JIK2GU8O9hZN",
        "outputId": "f0ca8546-9796-477e-af4b-96c8f469946c"
      },
      "outputs": [
        {
          "name": "stdout",
          "output_type": "stream",
          "text": [
            "t-statistic:  -6.373937867488679\n",
            "p-value:  1.8552481801510414e-10\n"
          ]
        }
      ],
      "source": [
        "arrest_2020=arrest_data[arrest_data['Arrest_Year']==2020]['num_arrests']\n",
        "arrest_2021=arrest_data[arrest_data['Arrest_Year']==2021]['num_arrests']\n",
        "t_statistic, p_value = stats.ttest_ind(arrest_2020.values, arrest_2021.values)\n",
        "# Print the results\n",
        "print(\"t-statistic: \", t_statistic)\n",
        "print(\"p-value: \", p_value)"
      ]
    },
    {
      "cell_type": "markdown",
      "metadata": {
        "id": "CDmZzu7Z9hZN"
      },
      "source": [
        "#Chi-square test"
      ]
    },
    {
      "cell_type": "code",
      "execution_count": null,
      "metadata": {
        "id": "UpzxSQRE9hZN",
        "outputId": "3b5555e7-117a-477d-a739-7928ea0d3e83"
      },
      "outputs": [
        {
          "name": "stdout",
          "output_type": "stream",
          "text": [
            "Chi-square statistic: 328.9831226135833\n",
            "P-value: 3.869152263257977e-67\n",
            "There is a significant association between Perceived_Race and strip searches.\n"
          ]
        }
      ],
      "source": [
        "# Chi-square test for independence between strip searches and race\n",
        "contingency_table = pd.crosstab(arrest_data['Perceived_Race'],arrest_data['StripSearch'])\n",
        "chi2, p_value, dof, expected = chi2_contingency(contingency_table)\n",
        "print('Chi-square statistic:', chi2)\n",
        "print('P-value:', p_value)\n",
        "if p_value < 0.05:\n",
        "    print('There is a significant association between Perceived_Race and strip searches.')\n",
        "else:\n",
        "    print('There is no significant association between Perceived_Race and strip searches.')"
      ]
    },
    {
      "cell_type": "code",
      "execution_count": null,
      "metadata": {
        "id": "bTYmwYkY9hZN",
        "outputId": "5f30a8db-06f0-4da0-d5b8-26ee8c7d4241"
      },
      "outputs": [
        {
          "name": "stdout",
          "output_type": "stream",
          "text": [
            "Chi-square statistic: 13.253245742380752\n",
            "P-value: 0.0002721083104375059\n",
            "There is a significant association between youth and strip searches.\n"
          ]
        }
      ],
      "source": [
        "# Chi-square test for independence between strip searches and age\n",
        "contingency_table = pd.crosstab(arrest_data['youth'],arrest_data['StripSearch'])\n",
        "chi2, p_value, dof, expected = chi2_contingency(contingency_table)\n",
        "print('Chi-square statistic:', chi2)\n",
        "print('P-value:', p_value)\n",
        "if p_value < 0.05:\n",
        "    print('There is a significant association between youth and strip searches.')\n",
        "else:\n",
        "    print('There is no significant association between youth and strip searches.')"
      ]
    },
    {
      "cell_type": "code",
      "execution_count": null,
      "metadata": {
        "id": "l1KJkCw09hZO",
        "outputId": "5bbb2d99-3096-48ca-b92a-eb1b45b36320"
      },
      "outputs": [
        {
          "name": "stdout",
          "output_type": "stream",
          "text": [
            "Chi-square statistic: 42.82745583444972\n",
            "P-value: 5.013443541959564e-10\n",
            "There is a significant association between Sex and strip searches.\n"
          ]
        }
      ],
      "source": [
        "# Chi-square test for independence between strip searches and sex\n",
        "contingency_table = pd.crosstab(arrest_data['Sex'],arrest_data['StripSearch'])\n",
        "chi2, p_value, dof, expected = chi2_contingency(contingency_table)\n",
        "print('Chi-square statistic:', chi2)\n",
        "print('P-value:', p_value)\n",
        "if p_value < 0.05:\n",
        "    print('There is a significant association between Sex and strip searches.')\n",
        "else:\n",
        "    print('There is no significant association between Sex and strip searches.')"
      ]
    },
    {
      "cell_type": "code",
      "execution_count": null,
      "metadata": {
        "id": "lK-9WaVE9hZO",
        "outputId": "36e6a5b6-984e-47d2-f153-19afb0aa2d73"
      },
      "outputs": [
        {
          "name": "stdout",
          "output_type": "stream",
          "text": [
            "Chi-square statistic: 5677.97175710852\n",
            "P-value: 0.0\n",
            "There is a significant association between Arrest_Year and strip searches.\n"
          ]
        }
      ],
      "source": [
        "# Chi-square test for independence between strip searches and year\n",
        "contingency_table = pd.crosstab(arrest_data['Arrest_Year'],arrest_data['StripSearch'])\n",
        "chi2, p_value, dof, expected = chi2_contingency(contingency_table)\n",
        "print('Chi-square statistic:', chi2)\n",
        "print('P-value:', p_value)\n",
        "if p_value < 0.05:\n",
        "    print('There is a significant association between Arrest_Year and strip searches.')\n",
        "else:\n",
        "    print('There is no significant association between Arrest_Year and strip searches.')"
      ]
    },
    {
      "cell_type": "markdown",
      "metadata": {
        "id": "jelj1XFK9hZO"
      },
      "source": [
        "# Analysis of variance"
      ]
    },
    {
      "cell_type": "code",
      "execution_count": null,
      "metadata": {
        "id": "s370fJmB9hZO",
        "outputId": "acd4e5d1-b249-4b62-b6fc-e8661e6e225e"
      },
      "outputs": [
        {
          "name": "stdout",
          "output_type": "stream",
          "text": [
            "One-way ANOVA: s = 23.755534633648615, p = 4.8813834981608474e-11\n",
            "One-way ANOVA: s = 57.539339045137794, p = 1.4847142771028573e-25\n",
            "One-way ANOVA: s = 58.01250190468715, p = 7.109345765418521e-26\n"
          ]
        }
      ],
      "source": [
        "#1-way ANOVA\n",
        "# Create a new variable that contain race and police encounters\n",
        "whitep = arrest_data[arrest_data['Perceived_Race']=='White']['StripSearch']\n",
        "blackp = arrest_data[arrest_data['Perceived_Race']=='Black']['StripSearch']\n",
        "indigp = arrest_data[arrest_data['Perceived_Race']== 'Indigenous']['StripSearch']\n",
        "SEAp = arrest_data[arrest_data['Perceived_Race']== 'East/Southeast Asian']['StripSearch']\n",
        "Latinop = arrest_data[arrest_data['Perceived_Race']== 'Latino']['StripSearch']\n",
        "MidEp = arrest_data[arrest_data['Perceived_Race']== 'Middle-Eastern']['StripSearch']\n",
        "SAp = arrest_data[arrest_data['Perceived_Race']== 'South Asian']['StripSearch']\n",
        "# Do Anova\n",
        "statistic, pvalue = f_oneway(whitep, blackp, Latinop)\n",
        "# Perform one-way ANOVA on the white black and lation data to prove this works\n",
        "print(f'One-way ANOVA: s = {statistic}, p = {pvalue}')\n",
        "# 1 way ANOVAs indig SEA and MidEast\n",
        "# Do Anova\n",
        "statistic2, pvalue2 = f_oneway(indigp, SEAp, MidEp)\n",
        "print(f'One-way ANOVA: s = {statistic2}, p = {pvalue2}')\n",
        "statistic3, pvalue3 = f_oneway(whitep, Latinop, SAp)\n",
        "print(f'One-way ANOVA: s = {statistic3}, p = {pvalue3}')"
      ]
    },
    {
      "cell_type": "code",
      "execution_count": null,
      "metadata": {
        "id": "1evz9Z_N9hZO",
        "outputId": "86b124d9-d6b3-4021-adec-3ebf9c72d73d"
      },
      "outputs": [
        {
          "name": "stdout",
          "output_type": "stream",
          "text": [
            "One-way ANOVA: s = 41.55852499839409, p = 1.1523178633895922e-10\n"
          ]
        }
      ],
      "source": [
        "group1=arrest_data[arrest_data['Sex']=='M']['StripSearch']\n",
        "group2=arrest_data[arrest_data['Sex']=='F']['StripSearch']\n",
        "statistic, pvalue = f_oneway(group1, group2)\n",
        "print(f'One-way ANOVA: s = {statistic}, p = {pvalue}')"
      ]
    },
    {
      "cell_type": "code",
      "execution_count": null,
      "metadata": {
        "id": "b2NyR_ic9hZP",
        "outputId": "e96b05e2-9645-4828-cffa-a5e8fa9a5381"
      },
      "outputs": [
        {
          "name": "stdout",
          "output_type": "stream",
          "text": [
            "One-way ANOVA: s = 13.472536754441743, p = 0.00024228367943354386\n"
          ]
        }
      ],
      "source": [
        "group5=arrest_data[arrest_data['youth']=='Adult']['StripSearch']\n",
        "group6=arrest_data[arrest_data['youth']=='Youth']['StripSearch']\n",
        "statistic, pvalue = f_oneway(group5, group6)\n",
        "print(f'One-way ANOVA: s = {statistic}, p = {pvalue}')"
      ]
    },
    {
      "cell_type": "code",
      "execution_count": null,
      "metadata": {
        "id": "fTruVzqL9hZP",
        "outputId": "bb3bad3a-b5e4-45d0-dee9-8f22f0512a28"
      },
      "outputs": [
        {
          "name": "stdout",
          "output_type": "stream",
          "text": [
            "One-way ANOVA: s = 212.89794332329828, p = 3.850824951462144e-48\n"
          ]
        }
      ],
      "source": [
        "groupa=arrest_data[arrest_data['youth']=='Adult']['num_arrests']\n",
        "groupb=arrest_data[arrest_data['youth']=='Youth']['num_arrests']\n",
        "statistic, pvalue = f_oneway(groupa, groupb)\n",
        "print(f'One-way ANOVA: s = {statistic}, p = {pvalue}')"
      ]
    },
    {
      "cell_type": "code",
      "execution_count": null,
      "metadata": {
        "id": "NsIkeo4u9hZP",
        "outputId": "89a8916f-9c6e-4ad6-f0e2-1af3f67bb469"
      },
      "outputs": [
        {
          "name": "stdout",
          "output_type": "stream",
          "text": [
            "One-way ANOVA: s = 19.999616146776184, p = 7.759499175291217e-06\n"
          ]
        }
      ],
      "source": [
        "groupa=arrest_data[arrest_data['Sex']=='M']['num_arrests']\n",
        "groupb=arrest_data[arrest_data['Sex']=='F']['num_arrests']\n",
        "statistic, pvalue = f_oneway(groupa, groupb)\n",
        "print(f'One-way ANOVA: s = {statistic}, p = {pvalue}')"
      ]
    },
    {
      "cell_type": "code",
      "execution_count": null,
      "metadata": {
        "id": "1biOBODW9hZP",
        "outputId": "7c051128-d119-4252-fd1f-5381200d0ed9"
      },
      "outputs": [
        {
          "name": "stdout",
          "output_type": "stream",
          "text": [
            "One-way ANOVA: s = 164.7871303147358, p = 1.1921956337483094e-37\n"
          ]
        }
      ],
      "source": [
        "white=arrest_data[arrest_data['Perceived_Race']=='White']['num_arrests']\n",
        "black=arrest_data[arrest_data['Perceived_Race']=='Black']['num_arrests']\n",
        "statistic, pvalue = f_oneway(white, black)\n",
        "print(f'One-way ANOVA: s = {statistic}, p = {pvalue}')"
      ]
    },
    {
      "cell_type": "code",
      "execution_count": null,
      "metadata": {
        "id": "QxoV8Fnn9hZP",
        "outputId": "1ef7468e-1aab-431e-ea49-ec2c5146aca6"
      },
      "outputs": [
        {
          "name": "stdout",
          "output_type": "stream",
          "text": [
            "                                 sum_sq       df          F        PR(>F)\n",
            "C(Perceived_Race)             36.376257      7.0  47.668208  5.916546e-68\n",
            "C(youth)                       1.780478      1.0  16.332230  5.321629e-05\n",
            "C(Perceived_Race):C(youth)     2.914035      7.0   3.818613  3.733767e-04\n",
            "Residual                    6758.679027  61997.0        NaN           NaN\n"
          ]
        }
      ],
      "source": [
        "#2-Way ANOVA\n",
        "import statsmodels.api as sm\n",
        "from statsmodels.formula.api import ols\n",
        "from scipy.special import factorial\n",
        "#import statsmodels.formula.api as smf\n",
        "\n",
        "# Fit the two-way ANOVA model with 'Race', 'youth', and their interaction as the predictors\n",
        "\n",
        "model = ols('StripSearch ~ C(Perceived_Race) + C(youth) + C(Perceived_Race):C(youth)', data=arrest_data).fit()\n",
        "# Print the ANOVA table for the fitted model\n",
        "anova_table = sm.stats.anova_lm(model, typ=2)\n",
        "print(anova_table)"
      ]
    },
    {
      "cell_type": "code",
      "execution_count": null,
      "metadata": {
        "id": "ieeqIYZ69hZP",
        "outputId": "8977d74c-1859-403d-b013-4062204f3087"
      },
      "outputs": [
        {
          "name": "stdout",
          "output_type": "stream",
          "text": [
            "                         sum_sq       df          F        PR(>F)\n",
            "Perceived_Race        28.378434      7.0  37.239834  4.917070e-24\n",
            "Sex                    6.480971      2.0  29.766476  1.198911e-13\n",
            "Perceived_Race:Sex    11.204748     14.0   7.351761  9.400322e-12\n",
            "Residual            6748.889298  61994.0        NaN           NaN\n"
          ]
        }
      ],
      "source": [
        "#2-Way ANOVA\n",
        "import statsmodels.api as sm\n",
        "from statsmodels.formula.api import ols\n",
        "from scipy.special import factorial\n",
        "\n",
        "# Fit the two-way ANOVA model with 'Race', 'sex', and their interaction as the predictors\n",
        "\n",
        "#model = ols('StripSearch ~ C(Perceived_Race) + C(Sex) + C(Perceived_Race):C(Sex)', data=arrest_data).fit()\n",
        "model = ols('StripSearch ~ Perceived_Race + Sex + Perceived_Race:Sex', data=arrest_data).fit()\n",
        "#not sure what should be wriiten at xxx\n",
        "\n",
        "# Print the ANOVA table for the fitted model\n",
        "anova_table = sm.stats.anova_lm(model, typ=2)\n",
        "print(anova_table)\n"
      ]
    },
    {
      "cell_type": "code",
      "execution_count": null,
      "metadata": {
        "id": "Qr7wuELb9hZQ",
        "outputId": "b9cb8bee-da50-4de2-e59d-4ca5ca5a8862"
      },
      "outputs": [
        {
          "name": "stdout",
          "output_type": "stream",
          "text": [
            "                                  sum_sq       df           F        PR(>F)\n",
            "C(Perceived_Race)           5.304204e+04      7.0  259.086519  0.000000e+00\n",
            "C(youth)                    5.385880e+03      1.0  184.153208  6.895681e-42\n",
            "C(Perceived_Race):C(youth)  2.134663e+03      7.0   10.426871  3.739857e-13\n",
            "Residual                    1.813210e+06  61997.0         NaN           NaN\n"
          ]
        }
      ],
      "source": [
        "#2-Way ANOVA\n",
        "import statsmodels.api as sm\n",
        "from statsmodels.formula.api import ols\n",
        "from scipy.special import factorial\n",
        "\n",
        "model = ols('num_arrests ~ C(Perceived_Race) + C(youth) + C(Perceived_Race):C(youth)', data=arrest_data).fit()\n",
        "anova_table = sm.stats.anova_lm(model, typ=2)\n",
        "print(anova_table)"
      ]
    },
    {
      "cell_type": "code",
      "execution_count": null,
      "metadata": {
        "id": "mML21W819hZQ",
        "outputId": "dbcc2051-3875-451b-c0cb-dacfa350f723"
      },
      "outputs": [
        {
          "name": "stdout",
          "output_type": "stream",
          "text": [
            "                                sum_sq       df           F         PR(>F)\n",
            "C(Perceived_Race)         8.274037e+04      7.0  403.765120  8.850064e-260\n",
            "C(Sex)                    2.115680e+03      2.0   36.135106   2.069489e-16\n",
            "C(Perceived_Race):C(Sex)  5.273246e+03     14.0   12.866469   9.273274e-23\n",
            "Residual                  1.814848e+06  61994.0         NaN            NaN\n"
          ]
        }
      ],
      "source": [
        "#2-Way ANOVA\n",
        "import statsmodels.api as sm\n",
        "from statsmodels.formula.api import ols\n",
        "from scipy.special import factorial\n",
        "model = ols('num_arrests ~ C(Perceived_Race) + C(Sex) + C(Perceived_Race):C(Sex)', data=arrest_data).fit()\n",
        "anova_table = sm.stats.anova_lm(model, typ=2)\n",
        "print(anova_table)"
      ]
    },
    {
      "cell_type": "code",
      "execution_count": null,
      "metadata": {
        "id": "uXnucUA99hZQ",
        "outputId": "ccf55283-e11c-4f80-bb7b-765fe35e5c3f"
      },
      "outputs": [
        {
          "name": "stdout",
          "output_type": "stream",
          "text": [
            "                            OLS Regression Results                            \n",
            "==============================================================================\n",
            "Dep. Variable:            StripSearch   R-squared:                       0.006\n",
            "Model:                            OLS   Adj. R-squared:                  0.006\n",
            "Method:                 Least Squares   F-statistic:                     43.48\n",
            "Date:                Wed, 12 Apr 2023   Prob (F-statistic):           1.78e-78\n",
            "Time:                        15:13:10   Log-Likelihood:                -19258.\n",
            "No. Observations:               62013   AIC:                         3.854e+04\n",
            "Df Residuals:                   62003   BIC:                         3.863e+04\n",
            "Df Model:                           9                                         \n",
            "Covariance Type:            nonrobust                                         \n",
            "==========================================================================================================\n",
            "                                             coef    std err          t      P>|t|      [0.025      0.975]\n",
            "----------------------------------------------------------------------------------------------------------\n",
            "Intercept                                  0.1222      0.004     32.222      0.000       0.115       0.130\n",
            "Perceived_Race[T.East/Southeast Asian]    -0.0596      0.006    -10.265      0.000      -0.071      -0.048\n",
            "Perceived_Race[T.Indigenous]               0.0231      0.008      2.873      0.004       0.007       0.039\n",
            "Perceived_Race[T.Latino]                  -0.0613      0.009     -7.075      0.000      -0.078      -0.044\n",
            "Perceived_Race[T.Middle-Eastern]          -0.0692      0.007    -10.562      0.000      -0.082      -0.056\n",
            "Perceived_Race[T.South Asian]             -0.0680      0.006    -10.822      0.000      -0.080      -0.056\n",
            "Perceived_Race[T.Unknown or Legacy]       -0.0329      0.005     -6.105      0.000      -0.044      -0.022\n",
            "Perceived_Race[T.White]                   -0.0084      0.003     -2.594      0.009      -0.015      -0.002\n",
            "Sex[T.M]                                   0.0260      0.003      7.687      0.000       0.019       0.033\n",
            "Sex[T.U]                                  -0.0997      0.110     -0.906      0.365      -0.315       0.116\n",
            "==============================================================================\n",
            "Omnibus:                    25203.540   Durbin-Watson:                   1.757\n",
            "Prob(Omnibus):                  0.000   Jarque-Bera (JB):            76300.649\n",
            "Skew:                           2.240   Prob(JB):                         0.00\n",
            "Kurtosis:                       6.074   Cond. No.                         115.\n",
            "==============================================================================\n",
            "\n",
            "Notes:\n",
            "[1] Standard Errors assume that the covariance matrix of the errors is correctly specified.\n"
          ]
        }
      ],
      "source": [
        "# Build ANCOVA model\n",
        "model = sm.formula.ols('StripSearch ~ Perceived_Race + Sex', data=arrest_data)\n",
        "# Do the fitting\n",
        "results = model.fit()\n",
        "print(results.summary())"
      ]
    },
    {
      "cell_type": "code",
      "execution_count": null,
      "metadata": {
        "id": "yRc2X9bx9hZQ",
        "outputId": "1d4eb312-2ebb-48ec-873e-1cd919f4b635"
      },
      "outputs": [
        {
          "name": "stdout",
          "output_type": "stream",
          "text": [
            "                            OLS Regression Results                            \n",
            "==============================================================================\n",
            "Dep. Variable:            StripSearch   R-squared:                       0.006\n",
            "Model:                            OLS   Adj. R-squared:                  0.005\n",
            "Method:                 Least Squares   F-statistic:                     43.39\n",
            "Date:                Wed, 12 Apr 2023   Prob (F-statistic):           6.00e-70\n",
            "Time:                        15:13:11   Log-Likelihood:                -19280.\n",
            "No. Observations:               62013   AIC:                         3.858e+04\n",
            "Df Residuals:                   62004   BIC:                         3.866e+04\n",
            "Df Model:                           8                                         \n",
            "Covariance Type:            nonrobust                                         \n",
            "==========================================================================================================\n",
            "                                             coef    std err          t      P>|t|      [0.025      0.975]\n",
            "----------------------------------------------------------------------------------------------------------\n",
            "Intercept                                  0.1457      0.003     56.362      0.000       0.141       0.151\n",
            "Perceived_Race[T.East/Southeast Asian]    -0.0603      0.006    -10.379      0.000      -0.072      -0.049\n",
            "Perceived_Race[T.Indigenous]               0.0175      0.008      2.179      0.029       0.002       0.033\n",
            "Perceived_Race[T.Latino]                  -0.0617      0.009     -7.111      0.000      -0.079      -0.045\n",
            "Perceived_Race[T.Middle-Eastern]          -0.0679      0.007    -10.373      0.000      -0.081      -0.055\n",
            "Perceived_Race[T.South Asian]             -0.0683      0.006    -10.863      0.000      -0.081      -0.056\n",
            "Perceived_Race[T.Unknown or Legacy]       -0.0341      0.005     -6.311      0.000      -0.045      -0.023\n",
            "Perceived_Race[T.White]                   -0.0108      0.003     -3.317      0.001      -0.017      -0.004\n",
            "youth[T.Youth]                            -0.0263      0.007     -4.041      0.000      -0.039      -0.014\n",
            "==============================================================================\n",
            "Omnibus:                    25235.067   Durbin-Watson:                   1.757\n",
            "Prob(Omnibus):                  0.000   Jarque-Bera (JB):            76492.923\n",
            "Skew:                           2.243   Prob(JB):                         0.00\n",
            "Kurtosis:                       6.079   Cond. No.                         8.15\n",
            "==============================================================================\n",
            "\n",
            "Notes:\n",
            "[1] Standard Errors assume that the covariance matrix of the errors is correctly specified.\n"
          ]
        }
      ],
      "source": [
        "# Build ANCOVA model\n",
        "model = sm.formula.ols('StripSearch ~ Perceived_Race + youth', data=arrest_data)\n",
        "# Do the fitting\n",
        "results = model.fit()\n",
        "print(results.summary())"
      ]
    },
    {
      "cell_type": "code",
      "execution_count": null,
      "metadata": {
        "id": "aP9pFYjm9hZQ",
        "outputId": "fe90cdf2-08d0-4821-b698-cae492325969"
      },
      "outputs": [
        {
          "name": "stdout",
          "output_type": "stream",
          "text": [
            "                            OLS Regression Results                            \n",
            "==============================================================================\n",
            "Dep. Variable:            num_arrests   R-squared:                       0.032\n",
            "Model:                            OLS   Adj. R-squared:                  0.032\n",
            "Method:                 Least Squares   F-statistic:                     253.8\n",
            "Date:                Wed, 12 Apr 2023   Prob (F-statistic):               0.00\n",
            "Time:                        15:13:11   Log-Likelihood:            -1.9269e+05\n",
            "No. Observations:               62013   AIC:                         3.854e+05\n",
            "Df Residuals:                   62004   BIC:                         3.855e+05\n",
            "Df Model:                           8                                         \n",
            "Covariance Type:            nonrobust                                         \n",
            "==========================================================================================================\n",
            "                                             coef    std err          t      P>|t|      [0.025      0.975]\n",
            "----------------------------------------------------------------------------------------------------------\n",
            "Intercept                                  4.2020      0.042     99.235      0.000       4.119       4.285\n",
            "Perceived_Race[T.East/Southeast Asian]    -1.2186      0.095    -12.798      0.000      -1.405      -1.032\n",
            "Perceived_Race[T.Indigenous]               3.7567      0.132     28.515      0.000       3.498       4.015\n",
            "Perceived_Race[T.Latino]                  -0.7163      0.142     -5.041      0.000      -0.995      -0.438\n",
            "Perceived_Race[T.Middle-Eastern]          -0.5672      0.107     -5.285      0.000      -0.778      -0.357\n",
            "Perceived_Race[T.South Asian]             -1.1188      0.103    -10.858      0.000      -1.321      -0.917\n",
            "Perceived_Race[T.Unknown or Legacy]       -0.9659      0.088    -10.916      0.000      -1.139      -0.792\n",
            "Perceived_Race[T.White]                    0.6534      0.053     12.228      0.000       0.549       0.758\n",
            "youth[T.Youth]                            -1.4468      0.107    -13.563      0.000      -1.656      -1.238\n",
            "==============================================================================\n",
            "Omnibus:                    42641.333   Durbin-Watson:                   0.567\n",
            "Prob(Omnibus):                  0.000   Jarque-Bera (JB):           667538.383\n",
            "Skew:                           3.176   Prob(JB):                         0.00\n",
            "Kurtosis:                      17.765   Cond. No.                         8.15\n",
            "==============================================================================\n",
            "\n",
            "Notes:\n",
            "[1] Standard Errors assume that the covariance matrix of the errors is correctly specified.\n"
          ]
        }
      ],
      "source": [
        "# Build ANCOVA model\n",
        "model = sm.formula.ols('num_arrests ~ Perceived_Race + youth', data=arrest_data)\n",
        "# Do the fitting\n",
        "results = model.fit()\n",
        "print(results.summary())"
      ]
    },
    {
      "cell_type": "code",
      "execution_count": null,
      "metadata": {
        "id": "Rzb9hIIo9hZQ",
        "outputId": "c99da953-9224-4f53-daaa-602e1c9f1d5b"
      },
      "outputs": [
        {
          "name": "stdout",
          "output_type": "stream",
          "text": [
            "                            OLS Regression Results                            \n",
            "==============================================================================\n",
            "Dep. Variable:            num_arrests   R-squared:                       0.030\n",
            "Model:                            OLS   Adj. R-squared:                  0.030\n",
            "Method:                 Least Squares   F-statistic:                     212.8\n",
            "Date:                Wed, 12 Apr 2023   Prob (F-statistic):               0.00\n",
            "Time:                        15:13:12   Log-Likelihood:            -1.9275e+05\n",
            "No. Observations:               62013   AIC:                         3.855e+05\n",
            "Df Residuals:                   62003   BIC:                         3.856e+05\n",
            "Df Model:                           9                                         \n",
            "Covariance Type:            nonrobust                                         \n",
            "==========================================================================================================\n",
            "                                             coef    std err          t      P>|t|      [0.025      0.975]\n",
            "----------------------------------------------------------------------------------------------------------\n",
            "Intercept                                  3.7086      0.062     59.615      0.000       3.587       3.831\n",
            "Perceived_Race[T.East/Southeast Asian]    -1.1707      0.095    -12.294      0.000      -1.357      -0.984\n",
            "Perceived_Race[T.Indigenous]               3.9142      0.132     29.652      0.000       3.655       4.173\n",
            "Perceived_Race[T.Latino]                  -0.6746      0.142     -4.745      0.000      -0.953      -0.396\n",
            "Perceived_Race[T.Middle-Eastern]          -0.5793      0.107     -5.391      0.000      -0.790      -0.369\n",
            "Perceived_Race[T.South Asian]             -1.0728      0.103    -10.410      0.000      -1.275      -0.871\n",
            "Perceived_Race[T.Unknown or Legacy]       -0.9173      0.089    -10.363      0.000      -1.091      -0.744\n",
            "Perceived_Race[T.White]                    0.7332      0.053     13.729      0.000       0.629       0.838\n",
            "Sex[T.M]                                   0.4717      0.056      8.490      0.000       0.363       0.581\n",
            "Sex[T.U]                                  -0.0686      1.806     -0.038      0.970      -3.609       3.471\n",
            "==============================================================================\n",
            "Omnibus:                    42643.894   Durbin-Watson:                   0.565\n",
            "Prob(Omnibus):                  0.000   Jarque-Bera (JB):           664320.948\n",
            "Skew:                           3.178   Prob(JB):                         0.00\n",
            "Kurtosis:                      17.720   Cond. No.                         115.\n",
            "==============================================================================\n",
            "\n",
            "Notes:\n",
            "[1] Standard Errors assume that the covariance matrix of the errors is correctly specified.\n"
          ]
        }
      ],
      "source": [
        "# Build ANCOVA model\n",
        "model = sm.formula.ols('num_arrests ~ Perceived_Race + Sex', data=arrest_data)\n",
        "# Do the fitting\n",
        "results = model.fit()\n",
        "print(results.summary())"
      ]
    },
    {
      "cell_type": "markdown",
      "metadata": {
        "id": "e0-w8IW69hZR"
      },
      "source": [
        "7.Tukey's HSD post-hoc test"
      ]
    },
    {
      "cell_type": "code",
      "execution_count": null,
      "metadata": {
        "id": "8EqIWU7q9hZR",
        "outputId": "efe9d07b-8ab1-4f9f-8292-3721d238f0f4"
      },
      "outputs": [
        {
          "name": "stdout",
          "output_type": "stream",
          "text": [
            "Multiple Comparison of Means - Tukey HSD, FWER=0.05 \n",
            "====================================================\n",
            "group1 group2 meandiff p-adj   lower   upper  reject\n",
            "----------------------------------------------------\n",
            "FAdult FYouth  -0.0641    0.0 -0.1004 -0.0279   True\n",
            "FAdult MAdult   0.0186    0.0  0.0092  0.0281   True\n",
            "FAdult MYouth   0.0089 0.7942 -0.0127  0.0306  False\n",
            "FAdult UAdult  -0.1113 0.8515 -0.4124  0.1897  False\n",
            "FYouth MAdult   0.0828    0.0  0.0473  0.1182   True\n",
            "FYouth MYouth   0.0731    0.0  0.0326  0.1135   True\n",
            "FYouth UAdult  -0.0472 0.9932 -0.3502  0.2558  False\n",
            "MAdult MYouth  -0.0097 0.6903   -0.03  0.0106  False\n",
            "MAdult UAdult    -0.13 0.7641 -0.4309   0.171  False\n",
            "MYouth UAdult  -0.1203  0.813 -0.4219  0.1814  False\n",
            "----------------------------------------------------\n"
          ]
        }
      ],
      "source": [
        "# Conduct Tukey's HSD post-hoc test\n",
        "tk_model1 = mc.pairwise_tukeyhsd(endog=arrest_data['StripSearch'], groups=arrest_data['Sex'] + arrest_data['youth'],\n",
        "                                     alpha=0.05)\n",
        "print(tk_model1.summary())"
      ]
    },
    {
      "cell_type": "code",
      "execution_count": null,
      "metadata": {
        "id": "qs-bkoS39hZR",
        "outputId": "79d6138b-c7f0-4354-c689-431d8e35ee23"
      },
      "outputs": [
        {
          "name": "stdout",
          "output_type": "stream",
          "text": [
            "Multiple Comparison of Means - Tukey HSD, FWER=0.05 \n",
            "====================================================\n",
            "group1 group2 meandiff p-adj   lower   upper  reject\n",
            "----------------------------------------------------\n",
            "AdultF AdultM   0.2582 0.0001  0.1013  0.4152   True\n",
            "AdultF AdultU  -0.4666 0.9991 -5.4592  4.5261  False\n",
            "AdultF YouthF  -1.1256    0.0 -1.7266 -0.5247   True\n",
            "AdultF YouthM    -1.44    0.0 -1.7993 -1.0807   True\n",
            "AdultM AdultU  -0.7248 0.9948 -5.7159  4.2663  False\n",
            "AdultM YouthF  -1.3839    0.0  -1.972 -0.7958   True\n",
            "AdultM YouthM  -1.6982    0.0 -2.0356 -1.3609   True\n",
            "AdultU YouthF  -0.6591 0.9965 -5.6838  4.3657  False\n",
            "AdultU YouthM  -0.9734 0.9842 -5.9749  4.0282  False\n",
            "YouthF YouthM  -0.3143  0.705 -0.9854  0.3567  False\n",
            "----------------------------------------------------\n"
          ]
        }
      ],
      "source": [
        "# Conduct Tukey's HSD post-hoc test\n",
        "tk_model1 = mc.pairwise_tukeyhsd(endog=arrest_data['num_arrests'], groups=arrest_data['youth'] + arrest_data['Sex'],\n",
        "                                     alpha=0.05)\n",
        "print(tk_model1.summary())"
      ]
    },
    {
      "cell_type": "code",
      "execution_count": null,
      "metadata": {
        "id": "up-YSUVr9hZR",
        "outputId": "37f24bb5-1199-4ba2-f28b-52ece91d43c0"
      },
      "outputs": [
        {
          "name": "stdout",
          "output_type": "stream",
          "text": [
            "                Multiple Comparison of Means - Tukey HSD, FWER=0.05                \n",
            "===================================================================================\n",
            "        group1                group2        meandiff p-adj   lower    upper  reject\n",
            "-----------------------------------------------------------------------------------\n",
            "               BlackF                BlackM   0.4013 0.0365   0.0105   0.792   True\n",
            "               BlackF East/Southeast AsianF  -1.3306    0.0  -2.1598 -0.5015   True\n",
            "               BlackF East/Southeast AsianM   -0.738    0.0  -1.2224 -0.2535   True\n",
            "               BlackF           IndigenousF   1.9959    0.0   1.1482  2.8436   True\n",
            "               BlackF           IndigenousM   5.2257    0.0   4.5833  5.8681   True\n",
            "               BlackF               LatinoF    -1.13 0.2044  -2.4451  0.1851  False\n",
            "               BlackF               LatinoM   -0.194 0.9999  -0.8209  0.4328  False\n",
            "               BlackF               LatinoU  -2.7672    1.0 -21.8018 16.2675  False\n",
            "               BlackF       Middle-EasternF  -0.1497    1.0  -1.2532  0.9538  False\n",
            "               BlackF       Middle-EasternM   -0.227 0.9897  -0.7397  0.2858  False\n",
            "               BlackF          South AsianF  -0.8317 0.1801  -1.7834    0.12  False\n",
            "               BlackF          South AsianM  -0.7087 0.0001  -1.2131 -0.2043   True\n",
            "               BlackF    Unknown or LegacyF  -0.3589 0.9723  -1.0968  0.3791  False\n",
            "               BlackF    Unknown or LegacyM  -0.6404 0.0002   -1.108 -0.1728   True\n",
            "               BlackF    Unknown or LegacyU  -0.1005    1.0  -11.094  10.893  False\n",
            "               BlackF                WhiteF   0.7236    0.0   0.2895  1.1578   True\n",
            "               BlackF                WhiteM    1.133    0.0   0.7532  1.5129   True\n",
            "               BlackF                WhiteU   0.4328    1.0  -8.0857  8.9513  False\n",
            "               BlackM East/Southeast AsianF  -1.7319    0.0  -2.4978  -0.966   True\n",
            "               BlackM East/Southeast AsianM  -1.1392    0.0   -1.505 -0.7735   True\n",
            "               BlackM           IndigenousF   1.5946    0.0   0.8087  2.3806   True\n",
            "               BlackM           IndigenousM   4.8245    0.0   4.2661  5.3828   True\n",
            "               BlackM               LatinoF  -1.5313 0.0036  -2.8074 -0.2551   True\n",
            "               BlackM               LatinoM  -0.5953 0.0143  -1.1357  -0.055   True\n",
            "               BlackM               LatinoU  -3.1684    1.0 -22.2004 15.8636  False\n",
            "               BlackM       Middle-EasternF   -0.551 0.9461  -1.6077  0.5058  False\n",
            "               BlackM       Middle-EasternM  -0.6282    0.0  -1.0306 -0.2258   True\n",
            "               BlackM          South AsianF  -1.2329 0.0002    -2.13 -0.3359   True\n",
            "               BlackM          South AsianM    -1.11    0.0  -1.5017 -0.7182   True\n",
            "               BlackM    Unknown or LegacyF  -0.7601 0.0083  -1.4262 -0.0941   True\n",
            "               BlackM    Unknown or LegacyM  -1.0417    0.0  -1.3847 -0.6986   True\n",
            "               BlackM    Unknown or LegacyU  -0.5018    1.0 -11.4907 10.4871  False\n",
            "               BlackM                WhiteF   0.3224 0.0167   0.0265  0.6183   True\n",
            "               BlackM                WhiteM   0.7318    0.0   0.5235    0.94   True\n",
            "               BlackM                WhiteU   0.0316    1.0   -8.481  8.5442  False\n",
            "East/Southeast AsianF East/Southeast AsianM   0.5927  0.519   -0.225  1.4103  False\n",
            "East/Southeast AsianF           IndigenousF   3.3265    0.0    2.253  4.4001   True\n",
            "East/Southeast AsianF           IndigenousM   6.5564    0.0   5.6363  7.4764   True\n",
            "East/Southeast AsianF               LatinoF   0.2006    1.0  -1.2702  1.6714  False\n",
            "East/Southeast AsianF               LatinoM   1.1366 0.0017   0.2273  2.0459   True\n",
            "East/Southeast AsianF               LatinoU  -1.4365    1.0 -20.4826 17.6095  False\n",
            "East/Southeast AsianF       Middle-EasternF   1.1809 0.1183  -0.1042  2.4661  False\n",
            "East/Southeast AsianF       Middle-EasternM   1.1037 0.0005    0.269  1.9384   True\n",
            "East/Southeast AsianF          South AsianF    0.499 0.9924  -0.6584  1.6563  False\n",
            "East/Southeast AsianF          South AsianM   0.6219 0.4515  -0.2077  1.4515  False\n",
            "East/Southeast AsianF    Unknown or LegacyF   0.9718 0.0609  -0.0174  1.9609  False\n",
            "East/Southeast AsianF    Unknown or LegacyM   0.6902 0.2128  -0.1175   1.498  False\n",
            "East/Southeast AsianF    Unknown or LegacyU   1.2301    1.0  -9.7831 12.2433  False\n",
            "East/Southeast AsianF                WhiteF   2.0543    0.0   1.2654  2.8432   True\n",
            "East/Southeast AsianF                WhiteM   2.4637    0.0   1.7033   3.224   True\n",
            "East/Southeast AsianF                WhiteU   1.7635    1.0  -6.7805 10.3074  False\n",
            "East/Southeast AsianM           IndigenousF   2.7339    0.0   1.8974  3.5704   True\n",
            "East/Southeast AsianM           IndigenousM   5.9637    0.0   5.3362  6.5912   True\n",
            "East/Southeast AsianM               LatinoF   -0.392 0.9999  -1.6999  0.9158  False\n",
            "East/Southeast AsianM               LatinoM   0.5439 0.1566  -0.0677  1.1555  False\n",
            "East/Southeast AsianM               LatinoU  -2.0292    1.0 -21.0633 17.0049  False\n",
            "East/Southeast AsianM       Middle-EasternF   0.5883 0.9296  -0.5066  1.6832  False\n",
            "East/Southeast AsianM       Middle-EasternM    0.511 0.0333   0.0171  1.0049   True\n",
            "East/Southeast AsianM          South AsianF  -0.0937    1.0  -1.0354   0.848  False\n",
            "East/Southeast AsianM          South AsianM   0.0293    1.0   -0.456  0.5145  False\n",
            "East/Southeast AsianM    Unknown or LegacyF   0.3791 0.9446  -0.3459  1.1041  False\n",
            "East/Southeast AsianM    Unknown or LegacyM   0.0976    1.0  -0.3493  0.5445  False\n",
            "East/Southeast AsianM    Unknown or LegacyU   0.6375    1.0 -10.3552 11.6301  False\n",
            "East/Southeast AsianM                WhiteF   1.4616    0.0   1.0498  1.8734   True\n",
            "East/Southeast AsianM                WhiteM    1.871    0.0   1.5169  2.2251   True\n",
            "East/Southeast AsianM                WhiteU   1.1708    1.0  -7.3466  9.6882  False\n",
            "          IndigenousF           IndigenousM   3.2298    0.0    2.293  4.1667   True\n",
            "          IndigenousF               LatinoF  -3.1259    0.0  -4.6073 -1.6445   True\n",
            "          IndigenousF               LatinoM    -2.19    0.0  -3.1162 -1.2637   True\n",
            "          IndigenousF               LatinoU  -4.7631    1.0 -23.8099 14.2838  False\n",
            "          IndigenousF       Middle-EasternF  -2.1456    0.0  -3.4428 -0.8484   True\n",
            "          IndigenousF       Middle-EasternM  -2.2229    0.0   -3.076 -1.3697   True\n",
            "          IndigenousF          South AsianF  -2.8276    0.0  -3.9984 -1.6568   True\n",
            "          IndigenousF          South AsianM  -2.7046    0.0  -3.5528 -1.8564   True\n",
            "          IndigenousF    Unknown or LegacyF  -2.3548    0.0  -3.3595   -1.35   True\n",
            "          IndigenousF    Unknown or LegacyM  -2.6363    0.0  -3.4631 -1.8095   True\n",
            "          IndigenousF    Unknown or LegacyU  -2.0964    1.0  -13.111  8.9182  False\n",
            "          IndigenousF                WhiteF  -1.2723    0.0  -2.0807 -0.4639   True\n",
            "          IndigenousF                WhiteM  -0.8629 0.0136  -1.6435 -0.0823   True\n",
            "          IndigenousF                WhiteU  -1.5631    1.0 -10.1088  6.9827  False\n",
            "          IndigenousM               LatinoF  -6.3557    0.0  -7.7299 -4.9815   True\n",
            "          IndigenousM               LatinoM  -5.4198    0.0  -6.1627 -4.6768   True\n",
            "          IndigenousM               LatinoU  -7.9929 0.9944 -27.0317 11.0459  False\n",
            "          IndigenousM       Middle-EasternF  -5.3754    0.0  -6.5488 -4.2021   True\n",
            "          IndigenousM       Middle-EasternM  -5.4527    0.0  -6.1023 -4.8031   True\n",
            "          IndigenousM          South AsianF  -6.0574    0.0  -7.0893 -5.0255   True\n",
            "          IndigenousM          South AsianM  -5.9344    0.0  -6.5774 -5.2914   True\n",
            "          IndigenousM    Unknown or LegacyF  -5.5846    0.0  -6.4234 -4.7458   True\n",
            "          IndigenousM    Unknown or LegacyM  -5.8661    0.0  -6.4807 -5.2516   True\n",
            "          IndigenousM    Unknown or LegacyU  -5.3262 0.9735  -16.327  5.6745  False\n",
            "          IndigenousM                WhiteF  -4.5021    0.0  -5.0916 -3.9126   True\n",
            "          IndigenousM                WhiteM  -4.0927    0.0  -4.6435 -3.5419   True\n",
            "          IndigenousM                WhiteU  -4.7929 0.8976 -13.3207  3.7349  False\n",
            "              LatinoF               LatinoM   0.9359 0.6293  -0.4311   2.303  False\n",
            "              LatinoF               LatinoU  -1.6372    1.0 -20.7105 17.4362  False\n",
            "              LatinoF       Middle-EasternF   0.9803 0.8378  -0.6609  2.6215  False\n",
            "              LatinoF       Middle-EasternM    0.903 0.6288  -0.4156  2.2216  False\n",
            "              LatinoF          South AsianF   0.2983    1.0  -1.2449  1.8415  False\n",
            "              LatinoF          South AsianM   0.4213 0.9998  -0.8941  1.7367  False\n",
            "              LatinoF    Unknown or LegacyF   0.7711 0.9235  -0.6503  2.1925  False\n",
            "              LatinoF    Unknown or LegacyM   0.4896 0.9985  -0.8121  1.7913  False\n",
            "              LatinoF    Unknown or LegacyU   1.0295    1.0 -10.0309 12.0899  False\n",
            "              LatinoF                WhiteF   1.8536 0.0001   0.5636  3.1437   True\n",
            "              LatinoF                WhiteM    2.263    0.0   0.9902  3.5359   True\n",
            "              LatinoF                WhiteU   1.5628    1.0  -7.0419 10.1675  False\n",
            "              LatinoM               LatinoU  -2.5731    1.0 -21.6114 16.4652  False\n",
            "              LatinoM       Middle-EasternF   0.0444    1.0  -1.1206  1.2093  False\n",
            "              LatinoM       Middle-EasternM  -0.0329    1.0  -0.6671  0.6013  False\n",
            "              LatinoM          South AsianF  -0.6376 0.7825  -1.6599  0.3846  False\n",
            "              LatinoM          South AsianM  -0.5146 0.2801  -1.1421  0.1128  False\n",
            "              LatinoM    Unknown or LegacyF  -0.1648    1.0  -0.9918  0.6622  False\n",
            "              LatinoM    Unknown or LegacyM  -0.4463 0.4613  -1.0446   0.152  False\n",
            "              LatinoM    Unknown or LegacyU   0.0936    1.0 -10.9063 11.0934  False\n",
            "              LatinoM                WhiteF   0.9177    0.0   0.3452  1.4902   True\n",
            "              LatinoM                WhiteM   1.3271    0.0   0.7945  1.8596   True\n",
            "              LatinoM                WhiteU   0.6269    1.0  -7.8998  9.1536  False\n",
            "              LatinoU       Middle-EasternF   2.6175    1.0 -16.4425 21.6774  False\n",
            "              LatinoU       Middle-EasternM   2.5402    1.0 -16.4947 21.5751  False\n",
            "              LatinoU          South AsianF   1.9355    1.0 -17.1163 20.9872  False\n",
            "              LatinoU          South AsianM   2.0585    1.0 -16.9762 21.0931  False\n",
            "              LatinoU    Unknown or LegacyF   2.4083    1.0  -16.634 21.4506  False\n",
            "              LatinoU    Unknown or LegacyM   2.1268    1.0 -16.9069 21.1605  False\n",
            "              LatinoU    Unknown or LegacyU   2.6667    1.0 -19.3088 24.6421  False\n",
            "              LatinoU                WhiteF   3.4908    1.0 -15.5421 22.5237  False\n",
            "              LatinoU                WhiteM   3.9002    1.0 -15.1316  22.932  False\n",
            "              LatinoU                WhiteU      3.2    1.0 -17.6478 24.0478  False\n",
            "      Middle-EasternF       Middle-EasternM  -0.0773    1.0   -1.185  1.0304  False\n",
            "      Middle-EasternF          South AsianF   -0.682 0.9644  -2.0494  0.6854  False\n",
            "      Middle-EasternF          South AsianM   -0.559 0.9588  -1.6629  0.5449  False\n",
            "      Middle-EasternF    Unknown or LegacyF  -0.2092    1.0  -1.4375  1.0191  False\n",
            "      Middle-EasternF    Unknown or LegacyM  -0.4907 0.9873  -1.5782  0.5969  False\n",
            "      Middle-EasternF    Unknown or LegacyU   0.0492    1.0 -10.9881 11.0865  False\n",
            "      Middle-EasternF                WhiteF   0.8733 0.2947  -0.2003  1.9469  False\n",
            "      Middle-EasternF                WhiteM   1.2827 0.0027   0.2299  2.3355   True\n",
            "      Middle-EasternF                WhiteU   0.5825    1.0  -7.9924  9.1574  False\n",
            "      Middle-EasternM          South AsianF  -0.6047 0.7632  -1.5612  0.3518  False\n",
            "      Middle-EasternM          South AsianM  -0.4817 0.0976  -0.9952  0.0317  False\n",
            "      Middle-EasternM    Unknown or LegacyF  -0.1319    1.0  -0.8761  0.6123  False\n",
            "      Middle-EasternM    Unknown or LegacyM  -0.4134 0.1929  -0.8908   0.064  False\n",
            "      Middle-EasternM    Unknown or LegacyU   0.1265    1.0 -10.8674 11.1204  False\n",
            "      Middle-EasternM                WhiteF   0.9506    0.0   0.5059  1.3953   True\n",
            "      Middle-EasternM                WhiteM     1.36    0.0   0.9681  1.7519   True\n",
            "      Middle-EasternM                WhiteU   0.6598    1.0  -7.8592  9.1789  False\n",
            "         South AsianF          South AsianM    0.123    1.0  -0.8291  1.0751  False\n",
            "         South AsianF    Unknown or LegacyF   0.4728 0.9922  -0.6211  1.5667  False\n",
            "         South AsianF    Unknown or LegacyM   0.1913    1.0  -0.7418  1.1244  False\n",
            "         South AsianF    Unknown or LegacyU   0.7312    1.0 -10.2919 11.7543  False\n",
            "         South AsianF                WhiteF   1.5553    0.0   0.6385  2.4722   True\n",
            "         South AsianF                WhiteM   1.9647    0.0   1.0723  2.8571   True\n",
            "         South AsianF                WhiteU   1.2645    1.0  -7.2922  9.8212  False\n",
            "         South AsianM    Unknown or LegacyF   0.3498 0.9787  -0.3886  1.0883  False\n",
            "         South AsianM    Unknown or LegacyM   0.0683    1.0  -0.4001  0.5367  False\n",
            "         South AsianM    Unknown or LegacyU   0.6082    1.0 -10.3853 11.6017  False\n",
            "         South AsianM                WhiteF   1.4323    0.0   0.9973  1.8674   True\n",
            "         South AsianM                WhiteM   1.8417    0.0   1.4608  2.2226   True\n",
            "         South AsianM                WhiteU   1.1415    1.0   -7.377  9.6601  False\n",
            "   Unknown or LegacyF    Unknown or LegacyM  -0.2815 0.9974  -0.9954  0.4323  False\n",
            "   Unknown or LegacyF    Unknown or LegacyU   0.2584    1.0 -10.7484 11.2651  False\n",
            "   Unknown or LegacyF                WhiteF   1.0825    0.0   0.3901  1.7749   True\n",
            "   Unknown or LegacyF                WhiteM   1.4919    0.0   0.8322  2.1516   True\n",
            "   Unknown or LegacyF                WhiteU   0.7917    1.0  -7.7439  9.3273  False\n",
            "   Unknown or LegacyM    Unknown or LegacyU   0.5399    1.0  -10.452 11.5318  False\n",
            "   Unknown or LegacyM                WhiteF    1.364    0.0   0.9722  1.7558   True\n",
            "   Unknown or LegacyM                WhiteM   1.7734    0.0   1.4428  2.1041   True\n",
            "   Unknown or LegacyM                WhiteU   1.0732    1.0  -7.4432  9.5897  False\n",
            "   Unknown or LegacyU                WhiteF   0.8241    1.0 -10.1664 11.8147  False\n",
            "   Unknown or LegacyU                WhiteM   1.2335    1.0   -9.755 12.2221  False\n",
            "   Unknown or LegacyU                WhiteU   0.5333    1.0 -13.3652 14.4318  False\n",
            "               WhiteF                WhiteM   0.4094 0.0001    0.128  0.6908   True\n",
            "               WhiteF                WhiteU  -0.2908    1.0  -8.8055  8.2239  False\n",
            "               WhiteM                WhiteU  -0.7002    1.0  -9.2123  7.8119  False\n",
            "-----------------------------------------------------------------------------------\n"
          ]
        }
      ],
      "source": [
        "# Conduct Tukey's HSD post-hoc test\n",
        "arrest_data['Perceived_Race']=arrest_data['Perceived_Race'].fillna(arrest_data['Perceived_Race'].mode()[0])\n",
        "tk_model1 = mc.pairwise_tukeyhsd(endog=arrest_data['num_arrests'], groups=arrest_data['Perceived_Race'] + arrest_data['Sex'],\n",
        "                                     alpha=0.05)\n",
        "print(tk_model1.summary())"
      ]
    },
    {
      "cell_type": "markdown",
      "metadata": {
        "id": "8Tmsiloo9hZR"
      },
      "source": [
        "Interaction diagram"
      ]
    },
    {
      "cell_type": "code",
      "execution_count": null,
      "metadata": {
        "id": "q5liT6O69hZR"
      },
      "outputs": [],
      "source": [
        "df_ArSt_sgs = arrest_data[['Arrest_Year', 'Arrest_Month', 'EventID','Sex','Perceived_Race','StripSearch']]\n",
        "df_ArSt_sgs = df_ArSt_sgs.loc[df_ArSt_sgs[\"Sex\"] != \"U\"]\n",
        "df_ArSt_sgs = df_ArSt_sgs.loc[df_ArSt_sgs[\"Perceived_Race\"] != \"Unknown or Legacy\"]\n",
        "#Merge the Asian groups\n",
        "df_ArSt_sgs['Perceived_Race'] = df_ArSt_sgs['Perceived_Race'].replace({'South Asian': 'Asian'})\n",
        "df_ArSt_sgs['Perceived_Race'] = df_ArSt_sgs['Perceived_Race'].replace({'East/Southeast Asian': 'Asian'})\n",
        "ss = df_ArSt_sgs.loc[df_ArSt_sgs['StripSearch'] == 1] \n",
        "ss = ss.groupby(['Arrest_Year', 'Arrest_Month', 'Perceived_Race', 'Sex'])['StripSearch'].sum().reset_index()\n",
        "\n",
        "df_ssn = df_ArSt_sgs.loc[df_ArSt_sgs['StripSearch'] == 0] \n",
        "ssn = df_ssn.groupby(['Arrest_Year', 'Arrest_Month', 'Perceived_Race', 'Sex'])['StripSearch'].count().reset_index()\n",
        "sgs = pd.merge(ss, ssn, on=['Arrest_Year', 'Arrest_Month', 'Perceived_Race', 'Sex'])\n",
        "sgs['portion'] = round(sgs['StripSearch_x']/sgs['StripSearch_y'],2)\n",
        "sex = sgs['Sex'].astype(\"category\")\n",
        "portion = sgs['portion'].values"
      ]
    },
    {
      "cell_type": "code",
      "execution_count": null,
      "metadata": {
        "id": "gGpLDINs9hZR",
        "outputId": "591f3181-bf86-43b3-d6fd-967296f19dcd"
      },
      "outputs": [
        {
          "data": {
            "text/plain": [
              "<Figure size 1080x576 with 0 Axes>"
            ]
          },
          "metadata": {},
          "output_type": "display_data"
        },
        {
          "data": {
            "image/png": "[encoded data removed]",
            "text/plain": [
              "<Figure size 432x288 with 1 Axes>"
            ]
          },
          "metadata": {
            "needs_background": "light"
          },
          "output_type": "display_data"
        }
      ],
      "source": [
        "plt.figure(figsize=(15,8))\n",
        "sgs_interaction = interaction_plot(sgs['Perceived_Race'], sex, portion, colors=['orange','green'], markers=['D','^'], ms=10)\n",
        "plt.ylabel('Strip Search Portion')\n",
        "plt.xlabel('Race Group')\n",
        "plt.title('Interaction Plot to show strip search portion by race group and sex group', fontweight='bold')\n",
        "plt.savefig('figure10.pdf')\n",
        "plt.show();"
      ]
    },
    {
      "cell_type": "code",
      "execution_count": null,
      "metadata": {
        "scrolled": true,
        "id": "9wA9kHA49hZS",
        "outputId": "fbf3cd9c-a840-4818-8914-39d6dd2b84d7"
      },
      "outputs": [
        {
          "data": {
            "image/png": "[encoded data removed]",
            "text/plain": [
              "<Figure size 432x288 with 1 Axes>"
            ]
          },
          "metadata": {
            "needs_background": "light"
          },
          "output_type": "display_data"
        }
      ],
      "source": [
        "num_arrest = arrest_data['num_arrests']\n",
        "sgs_interaction = interaction_plot(sgs['Perceived_Race'], sex, num_arrest, colors=['orange','green'], markers=['D','^'], ms=10)\n",
        "\n",
        "plt.ylabel('arrest_nums')\n",
        "plt.xlabel('Race Group')\n",
        "plt.title('Interaction Plot to show arrest_nums by race group and sex group', fontweight='bold')\n",
        "plt.savefig('figure11.pdf')\n",
        "plt.show();"
      ]
    },
    {
      "cell_type": "markdown",
      "metadata": {
        "id": "udAVHojE9hZS"
      },
      "source": [
        "# Logistic regression"
      ]
    },
    {
      "cell_type": "code",
      "execution_count": null,
      "metadata": {
        "id": "dYcKBF049hZS",
        "outputId": "c66a08ce-63f5-4cbb-f82e-b4013ca70239"
      },
      "outputs": [
        {
          "name": "stdout",
          "output_type": "stream",
          "text": [
            "Number of training sets 49612\n",
            "Number of testing sets 12404\n",
            "0    12389\n",
            "1       15\n",
            "dtype: int64\n",
            "Test set accuracy： 87.62 %\n"
          ]
        }
      ],
      "source": [
        "lr_data = arrest_data.copy()\n",
        "mapping = {'Youth': 0, 'Adult': 1}\n",
        "lr_data['youth'] = lr_data['youth'].map(mapping)\n",
        "mapping1 = {'F': 0, 'M': 1,'U': 2}\n",
        "lr_data['Sex'] = lr_data['Sex'].map(mapping1)\n",
        "mapping2 = {'White': 0, 'Black': 1,'Unknown or Legacy': 2,'East/Southeast Asian' : 3,'South Asian': 4,'Middle-Eastern':5,'Indigenous':6,'Latino':7}\n",
        "lr_data['Perceived_Race'] = lr_data['Perceived_Race'].map(mapping2)\n",
        "\n",
        "X = lr_data[['Sex','Perceived_Race','num_arrests']]\n",
        "y = lr_data['StripSearch']\n",
        "X_train, X_test, y_train, y_test = train_test_split(X, y, test_size=0.2,random_state=42)\n",
        "print('Number of training sets',len(X_train))\n",
        "print('Number of testing sets',len(X_test))\n",
        "model = LogisticRegression()\n",
        "model.fit(X_train, y_train)\n",
        "y_pred = model.predict(X_test)\n",
        "print(pd.DataFrame(y_pred).value_counts())\n",
        "print('Test set accuracy：',round(metrics.accuracy_score(y_test,y_pred)*100,2),'%')"
      ]
    },
    {
      "cell_type": "code",
      "execution_count": null,
      "metadata": {
        "id": "-eSW_Izp9hZS",
        "outputId": "66e3f4e2-be46-43ca-ed42-609a4ddcc1b0"
      },
      "outputs": [
        {
          "name": "stdout",
          "output_type": "stream",
          "text": [
            "[[ 0.17298945 -0.07858211  0.0514066 ]]\n",
            "[-2.22609043]\n"
          ]
        }
      ],
      "source": [
        "b=model.coef_\n",
        "a=model.intercept_\n",
        "print(b)\n",
        "print(a)"
      ]
    },
    {
      "cell_type": "code",
      "execution_count": null,
      "metadata": {
        "id": "bF6wH1n09hZS",
        "outputId": "a8199e2a-3c74-4f73-d499-6b0db73b2af6"
      },
      "outputs": [
        {
          "data": {
            "image/png": "[encoded data removed]",
            "text/plain": [
              "<Figure size 432x288 with 1 Axes>"
            ]
          },
          "metadata": {
            "needs_background": "light"
          },
          "output_type": "display_data"
        }
      ],
      "source": [
        "model_fpr, model_tpr, _ = roc_curve(y_test, model.predict_proba(X_test)[:, 1])\n",
        "model_roc_auc = auc(model_fpr, model_tpr)\n",
        "plt.plot(model_fpr, model_tpr, label='svm (area = %0.2f)' % model_roc_auc)\n",
        "\n",
        "plt.plot([0, 1], [0, 1], 'k--')\n",
        "\n",
        "plt.xlabel('False Positive Rate')\n",
        "plt.ylabel('True Positive Rate')\n",
        "plt.title('ROC Curve')\n",
        "plt.legend(loc='lower right')\n",
        "\n",
        "plt.show()"
      ]
    },
    {
      "cell_type": "code",
      "execution_count": null,
      "metadata": {
        "id": "28stT-3b9hZS",
        "outputId": "fbf7ce80-c38d-45f7-e51c-b94b57970ee1"
      },
      "outputs": [
        {
          "data": {
            "text/html": [
              "<table class=\"simpletable\">\n",
              "<caption>OLS Regression Results</caption>\n",
              "<tr>\n",
              "  <th>Dep. Variable:</th>       <td>StripSearch</td>   <th>  R-squared:         </th> <td>   0.018</td> \n",
              "</tr>\n",
              "<tr>\n",
              "  <th>Model:</th>                   <td>OLS</td>       <th>  Adj. R-squared:    </th> <td>   0.018</td> \n",
              "</tr>\n",
              "<tr>\n",
              "  <th>Method:</th>             <td>Least Squares</td>  <th>  F-statistic:       </th> <td>   386.0</td> \n",
              "</tr>\n",
              "<tr>\n",
              "  <th>Date:</th>             <td>Wed, 12 Apr 2023</td> <th>  Prob (F-statistic):</th> <td>2.03e-248</td>\n",
              "</tr>\n",
              "<tr>\n",
              "  <th>Time:</th>                 <td>16:28:03</td>     <th>  Log-Likelihood:    </th> <td> -18882.</td> \n",
              "</tr>\n",
              "<tr>\n",
              "  <th>No. Observations:</th>      <td> 62016</td>      <th>  AIC:               </th> <td>3.777e+04</td>\n",
              "</tr>\n",
              "<tr>\n",
              "  <th>Df Residuals:</th>          <td> 62012</td>      <th>  BIC:               </th> <td>3.781e+04</td>\n",
              "</tr>\n",
              "<tr>\n",
              "  <th>Df Model:</th>              <td>     3</td>      <th>                     </th>     <td> </td>    \n",
              "</tr>\n",
              "<tr>\n",
              "  <th>Covariance Type:</th>      <td>nonrobust</td>    <th>                     </th>     <td> </td>    \n",
              "</tr>\n",
              "</table>\n",
              "<table class=\"simpletable\">\n",
              "<tr>\n",
              "         <td></td>           <th>coef</th>     <th>std err</th>      <th>t</th>      <th>P>|t|</th>  <th>[0.025</th>    <th>0.975]</th>  \n",
              "</tr>\n",
              "<tr>\n",
              "  <th>const</th>          <td>    0.0869</td> <td>    0.003</td> <td>   26.300</td> <td> 0.000</td> <td>    0.080</td> <td>    0.093</td>\n",
              "</tr>\n",
              "<tr>\n",
              "  <th>Sex</th>            <td>    0.0211</td> <td>    0.003</td> <td>    6.295</td> <td> 0.000</td> <td>    0.015</td> <td>    0.028</td>\n",
              "</tr>\n",
              "<tr>\n",
              "  <th>Perceived_Race</th> <td>   -0.0074</td> <td>    0.001</td> <td>  -10.474</td> <td> 0.000</td> <td>   -0.009</td> <td>   -0.006</td>\n",
              "</tr>\n",
              "<tr>\n",
              "  <th>num_arrests</th>    <td>    0.0075</td> <td>    0.000</td> <td>   31.289</td> <td> 0.000</td> <td>    0.007</td> <td>    0.008</td>\n",
              "</tr>\n",
              "</table>\n",
              "<table class=\"simpletable\">\n",
              "<tr>\n",
              "  <th>Omnibus:</th>       <td>24749.255</td> <th>  Durbin-Watson:     </th> <td>   1.765</td> \n",
              "</tr>\n",
              "<tr>\n",
              "  <th>Prob(Omnibus):</th>  <td> 0.000</td>   <th>  Jarque-Bera (JB):  </th> <td>73863.234</td>\n",
              "</tr>\n",
              "<tr>\n",
              "  <th>Skew:</th>           <td> 2.200</td>   <th>  Prob(JB):          </th> <td>    0.00</td> \n",
              "</tr>\n",
              "<tr>\n",
              "  <th>Kurtosis:</th>       <td> 6.036</td>   <th>  Cond. No.          </th> <td>    24.0</td> \n",
              "</tr>\n",
              "</table><br/><br/>Notes:<br/>[1] Standard Errors assume that the covariance matrix of the errors is correctly specified."
            ],
            "text/plain": [
              "<class 'statsmodels.iolib.summary.Summary'>\n",
              "\"\"\"\n",
              "                            OLS Regression Results                            \n",
              "==============================================================================\n",
              "Dep. Variable:            StripSearch   R-squared:                       0.018\n",
              "Model:                            OLS   Adj. R-squared:                  0.018\n",
              "Method:                 Least Squares   F-statistic:                     386.0\n",
              "Date:                Wed, 12 Apr 2023   Prob (F-statistic):          2.03e-248\n",
              "Time:                        16:28:03   Log-Likelihood:                -18882.\n",
              "No. Observations:               62016   AIC:                         3.777e+04\n",
              "Df Residuals:                   62012   BIC:                         3.781e+04\n",
              "Df Model:                           3                                         \n",
              "Covariance Type:            nonrobust                                         \n",
              "==================================================================================\n",
              "                     coef    std err          t      P>|t|      [0.025      0.975]\n",
              "----------------------------------------------------------------------------------\n",
              "const              0.0869      0.003     26.300      0.000       0.080       0.093\n",
              "Sex                0.0211      0.003      6.295      0.000       0.015       0.028\n",
              "Perceived_Race    -0.0074      0.001    -10.474      0.000      -0.009      -0.006\n",
              "num_arrests        0.0075      0.000     31.289      0.000       0.007       0.008\n",
              "==============================================================================\n",
              "Omnibus:                    24749.255   Durbin-Watson:                   1.765\n",
              "Prob(Omnibus):                  0.000   Jarque-Bera (JB):            73863.234\n",
              "Skew:                           2.200   Prob(JB):                         0.00\n",
              "Kurtosis:                       6.036   Cond. No.                         24.0\n",
              "==============================================================================\n",
              "\n",
              "Notes:\n",
              "[1] Standard Errors assume that the covariance matrix of the errors is correctly specified.\n",
              "\"\"\""
            ]
          },
          "execution_count": 83,
          "metadata": {},
          "output_type": "execute_result"
        }
      ],
      "source": [
        "X = sm.add_constant(X) \n",
        "model = sm.OLS(y, X)\n",
        "results = model.fit()\n",
        "results.summary()"
      ]
    }
  ],
  "metadata": {
    "kernelspec": {
      "display_name": "Python 3",
      "language": "python",
      "name": "python3"
    },
    "language_info": {
      "codemirror_mode": {
        "name": "ipython",
        "version": 3
      },
      "file_extension": ".py",
      "mimetype": "text/x-python",
      "name": "python",
      "nbconvert_exporter": "python",
      "pygments_lexer": "ipython3",
      "version": "3.7.0"
    },
    "colab": {
      "provenance": [],
      "toc_visible": true
    }
  },
  "nbformat": 4,
  "nbformat_minor": 0
}