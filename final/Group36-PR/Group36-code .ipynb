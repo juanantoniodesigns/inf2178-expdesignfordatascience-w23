{
  "cells": [
    {
      "cell_type": "code",
      "execution_count": null,
      "id": "f7b13111-c794-428e-b6e8-52b6b6554f8d",
      "metadata": {
        "tags": [],
        "id": "f7b13111-c794-428e-b6e8-52b6b6554f8d"
      },
      "outputs": [],
      "source": [
        "# importing libraries\n",
        "import pandas as pd\n",
        "import numpy as np\n",
        "import matplotlib.pyplot as plt\n",
        "from scipy import stats\n",
        "import math\n",
        "import seaborn as sns\n",
        "from statsmodels.stats.multicomp import pairwise_tukeyhsd\n",
        "import statsmodels.api as sm\n",
        "from statsmodels.formula.api import ols\n",
        "from statsmodels.graphics.factorplots import interaction_plot"
      ]
    },
    {
      "cell_type": "code",
      "execution_count": null,
      "id": "c82685b4-2874-41fe-8b8a-732f657eb176",
      "metadata": {
        "tags": [],
        "id": "c82685b4-2874-41fe-8b8a-732f657eb176"
      },
      "outputs": [],
      "source": [
        "df = pd.read_csv(\"https://raw.githubusercontent.com/shionguha/inf2178-expdesignfordatascience-w23/main/project%20dataset/Arrests_and_Strip_Searches_(RBDC-ARR-TBL-001).csv\")\n"
      ]
    },
    {
      "cell_type": "markdown",
      "source": [
        "# Midterm"
      ],
      "metadata": {
        "id": "v3Xll8qTA5_e"
      },
      "id": "v3Xll8qTA5_e"
    },
    {
      "cell_type": "markdown",
      "source": [
        "## Data Preprocessing\n"
      ],
      "metadata": {
        "id": "USJtc7kTBFwF"
      },
      "id": "USJtc7kTBFwF"
    },
    {
      "cell_type": "code",
      "source": [
        "df.shape"
      ],
      "metadata": {
        "colab": {
          "base_uri": "https://localhost:8080/"
        },
        "id": "Qlr8hu8qdNCQ",
        "outputId": "3ddebccf-c79e-4f3d-da90-0daa57af8d33"
      },
      "id": "Qlr8hu8qdNCQ",
      "execution_count": null,
      "outputs": [
        {
          "output_type": "execute_result",
          "data": {
            "text/plain": [
              "(65276, 25)"
            ]
          },
          "metadata": {},
          "execution_count": 3
        }
      ]
    },
    {
      "cell_type": "code",
      "execution_count": null,
      "id": "647ce432-dda6-435d-8d03-126e09f63ba6",
      "metadata": {
        "tags": [],
        "id": "647ce432-dda6-435d-8d03-126e09f63ba6",
        "outputId": "93ffa1d1-befe-46c5-a82d-70298aa1e864",
        "colab": {
          "base_uri": "https://localhost:8080/",
          "height": 856
        }
      },
      "outputs": [
        {
          "output_type": "execute_result",
          "data": {
            "text/plain": [
              "    Arrest_Year Arrest_Month  EventID   ArrestID  PersonID     Perceived_Race  \\\n",
              "0          2020    July-Sept  1005907  6017884.0    326622              White   \n",
              "1          2020    July-Sept  1014562  6056669.0    326622              White   \n",
              "2          2020      Oct-Dec  1029922  6057065.0    326622  Unknown or Legacy   \n",
              "3          2021      Jan-Mar  1052190  6029059.0    327535              Black   \n",
              "4          2021      Jan-Mar  1015512  6040372.0    327535        South Asian   \n",
              "5          2021     Apr-June  1019145  6060688.0    327535        South Asian   \n",
              "6          2021      Jan-Mar  1035445  6053833.0    330778              Black   \n",
              "7          2021      Jan-Mar  1050464  6063477.0    330778              Black   \n",
              "8          2021      Jan-Mar  1045486  6053929.0    330778              Black   \n",
              "9          2021     Apr-June  1012287  6004570.0    330778              Black   \n",
              "10         2021     Apr-June  1056655  6032326.0    330778              Black   \n",
              "11         2021     Apr-June  1040382  6054934.0    330778              Black   \n",
              "12         2021     Apr-June  1039002  6030241.0    330778              Black   \n",
              "13         2021      Oct-Dec  1022468  6047871.0    328630         Indigenous   \n",
              "14         2020     Apr-June  1045382  6057058.0    312724              Black   \n",
              "15         2020     Apr-June  1050824  6033193.0    312724  Unknown or Legacy   \n",
              "16         2020     Apr-June  1015394  6038801.0    312724  Unknown or Legacy   \n",
              "17         2020     Apr-June  1015501  6022720.0    312724  Unknown or Legacy   \n",
              "18         2020     Apr-June  1032392  6054743.0    312724  Unknown or Legacy   \n",
              "19         2020      Oct-Dec  1031809  6048710.0    312724     Middle-Eastern   \n",
              "\n",
              "   Sex Age_group__at_arrest_ Youth_at_arrest__under_18_years ArrestLocDiv  \\\n",
              "0    M   Aged 35 to 44 years                     Not a youth           54   \n",
              "1    M   Aged 35 to 44 years                     Not a youth           54   \n",
              "2    M   Aged 35 to 44 years                     Not a youth           54   \n",
              "3    M   Aged 25 to 34 years                     Not a youth           XX   \n",
              "4    M   Aged 25 to 34 years                     Not a youth           XX   \n",
              "5    M   Aged 25 to 34 years                     Not a youth           42   \n",
              "6    M   Aged 25 to 34 years                     Not a youth           52   \n",
              "7    M   Aged 25 to 34 years                     Not a youth           XX   \n",
              "8    M   Aged 25 to 34 years                     Not a youth           XX   \n",
              "9    M   Aged 25 to 34 years                     Not a youth           14   \n",
              "10   M   Aged 25 to 34 years                     Not a youth           51   \n",
              "11   M   Aged 25 to 34 years                     Not a youth           XX   \n",
              "12   M   Aged 25 to 34 years                     Not a youth           53   \n",
              "13   M   Aged 45 to 54 years                     Not a youth           XX   \n",
              "14   M   Aged 25 to 34 years                     Not a youth           53   \n",
              "15   M   Aged 25 to 34 years                     Not a youth           53   \n",
              "16   M   Aged 25 to 34 years                     Not a youth           53   \n",
              "17   M   Aged 25 to 34 years                     Not a youth           53   \n",
              "18   M   Aged 25 to 34 years                     Not a youth           52   \n",
              "19   M   Aged 25 to 34 years                     Not a youth           XX   \n",
              "\n",
              "    ...  Actions_at_arrest___Resisted__d  Actions_at_arrest___Mental_inst  \\\n",
              "0   ...                                0                                0   \n",
              "1   ...                                0                                0   \n",
              "2   ...                                0                                0   \n",
              "3   ...                                0                                0   \n",
              "4   ...                                0                                0   \n",
              "5   ...                                0                                0   \n",
              "6   ...                                0                                0   \n",
              "7   ...                                0                                0   \n",
              "8   ...                                0                                0   \n",
              "9   ...                                0                                0   \n",
              "10  ...                                0                                0   \n",
              "11  ...                                0                                0   \n",
              "12  ...                                0                                0   \n",
              "13  ...                                0                                0   \n",
              "14  ...                                0                                0   \n",
              "15  ...                                0                                0   \n",
              "16  ...                                0                                0   \n",
              "17  ...                                0                                0   \n",
              "18  ...                                0                                0   \n",
              "19  ...                                0                                0   \n",
              "\n",
              "   Actions_at_arrest___Assaulted_o  Actions_at_arrest___Cooperative  \\\n",
              "0                                0                                1   \n",
              "1                                0                                0   \n",
              "2                                0                                0   \n",
              "3                                0                                0   \n",
              "4                                0                                0   \n",
              "5                                0                                1   \n",
              "6                                0                                0   \n",
              "7                                0                                1   \n",
              "8                                0                                1   \n",
              "9                                0                                0   \n",
              "10                               0                                1   \n",
              "11                               0                                0   \n",
              "12                               0                                1   \n",
              "13                               0                                0   \n",
              "14                               0                                0   \n",
              "15                               0                                1   \n",
              "16                               0                                1   \n",
              "17                               0                                1   \n",
              "18                               0                                1   \n",
              "19                               0                                1   \n",
              "\n",
              "    SearchReason_CauseInjury  SearchReason_AssistEscape  \\\n",
              "0                        NaN                        NaN   \n",
              "1                        NaN                        NaN   \n",
              "2                        NaN                        NaN   \n",
              "3                        NaN                        NaN   \n",
              "4                        NaN                        NaN   \n",
              "5                        NaN                        NaN   \n",
              "6                        NaN                        NaN   \n",
              "7                        NaN                        NaN   \n",
              "8                        NaN                        NaN   \n",
              "9                        NaN                        NaN   \n",
              "10                       NaN                        NaN   \n",
              "11                       NaN                        NaN   \n",
              "12                       1.0                        1.0   \n",
              "13                       NaN                        NaN   \n",
              "14                       1.0                        1.0   \n",
              "15                       NaN                        NaN   \n",
              "16                       NaN                        NaN   \n",
              "17                       NaN                        NaN   \n",
              "18                       NaN                        NaN   \n",
              "19                       NaN                        NaN   \n",
              "\n",
              "    SearchReason_PossessWeapons  SearchReason_PossessEvidence  ItemsFound  \\\n",
              "0                           NaN                           NaN         NaN   \n",
              "1                           NaN                           NaN         NaN   \n",
              "2                           NaN                           NaN         NaN   \n",
              "3                           NaN                           NaN         NaN   \n",
              "4                           NaN                           NaN         NaN   \n",
              "5                           NaN                           NaN         NaN   \n",
              "6                           NaN                           NaN         NaN   \n",
              "7                           NaN                           NaN         NaN   \n",
              "8                           NaN                           NaN         NaN   \n",
              "9                           NaN                           NaN         NaN   \n",
              "10                          NaN                           NaN         NaN   \n",
              "11                          NaN                           NaN         NaN   \n",
              "12                          1.0                           0.0         0.0   \n",
              "13                          NaN                           NaN         NaN   \n",
              "14                          1.0                           0.0         0.0   \n",
              "15                          NaN                           NaN         NaN   \n",
              "16                          NaN                           NaN         NaN   \n",
              "17                          NaN                           NaN         NaN   \n",
              "18                          NaN                           NaN         NaN   \n",
              "19                          NaN                           NaN         NaN   \n",
              "\n",
              "    ObjectId  \n",
              "0          1  \n",
              "1          2  \n",
              "2          3  \n",
              "3          4  \n",
              "4          5  \n",
              "5          6  \n",
              "6          7  \n",
              "7          8  \n",
              "8          9  \n",
              "9         10  \n",
              "10        11  \n",
              "11        12  \n",
              "12        13  \n",
              "13        14  \n",
              "14        15  \n",
              "15        16  \n",
              "16        17  \n",
              "17        18  \n",
              "18        19  \n",
              "19        20  \n",
              "\n",
              "[20 rows x 25 columns]"
            ],
            "text/html": [
              "\n",
              "  <div id=\"df-53cf8675-f445-439d-911a-fe4e278aa2f1\">\n",
              "    <div class=\"colab-df-container\">\n",
              "      <div>\n",
              "<style scoped>\n",
              "    .dataframe tbody tr th:only-of-type {\n",
              "        vertical-align: middle;\n",
              "    }\n",
              "\n",
              "    .dataframe tbody tr th {\n",
              "        vertical-align: top;\n",
              "    }\n",
              "\n",
              "    .dataframe thead th {\n",
              "        text-align: right;\n",
              "    }\n",
              "</style>\n",
              "<table border=\"1\" class=\"dataframe\">\n",
              "  <thead>\n",
              "    <tr style=\"text-align: right;\">\n",
              "      <th></th>\n",
              "      <th>Arrest_Year</th>\n",
              "      <th>Arrest_Month</th>\n",
              "      <th>EventID</th>\n",
              "      <th>ArrestID</th>\n",
              "      <th>PersonID</th>\n",
              "      <th>Perceived_Race</th>\n",
              "      <th>Sex</th>\n",
              "      <th>Age_group__at_arrest_</th>\n",
              "      <th>Youth_at_arrest__under_18_years</th>\n",
              "      <th>ArrestLocDiv</th>\n",
              "      <th>...</th>\n",
              "      <th>Actions_at_arrest___Resisted__d</th>\n",
              "      <th>Actions_at_arrest___Mental_inst</th>\n",
              "      <th>Actions_at_arrest___Assaulted_o</th>\n",
              "      <th>Actions_at_arrest___Cooperative</th>\n",
              "      <th>SearchReason_CauseInjury</th>\n",
              "      <th>SearchReason_AssistEscape</th>\n",
              "      <th>SearchReason_PossessWeapons</th>\n",
              "      <th>SearchReason_PossessEvidence</th>\n",
              "      <th>ItemsFound</th>\n",
              "      <th>ObjectId</th>\n",
              "    </tr>\n",
              "  </thead>\n",
              "  <tbody>\n",
              "    <tr>\n",
              "      <th>0</th>\n",
              "      <td>2020</td>\n",
              "      <td>July-Sept</td>\n",
              "      <td>1005907</td>\n",
              "      <td>6017884.0</td>\n",
              "      <td>326622</td>\n",
              "      <td>White</td>\n",
              "      <td>M</td>\n",
              "      <td>Aged 35 to 44 years</td>\n",
              "      <td>Not a youth</td>\n",
              "      <td>54</td>\n",
              "      <td>...</td>\n",
              "      <td>0</td>\n",
              "      <td>0</td>\n",
              "      <td>0</td>\n",
              "      <td>1</td>\n",
              "      <td>NaN</td>\n",
              "      <td>NaN</td>\n",
              "      <td>NaN</td>\n",
              "      <td>NaN</td>\n",
              "      <td>NaN</td>\n",
              "      <td>1</td>\n",
              "    </tr>\n",
              "    <tr>\n",
              "      <th>1</th>\n",
              "      <td>2020</td>\n",
              "      <td>July-Sept</td>\n",
              "      <td>1014562</td>\n",
              "      <td>6056669.0</td>\n",
              "      <td>326622</td>\n",
              "      <td>White</td>\n",
              "      <td>M</td>\n",
              "      <td>Aged 35 to 44 years</td>\n",
              "      <td>Not a youth</td>\n",
              "      <td>54</td>\n",
              "      <td>...</td>\n",
              "      <td>0</td>\n",
              "      <td>0</td>\n",
              "      <td>0</td>\n",
              "      <td>0</td>\n",
              "      <td>NaN</td>\n",
              "      <td>NaN</td>\n",
              "      <td>NaN</td>\n",
              "      <td>NaN</td>\n",
              "      <td>NaN</td>\n",
              "      <td>2</td>\n",
              "    </tr>\n",
              "    <tr>\n",
              "      <th>2</th>\n",
              "      <td>2020</td>\n",
              "      <td>Oct-Dec</td>\n",
              "      <td>1029922</td>\n",
              "      <td>6057065.0</td>\n",
              "      <td>326622</td>\n",
              "      <td>Unknown or Legacy</td>\n",
              "      <td>M</td>\n",
              "      <td>Aged 35 to 44 years</td>\n",
              "      <td>Not a youth</td>\n",
              "      <td>54</td>\n",
              "      <td>...</td>\n",
              "      <td>0</td>\n",
              "      <td>0</td>\n",
              "      <td>0</td>\n",
              "      <td>0</td>\n",
              "      <td>NaN</td>\n",
              "      <td>NaN</td>\n",
              "      <td>NaN</td>\n",
              "      <td>NaN</td>\n",
              "      <td>NaN</td>\n",
              "      <td>3</td>\n",
              "    </tr>\n",
              "    <tr>\n",
              "      <th>3</th>\n",
              "      <td>2021</td>\n",
              "      <td>Jan-Mar</td>\n",
              "      <td>1052190</td>\n",
              "      <td>6029059.0</td>\n",
              "      <td>327535</td>\n",
              "      <td>Black</td>\n",
              "      <td>M</td>\n",
              "      <td>Aged 25 to 34 years</td>\n",
              "      <td>Not a youth</td>\n",
              "      <td>XX</td>\n",
              "      <td>...</td>\n",
              "      <td>0</td>\n",
              "      <td>0</td>\n",
              "      <td>0</td>\n",
              "      <td>0</td>\n",
              "      <td>NaN</td>\n",
              "      <td>NaN</td>\n",
              "      <td>NaN</td>\n",
              "      <td>NaN</td>\n",
              "      <td>NaN</td>\n",
              "      <td>4</td>\n",
              "    </tr>\n",
              "    <tr>\n",
              "      <th>4</th>\n",
              "      <td>2021</td>\n",
              "      <td>Jan-Mar</td>\n",
              "      <td>1015512</td>\n",
              "      <td>6040372.0</td>\n",
              "      <td>327535</td>\n",
              "      <td>South Asian</td>\n",
              "      <td>M</td>\n",
              "      <td>Aged 25 to 34 years</td>\n",
              "      <td>Not a youth</td>\n",
              "      <td>XX</td>\n",
              "      <td>...</td>\n",
              "      <td>0</td>\n",
              "      <td>0</td>\n",
              "      <td>0</td>\n",
              "      <td>0</td>\n",
              "      <td>NaN</td>\n",
              "      <td>NaN</td>\n",
              "      <td>NaN</td>\n",
              "      <td>NaN</td>\n",
              "      <td>NaN</td>\n",
              "      <td>5</td>\n",
              "    </tr>\n",
              "    <tr>\n",
              "      <th>5</th>\n",
              "      <td>2021</td>\n",
              "      <td>Apr-June</td>\n",
              "      <td>1019145</td>\n",
              "      <td>6060688.0</td>\n",
              "      <td>327535</td>\n",
              "      <td>South Asian</td>\n",
              "      <td>M</td>\n",
              "      <td>Aged 25 to 34 years</td>\n",
              "      <td>Not a youth</td>\n",
              "      <td>42</td>\n",
              "      <td>...</td>\n",
              "      <td>0</td>\n",
              "      <td>0</td>\n",
              "      <td>0</td>\n",
              "      <td>1</td>\n",
              "      <td>NaN</td>\n",
              "      <td>NaN</td>\n",
              "      <td>NaN</td>\n",
              "      <td>NaN</td>\n",
              "      <td>NaN</td>\n",
              "      <td>6</td>\n",
              "    </tr>\n",
              "    <tr>\n",
              "      <th>6</th>\n",
              "      <td>2021</td>\n",
              "      <td>Jan-Mar</td>\n",
              "      <td>1035445</td>\n",
              "      <td>6053833.0</td>\n",
              "      <td>330778</td>\n",
              "      <td>Black</td>\n",
              "      <td>M</td>\n",
              "      <td>Aged 25 to 34 years</td>\n",
              "      <td>Not a youth</td>\n",
              "      <td>52</td>\n",
              "      <td>...</td>\n",
              "      <td>0</td>\n",
              "      <td>0</td>\n",
              "      <td>0</td>\n",
              "      <td>0</td>\n",
              "      <td>NaN</td>\n",
              "      <td>NaN</td>\n",
              "      <td>NaN</td>\n",
              "      <td>NaN</td>\n",
              "      <td>NaN</td>\n",
              "      <td>7</td>\n",
              "    </tr>\n",
              "    <tr>\n",
              "      <th>7</th>\n",
              "      <td>2021</td>\n",
              "      <td>Jan-Mar</td>\n",
              "      <td>1050464</td>\n",
              "      <td>6063477.0</td>\n",
              "      <td>330778</td>\n",
              "      <td>Black</td>\n",
              "      <td>M</td>\n",
              "      <td>Aged 25 to 34 years</td>\n",
              "      <td>Not a youth</td>\n",
              "      <td>XX</td>\n",
              "      <td>...</td>\n",
              "      <td>0</td>\n",
              "      <td>0</td>\n",
              "      <td>0</td>\n",
              "      <td>1</td>\n",
              "      <td>NaN</td>\n",
              "      <td>NaN</td>\n",
              "      <td>NaN</td>\n",
              "      <td>NaN</td>\n",
              "      <td>NaN</td>\n",
              "      <td>8</td>\n",
              "    </tr>\n",
              "    <tr>\n",
              "      <th>8</th>\n",
              "      <td>2021</td>\n",
              "      <td>Jan-Mar</td>\n",
              "      <td>1045486</td>\n",
              "      <td>6053929.0</td>\n",
              "      <td>330778</td>\n",
              "      <td>Black</td>\n",
              "      <td>M</td>\n",
              "      <td>Aged 25 to 34 years</td>\n",
              "      <td>Not a youth</td>\n",
              "      <td>XX</td>\n",
              "      <td>...</td>\n",
              "      <td>0</td>\n",
              "      <td>0</td>\n",
              "      <td>0</td>\n",
              "      <td>1</td>\n",
              "      <td>NaN</td>\n",
              "      <td>NaN</td>\n",
              "      <td>NaN</td>\n",
              "      <td>NaN</td>\n",
              "      <td>NaN</td>\n",
              "      <td>9</td>\n",
              "    </tr>\n",
              "    <tr>\n",
              "      <th>9</th>\n",
              "      <td>2021</td>\n",
              "      <td>Apr-June</td>\n",
              "      <td>1012287</td>\n",
              "      <td>6004570.0</td>\n",
              "      <td>330778</td>\n",
              "      <td>Black</td>\n",
              "      <td>M</td>\n",
              "      <td>Aged 25 to 34 years</td>\n",
              "      <td>Not a youth</td>\n",
              "      <td>14</td>\n",
              "      <td>...</td>\n",
              "      <td>0</td>\n",
              "      <td>0</td>\n",
              "      <td>0</td>\n",
              "      <td>0</td>\n",
              "      <td>NaN</td>\n",
              "      <td>NaN</td>\n",
              "      <td>NaN</td>\n",
              "      <td>NaN</td>\n",
              "      <td>NaN</td>\n",
              "      <td>10</td>\n",
              "    </tr>\n",
              "    <tr>\n",
              "      <th>10</th>\n",
              "      <td>2021</td>\n",
              "      <td>Apr-June</td>\n",
              "      <td>1056655</td>\n",
              "      <td>6032326.0</td>\n",
              "      <td>330778</td>\n",
              "      <td>Black</td>\n",
              "      <td>M</td>\n",
              "      <td>Aged 25 to 34 years</td>\n",
              "      <td>Not a youth</td>\n",
              "      <td>51</td>\n",
              "      <td>...</td>\n",
              "      <td>0</td>\n",
              "      <td>0</td>\n",
              "      <td>0</td>\n",
              "      <td>1</td>\n",
              "      <td>NaN</td>\n",
              "      <td>NaN</td>\n",
              "      <td>NaN</td>\n",
              "      <td>NaN</td>\n",
              "      <td>NaN</td>\n",
              "      <td>11</td>\n",
              "    </tr>\n",
              "    <tr>\n",
              "      <th>11</th>\n",
              "      <td>2021</td>\n",
              "      <td>Apr-June</td>\n",
              "      <td>1040382</td>\n",
              "      <td>6054934.0</td>\n",
              "      <td>330778</td>\n",
              "      <td>Black</td>\n",
              "      <td>M</td>\n",
              "      <td>Aged 25 to 34 years</td>\n",
              "      <td>Not a youth</td>\n",
              "      <td>XX</td>\n",
              "      <td>...</td>\n",
              "      <td>0</td>\n",
              "      <td>0</td>\n",
              "      <td>0</td>\n",
              "      <td>0</td>\n",
              "      <td>NaN</td>\n",
              "      <td>NaN</td>\n",
              "      <td>NaN</td>\n",
              "      <td>NaN</td>\n",
              "      <td>NaN</td>\n",
              "      <td>12</td>\n",
              "    </tr>\n",
              "    <tr>\n",
              "      <th>12</th>\n",
              "      <td>2021</td>\n",
              "      <td>Apr-June</td>\n",
              "      <td>1039002</td>\n",
              "      <td>6030241.0</td>\n",
              "      <td>330778</td>\n",
              "      <td>Black</td>\n",
              "      <td>M</td>\n",
              "      <td>Aged 25 to 34 years</td>\n",
              "      <td>Not a youth</td>\n",
              "      <td>53</td>\n",
              "      <td>...</td>\n",
              "      <td>0</td>\n",
              "      <td>0</td>\n",
              "      <td>0</td>\n",
              "      <td>1</td>\n",
              "      <td>1.0</td>\n",
              "      <td>1.0</td>\n",
              "      <td>1.0</td>\n",
              "      <td>0.0</td>\n",
              "      <td>0.0</td>\n",
              "      <td>13</td>\n",
              "    </tr>\n",
              "    <tr>\n",
              "      <th>13</th>\n",
              "      <td>2021</td>\n",
              "      <td>Oct-Dec</td>\n",
              "      <td>1022468</td>\n",
              "      <td>6047871.0</td>\n",
              "      <td>328630</td>\n",
              "      <td>Indigenous</td>\n",
              "      <td>M</td>\n",
              "      <td>Aged 45 to 54 years</td>\n",
              "      <td>Not a youth</td>\n",
              "      <td>XX</td>\n",
              "      <td>...</td>\n",
              "      <td>0</td>\n",
              "      <td>0</td>\n",
              "      <td>0</td>\n",
              "      <td>0</td>\n",
              "      <td>NaN</td>\n",
              "      <td>NaN</td>\n",
              "      <td>NaN</td>\n",
              "      <td>NaN</td>\n",
              "      <td>NaN</td>\n",
              "      <td>14</td>\n",
              "    </tr>\n",
              "    <tr>\n",
              "      <th>14</th>\n",
              "      <td>2020</td>\n",
              "      <td>Apr-June</td>\n",
              "      <td>1045382</td>\n",
              "      <td>6057058.0</td>\n",
              "      <td>312724</td>\n",
              "      <td>Black</td>\n",
              "      <td>M</td>\n",
              "      <td>Aged 25 to 34 years</td>\n",
              "      <td>Not a youth</td>\n",
              "      <td>53</td>\n",
              "      <td>...</td>\n",
              "      <td>0</td>\n",
              "      <td>0</td>\n",
              "      <td>0</td>\n",
              "      <td>0</td>\n",
              "      <td>1.0</td>\n",
              "      <td>1.0</td>\n",
              "      <td>1.0</td>\n",
              "      <td>0.0</td>\n",
              "      <td>0.0</td>\n",
              "      <td>15</td>\n",
              "    </tr>\n",
              "    <tr>\n",
              "      <th>15</th>\n",
              "      <td>2020</td>\n",
              "      <td>Apr-June</td>\n",
              "      <td>1050824</td>\n",
              "      <td>6033193.0</td>\n",
              "      <td>312724</td>\n",
              "      <td>Unknown or Legacy</td>\n",
              "      <td>M</td>\n",
              "      <td>Aged 25 to 34 years</td>\n",
              "      <td>Not a youth</td>\n",
              "      <td>53</td>\n",
              "      <td>...</td>\n",
              "      <td>0</td>\n",
              "      <td>0</td>\n",
              "      <td>0</td>\n",
              "      <td>1</td>\n",
              "      <td>NaN</td>\n",
              "      <td>NaN</td>\n",
              "      <td>NaN</td>\n",
              "      <td>NaN</td>\n",
              "      <td>NaN</td>\n",
              "      <td>16</td>\n",
              "    </tr>\n",
              "    <tr>\n",
              "      <th>16</th>\n",
              "      <td>2020</td>\n",
              "      <td>Apr-June</td>\n",
              "      <td>1015394</td>\n",
              "      <td>6038801.0</td>\n",
              "      <td>312724</td>\n",
              "      <td>Unknown or Legacy</td>\n",
              "      <td>M</td>\n",
              "      <td>Aged 25 to 34 years</td>\n",
              "      <td>Not a youth</td>\n",
              "      <td>53</td>\n",
              "      <td>...</td>\n",
              "      <td>0</td>\n",
              "      <td>0</td>\n",
              "      <td>0</td>\n",
              "      <td>1</td>\n",
              "      <td>NaN</td>\n",
              "      <td>NaN</td>\n",
              "      <td>NaN</td>\n",
              "      <td>NaN</td>\n",
              "      <td>NaN</td>\n",
              "      <td>17</td>\n",
              "    </tr>\n",
              "    <tr>\n",
              "      <th>17</th>\n",
              "      <td>2020</td>\n",
              "      <td>Apr-June</td>\n",
              "      <td>1015501</td>\n",
              "      <td>6022720.0</td>\n",
              "      <td>312724</td>\n",
              "      <td>Unknown or Legacy</td>\n",
              "      <td>M</td>\n",
              "      <td>Aged 25 to 34 years</td>\n",
              "      <td>Not a youth</td>\n",
              "      <td>53</td>\n",
              "      <td>...</td>\n",
              "      <td>0</td>\n",
              "      <td>0</td>\n",
              "      <td>0</td>\n",
              "      <td>1</td>\n",
              "      <td>NaN</td>\n",
              "      <td>NaN</td>\n",
              "      <td>NaN</td>\n",
              "      <td>NaN</td>\n",
              "      <td>NaN</td>\n",
              "      <td>18</td>\n",
              "    </tr>\n",
              "    <tr>\n",
              "      <th>18</th>\n",
              "      <td>2020</td>\n",
              "      <td>Apr-June</td>\n",
              "      <td>1032392</td>\n",
              "      <td>6054743.0</td>\n",
              "      <td>312724</td>\n",
              "      <td>Unknown or Legacy</td>\n",
              "      <td>M</td>\n",
              "      <td>Aged 25 to 34 years</td>\n",
              "      <td>Not a youth</td>\n",
              "      <td>52</td>\n",
              "      <td>...</td>\n",
              "      <td>0</td>\n",
              "      <td>0</td>\n",
              "      <td>0</td>\n",
              "      <td>1</td>\n",
              "      <td>NaN</td>\n",
              "      <td>NaN</td>\n",
              "      <td>NaN</td>\n",
              "      <td>NaN</td>\n",
              "      <td>NaN</td>\n",
              "      <td>19</td>\n",
              "    </tr>\n",
              "    <tr>\n",
              "      <th>19</th>\n",
              "      <td>2020</td>\n",
              "      <td>Oct-Dec</td>\n",
              "      <td>1031809</td>\n",
              "      <td>6048710.0</td>\n",
              "      <td>312724</td>\n",
              "      <td>Middle-Eastern</td>\n",
              "      <td>M</td>\n",
              "      <td>Aged 25 to 34 years</td>\n",
              "      <td>Not a youth</td>\n",
              "      <td>XX</td>\n",
              "      <td>...</td>\n",
              "      <td>0</td>\n",
              "      <td>0</td>\n",
              "      <td>0</td>\n",
              "      <td>1</td>\n",
              "      <td>NaN</td>\n",
              "      <td>NaN</td>\n",
              "      <td>NaN</td>\n",
              "      <td>NaN</td>\n",
              "      <td>NaN</td>\n",
              "      <td>20</td>\n",
              "    </tr>\n",
              "  </tbody>\n",
              "</table>\n",
              "<p>20 rows × 25 columns</p>\n",
              "</div>\n",
              "      <button class=\"colab-df-convert\" onclick=\"convertToInteractive('df-53cf8675-f445-439d-911a-fe4e278aa2f1')\"\n",
              "              title=\"Convert this dataframe to an interactive table.\"\n",
              "              style=\"display:none;\">\n",
              "        \n",
              "  <svg xmlns=\"http://www.w3.org/2000/svg\" height=\"24px\"viewBox=\"0 0 24 24\"\n",
              "       width=\"24px\">\n",
              "    <path d=\"M0 0h24v24H0V0z\" fill=\"none\"/>\n",
              "    <path d=\"M18.56 5.44l.94 2.06.94-2.06 2.06-.94-2.06-.94-.94-2.06-.94 2.06-2.06.94zm-11 1L8.5 8.5l.94-2.06 2.06-.94-2.06-.94L8.5 2.5l-.94 2.06-2.06.94zm10 10l.94 2.06.94-2.06 2.06-.94-2.06-.94-.94-2.06-.94 2.06-2.06.94z\"/><path d=\"M17.41 7.96l-1.37-1.37c-.4-.4-.92-.59-1.43-.59-.52 0-1.04.2-1.43.59L10.3 9.45l-7.72 7.72c-.78.78-.78 2.05 0 2.83L4 21.41c.39.39.9.59 1.41.59.51 0 1.02-.2 1.41-.59l7.78-7.78 2.81-2.81c.8-.78.8-2.07 0-2.86zM5.41 20L4 18.59l7.72-7.72 1.47 1.35L5.41 20z\"/>\n",
              "  </svg>\n",
              "      </button>\n",
              "      \n",
              "  <style>\n",
              "    .colab-df-container {\n",
              "      display:flex;\n",
              "      flex-wrap:wrap;\n",
              "      gap: 12px;\n",
              "    }\n",
              "\n",
              "    .colab-df-convert {\n",
              "      background-color: #E8F0FE;\n",
              "      border: none;\n",
              "      border-radius: 50%;\n",
              "      cursor: pointer;\n",
              "      display: none;\n",
              "      fill: #1967D2;\n",
              "      height: 32px;\n",
              "      padding: 0 0 0 0;\n",
              "      width: 32px;\n",
              "    }\n",
              "\n",
              "    .colab-df-convert:hover {\n",
              "      background-color: #E2EBFA;\n",
              "      box-shadow: 0px 1px 2px rgba(60, 64, 67, 0.3), 0px 1px 3px 1px rgba(60, 64, 67, 0.15);\n",
              "      fill: #174EA6;\n",
              "    }\n",
              "\n",
              "    [theme=dark] .colab-df-convert {\n",
              "      background-color: #3B4455;\n",
              "      fill: #D2E3FC;\n",
              "    }\n",
              "\n",
              "    [theme=dark] .colab-df-convert:hover {\n",
              "      background-color: #434B5C;\n",
              "      box-shadow: 0px 1px 3px 1px rgba(0, 0, 0, 0.15);\n",
              "      filter: drop-shadow(0px 1px 2px rgba(0, 0, 0, 0.3));\n",
              "      fill: #FFFFFF;\n",
              "    }\n",
              "  </style>\n",
              "\n",
              "      <script>\n",
              "        const buttonEl =\n",
              "          document.querySelector('#df-53cf8675-f445-439d-911a-fe4e278aa2f1 button.colab-df-convert');\n",
              "        buttonEl.style.display =\n",
              "          google.colab.kernel.accessAllowed ? 'block' : 'none';\n",
              "\n",
              "        async function convertToInteractive(key) {\n",
              "          const element = document.querySelector('#df-53cf8675-f445-439d-911a-fe4e278aa2f1');\n",
              "          const dataTable =\n",
              "            await google.colab.kernel.invokeFunction('convertToInteractive',\n",
              "                                                     [key], {});\n",
              "          if (!dataTable) return;\n",
              "\n",
              "          const docLinkHtml = 'Like what you see? Visit the ' +\n",
              "            '<a target=\"_blank\" href=https://colab.research.google.com/notebooks/data_table.ipynb>data table notebook</a>'\n",
              "            + ' to learn more about interactive tables.';\n",
              "          element.innerHTML = '';\n",
              "          dataTable['output_type'] = 'display_data';\n",
              "          await google.colab.output.renderOutput(dataTable, element);\n",
              "          const docLink = document.createElement('div');\n",
              "          docLink.innerHTML = docLinkHtml;\n",
              "          element.appendChild(docLink);\n",
              "        }\n",
              "      </script>\n",
              "    </div>\n",
              "  </div>\n",
              "  "
            ]
          },
          "metadata": {},
          "execution_count": 4
        }
      ],
      "source": [
        "# check out content in the dataframe\n",
        "df.head(20)\n"
      ]
    },
    {
      "cell_type": "code",
      "source": [],
      "metadata": {
        "id": "IX9NpMzHklWh"
      },
      "id": "IX9NpMzHklWh",
      "execution_count": null,
      "outputs": []
    },
    {
      "cell_type": "code",
      "execution_count": null,
      "id": "3d017466-a73b-4257-ab1b-0c767cad46a1",
      "metadata": {
        "tags": [],
        "id": "3d017466-a73b-4257-ab1b-0c767cad46a1",
        "outputId": "6fec52c7-9dc7-4dcb-9389-c3dda7c6deae",
        "colab": {
          "base_uri": "https://localhost:8080/"
        }
      },
      "outputs": [
        {
          "output_type": "stream",
          "name": "stdout",
          "text": [
            "<class 'pandas.core.frame.DataFrame'>\n",
            "RangeIndex: 65276 entries, 0 to 65275\n",
            "Data columns (total 25 columns):\n",
            " #   Column                           Non-Null Count  Dtype  \n",
            "---  ------                           --------------  -----  \n",
            " 0   Arrest_Year                      65276 non-null  int64  \n",
            " 1   Arrest_Month                     65276 non-null  object \n",
            " 2   EventID                          65276 non-null  int64  \n",
            " 3   ArrestID                         64807 non-null  float64\n",
            " 4   PersonID                         65276 non-null  int64  \n",
            " 5   Perceived_Race                   65272 non-null  object \n",
            " 6   Sex                              65276 non-null  object \n",
            " 7   Age_group__at_arrest_            65252 non-null  object \n",
            " 8   Youth_at_arrest__under_18_years  65276 non-null  object \n",
            " 9   ArrestLocDiv                     65276 non-null  object \n",
            " 10  StripSearch                      65276 non-null  int64  \n",
            " 11  Booked                           65276 non-null  int64  \n",
            " 12  Occurrence_Category              65111 non-null  object \n",
            " 13  Actions_at_arrest___Concealed_i  65276 non-null  int64  \n",
            " 14  Actions_at_arrest___Combative__  65276 non-null  int64  \n",
            " 15  Actions_at_arrest___Resisted__d  65276 non-null  int64  \n",
            " 16  Actions_at_arrest___Mental_inst  65276 non-null  int64  \n",
            " 17  Actions_at_arrest___Assaulted_o  65276 non-null  int64  \n",
            " 18  Actions_at_arrest___Cooperative  65276 non-null  int64  \n",
            " 19  SearchReason_CauseInjury         7801 non-null   float64\n",
            " 20  SearchReason_AssistEscape        7801 non-null   float64\n",
            " 21  SearchReason_PossessWeapons      7801 non-null   float64\n",
            " 22  SearchReason_PossessEvidence     7801 non-null   float64\n",
            " 23  ItemsFound                       7801 non-null   float64\n",
            " 24  ObjectId                         65276 non-null  int64  \n",
            "dtypes: float64(6), int64(12), object(7)\n",
            "memory usage: 12.5+ MB\n"
          ]
        }
      ],
      "source": [
        "# checking for null value numebr and data type\n",
        "df.info()\n"
      ]
    },
    {
      "cell_type": "code",
      "execution_count": null,
      "id": "9e0762bf-3df2-4499-b7b3-898e7f1627b8",
      "metadata": {
        "tags": [],
        "id": "9e0762bf-3df2-4499-b7b3-898e7f1627b8"
      },
      "outputs": [],
      "source": [
        "\n"
      ]
    },
    {
      "cell_type": "code",
      "execution_count": null,
      "id": "42f1eaf4-cb5b-4701-b238-6555eb1c2818",
      "metadata": {
        "id": "42f1eaf4-cb5b-4701-b238-6555eb1c2818",
        "outputId": "cb535b4e-0f7f-4471-8a7d-2c9c1d30272c",
        "colab": {
          "base_uri": "https://localhost:8080/",
          "height": 369
        }
      },
      "outputs": [
        {
          "output_type": "execute_result",
          "data": {
            "text/plain": [
              "   Arrest_Year Arrest_Month     Perceived_Race Sex Age_group__at_arrest_  \\\n",
              "0         2020    July-Sept              White   M   Aged 35 to 44 years   \n",
              "1         2020    July-Sept              White   M   Aged 35 to 44 years   \n",
              "2         2020      Oct-Dec  Unknown or Legacy   M   Aged 35 to 44 years   \n",
              "3         2021      Jan-Mar              Black   M   Aged 25 to 34 years   \n",
              "4         2021      Jan-Mar        South Asian   M   Aged 25 to 34 years   \n",
              "\n",
              "  Youth_at_arrest__under_18_years ArrestLocDiv  StripSearch  Booked  \\\n",
              "0                     Not a youth           54            0       1   \n",
              "1                     Not a youth           54            0       1   \n",
              "2                     Not a youth           54            0       1   \n",
              "3                     Not a youth           XX            0       0   \n",
              "4                     Not a youth           XX            0       1   \n",
              "\n",
              "                      Occurrence_Category  ...  \\\n",
              "0  Assault & Other crimes against persons  ...   \n",
              "1  Assault & Other crimes against persons  ...   \n",
              "2  Assault & Other crimes against persons  ...   \n",
              "3                  Harassment/Threatening  ...   \n",
              "4       FTA/FTC/Compliance Check/Parollee  ...   \n",
              "\n",
              "   Actions_at_arrest___Combative__  Actions_at_arrest___Resisted__d  \\\n",
              "0                                0                                0   \n",
              "1                                0                                0   \n",
              "2                                0                                0   \n",
              "3                                0                                0   \n",
              "4                                0                                0   \n",
              "\n",
              "   Actions_at_arrest___Mental_inst  Actions_at_arrest___Assaulted_o  \\\n",
              "0                                0                                0   \n",
              "1                                0                                0   \n",
              "2                                0                                0   \n",
              "3                                0                                0   \n",
              "4                                0                                0   \n",
              "\n",
              "   Actions_at_arrest___Cooperative  SearchReason_CauseInjury  \\\n",
              "0                                1                       NaN   \n",
              "1                                0                       NaN   \n",
              "2                                0                       NaN   \n",
              "3                                0                       NaN   \n",
              "4                                0                       NaN   \n",
              "\n",
              "   SearchReason_AssistEscape  SearchReason_PossessWeapons  \\\n",
              "0                        NaN                          NaN   \n",
              "1                        NaN                          NaN   \n",
              "2                        NaN                          NaN   \n",
              "3                        NaN                          NaN   \n",
              "4                        NaN                          NaN   \n",
              "\n",
              "   SearchReason_PossessEvidence  ItemsFound  \n",
              "0                           NaN         NaN  \n",
              "1                           NaN         NaN  \n",
              "2                           NaN         NaN  \n",
              "3                           NaN         NaN  \n",
              "4                           NaN         NaN  \n",
              "\n",
              "[5 rows x 21 columns]"
            ],
            "text/html": [
              "\n",
              "  <div id=\"df-d275707d-43ce-42f8-ad09-768845809940\">\n",
              "    <div class=\"colab-df-container\">\n",
              "      <div>\n",
              "<style scoped>\n",
              "    .dataframe tbody tr th:only-of-type {\n",
              "        vertical-align: middle;\n",
              "    }\n",
              "\n",
              "    .dataframe tbody tr th {\n",
              "        vertical-align: top;\n",
              "    }\n",
              "\n",
              "    .dataframe thead th {\n",
              "        text-align: right;\n",
              "    }\n",
              "</style>\n",
              "<table border=\"1\" class=\"dataframe\">\n",
              "  <thead>\n",
              "    <tr style=\"text-align: right;\">\n",
              "      <th></th>\n",
              "      <th>Arrest_Year</th>\n",
              "      <th>Arrest_Month</th>\n",
              "      <th>Perceived_Race</th>\n",
              "      <th>Sex</th>\n",
              "      <th>Age_group__at_arrest_</th>\n",
              "      <th>Youth_at_arrest__under_18_years</th>\n",
              "      <th>ArrestLocDiv</th>\n",
              "      <th>StripSearch</th>\n",
              "      <th>Booked</th>\n",
              "      <th>Occurrence_Category</th>\n",
              "      <th>...</th>\n",
              "      <th>Actions_at_arrest___Combative__</th>\n",
              "      <th>Actions_at_arrest___Resisted__d</th>\n",
              "      <th>Actions_at_arrest___Mental_inst</th>\n",
              "      <th>Actions_at_arrest___Assaulted_o</th>\n",
              "      <th>Actions_at_arrest___Cooperative</th>\n",
              "      <th>SearchReason_CauseInjury</th>\n",
              "      <th>SearchReason_AssistEscape</th>\n",
              "      <th>SearchReason_PossessWeapons</th>\n",
              "      <th>SearchReason_PossessEvidence</th>\n",
              "      <th>ItemsFound</th>\n",
              "    </tr>\n",
              "  </thead>\n",
              "  <tbody>\n",
              "    <tr>\n",
              "      <th>0</th>\n",
              "      <td>2020</td>\n",
              "      <td>July-Sept</td>\n",
              "      <td>White</td>\n",
              "      <td>M</td>\n",
              "      <td>Aged 35 to 44 years</td>\n",
              "      <td>Not a youth</td>\n",
              "      <td>54</td>\n",
              "      <td>0</td>\n",
              "      <td>1</td>\n",
              "      <td>Assault &amp; Other crimes against persons</td>\n",
              "      <td>...</td>\n",
              "      <td>0</td>\n",
              "      <td>0</td>\n",
              "      <td>0</td>\n",
              "      <td>0</td>\n",
              "      <td>1</td>\n",
              "      <td>NaN</td>\n",
              "      <td>NaN</td>\n",
              "      <td>NaN</td>\n",
              "      <td>NaN</td>\n",
              "      <td>NaN</td>\n",
              "    </tr>\n",
              "    <tr>\n",
              "      <th>1</th>\n",
              "      <td>2020</td>\n",
              "      <td>July-Sept</td>\n",
              "      <td>White</td>\n",
              "      <td>M</td>\n",
              "      <td>Aged 35 to 44 years</td>\n",
              "      <td>Not a youth</td>\n",
              "      <td>54</td>\n",
              "      <td>0</td>\n",
              "      <td>1</td>\n",
              "      <td>Assault &amp; Other crimes against persons</td>\n",
              "      <td>...</td>\n",
              "      <td>0</td>\n",
              "      <td>0</td>\n",
              "      <td>0</td>\n",
              "      <td>0</td>\n",
              "      <td>0</td>\n",
              "      <td>NaN</td>\n",
              "      <td>NaN</td>\n",
              "      <td>NaN</td>\n",
              "      <td>NaN</td>\n",
              "      <td>NaN</td>\n",
              "    </tr>\n",
              "    <tr>\n",
              "      <th>2</th>\n",
              "      <td>2020</td>\n",
              "      <td>Oct-Dec</td>\n",
              "      <td>Unknown or Legacy</td>\n",
              "      <td>M</td>\n",
              "      <td>Aged 35 to 44 years</td>\n",
              "      <td>Not a youth</td>\n",
              "      <td>54</td>\n",
              "      <td>0</td>\n",
              "      <td>1</td>\n",
              "      <td>Assault &amp; Other crimes against persons</td>\n",
              "      <td>...</td>\n",
              "      <td>0</td>\n",
              "      <td>0</td>\n",
              "      <td>0</td>\n",
              "      <td>0</td>\n",
              "      <td>0</td>\n",
              "      <td>NaN</td>\n",
              "      <td>NaN</td>\n",
              "      <td>NaN</td>\n",
              "      <td>NaN</td>\n",
              "      <td>NaN</td>\n",
              "    </tr>\n",
              "    <tr>\n",
              "      <th>3</th>\n",
              "      <td>2021</td>\n",
              "      <td>Jan-Mar</td>\n",
              "      <td>Black</td>\n",
              "      <td>M</td>\n",
              "      <td>Aged 25 to 34 years</td>\n",
              "      <td>Not a youth</td>\n",
              "      <td>XX</td>\n",
              "      <td>0</td>\n",
              "      <td>0</td>\n",
              "      <td>Harassment/Threatening</td>\n",
              "      <td>...</td>\n",
              "      <td>0</td>\n",
              "      <td>0</td>\n",
              "      <td>0</td>\n",
              "      <td>0</td>\n",
              "      <td>0</td>\n",
              "      <td>NaN</td>\n",
              "      <td>NaN</td>\n",
              "      <td>NaN</td>\n",
              "      <td>NaN</td>\n",
              "      <td>NaN</td>\n",
              "    </tr>\n",
              "    <tr>\n",
              "      <th>4</th>\n",
              "      <td>2021</td>\n",
              "      <td>Jan-Mar</td>\n",
              "      <td>South Asian</td>\n",
              "      <td>M</td>\n",
              "      <td>Aged 25 to 34 years</td>\n",
              "      <td>Not a youth</td>\n",
              "      <td>XX</td>\n",
              "      <td>0</td>\n",
              "      <td>1</td>\n",
              "      <td>FTA/FTC/Compliance Check/Parollee</td>\n",
              "      <td>...</td>\n",
              "      <td>0</td>\n",
              "      <td>0</td>\n",
              "      <td>0</td>\n",
              "      <td>0</td>\n",
              "      <td>0</td>\n",
              "      <td>NaN</td>\n",
              "      <td>NaN</td>\n",
              "      <td>NaN</td>\n",
              "      <td>NaN</td>\n",
              "      <td>NaN</td>\n",
              "    </tr>\n",
              "  </tbody>\n",
              "</table>\n",
              "<p>5 rows × 21 columns</p>\n",
              "</div>\n",
              "      <button class=\"colab-df-convert\" onclick=\"convertToInteractive('df-d275707d-43ce-42f8-ad09-768845809940')\"\n",
              "              title=\"Convert this dataframe to an interactive table.\"\n",
              "              style=\"display:none;\">\n",
              "        \n",
              "  <svg xmlns=\"http://www.w3.org/2000/svg\" height=\"24px\"viewBox=\"0 0 24 24\"\n",
              "       width=\"24px\">\n",
              "    <path d=\"M0 0h24v24H0V0z\" fill=\"none\"/>\n",
              "    <path d=\"M18.56 5.44l.94 2.06.94-2.06 2.06-.94-2.06-.94-.94-2.06-.94 2.06-2.06.94zm-11 1L8.5 8.5l.94-2.06 2.06-.94-2.06-.94L8.5 2.5l-.94 2.06-2.06.94zm10 10l.94 2.06.94-2.06 2.06-.94-2.06-.94-.94-2.06-.94 2.06-2.06.94z\"/><path d=\"M17.41 7.96l-1.37-1.37c-.4-.4-.92-.59-1.43-.59-.52 0-1.04.2-1.43.59L10.3 9.45l-7.72 7.72c-.78.78-.78 2.05 0 2.83L4 21.41c.39.39.9.59 1.41.59.51 0 1.02-.2 1.41-.59l7.78-7.78 2.81-2.81c.8-.78.8-2.07 0-2.86zM5.41 20L4 18.59l7.72-7.72 1.47 1.35L5.41 20z\"/>\n",
              "  </svg>\n",
              "      </button>\n",
              "      \n",
              "  <style>\n",
              "    .colab-df-container {\n",
              "      display:flex;\n",
              "      flex-wrap:wrap;\n",
              "      gap: 12px;\n",
              "    }\n",
              "\n",
              "    .colab-df-convert {\n",
              "      background-color: #E8F0FE;\n",
              "      border: none;\n",
              "      border-radius: 50%;\n",
              "      cursor: pointer;\n",
              "      display: none;\n",
              "      fill: #1967D2;\n",
              "      height: 32px;\n",
              "      padding: 0 0 0 0;\n",
              "      width: 32px;\n",
              "    }\n",
              "\n",
              "    .colab-df-convert:hover {\n",
              "      background-color: #E2EBFA;\n",
              "      box-shadow: 0px 1px 2px rgba(60, 64, 67, 0.3), 0px 1px 3px 1px rgba(60, 64, 67, 0.15);\n",
              "      fill: #174EA6;\n",
              "    }\n",
              "\n",
              "    [theme=dark] .colab-df-convert {\n",
              "      background-color: #3B4455;\n",
              "      fill: #D2E3FC;\n",
              "    }\n",
              "\n",
              "    [theme=dark] .colab-df-convert:hover {\n",
              "      background-color: #434B5C;\n",
              "      box-shadow: 0px 1px 3px 1px rgba(0, 0, 0, 0.15);\n",
              "      filter: drop-shadow(0px 1px 2px rgba(0, 0, 0, 0.3));\n",
              "      fill: #FFFFFF;\n",
              "    }\n",
              "  </style>\n",
              "\n",
              "      <script>\n",
              "        const buttonEl =\n",
              "          document.querySelector('#df-d275707d-43ce-42f8-ad09-768845809940 button.colab-df-convert');\n",
              "        buttonEl.style.display =\n",
              "          google.colab.kernel.accessAllowed ? 'block' : 'none';\n",
              "\n",
              "        async function convertToInteractive(key) {\n",
              "          const element = document.querySelector('#df-d275707d-43ce-42f8-ad09-768845809940');\n",
              "          const dataTable =\n",
              "            await google.colab.kernel.invokeFunction('convertToInteractive',\n",
              "                                                     [key], {});\n",
              "          if (!dataTable) return;\n",
              "\n",
              "          const docLinkHtml = 'Like what you see? Visit the ' +\n",
              "            '<a target=\"_blank\" href=https://colab.research.google.com/notebooks/data_table.ipynb>data table notebook</a>'\n",
              "            + ' to learn more about interactive tables.';\n",
              "          element.innerHTML = '';\n",
              "          dataTable['output_type'] = 'display_data';\n",
              "          await google.colab.output.renderOutput(dataTable, element);\n",
              "          const docLink = document.createElement('div');\n",
              "          docLink.innerHTML = docLinkHtml;\n",
              "          element.appendChild(docLink);\n",
              "        }\n",
              "      </script>\n",
              "    </div>\n",
              "  </div>\n",
              "  "
            ]
          },
          "metadata": {},
          "execution_count": 6
        }
      ],
      "source": [
        "# hence we interesting in the overall pattern, information such as eventID, ArrestID can be droped\n",
        "df. drop(df.columns[[2,3,4,-1]],axis =1, inplace = True)\n",
        "df.head()"
      ]
    },
    {
      "cell_type": "markdown",
      "id": "032e2abd-90f1-44c3-9526-761d98380c0a",
      "metadata": {
        "id": "032e2abd-90f1-44c3-9526-761d98380c0a"
      },
      "source": [
        "### Treating data type\n"
      ]
    },
    {
      "cell_type": "code",
      "execution_count": null,
      "id": "c430e48f-3640-4423-8503-7d7a8c8f460d",
      "metadata": {
        "tags": [],
        "id": "c430e48f-3640-4423-8503-7d7a8c8f460d",
        "outputId": "ed38f533-81df-4824-906c-9169305f2713",
        "colab": {
          "base_uri": "https://localhost:8080/"
        }
      },
      "outputs": [
        {
          "output_type": "execute_result",
          "data": {
            "text/plain": [
              "array(['54', 'XX', '42', '52', '14', '51', '53', '31', '11', '12', '13',\n",
              "       '41', '22', '55', '43', '23', '33', '32'], dtype=object)"
            ]
          },
          "metadata": {},
          "execution_count": 3
        }
      ],
      "source": [
        "# we found some column can be converted to type that are easier to be handled\n",
        "df[\"Sex\"].unique()\n",
        "df[\"Youth_at_arrest__under_18_years\"].unique()\n",
        "df[\"StripSearch\"].unique()\n",
        "df[\"ItemsFound\"].unique()\n",
        "df[\"ArrestLocDiv\"].unique()"
      ]
    },
    {
      "cell_type": "code",
      "execution_count": null,
      "id": "4c1c2d6a-e5ae-4d59-9fea-f559b0fb3ebe",
      "metadata": {
        "tags": [],
        "id": "4c1c2d6a-e5ae-4d59-9fea-f559b0fb3ebe"
      },
      "outputs": [],
      "source": [
        "# categorize \"Youth_at_arrest__under_18_years\" colume by 1 for under 17, 0 for not under \n",
        "df[\"Youth_at_arrest__under_18_years\"].replace(['Youth (aged 17 and younger)',\n",
        "       'Youth (aged 17 years and under)'],1, inplace = True)\n",
        "df[\"Youth_at_arrest__under_18_years\"].replace('Not a youth',0, inplace = True)"
      ]
    },
    {
      "cell_type": "markdown",
      "id": "63979cf0-6d03-442e-90ba-5a41e4c3835a",
      "metadata": {
        "id": "63979cf0-6d03-442e-90ba-5a41e4c3835a"
      },
      "source": [
        "### Treating NULL"
      ]
    },
    {
      "cell_type": "code",
      "execution_count": null,
      "id": "88d5bddd-1866-499a-b936-3232def8b684",
      "metadata": {
        "tags": [],
        "id": "88d5bddd-1866-499a-b936-3232def8b684",
        "outputId": "7edb8eff-4323-444a-8fad-3ee15e828d5a",
        "colab": {
          "base_uri": "https://localhost:8080/"
        }
      },
      "outputs": [
        {
          "output_type": "execute_result",
          "data": {
            "text/plain": [
              "Arrest_Year                            0\n",
              "Arrest_Month                           0\n",
              "Perceived_Race                         4\n",
              "Sex                                    0\n",
              "Age_group__at_arrest_                 24\n",
              "Youth_at_arrest__under_18_years        0\n",
              "ArrestLocDiv                           0\n",
              "StripSearch                            0\n",
              "Booked                                 0\n",
              "Occurrence_Category                  165\n",
              "Actions_at_arrest___Concealed_i        0\n",
              "Actions_at_arrest___Combative__        0\n",
              "Actions_at_arrest___Resisted__d        0\n",
              "Actions_at_arrest___Mental_inst        0\n",
              "Actions_at_arrest___Assaulted_o        0\n",
              "Actions_at_arrest___Cooperative        0\n",
              "SearchReason_CauseInjury           57475\n",
              "SearchReason_AssistEscape          57475\n",
              "SearchReason_PossessWeapons        57475\n",
              "SearchReason_PossessEvidence       57475\n",
              "ItemsFound                         57475\n",
              "dtype: int64"
            ]
          },
          "metadata": {},
          "execution_count": 9
        }
      ],
      "source": [
        "df.isnull().sum()\n"
      ]
    },
    {
      "cell_type": "code",
      "execution_count": null,
      "id": "08b839b0-d6b2-4d19-a554-dbef5f9ed59c",
      "metadata": {
        "tags": [],
        "id": "08b839b0-d6b2-4d19-a554-dbef5f9ed59c",
        "outputId": "dbc95d71-49ae-4069-be89-f4236b9c2690",
        "colab": {
          "base_uri": "https://localhost:8080/"
        }
      },
      "outputs": [
        {
          "output_type": "execute_result",
          "data": {
            "text/plain": [
              "array(['Assault & Other crimes against persons', 'Harassment/Threatening',\n",
              "       'FTA/FTC/Compliance Check/Parollee', 'Assault', 'Robbery/Theft',\n",
              "       'Sexual Related Crime', 'Mischief & Fraud', 'Warrant',\n",
              "       'Police Category - Administrative', 'Robbery & Theft',\n",
              "       'FTA/FTC, Compliance Check & Parollee', 'Drug Related', 'Weapons',\n",
              "       'Vehicle Related (inc. Impaired)', 'Other Offence',\n",
              "       'Harassment & Threatening', 'Weapons & Homicide',\n",
              "       'Break and Enter', 'Mischief', 'Break & Enter',\n",
              "       'Sexual Related Crimes & Crimes Against Children',\n",
              "       'Crimes against Children', 'Police Category - Incident', 'Fraud',\n",
              "       'LLA', 'Mental Health', 'Other Statute', 'Vehicle Related',\n",
              "       'Other Statute & Other Incident Type', 'Impaired', 'Homicide', nan],\n",
              "      dtype=object)"
            ]
          },
          "metadata": {},
          "execution_count": 5
        }
      ],
      "source": [
        "# checking for variable names\n",
        "df[\"Perceived_Race\"].unique()\n",
        "df[\"Occurrence_Category\"].unique()\n",
        "#df[\"Age_group__at_arrest_\"].unique()"
      ]
    },
    {
      "cell_type": "code",
      "execution_count": null,
      "id": "dd49af2d-0ac0-47fc-8d42-b3fc3ce7852c",
      "metadata": {
        "tags": [],
        "id": "dd49af2d-0ac0-47fc-8d42-b3fc3ce7852c"
      },
      "outputs": [],
      "source": [
        "# replace all null value with unknown in race and age group column\n",
        "df[\"Perceived_Race\"].replace([np.nan],\"Unknown or Legacy\", inplace = True)\n",
        "df[\"Age_group__at_arrest_\"].replace([np.nan],\"Unknown\", inplace = True)\n",
        "df[\"Occurrence_Category\"].replace([np.nan],\"Unknown\", inplace = True)\n",
        "\n",
        "# replace all null value with 0 for all search reason\n",
        "df.replace([np.nan],0, inplace = True)"
      ]
    },
    {
      "cell_type": "code",
      "execution_count": null,
      "id": "2e39bfdb-4d66-4353-ac63-2f1c717a0805",
      "metadata": {
        "tags": [],
        "id": "2e39bfdb-4d66-4353-ac63-2f1c717a0805",
        "outputId": "13f3b067-43c0-4c6f-f246-4dbb03095f20",
        "colab": {
          "base_uri": "https://localhost:8080/"
        }
      },
      "outputs": [
        {
          "output_type": "execute_result",
          "data": {
            "text/plain": [
              "Arrest_Year                        0\n",
              "Arrest_Month                       0\n",
              "Perceived_Race                     0\n",
              "Sex                                0\n",
              "Age_group__at_arrest_              0\n",
              "Youth_at_arrest__under_18_years    0\n",
              "ArrestLocDiv                       0\n",
              "StripSearch                        0\n",
              "Booked                             0\n",
              "Occurrence_Category                0\n",
              "Actions_at_arrest___Concealed_i    0\n",
              "Actions_at_arrest___Combative__    0\n",
              "Actions_at_arrest___Resisted__d    0\n",
              "Actions_at_arrest___Mental_inst    0\n",
              "Actions_at_arrest___Assaulted_o    0\n",
              "Actions_at_arrest___Cooperative    0\n",
              "SearchReason_CauseInjury           0\n",
              "SearchReason_AssistEscape          0\n",
              "SearchReason_PossessWeapons        0\n",
              "SearchReason_PossessEvidence       0\n",
              "ItemsFound                         0\n",
              "dtype: int64"
            ]
          },
          "metadata": {},
          "execution_count": 12
        }
      ],
      "source": [
        "df.isnull().sum()"
      ]
    },
    {
      "cell_type": "code",
      "execution_count": null,
      "id": "3a94b665-4907-4bf6-8bd2-857738cbe938",
      "metadata": {
        "tags": [],
        "id": "3a94b665-4907-4bf6-8bd2-857738cbe938",
        "outputId": "5a360c97-0dfe-449a-f7df-bbce9965b62f",
        "colab": {
          "base_uri": "https://localhost:8080/"
        }
      },
      "outputs": [
        {
          "output_type": "execute_result",
          "data": {
            "text/plain": [
              "['Arrest_Year',\n",
              " 'Arrest_Month',\n",
              " 'Perceived_Race',\n",
              " 'Sex',\n",
              " 'Age_group__at_arrest_',\n",
              " 'Youth_at_arrest__under_18_years',\n",
              " 'ArrestLocDiv',\n",
              " 'StripSearch',\n",
              " 'Booked',\n",
              " 'Occurrence_Category',\n",
              " 'Actions_at_arrest___Concealed_i',\n",
              " 'Actions_at_arrest___Combative__',\n",
              " 'Actions_at_arrest___Resisted__d',\n",
              " 'Actions_at_arrest___Mental_inst',\n",
              " 'Actions_at_arrest___Assaulted_o',\n",
              " 'Actions_at_arrest___Cooperative',\n",
              " 'SearchReason_CauseInjury',\n",
              " 'SearchReason_AssistEscape',\n",
              " 'SearchReason_PossessWeapons',\n",
              " 'SearchReason_PossessEvidence',\n",
              " 'ItemsFound']"
            ]
          },
          "metadata": {},
          "execution_count": 13
        }
      ],
      "source": [
        "list(df.columns)\n"
      ]
    },
    {
      "cell_type": "code",
      "source": [
        "# according to the website there cases where search happened but is not recorded by booked\n",
        "for index, row in df.iterrows():\n",
        "  if row['StripSearch'] == 1:\n",
        "    row['Booked'] = 1\n",
        "  "
      ],
      "metadata": {
        "id": "FeeYw0dD-zRH"
      },
      "id": "FeeYw0dD-zRH",
      "execution_count": null,
      "outputs": []
    },
    {
      "cell_type": "code",
      "source": [
        "df_without_XX = df[df['ArrestLocDiv'] != \"XX\"]\n",
        "df_strip_wXX = df_without_XX[df_without_XX['StripSearch'] == 1]"
      ],
      "metadata": {
        "id": "UL-FsI2rC0P9"
      },
      "id": "UL-FsI2rC0P9",
      "execution_count": null,
      "outputs": []
    },
    {
      "cell_type": "code",
      "execution_count": null,
      "id": "9f0e7ef4-8650-4255-b608-6cf6c285c2de",
      "metadata": {
        "id": "9f0e7ef4-8650-4255-b608-6cf6c285c2de",
        "colab": {
          "base_uri": "https://localhost:8080/",
          "height": 529
        },
        "outputId": "5a4695b6-11e1-4862-f10d-6c83e282f774"
      },
      "outputs": [
        {
          "output_type": "execute_result",
          "data": {
            "text/plain": [
              "Text(0.5, 0.98, 'Case count for different sex in divisions')"
            ]
          },
          "metadata": {},
          "execution_count": 9
        },
        {
          "output_type": "display_data",
          "data": {
            "text/plain": [
              "<Figure size 599.236x500 with 1 Axes>"
            ],
            "image/png": "[encoded data removed]"
          },
          "metadata": {}
        }
      ],
      "source": [
        "# catplot for distribution of ArrestLoc categorized by sex\n",
        "\n",
        "\n",
        "sa = sns.catplot(y=\"Sex\", hue=\"ArrestLocDiv\", kind=\"count\",\n",
        "            palette=\"deep\",\n",
        "            data=df_without_XX, )\n",
        "\n",
        "\n",
        "sa.fig.subplots_adjust(top=0.9) # adjust the Figure in rp\n",
        "sa.fig.suptitle('Case count for different sex in divisions')\n"
      ]
    },
    {
      "cell_type": "code",
      "source": [
        "# catplot for distribution of ArrestLoc categorized by strip search\n",
        "StA = sns.catplot(y=\"StripSearch\", hue=\"ArrestLocDiv\", kind=\"count\",\n",
        "            palette=\"deep\",\n",
        "            data=df_without_XX)\n",
        "\n",
        "StA.fig.subplots_adjust(top=0.9) # adjust the Figure in rp\n",
        "StA.fig.suptitle('Distribution of case count in divisons categorized by whether a strip search occurred')"
      ],
      "metadata": {
        "colab": {
          "base_uri": "https://localhost:8080/",
          "height": 529
        },
        "id": "YTWdgjnhLsKc",
        "outputId": "a9af40a5-220a-4574-bb42-8656f89adc0f"
      },
      "id": "YTWdgjnhLsKc",
      "execution_count": null,
      "outputs": [
        {
          "output_type": "execute_result",
          "data": {
            "text/plain": [
              "Text(0.5, 0.98, 'Distribution of case count in divisons categorized by whether a strip search occurred')"
            ]
          },
          "metadata": {},
          "execution_count": 18
        },
        {
          "output_type": "display_data",
          "data": {
            "text/plain": [
              "<Figure size 599.236x500 with 1 Axes>"
            ],
            "image/png": "[encoded data removed]"
          },
          "metadata": {}
        }
      ]
    },
    {
      "cell_type": "code",
      "source": [
        "# catplot for distribution of Perceived_Race categorized by StripSearch\n",
        "StR = sns.catplot(y=\"StripSearch\", hue=\"Perceived_Race\", kind=\"count\",\n",
        "            palette=\"deep\",\n",
        "            data=df_without_XX)\n",
        "StR.fig.subplots_adjust(top=0.9) # adjust the Figure in rp\n",
        "StR.fig.suptitle('Distribution of case count between races categorized by whether a strip search occurred')"
      ],
      "metadata": {
        "id": "Y9cS0bfDOgYx"
      },
      "id": "Y9cS0bfDOgYx",
      "execution_count": null,
      "outputs": []
    },
    {
      "cell_type": "code",
      "source": [
        "total_rows = len(df_without_XX[df_without_XX['StripSearch'] == 1])\n",
        "\n",
        "# Filter the rows where StripSearch is 1 and Race is either White or Black\n",
        "filtered_df = df_without_XX[(df_without_XX['StripSearch'] == 1) & (df_without_XX['Perceived_Race'] == 'Black')]\n",
        "\n",
        "# Calculate the number of rows that meet the above condition\n",
        "selected_rows = len(filtered_df)\n",
        "\n",
        "# Calculate the proportion\n",
        "proportion = selected_rows / total_rows\n",
        "\n",
        "# Print the proportion\n",
        "print(proportion)"
      ],
      "metadata": {
        "id": "wY1Gj3fIzGYe"
      },
      "id": "wY1Gj3fIzGYe",
      "execution_count": null,
      "outputs": []
    },
    {
      "cell_type": "code",
      "source": [
        "# catplot for distribution of StripSearch categorized by Youth_at_arrest__under_18_years\n",
        "ya = sns.catplot(y=\"Youth_at_arrest__under_18_years\", hue=\"ArrestLocDiv\", kind=\"count\",\n",
        "            palette=\"deep\",\n",
        "            data=df_without_XX)\n",
        "ya.fig.subplots_adjust(top=0.9) # adjust the Figure in rp\n",
        "ya.fig.suptitle('Distribution of case count between divisons categorized by whether underaged')"
      ],
      "metadata": {
        "id": "HiDZcTwSaZGP"
      },
      "id": "HiDZcTwSaZGP",
      "execution_count": null,
      "outputs": []
    },
    {
      "cell_type": "code",
      "source": [
        "# catplot for distribution of StripSearch categorized by Youth_at_arrest__under_18_years\n",
        "ASt = sns.catplot(y=\"Arrest_Year\", hue=\"StripSearch\", kind=\"count\",\n",
        "            palette=\"deep\",\n",
        "            data=df_without_XX)\n",
        "ASt.fig.subplots_adjust(top=0.9) # adjust the Figure in rp\n",
        "ASt.fig.suptitle('Distribution of case count by wheter a search conducted between two years')"
      ],
      "metadata": {
        "id": "jwvuszfUiJVK"
      },
      "id": "jwvuszfUiJVK",
      "execution_count": null,
      "outputs": []
    },
    {
      "cell_type": "markdown",
      "source": [
        "It seems like change year does affect the number for strip search, and the number also affect by the division.\n"
      ],
      "metadata": {
        "id": "aUPeo62xkgM8"
      },
      "id": "aUPeo62xkgM8"
    },
    {
      "cell_type": "code",
      "source": [
        "# Further divide the data into category by measure like sex and year\n",
        "df_male = df_strip_wXX[df_strip_wXX['Sex'] == 'M']\n",
        "df_female = df_strip_wXX[df_strip_wXX['Sex'] == 'F']\n",
        "\n",
        "df_male_20 = df_male[df_male['Arrest_Year'] == 2020]\n",
        "df_male_21 = df_male[df_male['Arrest_Year'] == 2021]\n",
        "df_female_20 = df_female[df_female['Arrest_Year'] == 2020]\n",
        "df_female_21 = df_female[df_female['Arrest_Year'] == 2021]"
      ],
      "metadata": {
        "id": "6diXXZN-rPwY"
      },
      "id": "6diXXZN-rPwY",
      "execution_count": null,
      "outputs": []
    },
    {
      "cell_type": "code",
      "source": [
        "df_male_20_loc = df_male_20.groupby('ArrestLocDiv')\n",
        "df_male_21_loc = df_male_21.groupby('ArrestLocDiv')\n",
        "df_female_20_loc = df_female_20.groupby('ArrestLocDiv')\n",
        "df_female_21_loc = df_female_21.groupby('ArrestLocDiv')\n",
        "df_male_20_loc.head(10)"
      ],
      "metadata": {
        "id": "r8qQ23DFvaD2"
      },
      "id": "r8qQ23DFvaD2",
      "execution_count": null,
      "outputs": []
    },
    {
      "cell_type": "code",
      "source": [
        "# for 2020 and 2021 exmain the stripseach number for all divions by Male and Female\n",
        "df_male_20_num = pd.DataFrame({'StripNum_20_M': df_male_20_loc['StripSearch'].count()})\n",
        "df_male_21_num = pd.DataFrame({'StripNum_21_M': df_male_21_loc['StripSearch'].count()})\n",
        "df_female_20_num = pd.DataFrame({'StripNum_20_F': df_female_20_loc['StripSearch'].count()})\n",
        "df_female_21_num = pd.DataFrame({'StripNum_21_F': df_female_21_loc['StripSearch'].count()})\n",
        "\n",
        "\n",
        "merged_df_num = pd.merge(pd.merge(df_male_20_num, df_male_21_num, on='ArrestLocDiv', how='outer'),\n",
        "                        pd.merge(df_female_20_num, df_female_21_num, on='ArrestLocDiv', how='outer'),\n",
        "                        on='ArrestLocDiv', how='outer').reset_index()\n",
        "\n",
        "\n",
        "merged_df_num.head(20)\n",
        "#print(merged_df_num.columns)"
      ],
      "metadata": {
        "id": "zYl68Mj5uQDf"
      },
      "id": "zYl68Mj5uQDf",
      "execution_count": null,
      "outputs": []
    },
    {
      "cell_type": "code",
      "source": [
        "merged_df_num.describe()"
      ],
      "metadata": {
        "id": "tAV-uiuaxKDr"
      },
      "id": "tAV-uiuaxKDr",
      "execution_count": null,
      "outputs": []
    },
    {
      "cell_type": "code",
      "source": [
        "#fig, ax = plt.subplots(nrows = 2, ncols = 2)\n",
        "\n",
        "den = sns.displot(data=merged_df_num, kind='kde', fill=True, height=5, aspect=1.5)\n",
        "den.fig.subplots_adjust(top=0.9) # adjust the Figure in rp\n",
        "den.fig.suptitle('Density distribution of search number between years and sex')"
      ],
      "metadata": {
        "id": "Y2wtdG4kCLyH"
      },
      "id": "Y2wtdG4kCLyH",
      "execution_count": null,
      "outputs": []
    },
    {
      "cell_type": "code",
      "source": [
        "melt_df_num = pd.melt(merged_df_num, id_vars=['ArrestLocDiv'], var_name='StripType', value_name='StripNum')\n",
        "melt_df_num.head(20)"
      ],
      "metadata": {
        "id": "0xG75cM737vd"
      },
      "id": "0xG75cM737vd",
      "execution_count": null,
      "outputs": []
    },
    {
      "cell_type": "code",
      "source": [
        "# examine correlation for strip number and division\n",
        "melt_df_num.ArrestLocDiv = melt_df_num.ArrestLocDiv.astype('int64')\n",
        "correlate = melt_df_num['StripNum'].corr(melt_df_num['ArrestLocDiv'])\n",
        "print(correlate)"
      ],
      "metadata": {
        "id": "45IW96dnd9YD"
      },
      "id": "45IW96dnd9YD",
      "execution_count": null,
      "outputs": []
    },
    {
      "cell_type": "code",
      "source": [
        "sns.catplot(x='ArrestLocDiv', y='StripNum', hue='StripType', data=melt_df_num, kind='bar', height=6, aspect=1.5, palette='muted')"
      ],
      "metadata": {
        "id": "j0_BgmWg9Q8l"
      },
      "id": "j0_BgmWg9Q8l",
      "execution_count": null,
      "outputs": []
    },
    {
      "cell_type": "markdown",
      "source": [
        "### lets take a closer look on it and spread out the specific reason for search"
      ],
      "metadata": {
        "id": "eikEO-K3t9zR"
      },
      "id": "eikEO-K3t9zR"
    },
    {
      "cell_type": "code",
      "source": [
        "df_51 = df_without_XX[df_without_XX['ArrestLocDiv'] == '51']\n",
        "\n",
        "df_striped_A = df_strip_wXX[df_strip_wXX['SearchReason_CauseInjury'] == 1]\n",
        "df_striped_grouped_A = df_striped_A.groupby('ArrestLocDiv')\n",
        "df_search_A = pd.DataFrame({'CauseInjury': df_striped_grouped_A['SearchReason_CauseInjury'].count()})\n",
        "\n",
        "df_striped_B = df_strip_wXX[df_strip_wXX['SearchReason_AssistEscape'] == 1]\n",
        "df_striped_grouped_B = df_striped_B.groupby('ArrestLocDiv')\n",
        "df_search_B = pd.DataFrame({'AssistEscape': df_striped_grouped_B['SearchReason_AssistEscape'].count()})\n",
        "\n",
        "df_striped_C = df_strip_wXX[df_strip_wXX['SearchReason_PossessWeapons'] == 1]\n",
        "df_striped_grouped_C = df_striped_C.groupby('ArrestLocDiv')\n",
        "df_search_C = pd.DataFrame({'PossessWeapons': df_striped_grouped_C['SearchReason_PossessWeapons'].count()})\n",
        "\n",
        "df_striped_D = df_strip_wXX[df_strip_wXX['SearchReason_PossessEvidence'] == 1]\n",
        "df_striped_grouped_D = df_striped_D.groupby('ArrestLocDiv')\n",
        "df_search_D = pd.DataFrame({'PossessEvidence': df_striped_grouped_D['SearchReason_PossessEvidence'].count()})\n",
        "\n",
        "merged_df_striped = pd.merge(pd.merge(df_search_A, df_search_B, on='ArrestLocDiv', how='outer'),\n",
        "                        pd.merge(df_search_C, df_search_D, on='ArrestLocDiv', how='outer'),\n",
        "                        on='ArrestLocDiv', how='outer').reset_index()\n",
        "\n",
        "\n",
        "merged_df_striped.head(20)\n",
        "\n",
        "#print(df_without_XX['SearchReason_PossessWeapons'].count())"
      ],
      "metadata": {
        "id": "rZSaGjG_r1-f"
      },
      "id": "rZSaGjG_r1-f",
      "execution_count": null,
      "outputs": []
    },
    {
      "cell_type": "code",
      "source": [
        "merged_df_striped.describe()"
      ],
      "metadata": {
        "id": "EYjVwzijEPYO"
      },
      "id": "EYjVwzijEPYO",
      "execution_count": null,
      "outputs": []
    },
    {
      "cell_type": "code",
      "source": [
        "melt_df_striped = pd.melt(merged_df_striped, id_vars=['ArrestLocDiv'], var_name='StripType', value_name='StripNum')\n",
        "melt_df_striped.head()\n"
      ],
      "metadata": {
        "id": "7NhdEnozF1Cb"
      },
      "id": "7NhdEnozF1Cb",
      "execution_count": null,
      "outputs": []
    },
    {
      "cell_type": "code",
      "source": [
        "cat = sns.catplot(x='ArrestLocDiv', y='StripNum', hue='StripType', data=melt_df_striped, kind='bar', height=6, aspect=1.5, palette='muted')\n",
        "cat.fig.subplots_adjust(top=0.9) # adjust the Figure in rp\n",
        "cat.fig.suptitle('Search number distribution by specific search reason across all divisons')"
      ],
      "metadata": {
        "id": "aCo0pu5dFp9N"
      },
      "id": "aCo0pu5dFp9N",
      "execution_count": null,
      "outputs": []
    },
    {
      "cell_type": "code",
      "source": [
        "box = sns.catplot(data=melt_df_striped, kind=\"box\", x=\"StripType\", y=\"StripNum\", \n",
        "            palette=\"deep\",height=5, aspect=2)\n",
        "box.fig.subplots_adjust(top=0.9) # adjust the Figure in rp\n",
        "box.fig.suptitle('box plot for each search type')"
      ],
      "metadata": {
        "id": "MKssTRuuHXZI"
      },
      "id": "MKssTRuuHXZI",
      "execution_count": null,
      "outputs": []
    },
    {
      "cell_type": "code",
      "source": [],
      "metadata": {
        "id": "aWnpbx27k7Vo"
      },
      "id": "aWnpbx27k7Vo",
      "execution_count": null,
      "outputs": []
    },
    {
      "cell_type": "markdown",
      "source": [
        "Question 1: Does divisons affect the number of stripseasrch conduncted and would sex or change in year vary the result with the Toronto Divisons."
      ],
      "metadata": {
        "id": "xaVtINCgFTPX"
      },
      "id": "xaVtINCgFTPX"
    },
    {
      "cell_type": "code",
      "source": [
        "# add two summed columns for analzing relation between year and strip number\n",
        "\n",
        "col_20 = ['StripNum_20_M', 'StripNum_20_F']\n",
        "col_21 = ['StripNum_21_M', 'StripNum_21_F']\n",
        "merged_df_num['StripNum_20'] = merged_df_num[col_20].sum(1)\n",
        "merged_df_num['StripNum_21'] = merged_df_num[col_21].sum(1)\n",
        "\n",
        "merged_df_num.head(20)"
      ],
      "metadata": {
        "id": "iC0kOcyQoesG"
      },
      "id": "iC0kOcyQoesG",
      "execution_count": null,
      "outputs": []
    },
    {
      "cell_type": "markdown",
      "source": [
        "## T test:\n",
        "\n",
        "First hypothesis for question 1 \n",
        "\n",
        "H0: The number of people being searched is identical between year 2020 and 2021.\n",
        "\n",
        "H1: There are difference between the number of people being searched for 2020 and 2021"
      ],
      "metadata": {
        "id": "zFAeVpBIFeLy"
      },
      "id": "zFAeVpBIFeLy"
    },
    {
      "cell_type": "code",
      "source": [
        "print('Ttest results for stripnumebr:',stats.ttest_ind(merged_df_num['StripNum_20'], merged_df_num['StripNum_21'], equal_var=False))\n"
      ],
      "metadata": {
        "id": "pdzqKdsqttHK"
      },
      "id": "pdzqKdsqttHK",
      "execution_count": null,
      "outputs": []
    },
    {
      "cell_type": "code",
      "source": [
        "\n",
        "#calculate mean and standard deviation of groups \n",
        "#those with less than 3 in family show higher mean average score \n",
        "print('Mean number for people get searched for 2020',merged_df_num['StripNum_20'].mean(), 'for and 2021:', merged_df_num['StripNum_21'].mean())\n",
        "print('Standard deviation for people get searched for 2020:',merged_df_num['StripNum_20'].std(),'for and 2021:', merged_df_num['StripNum_21'].std())"
      ],
      "metadata": {
        "id": "cwZNkC3XJhQK"
      },
      "id": "cwZNkC3XJhQK",
      "execution_count": null,
      "outputs": []
    },
    {
      "cell_type": "code",
      "source": [
        "#degrees of freedom code for Welch test \n",
        "#code from https://pythonfordatascienceorg.wordpress.com/welch-t-test-python-pandas/ (values checked against R output)\n",
        "\n",
        "def welch_dof(x, y): \n",
        "    '''\n",
        "    Takes in final grades for binary features\n",
        "    Returns degrees of freedom \n",
        "    '''\n",
        "    dof = (x.var()/x.size + y.var()/y.size)**2 / ((x.var()/x.size)**2 / (x.size-1) + (y.var()/y.size)**2 / (y.size-1))\n",
        "    return dof"
      ],
      "metadata": {
        "id": "D7DABsmnod2k"
      },
      "id": "D7DABsmnod2k",
      "execution_count": null,
      "outputs": []
    },
    {
      "cell_type": "code",
      "execution_count": null,
      "id": "d68d6842-e080-4a33-a779-0f4a541e4546",
      "metadata": {
        "tags": [],
        "id": "d68d6842-e080-4a33-a779-0f4a541e4546"
      },
      "outputs": [],
      "source": [
        "# compute confidence interval \n",
        "import statsmodels.stats.api as sms\n",
        "cm = sms.CompareMeans(sms.DescrStatsW(merged_df_num['StripNum_20']), sms.DescrStatsW(merged_df_num['StripNum_21']))\n",
        "print('Confidence interval for sex:',cm.tconfint_diff(usevar='unequal'))"
      ]
    },
    {
      "cell_type": "code",
      "execution_count": null,
      "id": "3a80172b-7f13-4714-b40b-4cccbd3775af",
      "metadata": {
        "tags": [],
        "id": "3a80172b-7f13-4714-b40b-4cccbd3775af"
      },
      "outputs": [],
      "source": [
        "#welch dof \n",
        "print('DOF for search number:',welch_dof(merged_df_num['StripNum_20'], merged_df_num['StripNum_21']))"
      ]
    },
    {
      "cell_type": "markdown",
      "source": [
        "Second hypothesis for question 1 \n",
        "\n",
        "H0: The number of people being searched is identical between male and female.\n",
        "\n",
        "H1: There are difference between the number of people being searched for male and female"
      ],
      "metadata": {
        "id": "Piad1LbTO_UK"
      },
      "id": "Piad1LbTO_UK"
    },
    {
      "cell_type": "code",
      "source": [
        "col_M = ['StripNum_20_M', 'StripNum_21_M']\n",
        "col_F = ['StripNum_20_F', 'StripNum_21_F']\n",
        "merged_df_num['StripNum_M'] = merged_df_num[col_M].sum(1)\n",
        "merged_df_num['StripNum_F'] = merged_df_num[col_F].sum(1)\n",
        "merged_df_num.head(20)"
      ],
      "metadata": {
        "id": "rUzxiE2uPH3z"
      },
      "id": "rUzxiE2uPH3z",
      "execution_count": null,
      "outputs": []
    },
    {
      "cell_type": "code",
      "source": [
        "print('Ttest results for stripnumebr:',stats.ttest_ind(merged_df_num['StripNum_M'], merged_df_num['StripNum_F'], equal_var=False))"
      ],
      "metadata": {
        "id": "-LozFcUkPT6D"
      },
      "id": "-LozFcUkPT6D",
      "execution_count": null,
      "outputs": []
    },
    {
      "cell_type": "code",
      "source": [
        "#calculate mean and standard deviation of groups \n",
        "#those with less than 3 in family show higher mean average score \n",
        "print('Mean number for people get searched for male',merged_df_num['StripNum_M'].mean(), 'for and female:', merged_df_num['StripNum_F'].mean())\n",
        "print('Standard deviation for people get searched for male:',merged_df_num['StripNum_M'].std(),'for and female:', merged_df_num['StripNum_F'].std())"
      ],
      "metadata": {
        "id": "UCzhyuBdQU-m"
      },
      "id": "UCzhyuBdQU-m",
      "execution_count": null,
      "outputs": []
    },
    {
      "cell_type": "code",
      "source": [
        "# compute confidence interval \n",
        "cm = sms.CompareMeans(sms.DescrStatsW(merged_df_num['StripNum_M']), sms.DescrStatsW(merged_df_num['StripNum_F']))\n",
        "print('Confidence interval for sex:',cm.tconfint_diff(usevar='unequal'))"
      ],
      "metadata": {
        "id": "9QWUsiscQVmJ"
      },
      "id": "9QWUsiscQVmJ",
      "execution_count": null,
      "outputs": []
    },
    {
      "cell_type": "code",
      "source": [
        "#welch dof \n",
        "print('DOF for search number:',welch_dof(merged_df_num['StripNum_M'], merged_df_num['StripNum_F']))"
      ],
      "metadata": {
        "id": "HtJHFJUBRBdF"
      },
      "id": "HtJHFJUBRBdF",
      "execution_count": null,
      "outputs": []
    },
    {
      "cell_type": "markdown",
      "source": [
        "## One-way ANOVA for the Second hypothesis:\n",
        "\n",
        "H0: The means for people being searched are identical for all divisons.\n",
        "\n",
        "H1: The means for people being searched are different for all divisons."
      ],
      "metadata": {
        "id": "eQBLfhJwSG8i"
      },
      "id": "eQBLfhJwSG8i"
    },
    {
      "cell_type": "code",
      "execution_count": null,
      "id": "1612deb0-84ce-4f57-869e-d97b45a30e6a",
      "metadata": {
        "tags": [],
        "id": "1612deb0-84ce-4f57-869e-d97b45a30e6a"
      },
      "outputs": [],
      "source": [
        "# grouping the strip search number by division\n",
        "df_div_anova = melt_df_striped.drop('StripType', axis=1)\n",
        "df_div_anova = df_div_anova.groupby('ArrestLocDiv')\n",
        "\n",
        "\n",
        "divisions = []\n",
        "n_strip_searched = []\n",
        "for name, group in df_div_anova:\n",
        "    divisions.append(name)\n",
        "    n_strip_searched.append(group['StripNum'].values)\n",
        "\n",
        "# Perform one-way ANOVA\n",
        "f_statistic, p_value = stats.f_oneway(*n_strip_searched)\n",
        "\n",
        "# Print results\n",
        "print('One-way ANOVA')\n",
        "print('=============')\n",
        "print(f'F-statistic: {f_statistic:.2f}')\n",
        "print(f'p-value: {p_value}')\n"
      ]
    },
    {
      "cell_type": "code",
      "execution_count": null,
      "id": "922c2e82-82f9-4f94-98e3-00c8a2bb6f76",
      "metadata": {
        "tags": [],
        "id": "922c2e82-82f9-4f94-98e3-00c8a2bb6f76"
      },
      "outputs": [],
      "source": [
        "# we perfrom the tukey's hsd test for further analysis\n",
        "tukey = pairwise_tukeyhsd(endog=melt_df_striped['StripNum'],\n",
        "                          groups=melt_df_striped['ArrestLocDiv'].astype('int64'),\n",
        "                          alpha=0.05)\n",
        "                          \n",
        "print(tukey)           "
      ]
    },
    {
      "cell_type": "markdown",
      "source": [
        "## Two-way ANOVA\n",
        "\n",
        "We see that from hypothesis one, year do not directly relate to the number of strip seach conducted and there is a observed statistical significant between division and strip seach number. We can now use two-way ANOVA to examine how year and division act together on the strip search numebr.\n",
        "\n",
        "## Hypothesis A:\n",
        "\n",
        "H0: Group means of people get searched base on divisions are identical, for males and females.\n",
        "\n",
        "H1: Groups means of people get searched base on divisions are different, for males and females.\n",
        "\n",
        "## Hypothesis B:\n",
        "\n",
        "H0: Group means of people get searched for males and females are identical, base on divisions.\n",
        "\n",
        "H1: Group means of people get searched for males and females are different, base on divisions.\n",
        "\n",
        "\n"
      ],
      "metadata": {
        "id": "zOG6W_f2o0rm"
      },
      "id": "zOG6W_f2o0rm"
    },
    {
      "cell_type": "code",
      "source": [
        "df_M = df_without_XX[df_without_XX['Sex'] == 'M']\n",
        "df_F = df_without_XX[df_without_XX['Sex'] == 'F']\n",
        "\n",
        "df_M = df_M[df_M['StripSearch'] == 1]\n",
        "df_F = df_F[df_F['StripSearch'] == 1]\n",
        "\n",
        "df_M_loc = df_M.groupby('ArrestLocDiv')\n",
        "df_F_loc = df_F.groupby('ArrestLocDiv')\n",
        "\n",
        "df_M_num = pd.DataFrame({'StripNum': df_M_loc['StripSearch'].count()}).reset_index()\n",
        "df_F_num = pd.DataFrame({'StripNum': df_F_loc['StripSearch'].count()}).reset_index()\n",
        "\n",
        "df_M_num['Sex'] = 'M'\n",
        "df_F_num['Sex'] = 'F'\n",
        "\n",
        "melt_df_sex = df_M_num.append(df_F_num, ignore_index = True)\n",
        "'''\n",
        "merged_sex_df_num = pd.merge(df_M_num,\n",
        "                        df_F_num,\n",
        "                        on='ArrestLocDiv').reset_index()\n",
        "\n",
        "melt_df_sex = pd.melt(merged_sex_df_num, id_vars=['ArrestLocDiv'], var_name='Sex', value_name='StripNum')\n",
        "'''\n",
        "#melt_df_sex['ArrestLocDiv:Sex'] = melt_df_sex['ArrestLocDiv'] + ':' + melt_df_sex['Sex']\n",
        "#merged_sex_df_num.head(20)\n",
        "melt_df_sex.head(40)\n",
        "#melt_df_sex.corr()\n",
        "#melt_df_sex.info()\n",
        "#melt_df_sex.info()"
      ],
      "metadata": {
        "id": "VkgP7p0zF7ff"
      },
      "id": "VkgP7p0zF7ff",
      "execution_count": null,
      "outputs": []
    },
    {
      "cell_type": "code",
      "source": [
        "df_20 = df_without_XX[df_without_XX.Arrest_Year == 2020]\n",
        "df_21 = df_without_XX[df_without_XX.Arrest_Year == 2021]\n",
        "\n",
        "df_20_M = df_20[df_20['Sex'] == 'M']\n",
        "df_20_F = df_20[df_20['Sex'] == 'F']\n",
        "\n",
        "df_20_M_strip = df_20_M[df_20_M['StripSearch'] == 1]\n",
        "df_20_F_strip = df_20_F[df_20_F['StripSearch'] == 1]\n",
        "\n",
        "df_20_M_sc = pd.DataFrame({'StripNum': df_20_M_strip.groupby('ArrestLocDiv')['StripSearch'].count()}).reset_index()\n",
        "df_20_F_sc = pd.DataFrame({'StripNum': df_20_F_strip.groupby('ArrestLocDiv')['StripSearch'].count()}).reset_index()\n",
        "\n",
        "\n",
        "\n",
        "\n",
        "df_21_M = df_21[df_21['Sex'] == 'M']\n",
        "df_21_F = df_21[df_21['Sex'] == 'F']\n",
        "\n",
        "\n",
        "df_21_M_strip = df_21_M[df_21_M['StripSearch'] == 1]\n",
        "df_21_F_strip = df_21_F[df_21_F['StripSearch'] == 1]\n",
        "\n",
        "df_21_M_sc = pd.DataFrame({'StripNum': df_21_M_strip.groupby('ArrestLocDiv')['StripSearch'].count()}).reset_index()\n",
        "df_21_F_sc = pd.DataFrame({'StripNum': df_21_F_strip.groupby('ArrestLocDiv')['StripSearch'].count()}).reset_index()\n",
        "\n",
        "\n",
        "dfa= df_20_M_sc\n",
        "dfa[\"Year\"] = 2020\n",
        "dfa[\"Sex\"] = 'M'\n",
        "\n",
        "dfb= df_20_F_sc\n",
        "dfb[\"Year\"] = 2020\n",
        "dfb[\"Sex\"] = 'F'\n",
        "\n",
        "dfc= df_21_M_sc\n",
        "dfc[\"Year\"] = 2021\n",
        "dfc[\"Sex\"] = 'M'\n",
        "\n",
        "dfd= df_21_F_sc\n",
        "dfd[\"Year\"] = 2021\n",
        "dfd[\"Sex\"] = 'F'\n",
        "\n",
        "df_2020 = dfa.append(dfb, ignore_index = True)\n",
        "df_2021 = dfc.append(dfd, ignore_index = True)\n",
        "\n",
        "df_anova = df_2020.append(df_2021, ignore_index = True)\n",
        "\n",
        "df_anova.head()"
      ],
      "metadata": {
        "id": "6uGqQ4Tolf02"
      },
      "id": "6uGqQ4Tolf02",
      "execution_count": null,
      "outputs": []
    },
    {
      "cell_type": "code",
      "execution_count": null,
      "id": "6fa3ea7c-f1fa-4dd5-b9eb-872236a1d930",
      "metadata": {
        "tags": [],
        "id": "6fa3ea7c-f1fa-4dd5-b9eb-872236a1d930"
      },
      "outputs": [],
      "source": [
        "\n",
        "model1 = ols('StripNum ~ C(ArrestLocDiv) + C(Sex) + C(ArrestLocDiv):C(Sex)', data= df_anova).fit()\n",
        "model1.summary()\n",
        "sm.stats.anova_lm(model1, typ=2)\n"
      ]
    },
    {
      "cell_type": "code",
      "source": [
        "model2 = ols('StripNum ~ C(ArrestLocDiv) + C(Year) + C(ArrestLocDiv):C(Year)', data= df_anova).fit()\n",
        "model2.summary()\n",
        "sm.stats.anova_lm(model2, typ=2)"
      ],
      "metadata": {
        "id": "_SRUyYvR3RTG"
      },
      "id": "_SRUyYvR3RTG",
      "execution_count": null,
      "outputs": []
    },
    {
      "cell_type": "code",
      "source": [
        "model2 = ols('StripNum ~ C(Sex) + C(Year) + C(Sex):C(Year)', data= df_anova).fit()\n",
        "model2.summary()\n",
        "sm.stats.anova_lm(model2, typ=2)"
      ],
      "metadata": {
        "id": "HE3gTONg4AdT"
      },
      "id": "HE3gTONg4AdT",
      "execution_count": null,
      "outputs": []
    },
    {
      "cell_type": "code",
      "source": [
        "Sex = df_anova['Sex']\n",
        "StripNum = df_anova['StripNum'].values\n",
        "\n",
        "fig, ax = plt.subplots(figsize=(13, 6))\n",
        "\n",
        "# x axis (Perceived Race), trace (year), dependent variable (Cooperative mean value)\n",
        "fig = interaction_plot(df_anova['ArrestLocDiv'], Sex, StripNum, colors=['red','blue'], markers=['D','^'], ms=10, ax=ax)\n",
        "\n",
        "plt.ylabel('Strip Search Counts')\n",
        "plt.xlabel('Divisons')\n",
        "plt.title('Interaction Plot to show Strip Search Counts by Division and Sex', fontweight='bold')\n",
        "plt.show()"
      ],
      "metadata": {
        "id": "heH9ej2ziv40"
      },
      "id": "heH9ej2ziv40",
      "execution_count": null,
      "outputs": []
    },
    {
      "cell_type": "code",
      "source": [
        "'''from scipy.stats import f_oneway\n",
        "\n",
        "grouped_data = melt_df_year.groupby(['ArrestLocDiv', 'Year'])['StripNum']\n",
        "\n",
        "# Perform the two-way ANOVA\n",
        "f_value, p_value = f_oneway(*[grouped_data.get_group(group) for group in grouped_data.groups])\n",
        "\n",
        "# Print the F-value and p-value\n",
        "print('F-value:', f_value)\n",
        "print('p-value:', p_value)\n",
        "'''"
      ],
      "metadata": {
        "id": "t4c2Zf5_yeqo"
      },
      "id": "t4c2Zf5_yeqo",
      "execution_count": null,
      "outputs": []
    },
    {
      "cell_type": "code",
      "execution_count": null,
      "id": "59911e46-7d01-44be-bc23-ad758604c192",
      "metadata": {
        "tags": [],
        "id": "59911e46-7d01-44be-bc23-ad758604c192"
      },
      "outputs": [],
      "source": [
        "from datascience import *\n",
        "import matplotlib\n",
        "%matplotlib inline\n",
        "import matplotlib.pyplot as plt\n",
        "import seaborn as sns\n",
        "from pylab import *\n",
        "from matplotlib.pyplot import figure"
      ]
    },
    {
      "cell_type": "code",
      "execution_count": null,
      "id": "cccef75a-9333-4660-ad3a-a3b9009b03a1",
      "metadata": {
        "tags": [],
        "id": "cccef75a-9333-4660-ad3a-a3b9009b03a1"
      },
      "outputs": [],
      "source": [
        "pip install datascience"
      ]
    },
    {
      "cell_type": "code",
      "execution_count": null,
      "id": "6d9dee2e-c25f-4103-a955-591797234c34",
      "metadata": {
        "id": "6d9dee2e-c25f-4103-a955-591797234c34"
      },
      "outputs": [],
      "source": [
        "import matplotlib.pyplot as plt\n",
        "import pandas as pd\n",
        "\n",
        "# create a dataframe from the table\n",
        "df = pd.DataFrame({\n",
        "    'ArrestLocDiv': ['11', '12', '13', '14', '22', '23', '31', '32', '33', '41', '42', '43', '51', '52', '53', '54', '55'],\n",
        "    'StripNum_20_M': [725, 819, 444, 1248, 786, 716, 916, 956, 381, 1086, 766, 1123, 2009, 983, 542, 541, 665],\n",
        "    'StripNum_21_M': [709, 760, 482, 1354, 773, 764, 964, 829, 396, 1068, 781, 987, 2016, 945, 637, 566, 618],\n",
        "    'StripNum_20_F': [183, 164, 89, 251, 135, 126, 190, 152, 93, 237, 135, 286, 500, 213, 91, 156, 121],\n",
        "    'StripNum_21_F': [172, 159, 86, 264, 155, 132, 196, 151, 85, 249, 164, 211, 498, 199, 106, 174, 148]\n",
        "})\n",
        "\n",
        "# set the index of the dataframe to ArrestLocDiv\n",
        "df = df.set_index('ArrestLocDiv')\n",
        "\n",
        "# create the bar plot\n",
        "ax = df.plot(kind='bar', rot=0, figsize=(10, 6))\n",
        "\n",
        "# set the title and axis labels\n",
        "ax.set_title('Number of Male and Female Strip Searches by ArrestLocDiv', fontsize=16)\n",
        "ax.set_xlabel('ArrestLocDiv', fontsize=14)\n",
        "ax.set_ylabel('Number of Strip Searches', fontsize=14)\n",
        "\n",
        "# show the plot\n",
        "plt.show()"
      ]
    },
    {
      "cell_type": "markdown",
      "source": [
        "## Part two\n"
      ],
      "metadata": {
        "id": "iEvFkrBDXlVE"
      },
      "id": "iEvFkrBDXlVE"
    },
    {
      "cell_type": "code",
      "source": [
        "df = pd.read_csv(\"https://raw.githubusercontent.com/shionguha/inf2178-expdesignfordatascience-w23/main/project%20dataset/Arrests_and_Strip_Searches_(RBDC-ARR-TBL-001).csv\")"
      ],
      "metadata": {
        "id": "2a61KKNMG-sI"
      },
      "id": "2a61KKNMG-sI",
      "execution_count": null,
      "outputs": []
    },
    {
      "cell_type": "code",
      "source": [
        "df_year=df[['Arrest_Year',\"Actions_at_arrest___Concealed_i\",\"Actions_at_arrest___Combative__\",\"Actions_at_arrest___Resisted__d\",\"Actions_at_arrest___Mental_inst\",\"Actions_at_arrest___Assaulted_o\",\"Actions_at_arrest___Cooperative\"]]\n",
        "df_year=pd.melt(df_year,id_vars='Arrest_Year',var_name=\"Action_at_arrest\",value_name=\"Frequency\")\n",
        "df_year=df_year.groupby(['Arrest_Year','Action_at_arrest']).sum().reset_index()\n",
        "df_year.head()"
      ],
      "metadata": {
        "id": "ERqqeI1OZfCA"
      },
      "id": "ERqqeI1OZfCA",
      "execution_count": null,
      "outputs": []
    },
    {
      "cell_type": "code",
      "source": [
        "sns.barplot(data=df_year, x=\"Frequency\", y=\"Action_at_arrest\",hue=\"Arrest_Year\",ci=None).set(title='Frequency for different years\\' actions at arrest by category')"
      ],
      "metadata": {
        "id": "ZtKqItWvbbtr"
      },
      "id": "ZtKqItWvbbtr",
      "execution_count": null,
      "outputs": []
    },
    {
      "cell_type": "code",
      "source": [
        "df_oc_t=df[['Occurrence_Category','Actions_at_arrest___Cooperative']]\n",
        "df_oc_t=df_oc_t.groupby(['Occurrence_Category']).sum().reset_index()\n",
        "df_oc_t.head(20)"
      ],
      "metadata": {
        "id": "sE-4_0s0Ymby"
      },
      "id": "sE-4_0s0Ymby",
      "execution_count": null,
      "outputs": []
    },
    {
      "cell_type": "code",
      "source": [
        "df_oc=df[['Occurrence_Category','Arrest_Month','Actions_at_arrest___Cooperative']]\n",
        "df_oc=df_oc.groupby(['Occurrence_Category','Arrest_Month']).sum().reset_index()\n",
        "df_oc.head(20)"
      ],
      "metadata": {
        "id": "94pqivCZY1PU"
      },
      "execution_count": null,
      "outputs": [],
      "id": "94pqivCZY1PU"
    },
    {
      "cell_type": "code",
      "source": [
        "fig, ax = plt.subplots(figsize=(10, 10))\n",
        "sns.barplot(data=df_oc, x=\"Actions_at_arrest___Cooperative\", y=\"Occurrence_Category\",hue=\"Arrest_Month\",ci=None).set(title='Frequency for cooperative action at arrest by occurrence category',xlabel=\"Actions_at_arrest___Cooperative Frequency\")"
      ],
      "metadata": {
        "id": "ySbhwmp9XzMh"
      },
      "id": "ySbhwmp9XzMh",
      "execution_count": null,
      "outputs": []
    },
    {
      "cell_type": "code",
      "source": [
        "table = pd.pivot_table(df_oc, values='Actions_at_arrest___Cooperative', index=['Occurrence_Category'],columns=['Arrest_Month'], aggfunc=np.sum)\n",
        "table.describe()\n"
      ],
      "metadata": {
        "id": "IZZ0FveoklJA"
      },
      "id": "IZZ0FveoklJA",
      "execution_count": null,
      "outputs": []
    },
    {
      "cell_type": "code",
      "source": [],
      "metadata": {
        "id": "outdYnavHhI-"
      },
      "id": "outdYnavHhI-",
      "execution_count": null,
      "outputs": []
    },
    {
      "cell_type": "code",
      "source": [
        "table.head()"
      ],
      "metadata": {
        "id": "3FrXtJQqrGm3"
      },
      "id": "3FrXtJQqrGm3",
      "execution_count": null,
      "outputs": []
    },
    {
      "cell_type": "code",
      "source": [
        "table1 = pd.pivot_table(df_oc, values='Actions_at_arrest___Cooperative', index=['Arrest_Month'],columns=['Occurrence_Category'], aggfunc=np.sum)\n",
        "table1.describe()\n"
      ],
      "metadata": {
        "id": "mVdybtr57nKl"
      },
      "id": "mVdybtr57nKl",
      "execution_count": null,
      "outputs": []
    },
    {
      "cell_type": "code",
      "source": [
        "treatment = df_oc[df_oc['Occurrence_Category'] == 'Assault']['Actions_at_arrest___Cooperative']\n",
        "control = df_oc[df_oc['Occurrence_Category'] == 'FTA/FTC, Compliance Check & Parollee']['Actions_at_arrest___Cooperative']\n",
        "t_statistic, p_value = stats.ttest_ind(treatment, control)\n",
        "\n",
        "print(\"T-Statistic: \", t_statistic)\n",
        "print(\"P-Value: \", p_value)"
      ],
      "metadata": {
        "id": "l1HYsZKjZyzs"
      },
      "execution_count": null,
      "outputs": [],
      "id": "l1HYsZKjZyzs"
    },
    {
      "cell_type": "code",
      "source": [
        "model = ols('Actions_at_arrest___Cooperative ~ Occurrence_Category', data=df_oc).fit()\n",
        "aov_table = sm.stats.anova_lm(model, typ=1)\n",
        "print(aov_table)"
      ],
      "metadata": {
        "id": "W3Pa1P0OdFww"
      },
      "id": "W3Pa1P0OdFww",
      "execution_count": null,
      "outputs": []
    },
    {
      "cell_type": "code",
      "source": [
        "import statsmodels.stats.multicomp as mc\n",
        "tukey = mc.pairwise_tukeyhsd(df_oc['Actions_at_arrest___Cooperative'], df_oc['Occurrence_Category'])\n",
        "print(tukey.summary())"
      ],
      "metadata": {
        "id": "8NHX6IplgweB"
      },
      "id": "8NHX6IplgweB",
      "execution_count": null,
      "outputs": []
    },
    {
      "cell_type": "code",
      "source": [
        "Arrest_Month = df_oc['Arrest_Month']\n",
        "frequency = df_oc['Actions_at_arrest___Cooperative'].values\n",
        "fig, ax = plt.subplots(figsize=(30, 7))\n",
        "\n",
        "# x axis (Perceived Race), trace (year), dependent variable (Cooperative mean value)\n",
        "fig = interaction_plot(df_oc['Occurrence_Category'], Arrest_Month, frequency,ax=ax)\n",
        "plt.ylabel('Cooperative action frequency')\n",
        "plt.xlabel('Occurrence Category')\n",
        "plt.xticks(rotation=90)\n",
        "plt.title('Interaction plot to show cooperative action at arrest by occurrence category and arrest period')\n",
        "plt.show()"
      ],
      "metadata": {
        "id": "6QXE-xrWk5LW"
      },
      "id": "6QXE-xrWk5LW",
      "execution_count": null,
      "outputs": []
    },
    {
      "cell_type": "markdown",
      "source": [
        "# Final\n"
      ],
      "metadata": {
        "id": "t3o4xKakBfI0"
      },
      "id": "t3o4xKakBfI0"
    },
    {
      "cell_type": "markdown",
      "source": [
        "## EDA\n"
      ],
      "metadata": {
        "id": "Lgnn94MrkAd8"
      },
      "id": "Lgnn94MrkAd8"
    },
    {
      "cell_type": "code",
      "source": [
        "df_without_XX.head()"
      ],
      "metadata": {
        "colab": {
          "base_uri": "https://localhost:8080/",
          "height": 317
        },
        "id": "N90eWL5fkOQX",
        "outputId": "0f9f71fb-753d-4add-dca0-99025fa367e3"
      },
      "id": "N90eWL5fkOQX",
      "execution_count": null,
      "outputs": [
        {
          "output_type": "execute_result",
          "data": {
            "text/plain": [
              "   Arrest_Year Arrest_Month  EventID   ArrestID  PersonID     Perceived_Race  \\\n",
              "0         2020    July-Sept  1005907  6017884.0    326622              White   \n",
              "1         2020    July-Sept  1014562  6056669.0    326622              White   \n",
              "2         2020      Oct-Dec  1029922  6057065.0    326622  Unknown or Legacy   \n",
              "5         2021     Apr-June  1019145  6060688.0    327535        South Asian   \n",
              "6         2021      Jan-Mar  1035445  6053833.0    330778              Black   \n",
              "\n",
              "  Sex Age_group__at_arrest_  Youth_at_arrest__under_18_years ArrestLocDiv  \\\n",
              "0   M   Aged 35 to 44 years                                0           54   \n",
              "1   M   Aged 35 to 44 years                                0           54   \n",
              "2   M   Aged 35 to 44 years                                0           54   \n",
              "5   M   Aged 25 to 34 years                                0           42   \n",
              "6   M   Aged 25 to 34 years                                0           52   \n",
              "\n",
              "   ...  Actions_at_arrest___Resisted__d  Actions_at_arrest___Mental_inst  \\\n",
              "0  ...                                0                                0   \n",
              "1  ...                                0                                0   \n",
              "2  ...                                0                                0   \n",
              "5  ...                                0                                0   \n",
              "6  ...                                0                                0   \n",
              "\n",
              "  Actions_at_arrest___Assaulted_o  Actions_at_arrest___Cooperative  \\\n",
              "0                               0                                1   \n",
              "1                               0                                0   \n",
              "2                               0                                0   \n",
              "5                               0                                1   \n",
              "6                               0                                0   \n",
              "\n",
              "   SearchReason_CauseInjury  SearchReason_AssistEscape  \\\n",
              "0                       0.0                        0.0   \n",
              "1                       0.0                        0.0   \n",
              "2                       0.0                        0.0   \n",
              "5                       0.0                        0.0   \n",
              "6                       0.0                        0.0   \n",
              "\n",
              "   SearchReason_PossessWeapons  SearchReason_PossessEvidence  ItemsFound  \\\n",
              "0                          0.0                           0.0         0.0   \n",
              "1                          0.0                           0.0         0.0   \n",
              "2                          0.0                           0.0         0.0   \n",
              "5                          0.0                           0.0         0.0   \n",
              "6                          0.0                           0.0         0.0   \n",
              "\n",
              "   ObjectId  \n",
              "0         1  \n",
              "1         2  \n",
              "2         3  \n",
              "5         6  \n",
              "6         7  \n",
              "\n",
              "[5 rows x 25 columns]"
            ],
            "text/html": [
              "\n",
              "  <div id=\"df-af1d939a-546f-428f-ba78-016ac58eb3b4\">\n",
              "    <div class=\"colab-df-container\">\n",
              "      <div>\n",
              "<style scoped>\n",
              "    .dataframe tbody tr th:only-of-type {\n",
              "        vertical-align: middle;\n",
              "    }\n",
              "\n",
              "    .dataframe tbody tr th {\n",
              "        vertical-align: top;\n",
              "    }\n",
              "\n",
              "    .dataframe thead th {\n",
              "        text-align: right;\n",
              "    }\n",
              "</style>\n",
              "<table border=\"1\" class=\"dataframe\">\n",
              "  <thead>\n",
              "    <tr style=\"text-align: right;\">\n",
              "      <th></th>\n",
              "      <th>Arrest_Year</th>\n",
              "      <th>Arrest_Month</th>\n",
              "      <th>EventID</th>\n",
              "      <th>ArrestID</th>\n",
              "      <th>PersonID</th>\n",
              "      <th>Perceived_Race</th>\n",
              "      <th>Sex</th>\n",
              "      <th>Age_group__at_arrest_</th>\n",
              "      <th>Youth_at_arrest__under_18_years</th>\n",
              "      <th>ArrestLocDiv</th>\n",
              "      <th>...</th>\n",
              "      <th>Actions_at_arrest___Resisted__d</th>\n",
              "      <th>Actions_at_arrest___Mental_inst</th>\n",
              "      <th>Actions_at_arrest___Assaulted_o</th>\n",
              "      <th>Actions_at_arrest___Cooperative</th>\n",
              "      <th>SearchReason_CauseInjury</th>\n",
              "      <th>SearchReason_AssistEscape</th>\n",
              "      <th>SearchReason_PossessWeapons</th>\n",
              "      <th>SearchReason_PossessEvidence</th>\n",
              "      <th>ItemsFound</th>\n",
              "      <th>ObjectId</th>\n",
              "    </tr>\n",
              "  </thead>\n",
              "  <tbody>\n",
              "    <tr>\n",
              "      <th>0</th>\n",
              "      <td>2020</td>\n",
              "      <td>July-Sept</td>\n",
              "      <td>1005907</td>\n",
              "      <td>6017884.0</td>\n",
              "      <td>326622</td>\n",
              "      <td>White</td>\n",
              "      <td>M</td>\n",
              "      <td>Aged 35 to 44 years</td>\n",
              "      <td>0</td>\n",
              "      <td>54</td>\n",
              "      <td>...</td>\n",
              "      <td>0</td>\n",
              "      <td>0</td>\n",
              "      <td>0</td>\n",
              "      <td>1</td>\n",
              "      <td>0.0</td>\n",
              "      <td>0.0</td>\n",
              "      <td>0.0</td>\n",
              "      <td>0.0</td>\n",
              "      <td>0.0</td>\n",
              "      <td>1</td>\n",
              "    </tr>\n",
              "    <tr>\n",
              "      <th>1</th>\n",
              "      <td>2020</td>\n",
              "      <td>July-Sept</td>\n",
              "      <td>1014562</td>\n",
              "      <td>6056669.0</td>\n",
              "      <td>326622</td>\n",
              "      <td>White</td>\n",
              "      <td>M</td>\n",
              "      <td>Aged 35 to 44 years</td>\n",
              "      <td>0</td>\n",
              "      <td>54</td>\n",
              "      <td>...</td>\n",
              "      <td>0</td>\n",
              "      <td>0</td>\n",
              "      <td>0</td>\n",
              "      <td>0</td>\n",
              "      <td>0.0</td>\n",
              "      <td>0.0</td>\n",
              "      <td>0.0</td>\n",
              "      <td>0.0</td>\n",
              "      <td>0.0</td>\n",
              "      <td>2</td>\n",
              "    </tr>\n",
              "    <tr>\n",
              "      <th>2</th>\n",
              "      <td>2020</td>\n",
              "      <td>Oct-Dec</td>\n",
              "      <td>1029922</td>\n",
              "      <td>6057065.0</td>\n",
              "      <td>326622</td>\n",
              "      <td>Unknown or Legacy</td>\n",
              "      <td>M</td>\n",
              "      <td>Aged 35 to 44 years</td>\n",
              "      <td>0</td>\n",
              "      <td>54</td>\n",
              "      <td>...</td>\n",
              "      <td>0</td>\n",
              "      <td>0</td>\n",
              "      <td>0</td>\n",
              "      <td>0</td>\n",
              "      <td>0.0</td>\n",
              "      <td>0.0</td>\n",
              "      <td>0.0</td>\n",
              "      <td>0.0</td>\n",
              "      <td>0.0</td>\n",
              "      <td>3</td>\n",
              "    </tr>\n",
              "    <tr>\n",
              "      <th>5</th>\n",
              "      <td>2021</td>\n",
              "      <td>Apr-June</td>\n",
              "      <td>1019145</td>\n",
              "      <td>6060688.0</td>\n",
              "      <td>327535</td>\n",
              "      <td>South Asian</td>\n",
              "      <td>M</td>\n",
              "      <td>Aged 25 to 34 years</td>\n",
              "      <td>0</td>\n",
              "      <td>42</td>\n",
              "      <td>...</td>\n",
              "      <td>0</td>\n",
              "      <td>0</td>\n",
              "      <td>0</td>\n",
              "      <td>1</td>\n",
              "      <td>0.0</td>\n",
              "      <td>0.0</td>\n",
              "      <td>0.0</td>\n",
              "      <td>0.0</td>\n",
              "      <td>0.0</td>\n",
              "      <td>6</td>\n",
              "    </tr>\n",
              "    <tr>\n",
              "      <th>6</th>\n",
              "      <td>2021</td>\n",
              "      <td>Jan-Mar</td>\n",
              "      <td>1035445</td>\n",
              "      <td>6053833.0</td>\n",
              "      <td>330778</td>\n",
              "      <td>Black</td>\n",
              "      <td>M</td>\n",
              "      <td>Aged 25 to 34 years</td>\n",
              "      <td>0</td>\n",
              "      <td>52</td>\n",
              "      <td>...</td>\n",
              "      <td>0</td>\n",
              "      <td>0</td>\n",
              "      <td>0</td>\n",
              "      <td>0</td>\n",
              "      <td>0.0</td>\n",
              "      <td>0.0</td>\n",
              "      <td>0.0</td>\n",
              "      <td>0.0</td>\n",
              "      <td>0.0</td>\n",
              "      <td>7</td>\n",
              "    </tr>\n",
              "  </tbody>\n",
              "</table>\n",
              "<p>5 rows × 25 columns</p>\n",
              "</div>\n",
              "      <button class=\"colab-df-convert\" onclick=\"convertToInteractive('df-af1d939a-546f-428f-ba78-016ac58eb3b4')\"\n",
              "              title=\"Convert this dataframe to an interactive table.\"\n",
              "              style=\"display:none;\">\n",
              "        \n",
              "  <svg xmlns=\"http://www.w3.org/2000/svg\" height=\"24px\"viewBox=\"0 0 24 24\"\n",
              "       width=\"24px\">\n",
              "    <path d=\"M0 0h24v24H0V0z\" fill=\"none\"/>\n",
              "    <path d=\"M18.56 5.44l.94 2.06.94-2.06 2.06-.94-2.06-.94-.94-2.06-.94 2.06-2.06.94zm-11 1L8.5 8.5l.94-2.06 2.06-.94-2.06-.94L8.5 2.5l-.94 2.06-2.06.94zm10 10l.94 2.06.94-2.06 2.06-.94-2.06-.94-.94-2.06-.94 2.06-2.06.94z\"/><path d=\"M17.41 7.96l-1.37-1.37c-.4-.4-.92-.59-1.43-.59-.52 0-1.04.2-1.43.59L10.3 9.45l-7.72 7.72c-.78.78-.78 2.05 0 2.83L4 21.41c.39.39.9.59 1.41.59.51 0 1.02-.2 1.41-.59l7.78-7.78 2.81-2.81c.8-.78.8-2.07 0-2.86zM5.41 20L4 18.59l7.72-7.72 1.47 1.35L5.41 20z\"/>\n",
              "  </svg>\n",
              "      </button>\n",
              "      \n",
              "  <style>\n",
              "    .colab-df-container {\n",
              "      display:flex;\n",
              "      flex-wrap:wrap;\n",
              "      gap: 12px;\n",
              "    }\n",
              "\n",
              "    .colab-df-convert {\n",
              "      background-color: #E8F0FE;\n",
              "      border: none;\n",
              "      border-radius: 50%;\n",
              "      cursor: pointer;\n",
              "      display: none;\n",
              "      fill: #1967D2;\n",
              "      height: 32px;\n",
              "      padding: 0 0 0 0;\n",
              "      width: 32px;\n",
              "    }\n",
              "\n",
              "    .colab-df-convert:hover {\n",
              "      background-color: #E2EBFA;\n",
              "      box-shadow: 0px 1px 2px rgba(60, 64, 67, 0.3), 0px 1px 3px 1px rgba(60, 64, 67, 0.15);\n",
              "      fill: #174EA6;\n",
              "    }\n",
              "\n",
              "    [theme=dark] .colab-df-convert {\n",
              "      background-color: #3B4455;\n",
              "      fill: #D2E3FC;\n",
              "    }\n",
              "\n",
              "    [theme=dark] .colab-df-convert:hover {\n",
              "      background-color: #434B5C;\n",
              "      box-shadow: 0px 1px 3px 1px rgba(0, 0, 0, 0.15);\n",
              "      filter: drop-shadow(0px 1px 2px rgba(0, 0, 0, 0.3));\n",
              "      fill: #FFFFFF;\n",
              "    }\n",
              "  </style>\n",
              "\n",
              "      <script>\n",
              "        const buttonEl =\n",
              "          document.querySelector('#df-af1d939a-546f-428f-ba78-016ac58eb3b4 button.colab-df-convert');\n",
              "        buttonEl.style.display =\n",
              "          google.colab.kernel.accessAllowed ? 'block' : 'none';\n",
              "\n",
              "        async function convertToInteractive(key) {\n",
              "          const element = document.querySelector('#df-af1d939a-546f-428f-ba78-016ac58eb3b4');\n",
              "          const dataTable =\n",
              "            await google.colab.kernel.invokeFunction('convertToInteractive',\n",
              "                                                     [key], {});\n",
              "          if (!dataTable) return;\n",
              "\n",
              "          const docLinkHtml = 'Like what you see? Visit the ' +\n",
              "            '<a target=\"_blank\" href=https://colab.research.google.com/notebooks/data_table.ipynb>data table notebook</a>'\n",
              "            + ' to learn more about interactive tables.';\n",
              "          element.innerHTML = '';\n",
              "          dataTable['output_type'] = 'display_data';\n",
              "          await google.colab.output.renderOutput(dataTable, element);\n",
              "          const docLink = document.createElement('div');\n",
              "          docLink.innerHTML = docLinkHtml;\n",
              "          element.appendChild(docLink);\n",
              "        }\n",
              "      </script>\n",
              "    </div>\n",
              "  </div>\n",
              "  "
            ]
          },
          "metadata": {},
          "execution_count": 10
        }
      ]
    },
    {
      "cell_type": "code",
      "source": [
        "StR = sns.catplot(y=\"StripSearch\", hue=\"Perceived_Race\", kind=\"count\",\n",
        "            palette=\"deep\",\n",
        "            data=df_without_XX)\n",
        "StR.fig.subplots_adjust(top=0.9) # adjust the Figure in rp\n",
        "StR.fig.suptitle('Distribution of case count between races categorized by whether a strip search occurred')"
      ],
      "metadata": {
        "colab": {
          "base_uri": "https://localhost:8080/",
          "height": 529
        },
        "id": "om1ZQneQkqlJ",
        "outputId": "e77bd2b5-bb7b-4d7a-f82b-09d0ff7de6fd"
      },
      "id": "om1ZQneQkqlJ",
      "execution_count": null,
      "outputs": [
        {
          "output_type": "execute_result",
          "data": {
            "text/plain": [
              "Text(0.5, 0.98, 'Distribution of case count between races categorized by whether a strip search occurred')"
            ]
          },
          "metadata": {},
          "execution_count": 15
        },
        {
          "output_type": "display_data",
          "data": {
            "text/plain": [
              "<Figure size 696.875x500 with 1 Axes>"
            ],
            "image/png": "[encoded data removed]"
          },
          "metadata": {}
        }
      ]
    },
    {
      "cell_type": "code",
      "source": [
        "StR = sns.catplot(y=\"StripSearch\", hue=\"Sex\", kind=\"count\",\n",
        "            palette=\"deep\",\n",
        "            data=df_without_XX)\n",
        "StR.fig.subplots_adjust(top=0.9) # adjust the Figure in rp\n",
        "StR.fig.suptitle('Distribution of case count for each gender by whether a strip search occurred')"
      ],
      "metadata": {
        "colab": {
          "base_uri": "https://localhost:8080/",
          "height": 529
        },
        "id": "5YFQRVRbstns",
        "outputId": "7008cfee-1a70-43e4-efbd-9124b893e1bf"
      },
      "id": "5YFQRVRbstns",
      "execution_count": null,
      "outputs": [
        {
          "output_type": "execute_result",
          "data": {
            "text/plain": [
              "Text(0.5, 0.98, 'Distribution of case count for each gender by whether a strip search occurred')"
            ]
          },
          "metadata": {},
          "execution_count": 25
        },
        {
          "output_type": "display_data",
          "data": {
            "text/plain": [
              "<Figure size 562x500 with 1 Axes>"
            ],
            "image/png": "[encoded data removed]"
          },
          "metadata": {}
        }
      ]
    },
    {
      "cell_type": "code",
      "source": [
        "StR = sns.catplot(y=\"StripSearch\", hue=\"ArrestLocDiv\", kind=\"count\",\n",
        "            palette=\"deep\",\n",
        "            data=df_without_XX)\n",
        "StR.fig.subplots_adjust(top=0.9) # adjust the Figure in rp\n",
        "StR.fig.suptitle('Distribution of case count between arrest location divisions by whether a strip search occurred')"
      ],
      "metadata": {
        "colab": {
          "base_uri": "https://localhost:8080/",
          "height": 529
        },
        "id": "zQcuyKHApPqd",
        "outputId": "96fa9fe1-369d-4b9f-fbf7-58405ce2f4fc"
      },
      "id": "zQcuyKHApPqd",
      "execution_count": null,
      "outputs": [
        {
          "output_type": "execute_result",
          "data": {
            "text/plain": [
              "Text(0.5, 0.98, 'Distribution of case count between arrest location divisions by whether a strip search occurred')"
            ]
          },
          "metadata": {},
          "execution_count": 60
        },
        {
          "output_type": "display_data",
          "data": {
            "text/plain": [
              "<Figure size 599.236x500 with 1 Axes>"
            ],
            "image/png": "[encoded data removed]"
          },
          "metadata": {}
        }
      ]
    },
    {
      "cell_type": "code",
      "source": [
        "df_x=df_without_XX[df_without_XX[\"StripSearch\"]==1].copy()\n",
        "StR = sns.catplot(y=\"ItemsFound\", hue=\"ArrestLocDiv\", kind=\"count\",\n",
        "            palette=\"deep\",\n",
        "            data=df_x)\n",
        "StR.fig.subplots_adjust(top=0.9) # adjust the Figure in rp\n",
        "StR.fig.suptitle('Distribution of case count between arrest location divisions by whether items are found in strip search')"
      ],
      "metadata": {
        "colab": {
          "base_uri": "https://localhost:8080/",
          "height": 529
        },
        "id": "IuMxeOU0StXG",
        "outputId": "c3ed90ab-4c4f-4881-e7e4-63042907d06c"
      },
      "id": "IuMxeOU0StXG",
      "execution_count": null,
      "outputs": [
        {
          "output_type": "execute_result",
          "data": {
            "text/plain": [
              "Text(0.5, 0.98, 'Distribution of case count between arrest location divisions by whether items are found in strip search')"
            ]
          },
          "metadata": {},
          "execution_count": 74
        },
        {
          "output_type": "display_data",
          "data": {
            "text/plain": [
              "<Figure size 599.236x500 with 1 Axes>"
            ],
            "image/png": "[encoded data removed]"
          },
          "metadata": {}
        }
      ]
    },
    {
      "cell_type": "code",
      "source": [
        "StR = sns.catplot(y=\"Occurrence_Category\", hue=\"StripSearch\", kind=\"count\",\n",
        "            palette=\"deep\",\n",
        "            data=df_without_XX,height=5,aspect=2)\n",
        "StR.fig.subplots_adjust(top=0.9) # adjust the Figure in rp\n",
        "StR.fig.suptitle('Distribution of case count between occurrence categorized by whether a strip search occurred')"
      ],
      "metadata": {
        "colab": {
          "base_uri": "https://localhost:8080/",
          "height": 529
        },
        "id": "dR0_XcRPtySd",
        "outputId": "6c253d0f-196c-423d-eebb-a21a16a51960"
      },
      "id": "dR0_XcRPtySd",
      "execution_count": null,
      "outputs": [
        {
          "output_type": "execute_result",
          "data": {
            "text/plain": [
              "Text(0.5, 0.98, 'Distribution of case count between occurrence categorized by whether a strip search occurred')"
            ]
          },
          "metadata": {},
          "execution_count": 59
        },
        {
          "output_type": "display_data",
          "data": {
            "text/plain": [
              "<Figure size 1091.61x500 with 1 Axes>"
            ],
            "image/png": "[encoded data removed]"
          },
          "metadata": {}
        }
      ]
    },
    {
      "cell_type": "code",
      "source": [
        "StR = sns.catplot(y=\"StripSearch\", hue=\"Youth_at_arrest__under_18_years\", kind=\"count\",\n",
        "            palette=\"deep\",\n",
        "            data=df_without_XX)\n",
        "StR.fig.subplots_adjust(top=0.9) # adjust the Figure in rp\n",
        "StR.fig.suptitle('Distribution of case count for youth or not by whether a strip search occurred')"
      ],
      "metadata": {
        "colab": {
          "base_uri": "https://localhost:8080/",
          "height": 529
        },
        "id": "2SgzRPws4T9w",
        "outputId": "7ded0594-b065-4810-d57b-19c216776995"
      },
      "id": "2SgzRPws4T9w",
      "execution_count": null,
      "outputs": [
        {
          "output_type": "execute_result",
          "data": {
            "text/plain": [
              "Text(0.5, 0.98, 'Distribution of case count for youth or not by whether a strip search occurred')"
            ]
          },
          "metadata": {},
          "execution_count": 53
        },
        {
          "output_type": "display_data",
          "data": {
            "text/plain": [
              "<Figure size 742.611x500 with 1 Axes>"
            ],
            "image/png": "[encoded data removed]"
          },
          "metadata": {}
        }
      ]
    },
    {
      "cell_type": "code",
      "source": [
        "search_division_pct = pd.DataFrame(df_without_XX.groupby(['ArrestLocDiv', 'StripSearch'])['StripSearch'].count())\n",
        "search_division_pct.columns = ['count']\n",
        "search_division_pct['percent'] = search_division_pct['count'] / search_division_pct.groupby('ArrestLocDiv')['count'].transform('sum') * 100\n",
        "\n",
        "# Calculate strip search percentages by sex\n",
        "search_sex_pct = pd.DataFrame(df.groupby(['Sex', 'StripSearch'])['StripSearch'].count())\n",
        "search_sex_pct.columns = ['count']\n",
        "search_sex_pct['percent'] = search_sex_pct['count'] / search_sex_pct.groupby('Sex')['count'].transform('sum') * 100\n",
        "\n",
        "# Calculate strip search percentages by youth arrest\n",
        "search_youth_pct = pd.DataFrame(df.groupby(['Youth_at_arrest__under_18_years', 'StripSearch'])['StripSearch'].count())\n",
        "search_youth_pct.columns = ['count']\n",
        "search_youth_pct['percent'] = search_youth_pct['count'] / search_youth_pct.groupby('Youth_at_arrest__under_18_years')['count'].transform('sum') * 100\n",
        "# Calculate strip search percentages by occurrence\n",
        "search_o_pct = pd.DataFrame(df.groupby(['Occurrence_Category', 'StripSearch'])['StripSearch'].count())\n",
        "search_o_pct.columns = ['count']\n",
        "search_o_pct['percent'] = search_o_pct['count'] / search_o_pct.groupby('Occurrence_Category')['count'].transform('sum') * 100\n",
        "\n",
        "# Calculate strip search percentages by youth arrest\n",
        "sex_i_pct = pd.DataFrame(df.groupby(['Sex', 'ItemsFound'])['ItemsFound'].count())\n",
        "sex_i_pct.columns = ['count']\n",
        "sex_i_pct['percent'] = sex_i_pct['count'] / sex_i_pct.groupby('Sex')['count'].transform('sum') * 100\n",
        "\n",
        "# Print the results\n",
        "pd.set_option(\"display.max_columns\", None)\n",
        "pd.set_option(\"display.max_rows\", None)\n",
        "print(\"Strip search percentages by division:\")\n",
        "print(search_division_pct)\n",
        "print(\"Strip search percentages by sex:\")\n",
        "print(search_sex_pct)\n",
        "print(\"Strip search percentages by youth arrest:\")\n",
        "print(search_youth_pct)\n",
        "print(\"Strip search percentages by age:\")\n",
        "print(search_o_pct)\n",
        "print(\"Item Found percentages by sex:\")\n",
        "print(sex_i_pct)\n",
        "\n"
      ],
      "metadata": {
        "colab": {
          "base_uri": "https://localhost:8080/"
        },
        "id": "YR7941-8qMnF",
        "outputId": "e10ffc8a-ea68-4fc0-b1e2-718213440b72"
      },
      "id": "YR7941-8qMnF",
      "execution_count": null,
      "outputs": [
        {
          "output_type": "stream",
          "name": "stdout",
          "text": [
            "Strip search percentages by division:\n",
            "                          count    percent\n",
            "ArrestLocDiv StripSearch                  \n",
            "11           0             1567  87.590833\n",
            "             1              222  12.409167\n",
            "12           0             1617  85.015773\n",
            "             1              285  14.984227\n",
            "13           0              968  87.840290\n",
            "             1              134  12.159710\n",
            "14           0             2360  75.713827\n",
            "             1              757  24.286173\n",
            "22           0             1660  89.729730\n",
            "             1              190  10.270270\n",
            "23           0             1561  89.815880\n",
            "             1              177  10.184120\n",
            "31           0             1966  86.760812\n",
            "             1              300  13.239188\n",
            "32           0             1876  89.846743\n",
            "             1              212  10.153257\n",
            "33           0              865  90.575916\n",
            "             1               90   9.424084\n",
            "41           0             2280  86.363636\n",
            "             1              360  13.636364\n",
            "42           0             1587  85.969664\n",
            "             1              259  14.030336\n",
            "43           0             2036  78.097430\n",
            "             1              571  21.902570\n",
            "51           0             3614  71.920398\n",
            "             1             1411  28.079602\n",
            "52           0             1810  77.350427\n",
            "             1              530  22.649573\n",
            "53           0             1081  78.561047\n",
            "             1              295  21.438953\n",
            "54           0             1204  83.785665\n",
            "             1              233  16.214335\n",
            "55           0             1284  82.731959\n",
            "             1              268  17.268041\n",
            "Strip search percentages by sex:\n",
            "                 count     percent\n",
            "Sex StripSearch                   \n",
            "F   0            11334   89.831180\n",
            "    1             1283   10.168820\n",
            "M   0            46132   87.620133\n",
            "    1             6518   12.379867\n",
            "U   0                9  100.000000\n",
            "Strip search percentages by youth arrest:\n",
            "                                             count    percent\n",
            "Youth_at_arrest__under_18_years StripSearch                  \n",
            "0                               0            54713  87.914966\n",
            "                                1             7521  12.085034\n",
            "1                               0             2762  90.795529\n",
            "                                1              280   9.204471\n",
            "Strip search percentages by age:\n",
            "                                                             count     percent\n",
            "Occurrence_Category                             StripSearch                   \n",
            "Assault                                         0             7622   98.653896\n",
            "                                                1              104    1.346104\n",
            "Assault & Other crimes against persons          0             5808   80.276434\n",
            "                                                1             1427   19.723566\n",
            "Break & Enter                                   0              492   53.711790\n",
            "                                                1              424   46.288210\n",
            "Break and Enter                                 0              833   95.967742\n",
            "                                                1               35    4.032258\n",
            "Crimes against Children                         0               69  100.000000\n",
            "Drug Related                                    0             1674   60.850600\n",
            "                                                1             1077   39.149400\n",
            "FTA/FTC, Compliance Check & Parollee            0             2637   68.016508\n",
            "                                                1             1240   31.983492\n",
            "FTA/FTC/Compliance Check/Parollee               0             4156   97.880358\n",
            "                                                1               90    2.119642\n",
            "Fraud                                           0              473   99.789030\n",
            "                                                1                1    0.210970\n",
            "Harassment & Threatening                        0             1007   79.416404\n",
            "                                                1              261   20.583596\n",
            "Harassment/Threatening                          0             1337   99.331352\n",
            "                                                1                9    0.668648\n",
            "Homicide                                        0               70   95.890411\n",
            "                                                1                3    4.109589\n",
            "Impaired                                        0             1355   99.486050\n",
            "                                                1                7    0.513950\n",
            "LLA                                             0              585   99.829352\n",
            "                                                1                1    0.170648\n",
            "Mental Health                                   0              237   99.163180\n",
            "                                                1                2    0.836820\n",
            "Mischief                                        0             1302   98.487141\n",
            "                                                1               20    1.512859\n",
            "Mischief & Fraud                                0             1485   85.739030\n",
            "                                                1              247   14.260970\n",
            "Other Offence                                   0             1718   87.119675\n",
            "                                                1              254   12.880325\n",
            "Other Statute                                   0              943   99.894068\n",
            "                                                1                1    0.105932\n",
            "Other Statute & Other Incident Type             0             2277   97.141638\n",
            "                                                1               67    2.858362\n",
            "Police Category - Administrative                0             3850   99.022634\n",
            "                                                1               38    0.977366\n",
            "Police Category - Incident                      0              562   99.645390\n",
            "                                                1                2    0.354610\n",
            "Robbery & Theft                                 0             3769   82.292576\n",
            "                                                1              811   17.707424\n",
            "Robbery/Theft                                   0             3688   98.241875\n",
            "                                                1               66    1.758125\n",
            "Sexual Related Crime                            0              831   99.046484\n",
            "                                                1                8    0.953516\n",
            "Sexual Related Crimes & Crimes Against Children 0              700   88.272383\n",
            "                                                1               93   11.727617\n",
            "Unknown                                         0              164   99.393939\n",
            "                                                1                1    0.606061\n",
            "Vehicle Related                                 0              763   99.348958\n",
            "                                                1                5    0.651042\n",
            "Vehicle Related (inc. Impaired)                 0             1879   95.042994\n",
            "                                                1               98    4.957006\n",
            "Warrant                                         0             3501   79.840365\n",
            "                                                1              884   20.159635\n",
            "Weapons                                         0             1044   94.223827\n",
            "                                                1               64    5.776173\n",
            "Weapons & Homicide                              0              644   58.280543\n",
            "                                                1              461   41.719457\n",
            "Item Found percentages by sex:\n",
            "                count     percent\n",
            "Sex ItemsFound                   \n",
            "F   0.0         12095   95.862725\n",
            "    1.0           522    4.137275\n",
            "M   0.0         50261   95.462488\n",
            "    1.0          2389    4.537512\n",
            "U   0.0             9  100.000000\n"
          ]
        }
      ]
    },
    {
      "cell_type": "markdown",
      "source": [
        "## Research Questions\n",
        "\n",
        "For ANCOVA:\n",
        "\n",
        "1. Would difference in divisions affect the number of stripseach conducted when\n",
        "account for the items found?\n",
        "2. Would Sex affect the number of stripseach conducted when account for the items found?\n",
        "\n",
        "For Logistic Regression:\n",
        "\n",
        "1. How do factors of perceived race, sex, age, occurrence category, and the arrest location affect the number of strip search conducted?"
      ],
      "metadata": {
        "id": "5zmFJ3niDIgg"
      },
      "id": "5zmFJ3niDIgg"
    },
    {
      "cell_type": "markdown",
      "source": [
        "## Data Preprocessing"
      ],
      "metadata": {
        "id": "eH7Ra2TSCyw5"
      },
      "id": "eH7Ra2TSCyw5"
    },
    {
      "cell_type": "markdown",
      "source": [
        "### Ancova DF"
      ],
      "metadata": {
        "id": "bl8nnIdLC38-"
      },
      "id": "bl8nnIdLC38-"
    },
    {
      "cell_type": "code",
      "source": [
        "df_strip_wXX[\"ItemsFound\"].unique()"
      ],
      "metadata": {
        "colab": {
          "base_uri": "https://localhost:8080/"
        },
        "id": "Wx0B8JY0E3x9",
        "outputId": "91cde3fc-2a1d-46f6-b050-8ed2e725d6f5"
      },
      "id": "Wx0B8JY0E3x9",
      "execution_count": null,
      "outputs": [
        {
          "output_type": "execute_result",
          "data": {
            "text/plain": [
              "array([ 0.,  1.])"
            ]
          },
          "metadata": {},
          "execution_count": 74
        }
      ]
    },
    {
      "cell_type": "code",
      "source": [
        "# creating df with columns we intested in\n",
        "df_An = df_strip_wXX[['Perceived_Race', 'Sex', 'Arrest_Year', 'StripSearch', 'ItemsFound', 'Arrest_Month', 'ArrestLocDiv']].copy()\n"
      ],
      "metadata": {
        "id": "rDl5exaJEUqe"
      },
      "id": "rDl5exaJEUqe",
      "execution_count": null,
      "outputs": []
    },
    {
      "cell_type": "code",
      "source": [
        "# Checking the content\n",
        "df_An.head(30)"
      ],
      "metadata": {
        "colab": {
          "base_uri": "https://localhost:8080/",
          "height": 1000
        },
        "id": "0bBos01rGu77",
        "outputId": "071ba8df-ac74-4260-8d7a-740d84c5526b"
      },
      "id": "0bBos01rGu77",
      "execution_count": null,
      "outputs": [
        {
          "output_type": "execute_result",
          "data": {
            "text/plain": [
              "     Perceived_Race Sex  Arrest_Year  StripSearch  ItemsFound Arrest_Month  \\\n",
              "12            Black   M         2021            1         0.0     Apr-June   \n",
              "14            Black   M         2020            1         0.0     Apr-June   \n",
              "33            White   M         2021            1         0.0      Jan-Mar   \n",
              "42      South Asian   F         2020            1         0.0    July-Sept   \n",
              "44      South Asian   F         2020            1         0.0      Oct-Dec   \n",
              "56            White   F         2021            1         1.0    July-Sept   \n",
              "58            White   F         2021            1         0.0      Jan-Mar   \n",
              "69      South Asian   M         2020            1         0.0      Jan-Mar   \n",
              "73            White   M         2020            1         0.0      Jan-Mar   \n",
              "84            Black   M         2020            1         0.0      Jan-Mar   \n",
              "85            Black   M         2020            1         0.0     Apr-June   \n",
              "87            Black   M         2020            1         0.0     Apr-June   \n",
              "88            Black   M         2020            1         0.0    July-Sept   \n",
              "89            Black   M         2020            1         1.0    July-Sept   \n",
              "90            Black   M         2020            1         1.0    July-Sept   \n",
              "132           Black   M         2020            1         0.0    July-Sept   \n",
              "137           White   M         2020            1         0.0    July-Sept   \n",
              "138           White   M         2020            1         1.0      Jan-Mar   \n",
              "139           White   M         2020            1         0.0      Jan-Mar   \n",
              "140           White   M         2020            1         0.0     Apr-June   \n",
              "157     South Asian   F         2021            1         0.0    July-Sept   \n",
              "168     South Asian   M         2020            1         0.0    July-Sept   \n",
              "184           Black   M         2020            1         0.0    July-Sept   \n",
              "186           White   M         2020            1         0.0    July-Sept   \n",
              "195           White   M         2020            1         0.0     Apr-June   \n",
              "201           White   M         2020            1         0.0      Jan-Mar   \n",
              "205           White   M         2020            1         0.0     Apr-June   \n",
              "220  Middle-Eastern   M         2020            1         0.0    July-Sept   \n",
              "224           White   F         2020            1         0.0    July-Sept   \n",
              "234           Black   M         2021            1         1.0     Apr-June   \n",
              "\n",
              "    ArrestLocDiv  \n",
              "12            53  \n",
              "14            53  \n",
              "33            53  \n",
              "42            52  \n",
              "44            14  \n",
              "56            22  \n",
              "58            22  \n",
              "69            51  \n",
              "73            54  \n",
              "84            53  \n",
              "85            51  \n",
              "87            51  \n",
              "88            51  \n",
              "89            51  \n",
              "90            52  \n",
              "132           51  \n",
              "137           54  \n",
              "138           52  \n",
              "139           51  \n",
              "140           51  \n",
              "157           51  \n",
              "168           43  \n",
              "184           12  \n",
              "186           33  \n",
              "195           55  \n",
              "201           52  \n",
              "205           41  \n",
              "220           33  \n",
              "224           51  \n",
              "234           43  "
            ],
            "text/html": [
              "\n",
              "  <div id=\"df-5ba2037e-75a6-4a0f-bef7-ad308f317f30\">\n",
              "    <div class=\"colab-df-container\">\n",
              "      <div>\n",
              "<style scoped>\n",
              "    .dataframe tbody tr th:only-of-type {\n",
              "        vertical-align: middle;\n",
              "    }\n",
              "\n",
              "    .dataframe tbody tr th {\n",
              "        vertical-align: top;\n",
              "    }\n",
              "\n",
              "    .dataframe thead th {\n",
              "        text-align: right;\n",
              "    }\n",
              "</style>\n",
              "<table border=\"1\" class=\"dataframe\">\n",
              "  <thead>\n",
              "    <tr style=\"text-align: right;\">\n",
              "      <th></th>\n",
              "      <th>Perceived_Race</th>\n",
              "      <th>Sex</th>\n",
              "      <th>Arrest_Year</th>\n",
              "      <th>StripSearch</th>\n",
              "      <th>ItemsFound</th>\n",
              "      <th>Arrest_Month</th>\n",
              "      <th>ArrestLocDiv</th>\n",
              "    </tr>\n",
              "  </thead>\n",
              "  <tbody>\n",
              "    <tr>\n",
              "      <th>12</th>\n",
              "      <td>Black</td>\n",
              "      <td>M</td>\n",
              "      <td>2021</td>\n",
              "      <td>1</td>\n",
              "      <td>0.0</td>\n",
              "      <td>Apr-June</td>\n",
              "      <td>53</td>\n",
              "    </tr>\n",
              "    <tr>\n",
              "      <th>14</th>\n",
              "      <td>Black</td>\n",
              "      <td>M</td>\n",
              "      <td>2020</td>\n",
              "      <td>1</td>\n",
              "      <td>0.0</td>\n",
              "      <td>Apr-June</td>\n",
              "      <td>53</td>\n",
              "    </tr>\n",
              "    <tr>\n",
              "      <th>33</th>\n",
              "      <td>White</td>\n",
              "      <td>M</td>\n",
              "      <td>2021</td>\n",
              "      <td>1</td>\n",
              "      <td>0.0</td>\n",
              "      <td>Jan-Mar</td>\n",
              "      <td>53</td>\n",
              "    </tr>\n",
              "    <tr>\n",
              "      <th>42</th>\n",
              "      <td>South Asian</td>\n",
              "      <td>F</td>\n",
              "      <td>2020</td>\n",
              "      <td>1</td>\n",
              "      <td>0.0</td>\n",
              "      <td>July-Sept</td>\n",
              "      <td>52</td>\n",
              "    </tr>\n",
              "    <tr>\n",
              "      <th>44</th>\n",
              "      <td>South Asian</td>\n",
              "      <td>F</td>\n",
              "      <td>2020</td>\n",
              "      <td>1</td>\n",
              "      <td>0.0</td>\n",
              "      <td>Oct-Dec</td>\n",
              "      <td>14</td>\n",
              "    </tr>\n",
              "    <tr>\n",
              "      <th>56</th>\n",
              "      <td>White</td>\n",
              "      <td>F</td>\n",
              "      <td>2021</td>\n",
              "      <td>1</td>\n",
              "      <td>1.0</td>\n",
              "      <td>July-Sept</td>\n",
              "      <td>22</td>\n",
              "    </tr>\n",
              "    <tr>\n",
              "      <th>58</th>\n",
              "      <td>White</td>\n",
              "      <td>F</td>\n",
              "      <td>2021</td>\n",
              "      <td>1</td>\n",
              "      <td>0.0</td>\n",
              "      <td>Jan-Mar</td>\n",
              "      <td>22</td>\n",
              "    </tr>\n",
              "    <tr>\n",
              "      <th>69</th>\n",
              "      <td>South Asian</td>\n",
              "      <td>M</td>\n",
              "      <td>2020</td>\n",
              "      <td>1</td>\n",
              "      <td>0.0</td>\n",
              "      <td>Jan-Mar</td>\n",
              "      <td>51</td>\n",
              "    </tr>\n",
              "    <tr>\n",
              "      <th>73</th>\n",
              "      <td>White</td>\n",
              "      <td>M</td>\n",
              "      <td>2020</td>\n",
              "      <td>1</td>\n",
              "      <td>0.0</td>\n",
              "      <td>Jan-Mar</td>\n",
              "      <td>54</td>\n",
              "    </tr>\n",
              "    <tr>\n",
              "      <th>84</th>\n",
              "      <td>Black</td>\n",
              "      <td>M</td>\n",
              "      <td>2020</td>\n",
              "      <td>1</td>\n",
              "      <td>0.0</td>\n",
              "      <td>Jan-Mar</td>\n",
              "      <td>53</td>\n",
              "    </tr>\n",
              "    <tr>\n",
              "      <th>85</th>\n",
              "      <td>Black</td>\n",
              "      <td>M</td>\n",
              "      <td>2020</td>\n",
              "      <td>1</td>\n",
              "      <td>0.0</td>\n",
              "      <td>Apr-June</td>\n",
              "      <td>51</td>\n",
              "    </tr>\n",
              "    <tr>\n",
              "      <th>87</th>\n",
              "      <td>Black</td>\n",
              "      <td>M</td>\n",
              "      <td>2020</td>\n",
              "      <td>1</td>\n",
              "      <td>0.0</td>\n",
              "      <td>Apr-June</td>\n",
              "      <td>51</td>\n",
              "    </tr>\n",
              "    <tr>\n",
              "      <th>88</th>\n",
              "      <td>Black</td>\n",
              "      <td>M</td>\n",
              "      <td>2020</td>\n",
              "      <td>1</td>\n",
              "      <td>0.0</td>\n",
              "      <td>July-Sept</td>\n",
              "      <td>51</td>\n",
              "    </tr>\n",
              "    <tr>\n",
              "      <th>89</th>\n",
              "      <td>Black</td>\n",
              "      <td>M</td>\n",
              "      <td>2020</td>\n",
              "      <td>1</td>\n",
              "      <td>1.0</td>\n",
              "      <td>July-Sept</td>\n",
              "      <td>51</td>\n",
              "    </tr>\n",
              "    <tr>\n",
              "      <th>90</th>\n",
              "      <td>Black</td>\n",
              "      <td>M</td>\n",
              "      <td>2020</td>\n",
              "      <td>1</td>\n",
              "      <td>1.0</td>\n",
              "      <td>July-Sept</td>\n",
              "      <td>52</td>\n",
              "    </tr>\n",
              "    <tr>\n",
              "      <th>132</th>\n",
              "      <td>Black</td>\n",
              "      <td>M</td>\n",
              "      <td>2020</td>\n",
              "      <td>1</td>\n",
              "      <td>0.0</td>\n",
              "      <td>July-Sept</td>\n",
              "      <td>51</td>\n",
              "    </tr>\n",
              "    <tr>\n",
              "      <th>137</th>\n",
              "      <td>White</td>\n",
              "      <td>M</td>\n",
              "      <td>2020</td>\n",
              "      <td>1</td>\n",
              "      <td>0.0</td>\n",
              "      <td>July-Sept</td>\n",
              "      <td>54</td>\n",
              "    </tr>\n",
              "    <tr>\n",
              "      <th>138</th>\n",
              "      <td>White</td>\n",
              "      <td>M</td>\n",
              "      <td>2020</td>\n",
              "      <td>1</td>\n",
              "      <td>1.0</td>\n",
              "      <td>Jan-Mar</td>\n",
              "      <td>52</td>\n",
              "    </tr>\n",
              "    <tr>\n",
              "      <th>139</th>\n",
              "      <td>White</td>\n",
              "      <td>M</td>\n",
              "      <td>2020</td>\n",
              "      <td>1</td>\n",
              "      <td>0.0</td>\n",
              "      <td>Jan-Mar</td>\n",
              "      <td>51</td>\n",
              "    </tr>\n",
              "    <tr>\n",
              "      <th>140</th>\n",
              "      <td>White</td>\n",
              "      <td>M</td>\n",
              "      <td>2020</td>\n",
              "      <td>1</td>\n",
              "      <td>0.0</td>\n",
              "      <td>Apr-June</td>\n",
              "      <td>51</td>\n",
              "    </tr>\n",
              "    <tr>\n",
              "      <th>157</th>\n",
              "      <td>South Asian</td>\n",
              "      <td>F</td>\n",
              "      <td>2021</td>\n",
              "      <td>1</td>\n",
              "      <td>0.0</td>\n",
              "      <td>July-Sept</td>\n",
              "      <td>51</td>\n",
              "    </tr>\n",
              "    <tr>\n",
              "      <th>168</th>\n",
              "      <td>South Asian</td>\n",
              "      <td>M</td>\n",
              "      <td>2020</td>\n",
              "      <td>1</td>\n",
              "      <td>0.0</td>\n",
              "      <td>July-Sept</td>\n",
              "      <td>43</td>\n",
              "    </tr>\n",
              "    <tr>\n",
              "      <th>184</th>\n",
              "      <td>Black</td>\n",
              "      <td>M</td>\n",
              "      <td>2020</td>\n",
              "      <td>1</td>\n",
              "      <td>0.0</td>\n",
              "      <td>July-Sept</td>\n",
              "      <td>12</td>\n",
              "    </tr>\n",
              "    <tr>\n",
              "      <th>186</th>\n",
              "      <td>White</td>\n",
              "      <td>M</td>\n",
              "      <td>2020</td>\n",
              "      <td>1</td>\n",
              "      <td>0.0</td>\n",
              "      <td>July-Sept</td>\n",
              "      <td>33</td>\n",
              "    </tr>\n",
              "    <tr>\n",
              "      <th>195</th>\n",
              "      <td>White</td>\n",
              "      <td>M</td>\n",
              "      <td>2020</td>\n",
              "      <td>1</td>\n",
              "      <td>0.0</td>\n",
              "      <td>Apr-June</td>\n",
              "      <td>55</td>\n",
              "    </tr>\n",
              "    <tr>\n",
              "      <th>201</th>\n",
              "      <td>White</td>\n",
              "      <td>M</td>\n",
              "      <td>2020</td>\n",
              "      <td>1</td>\n",
              "      <td>0.0</td>\n",
              "      <td>Jan-Mar</td>\n",
              "      <td>52</td>\n",
              "    </tr>\n",
              "    <tr>\n",
              "      <th>205</th>\n",
              "      <td>White</td>\n",
              "      <td>M</td>\n",
              "      <td>2020</td>\n",
              "      <td>1</td>\n",
              "      <td>0.0</td>\n",
              "      <td>Apr-June</td>\n",
              "      <td>41</td>\n",
              "    </tr>\n",
              "    <tr>\n",
              "      <th>220</th>\n",
              "      <td>Middle-Eastern</td>\n",
              "      <td>M</td>\n",
              "      <td>2020</td>\n",
              "      <td>1</td>\n",
              "      <td>0.0</td>\n",
              "      <td>July-Sept</td>\n",
              "      <td>33</td>\n",
              "    </tr>\n",
              "    <tr>\n",
              "      <th>224</th>\n",
              "      <td>White</td>\n",
              "      <td>F</td>\n",
              "      <td>2020</td>\n",
              "      <td>1</td>\n",
              "      <td>0.0</td>\n",
              "      <td>July-Sept</td>\n",
              "      <td>51</td>\n",
              "    </tr>\n",
              "    <tr>\n",
              "      <th>234</th>\n",
              "      <td>Black</td>\n",
              "      <td>M</td>\n",
              "      <td>2021</td>\n",
              "      <td>1</td>\n",
              "      <td>1.0</td>\n",
              "      <td>Apr-June</td>\n",
              "      <td>43</td>\n",
              "    </tr>\n",
              "  </tbody>\n",
              "</table>\n",
              "</div>\n",
              "      <button class=\"colab-df-convert\" onclick=\"convertToInteractive('df-5ba2037e-75a6-4a0f-bef7-ad308f317f30')\"\n",
              "              title=\"Convert this dataframe to an interactive table.\"\n",
              "              style=\"display:none;\">\n",
              "        \n",
              "  <svg xmlns=\"http://www.w3.org/2000/svg\" height=\"24px\"viewBox=\"0 0 24 24\"\n",
              "       width=\"24px\">\n",
              "    <path d=\"M0 0h24v24H0V0z\" fill=\"none\"/>\n",
              "    <path d=\"M18.56 5.44l.94 2.06.94-2.06 2.06-.94-2.06-.94-.94-2.06-.94 2.06-2.06.94zm-11 1L8.5 8.5l.94-2.06 2.06-.94-2.06-.94L8.5 2.5l-.94 2.06-2.06.94zm10 10l.94 2.06.94-2.06 2.06-.94-2.06-.94-.94-2.06-.94 2.06-2.06.94z\"/><path d=\"M17.41 7.96l-1.37-1.37c-.4-.4-.92-.59-1.43-.59-.52 0-1.04.2-1.43.59L10.3 9.45l-7.72 7.72c-.78.78-.78 2.05 0 2.83L4 21.41c.39.39.9.59 1.41.59.51 0 1.02-.2 1.41-.59l7.78-7.78 2.81-2.81c.8-.78.8-2.07 0-2.86zM5.41 20L4 18.59l7.72-7.72 1.47 1.35L5.41 20z\"/>\n",
              "  </svg>\n",
              "      </button>\n",
              "      \n",
              "  <style>\n",
              "    .colab-df-container {\n",
              "      display:flex;\n",
              "      flex-wrap:wrap;\n",
              "      gap: 12px;\n",
              "    }\n",
              "\n",
              "    .colab-df-convert {\n",
              "      background-color: #E8F0FE;\n",
              "      border: none;\n",
              "      border-radius: 50%;\n",
              "      cursor: pointer;\n",
              "      display: none;\n",
              "      fill: #1967D2;\n",
              "      height: 32px;\n",
              "      padding: 0 0 0 0;\n",
              "      width: 32px;\n",
              "    }\n",
              "\n",
              "    .colab-df-convert:hover {\n",
              "      background-color: #E2EBFA;\n",
              "      box-shadow: 0px 1px 2px rgba(60, 64, 67, 0.3), 0px 1px 3px 1px rgba(60, 64, 67, 0.15);\n",
              "      fill: #174EA6;\n",
              "    }\n",
              "\n",
              "    [theme=dark] .colab-df-convert {\n",
              "      background-color: #3B4455;\n",
              "      fill: #D2E3FC;\n",
              "    }\n",
              "\n",
              "    [theme=dark] .colab-df-convert:hover {\n",
              "      background-color: #434B5C;\n",
              "      box-shadow: 0px 1px 3px 1px rgba(0, 0, 0, 0.15);\n",
              "      filter: drop-shadow(0px 1px 2px rgba(0, 0, 0, 0.3));\n",
              "      fill: #FFFFFF;\n",
              "    }\n",
              "  </style>\n",
              "\n",
              "      <script>\n",
              "        const buttonEl =\n",
              "          document.querySelector('#df-5ba2037e-75a6-4a0f-bef7-ad308f317f30 button.colab-df-convert');\n",
              "        buttonEl.style.display =\n",
              "          google.colab.kernel.accessAllowed ? 'block' : 'none';\n",
              "\n",
              "        async function convertToInteractive(key) {\n",
              "          const element = document.querySelector('#df-5ba2037e-75a6-4a0f-bef7-ad308f317f30');\n",
              "          const dataTable =\n",
              "            await google.colab.kernel.invokeFunction('convertToInteractive',\n",
              "                                                     [key], {});\n",
              "          if (!dataTable) return;\n",
              "\n",
              "          const docLinkHtml = 'Like what you see? Visit the ' +\n",
              "            '<a target=\"_blank\" href=https://colab.research.google.com/notebooks/data_table.ipynb>data table notebook</a>'\n",
              "            + ' to learn more about interactive tables.';\n",
              "          element.innerHTML = '';\n",
              "          dataTable['output_type'] = 'display_data';\n",
              "          await google.colab.output.renderOutput(dataTable, element);\n",
              "          const docLink = document.createElement('div');\n",
              "          docLink.innerHTML = docLinkHtml;\n",
              "          element.appendChild(docLink);\n",
              "        }\n",
              "      </script>\n",
              "    </div>\n",
              "  </div>\n",
              "  "
            ]
          },
          "metadata": {},
          "execution_count": 76
        }
      ]
    },
    {
      "cell_type": "code",
      "source": [
        "df_An_test = df_strip_wXX[[ 'Sex', 'StripSearch', 'ItemsFound', 'ArrestLocDiv']].copy()\n"
      ],
      "metadata": {
        "id": "rOaOiPjwKEMR"
      },
      "id": "rOaOiPjwKEMR",
      "execution_count": null,
      "outputs": []
    },
    {
      "cell_type": "markdown",
      "source": [
        "### Logistic Regression DF"
      ],
      "metadata": {
        "id": "vaqZKd1jC8dp"
      },
      "id": "vaqZKd1jC8dp"
    },
    {
      "cell_type": "code",
      "source": [
        "df_LR = df_without_XX[['Perceived_Race', 'Sex', 'Youth_at_arrest__under_18_years', 'StripSearch', 'ItemsFound', 'Occurrence_Category', 'ArrestLocDiv']].copy()"
      ],
      "metadata": {
        "id": "lr-8oS3sLu20"
      },
      "id": "lr-8oS3sLu20",
      "execution_count": null,
      "outputs": []
    },
    {
      "cell_type": "code",
      "source": [
        "df_LR['Perceived_Race'].unique()"
      ],
      "metadata": {
        "colab": {
          "base_uri": "https://localhost:8080/"
        },
        "id": "R-UvX9hZPObP",
        "outputId": "1a3ab945-ab60-4478-e819-5723d5a722a4"
      },
      "id": "R-UvX9hZPObP",
      "execution_count": null,
      "outputs": [
        {
          "output_type": "execute_result",
          "data": {
            "text/plain": [
              "array(['White', 'Unknown or Legacy', 'South Asian', 'Black',\n",
              "       'Middle-Eastern', 'Latino', 'East/Southeast Asian', 'Indigenous'],\n",
              "      dtype=object)"
            ]
          },
          "metadata": {},
          "execution_count": 23
        }
      ]
    },
    {
      "cell_type": "code",
      "source": [
        "df_LR['Sex'].unique()"
      ],
      "metadata": {
        "colab": {
          "base_uri": "https://localhost:8080/"
        },
        "id": "8F4VvEvZWpsh",
        "outputId": "94a7f895-aba3-41dd-da58-f34e03b19526"
      },
      "id": "8F4VvEvZWpsh",
      "execution_count": null,
      "outputs": [
        {
          "output_type": "execute_result",
          "data": {
            "text/plain": [
              "array(['M', 'F', 'U'], dtype=object)"
            ]
          },
          "metadata": {},
          "execution_count": 24
        }
      ]
    },
    {
      "cell_type": "code",
      "source": [
        "# drop cases with unknown sex\n",
        "\n",
        "# Using Label Encoding and One-Hot Encoding to convert non-numerical varibables\n",
        "#df_LR['Sex'] = \n",
        "df_LR['Perceived_Race'] = df_LR['Perceived_Race'].astype('category').cat.codes\n",
        "df_LR['Occurrence_Category'] = df_LR['Occurrence_Category'].astype('category').cat.codes\n",
        "df_LR = df_LR[df_LR['Sex'] != \"U\"]\n",
        "df_LR['Sex'] = pd.get_dummies(df_LR.Sex, drop_first=True)"
      ],
      "metadata": {
        "id": "rVYZGIZWN26v",
        "colab": {
          "base_uri": "https://localhost:8080/"
        },
        "outputId": "49feadff-c3d9-44df-ad5d-6312b333ca5e"
      },
      "id": "rVYZGIZWN26v",
      "execution_count": null,
      "outputs": [
        {
          "output_type": "stream",
          "name": "stderr",
          "text": [
            "<ipython-input-81-cfb933c58644>:8: SettingWithCopyWarning: \n",
            "A value is trying to be set on a copy of a slice from a DataFrame.\n",
            "Try using .loc[row_indexer,col_indexer] = value instead\n",
            "\n",
            "See the caveats in the documentation: https://pandas.pydata.org/pandas-docs/stable/user_guide/indexing.html#returning-a-view-versus-a-copy\n",
            "  df_LR['Sex'] = pd.get_dummies(df_LR.Sex, drop_first=True)\n"
          ]
        }
      ]
    },
    {
      "cell_type": "code",
      "source": [
        "df_LR.groupby('Sex').size()"
      ],
      "metadata": {
        "colab": {
          "base_uri": "https://localhost:8080/"
        },
        "id": "lpk-xt_mX348",
        "outputId": "efca7bfd-4fce-441e-a08e-43321f1fec1a"
      },
      "id": "lpk-xt_mX348",
      "execution_count": null,
      "outputs": [
        {
          "output_type": "execute_result",
          "data": {
            "text/plain": [
              "Sex\n",
              "0     6271\n",
              "1    29355\n",
              "dtype: int64"
            ]
          },
          "metadata": {},
          "execution_count": 82
        }
      ]
    },
    {
      "cell_type": "code",
      "source": [
        "df_LR.head(30)\n"
      ],
      "metadata": {
        "colab": {
          "base_uri": "https://localhost:8080/",
          "height": 1000
        },
        "id": "sGxPTOWZOzyU",
        "outputId": "dd74fd83-4e96-4724-fdca-5a1f0ebcdc47"
      },
      "id": "sGxPTOWZOzyU",
      "execution_count": null,
      "outputs": [
        {
          "output_type": "execute_result",
          "data": {
            "text/plain": [
              "    Perceived_Race  Sex  Youth_at_arrest__under_18_years  StripSearch  \\\n",
              "0                7    1                                0            0   \n",
              "1                7    1                                0            0   \n",
              "2                6    1                                0            0   \n",
              "5                5    1                                0            0   \n",
              "6                0    1                                0            0   \n",
              "9                0    1                                0            0   \n",
              "10               0    1                                0            0   \n",
              "12               0    1                                0            1   \n",
              "14               0    1                                0            1   \n",
              "15               6    1                                0            0   \n",
              "16               6    1                                0            0   \n",
              "17               6    1                                0            0   \n",
              "18               6    1                                0            0   \n",
              "20               4    1                                0            0   \n",
              "22               0    1                                0            0   \n",
              "23               7    1                                0            0   \n",
              "24               0    1                                0            0   \n",
              "25               7    1                                0            0   \n",
              "26               7    1                                0            0   \n",
              "30               0    1                                0            0   \n",
              "31               0    1                                0            0   \n",
              "33               7    1                                0            1   \n",
              "34               7    0                                0            0   \n",
              "35               7    1                                0            0   \n",
              "37               7    1                                0            0   \n",
              "39               3    1                                0            0   \n",
              "41               7    0                                0            0   \n",
              "42               5    0                                0            1   \n",
              "44               5    0                                0            1   \n",
              "45               5    0                                0            0   \n",
              "\n",
              "    ItemsFound  Occurrence_Category ArrestLocDiv  \n",
              "0          0.0                    1           54  \n",
              "1          0.0                    1           54  \n",
              "2          0.0                    1           54  \n",
              "5          0.0                    0           42  \n",
              "6          0.0                    0           52  \n",
              "9          0.0                    7           14  \n",
              "10         0.0                    7           51  \n",
              "12         0.0                   24           53  \n",
              "14         0.0                   16           53  \n",
              "15         0.0                   16           53  \n",
              "16         0.0                   29           53  \n",
              "17         0.0                   16           53  \n",
              "18         0.0                   16           52  \n",
              "20         0.0                   20           53  \n",
              "22         0.0                    1           31  \n",
              "23         0.0                    0           42  \n",
              "24         0.0                    6           52  \n",
              "25         0.0                    5           51  \n",
              "26         0.0                    1           11  \n",
              "30         0.0                   17           12  \n",
              "31         0.0                    0           12  \n",
              "33         0.0                   30           53  \n",
              "34         0.0                    0           51  \n",
              "35         0.0                    6           42  \n",
              "37         0.0                   29           13  \n",
              "39         0.0                    9           13  \n",
              "41         0.0                   23           41  \n",
              "42         0.0                    1           52  \n",
              "44         0.0                    6           14  \n",
              "45         0.0                   29           51  "
            ],
            "text/html": [
              "\n",
              "  <div id=\"df-b079a6f7-1d29-4eac-8230-47a9129a7c89\">\n",
              "    <div class=\"colab-df-container\">\n",
              "      <div>\n",
              "<style scoped>\n",
              "    .dataframe tbody tr th:only-of-type {\n",
              "        vertical-align: middle;\n",
              "    }\n",
              "\n",
              "    .dataframe tbody tr th {\n",
              "        vertical-align: top;\n",
              "    }\n",
              "\n",
              "    .dataframe thead th {\n",
              "        text-align: right;\n",
              "    }\n",
              "</style>\n",
              "<table border=\"1\" class=\"dataframe\">\n",
              "  <thead>\n",
              "    <tr style=\"text-align: right;\">\n",
              "      <th></th>\n",
              "      <th>Perceived_Race</th>\n",
              "      <th>Sex</th>\n",
              "      <th>Youth_at_arrest__under_18_years</th>\n",
              "      <th>StripSearch</th>\n",
              "      <th>ItemsFound</th>\n",
              "      <th>Occurrence_Category</th>\n",
              "      <th>ArrestLocDiv</th>\n",
              "    </tr>\n",
              "  </thead>\n",
              "  <tbody>\n",
              "    <tr>\n",
              "      <th>0</th>\n",
              "      <td>7</td>\n",
              "      <td>1</td>\n",
              "      <td>0</td>\n",
              "      <td>0</td>\n",
              "      <td>0.0</td>\n",
              "      <td>1</td>\n",
              "      <td>54</td>\n",
              "    </tr>\n",
              "    <tr>\n",
              "      <th>1</th>\n",
              "      <td>7</td>\n",
              "      <td>1</td>\n",
              "      <td>0</td>\n",
              "      <td>0</td>\n",
              "      <td>0.0</td>\n",
              "      <td>1</td>\n",
              "      <td>54</td>\n",
              "    </tr>\n",
              "    <tr>\n",
              "      <th>2</th>\n",
              "      <td>6</td>\n",
              "      <td>1</td>\n",
              "      <td>0</td>\n",
              "      <td>0</td>\n",
              "      <td>0.0</td>\n",
              "      <td>1</td>\n",
              "      <td>54</td>\n",
              "    </tr>\n",
              "    <tr>\n",
              "      <th>5</th>\n",
              "      <td>5</td>\n",
              "      <td>1</td>\n",
              "      <td>0</td>\n",
              "      <td>0</td>\n",
              "      <td>0.0</td>\n",
              "      <td>0</td>\n",
              "      <td>42</td>\n",
              "    </tr>\n",
              "    <tr>\n",
              "      <th>6</th>\n",
              "      <td>0</td>\n",
              "      <td>1</td>\n",
              "      <td>0</td>\n",
              "      <td>0</td>\n",
              "      <td>0.0</td>\n",
              "      <td>0</td>\n",
              "      <td>52</td>\n",
              "    </tr>\n",
              "    <tr>\n",
              "      <th>9</th>\n",
              "      <td>0</td>\n",
              "      <td>1</td>\n",
              "      <td>0</td>\n",
              "      <td>0</td>\n",
              "      <td>0.0</td>\n",
              "      <td>7</td>\n",
              "      <td>14</td>\n",
              "    </tr>\n",
              "    <tr>\n",
              "      <th>10</th>\n",
              "      <td>0</td>\n",
              "      <td>1</td>\n",
              "      <td>0</td>\n",
              "      <td>0</td>\n",
              "      <td>0.0</td>\n",
              "      <td>7</td>\n",
              "      <td>51</td>\n",
              "    </tr>\n",
              "    <tr>\n",
              "      <th>12</th>\n",
              "      <td>0</td>\n",
              "      <td>1</td>\n",
              "      <td>0</td>\n",
              "      <td>1</td>\n",
              "      <td>0.0</td>\n",
              "      <td>24</td>\n",
              "      <td>53</td>\n",
              "    </tr>\n",
              "    <tr>\n",
              "      <th>14</th>\n",
              "      <td>0</td>\n",
              "      <td>1</td>\n",
              "      <td>0</td>\n",
              "      <td>1</td>\n",
              "      <td>0.0</td>\n",
              "      <td>16</td>\n",
              "      <td>53</td>\n",
              "    </tr>\n",
              "    <tr>\n",
              "      <th>15</th>\n",
              "      <td>6</td>\n",
              "      <td>1</td>\n",
              "      <td>0</td>\n",
              "      <td>0</td>\n",
              "      <td>0.0</td>\n",
              "      <td>16</td>\n",
              "      <td>53</td>\n",
              "    </tr>\n",
              "    <tr>\n",
              "      <th>16</th>\n",
              "      <td>6</td>\n",
              "      <td>1</td>\n",
              "      <td>0</td>\n",
              "      <td>0</td>\n",
              "      <td>0.0</td>\n",
              "      <td>29</td>\n",
              "      <td>53</td>\n",
              "    </tr>\n",
              "    <tr>\n",
              "      <th>17</th>\n",
              "      <td>6</td>\n",
              "      <td>1</td>\n",
              "      <td>0</td>\n",
              "      <td>0</td>\n",
              "      <td>0.0</td>\n",
              "      <td>16</td>\n",
              "      <td>53</td>\n",
              "    </tr>\n",
              "    <tr>\n",
              "      <th>18</th>\n",
              "      <td>6</td>\n",
              "      <td>1</td>\n",
              "      <td>0</td>\n",
              "      <td>0</td>\n",
              "      <td>0.0</td>\n",
              "      <td>16</td>\n",
              "      <td>52</td>\n",
              "    </tr>\n",
              "    <tr>\n",
              "      <th>20</th>\n",
              "      <td>4</td>\n",
              "      <td>1</td>\n",
              "      <td>0</td>\n",
              "      <td>0</td>\n",
              "      <td>0.0</td>\n",
              "      <td>20</td>\n",
              "      <td>53</td>\n",
              "    </tr>\n",
              "    <tr>\n",
              "      <th>22</th>\n",
              "      <td>0</td>\n",
              "      <td>1</td>\n",
              "      <td>0</td>\n",
              "      <td>0</td>\n",
              "      <td>0.0</td>\n",
              "      <td>1</td>\n",
              "      <td>31</td>\n",
              "    </tr>\n",
              "    <tr>\n",
              "      <th>23</th>\n",
              "      <td>7</td>\n",
              "      <td>1</td>\n",
              "      <td>0</td>\n",
              "      <td>0</td>\n",
              "      <td>0.0</td>\n",
              "      <td>0</td>\n",
              "      <td>42</td>\n",
              "    </tr>\n",
              "    <tr>\n",
              "      <th>24</th>\n",
              "      <td>0</td>\n",
              "      <td>1</td>\n",
              "      <td>0</td>\n",
              "      <td>0</td>\n",
              "      <td>0.0</td>\n",
              "      <td>6</td>\n",
              "      <td>52</td>\n",
              "    </tr>\n",
              "    <tr>\n",
              "      <th>25</th>\n",
              "      <td>7</td>\n",
              "      <td>1</td>\n",
              "      <td>0</td>\n",
              "      <td>0</td>\n",
              "      <td>0.0</td>\n",
              "      <td>5</td>\n",
              "      <td>51</td>\n",
              "    </tr>\n",
              "    <tr>\n",
              "      <th>26</th>\n",
              "      <td>7</td>\n",
              "      <td>1</td>\n",
              "      <td>0</td>\n",
              "      <td>0</td>\n",
              "      <td>0.0</td>\n",
              "      <td>1</td>\n",
              "      <td>11</td>\n",
              "    </tr>\n",
              "    <tr>\n",
              "      <th>30</th>\n",
              "      <td>0</td>\n",
              "      <td>1</td>\n",
              "      <td>0</td>\n",
              "      <td>0</td>\n",
              "      <td>0.0</td>\n",
              "      <td>17</td>\n",
              "      <td>12</td>\n",
              "    </tr>\n",
              "    <tr>\n",
              "      <th>31</th>\n",
              "      <td>0</td>\n",
              "      <td>1</td>\n",
              "      <td>0</td>\n",
              "      <td>0</td>\n",
              "      <td>0.0</td>\n",
              "      <td>0</td>\n",
              "      <td>12</td>\n",
              "    </tr>\n",
              "    <tr>\n",
              "      <th>33</th>\n",
              "      <td>7</td>\n",
              "      <td>1</td>\n",
              "      <td>0</td>\n",
              "      <td>1</td>\n",
              "      <td>0.0</td>\n",
              "      <td>30</td>\n",
              "      <td>53</td>\n",
              "    </tr>\n",
              "    <tr>\n",
              "      <th>34</th>\n",
              "      <td>7</td>\n",
              "      <td>0</td>\n",
              "      <td>0</td>\n",
              "      <td>0</td>\n",
              "      <td>0.0</td>\n",
              "      <td>0</td>\n",
              "      <td>51</td>\n",
              "    </tr>\n",
              "    <tr>\n",
              "      <th>35</th>\n",
              "      <td>7</td>\n",
              "      <td>1</td>\n",
              "      <td>0</td>\n",
              "      <td>0</td>\n",
              "      <td>0.0</td>\n",
              "      <td>6</td>\n",
              "      <td>42</td>\n",
              "    </tr>\n",
              "    <tr>\n",
              "      <th>37</th>\n",
              "      <td>7</td>\n",
              "      <td>1</td>\n",
              "      <td>0</td>\n",
              "      <td>0</td>\n",
              "      <td>0.0</td>\n",
              "      <td>29</td>\n",
              "      <td>13</td>\n",
              "    </tr>\n",
              "    <tr>\n",
              "      <th>39</th>\n",
              "      <td>3</td>\n",
              "      <td>1</td>\n",
              "      <td>0</td>\n",
              "      <td>0</td>\n",
              "      <td>0.0</td>\n",
              "      <td>9</td>\n",
              "      <td>13</td>\n",
              "    </tr>\n",
              "    <tr>\n",
              "      <th>41</th>\n",
              "      <td>7</td>\n",
              "      <td>0</td>\n",
              "      <td>0</td>\n",
              "      <td>0</td>\n",
              "      <td>0.0</td>\n",
              "      <td>23</td>\n",
              "      <td>41</td>\n",
              "    </tr>\n",
              "    <tr>\n",
              "      <th>42</th>\n",
              "      <td>5</td>\n",
              "      <td>0</td>\n",
              "      <td>0</td>\n",
              "      <td>1</td>\n",
              "      <td>0.0</td>\n",
              "      <td>1</td>\n",
              "      <td>52</td>\n",
              "    </tr>\n",
              "    <tr>\n",
              "      <th>44</th>\n",
              "      <td>5</td>\n",
              "      <td>0</td>\n",
              "      <td>0</td>\n",
              "      <td>1</td>\n",
              "      <td>0.0</td>\n",
              "      <td>6</td>\n",
              "      <td>14</td>\n",
              "    </tr>\n",
              "    <tr>\n",
              "      <th>45</th>\n",
              "      <td>5</td>\n",
              "      <td>0</td>\n",
              "      <td>0</td>\n",
              "      <td>0</td>\n",
              "      <td>0.0</td>\n",
              "      <td>29</td>\n",
              "      <td>51</td>\n",
              "    </tr>\n",
              "  </tbody>\n",
              "</table>\n",
              "</div>\n",
              "      <button class=\"colab-df-convert\" onclick=\"convertToInteractive('df-b079a6f7-1d29-4eac-8230-47a9129a7c89')\"\n",
              "              title=\"Convert this dataframe to an interactive table.\"\n",
              "              style=\"display:none;\">\n",
              "        \n",
              "  <svg xmlns=\"http://www.w3.org/2000/svg\" height=\"24px\"viewBox=\"0 0 24 24\"\n",
              "       width=\"24px\">\n",
              "    <path d=\"M0 0h24v24H0V0z\" fill=\"none\"/>\n",
              "    <path d=\"M18.56 5.44l.94 2.06.94-2.06 2.06-.94-2.06-.94-.94-2.06-.94 2.06-2.06.94zm-11 1L8.5 8.5l.94-2.06 2.06-.94-2.06-.94L8.5 2.5l-.94 2.06-2.06.94zm10 10l.94 2.06.94-2.06 2.06-.94-2.06-.94-.94-2.06-.94 2.06-2.06.94z\"/><path d=\"M17.41 7.96l-1.37-1.37c-.4-.4-.92-.59-1.43-.59-.52 0-1.04.2-1.43.59L10.3 9.45l-7.72 7.72c-.78.78-.78 2.05 0 2.83L4 21.41c.39.39.9.59 1.41.59.51 0 1.02-.2 1.41-.59l7.78-7.78 2.81-2.81c.8-.78.8-2.07 0-2.86zM5.41 20L4 18.59l7.72-7.72 1.47 1.35L5.41 20z\"/>\n",
              "  </svg>\n",
              "      </button>\n",
              "      \n",
              "  <style>\n",
              "    .colab-df-container {\n",
              "      display:flex;\n",
              "      flex-wrap:wrap;\n",
              "      gap: 12px;\n",
              "    }\n",
              "\n",
              "    .colab-df-convert {\n",
              "      background-color: #E8F0FE;\n",
              "      border: none;\n",
              "      border-radius: 50%;\n",
              "      cursor: pointer;\n",
              "      display: none;\n",
              "      fill: #1967D2;\n",
              "      height: 32px;\n",
              "      padding: 0 0 0 0;\n",
              "      width: 32px;\n",
              "    }\n",
              "\n",
              "    .colab-df-convert:hover {\n",
              "      background-color: #E2EBFA;\n",
              "      box-shadow: 0px 1px 2px rgba(60, 64, 67, 0.3), 0px 1px 3px 1px rgba(60, 64, 67, 0.15);\n",
              "      fill: #174EA6;\n",
              "    }\n",
              "\n",
              "    [theme=dark] .colab-df-convert {\n",
              "      background-color: #3B4455;\n",
              "      fill: #D2E3FC;\n",
              "    }\n",
              "\n",
              "    [theme=dark] .colab-df-convert:hover {\n",
              "      background-color: #434B5C;\n",
              "      box-shadow: 0px 1px 3px 1px rgba(0, 0, 0, 0.15);\n",
              "      filter: drop-shadow(0px 1px 2px rgba(0, 0, 0, 0.3));\n",
              "      fill: #FFFFFF;\n",
              "    }\n",
              "  </style>\n",
              "\n",
              "      <script>\n",
              "        const buttonEl =\n",
              "          document.querySelector('#df-b079a6f7-1d29-4eac-8230-47a9129a7c89 button.colab-df-convert');\n",
              "        buttonEl.style.display =\n",
              "          google.colab.kernel.accessAllowed ? 'block' : 'none';\n",
              "\n",
              "        async function convertToInteractive(key) {\n",
              "          const element = document.querySelector('#df-b079a6f7-1d29-4eac-8230-47a9129a7c89');\n",
              "          const dataTable =\n",
              "            await google.colab.kernel.invokeFunction('convertToInteractive',\n",
              "                                                     [key], {});\n",
              "          if (!dataTable) return;\n",
              "\n",
              "          const docLinkHtml = 'Like what you see? Visit the ' +\n",
              "            '<a target=\"_blank\" href=https://colab.research.google.com/notebooks/data_table.ipynb>data table notebook</a>'\n",
              "            + ' to learn more about interactive tables.';\n",
              "          element.innerHTML = '';\n",
              "          dataTable['output_type'] = 'display_data';\n",
              "          await google.colab.output.renderOutput(dataTable, element);\n",
              "          const docLink = document.createElement('div');\n",
              "          docLink.innerHTML = docLinkHtml;\n",
              "          element.appendChild(docLink);\n",
              "        }\n",
              "      </script>\n",
              "    </div>\n",
              "  </div>\n",
              "  "
            ]
          },
          "metadata": {},
          "execution_count": 83
        }
      ]
    },
    {
      "cell_type": "markdown",
      "source": [
        "## Supplymentary EDA"
      ],
      "metadata": {
        "id": "B5k0oXtgELQR"
      },
      "id": "B5k0oXtgELQR"
    },
    {
      "cell_type": "markdown",
      "source": [
        "## ANCOVA\n"
      ],
      "metadata": {
        "id": "RIhr-SwdBiS5"
      },
      "id": "RIhr-SwdBiS5"
    },
    {
      "cell_type": "markdown",
      "source": [
        "### Power analysis"
      ],
      "metadata": {
        "id": "OSftwzG1Bo0O"
      },
      "id": "OSftwzG1Bo0O"
    },
    {
      "cell_type": "code",
      "source": [
        "pip install penguins"
      ],
      "metadata": {
        "colab": {
          "base_uri": "https://localhost:8080/"
        },
        "id": "Yey0fYZQKITq",
        "outputId": "8589c468-d4fc-4212-a3b8-9872fd6e68ed"
      },
      "id": "Yey0fYZQKITq",
      "execution_count": null,
      "outputs": [
        {
          "output_type": "stream",
          "name": "stdout",
          "text": [
            "Looking in indexes: https://pypi.org/simple, https://us-python.pkg.dev/colab-wheels/public/simple/\n",
            "Collecting penguins\n",
            "  Downloading penguins-0.5.1-py3-none-any.whl (59 kB)\n",
            "\u001b[2K     \u001b[90m━━━━━━━━━━━━━━━━━━━━━━━━━━━━━━━━━━━━━━━━\u001b[0m \u001b[32m59.5/59.5 kB\u001b[0m \u001b[31m2.5 MB/s\u001b[0m eta \u001b[36m0:00:00\u001b[0m\n",
            "\u001b[?25hRequirement already satisfied: matplotlib in /usr/local/lib/python3.9/dist-packages (from penguins) (3.7.1)\n",
            "Requirement already satisfied: numpy>=1.17.0 in /usr/local/lib/python3.9/dist-packages (from penguins) (1.22.4)\n",
            "Requirement already satisfied: seaborn in /usr/local/lib/python3.9/dist-packages (from penguins) (0.12.2)\n",
            "Requirement already satisfied: contourpy>=1.0.1 in /usr/local/lib/python3.9/dist-packages (from matplotlib->penguins) (1.0.7)\n",
            "Requirement already satisfied: kiwisolver>=1.0.1 in /usr/local/lib/python3.9/dist-packages (from matplotlib->penguins) (1.4.4)\n",
            "Requirement already satisfied: cycler>=0.10 in /usr/local/lib/python3.9/dist-packages (from matplotlib->penguins) (0.11.0)\n",
            "Requirement already satisfied: packaging>=20.0 in /usr/local/lib/python3.9/dist-packages (from matplotlib->penguins) (23.0)\n",
            "Requirement already satisfied: importlib-resources>=3.2.0 in /usr/local/lib/python3.9/dist-packages (from matplotlib->penguins) (5.12.0)\n",
            "Requirement already satisfied: python-dateutil>=2.7 in /usr/local/lib/python3.9/dist-packages (from matplotlib->penguins) (2.8.2)\n",
            "Requirement already satisfied: pillow>=6.2.0 in /usr/local/lib/python3.9/dist-packages (from matplotlib->penguins) (8.4.0)\n",
            "Requirement already satisfied: fonttools>=4.22.0 in /usr/local/lib/python3.9/dist-packages (from matplotlib->penguins) (4.39.3)\n",
            "Requirement already satisfied: pyparsing>=2.3.1 in /usr/local/lib/python3.9/dist-packages (from matplotlib->penguins) (3.0.9)\n",
            "Requirement already satisfied: pandas>=0.25 in /usr/local/lib/python3.9/dist-packages (from seaborn->penguins) (1.5.3)\n",
            "Requirement already satisfied: zipp>=3.1.0 in /usr/local/lib/python3.9/dist-packages (from importlib-resources>=3.2.0->matplotlib->penguins) (3.15.0)\n",
            "Requirement already satisfied: pytz>=2020.1 in /usr/local/lib/python3.9/dist-packages (from pandas>=0.25->seaborn->penguins) (2022.7.1)\n",
            "Requirement already satisfied: six>=1.5 in /usr/local/lib/python3.9/dist-packages (from python-dateutil>=2.7->matplotlib->penguins) (1.16.0)\n",
            "Installing collected packages: penguins\n",
            "Successfully installed penguins-0.5.1\n"
          ]
        }
      ]
    },
    {
      "cell_type": "code",
      "source": [
        "pip install pingouin"
      ],
      "metadata": {
        "colab": {
          "base_uri": "https://localhost:8080/"
        },
        "id": "1FKDT0UNKuCw",
        "outputId": "23f324e0-9d19-4e7d-8152-2a77bd472d7c"
      },
      "id": "1FKDT0UNKuCw",
      "execution_count": null,
      "outputs": [
        {
          "output_type": "stream",
          "name": "stdout",
          "text": [
            "Looking in indexes: https://pypi.org/simple, https://us-python.pkg.dev/colab-wheels/public/simple/\n",
            "Collecting pingouin\n",
            "  Downloading pingouin-0.5.3-py3-none-any.whl (198 kB)\n",
            "\u001b[2K     \u001b[90m━━━━━━━━━━━━━━━━━━━━━━━━━━━━━━━━━━━━━━━\u001b[0m \u001b[32m198.6/198.6 kB\u001b[0m \u001b[31m4.2 MB/s\u001b[0m eta \u001b[36m0:00:00\u001b[0m\n",
            "\u001b[?25hCollecting outdated\n",
            "  Downloading outdated-0.2.2-py2.py3-none-any.whl (7.5 kB)\n",
            "Requirement already satisfied: scipy>=1.7 in /usr/local/lib/python3.9/dist-packages (from pingouin) (1.10.1)\n",
            "Requirement already satisfied: pandas>=1.0 in /usr/local/lib/python3.9/dist-packages (from pingouin) (1.5.3)\n",
            "Collecting pandas-flavor>=0.2.0\n",
            "  Downloading pandas_flavor-0.5.0-py3-none-any.whl (7.1 kB)\n",
            "Requirement already satisfied: matplotlib>=3.0.2 in /usr/local/lib/python3.9/dist-packages (from pingouin) (3.7.1)\n",
            "Requirement already satisfied: statsmodels>=0.13 in /usr/local/lib/python3.9/dist-packages (from pingouin) (0.13.5)\n",
            "Requirement already satisfied: seaborn>=0.11 in /usr/local/lib/python3.9/dist-packages (from pingouin) (0.12.2)\n",
            "Requirement already satisfied: numpy>=1.19 in /usr/local/lib/python3.9/dist-packages (from pingouin) (1.22.4)\n",
            "Requirement already satisfied: tabulate in /usr/local/lib/python3.9/dist-packages (from pingouin) (0.8.10)\n",
            "Requirement already satisfied: scikit-learn in /usr/local/lib/python3.9/dist-packages (from pingouin) (1.2.2)\n",
            "Requirement already satisfied: python-dateutil>=2.7 in /usr/local/lib/python3.9/dist-packages (from matplotlib>=3.0.2->pingouin) (2.8.2)\n",
            "Requirement already satisfied: pillow>=6.2.0 in /usr/local/lib/python3.9/dist-packages (from matplotlib>=3.0.2->pingouin) (8.4.0)\n",
            "Requirement already satisfied: importlib-resources>=3.2.0 in /usr/local/lib/python3.9/dist-packages (from matplotlib>=3.0.2->pingouin) (5.12.0)\n",
            "Requirement already satisfied: kiwisolver>=1.0.1 in /usr/local/lib/python3.9/dist-packages (from matplotlib>=3.0.2->pingouin) (1.4.4)\n",
            "Requirement already satisfied: fonttools>=4.22.0 in /usr/local/lib/python3.9/dist-packages (from matplotlib>=3.0.2->pingouin) (4.39.3)\n",
            "Requirement already satisfied: packaging>=20.0 in /usr/local/lib/python3.9/dist-packages (from matplotlib>=3.0.2->pingouin) (23.0)\n",
            "Requirement already satisfied: pyparsing>=2.3.1 in /usr/local/lib/python3.9/dist-packages (from matplotlib>=3.0.2->pingouin) (3.0.9)\n",
            "Requirement already satisfied: contourpy>=1.0.1 in /usr/local/lib/python3.9/dist-packages (from matplotlib>=3.0.2->pingouin) (1.0.7)\n",
            "Requirement already satisfied: cycler>=0.10 in /usr/local/lib/python3.9/dist-packages (from matplotlib>=3.0.2->pingouin) (0.11.0)\n",
            "Requirement already satisfied: pytz>=2020.1 in /usr/local/lib/python3.9/dist-packages (from pandas>=1.0->pingouin) (2022.7.1)\n",
            "Requirement already satisfied: lazy-loader>=0.1 in /usr/local/lib/python3.9/dist-packages (from pandas-flavor>=0.2.0->pingouin) (0.2)\n",
            "Requirement already satisfied: xarray in /usr/local/lib/python3.9/dist-packages (from pandas-flavor>=0.2.0->pingouin) (2022.12.0)\n",
            "Requirement already satisfied: patsy>=0.5.2 in /usr/local/lib/python3.9/dist-packages (from statsmodels>=0.13->pingouin) (0.5.3)\n",
            "Requirement already satisfied: requests in /usr/local/lib/python3.9/dist-packages (from outdated->pingouin) (2.27.1)\n",
            "Collecting littleutils\n",
            "  Downloading littleutils-0.2.2.tar.gz (6.6 kB)\n",
            "  Preparing metadata (setup.py) ... \u001b[?25l\u001b[?25hdone\n",
            "Requirement already satisfied: setuptools>=44 in /usr/local/lib/python3.9/dist-packages (from outdated->pingouin) (67.6.1)\n",
            "Requirement already satisfied: threadpoolctl>=2.0.0 in /usr/local/lib/python3.9/dist-packages (from scikit-learn->pingouin) (3.1.0)\n",
            "Requirement already satisfied: joblib>=1.1.1 in /usr/local/lib/python3.9/dist-packages (from scikit-learn->pingouin) (1.2.0)\n",
            "Requirement already satisfied: zipp>=3.1.0 in /usr/local/lib/python3.9/dist-packages (from importlib-resources>=3.2.0->matplotlib>=3.0.2->pingouin) (3.15.0)\n",
            "Requirement already satisfied: six in /usr/local/lib/python3.9/dist-packages (from patsy>=0.5.2->statsmodels>=0.13->pingouin) (1.16.0)\n",
            "Requirement already satisfied: idna<4,>=2.5 in /usr/local/lib/python3.9/dist-packages (from requests->outdated->pingouin) (3.4)\n",
            "Requirement already satisfied: urllib3<1.27,>=1.21.1 in /usr/local/lib/python3.9/dist-packages (from requests->outdated->pingouin) (1.26.15)\n",
            "Requirement already satisfied: charset-normalizer~=2.0.0 in /usr/local/lib/python3.9/dist-packages (from requests->outdated->pingouin) (2.0.12)\n",
            "Requirement already satisfied: certifi>=2017.4.17 in /usr/local/lib/python3.9/dist-packages (from requests->outdated->pingouin) (2022.12.7)\n",
            "Building wheels for collected packages: littleutils\n",
            "  Building wheel for littleutils (setup.py) ... \u001b[?25l\u001b[?25hdone\n",
            "  Created wheel for littleutils: filename=littleutils-0.2.2-py3-none-any.whl size=7048 sha256=9da3726dd9ca275c140daa72bcad9a3fc8dc217868afd5cc97bea49971e624fc\n",
            "  Stored in directory: /root/.cache/pip/wheels/04/bb/0d/2d02ec45f29c48d6192476bfb59c5a0e64b605e7212374dd15\n",
            "Successfully built littleutils\n",
            "Installing collected packages: littleutils, outdated, pandas-flavor, pingouin\n",
            "Successfully installed littleutils-0.2.2 outdated-0.2.2 pandas-flavor-0.5.0 pingouin-0.5.3\n"
          ]
        }
      ]
    },
    {
      "cell_type": "code",
      "source": [
        "import pingouin as pg"
      ],
      "metadata": {
        "id": "v6kB9J_pJ7tp"
      },
      "id": "v6kB9J_pJ7tp",
      "execution_count": null,
      "outputs": []
    },
    {
      "cell_type": "code",
      "source": [
        "#function to calculate the pooled standard deviation of 2 samples\n",
        "def pooled_standard_deviation(sample1,sample2):\n",
        "    #calculate the sample size\n",
        "    n1, n2 = len(sample1), len(sample2)\n",
        "    #calculate the variances\n",
        "    var1, var2 = np.var(sample1, ddof=1), np.var(sample2, ddof=1)\n",
        "    #calculate the pooled standard deviation\n",
        "    numerator = ((n1-1) * var1) + ((n2-1) * var2)\n",
        "    denominator = n1+n2-2\n",
        "    return np.sqrt(numerator/denominator)\n",
        "\n",
        "# function to calculate Cohen's d for independent samples\n",
        "def Cohens_d(sample1, sample2):\n",
        "    u1, u2 = np.mean(sample1), np.mean(sample2)\n",
        "    s_pooled = pooled_standard_deviation(sample1, sample2)\n",
        "    #print(s_pooled)\n",
        "    return ((u1 - u2) / s_pooled)"
      ],
      "metadata": {
        "id": "aM4-FKDLRvoZ"
      },
      "id": "aM4-FKDLRvoZ",
      "execution_count": null,
      "outputs": []
    },
    {
      "cell_type": "markdown",
      "source": [
        "#### District"
      ],
      "metadata": {
        "id": "DRC6HSEZBzMu"
      },
      "id": "DRC6HSEZBzMu"
    },
    {
      "cell_type": "code",
      "source": [
        "df_An['ArrestLocDiv'].value_counts()"
      ],
      "metadata": {
        "colab": {
          "base_uri": "https://localhost:8080/"
        },
        "id": "Yl4fw9rqPjjs",
        "outputId": "b4ee39e7-7f18-4305-bf26-1098916d3ebd"
      },
      "id": "Yl4fw9rqPjjs",
      "execution_count": null,
      "outputs": [
        {
          "output_type": "execute_result",
          "data": {
            "text/plain": [
              "51    1411\n",
              "14     757\n",
              "43     571\n",
              "52     530\n",
              "41     360\n",
              "31     300\n",
              "53     295\n",
              "12     285\n",
              "55     268\n",
              "42     259\n",
              "54     233\n",
              "11     222\n",
              "32     212\n",
              "22     190\n",
              "23     177\n",
              "13     134\n",
              "33      90\n",
              "Name: ArrestLocDiv, dtype: int64"
            ]
          },
          "metadata": {},
          "execution_count": 88
        }
      ]
    },
    {
      "cell_type": "code",
      "source": [
        "df_An['ArrestLocDiv'].unique()"
      ],
      "metadata": {
        "colab": {
          "base_uri": "https://localhost:8080/"
        },
        "id": "pZJeYItB6zXx",
        "outputId": "ec760442-aa94-4a12-9d9a-3a8a2e3f8aad"
      },
      "id": "pZJeYItB6zXx",
      "execution_count": null,
      "outputs": [
        {
          "output_type": "execute_result",
          "data": {
            "text/plain": [
              "array(['53', '52', '14', '22', '51', '54', '43', '12', '33', '55', '41',\n",
              "       '31', '42', '32', '11', '23', '13'], dtype=object)"
            ]
          },
          "metadata": {},
          "execution_count": 89
        }
      ]
    },
    {
      "cell_type": "code",
      "source": [
        "# group data by category to create continuous variables\n",
        "df_An_group = df_An.groupby(['Arrest_Year',\n",
        "                             'Arrest_Month',\n",
        "                             'ArrestLocDiv','Sex'])['StripSearch', 'ItemsFound'].sum().reset_index()\n",
        "print(df_An_group)"
      ],
      "metadata": {
        "colab": {
          "base_uri": "https://localhost:8080/"
        },
        "id": "xZ_3LWFG8f19",
        "outputId": "b6b45464-0125-4cfd-8b9f-a472d2297b82"
      },
      "id": "xZ_3LWFG8f19",
      "execution_count": null,
      "outputs": [
        {
          "output_type": "stream",
          "name": "stdout",
          "text": [
            "     Arrest_Year Arrest_Month ArrestLocDiv Sex  StripSearch  ItemsFound\n",
            "0           2020     Apr-June           11   F            7         5.0\n",
            "1           2020     Apr-June           11   M           40        18.0\n",
            "2           2020     Apr-June           12   F            5         2.0\n",
            "3           2020     Apr-June           12   M           54        22.0\n",
            "4           2020     Apr-June           13   F            2         1.0\n",
            "..           ...          ...          ...  ..          ...         ...\n",
            "228         2021      Oct-Dec           53   F            3         0.0\n",
            "229         2021      Oct-Dec           53   M           14         1.0\n",
            "230         2021      Oct-Dec           54   M            2         0.0\n",
            "231         2021      Oct-Dec           55   F            1         0.0\n",
            "232         2021      Oct-Dec           55   M            3         0.0\n",
            "\n",
            "[233 rows x 6 columns]\n"
          ]
        },
        {
          "output_type": "stream",
          "name": "stderr",
          "text": [
            "<ipython-input-90-60bbc538c65a>:2: FutureWarning: Indexing with multiple keys (implicitly converted to a tuple of keys) will be deprecated, use a list instead.\n",
            "  df_An_group = df_An.groupby(['Arrest_Year',\n"
          ]
        }
      ]
    },
    {
      "cell_type": "code",
      "source": [
        "df_An_group['ArrestLocDiv'].value_counts()\n",
        "len(df_An_group['ArrestLocDiv'].unique())"
      ],
      "metadata": {
        "colab": {
          "base_uri": "https://localhost:8080/"
        },
        "id": "hdoStv-ZG0jM",
        "outputId": "f306f39b-d7a1-4af6-8ba9-95887e45ac81"
      },
      "id": "hdoStv-ZG0jM",
      "execution_count": null,
      "outputs": [
        {
          "output_type": "execute_result",
          "data": {
            "text/plain": [
              "17"
            ]
          },
          "metadata": {},
          "execution_count": 91
        }
      ]
    },
    {
      "cell_type": "code",
      "source": [
        "# calculate effect size\n",
        "pg.power_anova(n=16, k= 17, power = 0.8, alpha = 0.05)"
      ],
      "metadata": {
        "colab": {
          "base_uri": "https://localhost:8080/"
        },
        "id": "a5sQyh5JIn1x",
        "outputId": "f404ffb2-d67c-4fe1-d8e9-3f725fbe7925"
      },
      "id": "a5sQyh5JIn1x",
      "execution_count": null,
      "outputs": [
        {
          "output_type": "execute_result",
          "data": {
            "text/plain": [
              "0.06934044322433755"
            ]
          },
          "metadata": {},
          "execution_count": 92
        }
      ]
    },
    {
      "cell_type": "code",
      "source": [
        "#calculate the sample size\n",
        "pg.power_anova(eta_squared = 0.07, k=17, power=0.80)"
      ],
      "metadata": {
        "colab": {
          "base_uri": "https://localhost:8080/"
        },
        "id": "Pu93_f_rLOhv",
        "outputId": "2773bff1-f803-4ba0-91e2-005123b0871f"
      },
      "id": "Pu93_f_rLOhv",
      "execution_count": null,
      "outputs": [
        {
          "output_type": "execute_result",
          "data": {
            "text/plain": [
              "15.84613362531817"
            ]
          },
          "metadata": {},
          "execution_count": 93
        }
      ]
    },
    {
      "cell_type": "code",
      "source": [
        "# Define the range of sample sizes\n",
        "sample_sizes = np.arange(5, 50)\n",
        "\n",
        "# Calculate the power for each sample size\n",
        "powers = [pg.power_anova(eta_squared=0.07, k=17, n=n) for n in sample_sizes]\n",
        "\n",
        "# Create the power curve\n",
        "sns.set_style(\"whitegrid\")\n",
        "plt.figure(figsize=(10, 6))\n",
        "plt.plot(sample_sizes, powers, marker='o', linestyle='-', color='blue')\n",
        "plt.axhline(y=0.8, color='red', linestyle='--', label='80% power')\n",
        "plt.axvline(x=16, color='green', linestyle='--', label='Required sample size')\n",
        "plt.xlabel('Sample Size')\n",
        "plt.ylabel('Power')\n",
        "plt.title('Power Curve for divison analysis')\n",
        "plt.legend(loc='best')\n",
        "plt.show()"
      ],
      "metadata": {
        "id": "AyUq2UgPrS0c",
        "colab": {
          "base_uri": "https://localhost:8080/",
          "height": 442
        },
        "outputId": "3adeebc1-b00d-4984-b86c-9befe5ebdbae"
      },
      "id": "AyUq2UgPrS0c",
      "execution_count": null,
      "outputs": [
        {
          "output_type": "display_data",
          "data": {
            "text/plain": [
              "<Figure size 1000x600 with 1 Axes>"
            ],
            "image/png": "[encoded data removed]"
          },
          "metadata": {}
        }
      ]
    },
    {
      "cell_type": "markdown",
      "source": [
        "#### Sex\n"
      ],
      "metadata": {
        "id": "lfkAgKcTB5KQ"
      },
      "id": "lfkAgKcTB5KQ"
    },
    {
      "cell_type": "code",
      "source": [
        "dt_male = df_An_group[df_An_group['Sex'] == 'M']['StripSearch']\n",
        "dt_female = df_An_group[df_An_group['Sex'] == 'F']['StripSearch']"
      ],
      "metadata": {
        "id": "S0ErOd_pPj8y"
      },
      "id": "S0ErOd_pPj8y",
      "execution_count": null,
      "outputs": []
    },
    {
      "cell_type": "code",
      "source": [
        "dt_female"
      ],
      "metadata": {
        "colab": {
          "base_uri": "https://localhost:8080/"
        },
        "id": "9vijP009M0qB",
        "outputId": "546efc76-81cd-4763-8d53-192d5819f1bc"
      },
      "id": "9vijP009M0qB",
      "execution_count": null,
      "outputs": [
        {
          "output_type": "execute_result",
          "data": {
            "text/plain": [
              "0       7\n",
              "2       5\n",
              "4       2\n",
              "6      29\n",
              "8       1\n",
              "       ..\n",
              "222     1\n",
              "224     6\n",
              "226     2\n",
              "228     3\n",
              "231     1\n",
              "Name: StripSearch, Length: 103, dtype: int64"
            ]
          },
          "metadata": {},
          "execution_count": 96
        }
      ]
    },
    {
      "cell_type": "code",
      "source": [
        "#conduct power analysis \n",
        "from statsmodels.stats.power import TTestIndPower\n",
        "effect_size = Cohens_d(dt_male,dt_female)\n",
        "alpha = 0.05\n",
        "power = 0.8\n",
        "ratio_ =len(dt_male)/len(dt_female) #NB: ratio = nobs2/nobs1\n",
        "print('Effect size (Cohen\\'s D) for strip search:',effect_size)"
      ],
      "metadata": {
        "colab": {
          "base_uri": "https://localhost:8080/"
        },
        "id": "ibWI7HY7MXsd",
        "outputId": "b45b0c9b-e0ad-436e-dff8-352b5c22480a"
      },
      "id": "ibWI7HY7MXsd",
      "execution_count": null,
      "outputs": [
        {
          "output_type": "stream",
          "name": "stdout",
          "text": [
            "Effect size (Cohen's D) for strip search: 0.655443203369\n"
          ]
        }
      ]
    },
    {
      "cell_type": "code",
      "source": [
        "#https://www.statsmodels.org/dev/generated/statsmodels.stats.power.TTestIndPower.solve_power.html\n",
        "analysis = TTestIndPower()\n",
        "sample_size = analysis.solve_power(effect_size, power=power, nobs1=None, ratio=ratio_, alpha=alpha)\n",
        "print('Sample Size of nobs1: %.3f' % sample_size, 'needed for dt_male') \n",
        "print('Actual size of dt_male:', len(dt_male))\n",
        "nobs2 =ratio_*sample_size\n",
        "print('Sample Size of nobs2: %.3f' % nobs2, 'needed for dt_female')\n",
        "\n",
        "print('Actual size of dt_female:', len(dt_female))"
      ],
      "metadata": {
        "colab": {
          "base_uri": "https://localhost:8080/"
        },
        "id": "MjzuVbTnNElZ",
        "outputId": "2fa80044-356f-4ef0-dbae-e5fee8b2b924"
      },
      "id": "MjzuVbTnNElZ",
      "execution_count": null,
      "outputs": [
        {
          "output_type": "stream",
          "name": "stdout",
          "text": [
            "Sample Size of nobs1: 33.616 needed for dt_male\n",
            "Actual size of dt_male: 130\n",
            "Sample Size of nobs2: 42.428 needed for dt_female\n",
            "Actual size of dt_female: 103\n"
          ]
        }
      ]
    },
    {
      "cell_type": "code",
      "source": [
        "import numpy as np\n",
        "import matplotlib.pyplot as plt\n",
        "from statsmodels.stats.power import TTestIndPower\n",
        "\n",
        "effect_size_male = 0.655443203369\n",
        "effect_size_female = 0.655443203369 / ratio_\n",
        "alpha = 0.05\n",
        "power = 0.8\n",
        "\n",
        "analysis = TTestIndPower()\n",
        "\n",
        "# Create an array of sample sizes to use for the x-axis of the power curve\n",
        "sample_sizes = np.arange(10, 150, 1)\n",
        "\n",
        "# Create the power curve\n",
        "fig, ax = plt.subplots()\n",
        "analysis.plot_power(dep_var='nobs', nobs=sample_sizes, effect_size=[effect_size_male, effect_size_female], alpha=alpha, ax=ax)\n",
        "\n",
        "# Set labels for lines\n",
        "ax.get_lines()[0].set_label('Male')\n",
        "ax.get_lines()[1].set_label('Female')\n",
        "\n",
        "plt.xlabel('Sample Size')\n",
        "plt.ylabel('Power')\n",
        "plt.title('Power Curve for sex analysis')\n",
        "plt.legend()\n",
        "plt.show()"
      ],
      "metadata": {
        "colab": {
          "base_uri": "https://localhost:8080/",
          "height": 461
        },
        "id": "6F1L7OdTA5pH",
        "outputId": "9c87ac58-ba3f-4343-a98b-c9d6257ce6d9"
      },
      "id": "6F1L7OdTA5pH",
      "execution_count": null,
      "outputs": [
        {
          "output_type": "display_data",
          "data": {
            "text/plain": [
              "<Figure size 1100x700 with 1 Axes>"
            ],
            "image/png": "[encoded data removed]"
          },
          "metadata": {}
        }
      ]
    },
    {
      "cell_type": "markdown",
      "source": [
        "### Ancova\n"
      ],
      "metadata": {
        "id": "kZ-OkbNfCDvs"
      },
      "id": "kZ-OkbNfCDvs"
    },
    {
      "cell_type": "code",
      "source": [
        "from pingouin import ancova\n",
        "pd.options.display.max_columns = None #show all columns in data"
      ],
      "metadata": {
        "id": "au6k0vyBPkqP"
      },
      "id": "au6k0vyBPkqP",
      "execution_count": null,
      "outputs": []
    },
    {
      "cell_type": "code",
      "source": [
        "df_An_group['ArrestLocDiv'].unique()"
      ],
      "metadata": {
        "colab": {
          "base_uri": "https://localhost:8080/"
        },
        "id": "X9bBJmUJOBLR",
        "outputId": "890790fb-219d-4813-fec5-3f12040f19ef"
      },
      "id": "X9bBJmUJOBLR",
      "execution_count": null,
      "outputs": [
        {
          "output_type": "execute_result",
          "data": {
            "text/plain": [
              "array(['11', '12', '13', '14', '22', '23', '31', '32', '33', '41', '42',\n",
              "       '43', '51', '52', '53', '54', '55'], dtype=object)"
            ]
          },
          "metadata": {},
          "execution_count": 101
        }
      ]
    },
    {
      "cell_type": "code",
      "source": [
        "df_An_group['Sex'].unique()"
      ],
      "metadata": {
        "colab": {
          "base_uri": "https://localhost:8080/"
        },
        "id": "IeDd8J11pGni",
        "outputId": "03947b50-4e64-4841-b1f6-ee5c7b946d01"
      },
      "id": "IeDd8J11pGni",
      "execution_count": null,
      "outputs": [
        {
          "output_type": "execute_result",
          "data": {
            "text/plain": [
              "array(['F', 'M'], dtype=object)"
            ]
          },
          "metadata": {},
          "execution_count": 102
        }
      ]
    },
    {
      "cell_type": "code",
      "source": [
        "df_An_group['StripSearch'].unique()"
      ],
      "metadata": {
        "colab": {
          "base_uri": "https://localhost:8080/"
        },
        "id": "QMhTlcREOoPe",
        "outputId": "a6379fef-e2fd-483c-a93f-bb9d29a62b0e"
      },
      "id": "QMhTlcREOoPe",
      "execution_count": null,
      "outputs": [
        {
          "output_type": "execute_result",
          "data": {
            "text/plain": [
              "array([  7,  40,   5,  54,   2,  23,  29, 183,   1,  30,   6,  28,  73,\n",
              "         3,  41,  16,  12,  74,  11,  60, 103,  46, 270,   9,  77,  32,\n",
              "        48,  10,  65,  19,  76,  14,  84,   8,  42,  36, 156,  64,  53,\n",
              "        87,  71,  27,  34,  96,  44,  98, 336,  39, 199,  58,  26,  68,\n",
              "        89,  17,  94, 141,  13,  66,  33,  80,  61,  25,  95,  79, 124,\n",
              "        83, 371,  24, 110,  82,  63,  15,  43,   4,  72,  21,  56,  37])"
            ]
          },
          "metadata": {},
          "execution_count": 103
        }
      ]
    },
    {
      "cell_type": "code",
      "source": [
        "df_An_group['ItemsFound'].unique()"
      ],
      "metadata": {
        "colab": {
          "base_uri": "https://localhost:8080/"
        },
        "id": "ueS4PoppPA3K",
        "outputId": "83e4037e-85d8-4127-9367-062861bfc44b"
      },
      "id": "ueS4PoppPA3K",
      "execution_count": null,
      "outputs": [
        {
          "output_type": "execute_result",
          "data": {
            "text/plain": [
              "array([   5.,   18.,    2.,   22.,    1.,   12.,   20.,   62.,   14.,\n",
              "          7.,    0.,   29.,    6.,    9.,   32.,  164.,    3.,   26.,\n",
              "          4.,   17.,   34.,   44.,   60.,   28.,   19.,   10.,   36.,\n",
              "         15.,   39.,   38.,   43.,   58.,  182.,   90.,    8.,   33.,\n",
              "         13.,   16.,   11.,   48.,  196.,   41.,   24.,   21.])"
            ]
          },
          "metadata": {},
          "execution_count": 104
        }
      ]
    },
    {
      "cell_type": "code",
      "source": [
        "#isolate columns of interest into a new df\n",
        "df_1way = df_An_group[['ArrestLocDiv', 'StripSearch','ItemsFound']].copy()\n",
        "df_1way.head()"
      ],
      "metadata": {
        "colab": {
          "base_uri": "https://localhost:8080/",
          "height": 206
        },
        "id": "WiOCUxfQPW5E",
        "outputId": "49943dad-7892-40d7-a874-98c88e5e775f"
      },
      "id": "WiOCUxfQPW5E",
      "execution_count": null,
      "outputs": [
        {
          "output_type": "execute_result",
          "data": {
            "text/plain": [
              "  ArrestLocDiv  StripSearch  ItemsFound\n",
              "0           11            7         5.0\n",
              "1           11           40        18.0\n",
              "2           12            5         2.0\n",
              "3           12           54        22.0\n",
              "4           13            2         1.0"
            ],
            "text/html": [
              "\n",
              "  <div id=\"df-f5ec1757-f888-422a-a0f5-f4a17f4984c9\">\n",
              "    <div class=\"colab-df-container\">\n",
              "      <div>\n",
              "<style scoped>\n",
              "    .dataframe tbody tr th:only-of-type {\n",
              "        vertical-align: middle;\n",
              "    }\n",
              "\n",
              "    .dataframe tbody tr th {\n",
              "        vertical-align: top;\n",
              "    }\n",
              "\n",
              "    .dataframe thead th {\n",
              "        text-align: right;\n",
              "    }\n",
              "</style>\n",
              "<table border=\"1\" class=\"dataframe\">\n",
              "  <thead>\n",
              "    <tr style=\"text-align: right;\">\n",
              "      <th></th>\n",
              "      <th>ArrestLocDiv</th>\n",
              "      <th>StripSearch</th>\n",
              "      <th>ItemsFound</th>\n",
              "    </tr>\n",
              "  </thead>\n",
              "  <tbody>\n",
              "    <tr>\n",
              "      <th>0</th>\n",
              "      <td>11</td>\n",
              "      <td>7</td>\n",
              "      <td>5.0</td>\n",
              "    </tr>\n",
              "    <tr>\n",
              "      <th>1</th>\n",
              "      <td>11</td>\n",
              "      <td>40</td>\n",
              "      <td>18.0</td>\n",
              "    </tr>\n",
              "    <tr>\n",
              "      <th>2</th>\n",
              "      <td>12</td>\n",
              "      <td>5</td>\n",
              "      <td>2.0</td>\n",
              "    </tr>\n",
              "    <tr>\n",
              "      <th>3</th>\n",
              "      <td>12</td>\n",
              "      <td>54</td>\n",
              "      <td>22.0</td>\n",
              "    </tr>\n",
              "    <tr>\n",
              "      <th>4</th>\n",
              "      <td>13</td>\n",
              "      <td>2</td>\n",
              "      <td>1.0</td>\n",
              "    </tr>\n",
              "  </tbody>\n",
              "</table>\n",
              "</div>\n",
              "      <button class=\"colab-df-convert\" onclick=\"convertToInteractive('df-f5ec1757-f888-422a-a0f5-f4a17f4984c9')\"\n",
              "              title=\"Convert this dataframe to an interactive table.\"\n",
              "              style=\"display:none;\">\n",
              "        \n",
              "  <svg xmlns=\"http://www.w3.org/2000/svg\" height=\"24px\"viewBox=\"0 0 24 24\"\n",
              "       width=\"24px\">\n",
              "    <path d=\"M0 0h24v24H0V0z\" fill=\"none\"/>\n",
              "    <path d=\"M18.56 5.44l.94 2.06.94-2.06 2.06-.94-2.06-.94-.94-2.06-.94 2.06-2.06.94zm-11 1L8.5 8.5l.94-2.06 2.06-.94-2.06-.94L8.5 2.5l-.94 2.06-2.06.94zm10 10l.94 2.06.94-2.06 2.06-.94-2.06-.94-.94-2.06-.94 2.06-2.06.94z\"/><path d=\"M17.41 7.96l-1.37-1.37c-.4-.4-.92-.59-1.43-.59-.52 0-1.04.2-1.43.59L10.3 9.45l-7.72 7.72c-.78.78-.78 2.05 0 2.83L4 21.41c.39.39.9.59 1.41.59.51 0 1.02-.2 1.41-.59l7.78-7.78 2.81-2.81c.8-.78.8-2.07 0-2.86zM5.41 20L4 18.59l7.72-7.72 1.47 1.35L5.41 20z\"/>\n",
              "  </svg>\n",
              "      </button>\n",
              "      \n",
              "  <style>\n",
              "    .colab-df-container {\n",
              "      display:flex;\n",
              "      flex-wrap:wrap;\n",
              "      gap: 12px;\n",
              "    }\n",
              "\n",
              "    .colab-df-convert {\n",
              "      background-color: #E8F0FE;\n",
              "      border: none;\n",
              "      border-radius: 50%;\n",
              "      cursor: pointer;\n",
              "      display: none;\n",
              "      fill: #1967D2;\n",
              "      height: 32px;\n",
              "      padding: 0 0 0 0;\n",
              "      width: 32px;\n",
              "    }\n",
              "\n",
              "    .colab-df-convert:hover {\n",
              "      background-color: #E2EBFA;\n",
              "      box-shadow: 0px 1px 2px rgba(60, 64, 67, 0.3), 0px 1px 3px 1px rgba(60, 64, 67, 0.15);\n",
              "      fill: #174EA6;\n",
              "    }\n",
              "\n",
              "    [theme=dark] .colab-df-convert {\n",
              "      background-color: #3B4455;\n",
              "      fill: #D2E3FC;\n",
              "    }\n",
              "\n",
              "    [theme=dark] .colab-df-convert:hover {\n",
              "      background-color: #434B5C;\n",
              "      box-shadow: 0px 1px 3px 1px rgba(0, 0, 0, 0.15);\n",
              "      filter: drop-shadow(0px 1px 2px rgba(0, 0, 0, 0.3));\n",
              "      fill: #FFFFFF;\n",
              "    }\n",
              "  </style>\n",
              "\n",
              "      <script>\n",
              "        const buttonEl =\n",
              "          document.querySelector('#df-f5ec1757-f888-422a-a0f5-f4a17f4984c9 button.colab-df-convert');\n",
              "        buttonEl.style.display =\n",
              "          google.colab.kernel.accessAllowed ? 'block' : 'none';\n",
              "\n",
              "        async function convertToInteractive(key) {\n",
              "          const element = document.querySelector('#df-f5ec1757-f888-422a-a0f5-f4a17f4984c9');\n",
              "          const dataTable =\n",
              "            await google.colab.kernel.invokeFunction('convertToInteractive',\n",
              "                                                     [key], {});\n",
              "          if (!dataTable) return;\n",
              "\n",
              "          const docLinkHtml = 'Like what you see? Visit the ' +\n",
              "            '<a target=\"_blank\" href=https://colab.research.google.com/notebooks/data_table.ipynb>data table notebook</a>'\n",
              "            + ' to learn more about interactive tables.';\n",
              "          element.innerHTML = '';\n",
              "          dataTable['output_type'] = 'display_data';\n",
              "          await google.colab.output.renderOutput(dataTable, element);\n",
              "          const docLink = document.createElement('div');\n",
              "          docLink.innerHTML = docLinkHtml;\n",
              "          element.appendChild(docLink);\n",
              "        }\n",
              "      </script>\n",
              "    </div>\n",
              "  </div>\n",
              "  "
            ]
          },
          "metadata": {},
          "execution_count": 105
        }
      ]
    },
    {
      "cell_type": "code",
      "source": [
        "#inspect the data is stored correctly in the df\n",
        "df_1way.info()"
      ],
      "metadata": {
        "colab": {
          "base_uri": "https://localhost:8080/"
        },
        "id": "Jn2AvgbCPytY",
        "outputId": "8432e91c-9fc4-4f91-cfe5-2d3cba53f5b2"
      },
      "id": "Jn2AvgbCPytY",
      "execution_count": null,
      "outputs": [
        {
          "output_type": "stream",
          "name": "stdout",
          "text": [
            "<class 'pandas.core.frame.DataFrame'>\n",
            "RangeIndex: 233 entries, 0 to 232\n",
            "Data columns (total 3 columns):\n",
            " #   Column        Non-Null Count  Dtype  \n",
            "---  ------        --------------  -----  \n",
            " 0   ArrestLocDiv  233 non-null    object \n",
            " 1   StripSearch   233 non-null    int64  \n",
            " 2   ItemsFound    233 non-null    float64\n",
            "dtypes: float64(1), int64(1), object(1)\n",
            "memory usage: 5.6+ KB\n"
          ]
        }
      ]
    },
    {
      "cell_type": "code",
      "source": [
        "#what is the conditional proability of predicitng y = p(x_1|x_2)\n",
        "ancova(data=df_1way, dv='StripSearch', covar='ItemsFound', between='ArrestLocDiv')"
      ],
      "metadata": {
        "colab": {
          "base_uri": "https://localhost:8080/",
          "height": 143
        },
        "id": "6jfBoyAuQNSW",
        "outputId": "fe6c49dc-3d2b-47a4-b14d-ac18fcbc4b45"
      },
      "id": "6jfBoyAuQNSW",
      "execution_count": null,
      "outputs": [
        {
          "output_type": "execute_result",
          "data": {
            "text/plain": [
              "         Source             SS   DF            F          p-unc       np2\n",
              "0  ArrestLocDiv    5871.131162   16     2.449179   2.000351e-03  0.154166\n",
              "1    ItemsFound  434023.464652    1  2896.889149  9.719754e-127  0.930910\n",
              "2      Residual   32212.155907  215          NaN            NaN       NaN"
            ],
            "text/html": [
              "\n",
              "  <div id=\"df-9f72c976-9431-4932-a03e-fa816cf0634d\">\n",
              "    <div class=\"colab-df-container\">\n",
              "      <div>\n",
              "<style scoped>\n",
              "    .dataframe tbody tr th:only-of-type {\n",
              "        vertical-align: middle;\n",
              "    }\n",
              "\n",
              "    .dataframe tbody tr th {\n",
              "        vertical-align: top;\n",
              "    }\n",
              "\n",
              "    .dataframe thead th {\n",
              "        text-align: right;\n",
              "    }\n",
              "</style>\n",
              "<table border=\"1\" class=\"dataframe\">\n",
              "  <thead>\n",
              "    <tr style=\"text-align: right;\">\n",
              "      <th></th>\n",
              "      <th>Source</th>\n",
              "      <th>SS</th>\n",
              "      <th>DF</th>\n",
              "      <th>F</th>\n",
              "      <th>p-unc</th>\n",
              "      <th>np2</th>\n",
              "    </tr>\n",
              "  </thead>\n",
              "  <tbody>\n",
              "    <tr>\n",
              "      <th>0</th>\n",
              "      <td>ArrestLocDiv</td>\n",
              "      <td>5871.131162</td>\n",
              "      <td>16</td>\n",
              "      <td>2.449179</td>\n",
              "      <td>2.000351e-03</td>\n",
              "      <td>0.154166</td>\n",
              "    </tr>\n",
              "    <tr>\n",
              "      <th>1</th>\n",
              "      <td>ItemsFound</td>\n",
              "      <td>434023.464652</td>\n",
              "      <td>1</td>\n",
              "      <td>2896.889149</td>\n",
              "      <td>9.719754e-127</td>\n",
              "      <td>0.930910</td>\n",
              "    </tr>\n",
              "    <tr>\n",
              "      <th>2</th>\n",
              "      <td>Residual</td>\n",
              "      <td>32212.155907</td>\n",
              "      <td>215</td>\n",
              "      <td>NaN</td>\n",
              "      <td>NaN</td>\n",
              "      <td>NaN</td>\n",
              "    </tr>\n",
              "  </tbody>\n",
              "</table>\n",
              "</div>\n",
              "      <button class=\"colab-df-convert\" onclick=\"convertToInteractive('df-9f72c976-9431-4932-a03e-fa816cf0634d')\"\n",
              "              title=\"Convert this dataframe to an interactive table.\"\n",
              "              style=\"display:none;\">\n",
              "        \n",
              "  <svg xmlns=\"http://www.w3.org/2000/svg\" height=\"24px\"viewBox=\"0 0 24 24\"\n",
              "       width=\"24px\">\n",
              "    <path d=\"M0 0h24v24H0V0z\" fill=\"none\"/>\n",
              "    <path d=\"M18.56 5.44l.94 2.06.94-2.06 2.06-.94-2.06-.94-.94-2.06-.94 2.06-2.06.94zm-11 1L8.5 8.5l.94-2.06 2.06-.94-2.06-.94L8.5 2.5l-.94 2.06-2.06.94zm10 10l.94 2.06.94-2.06 2.06-.94-2.06-.94-.94-2.06-.94 2.06-2.06.94z\"/><path d=\"M17.41 7.96l-1.37-1.37c-.4-.4-.92-.59-1.43-.59-.52 0-1.04.2-1.43.59L10.3 9.45l-7.72 7.72c-.78.78-.78 2.05 0 2.83L4 21.41c.39.39.9.59 1.41.59.51 0 1.02-.2 1.41-.59l7.78-7.78 2.81-2.81c.8-.78.8-2.07 0-2.86zM5.41 20L4 18.59l7.72-7.72 1.47 1.35L5.41 20z\"/>\n",
              "  </svg>\n",
              "      </button>\n",
              "      \n",
              "  <style>\n",
              "    .colab-df-container {\n",
              "      display:flex;\n",
              "      flex-wrap:wrap;\n",
              "      gap: 12px;\n",
              "    }\n",
              "\n",
              "    .colab-df-convert {\n",
              "      background-color: #E8F0FE;\n",
              "      border: none;\n",
              "      border-radius: 50%;\n",
              "      cursor: pointer;\n",
              "      display: none;\n",
              "      fill: #1967D2;\n",
              "      height: 32px;\n",
              "      padding: 0 0 0 0;\n",
              "      width: 32px;\n",
              "    }\n",
              "\n",
              "    .colab-df-convert:hover {\n",
              "      background-color: #E2EBFA;\n",
              "      box-shadow: 0px 1px 2px rgba(60, 64, 67, 0.3), 0px 1px 3px 1px rgba(60, 64, 67, 0.15);\n",
              "      fill: #174EA6;\n",
              "    }\n",
              "\n",
              "    [theme=dark] .colab-df-convert {\n",
              "      background-color: #3B4455;\n",
              "      fill: #D2E3FC;\n",
              "    }\n",
              "\n",
              "    [theme=dark] .colab-df-convert:hover {\n",
              "      background-color: #434B5C;\n",
              "      box-shadow: 0px 1px 3px 1px rgba(0, 0, 0, 0.15);\n",
              "      filter: drop-shadow(0px 1px 2px rgba(0, 0, 0, 0.3));\n",
              "      fill: #FFFFFF;\n",
              "    }\n",
              "  </style>\n",
              "\n",
              "      <script>\n",
              "        const buttonEl =\n",
              "          document.querySelector('#df-9f72c976-9431-4932-a03e-fa816cf0634d button.colab-df-convert');\n",
              "        buttonEl.style.display =\n",
              "          google.colab.kernel.accessAllowed ? 'block' : 'none';\n",
              "\n",
              "        async function convertToInteractive(key) {\n",
              "          const element = document.querySelector('#df-9f72c976-9431-4932-a03e-fa816cf0634d');\n",
              "          const dataTable =\n",
              "            await google.colab.kernel.invokeFunction('convertToInteractive',\n",
              "                                                     [key], {});\n",
              "          if (!dataTable) return;\n",
              "\n",
              "          const docLinkHtml = 'Like what you see? Visit the ' +\n",
              "            '<a target=\"_blank\" href=https://colab.research.google.com/notebooks/data_table.ipynb>data table notebook</a>'\n",
              "            + ' to learn more about interactive tables.';\n",
              "          element.innerHTML = '';\n",
              "          dataTable['output_type'] = 'display_data';\n",
              "          await google.colab.output.renderOutput(dataTable, element);\n",
              "          const docLink = document.createElement('div');\n",
              "          docLink.innerHTML = docLinkHtml;\n",
              "          element.appendChild(docLink);\n",
              "        }\n",
              "      </script>\n",
              "    </div>\n",
              "  </div>\n",
              "  "
            ]
          },
          "metadata": {},
          "execution_count": 107
        }
      ]
    },
    {
      "cell_type": "code",
      "source": [
        "#isolate columns of interest into a new df\n",
        "df_1way_sex = df_An_group[['Sex', 'StripSearch','ItemsFound']].copy()\n",
        "df_1way_sex.head()"
      ],
      "metadata": {
        "colab": {
          "base_uri": "https://localhost:8080/",
          "height": 206
        },
        "id": "q_8mY7DtpOVH",
        "outputId": "d3db5459-7f5e-4301-96cb-dd1a0c47b407"
      },
      "id": "q_8mY7DtpOVH",
      "execution_count": null,
      "outputs": [
        {
          "output_type": "execute_result",
          "data": {
            "text/plain": [
              "  Sex  StripSearch  ItemsFound\n",
              "0   F            7         5.0\n",
              "1   M           40        18.0\n",
              "2   F            5         2.0\n",
              "3   M           54        22.0\n",
              "4   F            2         1.0"
            ],
            "text/html": [
              "\n",
              "  <div id=\"df-6b5e224b-35ad-4b14-adc8-12447b2067af\">\n",
              "    <div class=\"colab-df-container\">\n",
              "      <div>\n",
              "<style scoped>\n",
              "    .dataframe tbody tr th:only-of-type {\n",
              "        vertical-align: middle;\n",
              "    }\n",
              "\n",
              "    .dataframe tbody tr th {\n",
              "        vertical-align: top;\n",
              "    }\n",
              "\n",
              "    .dataframe thead th {\n",
              "        text-align: right;\n",
              "    }\n",
              "</style>\n",
              "<table border=\"1\" class=\"dataframe\">\n",
              "  <thead>\n",
              "    <tr style=\"text-align: right;\">\n",
              "      <th></th>\n",
              "      <th>Sex</th>\n",
              "      <th>StripSearch</th>\n",
              "      <th>ItemsFound</th>\n",
              "    </tr>\n",
              "  </thead>\n",
              "  <tbody>\n",
              "    <tr>\n",
              "      <th>0</th>\n",
              "      <td>F</td>\n",
              "      <td>7</td>\n",
              "      <td>5.0</td>\n",
              "    </tr>\n",
              "    <tr>\n",
              "      <th>1</th>\n",
              "      <td>M</td>\n",
              "      <td>40</td>\n",
              "      <td>18.0</td>\n",
              "    </tr>\n",
              "    <tr>\n",
              "      <th>2</th>\n",
              "      <td>F</td>\n",
              "      <td>5</td>\n",
              "      <td>2.0</td>\n",
              "    </tr>\n",
              "    <tr>\n",
              "      <th>3</th>\n",
              "      <td>M</td>\n",
              "      <td>54</td>\n",
              "      <td>22.0</td>\n",
              "    </tr>\n",
              "    <tr>\n",
              "      <th>4</th>\n",
              "      <td>F</td>\n",
              "      <td>2</td>\n",
              "      <td>1.0</td>\n",
              "    </tr>\n",
              "  </tbody>\n",
              "</table>\n",
              "</div>\n",
              "      <button class=\"colab-df-convert\" onclick=\"convertToInteractive('df-6b5e224b-35ad-4b14-adc8-12447b2067af')\"\n",
              "              title=\"Convert this dataframe to an interactive table.\"\n",
              "              style=\"display:none;\">\n",
              "        \n",
              "  <svg xmlns=\"http://www.w3.org/2000/svg\" height=\"24px\"viewBox=\"0 0 24 24\"\n",
              "       width=\"24px\">\n",
              "    <path d=\"M0 0h24v24H0V0z\" fill=\"none\"/>\n",
              "    <path d=\"M18.56 5.44l.94 2.06.94-2.06 2.06-.94-2.06-.94-.94-2.06-.94 2.06-2.06.94zm-11 1L8.5 8.5l.94-2.06 2.06-.94-2.06-.94L8.5 2.5l-.94 2.06-2.06.94zm10 10l.94 2.06.94-2.06 2.06-.94-2.06-.94-.94-2.06-.94 2.06-2.06.94z\"/><path d=\"M17.41 7.96l-1.37-1.37c-.4-.4-.92-.59-1.43-.59-.52 0-1.04.2-1.43.59L10.3 9.45l-7.72 7.72c-.78.78-.78 2.05 0 2.83L4 21.41c.39.39.9.59 1.41.59.51 0 1.02-.2 1.41-.59l7.78-7.78 2.81-2.81c.8-.78.8-2.07 0-2.86zM5.41 20L4 18.59l7.72-7.72 1.47 1.35L5.41 20z\"/>\n",
              "  </svg>\n",
              "      </button>\n",
              "      \n",
              "  <style>\n",
              "    .colab-df-container {\n",
              "      display:flex;\n",
              "      flex-wrap:wrap;\n",
              "      gap: 12px;\n",
              "    }\n",
              "\n",
              "    .colab-df-convert {\n",
              "      background-color: #E8F0FE;\n",
              "      border: none;\n",
              "      border-radius: 50%;\n",
              "      cursor: pointer;\n",
              "      display: none;\n",
              "      fill: #1967D2;\n",
              "      height: 32px;\n",
              "      padding: 0 0 0 0;\n",
              "      width: 32px;\n",
              "    }\n",
              "\n",
              "    .colab-df-convert:hover {\n",
              "      background-color: #E2EBFA;\n",
              "      box-shadow: 0px 1px 2px rgba(60, 64, 67, 0.3), 0px 1px 3px 1px rgba(60, 64, 67, 0.15);\n",
              "      fill: #174EA6;\n",
              "    }\n",
              "\n",
              "    [theme=dark] .colab-df-convert {\n",
              "      background-color: #3B4455;\n",
              "      fill: #D2E3FC;\n",
              "    }\n",
              "\n",
              "    [theme=dark] .colab-df-convert:hover {\n",
              "      background-color: #434B5C;\n",
              "      box-shadow: 0px 1px 3px 1px rgba(0, 0, 0, 0.15);\n",
              "      filter: drop-shadow(0px 1px 2px rgba(0, 0, 0, 0.3));\n",
              "      fill: #FFFFFF;\n",
              "    }\n",
              "  </style>\n",
              "\n",
              "      <script>\n",
              "        const buttonEl =\n",
              "          document.querySelector('#df-6b5e224b-35ad-4b14-adc8-12447b2067af button.colab-df-convert');\n",
              "        buttonEl.style.display =\n",
              "          google.colab.kernel.accessAllowed ? 'block' : 'none';\n",
              "\n",
              "        async function convertToInteractive(key) {\n",
              "          const element = document.querySelector('#df-6b5e224b-35ad-4b14-adc8-12447b2067af');\n",
              "          const dataTable =\n",
              "            await google.colab.kernel.invokeFunction('convertToInteractive',\n",
              "                                                     [key], {});\n",
              "          if (!dataTable) return;\n",
              "\n",
              "          const docLinkHtml = 'Like what you see? Visit the ' +\n",
              "            '<a target=\"_blank\" href=https://colab.research.google.com/notebooks/data_table.ipynb>data table notebook</a>'\n",
              "            + ' to learn more about interactive tables.';\n",
              "          element.innerHTML = '';\n",
              "          dataTable['output_type'] = 'display_data';\n",
              "          await google.colab.output.renderOutput(dataTable, element);\n",
              "          const docLink = document.createElement('div');\n",
              "          docLink.innerHTML = docLinkHtml;\n",
              "          element.appendChild(docLink);\n",
              "        }\n",
              "      </script>\n",
              "    </div>\n",
              "  </div>\n",
              "  "
            ]
          },
          "metadata": {},
          "execution_count": 108
        }
      ]
    },
    {
      "cell_type": "code",
      "source": [
        "df_1way_sex.info()"
      ],
      "metadata": {
        "colab": {
          "base_uri": "https://localhost:8080/"
        },
        "id": "xY6Fg_e3paNJ",
        "outputId": "a32b7ff4-71be-4ca8-efda-5b2a1bb28d31"
      },
      "id": "xY6Fg_e3paNJ",
      "execution_count": null,
      "outputs": [
        {
          "output_type": "stream",
          "name": "stdout",
          "text": [
            "<class 'pandas.core.frame.DataFrame'>\n",
            "RangeIndex: 233 entries, 0 to 232\n",
            "Data columns (total 3 columns):\n",
            " #   Column       Non-Null Count  Dtype  \n",
            "---  ------       --------------  -----  \n",
            " 0   Sex          233 non-null    object \n",
            " 1   StripSearch  233 non-null    int64  \n",
            " 2   ItemsFound   233 non-null    float64\n",
            "dtypes: float64(1), int64(1), object(1)\n",
            "memory usage: 5.6+ KB\n"
          ]
        }
      ]
    },
    {
      "cell_type": "code",
      "source": [
        "#what is the conditional proability of predicitng y = p(x_1|x_2)\n",
        "ancova(data=df_1way_sex, dv='StripSearch', covar='ItemsFound', between='Sex')"
      ],
      "metadata": {
        "colab": {
          "base_uri": "https://localhost:8080/",
          "height": 143
        },
        "id": "LDQ69PbJpjny",
        "outputId": "45f99662-c767-4de4-ae6b-be7306dca196"
      },
      "id": "LDQ69PbJpjny",
      "execution_count": null,
      "outputs": [
        {
          "output_type": "execute_result",
          "data": {
            "text/plain": [
              "       Source            SS   DF            F          p-unc       np2\n",
              "0         Sex    4705.82812    1    32.427288   3.757714e-08  0.123567\n",
              "1  ItemsFound  468852.81648    1  3230.807592  2.131562e-137  0.933542\n",
              "2    Residual   33377.45895  230          NaN            NaN       NaN"
            ],
            "text/html": [
              "\n",
              "  <div id=\"df-fabce664-7c53-446a-b9ac-e543332f27d8\">\n",
              "    <div class=\"colab-df-container\">\n",
              "      <div>\n",
              "<style scoped>\n",
              "    .dataframe tbody tr th:only-of-type {\n",
              "        vertical-align: middle;\n",
              "    }\n",
              "\n",
              "    .dataframe tbody tr th {\n",
              "        vertical-align: top;\n",
              "    }\n",
              "\n",
              "    .dataframe thead th {\n",
              "        text-align: right;\n",
              "    }\n",
              "</style>\n",
              "<table border=\"1\" class=\"dataframe\">\n",
              "  <thead>\n",
              "    <tr style=\"text-align: right;\">\n",
              "      <th></th>\n",
              "      <th>Source</th>\n",
              "      <th>SS</th>\n",
              "      <th>DF</th>\n",
              "      <th>F</th>\n",
              "      <th>p-unc</th>\n",
              "      <th>np2</th>\n",
              "    </tr>\n",
              "  </thead>\n",
              "  <tbody>\n",
              "    <tr>\n",
              "      <th>0</th>\n",
              "      <td>Sex</td>\n",
              "      <td>4705.82812</td>\n",
              "      <td>1</td>\n",
              "      <td>32.427288</td>\n",
              "      <td>3.757714e-08</td>\n",
              "      <td>0.123567</td>\n",
              "    </tr>\n",
              "    <tr>\n",
              "      <th>1</th>\n",
              "      <td>ItemsFound</td>\n",
              "      <td>468852.81648</td>\n",
              "      <td>1</td>\n",
              "      <td>3230.807592</td>\n",
              "      <td>2.131562e-137</td>\n",
              "      <td>0.933542</td>\n",
              "    </tr>\n",
              "    <tr>\n",
              "      <th>2</th>\n",
              "      <td>Residual</td>\n",
              "      <td>33377.45895</td>\n",
              "      <td>230</td>\n",
              "      <td>NaN</td>\n",
              "      <td>NaN</td>\n",
              "      <td>NaN</td>\n",
              "    </tr>\n",
              "  </tbody>\n",
              "</table>\n",
              "</div>\n",
              "      <button class=\"colab-df-convert\" onclick=\"convertToInteractive('df-fabce664-7c53-446a-b9ac-e543332f27d8')\"\n",
              "              title=\"Convert this dataframe to an interactive table.\"\n",
              "              style=\"display:none;\">\n",
              "        \n",
              "  <svg xmlns=\"http://www.w3.org/2000/svg\" height=\"24px\"viewBox=\"0 0 24 24\"\n",
              "       width=\"24px\">\n",
              "    <path d=\"M0 0h24v24H0V0z\" fill=\"none\"/>\n",
              "    <path d=\"M18.56 5.44l.94 2.06.94-2.06 2.06-.94-2.06-.94-.94-2.06-.94 2.06-2.06.94zm-11 1L8.5 8.5l.94-2.06 2.06-.94-2.06-.94L8.5 2.5l-.94 2.06-2.06.94zm10 10l.94 2.06.94-2.06 2.06-.94-2.06-.94-.94-2.06-.94 2.06-2.06.94z\"/><path d=\"M17.41 7.96l-1.37-1.37c-.4-.4-.92-.59-1.43-.59-.52 0-1.04.2-1.43.59L10.3 9.45l-7.72 7.72c-.78.78-.78 2.05 0 2.83L4 21.41c.39.39.9.59 1.41.59.51 0 1.02-.2 1.41-.59l7.78-7.78 2.81-2.81c.8-.78.8-2.07 0-2.86zM5.41 20L4 18.59l7.72-7.72 1.47 1.35L5.41 20z\"/>\n",
              "  </svg>\n",
              "      </button>\n",
              "      \n",
              "  <style>\n",
              "    .colab-df-container {\n",
              "      display:flex;\n",
              "      flex-wrap:wrap;\n",
              "      gap: 12px;\n",
              "    }\n",
              "\n",
              "    .colab-df-convert {\n",
              "      background-color: #E8F0FE;\n",
              "      border: none;\n",
              "      border-radius: 50%;\n",
              "      cursor: pointer;\n",
              "      display: none;\n",
              "      fill: #1967D2;\n",
              "      height: 32px;\n",
              "      padding: 0 0 0 0;\n",
              "      width: 32px;\n",
              "    }\n",
              "\n",
              "    .colab-df-convert:hover {\n",
              "      background-color: #E2EBFA;\n",
              "      box-shadow: 0px 1px 2px rgba(60, 64, 67, 0.3), 0px 1px 3px 1px rgba(60, 64, 67, 0.15);\n",
              "      fill: #174EA6;\n",
              "    }\n",
              "\n",
              "    [theme=dark] .colab-df-convert {\n",
              "      background-color: #3B4455;\n",
              "      fill: #D2E3FC;\n",
              "    }\n",
              "\n",
              "    [theme=dark] .colab-df-convert:hover {\n",
              "      background-color: #434B5C;\n",
              "      box-shadow: 0px 1px 3px 1px rgba(0, 0, 0, 0.15);\n",
              "      filter: drop-shadow(0px 1px 2px rgba(0, 0, 0, 0.3));\n",
              "      fill: #FFFFFF;\n",
              "    }\n",
              "  </style>\n",
              "\n",
              "      <script>\n",
              "        const buttonEl =\n",
              "          document.querySelector('#df-fabce664-7c53-446a-b9ac-e543332f27d8 button.colab-df-convert');\n",
              "        buttonEl.style.display =\n",
              "          google.colab.kernel.accessAllowed ? 'block' : 'none';\n",
              "\n",
              "        async function convertToInteractive(key) {\n",
              "          const element = document.querySelector('#df-fabce664-7c53-446a-b9ac-e543332f27d8');\n",
              "          const dataTable =\n",
              "            await google.colab.kernel.invokeFunction('convertToInteractive',\n",
              "                                                     [key], {});\n",
              "          if (!dataTable) return;\n",
              "\n",
              "          const docLinkHtml = 'Like what you see? Visit the ' +\n",
              "            '<a target=\"_blank\" href=https://colab.research.google.com/notebooks/data_table.ipynb>data table notebook</a>'\n",
              "            + ' to learn more about interactive tables.';\n",
              "          element.innerHTML = '';\n",
              "          dataTable['output_type'] = 'display_data';\n",
              "          await google.colab.output.renderOutput(dataTable, element);\n",
              "          const docLink = document.createElement('div');\n",
              "          docLink.innerHTML = docLinkHtml;\n",
              "          element.appendChild(docLink);\n",
              "        }\n",
              "      </script>\n",
              "    </div>\n",
              "  </div>\n",
              "  "
            ]
          },
          "metadata": {},
          "execution_count": 110
        }
      ]
    },
    {
      "cell_type": "code",
      "source": [],
      "metadata": {
        "id": "TssjVTIPAw90"
      },
      "id": "TssjVTIPAw90",
      "execution_count": null,
      "outputs": []
    },
    {
      "cell_type": "markdown",
      "source": [
        "## Logistic Regression"
      ],
      "metadata": {
        "id": "AoL6iAVNCNBz"
      },
      "id": "AoL6iAVNCNBz"
    },
    {
      "cell_type": "code",
      "source": [
        "from scipy.stats import chi2_contingency"
      ],
      "metadata": {
        "id": "gpfDUGSUT8Bj"
      },
      "id": "gpfDUGSUT8Bj",
      "execution_count": null,
      "outputs": []
    },
    {
      "cell_type": "code",
      "source": [
        "def perform_chi_square_test(dataframe, target, feature):\n",
        "    contingency_table = pd.crosstab(dataframe[target], dataframe[feature])\n",
        "    chi2, p, dof, expected = chi2_contingency(contingency_table)\n",
        "    \n",
        "    print(f\"\\n{target} vs {feature}:\")\n",
        "    print(f\"Chi2 statistic: {chi2}\")\n",
        "    print(f\"p-value: {p}\")\n",
        "    print(f\"Degrees of freedom: {dof}\")\n",
        "    print(\"Expected Table:\")\n",
        "    print(expected)"
      ],
      "metadata": {
        "id": "Xh32TuG8T9Y0"
      },
      "id": "Xh32TuG8T9Y0",
      "execution_count": null,
      "outputs": []
    },
    {
      "cell_type": "markdown",
      "source": [
        "### Chi-Square Tests"
      ],
      "metadata": {
        "id": "2pLjX38XCTu9"
      },
      "id": "2pLjX38XCTu9"
    },
    {
      "cell_type": "code",
      "source": [
        "# Target variable\n",
        "target_variable = 'StripSearch'\n",
        "\n",
        "# Categorical variables to compare\n",
        "variables = ['Perceived_Race', 'Sex', 'Youth_at_arrest__under_18_years', 'ItemsFound', 'Occurrence_Category', 'ArrestLocDiv']\n",
        "\n",
        "# Loop through the variables and perform the Chi-Square test\n",
        "for var in variables:\n",
        "    perform_chi_square_test(df_LR, target_variable, var)"
      ],
      "metadata": {
        "colab": {
          "base_uri": "https://localhost:8080/"
        },
        "id": "aRPZESWKSGAU",
        "outputId": "92e7306b-aa80-4372-d818-bde0ade74944"
      },
      "id": "aRPZESWKSGAU",
      "execution_count": null,
      "outputs": [
        {
          "output_type": "stream",
          "name": "stdout",
          "text": [
            "\n",
            "StripSearch vs Perceived_Race:\n",
            "Chi2 statistic: 311.2645244079143\n",
            "p-value: 2.3737087002413072e-63\n",
            "Degrees of freedom: 7\n",
            "Expected Table:\n",
            "[[  8239.07606804   1906.8352327     860.38118228    820.03794981\n",
            "    1443.29972492   1564.32942233   2407.42064784  12090.61977208]\n",
            " [  1767.92393196    409.1647673     184.61881772    175.96205019\n",
            "     309.70027508    335.67057767    516.57935216   2594.38022792]]\n",
            "\n",
            "StripSearch vs Sex:\n",
            "Chi2 statistic: 8.813561757569964\n",
            "p-value: 0.002989997980069536\n",
            "Degrees of freedom: 1\n",
            "Expected Table:\n",
            "[[  5163.11042497  24168.88957503]\n",
            " [  1107.88957503   5186.11042497]]\n",
            "\n",
            "StripSearch vs Youth_at_arrest__under_18_years:\n",
            "Chi2 statistic: 8.09340800025503\n",
            "p-value: 0.004442654449187489\n",
            "Degrees of freedom: 1\n",
            "Expected Table:\n",
            "[[ 28129.11300735   1202.88699265]\n",
            " [  6035.88699265    258.11300735]]\n",
            "\n",
            "StripSearch vs ItemsFound:\n",
            "Chi2 statistic: 12018.734221110504\n",
            "p-value: 0.0\n",
            "Degrees of freedom: 1\n",
            "Expected Table:\n",
            "[[ 27351.06495256   1980.93504744]\n",
            " [  5868.93504744    425.06495256]]\n",
            "\n",
            "StripSearch vs Occurrence_Category:\n",
            "Chi2 statistic: 7064.86557753908\n",
            "p-value: 0.0\n",
            "Degrees of freedom: 31\n",
            "Expected Table:\n",
            "[[ 3898.47358671  4032.67658452   480.82546455   426.4856004\n",
            "     48.57654522  1535.51282771  2205.70448549  2343.2008084\n",
            "    214.06613148   716.29820917   733.58816595    45.28322012\n",
            "    795.33801156   271.69932072    22.22994442   496.46875877\n",
            "    731.11817212   912.2510526    102.91640936   583.74187391\n",
            "   1651.60253747    72.45315219  1318.97670241  1103.26390838\n",
            "    480.82546455   489.0587773     20.58328187   137.49632291\n",
            "    728.6481783   1770.98557233   498.11542132   463.53550778]\n",
            " [  836.52641329   865.32341548   103.17453545    91.5143996\n",
            "     10.42345478   329.48717229   473.29551451   502.7991916\n",
            "     45.93386852   153.70179083   157.41183405     9.71677988\n",
            "    170.66198844    58.30067928     4.77005558   106.53124123\n",
            "    156.88182788   195.7489474     22.08359064   125.25812609\n",
            "    354.39746253    15.54684781   283.02329759   236.73609162\n",
            "    103.17453545   104.9412227      4.41671813    29.50367709\n",
            "    156.3518217    380.01442767   106.88457868    99.46449222]]\n",
            "\n",
            "StripSearch vs ArrestLocDiv:\n",
            "Chi2 statistic: 961.9975950580357\n",
            "p-value: 1.5268877358612985e-194\n",
            "Degrees of freedom: 16\n",
            "Expected Table:\n",
            "[[ 1472.93965082  1565.97608488   906.48773368  2566.3235839\n",
            "   1522.33952731  1430.9497558   1865.66866895  1719.11570202\n",
            "    786.28136754  2173.59456577  1519.86953349  2146.42463369\n",
            "   4135.59299388  1926.59518329  1132.90383428  1183.12704205\n",
            "   1277.81013866]\n",
            " [  316.06034918   336.02391512   194.51226632   550.6764161\n",
            "    326.66047269   307.0502442    400.33133105   368.88429798\n",
            "    168.71863246   466.40543423   326.13046651   460.57536631\n",
            "    887.40700612   413.40481671   243.09616572   253.87295795\n",
            "    274.18986134]]\n"
          ]
        }
      ]
    },
    {
      "cell_type": "code",
      "source": [],
      "metadata": {
        "id": "yqvmB2n4RLyx"
      },
      "id": "yqvmB2n4RLyx",
      "execution_count": null,
      "outputs": []
    },
    {
      "cell_type": "markdown",
      "source": [
        "### Regressioning"
      ],
      "metadata": {
        "id": "7iqSDw1WCb9k"
      },
      "id": "7iqSDw1WCb9k"
    },
    {
      "cell_type": "code",
      "source": [
        "from sklearn.model_selection import train_test_split\n",
        "from statsmodels.stats.outliers_influence import variance_inflation_factor\n"
      ],
      "metadata": {
        "id": "IgI17H7vbkfF"
      },
      "id": "IgI17H7vbkfF",
      "execution_count": null,
      "outputs": []
    },
    {
      "cell_type": "code",
      "source": [],
      "metadata": {
        "id": "_dlkovzBeV80"
      },
      "id": "_dlkovzBeV80",
      "execution_count": null,
      "outputs": []
    },
    {
      "cell_type": "markdown",
      "source": [
        "#### Load and Split Data "
      ],
      "metadata": {
        "id": "PF5M_oopCgTd"
      },
      "id": "PF5M_oopCgTd"
    },
    {
      "cell_type": "code",
      "source": [
        "#I select some random numerical features. Note, you will want to one hot encode non-numerical features \n",
        "#x = df_LR[['Perceived_Race', 'Sex', 'Youth_at_arrest__under_18_years', 'ItemsFound', 'Occurrence_Category', 'ArrestLocDiv']].copy()\n",
        "x = df_LR[[ 'Perceived_Race','Sex','Youth_at_arrest__under_18_years', 'Occurrence_Category',  'ArrestLocDiv']].copy()\n",
        "x['ArrestLocDiv'] = x['ArrestLocDiv'].astype(int)\n",
        "# Select the response column \n",
        "y = df_LR['StripSearch']\n",
        "print(y)"
      ],
      "metadata": {
        "id": "24RYzhPrSHxf",
        "colab": {
          "base_uri": "https://localhost:8080/"
        },
        "outputId": "34b32ecf-a7b7-4c5a-efd0-12649563d1d3"
      },
      "id": "24RYzhPrSHxf",
      "execution_count": null,
      "outputs": [
        {
          "output_type": "stream",
          "name": "stdout",
          "text": [
            "0        0\n",
            "1        0\n",
            "2        0\n",
            "5        0\n",
            "6        0\n",
            "        ..\n",
            "65262    0\n",
            "65263    0\n",
            "65265    0\n",
            "65268    0\n",
            "65272    0\n",
            "Name: StripSearch, Length: 35630, dtype: int64\n"
          ]
        }
      ]
    },
    {
      "cell_type": "code",
      "source": [
        "x.info()"
      ],
      "metadata": {
        "colab": {
          "base_uri": "https://localhost:8080/"
        },
        "id": "zBU-jW6paeNg",
        "outputId": "c20fba7e-32bd-4cee-ee29-05952c599355"
      },
      "id": "zBU-jW6paeNg",
      "execution_count": null,
      "outputs": [
        {
          "output_type": "stream",
          "name": "stdout",
          "text": [
            "<class 'pandas.core.frame.DataFrame'>\n",
            "Int64Index: 35626 entries, 0 to 65272\n",
            "Data columns (total 5 columns):\n",
            " #   Column                           Non-Null Count  Dtype\n",
            "---  ------                           --------------  -----\n",
            " 0   Perceived_Race                   35626 non-null  int8 \n",
            " 1   Sex                              35626 non-null  uint8\n",
            " 2   Youth_at_arrest__under_18_years  35626 non-null  int64\n",
            " 3   Occurrence_Category              35626 non-null  int8 \n",
            " 4   ArrestLocDiv                     35626 non-null  int64\n",
            "dtypes: int64(2), int8(2), uint8(1)\n",
            "memory usage: 939.4 KB\n"
          ]
        }
      ]
    },
    {
      "cell_type": "code",
      "source": [
        "y.unique()"
      ],
      "metadata": {
        "colab": {
          "base_uri": "https://localhost:8080/"
        },
        "id": "zccnzR8BbZfK",
        "outputId": "3daadddf-d1f0-4c9c-e96e-a1953fabccaf"
      },
      "id": "zccnzR8BbZfK",
      "execution_count": null,
      "outputs": [
        {
          "output_type": "execute_result",
          "data": {
            "text/plain": [
              "array([0, 1])"
            ]
          },
          "metadata": {},
          "execution_count": 117
        }
      ]
    },
    {
      "cell_type": "code",
      "source": [
        "# Split these data into training and testing datasets\n",
        "#set random seed for replicability \n",
        "#you may want to consider stratifying your train test split (creates splits by preserving the same percentage for each target class as in the complete set.)\n",
        "x_train, x_test, y_train, y_test = train_test_split(x,y, test_size = 0.2, random_state=123)"
      ],
      "metadata": {
        "id": "Ytu45IDBbedM"
      },
      "id": "Ytu45IDBbedM",
      "execution_count": null,
      "outputs": []
    },
    {
      "cell_type": "markdown",
      "source": [
        "#### Regression"
      ],
      "metadata": {
        "id": "TRhMTUPfCnHT"
      },
      "id": "TRhMTUPfCnHT"
    },
    {
      "cell_type": "code",
      "source": [
        "y_train"
      ],
      "metadata": {
        "colab": {
          "base_uri": "https://localhost:8080/"
        },
        "id": "A7mYtGkFBhQc",
        "outputId": "63128c0b-2182-46a5-93a7-799baacbdd0d"
      },
      "id": "A7mYtGkFBhQc",
      "execution_count": null,
      "outputs": [
        {
          "output_type": "execute_result",
          "data": {
            "text/plain": [
              "11303    0\n",
              "38937    0\n",
              "55915    1\n",
              "22512    0\n",
              "6454     0\n",
              "        ..\n",
              "13615    0\n",
              "27070    0\n",
              "31191    0\n",
              "49827    0\n",
              "27637    1\n",
              "Name: StripSearch, Length: 28500, dtype: int64"
            ]
          },
          "metadata": {},
          "execution_count": 119
        }
      ]
    },
    {
      "cell_type": "code",
      "source": [
        "#building the model with statsmodels\n",
        "import statsmodels.formula.api as smf\n",
        "from sklearn.preprocessing import StandardScaler\n",
        "# Create the formula string \n",
        "all_columns = ' + '.join(x)\n",
        "formula = \"StripSearch ~ \" + all_columns \n",
        "print(\"Formula: \", formula, \"\\n\")\n",
        "\n",
        "# Put the training predictors and responses into one DataFrame to be input into the model\n",
        "trainingdata = pd.concat([x_train,y_train], axis = 1)\n",
        "#scale the data set\n",
        "#scaler = StandardScaler()\n",
        "#trainingdata_scaled = scaler.fit_transform(trainingdata)\n",
        "# Build the model\n",
        "log_reg_1 = smf.logit(formula, data=trainingdata).fit()"
      ],
      "metadata": {
        "colab": {
          "base_uri": "https://localhost:8080/"
        },
        "id": "qGDfECMlbtQ8",
        "outputId": "668f3aad-3988-4f49-9054-907b3c15bccb"
      },
      "id": "qGDfECMlbtQ8",
      "execution_count": null,
      "outputs": [
        {
          "output_type": "stream",
          "name": "stdout",
          "text": [
            "Formula:  StripSearch ~ Perceived_Race + Sex + Youth_at_arrest__under_18_years + Occurrence_Category + ArrestLocDiv \n",
            "\n",
            "Warning: Maximum number of iterations has been exceeded.\n",
            "         Current function value: 0.355221\n",
            "         Iterations: 35\n"
          ]
        },
        {
          "output_type": "stream",
          "name": "stderr",
          "text": [
            "/usr/local/lib/python3.9/dist-packages/statsmodels/base/model.py:604: ConvergenceWarning: Maximum Likelihood optimization failed to converge. Check mle_retvals\n",
            "  warnings.warn(\"Maximum Likelihood optimization failed to \"\n"
          ]
        }
      ]
    },
    {
      "cell_type": "code",
      "source": [
        " # Calculate VIF for each feature to check multicollinearity\n",
        "vif = pd.DataFrame()\n",
        "vif[\"VIF Factor\"] = [variance_inflation_factor(trainingdata.values, i) for i in range(trainingdata.shape[1])]\n",
        "vif[\"Features\"] = trainingdata.columns\n",
        "\n",
        "print(vif)"
      ],
      "metadata": {
        "colab": {
          "base_uri": "https://localhost:8080/",
          "height": 384
        },
        "id": "_wrCoXLAcXIC",
        "outputId": "30e50146-f6e6-46a4-dece-c3ceca7b4d80"
      },
      "id": "_wrCoXLAcXIC",
      "execution_count": null,
      "outputs": [
        {
          "output_type": "error",
          "ename": "TypeError",
          "evalue": "ignored",
          "traceback": [
            "\u001b[0;31m---------------------------------------------------------------------------\u001b[0m",
            "\u001b[0;31mTypeError\u001b[0m                                 Traceback (most recent call last)",
            "\u001b[0;32m<ipython-input-36-6aa2cf296683>\u001b[0m in \u001b[0;36m<cell line: 3>\u001b[0;34m()\u001b[0m\n\u001b[1;32m      1\u001b[0m \u001b[0;31m# Calculate VIF for each feature to check multicollinearity\u001b[0m\u001b[0;34m\u001b[0m\u001b[0;34m\u001b[0m\u001b[0m\n\u001b[1;32m      2\u001b[0m \u001b[0mvif\u001b[0m \u001b[0;34m=\u001b[0m \u001b[0mpd\u001b[0m\u001b[0;34m.\u001b[0m\u001b[0mDataFrame\u001b[0m\u001b[0;34m(\u001b[0m\u001b[0;34m)\u001b[0m\u001b[0;34m\u001b[0m\u001b[0;34m\u001b[0m\u001b[0m\n\u001b[0;32m----> 3\u001b[0;31m \u001b[0mvif\u001b[0m\u001b[0;34m[\u001b[0m\u001b[0;34m\"VIF Factor\"\u001b[0m\u001b[0;34m]\u001b[0m \u001b[0;34m=\u001b[0m \u001b[0;34m[\u001b[0m\u001b[0mvariance_inflation_factor\u001b[0m\u001b[0;34m(\u001b[0m\u001b[0mtrainingdata\u001b[0m\u001b[0;34m.\u001b[0m\u001b[0mvalues\u001b[0m\u001b[0;34m,\u001b[0m \u001b[0mi\u001b[0m\u001b[0;34m)\u001b[0m \u001b[0;32mfor\u001b[0m \u001b[0mi\u001b[0m \u001b[0;32min\u001b[0m \u001b[0mrange\u001b[0m\u001b[0;34m(\u001b[0m\u001b[0mtrainingdata\u001b[0m\u001b[0;34m.\u001b[0m\u001b[0mshape\u001b[0m\u001b[0;34m[\u001b[0m\u001b[0;36m1\u001b[0m\u001b[0;34m]\u001b[0m\u001b[0;34m)\u001b[0m\u001b[0;34m]\u001b[0m\u001b[0;34m\u001b[0m\u001b[0;34m\u001b[0m\u001b[0m\n\u001b[0m\u001b[1;32m      4\u001b[0m \u001b[0mvif\u001b[0m\u001b[0;34m[\u001b[0m\u001b[0;34m\"Features\"\u001b[0m\u001b[0;34m]\u001b[0m \u001b[0;34m=\u001b[0m \u001b[0mtrainingdata\u001b[0m\u001b[0;34m.\u001b[0m\u001b[0mcolumns\u001b[0m\u001b[0;34m\u001b[0m\u001b[0;34m\u001b[0m\u001b[0m\n\u001b[1;32m      5\u001b[0m \u001b[0;34m\u001b[0m\u001b[0m\n",
            "\u001b[0;32m<ipython-input-36-6aa2cf296683>\u001b[0m in \u001b[0;36m<listcomp>\u001b[0;34m(.0)\u001b[0m\n\u001b[1;32m      1\u001b[0m \u001b[0;31m# Calculate VIF for each feature to check multicollinearity\u001b[0m\u001b[0;34m\u001b[0m\u001b[0;34m\u001b[0m\u001b[0m\n\u001b[1;32m      2\u001b[0m \u001b[0mvif\u001b[0m \u001b[0;34m=\u001b[0m \u001b[0mpd\u001b[0m\u001b[0;34m.\u001b[0m\u001b[0mDataFrame\u001b[0m\u001b[0;34m(\u001b[0m\u001b[0;34m)\u001b[0m\u001b[0;34m\u001b[0m\u001b[0;34m\u001b[0m\u001b[0m\n\u001b[0;32m----> 3\u001b[0;31m \u001b[0mvif\u001b[0m\u001b[0;34m[\u001b[0m\u001b[0;34m\"VIF Factor\"\u001b[0m\u001b[0;34m]\u001b[0m \u001b[0;34m=\u001b[0m \u001b[0;34m[\u001b[0m\u001b[0mvariance_inflation_factor\u001b[0m\u001b[0;34m(\u001b[0m\u001b[0mtrainingdata\u001b[0m\u001b[0;34m.\u001b[0m\u001b[0mvalues\u001b[0m\u001b[0;34m,\u001b[0m \u001b[0mi\u001b[0m\u001b[0;34m)\u001b[0m \u001b[0;32mfor\u001b[0m \u001b[0mi\u001b[0m \u001b[0;32min\u001b[0m \u001b[0mrange\u001b[0m\u001b[0;34m(\u001b[0m\u001b[0mtrainingdata\u001b[0m\u001b[0;34m.\u001b[0m\u001b[0mshape\u001b[0m\u001b[0;34m[\u001b[0m\u001b[0;36m1\u001b[0m\u001b[0;34m]\u001b[0m\u001b[0;34m)\u001b[0m\u001b[0;34m]\u001b[0m\u001b[0;34m\u001b[0m\u001b[0;34m\u001b[0m\u001b[0m\n\u001b[0m\u001b[1;32m      4\u001b[0m \u001b[0mvif\u001b[0m\u001b[0;34m[\u001b[0m\u001b[0;34m\"Features\"\u001b[0m\u001b[0;34m]\u001b[0m \u001b[0;34m=\u001b[0m \u001b[0mtrainingdata\u001b[0m\u001b[0;34m.\u001b[0m\u001b[0mcolumns\u001b[0m\u001b[0;34m\u001b[0m\u001b[0;34m\u001b[0m\u001b[0m\n\u001b[1;32m      5\u001b[0m \u001b[0;34m\u001b[0m\u001b[0m\n",
            "\u001b[0;32m/usr/local/lib/python3.9/dist-packages/statsmodels/stats/outliers_influence.py\u001b[0m in \u001b[0;36mvariance_inflation_factor\u001b[0;34m(exog, exog_idx)\u001b[0m\n\u001b[1;32m    192\u001b[0m     \u001b[0mmask\u001b[0m \u001b[0;34m=\u001b[0m \u001b[0mnp\u001b[0m\u001b[0;34m.\u001b[0m\u001b[0marange\u001b[0m\u001b[0;34m(\u001b[0m\u001b[0mk_vars\u001b[0m\u001b[0;34m)\u001b[0m \u001b[0;34m!=\u001b[0m \u001b[0mexog_idx\u001b[0m\u001b[0;34m\u001b[0m\u001b[0;34m\u001b[0m\u001b[0m\n\u001b[1;32m    193\u001b[0m     \u001b[0mx_noti\u001b[0m \u001b[0;34m=\u001b[0m \u001b[0mexog\u001b[0m\u001b[0;34m[\u001b[0m\u001b[0;34m:\u001b[0m\u001b[0;34m,\u001b[0m \u001b[0mmask\u001b[0m\u001b[0;34m]\u001b[0m\u001b[0;34m\u001b[0m\u001b[0;34m\u001b[0m\u001b[0m\n\u001b[0;32m--> 194\u001b[0;31m     \u001b[0mr_squared_i\u001b[0m \u001b[0;34m=\u001b[0m \u001b[0mOLS\u001b[0m\u001b[0;34m(\u001b[0m\u001b[0mx_i\u001b[0m\u001b[0;34m,\u001b[0m \u001b[0mx_noti\u001b[0m\u001b[0;34m)\u001b[0m\u001b[0;34m.\u001b[0m\u001b[0mfit\u001b[0m\u001b[0;34m(\u001b[0m\u001b[0;34m)\u001b[0m\u001b[0;34m.\u001b[0m\u001b[0mrsquared\u001b[0m\u001b[0;34m\u001b[0m\u001b[0;34m\u001b[0m\u001b[0m\n\u001b[0m\u001b[1;32m    195\u001b[0m     \u001b[0mvif\u001b[0m \u001b[0;34m=\u001b[0m \u001b[0;36m1.\u001b[0m \u001b[0;34m/\u001b[0m \u001b[0;34m(\u001b[0m\u001b[0;36m1.\u001b[0m \u001b[0;34m-\u001b[0m \u001b[0mr_squared_i\u001b[0m\u001b[0;34m)\u001b[0m\u001b[0;34m\u001b[0m\u001b[0;34m\u001b[0m\u001b[0m\n\u001b[1;32m    196\u001b[0m     \u001b[0;32mreturn\u001b[0m \u001b[0mvif\u001b[0m\u001b[0;34m\u001b[0m\u001b[0;34m\u001b[0m\u001b[0m\n",
            "\u001b[0;32m/usr/local/lib/python3.9/dist-packages/statsmodels/regression/linear_model.py\u001b[0m in \u001b[0;36m__init__\u001b[0;34m(self, endog, exog, missing, hasconst, **kwargs)\u001b[0m\n\u001b[1;32m    904\u001b[0m                    \"An exception will be raised in the next version.\")\n\u001b[1;32m    905\u001b[0m             \u001b[0mwarnings\u001b[0m\u001b[0;34m.\u001b[0m\u001b[0mwarn\u001b[0m\u001b[0;34m(\u001b[0m\u001b[0mmsg\u001b[0m\u001b[0;34m,\u001b[0m \u001b[0mValueWarning\u001b[0m\u001b[0;34m)\u001b[0m\u001b[0;34m\u001b[0m\u001b[0;34m\u001b[0m\u001b[0m\n\u001b[0;32m--> 906\u001b[0;31m         super(OLS, self).__init__(endog, exog, missing=missing,\n\u001b[0m\u001b[1;32m    907\u001b[0m                                   hasconst=hasconst, **kwargs)\n\u001b[1;32m    908\u001b[0m         \u001b[0;32mif\u001b[0m \u001b[0;34m\"weights\"\u001b[0m \u001b[0;32min\u001b[0m \u001b[0mself\u001b[0m\u001b[0;34m.\u001b[0m\u001b[0m_init_keys\u001b[0m\u001b[0;34m:\u001b[0m\u001b[0;34m\u001b[0m\u001b[0;34m\u001b[0m\u001b[0m\n",
            "\u001b[0;32m/usr/local/lib/python3.9/dist-packages/statsmodels/regression/linear_model.py\u001b[0m in \u001b[0;36m__init__\u001b[0;34m(self, endog, exog, weights, missing, hasconst, **kwargs)\u001b[0m\n\u001b[1;32m    731\u001b[0m         \u001b[0;32melse\u001b[0m\u001b[0;34m:\u001b[0m\u001b[0;34m\u001b[0m\u001b[0;34m\u001b[0m\u001b[0m\n\u001b[1;32m    732\u001b[0m             \u001b[0mweights\u001b[0m \u001b[0;34m=\u001b[0m \u001b[0mweights\u001b[0m\u001b[0;34m.\u001b[0m\u001b[0msqueeze\u001b[0m\u001b[0;34m(\u001b[0m\u001b[0;34m)\u001b[0m\u001b[0;34m\u001b[0m\u001b[0;34m\u001b[0m\u001b[0m\n\u001b[0;32m--> 733\u001b[0;31m         super(WLS, self).__init__(endog, exog, missing=missing,\n\u001b[0m\u001b[1;32m    734\u001b[0m                                   weights=weights, hasconst=hasconst, **kwargs)\n\u001b[1;32m    735\u001b[0m         \u001b[0mnobs\u001b[0m \u001b[0;34m=\u001b[0m \u001b[0mself\u001b[0m\u001b[0;34m.\u001b[0m\u001b[0mexog\u001b[0m\u001b[0;34m.\u001b[0m\u001b[0mshape\u001b[0m\u001b[0;34m[\u001b[0m\u001b[0;36m0\u001b[0m\u001b[0;34m]\u001b[0m\u001b[0;34m\u001b[0m\u001b[0;34m\u001b[0m\u001b[0m\n",
            "\u001b[0;32m/usr/local/lib/python3.9/dist-packages/statsmodels/regression/linear_model.py\u001b[0m in \u001b[0;36m__init__\u001b[0;34m(self, endog, exog, **kwargs)\u001b[0m\n\u001b[1;32m    188\u001b[0m     \"\"\"\n\u001b[1;32m    189\u001b[0m     \u001b[0;32mdef\u001b[0m \u001b[0m__init__\u001b[0m\u001b[0;34m(\u001b[0m\u001b[0mself\u001b[0m\u001b[0;34m,\u001b[0m \u001b[0mendog\u001b[0m\u001b[0;34m,\u001b[0m \u001b[0mexog\u001b[0m\u001b[0;34m,\u001b[0m \u001b[0;34m**\u001b[0m\u001b[0mkwargs\u001b[0m\u001b[0;34m)\u001b[0m\u001b[0;34m:\u001b[0m\u001b[0;34m\u001b[0m\u001b[0;34m\u001b[0m\u001b[0m\n\u001b[0;32m--> 190\u001b[0;31m         \u001b[0msuper\u001b[0m\u001b[0;34m(\u001b[0m\u001b[0mRegressionModel\u001b[0m\u001b[0;34m,\u001b[0m \u001b[0mself\u001b[0m\u001b[0;34m)\u001b[0m\u001b[0;34m.\u001b[0m\u001b[0m__init__\u001b[0m\u001b[0;34m(\u001b[0m\u001b[0mendog\u001b[0m\u001b[0;34m,\u001b[0m \u001b[0mexog\u001b[0m\u001b[0;34m,\u001b[0m \u001b[0;34m**\u001b[0m\u001b[0mkwargs\u001b[0m\u001b[0;34m)\u001b[0m\u001b[0;34m\u001b[0m\u001b[0;34m\u001b[0m\u001b[0m\n\u001b[0m\u001b[1;32m    191\u001b[0m         \u001b[0mself\u001b[0m\u001b[0;34m.\u001b[0m\u001b[0m_data_attr\u001b[0m\u001b[0;34m.\u001b[0m\u001b[0mextend\u001b[0m\u001b[0;34m(\u001b[0m\u001b[0;34m[\u001b[0m\u001b[0;34m'pinv_wexog'\u001b[0m\u001b[0;34m,\u001b[0m \u001b[0;34m'wendog'\u001b[0m\u001b[0;34m,\u001b[0m \u001b[0;34m'wexog'\u001b[0m\u001b[0;34m,\u001b[0m \u001b[0;34m'weights'\u001b[0m\u001b[0;34m]\u001b[0m\u001b[0;34m)\u001b[0m\u001b[0;34m\u001b[0m\u001b[0;34m\u001b[0m\u001b[0m\n\u001b[1;32m    192\u001b[0m \u001b[0;34m\u001b[0m\u001b[0m\n",
            "\u001b[0;32m/usr/local/lib/python3.9/dist-packages/statsmodels/base/model.py\u001b[0m in \u001b[0;36m__init__\u001b[0;34m(self, endog, exog, **kwargs)\u001b[0m\n\u001b[1;32m    265\u001b[0m \u001b[0;34m\u001b[0m\u001b[0m\n\u001b[1;32m    266\u001b[0m     \u001b[0;32mdef\u001b[0m \u001b[0m__init__\u001b[0m\u001b[0;34m(\u001b[0m\u001b[0mself\u001b[0m\u001b[0;34m,\u001b[0m \u001b[0mendog\u001b[0m\u001b[0;34m,\u001b[0m \u001b[0mexog\u001b[0m\u001b[0;34m=\u001b[0m\u001b[0;32mNone\u001b[0m\u001b[0;34m,\u001b[0m \u001b[0;34m**\u001b[0m\u001b[0mkwargs\u001b[0m\u001b[0;34m)\u001b[0m\u001b[0;34m:\u001b[0m\u001b[0;34m\u001b[0m\u001b[0;34m\u001b[0m\u001b[0m\n\u001b[0;32m--> 267\u001b[0;31m         \u001b[0msuper\u001b[0m\u001b[0;34m(\u001b[0m\u001b[0;34m)\u001b[0m\u001b[0;34m.\u001b[0m\u001b[0m__init__\u001b[0m\u001b[0;34m(\u001b[0m\u001b[0mendog\u001b[0m\u001b[0;34m,\u001b[0m \u001b[0mexog\u001b[0m\u001b[0;34m,\u001b[0m \u001b[0;34m**\u001b[0m\u001b[0mkwargs\u001b[0m\u001b[0;34m)\u001b[0m\u001b[0;34m\u001b[0m\u001b[0;34m\u001b[0m\u001b[0m\n\u001b[0m\u001b[1;32m    268\u001b[0m         \u001b[0mself\u001b[0m\u001b[0;34m.\u001b[0m\u001b[0minitialize\u001b[0m\u001b[0;34m(\u001b[0m\u001b[0;34m)\u001b[0m\u001b[0;34m\u001b[0m\u001b[0;34m\u001b[0m\u001b[0m\n\u001b[1;32m    269\u001b[0m \u001b[0;34m\u001b[0m\u001b[0m\n",
            "\u001b[0;32m/usr/local/lib/python3.9/dist-packages/statsmodels/base/model.py\u001b[0m in \u001b[0;36m__init__\u001b[0;34m(self, endog, exog, **kwargs)\u001b[0m\n\u001b[1;32m     90\u001b[0m         \u001b[0mmissing\u001b[0m \u001b[0;34m=\u001b[0m \u001b[0mkwargs\u001b[0m\u001b[0;34m.\u001b[0m\u001b[0mpop\u001b[0m\u001b[0;34m(\u001b[0m\u001b[0;34m'missing'\u001b[0m\u001b[0;34m,\u001b[0m \u001b[0;34m'none'\u001b[0m\u001b[0;34m)\u001b[0m\u001b[0;34m\u001b[0m\u001b[0;34m\u001b[0m\u001b[0m\n\u001b[1;32m     91\u001b[0m         \u001b[0mhasconst\u001b[0m \u001b[0;34m=\u001b[0m \u001b[0mkwargs\u001b[0m\u001b[0;34m.\u001b[0m\u001b[0mpop\u001b[0m\u001b[0;34m(\u001b[0m\u001b[0;34m'hasconst'\u001b[0m\u001b[0;34m,\u001b[0m \u001b[0;32mNone\u001b[0m\u001b[0;34m)\u001b[0m\u001b[0;34m\u001b[0m\u001b[0;34m\u001b[0m\u001b[0m\n\u001b[0;32m---> 92\u001b[0;31m         self.data = self._handle_data(endog, exog, missing, hasconst,\n\u001b[0m\u001b[1;32m     93\u001b[0m                                       **kwargs)\n\u001b[1;32m     94\u001b[0m         \u001b[0mself\u001b[0m\u001b[0;34m.\u001b[0m\u001b[0mk_constant\u001b[0m \u001b[0;34m=\u001b[0m \u001b[0mself\u001b[0m\u001b[0;34m.\u001b[0m\u001b[0mdata\u001b[0m\u001b[0;34m.\u001b[0m\u001b[0mk_constant\u001b[0m\u001b[0;34m\u001b[0m\u001b[0;34m\u001b[0m\u001b[0m\n",
            "\u001b[0;32m/usr/local/lib/python3.9/dist-packages/statsmodels/base/model.py\u001b[0m in \u001b[0;36m_handle_data\u001b[0;34m(self, endog, exog, missing, hasconst, **kwargs)\u001b[0m\n\u001b[1;32m    130\u001b[0m \u001b[0;34m\u001b[0m\u001b[0m\n\u001b[1;32m    131\u001b[0m     \u001b[0;32mdef\u001b[0m \u001b[0m_handle_data\u001b[0m\u001b[0;34m(\u001b[0m\u001b[0mself\u001b[0m\u001b[0;34m,\u001b[0m \u001b[0mendog\u001b[0m\u001b[0;34m,\u001b[0m \u001b[0mexog\u001b[0m\u001b[0;34m,\u001b[0m \u001b[0mmissing\u001b[0m\u001b[0;34m,\u001b[0m \u001b[0mhasconst\u001b[0m\u001b[0;34m,\u001b[0m \u001b[0;34m**\u001b[0m\u001b[0mkwargs\u001b[0m\u001b[0;34m)\u001b[0m\u001b[0;34m:\u001b[0m\u001b[0;34m\u001b[0m\u001b[0;34m\u001b[0m\u001b[0m\n\u001b[0;32m--> 132\u001b[0;31m         \u001b[0mdata\u001b[0m \u001b[0;34m=\u001b[0m \u001b[0mhandle_data\u001b[0m\u001b[0;34m(\u001b[0m\u001b[0mendog\u001b[0m\u001b[0;34m,\u001b[0m \u001b[0mexog\u001b[0m\u001b[0;34m,\u001b[0m \u001b[0mmissing\u001b[0m\u001b[0;34m,\u001b[0m \u001b[0mhasconst\u001b[0m\u001b[0;34m,\u001b[0m \u001b[0;34m**\u001b[0m\u001b[0mkwargs\u001b[0m\u001b[0;34m)\u001b[0m\u001b[0;34m\u001b[0m\u001b[0;34m\u001b[0m\u001b[0m\n\u001b[0m\u001b[1;32m    133\u001b[0m         \u001b[0;31m# kwargs arrays could have changed, easier to just attach here\u001b[0m\u001b[0;34m\u001b[0m\u001b[0;34m\u001b[0m\u001b[0m\n\u001b[1;32m    134\u001b[0m         \u001b[0;32mfor\u001b[0m \u001b[0mkey\u001b[0m \u001b[0;32min\u001b[0m \u001b[0mkwargs\u001b[0m\u001b[0;34m:\u001b[0m\u001b[0;34m\u001b[0m\u001b[0;34m\u001b[0m\u001b[0m\n",
            "\u001b[0;32m/usr/local/lib/python3.9/dist-packages/statsmodels/base/data.py\u001b[0m in \u001b[0;36mhandle_data\u001b[0;34m(endog, exog, missing, hasconst, **kwargs)\u001b[0m\n\u001b[1;32m    698\u001b[0m \u001b[0;34m\u001b[0m\u001b[0m\n\u001b[1;32m    699\u001b[0m     \u001b[0mklass\u001b[0m \u001b[0;34m=\u001b[0m \u001b[0mhandle_data_class_factory\u001b[0m\u001b[0;34m(\u001b[0m\u001b[0mendog\u001b[0m\u001b[0;34m,\u001b[0m \u001b[0mexog\u001b[0m\u001b[0;34m)\u001b[0m\u001b[0;34m\u001b[0m\u001b[0;34m\u001b[0m\u001b[0m\n\u001b[0;32m--> 700\u001b[0;31m     return klass(endog, exog=exog, missing=missing, hasconst=hasconst,\n\u001b[0m\u001b[1;32m    701\u001b[0m                  **kwargs)\n",
            "\u001b[0;32m/usr/local/lib/python3.9/dist-packages/statsmodels/base/data.py\u001b[0m in \u001b[0;36m__init__\u001b[0;34m(self, endog, exog, missing, hasconst, **kwargs)\u001b[0m\n\u001b[1;32m     86\u001b[0m         \u001b[0mself\u001b[0m\u001b[0;34m.\u001b[0m\u001b[0mconst_idx\u001b[0m \u001b[0;34m=\u001b[0m \u001b[0;32mNone\u001b[0m\u001b[0;34m\u001b[0m\u001b[0;34m\u001b[0m\u001b[0m\n\u001b[1;32m     87\u001b[0m         \u001b[0mself\u001b[0m\u001b[0;34m.\u001b[0m\u001b[0mk_constant\u001b[0m \u001b[0;34m=\u001b[0m \u001b[0;36m0\u001b[0m\u001b[0;34m\u001b[0m\u001b[0;34m\u001b[0m\u001b[0m\n\u001b[0;32m---> 88\u001b[0;31m         \u001b[0mself\u001b[0m\u001b[0;34m.\u001b[0m\u001b[0m_handle_constant\u001b[0m\u001b[0;34m(\u001b[0m\u001b[0mhasconst\u001b[0m\u001b[0;34m)\u001b[0m\u001b[0;34m\u001b[0m\u001b[0;34m\u001b[0m\u001b[0m\n\u001b[0m\u001b[1;32m     89\u001b[0m         \u001b[0mself\u001b[0m\u001b[0;34m.\u001b[0m\u001b[0m_check_integrity\u001b[0m\u001b[0;34m(\u001b[0m\u001b[0;34m)\u001b[0m\u001b[0;34m\u001b[0m\u001b[0;34m\u001b[0m\u001b[0m\n\u001b[1;32m     90\u001b[0m         \u001b[0mself\u001b[0m\u001b[0;34m.\u001b[0m\u001b[0m_cache\u001b[0m \u001b[0;34m=\u001b[0m \u001b[0;34m{\u001b[0m\u001b[0;34m}\u001b[0m\u001b[0;34m\u001b[0m\u001b[0;34m\u001b[0m\u001b[0m\n",
            "\u001b[0;32m/usr/local/lib/python3.9/dist-packages/statsmodels/base/data.py\u001b[0m in \u001b[0;36m_handle_constant\u001b[0;34m(self, hasconst)\u001b[0m\n\u001b[1;32m    131\u001b[0m             \u001b[0mcheck_implicit\u001b[0m \u001b[0;34m=\u001b[0m \u001b[0;32mFalse\u001b[0m\u001b[0;34m\u001b[0m\u001b[0;34m\u001b[0m\u001b[0m\n\u001b[1;32m    132\u001b[0m             \u001b[0mexog_max\u001b[0m \u001b[0;34m=\u001b[0m \u001b[0mnp\u001b[0m\u001b[0;34m.\u001b[0m\u001b[0mmax\u001b[0m\u001b[0;34m(\u001b[0m\u001b[0mself\u001b[0m\u001b[0;34m.\u001b[0m\u001b[0mexog\u001b[0m\u001b[0;34m,\u001b[0m \u001b[0maxis\u001b[0m\u001b[0;34m=\u001b[0m\u001b[0;36m0\u001b[0m\u001b[0;34m)\u001b[0m\u001b[0;34m\u001b[0m\u001b[0;34m\u001b[0m\u001b[0m\n\u001b[0;32m--> 133\u001b[0;31m             \u001b[0;32mif\u001b[0m \u001b[0;32mnot\u001b[0m \u001b[0mnp\u001b[0m\u001b[0;34m.\u001b[0m\u001b[0misfinite\u001b[0m\u001b[0;34m(\u001b[0m\u001b[0mexog_max\u001b[0m\u001b[0;34m)\u001b[0m\u001b[0;34m.\u001b[0m\u001b[0mall\u001b[0m\u001b[0;34m(\u001b[0m\u001b[0;34m)\u001b[0m\u001b[0;34m:\u001b[0m\u001b[0;34m\u001b[0m\u001b[0;34m\u001b[0m\u001b[0m\n\u001b[0m\u001b[1;32m    134\u001b[0m                 \u001b[0;32mraise\u001b[0m \u001b[0mMissingDataError\u001b[0m\u001b[0;34m(\u001b[0m\u001b[0;34m'exog contains inf or nans'\u001b[0m\u001b[0;34m)\u001b[0m\u001b[0;34m\u001b[0m\u001b[0;34m\u001b[0m\u001b[0m\n\u001b[1;32m    135\u001b[0m             \u001b[0mexog_min\u001b[0m \u001b[0;34m=\u001b[0m \u001b[0mnp\u001b[0m\u001b[0;34m.\u001b[0m\u001b[0mmin\u001b[0m\u001b[0;34m(\u001b[0m\u001b[0mself\u001b[0m\u001b[0;34m.\u001b[0m\u001b[0mexog\u001b[0m\u001b[0;34m,\u001b[0m \u001b[0maxis\u001b[0m\u001b[0;34m=\u001b[0m\u001b[0;36m0\u001b[0m\u001b[0;34m)\u001b[0m\u001b[0;34m\u001b[0m\u001b[0;34m\u001b[0m\u001b[0m\n",
            "\u001b[0;31mTypeError\u001b[0m: ufunc 'isfinite' not supported for the input types, and the inputs could not be safely coerced to any supported types according to the casting rule ''safe''"
          ]
        }
      ]
    },
    {
      "cell_type": "code",
      "source": [
        "\n",
        "log_reg_1.summary()"
      ],
      "metadata": {
        "colab": {
          "base_uri": "https://localhost:8080/",
          "height": 337
        },
        "id": "39U3E41ve6Sb",
        "outputId": "3ea7e5c8-5b51-4967-a99b-1eed1c6c630e"
      },
      "id": "39U3E41ve6Sb",
      "execution_count": null,
      "outputs": [
        {
          "output_type": "execute_result",
          "data": {
            "text/plain": [
              "<class 'statsmodels.iolib.summary.Summary'>\n",
              "\"\"\"\n",
              "                           Logit Regression Results                           \n",
              "==============================================================================\n",
              "Dep. Variable:            StripSearch   No. Observations:                28500\n",
              "Model:                          Logit   Df Residuals:                    28494\n",
              "Method:                           MLE   Df Model:                            5\n",
              "Date:                Fri, 14 Apr 2023   Pseudo R-squ.:                0.007495\n",
              "Time:                        03:11:00   Log-Likelihood:                -13156.\n",
              "converged:                       True   LL-Null:                       -13256.\n",
              "Covariance Type:            nonrobust   LLR p-value:                 5.416e-41\n",
              "===================================================================================================\n",
              "                                      coef    std err          z      P>|z|      [0.025      0.975]\n",
              "---------------------------------------------------------------------------------------------------\n",
              "Intercept                          -2.1646      0.062    -34.813      0.000      -2.286      -2.043\n",
              "Perceived_Race                     -0.0033      0.005     -0.634      0.526      -0.013       0.007\n",
              "Sex                                 0.1248      0.042      2.963      0.003       0.042       0.207\n",
              "Youth_at_arrest__under_18_years    -0.3038      0.087     -3.497      0.000      -0.474      -0.133\n",
              "Occurrence_Category                 0.0041      0.002      2.642      0.008       0.001       0.007\n",
              "ArrestLocDiv                        0.0135      0.001     12.951      0.000       0.011       0.016\n",
              "===================================================================================================\n",
              "\"\"\""
            ],
            "text/html": [
              "<table class=\"simpletable\">\n",
              "<caption>Logit Regression Results</caption>\n",
              "<tr>\n",
              "  <th>Dep. Variable:</th>      <td>StripSearch</td>   <th>  No. Observations:  </th>  <td> 28500</td>  \n",
              "</tr>\n",
              "<tr>\n",
              "  <th>Model:</th>                 <td>Logit</td>      <th>  Df Residuals:      </th>  <td> 28494</td>  \n",
              "</tr>\n",
              "<tr>\n",
              "  <th>Method:</th>                 <td>MLE</td>       <th>  Df Model:          </th>  <td>     5</td>  \n",
              "</tr>\n",
              "<tr>\n",
              "  <th>Date:</th>            <td>Fri, 14 Apr 2023</td> <th>  Pseudo R-squ.:     </th> <td>0.007495</td> \n",
              "</tr>\n",
              "<tr>\n",
              "  <th>Time:</th>                <td>03:11:00</td>     <th>  Log-Likelihood:    </th> <td> -13156.</td> \n",
              "</tr>\n",
              "<tr>\n",
              "  <th>converged:</th>             <td>True</td>       <th>  LL-Null:           </th> <td> -13256.</td> \n",
              "</tr>\n",
              "<tr>\n",
              "  <th>Covariance Type:</th>     <td>nonrobust</td>    <th>  LLR p-value:       </th> <td>5.416e-41</td>\n",
              "</tr>\n",
              "</table>\n",
              "<table class=\"simpletable\">\n",
              "<tr>\n",
              "                 <td></td>                    <th>coef</th>     <th>std err</th>      <th>z</th>      <th>P>|z|</th>  <th>[0.025</th>    <th>0.975]</th>  \n",
              "</tr>\n",
              "<tr>\n",
              "  <th>Intercept</th>                       <td>   -2.1646</td> <td>    0.062</td> <td>  -34.813</td> <td> 0.000</td> <td>   -2.286</td> <td>   -2.043</td>\n",
              "</tr>\n",
              "<tr>\n",
              "  <th>Perceived_Race</th>                  <td>   -0.0033</td> <td>    0.005</td> <td>   -0.634</td> <td> 0.526</td> <td>   -0.013</td> <td>    0.007</td>\n",
              "</tr>\n",
              "<tr>\n",
              "  <th>Sex</th>                             <td>    0.1248</td> <td>    0.042</td> <td>    2.963</td> <td> 0.003</td> <td>    0.042</td> <td>    0.207</td>\n",
              "</tr>\n",
              "<tr>\n",
              "  <th>Youth_at_arrest__under_18_years</th> <td>   -0.3038</td> <td>    0.087</td> <td>   -3.497</td> <td> 0.000</td> <td>   -0.474</td> <td>   -0.133</td>\n",
              "</tr>\n",
              "<tr>\n",
              "  <th>Occurrence_Category</th>             <td>    0.0041</td> <td>    0.002</td> <td>    2.642</td> <td> 0.008</td> <td>    0.001</td> <td>    0.007</td>\n",
              "</tr>\n",
              "<tr>\n",
              "  <th>ArrestLocDiv</th>                    <td>    0.0135</td> <td>    0.001</td> <td>   12.951</td> <td> 0.000</td> <td>    0.011</td> <td>    0.016</td>\n",
              "</tr>\n",
              "</table>"
            ]
          },
          "metadata": {},
          "execution_count": 122
        }
      ]
    },
    {
      "cell_type": "code",
      "source": [
        "#getting odds ratio \n",
        "np.exp(log_reg_1.params)"
      ],
      "metadata": {
        "colab": {
          "base_uri": "https://localhost:8080/"
        },
        "id": "prNxDjnzmwnX",
        "outputId": "fd607537-3fee-4ade-d5b5-03c9b047e47e"
      },
      "id": "prNxDjnzmwnX",
      "execution_count": null,
      "outputs": [
        {
          "output_type": "execute_result",
          "data": {
            "text/plain": [
              "Intercept                          0.114794\n",
              "Perceived_Race                     0.996750\n",
              "Sex                                1.132899\n",
              "Youth_at_arrest__under_18_years    0.738037\n",
              "Occurrence_Category                1.004066\n",
              "ArrestLocDiv                       1.013630\n",
              "dtype: float64"
            ]
          },
          "metadata": {},
          "execution_count": 123
        }
      ]
    },
    {
      "cell_type": "code",
      "source": [
        "params = log_reg_1.params\n",
        "conf = log_reg_1.conf_int()\n",
        "conf['OR'] = params\n",
        "conf.columns = [\"Lower CI\", \"Upper CI\", \"OR\"]\n",
        "np.exp(conf)"
      ],
      "metadata": {
        "colab": {
          "base_uri": "https://localhost:8080/",
          "height": 432
        },
        "id": "v_g-xP7O7p2v",
        "outputId": "f8afe625-d472-440c-9786-04b841a1ab3f"
      },
      "id": "v_g-xP7O7p2v",
      "execution_count": null,
      "outputs": [
        {
          "output_type": "execute_result",
          "data": {
            "text/plain": [
              "                                 Lower CI  Upper CI        OR\n",
              "Intercept                        0.101623  0.129671  0.114794\n",
              "Perceived_Race                   0.986772  1.006828  0.996750\n",
              "Sex                              1.043136  1.230386  1.132899\n",
              "Youth_at_arrest__under_18_years  0.622487  0.875037  0.738037\n",
              "Occurrence_Category              1.001048  1.007094  1.004066\n",
              "ArrestLocDiv                     1.011556  1.015709  1.013630"
            ],
            "text/html": [
              "\n",
              "  <div id=\"df-eded2e4a-68fe-4165-a003-aed00117d117\">\n",
              "    <div class=\"colab-df-container\">\n",
              "      <div>\n",
              "<style scoped>\n",
              "    .dataframe tbody tr th:only-of-type {\n",
              "        vertical-align: middle;\n",
              "    }\n",
              "\n",
              "    .dataframe tbody tr th {\n",
              "        vertical-align: top;\n",
              "    }\n",
              "\n",
              "    .dataframe thead th {\n",
              "        text-align: right;\n",
              "    }\n",
              "</style>\n",
              "<table border=\"1\" class=\"dataframe\">\n",
              "  <thead>\n",
              "    <tr style=\"text-align: right;\">\n",
              "      <th></th>\n",
              "      <th>Lower CI</th>\n",
              "      <th>Upper CI</th>\n",
              "      <th>OR</th>\n",
              "    </tr>\n",
              "  </thead>\n",
              "  <tbody>\n",
              "    <tr>\n",
              "      <th>Intercept</th>\n",
              "      <td>0.101623</td>\n",
              "      <td>0.129671</td>\n",
              "      <td>0.114794</td>\n",
              "    </tr>\n",
              "    <tr>\n",
              "      <th>Perceived_Race</th>\n",
              "      <td>0.986772</td>\n",
              "      <td>1.006828</td>\n",
              "      <td>0.996750</td>\n",
              "    </tr>\n",
              "    <tr>\n",
              "      <th>Sex</th>\n",
              "      <td>1.043136</td>\n",
              "      <td>1.230386</td>\n",
              "      <td>1.132899</td>\n",
              "    </tr>\n",
              "    <tr>\n",
              "      <th>Youth_at_arrest__under_18_years</th>\n",
              "      <td>0.622487</td>\n",
              "      <td>0.875037</td>\n",
              "      <td>0.738037</td>\n",
              "    </tr>\n",
              "    <tr>\n",
              "      <th>Occurrence_Category</th>\n",
              "      <td>1.001048</td>\n",
              "      <td>1.007094</td>\n",
              "      <td>1.004066</td>\n",
              "    </tr>\n",
              "    <tr>\n",
              "      <th>ArrestLocDiv</th>\n",
              "      <td>1.011556</td>\n",
              "      <td>1.015709</td>\n",
              "      <td>1.013630</td>\n",
              "    </tr>\n",
              "  </tbody>\n",
              "</table>\n",
              "</div>\n",
              "      <button class=\"colab-df-convert\" onclick=\"convertToInteractive('df-eded2e4a-68fe-4165-a003-aed00117d117')\"\n",
              "              title=\"Convert this dataframe to an interactive table.\"\n",
              "              style=\"display:none;\">\n",
              "        \n",
              "  <svg xmlns=\"http://www.w3.org/2000/svg\" height=\"24px\"viewBox=\"0 0 24 24\"\n",
              "       width=\"24px\">\n",
              "    <path d=\"M0 0h24v24H0V0z\" fill=\"none\"/>\n",
              "    <path d=\"M18.56 5.44l.94 2.06.94-2.06 2.06-.94-2.06-.94-.94-2.06-.94 2.06-2.06.94zm-11 1L8.5 8.5l.94-2.06 2.06-.94-2.06-.94L8.5 2.5l-.94 2.06-2.06.94zm10 10l.94 2.06.94-2.06 2.06-.94-2.06-.94-.94-2.06-.94 2.06-2.06.94z\"/><path d=\"M17.41 7.96l-1.37-1.37c-.4-.4-.92-.59-1.43-.59-.52 0-1.04.2-1.43.59L10.3 9.45l-7.72 7.72c-.78.78-.78 2.05 0 2.83L4 21.41c.39.39.9.59 1.41.59.51 0 1.02-.2 1.41-.59l7.78-7.78 2.81-2.81c.8-.78.8-2.07 0-2.86zM5.41 20L4 18.59l7.72-7.72 1.47 1.35L5.41 20z\"/>\n",
              "  </svg>\n",
              "      </button>\n",
              "      \n",
              "  <style>\n",
              "    .colab-df-container {\n",
              "      display:flex;\n",
              "      flex-wrap:wrap;\n",
              "      gap: 12px;\n",
              "    }\n",
              "\n",
              "    .colab-df-convert {\n",
              "      background-color: #E8F0FE;\n",
              "      border: none;\n",
              "      border-radius: 50%;\n",
              "      cursor: pointer;\n",
              "      display: none;\n",
              "      fill: #1967D2;\n",
              "      height: 32px;\n",
              "      padding: 0 0 0 0;\n",
              "      width: 32px;\n",
              "    }\n",
              "\n",
              "    .colab-df-convert:hover {\n",
              "      background-color: #E2EBFA;\n",
              "      box-shadow: 0px 1px 2px rgba(60, 64, 67, 0.3), 0px 1px 3px 1px rgba(60, 64, 67, 0.15);\n",
              "      fill: #174EA6;\n",
              "    }\n",
              "\n",
              "    [theme=dark] .colab-df-convert {\n",
              "      background-color: #3B4455;\n",
              "      fill: #D2E3FC;\n",
              "    }\n",
              "\n",
              "    [theme=dark] .colab-df-convert:hover {\n",
              "      background-color: #434B5C;\n",
              "      box-shadow: 0px 1px 3px 1px rgba(0, 0, 0, 0.15);\n",
              "      filter: drop-shadow(0px 1px 2px rgba(0, 0, 0, 0.3));\n",
              "      fill: #FFFFFF;\n",
              "    }\n",
              "  </style>\n",
              "\n",
              "      <script>\n",
              "        const buttonEl =\n",
              "          document.querySelector('#df-eded2e4a-68fe-4165-a003-aed00117d117 button.colab-df-convert');\n",
              "        buttonEl.style.display =\n",
              "          google.colab.kernel.accessAllowed ? 'block' : 'none';\n",
              "\n",
              "        async function convertToInteractive(key) {\n",
              "          const element = document.querySelector('#df-eded2e4a-68fe-4165-a003-aed00117d117');\n",
              "          const dataTable =\n",
              "            await google.colab.kernel.invokeFunction('convertToInteractive',\n",
              "                                                     [key], {});\n",
              "          if (!dataTable) return;\n",
              "\n",
              "          const docLinkHtml = 'Like what you see? Visit the ' +\n",
              "            '<a target=\"_blank\" href=https://colab.research.google.com/notebooks/data_table.ipynb>data table notebook</a>'\n",
              "            + ' to learn more about interactive tables.';\n",
              "          element.innerHTML = '';\n",
              "          dataTable['output_type'] = 'display_data';\n",
              "          await google.colab.output.renderOutput(dataTable, element);\n",
              "          const docLink = document.createElement('div');\n",
              "          docLink.innerHTML = docLinkHtml;\n",
              "          element.appendChild(docLink);\n",
              "        }\n",
              "      </script>\n",
              "    </div>\n",
              "  </div>\n",
              "  "
            ]
          },
          "metadata": {},
          "execution_count": 124
        }
      ]
    },
    {
      "cell_type": "markdown",
      "source": [
        "#### Prediction Interval Plot\n"
      ],
      "metadata": {
        "id": "2Sc6ALXosYox"
      },
      "id": "2Sc6ALXosYox"
    },
    {
      "cell_type": "code",
      "source": [
        "pre_df = df_LR.copy()\n",
        "\n",
        "from sklearn.preprocessing import LabelEncoder\n",
        "\n",
        "le = LabelEncoder()\n",
        "pre_df['ArrestLocDiv'] = le.fit_transform(pre_df['ArrestLocDiv'])\n",
        "\n",
        "\n",
        "mod = sm.Logit.from_formula('StripSearch ~ ArrestLocDiv', pre_df)\n",
        "res = mod.fit()\n",
        "\n",
        "# Computes the marginal effects of the logistic regression model.\n",
        "me = res.get_margeff()\n",
        "\n",
        "# cumulative distribution function\n",
        "Λ = lambda x: stats.logistic().cdf(x)\n",
        "# probability density function\n",
        "λ = lambda x: stats.logistic().pdf(x)\n",
        "\n",
        "# estimated parameters (β) \n",
        "β_ = res.params.values.reshape(-1, 1)\n",
        "\n",
        "# covariance matrix (V_) \n",
        "V_ = res.cov_params().values\n",
        "\n",
        "def var_π(x, β, V_):\n",
        "    prob = λ(x.T.dot(β))**2 * x.T.dot(V_).dot(x)\n",
        "    return prob\n",
        "\n",
        "def var_πs(xx, β, V_):\n",
        "    α = λ(xx.dot(β))**2\n",
        "    out = np.empty((500, 1))\n",
        "    for i, x in enumerate(xx):\n",
        "        out[i] = x.T.dot(V_).dot(x)\n",
        "    return α * out\n",
        "\n",
        "\n",
        "xx = sm.add_constant(np.linspace(pre_df.ArrestLocDiv.min(), pre_df.ArrestLocDiv.max(), 500).reshape(-1, 1))\n",
        "# predicted probabilities\n",
        "πs = Λ(xx.dot(β_))\n",
        "vv = np.sqrt(var_πs(xx, β_, V_))\n",
        "\n",
        "x = ['11', '12', '13', '14', '22', '23', '31', '32', '33', '41', '42',\n",
        "       '43', '51', '52', '53', '54', '55']\n",
        "default_x_ticks = range(len(x))\n",
        "\n",
        "plt.rcParams['figure.figsize'] = [11, 7]\n",
        "plt.plot(xx[:, 1], πs)\n",
        "plt.fill_between(xx[:, 1], (πs - 1.96*vv).ravel(), (πs + 1.96*vv).ravel(), alpha=.25, color='g')\n",
        "plt.xticks(default_x_ticks, x)\n",
        "plt.xlabel('Divisions')\n",
        "plt.ylabel('Probabilities')\n",
        "plt.title('Prediction Interval Plot')"
      ],
      "metadata": {
        "colab": {
          "base_uri": "https://localhost:8080/",
          "height": 710
        },
        "id": "i592EaFQHtcO",
        "outputId": "f7f2f9e4-dd8d-4a44-ad31-19991a247e70"
      },
      "id": "i592EaFQHtcO",
      "execution_count": null,
      "outputs": [
        {
          "output_type": "stream",
          "name": "stdout",
          "text": [
            "Optimization terminated successfully.\n",
            "         Current function value: 0.463579\n",
            "         Iterations 6\n"
          ]
        },
        {
          "output_type": "execute_result",
          "data": {
            "text/plain": [
              "Text(0.5, 1.0, 'Prediction Interval Plot')"
            ]
          },
          "metadata": {},
          "execution_count": 25
        },
        {
          "output_type": "display_data",
          "data": {
            "text/plain": [
              "<Figure size 1100x700 with 1 Axes>"
            ],
            "image/png": "[encoded data removed]"
          },
          "metadata": {}
        }
      ]
    },
    {
      "cell_type": "markdown",
      "source": [
        "#### Assess the model\n"
      ],
      "metadata": {
        "id": "2Dr5wUP-m7am"
      },
      "id": "2Dr5wUP-m7am"
    },
    {
      "cell_type": "code",
      "source": [
        "from sklearn.metrics import confusion_matrix, accuracy_score\n",
        "# Predict responses \n",
        "pred_1 = log_reg_1.predict(x_test)\n",
        "# round() rounds to nearest integer;\n",
        "# 0.5 rounds to 0; 0.501 rounds to 1\n",
        "prediction_1 = list(map(round, pred_1))"
      ],
      "metadata": {
        "id": "33h9uodjm98T"
      },
      "id": "33h9uodjm98T",
      "execution_count": null,
      "outputs": []
    },
    {
      "cell_type": "code",
      "source": [
        "# Accuracy score\n",
        "print('\\nTest accuracy = ', accuracy_score(y_test, prediction_1))"
      ],
      "metadata": {
        "colab": {
          "base_uri": "https://localhost:8080/"
        },
        "id": "T5r1O6UWm_6E",
        "outputId": "6194e906-ec77-45b2-dd62-7aab204f2c9c"
      },
      "id": "T5r1O6UWm_6E",
      "execution_count": null,
      "outputs": [
        {
          "output_type": "stream",
          "name": "stdout",
          "text": [
            "\n",
            "Test accuracy =  0.8380578164468144\n"
          ]
        }
      ]
    },
    {
      "cell_type": "code",
      "source": [
        "# Confusion matrix\n",
        "#https://scikit-learn.org/stable/modules/generated/sklearn.metrics.confusion_matrix.html\n",
        "#C0,0 is true negative, C1,0 is false negative, C1,1 is true positive, C0,1 false positive \n",
        "from sklearn.metrics import ConfusionMatrixDisplay\n",
        "\n",
        "cm = confusion_matrix(y_test, prediction_1) \n",
        "print (\"\\nConfusion Matrix : \\n\", cm) \n",
        "\n",
        "tn, fp, fn, tp = confusion_matrix(y_test, prediction_1).ravel()\n",
        "print('\\n')\n",
        "print(tp, tn, fp, fn)\n",
        "\n",
        "ConfusionMatrixDisplay.from_predictions(y_test, prediction_1)\n",
        "plt.show()"
      ],
      "metadata": {
        "colab": {
          "base_uri": "https://localhost:8080/",
          "height": 740
        },
        "id": "GoCJ__I9nCC3",
        "outputId": "9c466384-3ba5-4e96-d994-7dc957d63b0d"
      },
      "id": "GoCJ__I9nCC3",
      "execution_count": null,
      "outputs": [
        {
          "output_type": "stream",
          "name": "stdout",
          "text": [
            "\n",
            "Confusion Matrix : \n",
            " [[5756  150]\n",
            " [1004  216]]\n",
            "\n",
            "\n",
            "216 5756 150 1004\n"
          ]
        },
        {
          "output_type": "display_data",
          "data": {
            "text/plain": [
              "<Figure size 1100x700 with 2 Axes>"
            ],
            "image/png": "[encoded data removed]"
          },
          "metadata": {}
        }
      ]
    },
    {
      "cell_type": "code",
      "source": [],
      "metadata": {
        "id": "Ulmo309knEuI"
      },
      "id": "Ulmo309knEuI",
      "execution_count": null,
      "outputs": []
    }
  ],
  "metadata": {
    "kernelspec": {
      "display_name": "Python 3 (ipykernel)",
      "language": "python",
      "name": "python3"
    },
    "language_info": {
      "codemirror_mode": {
        "name": "ipython",
        "version": 3
      },
      "file_extension": ".py",
      "mimetype": "text/x-python",
      "name": "python",
      "nbconvert_exporter": "python",
      "pygments_lexer": "ipython3",
      "version": "3.10.9"
    },
    "colab": {
      "provenance": [],
      "collapsed_sections": [
        "v3Xll8qTA5_e"
      ]
    }
  },
  "nbformat": 4,
  "nbformat_minor": 5
}