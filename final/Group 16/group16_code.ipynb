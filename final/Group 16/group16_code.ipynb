{
  "cells": [
    {
      "cell_type": "markdown",
      "metadata": {
        "id": "JpgGhQsB7uoj"
      },
      "source": [
        "---\n",
        "INF2178 End-of-term Project Code Submission - Group 16\n",
        "*   Rongjia Bao\n",
        "*   Xiaozhou (Andy) Ye\n",
        "\n",
        "https://colab.research.google.com/drive/1Yk0OXL1wc80uuA-Ch4FIkGGxIe1JpP02?usp=sharing\n",
        "---"
      ]
    },
    {
      "cell_type": "markdown",
      "metadata": {
        "id": "O02u77uz9Ljd"
      },
      "source": [
        "Data Import and Cleaning"
      ]
    },
    {
      "cell_type": "code",
      "execution_count": null,
      "metadata": {
        "id": "Svk_VcQuqB8S"
      },
      "outputs": [],
      "source": [
        "# Load useful packages\n",
        "import pandas as pd\n",
        "import numpy as np\n",
        "import math\n",
        "import matplotlib.pyplot as plt\n",
        "import seaborn as sns\n",
        "from scipy import stats\n",
        "from scipy.stats import f_oneway\n",
        "from scipy.stats import ttest_ind\n",
        "import statsmodels\n",
        "import statsmodels.api as sm\n",
        "from statsmodels.formula.api import ols\n",
        "from statsmodels.stats.multicomp import pairwise_tukeyhsd\n",
        "from statsmodels.graphics.factorplots import interaction_plot\n",
        "from statsmodels.stats.power import TTestIndPower\n",
        "!pip install pingouin\n",
        "from pingouin import ancova\n",
        "from sklearn.linear_model import LogisticRegression\n",
        "from sklearn.model_selection import train_test_split\n",
        "from sklearn.metrics import accuracy_score, classification_report, confusion_matrix\n",
        "%matplotlib inline\n",
        "pd.options.display.max_columns = None"
      ]
    },
    {
      "cell_type": "code",
      "execution_count": 2,
      "metadata": {
        "id": "AhEC6ep0qCTa",
        "colab": {
          "base_uri": "https://localhost:8080/"
        },
        "outputId": "5a2f0177-eeb2-42a8-f119-72b416bab889"
      },
      "outputs": [
        {
          "output_type": "stream",
          "name": "stderr",
          "text": [
            "<ipython-input-2-4cf8fd6a02d6>:55: FutureWarning: The frame.append method is deprecated and will be removed from pandas in a future version. Use pandas.concat instead.\n",
            "  data = data.append(newrow, ignore_index = True)\n"
          ]
        }
      ],
      "source": [
        "# Define a function for data cleaning\n",
        "def cleandata(filename):\n",
        "  \"\"\"Take in csv file name in the format 'file_name.csv', change categorical\n",
        "  variable columns and binary ordinal variable into string type, and return\n",
        "  cleaned dataframe.\n",
        "  \"\"\"\n",
        "  # Load data\n",
        "  df = pd.read_csv(filename)\n",
        "  # Change categorical variables to string type\n",
        "  df[['Arrest_Month', 'Perceived_Race', 'Sex', 'Age_group__at_arrest_', \\\n",
        "      'Youth_at_arrest__under_18_years', 'ArrestLocDiv', \\\n",
        "      'Occurrence_Category']] = \\\n",
        "      df[['Arrest_Month', 'Perceived_Race', 'Sex', 'Age_group__at_arrest_', \\\n",
        "          'Youth_at_arrest__under_18_years', 'ArrestLocDiv', \\\n",
        "          'Occurrence_Category']].astype('string')\n",
        "  # Omit rows where sex is not female or male\n",
        "  df = df[df['Sex'] != 'U']\n",
        "  # Modify youth column to either youth or not a your\n",
        "  df.loc[df['Youth_at_arrest__under_18_years'] != 'Not a youth', \\\n",
        "         'Youth_at_arrest__under_18_years'] = 'Youth'\n",
        "  # Combine two similar categories for age group into one\n",
        "  df.loc[df['Age_group__at_arrest_'] == 'Aged 17 years and younger',\\\n",
        "         'Age_group__at_arrest_'] = 'Aged 17 years and under'\n",
        "  df.loc[df['Age_group__at_arrest_'] == 'Aged 65 and older',\\\n",
        "         'Age_group__at_arrest_'] = 'Aged 65 years and older'\n",
        "  # When one is strip searched, he/she must be booked at the station\n",
        "  df.loc[df['StripSearch'] == 1, 'Booked'] = 1\n",
        "  return df\n",
        "# Import the data\n",
        "df = cleandata('Arrests_and_Strip_Searches_(RBDC-ARR-TBL-001).csv')\n",
        "\n",
        "# Group the dataset by Year, Race, and Age and calculate the number of\n",
        "# StripSearch and Arrest\n",
        "data = df.groupby(['Arrest_Year', 'Perceived_Race', \\\n",
        "                   'Sex', 'Age_group__at_arrest_', \\\n",
        "                   'Youth_at_arrest__under_18_years'], \\\n",
        "                  as_index=False)['StripSearch'].sum()\n",
        "data['Arrest'] = list(df.groupby(['Arrest_Year', 'Perceived_Race', \\\n",
        "                                  'Sex', 'Age_group__at_arrest_', \\\n",
        "                                  'Youth_at_arrest__under_18_years']).size())\n",
        "# Simplify the column names\n",
        "data.rename(columns = {'Arrest_Year': 'Year', 'Perceived_Race': 'Race',\n",
        "                       'Age_group__at_arrest_': 'AgeGroup',\n",
        "                       'Youth_at_arrest__under_18_years': 'Youth'},\n",
        "            inplace = True)\n",
        "\n",
        "# Add the missing group\n",
        "newrow = {'Year': 2020,\n",
        "          'Race': 'Latino',\n",
        "          'Sex': 'F',\n",
        "          'AgeGroup': 'Aged 55 to 64 years',\n",
        "          'Youth': 'Not a youth',\n",
        "          'StripSearch': 0,\n",
        "          'Arrest': 0}\n",
        "data = data.append(newrow, ignore_index = True)\n",
        "# Evaluate the proportion of strip search in each group\n",
        "data['Prop_StripSearch'] = data['StripSearch'] / data['Arrest']\n",
        "data['Prop_StripSearch'] = data['Prop_StripSearch'].fillna(0)"
      ]
    },
    {
      "cell_type": "markdown",
      "metadata": {
        "id": "YfHTKJqr6bfB"
      },
      "source": [
        "Exploratory Data Analysis"
      ]
    },
    {
      "cell_type": "code",
      "source": [
        "# Describe data\n",
        "data.head()\n",
        "df.head()"
      ],
      "metadata": {
        "id": "F7DcwhTZh0qa",
        "colab": {
          "base_uri": "https://localhost:8080/",
          "height": 340
        },
        "outputId": "1bef9bd9-bf15-4cf4-a005-4dd2ecc2ba0c"
      },
      "execution_count": 19,
      "outputs": [
        {
          "output_type": "execute_result",
          "data": {
            "text/plain": [
              "   Arrest_Year Arrest_Month  EventID   ArrestID  PersonID     Perceived_Race  \\\n",
              "0         2020    July-Sept  1005907  6017884.0    326622              White   \n",
              "1         2020    July-Sept  1014562  6056669.0    326622              White   \n",
              "2         2020      Oct-Dec  1029922  6057065.0    326622  Unknown or Legacy   \n",
              "3         2021      Jan-Mar  1052190  6029059.0    327535              Black   \n",
              "4         2021      Jan-Mar  1015512  6040372.0    327535        South Asian   \n",
              "\n",
              "  Sex Age_group__at_arrest_ Youth_at_arrest__under_18_years ArrestLocDiv  \\\n",
              "0   M   Aged 35 to 44 years                     Not a youth           54   \n",
              "1   M   Aged 35 to 44 years                     Not a youth           54   \n",
              "2   M   Aged 35 to 44 years                     Not a youth           54   \n",
              "3   M   Aged 25 to 34 years                     Not a youth           XX   \n",
              "4   M   Aged 25 to 34 years                     Not a youth           XX   \n",
              "\n",
              "   StripSearch  Booked                     Occurrence_Category  \\\n",
              "0            0       1  Assault & Other crimes against persons   \n",
              "1            0       1  Assault & Other crimes against persons   \n",
              "2            0       1  Assault & Other crimes against persons   \n",
              "3            0       0                  Harassment/Threatening   \n",
              "4            0       1       FTA/FTC/Compliance Check/Parollee   \n",
              "\n",
              "   Actions_at_arrest___Concealed_i  Actions_at_arrest___Combative__  \\\n",
              "0                                0                                0   \n",
              "1                                0                                0   \n",
              "2                                0                                0   \n",
              "3                                0                                0   \n",
              "4                                0                                0   \n",
              "\n",
              "   Actions_at_arrest___Resisted__d  Actions_at_arrest___Mental_inst  \\\n",
              "0                                0                                0   \n",
              "1                                0                                0   \n",
              "2                                0                                0   \n",
              "3                                0                                0   \n",
              "4                                0                                0   \n",
              "\n",
              "   Actions_at_arrest___Assaulted_o  Actions_at_arrest___Cooperative  \\\n",
              "0                                0                                1   \n",
              "1                                0                                0   \n",
              "2                                0                                0   \n",
              "3                                0                                0   \n",
              "4                                0                                0   \n",
              "\n",
              "   SearchReason_CauseInjury  SearchReason_AssistEscape  \\\n",
              "0                       NaN                        NaN   \n",
              "1                       NaN                        NaN   \n",
              "2                       NaN                        NaN   \n",
              "3                       NaN                        NaN   \n",
              "4                       NaN                        NaN   \n",
              "\n",
              "   SearchReason_PossessWeapons  SearchReason_PossessEvidence  ItemsFound  \\\n",
              "0                          NaN                           NaN         NaN   \n",
              "1                          NaN                           NaN         NaN   \n",
              "2                          NaN                           NaN         NaN   \n",
              "3                          NaN                           NaN         NaN   \n",
              "4                          NaN                           NaN         NaN   \n",
              "\n",
              "   ObjectId  \n",
              "0         1  \n",
              "1         2  \n",
              "2         3  \n",
              "3         4  \n",
              "4         5  "
            ],
            "text/html": [
              "\n",
              "  <div id=\"df-c696d16f-ef2c-41c0-9ba8-b3000bbb2826\">\n",
              "    <div class=\"colab-df-container\">\n",
              "      <div>\n",
              "<style scoped>\n",
              "    .dataframe tbody tr th:only-of-type {\n",
              "        vertical-align: middle;\n",
              "    }\n",
              "\n",
              "    .dataframe tbody tr th {\n",
              "        vertical-align: top;\n",
              "    }\n",
              "\n",
              "    .dataframe thead th {\n",
              "        text-align: right;\n",
              "    }\n",
              "</style>\n",
              "<table border=\"1\" class=\"dataframe\">\n",
              "  <thead>\n",
              "    <tr style=\"text-align: right;\">\n",
              "      <th></th>\n",
              "      <th>Arrest_Year</th>\n",
              "      <th>Arrest_Month</th>\n",
              "      <th>EventID</th>\n",
              "      <th>ArrestID</th>\n",
              "      <th>PersonID</th>\n",
              "      <th>Perceived_Race</th>\n",
              "      <th>Sex</th>\n",
              "      <th>Age_group__at_arrest_</th>\n",
              "      <th>Youth_at_arrest__under_18_years</th>\n",
              "      <th>ArrestLocDiv</th>\n",
              "      <th>StripSearch</th>\n",
              "      <th>Booked</th>\n",
              "      <th>Occurrence_Category</th>\n",
              "      <th>Actions_at_arrest___Concealed_i</th>\n",
              "      <th>Actions_at_arrest___Combative__</th>\n",
              "      <th>Actions_at_arrest___Resisted__d</th>\n",
              "      <th>Actions_at_arrest___Mental_inst</th>\n",
              "      <th>Actions_at_arrest___Assaulted_o</th>\n",
              "      <th>Actions_at_arrest___Cooperative</th>\n",
              "      <th>SearchReason_CauseInjury</th>\n",
              "      <th>SearchReason_AssistEscape</th>\n",
              "      <th>SearchReason_PossessWeapons</th>\n",
              "      <th>SearchReason_PossessEvidence</th>\n",
              "      <th>ItemsFound</th>\n",
              "      <th>ObjectId</th>\n",
              "    </tr>\n",
              "  </thead>\n",
              "  <tbody>\n",
              "    <tr>\n",
              "      <th>0</th>\n",
              "      <td>2020</td>\n",
              "      <td>July-Sept</td>\n",
              "      <td>1005907</td>\n",
              "      <td>6017884.0</td>\n",
              "      <td>326622</td>\n",
              "      <td>White</td>\n",
              "      <td>M</td>\n",
              "      <td>Aged 35 to 44 years</td>\n",
              "      <td>Not a youth</td>\n",
              "      <td>54</td>\n",
              "      <td>0</td>\n",
              "      <td>1</td>\n",
              "      <td>Assault &amp; Other crimes against persons</td>\n",
              "      <td>0</td>\n",
              "      <td>0</td>\n",
              "      <td>0</td>\n",
              "      <td>0</td>\n",
              "      <td>0</td>\n",
              "      <td>1</td>\n",
              "      <td>NaN</td>\n",
              "      <td>NaN</td>\n",
              "      <td>NaN</td>\n",
              "      <td>NaN</td>\n",
              "      <td>NaN</td>\n",
              "      <td>1</td>\n",
              "    </tr>\n",
              "    <tr>\n",
              "      <th>1</th>\n",
              "      <td>2020</td>\n",
              "      <td>July-Sept</td>\n",
              "      <td>1014562</td>\n",
              "      <td>6056669.0</td>\n",
              "      <td>326622</td>\n",
              "      <td>White</td>\n",
              "      <td>M</td>\n",
              "      <td>Aged 35 to 44 years</td>\n",
              "      <td>Not a youth</td>\n",
              "      <td>54</td>\n",
              "      <td>0</td>\n",
              "      <td>1</td>\n",
              "      <td>Assault &amp; Other crimes against persons</td>\n",
              "      <td>0</td>\n",
              "      <td>0</td>\n",
              "      <td>0</td>\n",
              "      <td>0</td>\n",
              "      <td>0</td>\n",
              "      <td>0</td>\n",
              "      <td>NaN</td>\n",
              "      <td>NaN</td>\n",
              "      <td>NaN</td>\n",
              "      <td>NaN</td>\n",
              "      <td>NaN</td>\n",
              "      <td>2</td>\n",
              "    </tr>\n",
              "    <tr>\n",
              "      <th>2</th>\n",
              "      <td>2020</td>\n",
              "      <td>Oct-Dec</td>\n",
              "      <td>1029922</td>\n",
              "      <td>6057065.0</td>\n",
              "      <td>326622</td>\n",
              "      <td>Unknown or Legacy</td>\n",
              "      <td>M</td>\n",
              "      <td>Aged 35 to 44 years</td>\n",
              "      <td>Not a youth</td>\n",
              "      <td>54</td>\n",
              "      <td>0</td>\n",
              "      <td>1</td>\n",
              "      <td>Assault &amp; Other crimes against persons</td>\n",
              "      <td>0</td>\n",
              "      <td>0</td>\n",
              "      <td>0</td>\n",
              "      <td>0</td>\n",
              "      <td>0</td>\n",
              "      <td>0</td>\n",
              "      <td>NaN</td>\n",
              "      <td>NaN</td>\n",
              "      <td>NaN</td>\n",
              "      <td>NaN</td>\n",
              "      <td>NaN</td>\n",
              "      <td>3</td>\n",
              "    </tr>\n",
              "    <tr>\n",
              "      <th>3</th>\n",
              "      <td>2021</td>\n",
              "      <td>Jan-Mar</td>\n",
              "      <td>1052190</td>\n",
              "      <td>6029059.0</td>\n",
              "      <td>327535</td>\n",
              "      <td>Black</td>\n",
              "      <td>M</td>\n",
              "      <td>Aged 25 to 34 years</td>\n",
              "      <td>Not a youth</td>\n",
              "      <td>XX</td>\n",
              "      <td>0</td>\n",
              "      <td>0</td>\n",
              "      <td>Harassment/Threatening</td>\n",
              "      <td>0</td>\n",
              "      <td>0</td>\n",
              "      <td>0</td>\n",
              "      <td>0</td>\n",
              "      <td>0</td>\n",
              "      <td>0</td>\n",
              "      <td>NaN</td>\n",
              "      <td>NaN</td>\n",
              "      <td>NaN</td>\n",
              "      <td>NaN</td>\n",
              "      <td>NaN</td>\n",
              "      <td>4</td>\n",
              "    </tr>\n",
              "    <tr>\n",
              "      <th>4</th>\n",
              "      <td>2021</td>\n",
              "      <td>Jan-Mar</td>\n",
              "      <td>1015512</td>\n",
              "      <td>6040372.0</td>\n",
              "      <td>327535</td>\n",
              "      <td>South Asian</td>\n",
              "      <td>M</td>\n",
              "      <td>Aged 25 to 34 years</td>\n",
              "      <td>Not a youth</td>\n",
              "      <td>XX</td>\n",
              "      <td>0</td>\n",
              "      <td>1</td>\n",
              "      <td>FTA/FTC/Compliance Check/Parollee</td>\n",
              "      <td>0</td>\n",
              "      <td>0</td>\n",
              "      <td>0</td>\n",
              "      <td>0</td>\n",
              "      <td>0</td>\n",
              "      <td>0</td>\n",
              "      <td>NaN</td>\n",
              "      <td>NaN</td>\n",
              "      <td>NaN</td>\n",
              "      <td>NaN</td>\n",
              "      <td>NaN</td>\n",
              "      <td>5</td>\n",
              "    </tr>\n",
              "  </tbody>\n",
              "</table>\n",
              "</div>\n",
              "      <button class=\"colab-df-convert\" onclick=\"convertToInteractive('df-c696d16f-ef2c-41c0-9ba8-b3000bbb2826')\"\n",
              "              title=\"Convert this dataframe to an interactive table.\"\n",
              "              style=\"display:none;\">\n",
              "        \n",
              "  <svg xmlns=\"http://www.w3.org/2000/svg\" height=\"24px\"viewBox=\"0 0 24 24\"\n",
              "       width=\"24px\">\n",
              "    <path d=\"M0 0h24v24H0V0z\" fill=\"none\"/>\n",
              "    <path d=\"M18.56 5.44l.94 2.06.94-2.06 2.06-.94-2.06-.94-.94-2.06-.94 2.06-2.06.94zm-11 1L8.5 8.5l.94-2.06 2.06-.94-2.06-.94L8.5 2.5l-.94 2.06-2.06.94zm10 10l.94 2.06.94-2.06 2.06-.94-2.06-.94-.94-2.06-.94 2.06-2.06.94z\"/><path d=\"M17.41 7.96l-1.37-1.37c-.4-.4-.92-.59-1.43-.59-.52 0-1.04.2-1.43.59L10.3 9.45l-7.72 7.72c-.78.78-.78 2.05 0 2.83L4 21.41c.39.39.9.59 1.41.59.51 0 1.02-.2 1.41-.59l7.78-7.78 2.81-2.81c.8-.78.8-2.07 0-2.86zM5.41 20L4 18.59l7.72-7.72 1.47 1.35L5.41 20z\"/>\n",
              "  </svg>\n",
              "      </button>\n",
              "      \n",
              "  <style>\n",
              "    .colab-df-container {\n",
              "      display:flex;\n",
              "      flex-wrap:wrap;\n",
              "      gap: 12px;\n",
              "    }\n",
              "\n",
              "    .colab-df-convert {\n",
              "      background-color: #E8F0FE;\n",
              "      border: none;\n",
              "      border-radius: 50%;\n",
              "      cursor: pointer;\n",
              "      display: none;\n",
              "      fill: #1967D2;\n",
              "      height: 32px;\n",
              "      padding: 0 0 0 0;\n",
              "      width: 32px;\n",
              "    }\n",
              "\n",
              "    .colab-df-convert:hover {\n",
              "      background-color: #E2EBFA;\n",
              "      box-shadow: 0px 1px 2px rgba(60, 64, 67, 0.3), 0px 1px 3px 1px rgba(60, 64, 67, 0.15);\n",
              "      fill: #174EA6;\n",
              "    }\n",
              "\n",
              "    [theme=dark] .colab-df-convert {\n",
              "      background-color: #3B4455;\n",
              "      fill: #D2E3FC;\n",
              "    }\n",
              "\n",
              "    [theme=dark] .colab-df-convert:hover {\n",
              "      background-color: #434B5C;\n",
              "      box-shadow: 0px 1px 3px 1px rgba(0, 0, 0, 0.15);\n",
              "      filter: drop-shadow(0px 1px 2px rgba(0, 0, 0, 0.3));\n",
              "      fill: #FFFFFF;\n",
              "    }\n",
              "  </style>\n",
              "\n",
              "      <script>\n",
              "        const buttonEl =\n",
              "          document.querySelector('#df-c696d16f-ef2c-41c0-9ba8-b3000bbb2826 button.colab-df-convert');\n",
              "        buttonEl.style.display =\n",
              "          google.colab.kernel.accessAllowed ? 'block' : 'none';\n",
              "\n",
              "        async function convertToInteractive(key) {\n",
              "          const element = document.querySelector('#df-c696d16f-ef2c-41c0-9ba8-b3000bbb2826');\n",
              "          const dataTable =\n",
              "            await google.colab.kernel.invokeFunction('convertToInteractive',\n",
              "                                                     [key], {});\n",
              "          if (!dataTable) return;\n",
              "\n",
              "          const docLinkHtml = 'Like what you see? Visit the ' +\n",
              "            '<a target=\"_blank\" href=https://colab.research.google.com/notebooks/data_table.ipynb>data table notebook</a>'\n",
              "            + ' to learn more about interactive tables.';\n",
              "          element.innerHTML = '';\n",
              "          dataTable['output_type'] = 'display_data';\n",
              "          await google.colab.output.renderOutput(dataTable, element);\n",
              "          const docLink = document.createElement('div');\n",
              "          docLink.innerHTML = docLinkHtml;\n",
              "          element.appendChild(docLink);\n",
              "        }\n",
              "      </script>\n",
              "    </div>\n",
              "  </div>\n",
              "  "
            ]
          },
          "metadata": {},
          "execution_count": 19
        }
      ]
    },
    {
      "cell_type": "code",
      "execution_count": 21,
      "metadata": {
        "id": "MdBJPs4QqCW8",
        "colab": {
          "base_uri": "https://localhost:8080/",
          "height": 1000
        },
        "outputId": "f09fc211-b578-4bdc-ef80-69cb1de0df08"
      },
      "outputs": [
        {
          "output_type": "execute_result",
          "data": {
            "text/plain": [
              "Text(42.0821875, 0.5, 'Portion of people strip searched')"
            ]
          },
          "metadata": {},
          "execution_count": 21
        },
        {
          "output_type": "display_data",
          "data": {
            "text/plain": [
              "<Figure size 360x360 with 1 Axes>"
            ],
            "image/png": "[encoded data removed]"
          },
          "metadata": {
            "needs_background": "light"
          }
        },
        {
          "output_type": "display_data",
          "data": {
            "text/plain": [
              "<Figure size 404.625x360 with 1 Axes>"
            ],
            "image/png": "[encoded data removed]"
          },
          "metadata": {
            "needs_background": "light"
          }
        },
        {
          "output_type": "display_data",
          "data": {
            "text/plain": [
              "<Figure size 501.75x360 with 1 Axes>"
            ],
            "image/png": "[encoded data removed]"
          },
          "metadata": {
            "needs_background": "light"
          }
        },
        {
          "output_type": "display_data",
          "data": {
            "text/plain": [
              "<Figure size 501.75x360 with 1 Axes>"
            ],
            "image/png": "[encoded data removed]"
          },
          "metadata": {
            "needs_background": "light"
          }
        }
      ],
      "source": [
        "# Barplot of number of arrests between different races, grouped by sex\n",
        "#sns.catplot(data = df, y = 'Perceived_Race', kind = 'count', hue = 'Sex')\n",
        "#plt.title('Barplot displaying number of arrests for each perceived race')\n",
        "#plt.xlabel('Number of arrests')\n",
        "\n",
        "# Boxplot of number of stripsearch between races\n",
        "sns.catplot(data=data, y = \"Race\", x = \"StripSearch\", kind=\"box\")\n",
        "plt.xlim(0, 350)\n",
        "plt.title('Boxplot displaying number of stripsearch for each perceived race')\n",
        "plt.ylabel('Perceived Race')\n",
        "\n",
        "# Boxplot of number of stripsearch between age groups\n",
        "sns.catplot(data=data, y = \"AgeGroup\", x = \"StripSearch\", hue = 'Sex', kind=\"box\")\n",
        "plt.xlim(0, 160)\n",
        "plt.title('Boxplot displaying number of stripsearch for each age group')\n",
        "plt.ylabel('Age Group')\n",
        "\n",
        "# Barplot of number of arrests in each quarter\n",
        "#sns.catplot(data = df, y = 'Arrest_Month', kind = 'count')\n",
        "#plt.title('Barplot displaying number of arrests in each quarter')\n",
        "#plt.xlabel('Number of arrests')\n",
        "#plt.ylabel('Quarters of the year')\n",
        "\n",
        "# Pointplot of percentage of people strip searched\n",
        "sns.catplot(data = df, x = 'Sex', y = 'StripSearch', kind = 'point',\n",
        "            hue = 'Perceived_Race')\n",
        "plt.title('Pointplot displaying portion of people strip searched')\n",
        "plt.xlabel('Sex')\n",
        "plt.ylabel('Portion of people strip searched')\n",
        "\n",
        "# Pointplot of percentage of people strip searched\n",
        "sns.catplot(data = df, x = 'Arrest_Year', y = 'StripSearch', kind = 'point',\n",
        "            hue = 'Perceived_Race')\n",
        "plt.title('Pointplot displaying portion of people strip searched')\n",
        "plt.xlabel('Arrest Year')\n",
        "plt.ylabel('Portion of people strip searched')\n",
        "\n",
        "# Barplot of number of arrests in different age group\n",
        "#sns.catplot(data = df, y = 'Age_group__at_arrest_', kind = 'count')\n",
        "#plt.title('Barplot displaying number of arrests in different age group')\n",
        "#plt.xlabel('Number of arrests')\n",
        "#plt.ylabel('Age Group')"
      ]
    },
    {
      "cell_type": "code",
      "source": [
        "# Barplot of number of stripsearch between races\n",
        "sns.catplot(data= df[df['StripSearch']==1], y = \"Perceived_Race\", kind=\"count\")\n",
        "plt.title('Barplot displaying number of stripsearch for each perceived race')\n",
        "plt.ylabel('Perceived Race')"
      ],
      "metadata": {
        "colab": {
          "base_uri": "https://localhost:8080/",
          "height": 402
        },
        "id": "AI7SBrGWiXxn",
        "outputId": "d6a0bc6e-0753-4cba-cee2-5f786d7ffb6e"
      },
      "execution_count": 16,
      "outputs": [
        {
          "output_type": "execute_result",
          "data": {
            "text/plain": [
              "Text(-83.075, 0.5, 'Perceived Race')"
            ]
          },
          "metadata": {},
          "execution_count": 16
        },
        {
          "output_type": "display_data",
          "data": {
            "text/plain": [
              "<Figure size 360x360 with 1 Axes>"
            ],
            "image/png": "[encoded data removed]"
          },
          "metadata": {
            "needs_background": "light"
          }
        }
      ]
    },
    {
      "cell_type": "markdown",
      "source": [],
      "metadata": {
        "id": "SESMwAd2iXu4"
      }
    },
    {
      "cell_type": "markdown",
      "source": [
        "T-Test"
      ],
      "metadata": {
        "id": "OCygBTI3GK7C"
      }
    },
    {
      "cell_type": "code",
      "source": [
        "# t-test for number of strip searched among different gender\n",
        "m = data[data['Sex'] == 'M']['StripSearch']\n",
        "f = data[data['Sex'] == 'F']['StripSearch']\n",
        "stats.ttest_ind(a=m, b=f, equal_var=True)"
      ],
      "metadata": {
        "id": "8xAFc-Be-ln1",
        "colab": {
          "base_uri": "https://localhost:8080/"
        },
        "outputId": "cdbbdc2f-f35c-4486-bb8a-5e2a6df65b21"
      },
      "execution_count": null,
      "outputs": [
        {
          "output_type": "execute_result",
          "data": {
            "text/plain": [
              "Ttest_indResult(statistic=3.291611631656379, pvalue=0.0011587995017533778)"
            ]
          },
          "metadata": {},
          "execution_count": 41
        }
      ]
    },
    {
      "cell_type": "code",
      "source": [
        "# t-test for number of arrests among different gender\n",
        "m = data[data['Sex'] == 'M']['Arrest']\n",
        "f = data[data['Sex'] == 'F']['Arrest']\n",
        "stats.ttest_ind(a=m, b=f, equal_var=True)"
      ],
      "metadata": {
        "id": "GYEryCEVP_ci",
        "colab": {
          "base_uri": "https://localhost:8080/"
        },
        "outputId": "6aacb395-d2c0-4c9e-ae76-8f5a6129546f"
      },
      "execution_count": null,
      "outputs": [
        {
          "output_type": "execute_result",
          "data": {
            "text/plain": [
              "Ttest_indResult(statistic=5.13360490086564, pvalue=6.203746418421583e-07)"
            ]
          },
          "metadata": {},
          "execution_count": 42
        }
      ]
    },
    {
      "cell_type": "code",
      "source": [
        "# t-test for number of strip searched betweem 2020 and 2021\n",
        "year20 = data[data['Year'] == 2020]['StripSearch']\n",
        "year21 = data[data['Year'] == 2021]['StripSearch']\n",
        "stats.ttest_ind(a=year20, b=year21, equal_var=True)"
      ],
      "metadata": {
        "colab": {
          "base_uri": "https://localhost:8080/"
        },
        "id": "yzQZ3lCIW3FS",
        "outputId": "847e2958-fd3d-438d-abe8-a178203ac080"
      },
      "execution_count": null,
      "outputs": [
        {
          "output_type": "execute_result",
          "data": {
            "text/plain": [
              "Ttest_indResult(statistic=4.093600424660075, pvalue=5.9481106288335435e-05)"
            ]
          },
          "metadata": {},
          "execution_count": 43
        }
      ]
    },
    {
      "cell_type": "code",
      "source": [
        "# t-test for number of arrests betweem 2020 and 2021\n",
        "year20 = data[data['Year'] == 2020]['Arrest']\n",
        "year21 = data[data['Year'] == 2021]['Arrest']\n",
        "stats.ttest_ind(a=year20, b=year21, equal_var=True)"
      ],
      "metadata": {
        "id": "cYclgZbh36im",
        "colab": {
          "base_uri": "https://localhost:8080/"
        },
        "outputId": "7e70acc4-7918-4e50-c3df-86761634778f"
      },
      "execution_count": null,
      "outputs": [
        {
          "output_type": "execute_result",
          "data": {
            "text/plain": [
              "Ttest_indResult(statistic=-0.15996450303340357, pvalue=0.8730544876686925)"
            ]
          },
          "metadata": {},
          "execution_count": 44
        }
      ]
    },
    {
      "cell_type": "code",
      "source": [
        "# t-test for number of strip searched among different youth\n",
        "youth = data[data['Youth'] == 'Youth']['StripSearch']\n",
        "notYouth = data[data['Youth'] == 'Not a youth']['StripSearch']\n",
        "stats.ttest_ind(a=youth, b=notYouth, equal_var=True)"
      ],
      "metadata": {
        "colab": {
          "base_uri": "https://localhost:8080/"
        },
        "id": "Z5gda6ckxoKD",
        "outputId": "827e7316-3947-4f34-9ef8-3d25a3750498"
      },
      "execution_count": null,
      "outputs": [
        {
          "output_type": "execute_result",
          "data": {
            "text/plain": [
              "Ttest_indResult(statistic=-1.4711995430314846, pvalue=0.14265320107492713)"
            ]
          },
          "metadata": {},
          "execution_count": 45
        }
      ]
    },
    {
      "cell_type": "code",
      "source": [
        "# t-test for number of arrests among different youth\n",
        "youth = data[data['Youth'] == 'Youth']['Arrest']\n",
        "notYouth = data[data['Youth'] == 'Not a youth']['Arrest']\n",
        "stats.ttest_ind(a=youth, b=notYouth, equal_var=True)"
      ],
      "metadata": {
        "colab": {
          "base_uri": "https://localhost:8080/"
        },
        "id": "jitg2Yx14jIQ",
        "outputId": "856c262c-f016-4ee4-a4ce-1443da324f19"
      },
      "execution_count": null,
      "outputs": [
        {
          "output_type": "execute_result",
          "data": {
            "text/plain": [
              "Ttest_indResult(statistic=-2.1992148890862286, pvalue=0.028894814979940328)"
            ]
          },
          "metadata": {},
          "execution_count": 46
        }
      ]
    },
    {
      "cell_type": "code",
      "source": [
        "# t-test for number of strip searched among Black and non Black\n",
        "blackUnknown = data.loc[data['Race'].isin(['Black', 'Unknown or Legacy'])]['StripSearch']\n",
        "nonBlack = data.loc[data['Race'].isin(['South Asian', 'Latino','White','Indigenous','Middle-Eastern','East/Southeast Asian'])]['StripSearch']\n",
        "stats.ttest_ind(a=blackUnknown, b=nonBlack, equal_var=True)"
      ],
      "metadata": {
        "id": "ZYL5IJjYybxv",
        "colab": {
          "base_uri": "https://localhost:8080/"
        },
        "outputId": "81480c58-ff09-4b19-9655-b24ae400725e"
      },
      "execution_count": null,
      "outputs": [
        {
          "output_type": "execute_result",
          "data": {
            "text/plain": [
              "Ttest_indResult(statistic=1.45339427851965, pvalue=0.14752644059038528)"
            ]
          },
          "metadata": {},
          "execution_count": 47
        }
      ]
    },
    {
      "cell_type": "markdown",
      "metadata": {
        "id": "k82uGAuj6ixk"
      },
      "source": [
        "ANOVA"
      ]
    },
    {
      "cell_type": "code",
      "source": [
        "# One-way ANOVA for race\n",
        "model = ols('StripSearch ~ C(Race)', data=data).fit()\n",
        "anova_table = sm.stats.anova_lm(model, typ=2)\n",
        "anova_table"
      ],
      "metadata": {
        "id": "phSzP44CYBY1"
      },
      "execution_count": null,
      "outputs": []
    },
    {
      "cell_type": "code",
      "source": [
        "# Tukey's test\n",
        "score = list(data[data['Race'] == 'South Asian']['StripSearch']) + \\\n",
        "list(data[data['Race'] == 'Latino']['StripSearch']) + \\\n",
        "list(data[data['Race'] == 'Unknown or Legacy']['StripSearch']) + \\\n",
        "list(data[data['Race'] == 'Black']['StripSearch']) + \\\n",
        "list(data[data['Race'] == 'White']['StripSearch']) + \\\n",
        "list(data[data['Race'] == 'Indigenous']['StripSearch']) + \\\n",
        "list(data[data['Race'] == 'Middle-Eastern']['StripSearch']) + \\\n",
        "list(data[data['Race'] == 'East/Southeast Asian']['StripSearch'])\n",
        "\n",
        "group = ['South Asian', 'Latino', 'Unknown or Legacy', 'Black', 'White',\\\n",
        "         'Indigenous', 'Middle-Eastern', 'East.Southeast Asian']\n",
        "\n",
        "df = pd.DataFrame({'score': score,\n",
        "                   'group': np.repeat(group, repeats = 28)})\n",
        "\n",
        "# Perform Tukey's test\n",
        "tukey = pairwise_tukeyhsd(endog = df['score'],\n",
        "                          groups = df['group'],\n",
        "                          alpha=0.05)\n",
        "\n",
        "# Display results\n",
        "print(tukey)"
      ],
      "metadata": {
        "id": "ec5AYY1979oy"
      },
      "execution_count": null,
      "outputs": []
    },
    {
      "cell_type": "code",
      "source": [
        "# Two-way ANOVA for Sex and AgeGroup\n",
        "model = ols('StripSearch ~ C(Sex) + C(AgeGroup) + C(Sex):C(AgeGroup)', data=data).fit()\n",
        "sm.stats.anova_lm(model, typ=2)"
      ],
      "metadata": {
        "id": "SIG_H1w058zc"
      },
      "execution_count": null,
      "outputs": []
    },
    {
      "cell_type": "code",
      "source": [
        "# Plot interaction\n",
        "fig = interaction_plot(x = data['AgeGroup'], trace = data['Sex'],\n",
        "                       response = data['StripSearch'])\n",
        "plt.xticks(rotation=45, ha='right')\n",
        "plt.xlabel('Age Group')\n",
        "plt.show()"
      ],
      "metadata": {
        "id": "Z-G5epj9YUtv"
      },
      "execution_count": null,
      "outputs": []
    },
    {
      "cell_type": "markdown",
      "source": [
        "Power Analysis"
      ],
      "metadata": {
        "id": "EYjzaKXrLga5"
      }
    },
    {
      "cell_type": "code",
      "source": [
        "# Code for Cohen's D \n",
        "\n",
        "# Function to calculate the pooled standard deviation of 2 samples\n",
        "def pooled_standard_deviation(sample1,sample2):\n",
        "    #calculate the sample size\n",
        "    n1, n2 = len(sample1), len(sample2)\n",
        "    #calculate the variances\n",
        "    var1, var2 = np.var(sample1, ddof=1), np.var(sample2, ddof=1)\n",
        "    #calculate the pooled standard deviation\n",
        "    numerator = ((n1-1) * var1) + ((n2-1) * var2)\n",
        "    denominator = n1+n2-2\n",
        "    return np.sqrt(numerator/denominator)\n",
        "\n",
        "# function to calculate Cohen's d for independent samples\n",
        "def Cohens_d(sample1, sample2):\n",
        "    u1, u2 = np.mean(sample1), np.mean(sample2)\n",
        "    s_pooled = pooled_standard_deviation(sample1, sample2)\n",
        "    #print(s_pooled)\n",
        "    return ((u1 - u2) / s_pooled)\n",
        "\n",
        "# Create two different datasets\n",
        "black = df[df['Perceived_Race']=='Black']\n",
        "other = df[df['Perceived_Race']!='Black']\n",
        "\n",
        "black_ss = black['StripSearch']\n",
        "other_ss = other['StripSearch']\n",
        "\n",
        "# Conduct power analysis\n",
        "effect_size = Cohens_d(black_ss, other_ss)\n",
        "alpha = 0.05\n",
        "power = 0.8\n",
        "ratio_ =len(black_ss)/len(other_ss) # NB: ratio = nobs2/nobs1\n",
        "print('Effect size (Cohen\\'s D) for stripsearch:',effect_size)\n",
        "\n",
        "# Prior to computing a t-test to analyze whether stripsearch (outcome variable)\n",
        "# differed between black people and other perceived races (two-level explanatory\n",
        "# variable), we calculated the effect size of the explanatory variable using\n",
        "# Cohen's D metric, which was 0.08.\n",
        "\n",
        "analysis = TTestIndPower()\n",
        "sample_size = analysis.solve_power(effect_size, power=power, nobs1=None, ratio=ratio_, alpha=alpha)\n",
        "print('Sample Size of nobs1: %.3f' % sample_size, 'needed for other_ss') \n",
        "print('Actual size of other_ss:', len(other_ss))\n",
        "nobs2 =ratio_*sample_size\n",
        "print('Sample Size of nobs2: %.3f' % nobs2, 'needed for black_ss')\n",
        "print('Actual size of black_ss:', len(black_ss))\n",
        "\n",
        "# After obtaining the effect size, the required sample size was computed using\n",
        "# the obtained effect size and establishing the statistical power at 80%. The\n",
        "# results indicated that a sample size of 1610 was required for black people,\n",
        "# while a sample size of 4385 was required for all other races combined. This\n",
        "# study has more power than what was originally calculated because the\n",
        "# sample size provided in the dataset are 17526 and 47737 respectively.\n",
        "\n",
        "# Plot power curve\n",
        "effect_sizes = np.array([0.2, 0.5, 0.8])\n",
        "sample_sizes = np.array(range(5, 100))\n",
        "analysis.plot_power(dep_var='nobs', nobs=sample_sizes, effect_size=effect_sizes)\n",
        "plt.show()"
      ],
      "metadata": {
        "id": "R3xsJd4cLixY",
        "colab": {
          "base_uri": "https://localhost:8080/",
          "height": 382
        },
        "outputId": "b45f9ec7-75fc-45bb-b4db-9290859c7b35"
      },
      "execution_count": 17,
      "outputs": [
        {
          "output_type": "stream",
          "name": "stdout",
          "text": [
            "Effect size (Cohen's D) for stripsearch: 0.08165576200036011\n",
            "Sample Size of nobs1: 4384.867 needed for other_ss\n",
            "Actual size of other_ss: 47737\n",
            "Sample Size of nobs2: 1609.845 needed for black_ss\n",
            "Actual size of black_ss: 17526\n"
          ]
        },
        {
          "output_type": "display_data",
          "data": {
            "text/plain": [
              "<Figure size 432x288 with 1 Axes>"
            ],
            "image/png": "[encoded data removed]"
          },
          "metadata": {
            "needs_background": "light"
          }
        }
      ]
    },
    {
      "cell_type": "markdown",
      "source": [
        "ANCOVA"
      ],
      "metadata": {
        "id": "wOLAelzcUUeO"
      }
    },
    {
      "cell_type": "code",
      "source": [
        "data.head()\n",
        "\n",
        "# Compute ANCOVA\n",
        "\n",
        "# The null hypothesis for this example:\n",
        "# Individuals from all races have equal propability to be stripsearched upon\n",
        "# arrest on average after accounting for the year.\n",
        "ancova(data=data, dv='Prop_StripSearch', covar='Year', between='Race')\n",
        "\n",
        "# Interpretation p-unc = “uncorrected p-value” for Race is less than 0.05. Thus,\n",
        "# we reject the null hypothesis that each race results in the same probability\n",
        "# to be stripsearched, even after controlling for the year of the arrest.\n",
        "\n",
        "# We hypothesized that the perceived race would be able to predict the chance of\n",
        "# being stripsearched upon arrests. From our results, we observed that there is\n",
        "# statistically significant relationship between perceived race and proportion\n",
        "# of arrests that were stripsearched when controlling for the year. This raises\n",
        "# interesting insights as it suggests that a person's perceived race may be\n",
        "# influencing whether he/she is stripsearched upon arrests."
      ],
      "metadata": {
        "colab": {
          "base_uri": "https://localhost:8080/",
          "height": 143
        },
        "id": "-fiVyCRhUUE2",
        "outputId": "acc11fbe-3665-41b6-d46a-e50980e4e0ba"
      },
      "execution_count": null,
      "outputs": [
        {
          "output_type": "execute_result",
          "data": {
            "text/plain": [
              "     Source        SS   DF           F         p-unc       np2\n",
              "0      Race  0.140413    7    4.489695  1.095496e-04  0.128053\n",
              "1      Year  1.035149    1  231.691604  6.081872e-36  0.519847\n",
              "2  Residual  0.956106  214         NaN           NaN       NaN"
            ],
            "text/html": [
              "\n",
              "  <div id=\"df-9015418c-b3d1-40e0-ba23-77b1f30ced08\">\n",
              "    <div class=\"colab-df-container\">\n",
              "      <div>\n",
              "<style scoped>\n",
              "    .dataframe tbody tr th:only-of-type {\n",
              "        vertical-align: middle;\n",
              "    }\n",
              "\n",
              "    .dataframe tbody tr th {\n",
              "        vertical-align: top;\n",
              "    }\n",
              "\n",
              "    .dataframe thead th {\n",
              "        text-align: right;\n",
              "    }\n",
              "</style>\n",
              "<table border=\"1\" class=\"dataframe\">\n",
              "  <thead>\n",
              "    <tr style=\"text-align: right;\">\n",
              "      <th></th>\n",
              "      <th>Source</th>\n",
              "      <th>SS</th>\n",
              "      <th>DF</th>\n",
              "      <th>F</th>\n",
              "      <th>p-unc</th>\n",
              "      <th>np2</th>\n",
              "    </tr>\n",
              "  </thead>\n",
              "  <tbody>\n",
              "    <tr>\n",
              "      <th>0</th>\n",
              "      <td>Race</td>\n",
              "      <td>0.140413</td>\n",
              "      <td>7</td>\n",
              "      <td>4.489695</td>\n",
              "      <td>1.095496e-04</td>\n",
              "      <td>0.128053</td>\n",
              "    </tr>\n",
              "    <tr>\n",
              "      <th>1</th>\n",
              "      <td>Year</td>\n",
              "      <td>1.035149</td>\n",
              "      <td>1</td>\n",
              "      <td>231.691604</td>\n",
              "      <td>6.081872e-36</td>\n",
              "      <td>0.519847</td>\n",
              "    </tr>\n",
              "    <tr>\n",
              "      <th>2</th>\n",
              "      <td>Residual</td>\n",
              "      <td>0.956106</td>\n",
              "      <td>214</td>\n",
              "      <td>NaN</td>\n",
              "      <td>NaN</td>\n",
              "      <td>NaN</td>\n",
              "    </tr>\n",
              "  </tbody>\n",
              "</table>\n",
              "</div>\n",
              "      <button class=\"colab-df-convert\" onclick=\"convertToInteractive('df-9015418c-b3d1-40e0-ba23-77b1f30ced08')\"\n",
              "              title=\"Convert this dataframe to an interactive table.\"\n",
              "              style=\"display:none;\">\n",
              "        \n",
              "  <svg xmlns=\"http://www.w3.org/2000/svg\" height=\"24px\"viewBox=\"0 0 24 24\"\n",
              "       width=\"24px\">\n",
              "    <path d=\"M0 0h24v24H0V0z\" fill=\"none\"/>\n",
              "    <path d=\"M18.56 5.44l.94 2.06.94-2.06 2.06-.94-2.06-.94-.94-2.06-.94 2.06-2.06.94zm-11 1L8.5 8.5l.94-2.06 2.06-.94-2.06-.94L8.5 2.5l-.94 2.06-2.06.94zm10 10l.94 2.06.94-2.06 2.06-.94-2.06-.94-.94-2.06-.94 2.06-2.06.94z\"/><path d=\"M17.41 7.96l-1.37-1.37c-.4-.4-.92-.59-1.43-.59-.52 0-1.04.2-1.43.59L10.3 9.45l-7.72 7.72c-.78.78-.78 2.05 0 2.83L4 21.41c.39.39.9.59 1.41.59.51 0 1.02-.2 1.41-.59l7.78-7.78 2.81-2.81c.8-.78.8-2.07 0-2.86zM5.41 20L4 18.59l7.72-7.72 1.47 1.35L5.41 20z\"/>\n",
              "  </svg>\n",
              "      </button>\n",
              "      \n",
              "  <style>\n",
              "    .colab-df-container {\n",
              "      display:flex;\n",
              "      flex-wrap:wrap;\n",
              "      gap: 12px;\n",
              "    }\n",
              "\n",
              "    .colab-df-convert {\n",
              "      background-color: #E8F0FE;\n",
              "      border: none;\n",
              "      border-radius: 50%;\n",
              "      cursor: pointer;\n",
              "      display: none;\n",
              "      fill: #1967D2;\n",
              "      height: 32px;\n",
              "      padding: 0 0 0 0;\n",
              "      width: 32px;\n",
              "    }\n",
              "\n",
              "    .colab-df-convert:hover {\n",
              "      background-color: #E2EBFA;\n",
              "      box-shadow: 0px 1px 2px rgba(60, 64, 67, 0.3), 0px 1px 3px 1px rgba(60, 64, 67, 0.15);\n",
              "      fill: #174EA6;\n",
              "    }\n",
              "\n",
              "    [theme=dark] .colab-df-convert {\n",
              "      background-color: #3B4455;\n",
              "      fill: #D2E3FC;\n",
              "    }\n",
              "\n",
              "    [theme=dark] .colab-df-convert:hover {\n",
              "      background-color: #434B5C;\n",
              "      box-shadow: 0px 1px 3px 1px rgba(0, 0, 0, 0.15);\n",
              "      filter: drop-shadow(0px 1px 2px rgba(0, 0, 0, 0.3));\n",
              "      fill: #FFFFFF;\n",
              "    }\n",
              "  </style>\n",
              "\n",
              "      <script>\n",
              "        const buttonEl =\n",
              "          document.querySelector('#df-9015418c-b3d1-40e0-ba23-77b1f30ced08 button.colab-df-convert');\n",
              "        buttonEl.style.display =\n",
              "          google.colab.kernel.accessAllowed ? 'block' : 'none';\n",
              "\n",
              "        async function convertToInteractive(key) {\n",
              "          const element = document.querySelector('#df-9015418c-b3d1-40e0-ba23-77b1f30ced08');\n",
              "          const dataTable =\n",
              "            await google.colab.kernel.invokeFunction('convertToInteractive',\n",
              "                                                     [key], {});\n",
              "          if (!dataTable) return;\n",
              "\n",
              "          const docLinkHtml = 'Like what you see? Visit the ' +\n",
              "            '<a target=\"_blank\" href=https://colab.research.google.com/notebooks/data_table.ipynb>data table notebook</a>'\n",
              "            + ' to learn more about interactive tables.';\n",
              "          element.innerHTML = '';\n",
              "          dataTable['output_type'] = 'display_data';\n",
              "          await google.colab.output.renderOutput(dataTable, element);\n",
              "          const docLink = document.createElement('div');\n",
              "          docLink.innerHTML = docLinkHtml;\n",
              "          element.appendChild(docLink);\n",
              "        }\n",
              "      </script>\n",
              "    </div>\n",
              "  </div>\n",
              "  "
            ]
          },
          "metadata": {},
          "execution_count": 69
        }
      ]
    },
    {
      "cell_type": "markdown",
      "source": [
        "Logistic Regression"
      ],
      "metadata": {
        "id": "9_qUioTTUXcg"
      }
    },
    {
      "cell_type": "code",
      "source": [
        "data['HigherSSProp'] = data['Prop_StripSearch'] > data['Prop_StripSearch'].mean()\n",
        "data.head()\n",
        "df_log = data[['Year', 'Sex', 'HigherSSProp']]\n",
        "# Convert categorical variables to numeric using one-hot encoding\n",
        "df_log = pd.get_dummies(df_log, columns=['Sex'])\n",
        "df_log.head()\n",
        "# Isolate columns of interest\n",
        "X = df_log.drop(['HigherSSProp', 'Sex_F'], axis=1)\n",
        "y = df_log['HigherSSProp']\n",
        "# Split training and testing set\n",
        "X_train, X_test, y_train, y_test = train_test_split(X, y, test_size=0.2, random_state=34)\n",
        "# Apply logistic model\n",
        "model = LogisticRegression(max_iter=1000)\n",
        "model.fit(X_train, y_train)\n",
        "y_pred = model.predict(X_test)\n",
        "print(\"Accuracy score:\", accuracy_score(y_test, y_pred))\n",
        "print(\"Confusion matrix:\\n\", confusion_matrix(y_test, y_pred))\n",
        "# Print the coefficients\n",
        "logit_model=sm.Logit(y_train, X_train)\n",
        "result=logit_model.fit()\n",
        "print(result.summary2())"
      ],
      "metadata": {
        "id": "4NMQ1N8zjmma"
      },
      "execution_count": null,
      "outputs": []
    }
  ],
  "metadata": {
    "colab": {
      "provenance": []
    },
    "kernelspec": {
      "display_name": "Python 3",
      "name": "python3"
    },
    "language_info": {
      "name": "python"
    }
  },
  "nbformat": 4,
  "nbformat_minor": 0
}