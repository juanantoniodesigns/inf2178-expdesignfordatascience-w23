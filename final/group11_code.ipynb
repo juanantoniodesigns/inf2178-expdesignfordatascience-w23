{
  "nbformat": 4,
  "nbformat_minor": 0,
  "metadata": {
    "colab": {
      "provenance": []
    },
    "kernelspec": {
      "name": "python3",
      "display_name": "Python 3"
    },
    "language_info": {
      "name": "python"
    }
  },
  "cells": [
    {
      "cell_type": "markdown",
      "source": [
        "## Data Analysis on Arrests and Strip Searches\n",
        "### Link: https://colab.research.google.com/drive/1w04ei9yXOqbifmhVXmg8lrQH06nxb33e?usp=sharing"
      ],
      "metadata": {
        "id": "9DEa7MpHrVBs"
      }
    },
    {
      "cell_type": "code",
      "source": [
        "# import packages\n",
        "import pandas as pd\n",
        "import numpy as np\n",
        "import seaborn as sns\n",
        "import statsmodels.api as sm\n",
        "import matplotlib.pyplot as plt\n",
        "from scipy import stats\n",
        "import statsmodels.formula.api as smf\n",
        "from statsmodels.stats.diagnostic import het_breuschpagan\n",
        "from statsmodels.stats.outliers_influence import variance_inflation_factor\n",
        "import statsmodels.stats.power as smp\n",
        "import statsmodels.api as sm\n",
        "from statsmodels.iolib.summary2 import summary_col\n",
        "from tabulate import tabulate\n",
        "from sklearn.linear_model import LogisticRegressionCV\n",
        "from sklearn.metrics import classification_report, confusion_matrix\n",
        "from sklearn.model_selection import train_test_split\n",
        "import warnings\n",
        "warnings.filterwarnings('ignore')\n",
        "from sklearn.linear_model import LogisticRegression\n",
        "from sklearn.model_selection import train_test_split\n",
        "\n"
      ],
      "metadata": {
        "id": "LmclJtSZXEdC"
      },
      "execution_count": 203,
      "outputs": []
    },
    {
      "cell_type": "code",
      "execution_count": 204,
      "metadata": {
        "id": "cIBqHNbhVAQu",
        "colab": {
          "base_uri": "https://localhost:8080/",
          "height": 110
        },
        "outputId": "ee3745a4-84ef-4d5d-f6c2-e3e92e7776cb"
      },
      "outputs": [
        {
          "output_type": "display_data",
          "data": {
            "text/plain": [
              "<IPython.core.display.HTML object>"
            ],
            "text/html": [
              "\n",
              "     <input type=\"file\" id=\"files-abcb44cb-f3ad-434c-8050-e66c0fc65b1c\" name=\"files[]\" multiple disabled\n",
              "        style=\"border:none\" />\n",
              "     <output id=\"result-abcb44cb-f3ad-434c-8050-e66c0fc65b1c\">\n",
              "      Upload widget is only available when the cell has been executed in the\n",
              "      current browser session. Please rerun this cell to enable.\n",
              "      </output>\n",
              "      <script>// Copyright 2017 Google LLC\n",
              "//\n",
              "// Licensed under the Apache License, Version 2.0 (the \"License\");\n",
              "// you may not use this file except in compliance with the License.\n",
              "// You may obtain a copy of the License at\n",
              "//\n",
              "//      http://www.apache.org/licenses/LICENSE-2.0\n",
              "//\n",
              "// Unless required by applicable law or agreed to in writing, software\n",
              "// distributed under the License is distributed on an \"AS IS\" BASIS,\n",
              "// WITHOUT WARRANTIES OR CONDITIONS OF ANY KIND, either express or implied.\n",
              "// See the License for the specific language governing permissions and\n",
              "// limitations under the License.\n",
              "\n",
              "/**\n",
              " * @fileoverview Helpers for google.colab Python module.\n",
              " */\n",
              "(function(scope) {\n",
              "function span(text, styleAttributes = {}) {\n",
              "  const element = document.createElement('span');\n",
              "  element.textContent = text;\n",
              "  for (const key of Object.keys(styleAttributes)) {\n",
              "    element.style[key] = styleAttributes[key];\n",
              "  }\n",
              "  return element;\n",
              "}\n",
              "\n",
              "// Max number of bytes which will be uploaded at a time.\n",
              "const MAX_PAYLOAD_SIZE = 100 * 1024;\n",
              "\n",
              "function _uploadFiles(inputId, outputId) {\n",
              "  const steps = uploadFilesStep(inputId, outputId);\n",
              "  const outputElement = document.getElementById(outputId);\n",
              "  // Cache steps on the outputElement to make it available for the next call\n",
              "  // to uploadFilesContinue from Python.\n",
              "  outputElement.steps = steps;\n",
              "\n",
              "  return _uploadFilesContinue(outputId);\n",
              "}\n",
              "\n",
              "// This is roughly an async generator (not supported in the browser yet),\n",
              "// where there are multiple asynchronous steps and the Python side is going\n",
              "// to poll for completion of each step.\n",
              "// This uses a Promise to block the python side on completion of each step,\n",
              "// then passes the result of the previous step as the input to the next step.\n",
              "function _uploadFilesContinue(outputId) {\n",
              "  const outputElement = document.getElementById(outputId);\n",
              "  const steps = outputElement.steps;\n",
              "\n",
              "  const next = steps.next(outputElement.lastPromiseValue);\n",
              "  return Promise.resolve(next.value.promise).then((value) => {\n",
              "    // Cache the last promise value to make it available to the next\n",
              "    // step of the generator.\n",
              "    outputElement.lastPromiseValue = value;\n",
              "    return next.value.response;\n",
              "  });\n",
              "}\n",
              "\n",
              "/**\n",
              " * Generator function which is called between each async step of the upload\n",
              " * process.\n",
              " * @param {string} inputId Element ID of the input file picker element.\n",
              " * @param {string} outputId Element ID of the output display.\n",
              " * @return {!Iterable<!Object>} Iterable of next steps.\n",
              " */\n",
              "function* uploadFilesStep(inputId, outputId) {\n",
              "  const inputElement = document.getElementById(inputId);\n",
              "  inputElement.disabled = false;\n",
              "\n",
              "  const outputElement = document.getElementById(outputId);\n",
              "  outputElement.innerHTML = '';\n",
              "\n",
              "  const pickedPromise = new Promise((resolve) => {\n",
              "    inputElement.addEventListener('change', (e) => {\n",
              "      resolve(e.target.files);\n",
              "    });\n",
              "  });\n",
              "\n",
              "  const cancel = document.createElement('button');\n",
              "  inputElement.parentElement.appendChild(cancel);\n",
              "  cancel.textContent = 'Cancel upload';\n",
              "  const cancelPromise = new Promise((resolve) => {\n",
              "    cancel.onclick = () => {\n",
              "      resolve(null);\n",
              "    };\n",
              "  });\n",
              "\n",
              "  // Wait for the user to pick the files.\n",
              "  const files = yield {\n",
              "    promise: Promise.race([pickedPromise, cancelPromise]),\n",
              "    response: {\n",
              "      action: 'starting',\n",
              "    }\n",
              "  };\n",
              "\n",
              "  cancel.remove();\n",
              "\n",
              "  // Disable the input element since further picks are not allowed.\n",
              "  inputElement.disabled = true;\n",
              "\n",
              "  if (!files) {\n",
              "    return {\n",
              "      response: {\n",
              "        action: 'complete',\n",
              "      }\n",
              "    };\n",
              "  }\n",
              "\n",
              "  for (const file of files) {\n",
              "    const li = document.createElement('li');\n",
              "    li.append(span(file.name, {fontWeight: 'bold'}));\n",
              "    li.append(span(\n",
              "        `(${file.type || 'n/a'}) - ${file.size} bytes, ` +\n",
              "        `last modified: ${\n",
              "            file.lastModifiedDate ? file.lastModifiedDate.toLocaleDateString() :\n",
              "                                    'n/a'} - `));\n",
              "    const percent = span('0% done');\n",
              "    li.appendChild(percent);\n",
              "\n",
              "    outputElement.appendChild(li);\n",
              "\n",
              "    const fileDataPromise = new Promise((resolve) => {\n",
              "      const reader = new FileReader();\n",
              "      reader.onload = (e) => {\n",
              "        resolve(e.target.result);\n",
              "      };\n",
              "      reader.readAsArrayBuffer(file);\n",
              "    });\n",
              "    // Wait for the data to be ready.\n",
              "    let fileData = yield {\n",
              "      promise: fileDataPromise,\n",
              "      response: {\n",
              "        action: 'continue',\n",
              "      }\n",
              "    };\n",
              "\n",
              "    // Use a chunked sending to avoid message size limits. See b/62115660.\n",
              "    let position = 0;\n",
              "    do {\n",
              "      const length = Math.min(fileData.byteLength - position, MAX_PAYLOAD_SIZE);\n",
              "      const chunk = new Uint8Array(fileData, position, length);\n",
              "      position += length;\n",
              "\n",
              "      const base64 = btoa(String.fromCharCode.apply(null, chunk));\n",
              "      yield {\n",
              "        response: {\n",
              "          action: 'append',\n",
              "          file: file.name,\n",
              "          data: base64,\n",
              "        },\n",
              "      };\n",
              "\n",
              "      let percentDone = fileData.byteLength === 0 ?\n",
              "          100 :\n",
              "          Math.round((position / fileData.byteLength) * 100);\n",
              "      percent.textContent = `${percentDone}% done`;\n",
              "\n",
              "    } while (position < fileData.byteLength);\n",
              "  }\n",
              "\n",
              "  // All done.\n",
              "  yield {\n",
              "    response: {\n",
              "      action: 'complete',\n",
              "    }\n",
              "  };\n",
              "}\n",
              "\n",
              "scope.google = scope.google || {};\n",
              "scope.google.colab = scope.google.colab || {};\n",
              "scope.google.colab._files = {\n",
              "  _uploadFiles,\n",
              "  _uploadFilesContinue,\n",
              "};\n",
              "})(self);\n",
              "</script> "
            ]
          },
          "metadata": {}
        },
        {
          "output_type": "stream",
          "name": "stdout",
          "text": [
            "Saving Arrests_and_Strip_Searches_(RBDC-ARR-TBL-001).csv to Arrests_and_Strip_Searches_(RBDC-ARR-TBL-001) (3).csv\n"
          ]
        }
      ],
      "source": [
        "# import file\n",
        "from google.colab import files\n",
        "uploaded = files.upload()"
      ]
    },
    {
      "cell_type": "markdown",
      "source": [
        "## Data Pre-processing"
      ],
      "metadata": {
        "id": "oyo-KLotrucY"
      }
    },
    {
      "cell_type": "markdown",
      "source": [
        "Data Cleaning"
      ],
      "metadata": {
        "id": "aXzUyMNaWhP5"
      }
    },
    {
      "cell_type": "code",
      "source": [
        "# import the csv file\n",
        "df = pd.read_csv('Arrests_and_Strip_Searches_(RBDC-ARR-TBL-001).csv')\n",
        "nullcols = df.columns[df.isnull().any()]"
      ],
      "metadata": {
        "id": "a3ewfkXXWldK"
      },
      "execution_count": 205,
      "outputs": []
    },
    {
      "cell_type": "code",
      "source": [
        "# check if there any missing values in the dataset\n",
        "for column in df:\n",
        "    print(\"{}\\t\\t\\t\\t{}\".format(column, sum(df[column].isna())))"
      ],
      "metadata": {
        "colab": {
          "base_uri": "https://localhost:8080/"
        },
        "id": "XKoBzo5SWc3-",
        "outputId": "efb9b078-49c8-41b2-d484-8102880aae4c"
      },
      "execution_count": 206,
      "outputs": [
        {
          "output_type": "stream",
          "name": "stdout",
          "text": [
            "Arrest_Year\t\t\t\t0\n",
            "Arrest_Month\t\t\t\t0\n",
            "EventID\t\t\t\t0\n",
            "ArrestID\t\t\t\t469\n",
            "PersonID\t\t\t\t0\n",
            "Perceived_Race\t\t\t\t4\n",
            "Sex\t\t\t\t0\n",
            "Age_group__at_arrest_\t\t\t\t24\n",
            "Youth_at_arrest__under_18_years\t\t\t\t0\n",
            "ArrestLocDiv\t\t\t\t0\n",
            "StripSearch\t\t\t\t0\n",
            "Booked\t\t\t\t0\n",
            "Occurrence_Category\t\t\t\t165\n",
            "Actions_at_arrest___Concealed_i\t\t\t\t0\n",
            "Actions_at_arrest___Combative__\t\t\t\t0\n",
            "Actions_at_arrest___Resisted__d\t\t\t\t0\n",
            "Actions_at_arrest___Mental_inst\t\t\t\t0\n",
            "Actions_at_arrest___Assaulted_o\t\t\t\t0\n",
            "Actions_at_arrest___Cooperative\t\t\t\t0\n",
            "SearchReason_CauseInjury\t\t\t\t57475\n",
            "SearchReason_AssistEscape\t\t\t\t57475\n",
            "SearchReason_PossessWeapons\t\t\t\t57475\n",
            "SearchReason_PossessEvidence\t\t\t\t57475\n",
            "ItemsFound\t\t\t\t57475\n",
            "ObjectId\t\t\t\t0\n"
          ]
        }
      ]
    },
    {
      "cell_type": "code",
      "source": [
        "df.head()"
      ],
      "metadata": {
        "colab": {
          "base_uri": "https://localhost:8080/",
          "height": 317
        },
        "id": "kAlSPr8HWdEf",
        "outputId": "47b8c58f-3195-4369-c4a1-b6921a070d1f"
      },
      "execution_count": 207,
      "outputs": [
        {
          "output_type": "execute_result",
          "data": {
            "text/plain": [
              "   Arrest_Year Arrest_Month  EventID   ArrestID  PersonID     Perceived_Race  \\\n",
              "0         2020    July-Sept  1005907  6017884.0    326622              White   \n",
              "1         2020    July-Sept  1014562  6056669.0    326622              White   \n",
              "2         2020      Oct-Dec  1029922  6057065.0    326622  Unknown or Legacy   \n",
              "3         2021      Jan-Mar  1052190  6029059.0    327535              Black   \n",
              "4         2021      Jan-Mar  1015512  6040372.0    327535        South Asian   \n",
              "\n",
              "  Sex Age_group__at_arrest_ Youth_at_arrest__under_18_years ArrestLocDiv  ...  \\\n",
              "0   M   Aged 35 to 44 years                     Not a youth           54  ...   \n",
              "1   M   Aged 35 to 44 years                     Not a youth           54  ...   \n",
              "2   M   Aged 35 to 44 years                     Not a youth           54  ...   \n",
              "3   M   Aged 25 to 34 years                     Not a youth           XX  ...   \n",
              "4   M   Aged 25 to 34 years                     Not a youth           XX  ...   \n",
              "\n",
              "   Actions_at_arrest___Resisted__d  Actions_at_arrest___Mental_inst  \\\n",
              "0                                0                                0   \n",
              "1                                0                                0   \n",
              "2                                0                                0   \n",
              "3                                0                                0   \n",
              "4                                0                                0   \n",
              "\n",
              "  Actions_at_arrest___Assaulted_o  Actions_at_arrest___Cooperative  \\\n",
              "0                               0                                1   \n",
              "1                               0                                0   \n",
              "2                               0                                0   \n",
              "3                               0                                0   \n",
              "4                               0                                0   \n",
              "\n",
              "   SearchReason_CauseInjury  SearchReason_AssistEscape  \\\n",
              "0                       NaN                        NaN   \n",
              "1                       NaN                        NaN   \n",
              "2                       NaN                        NaN   \n",
              "3                       NaN                        NaN   \n",
              "4                       NaN                        NaN   \n",
              "\n",
              "   SearchReason_PossessWeapons  SearchReason_PossessEvidence  ItemsFound  \\\n",
              "0                          NaN                           NaN         NaN   \n",
              "1                          NaN                           NaN         NaN   \n",
              "2                          NaN                           NaN         NaN   \n",
              "3                          NaN                           NaN         NaN   \n",
              "4                          NaN                           NaN         NaN   \n",
              "\n",
              "   ObjectId  \n",
              "0         1  \n",
              "1         2  \n",
              "2         3  \n",
              "3         4  \n",
              "4         5  \n",
              "\n",
              "[5 rows x 25 columns]"
            ],
            "text/html": [
              "\n",
              "  <div id=\"df-53c65463-7788-4ccf-9ef1-9f3126b2e100\">\n",
              "    <div class=\"colab-df-container\">\n",
              "      <div>\n",
              "<style scoped>\n",
              "    .dataframe tbody tr th:only-of-type {\n",
              "        vertical-align: middle;\n",
              "    }\n",
              "\n",
              "    .dataframe tbody tr th {\n",
              "        vertical-align: top;\n",
              "    }\n",
              "\n",
              "    .dataframe thead th {\n",
              "        text-align: right;\n",
              "    }\n",
              "</style>\n",
              "<table border=\"1\" class=\"dataframe\">\n",
              "  <thead>\n",
              "    <tr style=\"text-align: right;\">\n",
              "      <th></th>\n",
              "      <th>Arrest_Year</th>\n",
              "      <th>Arrest_Month</th>\n",
              "      <th>EventID</th>\n",
              "      <th>ArrestID</th>\n",
              "      <th>PersonID</th>\n",
              "      <th>Perceived_Race</th>\n",
              "      <th>Sex</th>\n",
              "      <th>Age_group__at_arrest_</th>\n",
              "      <th>Youth_at_arrest__under_18_years</th>\n",
              "      <th>ArrestLocDiv</th>\n",
              "      <th>...</th>\n",
              "      <th>Actions_at_arrest___Resisted__d</th>\n",
              "      <th>Actions_at_arrest___Mental_inst</th>\n",
              "      <th>Actions_at_arrest___Assaulted_o</th>\n",
              "      <th>Actions_at_arrest___Cooperative</th>\n",
              "      <th>SearchReason_CauseInjury</th>\n",
              "      <th>SearchReason_AssistEscape</th>\n",
              "      <th>SearchReason_PossessWeapons</th>\n",
              "      <th>SearchReason_PossessEvidence</th>\n",
              "      <th>ItemsFound</th>\n",
              "      <th>ObjectId</th>\n",
              "    </tr>\n",
              "  </thead>\n",
              "  <tbody>\n",
              "    <tr>\n",
              "      <th>0</th>\n",
              "      <td>2020</td>\n",
              "      <td>July-Sept</td>\n",
              "      <td>1005907</td>\n",
              "      <td>6017884.0</td>\n",
              "      <td>326622</td>\n",
              "      <td>White</td>\n",
              "      <td>M</td>\n",
              "      <td>Aged 35 to 44 years</td>\n",
              "      <td>Not a youth</td>\n",
              "      <td>54</td>\n",
              "      <td>...</td>\n",
              "      <td>0</td>\n",
              "      <td>0</td>\n",
              "      <td>0</td>\n",
              "      <td>1</td>\n",
              "      <td>NaN</td>\n",
              "      <td>NaN</td>\n",
              "      <td>NaN</td>\n",
              "      <td>NaN</td>\n",
              "      <td>NaN</td>\n",
              "      <td>1</td>\n",
              "    </tr>\n",
              "    <tr>\n",
              "      <th>1</th>\n",
              "      <td>2020</td>\n",
              "      <td>July-Sept</td>\n",
              "      <td>1014562</td>\n",
              "      <td>6056669.0</td>\n",
              "      <td>326622</td>\n",
              "      <td>White</td>\n",
              "      <td>M</td>\n",
              "      <td>Aged 35 to 44 years</td>\n",
              "      <td>Not a youth</td>\n",
              "      <td>54</td>\n",
              "      <td>...</td>\n",
              "      <td>0</td>\n",
              "      <td>0</td>\n",
              "      <td>0</td>\n",
              "      <td>0</td>\n",
              "      <td>NaN</td>\n",
              "      <td>NaN</td>\n",
              "      <td>NaN</td>\n",
              "      <td>NaN</td>\n",
              "      <td>NaN</td>\n",
              "      <td>2</td>\n",
              "    </tr>\n",
              "    <tr>\n",
              "      <th>2</th>\n",
              "      <td>2020</td>\n",
              "      <td>Oct-Dec</td>\n",
              "      <td>1029922</td>\n",
              "      <td>6057065.0</td>\n",
              "      <td>326622</td>\n",
              "      <td>Unknown or Legacy</td>\n",
              "      <td>M</td>\n",
              "      <td>Aged 35 to 44 years</td>\n",
              "      <td>Not a youth</td>\n",
              "      <td>54</td>\n",
              "      <td>...</td>\n",
              "      <td>0</td>\n",
              "      <td>0</td>\n",
              "      <td>0</td>\n",
              "      <td>0</td>\n",
              "      <td>NaN</td>\n",
              "      <td>NaN</td>\n",
              "      <td>NaN</td>\n",
              "      <td>NaN</td>\n",
              "      <td>NaN</td>\n",
              "      <td>3</td>\n",
              "    </tr>\n",
              "    <tr>\n",
              "      <th>3</th>\n",
              "      <td>2021</td>\n",
              "      <td>Jan-Mar</td>\n",
              "      <td>1052190</td>\n",
              "      <td>6029059.0</td>\n",
              "      <td>327535</td>\n",
              "      <td>Black</td>\n",
              "      <td>M</td>\n",
              "      <td>Aged 25 to 34 years</td>\n",
              "      <td>Not a youth</td>\n",
              "      <td>XX</td>\n",
              "      <td>...</td>\n",
              "      <td>0</td>\n",
              "      <td>0</td>\n",
              "      <td>0</td>\n",
              "      <td>0</td>\n",
              "      <td>NaN</td>\n",
              "      <td>NaN</td>\n",
              "      <td>NaN</td>\n",
              "      <td>NaN</td>\n",
              "      <td>NaN</td>\n",
              "      <td>4</td>\n",
              "    </tr>\n",
              "    <tr>\n",
              "      <th>4</th>\n",
              "      <td>2021</td>\n",
              "      <td>Jan-Mar</td>\n",
              "      <td>1015512</td>\n",
              "      <td>6040372.0</td>\n",
              "      <td>327535</td>\n",
              "      <td>South Asian</td>\n",
              "      <td>M</td>\n",
              "      <td>Aged 25 to 34 years</td>\n",
              "      <td>Not a youth</td>\n",
              "      <td>XX</td>\n",
              "      <td>...</td>\n",
              "      <td>0</td>\n",
              "      <td>0</td>\n",
              "      <td>0</td>\n",
              "      <td>0</td>\n",
              "      <td>NaN</td>\n",
              "      <td>NaN</td>\n",
              "      <td>NaN</td>\n",
              "      <td>NaN</td>\n",
              "      <td>NaN</td>\n",
              "      <td>5</td>\n",
              "    </tr>\n",
              "  </tbody>\n",
              "</table>\n",
              "<p>5 rows × 25 columns</p>\n",
              "</div>\n",
              "      <button class=\"colab-df-convert\" onclick=\"convertToInteractive('df-53c65463-7788-4ccf-9ef1-9f3126b2e100')\"\n",
              "              title=\"Convert this dataframe to an interactive table.\"\n",
              "              style=\"display:none;\">\n",
              "        \n",
              "  <svg xmlns=\"http://www.w3.org/2000/svg\" height=\"24px\"viewBox=\"0 0 24 24\"\n",
              "       width=\"24px\">\n",
              "    <path d=\"M0 0h24v24H0V0z\" fill=\"none\"/>\n",
              "    <path d=\"M18.56 5.44l.94 2.06.94-2.06 2.06-.94-2.06-.94-.94-2.06-.94 2.06-2.06.94zm-11 1L8.5 8.5l.94-2.06 2.06-.94-2.06-.94L8.5 2.5l-.94 2.06-2.06.94zm10 10l.94 2.06.94-2.06 2.06-.94-2.06-.94-.94-2.06-.94 2.06-2.06.94z\"/><path d=\"M17.41 7.96l-1.37-1.37c-.4-.4-.92-.59-1.43-.59-.52 0-1.04.2-1.43.59L10.3 9.45l-7.72 7.72c-.78.78-.78 2.05 0 2.83L4 21.41c.39.39.9.59 1.41.59.51 0 1.02-.2 1.41-.59l7.78-7.78 2.81-2.81c.8-.78.8-2.07 0-2.86zM5.41 20L4 18.59l7.72-7.72 1.47 1.35L5.41 20z\"/>\n",
              "  </svg>\n",
              "      </button>\n",
              "      \n",
              "  <style>\n",
              "    .colab-df-container {\n",
              "      display:flex;\n",
              "      flex-wrap:wrap;\n",
              "      gap: 12px;\n",
              "    }\n",
              "\n",
              "    .colab-df-convert {\n",
              "      background-color: #E8F0FE;\n",
              "      border: none;\n",
              "      border-radius: 50%;\n",
              "      cursor: pointer;\n",
              "      display: none;\n",
              "      fill: #1967D2;\n",
              "      height: 32px;\n",
              "      padding: 0 0 0 0;\n",
              "      width: 32px;\n",
              "    }\n",
              "\n",
              "    .colab-df-convert:hover {\n",
              "      background-color: #E2EBFA;\n",
              "      box-shadow: 0px 1px 2px rgba(60, 64, 67, 0.3), 0px 1px 3px 1px rgba(60, 64, 67, 0.15);\n",
              "      fill: #174EA6;\n",
              "    }\n",
              "\n",
              "    [theme=dark] .colab-df-convert {\n",
              "      background-color: #3B4455;\n",
              "      fill: #D2E3FC;\n",
              "    }\n",
              "\n",
              "    [theme=dark] .colab-df-convert:hover {\n",
              "      background-color: #434B5C;\n",
              "      box-shadow: 0px 1px 3px 1px rgba(0, 0, 0, 0.15);\n",
              "      filter: drop-shadow(0px 1px 2px rgba(0, 0, 0, 0.3));\n",
              "      fill: #FFFFFF;\n",
              "    }\n",
              "  </style>\n",
              "\n",
              "      <script>\n",
              "        const buttonEl =\n",
              "          document.querySelector('#df-53c65463-7788-4ccf-9ef1-9f3126b2e100 button.colab-df-convert');\n",
              "        buttonEl.style.display =\n",
              "          google.colab.kernel.accessAllowed ? 'block' : 'none';\n",
              "\n",
              "        async function convertToInteractive(key) {\n",
              "          const element = document.querySelector('#df-53c65463-7788-4ccf-9ef1-9f3126b2e100');\n",
              "          const dataTable =\n",
              "            await google.colab.kernel.invokeFunction('convertToInteractive',\n",
              "                                                     [key], {});\n",
              "          if (!dataTable) return;\n",
              "\n",
              "          const docLinkHtml = 'Like what you see? Visit the ' +\n",
              "            '<a target=\"_blank\" href=https://colab.research.google.com/notebooks/data_table.ipynb>data table notebook</a>'\n",
              "            + ' to learn more about interactive tables.';\n",
              "          element.innerHTML = '';\n",
              "          dataTable['output_type'] = 'display_data';\n",
              "          await google.colab.output.renderOutput(dataTable, element);\n",
              "          const docLink = document.createElement('div');\n",
              "          docLink.innerHTML = docLinkHtml;\n",
              "          element.appendChild(docLink);\n",
              "        }\n",
              "      </script>\n",
              "    </div>\n",
              "  </div>\n",
              "  "
            ]
          },
          "metadata": {},
          "execution_count": 207
        }
      ]
    },
    {
      "cell_type": "code",
      "source": [
        "# remove all the nan values in ['ArrestID', 'Perceived_Race', 'Age_group__at_arrest_', 'Occurrence_Category']\n",
        "# for 'searchreason', we fill nan value with 0 \n",
        "df = df.dropna(subset = ['ArrestID', 'Perceived_Race', 'Age_group__at_arrest_', 'Occurrence_Category'])\n",
        "df = df.fillna(0)"
      ],
      "metadata": {
        "id": "LJ8qM-pAXtD0"
      },
      "execution_count": 208,
      "outputs": []
    },
    {
      "cell_type": "code",
      "source": [
        "# check missing values in the dataset one more time\n",
        "for column in df:\n",
        "    print(\"{}\\t\\t\\t\\t{}\".format(column, sum(df[column].isna())))"
      ],
      "metadata": {
        "colab": {
          "base_uri": "https://localhost:8080/"
        },
        "id": "kYauQV77xqz5",
        "outputId": "3a060af7-22b1-47e9-f073-147fe05d4408"
      },
      "execution_count": 209,
      "outputs": [
        {
          "output_type": "stream",
          "name": "stdout",
          "text": [
            "Arrest_Year\t\t\t\t0\n",
            "Arrest_Month\t\t\t\t0\n",
            "EventID\t\t\t\t0\n",
            "ArrestID\t\t\t\t0\n",
            "PersonID\t\t\t\t0\n",
            "Perceived_Race\t\t\t\t0\n",
            "Sex\t\t\t\t0\n",
            "Age_group__at_arrest_\t\t\t\t0\n",
            "Youth_at_arrest__under_18_years\t\t\t\t0\n",
            "ArrestLocDiv\t\t\t\t0\n",
            "StripSearch\t\t\t\t0\n",
            "Booked\t\t\t\t0\n",
            "Occurrence_Category\t\t\t\t0\n",
            "Actions_at_arrest___Concealed_i\t\t\t\t0\n",
            "Actions_at_arrest___Combative__\t\t\t\t0\n",
            "Actions_at_arrest___Resisted__d\t\t\t\t0\n",
            "Actions_at_arrest___Mental_inst\t\t\t\t0\n",
            "Actions_at_arrest___Assaulted_o\t\t\t\t0\n",
            "Actions_at_arrest___Cooperative\t\t\t\t0\n",
            "SearchReason_CauseInjury\t\t\t\t0\n",
            "SearchReason_AssistEscape\t\t\t\t0\n",
            "SearchReason_PossessWeapons\t\t\t\t0\n",
            "SearchReason_PossessEvidence\t\t\t\t0\n",
            "ItemsFound\t\t\t\t0\n",
            "ObjectId\t\t\t\t0\n"
          ]
        }
      ]
    },
    {
      "cell_type": "code",
      "source": [
        "# We need the number of arrest for each quarter of the past two years\n",
        "# Assign a label to these eight quarters.\n",
        "df[\"Quarter\"] = np.where(\n",
        "    (df[\"Arrest_Year\"] == 2020) & (df[\"Arrest_Month\"] == \"Jan-Mar\"), 1,\n",
        "    (np.where(\n",
        "        (df[\"Arrest_Year\"] == 2020) & (df[\"Arrest_Month\"] == \"Apr-June\"), 2,\n",
        "        (np.where((df[\"Arrest_Year\"] == 2020) &\n",
        "                  (df[\"Arrest_Month\"] == \"July-Sept\"), 3, (np.where(\n",
        "                      (df[\"Arrest_Year\"] == 2020) &\n",
        "                      (df[\"Arrest_Month\"] == \"Oct-Dec\"), 4, (np.where(\n",
        "                          (df[\"Arrest_Year\"] == 2021) &\n",
        "                          (df[\"Arrest_Month\"] == \"Jan-Mar\"), 5, (np.where(\n",
        "                              (df[\"Arrest_Year\"] == 2021) &\n",
        "                              (df[\"Arrest_Month\"] == \"Apr-June\"), 6, (np.where(\n",
        "                                  (df[\"Arrest_Year\"] == 2021) &\n",
        "                                  (df[\"Arrest_Month\"] == \"July-Sept\"), 7,\n",
        "                                  (np.where((df[\"Arrest_Year\"] == 2021) &\n",
        "                                            (df[\"Arrest_Month\"] == \"Oct-Dec\"),\n",
        "                                            8, 0)))))))))))))))"
      ],
      "metadata": {
        "id": "Nt3jRluwXiS0"
      },
      "execution_count": 210,
      "outputs": []
    },
    {
      "cell_type": "code",
      "source": [
        "# check 'Occurrence_Category'\n",
        "df['Occurrence_Category'].unique()"
      ],
      "metadata": {
        "colab": {
          "base_uri": "https://localhost:8080/"
        },
        "id": "L5w2zzFoX1vu",
        "outputId": "4f4de7a9-382f-4749-f25d-7774a64de2e2"
      },
      "execution_count": 211,
      "outputs": [
        {
          "output_type": "execute_result",
          "data": {
            "text/plain": [
              "array(['Assault & Other crimes against persons', 'Harassment/Threatening',\n",
              "       'FTA/FTC/Compliance Check/Parollee', 'Assault', 'Robbery/Theft',\n",
              "       'Sexual Related Crime', 'Mischief & Fraud', 'Warrant',\n",
              "       'Police Category - Administrative',\n",
              "       'FTA/FTC, Compliance Check & Parollee', 'Drug Related', 'Weapons',\n",
              "       'Vehicle Related (inc. Impaired)', 'Other Offence',\n",
              "       'Harassment & Threatening', 'Weapons & Homicide',\n",
              "       'Robbery & Theft', 'Break and Enter', 'Mischief', 'Break & Enter',\n",
              "       'Sexual Related Crimes & Crimes Against Children',\n",
              "       'Crimes against Children', 'Police Category - Incident', 'Fraud',\n",
              "       'LLA', 'Mental Health', 'Other Statute', 'Vehicle Related',\n",
              "       'Other Statute & Other Incident Type', 'Impaired', 'Homicide'],\n",
              "      dtype=object)"
            ]
          },
          "metadata": {},
          "execution_count": 211
        }
      ]
    },
    {
      "cell_type": "code",
      "source": [
        "# classify the 'Occurrence_Category'\n",
        "display_List = {\n",
        "    \"Assault & Other crimes against persons\": \"assault\",\n",
        "    \"Assault\": \"assault\",\n",
        "    \"Mischief & Fraud\": \"mischief\",\n",
        "    \"Mischief & Fraud\": \"mischief\",\n",
        "    \"Mischief\": \"mischief\",\n",
        "    \"Fraud\": \"mischief\",\n",
        "    \"FTA/FTC/Compliance Check/Parollee\": \"fta\",\n",
        "    \"FTA/FTC, Compliance Check & Parollee\": \"fta\",\n",
        "    \"Robbery/Theft\": \"robbery\",\n",
        "    \"Robbery & Theft\": \"robbery\",\n",
        "    \"Sexual Related Crime\": \"sexual and children\",\n",
        "    \"Sexual Related Crimes & Crimes Against Children\": \"sexual and children\",\n",
        "    \"Crimes against Children\": \"sexual and children\",\n",
        "    \"Warrant\": \"warrant\",\n",
        "    \"Police Category - Administrative\": \"police\",\n",
        "    \"Police Category - Incident\": \"police\",\n",
        "    \"Drug Related\": \"drug\",\n",
        "    \"Weapons\": \"weapons and homicide\",\n",
        "    \"Weapons & Homicide\": \"weapons and homicide\",\n",
        "    \"Homicide\": \"weapons and homicide\",\n",
        "    \"Vehicle Related (inc. Impaired)\": \"vehicle\",\n",
        "    \"Vehicle Related\": \"vehicle\",\n",
        "    \"Harassment & Threatening\": \"harassment\",\n",
        "    \"Harassment/Threatening\": \"harassment\",\n",
        "    \"Break and Enter\": \"break\",\n",
        "    \"Break & Enter\": \"break\",\n",
        "    \"Impaired\": \"impaired\",\n",
        "    \"Mental Health\": \"other\",\n",
        "    \"Other Offence\": \"other\",\n",
        "    \"Other Statute\": \"other\",\n",
        "    \"Other Statute & Other Incident Type\": \"other\"\n",
        "}\n",
        "\n",
        "df['Occurrence_Category'] = df['Occurrence_Category'].replace(display_List)\n",
        "\n",
        "df['Occurrence_Category'].unique()"
      ],
      "metadata": {
        "colab": {
          "base_uri": "https://localhost:8080/"
        },
        "id": "4RV-yq6iYC-k",
        "outputId": "e553c626-bad3-45f4-a7b2-0522596f7bae"
      },
      "execution_count": 212,
      "outputs": [
        {
          "output_type": "execute_result",
          "data": {
            "text/plain": [
              "array(['assault', 'harassment', 'fta', 'robbery', 'sexual and children',\n",
              "       'mischief', 'warrant', 'police', 'drug', 'weapons and homicide',\n",
              "       'vehicle', 'other', 'break', 'LLA', 'impaired'], dtype=object)"
            ]
          },
          "metadata": {},
          "execution_count": 212
        }
      ]
    },
    {
      "cell_type": "markdown",
      "source": [
        "## Exploratory Data Analysis"
      ],
      "metadata": {
        "id": "WqLZ3GjGsH7p"
      }
    },
    {
      "cell_type": "markdown",
      "source": [
        "### Sex and Arrest"
      ],
      "metadata": {
        "id": "QD1PLxsEYw9G"
      }
    },
    {
      "cell_type": "code",
      "source": [
        "# select columns and group data\n",
        "sub = df[['Arrest_Year', 'Arrest_Month', 'Sex', 'StripSearch', 'ObjectId']]\n",
        "sexsub = sub.groupby(['Arrest_Year', 'Arrest_Month',\n",
        "                    'Sex']).agg({'ObjectId': 'count'})\n",
        "sexsub = sexsub.reset_index()"
      ],
      "metadata": {
        "id": "xhOkIJjuYwPC"
      },
      "execution_count": 213,
      "outputs": []
    },
    {
      "cell_type": "code",
      "source": [
        "# Group the data by sex and sum the arrest counts\n",
        "arrests_by_sex = sexsub.groupby(['Sex']).sum()['ObjectId']\n",
        "\n",
        "# Calculate the total number of arrests\n",
        "total_arrests = arrests_by_sex.sum()\n",
        "\n",
        "# Calculate the percentage of arrests for each sex\n",
        "percent_arrests_by_sex = 100 * arrests_by_sex / total_arrests\n",
        "\n",
        "# Create a bar chart\n",
        "fig, ax = plt.subplots()\n",
        "ax.bar(arrests_by_sex.index,\n",
        "       arrests_by_sex.values,\n",
        "       color=['pink', 'skyblue', 'gray'])\n",
        "# Set the axis labels and title\n",
        "ax.set_xlabel('Sex')\n",
        "ax.set_ylabel('Number of Arrests')\n",
        "ax.set_title('Number of Arrests by Sex')\n",
        "# Show the percentages on the bars\n",
        "for i, v in enumerate(arrests_by_sex.values):\n",
        "    ax.text(i,\n",
        "            v + 1,\n",
        "            str(round(percent_arrests_by_sex[i], 2)) + '%',\n",
        "            ha='center')\n",
        "plt.show()"
      ],
      "metadata": {
        "colab": {
          "base_uri": "https://localhost:8080/",
          "height": 524
        },
        "id": "5cFyywgsYwTh",
        "outputId": "b8b2b06c-d4ac-401e-db66-8b870d1c47a6"
      },
      "execution_count": 214,
      "outputs": [
        {
          "output_type": "display_data",
          "data": {
            "text/plain": [
              "<Figure size 800x550 with 1 Axes>"
            ],
            "image/png": "[encoded data removed]"
          },
          "metadata": {}
        }
      ]
    },
    {
      "cell_type": "markdown",
      "source": [
        "As shown, 80.64% of the arrested individuals were male, 19.35% were female, and the unknown sex group accounted for only 0.01%."
      ],
      "metadata": {
        "id": "Cxq39nB9ZYOF"
      }
    },
    {
      "cell_type": "code",
      "source": [
        "# Filter the dataframe to include only rows with male, female, or unknown sex\n",
        "subsex = df[(df['Sex'] == 'M') | (df['Sex'] == 'F') | (df['Sex'] == 'U')]\n",
        "\n",
        "# Group the data by sex and strip search status\n",
        "substrip = subsex.groupby(['Sex', 'StripSearch']).agg({'ObjectId': 'count'})\n",
        "\n",
        "# Reshape the data to create a stacked bar chart\n",
        "substrip = substrip.unstack('StripSearch')\n",
        "\n",
        "# Create a stacked bar chart with 2 colors\n",
        "colors = ['palegreen', 'orange']\n",
        "substrip.plot(kind='bar', stacked=True, color=colors)\n",
        "\n",
        "# Set the axis labels and title\n",
        "plt.xlabel('Sex')\n",
        "plt.ylabel('Number of Arrests')\n",
        "plt.title('Number of Arrests by Sex and Strip Search Status')\n",
        "\n",
        "# Set the legend labels\n",
        "leg_labels = ['No', 'Yes']\n",
        "plt.legend(leg_labels, loc='upper right')\n",
        "\n",
        "# Set the y-axis label orientation to horizontal\n",
        "plt.xticks(rotation=0)\n",
        "\n",
        "# Show the plot\n",
        "plt.show()"
      ],
      "metadata": {
        "colab": {
          "base_uri": "https://localhost:8080/",
          "height": 524
        },
        "id": "qgfdrK60ZhPp",
        "outputId": "47456633-1012-4e88-ad43-fa45126c6914"
      },
      "execution_count": 215,
      "outputs": [
        {
          "output_type": "display_data",
          "data": {
            "text/plain": [
              "<Figure size 800x550 with 1 Axes>"
            ],
            "image/png": "[encoded data removed]"
          },
          "metadata": {}
        }
      ]
    },
    {
      "cell_type": "markdown",
      "source": [
        "The chart provides an overview of the number of arrests based on the sex and strip search status. While the male arrestee population may be five times larger than the female arrestee population, the data in this plot suggests that males are strip searched more frequently than females, and by a larger margin than what might be expected based on population size alone. "
      ],
      "metadata": {
        "id": "HMQ3FRuyZ10O"
      }
    },
    {
      "cell_type": "markdown",
      "source": [
        "### Perceived Races and Number of Arrests"
      ],
      "metadata": {
        "id": "BeXOE5YAa15D"
      }
    },
    {
      "cell_type": "code",
      "source": [
        "# display the selected columns\n",
        "racesub=df[['Arrest_Year','Arrest_Month','ObjectId','Perceived_Race','StripSearch','Actions_at_arrest___Combative__','Actions_at_arrest___Cooperative']].dropna()\n",
        "racesub"
      ],
      "metadata": {
        "colab": {
          "base_uri": "https://localhost:8080/",
          "height": 522
        },
        "id": "eUYAcvzvtvPL",
        "outputId": "8605db63-20b4-4ebe-c9db-5765ccb3ea81"
      },
      "execution_count": 216,
      "outputs": [
        {
          "output_type": "execute_result",
          "data": {
            "text/plain": [
              "       Arrest_Year Arrest_Month  ObjectId     Perceived_Race  StripSearch  \\\n",
              "0             2020    July-Sept         1              White            0   \n",
              "1             2020    July-Sept         2              White            0   \n",
              "2             2020      Oct-Dec         3  Unknown or Legacy            0   \n",
              "3             2021      Jan-Mar         4              Black            0   \n",
              "4             2021      Jan-Mar         5        South Asian            0   \n",
              "...            ...          ...       ...                ...          ...   \n",
              "65271         2021      Oct-Dec     65272         Indigenous            0   \n",
              "65272         2021      Oct-Dec     65273        South Asian            0   \n",
              "65273         2021      Oct-Dec     65274              White            0   \n",
              "65274         2021      Oct-Dec     65275  Unknown or Legacy            0   \n",
              "65275         2021      Oct-Dec     65276             Latino            0   \n",
              "\n",
              "       Actions_at_arrest___Combative__  Actions_at_arrest___Cooperative  \n",
              "0                                    0                                1  \n",
              "1                                    0                                0  \n",
              "2                                    0                                0  \n",
              "3                                    0                                0  \n",
              "4                                    0                                0  \n",
              "...                                ...                              ...  \n",
              "65271                                0                                0  \n",
              "65272                                0                                0  \n",
              "65273                                0                                0  \n",
              "65274                                0                                1  \n",
              "65275                                0                                1  \n",
              "\n",
              "[64615 rows x 7 columns]"
            ],
            "text/html": [
              "\n",
              "  <div id=\"df-9f47a16f-afc6-46df-9e90-1605cb36a827\">\n",
              "    <div class=\"colab-df-container\">\n",
              "      <div>\n",
              "<style scoped>\n",
              "    .dataframe tbody tr th:only-of-type {\n",
              "        vertical-align: middle;\n",
              "    }\n",
              "\n",
              "    .dataframe tbody tr th {\n",
              "        vertical-align: top;\n",
              "    }\n",
              "\n",
              "    .dataframe thead th {\n",
              "        text-align: right;\n",
              "    }\n",
              "</style>\n",
              "<table border=\"1\" class=\"dataframe\">\n",
              "  <thead>\n",
              "    <tr style=\"text-align: right;\">\n",
              "      <th></th>\n",
              "      <th>Arrest_Year</th>\n",
              "      <th>Arrest_Month</th>\n",
              "      <th>ObjectId</th>\n",
              "      <th>Perceived_Race</th>\n",
              "      <th>StripSearch</th>\n",
              "      <th>Actions_at_arrest___Combative__</th>\n",
              "      <th>Actions_at_arrest___Cooperative</th>\n",
              "    </tr>\n",
              "  </thead>\n",
              "  <tbody>\n",
              "    <tr>\n",
              "      <th>0</th>\n",
              "      <td>2020</td>\n",
              "      <td>July-Sept</td>\n",
              "      <td>1</td>\n",
              "      <td>White</td>\n",
              "      <td>0</td>\n",
              "      <td>0</td>\n",
              "      <td>1</td>\n",
              "    </tr>\n",
              "    <tr>\n",
              "      <th>1</th>\n",
              "      <td>2020</td>\n",
              "      <td>July-Sept</td>\n",
              "      <td>2</td>\n",
              "      <td>White</td>\n",
              "      <td>0</td>\n",
              "      <td>0</td>\n",
              "      <td>0</td>\n",
              "    </tr>\n",
              "    <tr>\n",
              "      <th>2</th>\n",
              "      <td>2020</td>\n",
              "      <td>Oct-Dec</td>\n",
              "      <td>3</td>\n",
              "      <td>Unknown or Legacy</td>\n",
              "      <td>0</td>\n",
              "      <td>0</td>\n",
              "      <td>0</td>\n",
              "    </tr>\n",
              "    <tr>\n",
              "      <th>3</th>\n",
              "      <td>2021</td>\n",
              "      <td>Jan-Mar</td>\n",
              "      <td>4</td>\n",
              "      <td>Black</td>\n",
              "      <td>0</td>\n",
              "      <td>0</td>\n",
              "      <td>0</td>\n",
              "    </tr>\n",
              "    <tr>\n",
              "      <th>4</th>\n",
              "      <td>2021</td>\n",
              "      <td>Jan-Mar</td>\n",
              "      <td>5</td>\n",
              "      <td>South Asian</td>\n",
              "      <td>0</td>\n",
              "      <td>0</td>\n",
              "      <td>0</td>\n",
              "    </tr>\n",
              "    <tr>\n",
              "      <th>...</th>\n",
              "      <td>...</td>\n",
              "      <td>...</td>\n",
              "      <td>...</td>\n",
              "      <td>...</td>\n",
              "      <td>...</td>\n",
              "      <td>...</td>\n",
              "      <td>...</td>\n",
              "    </tr>\n",
              "    <tr>\n",
              "      <th>65271</th>\n",
              "      <td>2021</td>\n",
              "      <td>Oct-Dec</td>\n",
              "      <td>65272</td>\n",
              "      <td>Indigenous</td>\n",
              "      <td>0</td>\n",
              "      <td>0</td>\n",
              "      <td>0</td>\n",
              "    </tr>\n",
              "    <tr>\n",
              "      <th>65272</th>\n",
              "      <td>2021</td>\n",
              "      <td>Oct-Dec</td>\n",
              "      <td>65273</td>\n",
              "      <td>South Asian</td>\n",
              "      <td>0</td>\n",
              "      <td>0</td>\n",
              "      <td>0</td>\n",
              "    </tr>\n",
              "    <tr>\n",
              "      <th>65273</th>\n",
              "      <td>2021</td>\n",
              "      <td>Oct-Dec</td>\n",
              "      <td>65274</td>\n",
              "      <td>White</td>\n",
              "      <td>0</td>\n",
              "      <td>0</td>\n",
              "      <td>0</td>\n",
              "    </tr>\n",
              "    <tr>\n",
              "      <th>65274</th>\n",
              "      <td>2021</td>\n",
              "      <td>Oct-Dec</td>\n",
              "      <td>65275</td>\n",
              "      <td>Unknown or Legacy</td>\n",
              "      <td>0</td>\n",
              "      <td>0</td>\n",
              "      <td>1</td>\n",
              "    </tr>\n",
              "    <tr>\n",
              "      <th>65275</th>\n",
              "      <td>2021</td>\n",
              "      <td>Oct-Dec</td>\n",
              "      <td>65276</td>\n",
              "      <td>Latino</td>\n",
              "      <td>0</td>\n",
              "      <td>0</td>\n",
              "      <td>1</td>\n",
              "    </tr>\n",
              "  </tbody>\n",
              "</table>\n",
              "<p>64615 rows × 7 columns</p>\n",
              "</div>\n",
              "      <button class=\"colab-df-convert\" onclick=\"convertToInteractive('df-9f47a16f-afc6-46df-9e90-1605cb36a827')\"\n",
              "              title=\"Convert this dataframe to an interactive table.\"\n",
              "              style=\"display:none;\">\n",
              "        \n",
              "  <svg xmlns=\"http://www.w3.org/2000/svg\" height=\"24px\"viewBox=\"0 0 24 24\"\n",
              "       width=\"24px\">\n",
              "    <path d=\"M0 0h24v24H0V0z\" fill=\"none\"/>\n",
              "    <path d=\"M18.56 5.44l.94 2.06.94-2.06 2.06-.94-2.06-.94-.94-2.06-.94 2.06-2.06.94zm-11 1L8.5 8.5l.94-2.06 2.06-.94-2.06-.94L8.5 2.5l-.94 2.06-2.06.94zm10 10l.94 2.06.94-2.06 2.06-.94-2.06-.94-.94-2.06-.94 2.06-2.06.94z\"/><path d=\"M17.41 7.96l-1.37-1.37c-.4-.4-.92-.59-1.43-.59-.52 0-1.04.2-1.43.59L10.3 9.45l-7.72 7.72c-.78.78-.78 2.05 0 2.83L4 21.41c.39.39.9.59 1.41.59.51 0 1.02-.2 1.41-.59l7.78-7.78 2.81-2.81c.8-.78.8-2.07 0-2.86zM5.41 20L4 18.59l7.72-7.72 1.47 1.35L5.41 20z\"/>\n",
              "  </svg>\n",
              "      </button>\n",
              "      \n",
              "  <style>\n",
              "    .colab-df-container {\n",
              "      display:flex;\n",
              "      flex-wrap:wrap;\n",
              "      gap: 12px;\n",
              "    }\n",
              "\n",
              "    .colab-df-convert {\n",
              "      background-color: #E8F0FE;\n",
              "      border: none;\n",
              "      border-radius: 50%;\n",
              "      cursor: pointer;\n",
              "      display: none;\n",
              "      fill: #1967D2;\n",
              "      height: 32px;\n",
              "      padding: 0 0 0 0;\n",
              "      width: 32px;\n",
              "    }\n",
              "\n",
              "    .colab-df-convert:hover {\n",
              "      background-color: #E2EBFA;\n",
              "      box-shadow: 0px 1px 2px rgba(60, 64, 67, 0.3), 0px 1px 3px 1px rgba(60, 64, 67, 0.15);\n",
              "      fill: #174EA6;\n",
              "    }\n",
              "\n",
              "    [theme=dark] .colab-df-convert {\n",
              "      background-color: #3B4455;\n",
              "      fill: #D2E3FC;\n",
              "    }\n",
              "\n",
              "    [theme=dark] .colab-df-convert:hover {\n",
              "      background-color: #434B5C;\n",
              "      box-shadow: 0px 1px 3px 1px rgba(0, 0, 0, 0.15);\n",
              "      filter: drop-shadow(0px 1px 2px rgba(0, 0, 0, 0.3));\n",
              "      fill: #FFFFFF;\n",
              "    }\n",
              "  </style>\n",
              "\n",
              "      <script>\n",
              "        const buttonEl =\n",
              "          document.querySelector('#df-9f47a16f-afc6-46df-9e90-1605cb36a827 button.colab-df-convert');\n",
              "        buttonEl.style.display =\n",
              "          google.colab.kernel.accessAllowed ? 'block' : 'none';\n",
              "\n",
              "        async function convertToInteractive(key) {\n",
              "          const element = document.querySelector('#df-9f47a16f-afc6-46df-9e90-1605cb36a827');\n",
              "          const dataTable =\n",
              "            await google.colab.kernel.invokeFunction('convertToInteractive',\n",
              "                                                     [key], {});\n",
              "          if (!dataTable) return;\n",
              "\n",
              "          const docLinkHtml = 'Like what you see? Visit the ' +\n",
              "            '<a target=\"_blank\" href=https://colab.research.google.com/notebooks/data_table.ipynb>data table notebook</a>'\n",
              "            + ' to learn more about interactive tables.';\n",
              "          element.innerHTML = '';\n",
              "          dataTable['output_type'] = 'display_data';\n",
              "          await google.colab.output.renderOutput(dataTable, element);\n",
              "          const docLink = document.createElement('div');\n",
              "          docLink.innerHTML = docLinkHtml;\n",
              "          element.appendChild(docLink);\n",
              "        }\n",
              "      </script>\n",
              "    </div>\n",
              "  </div>\n",
              "  "
            ]
          },
          "metadata": {},
          "execution_count": 216
        }
      ]
    },
    {
      "cell_type": "code",
      "source": [
        "racec = racesub.groupby(['Arrest_Year','Arrest_Month','Actions_at_arrest___Cooperative','Perceived_Race']).agg({'ObjectId': 'count'}).reset_index()\n",
        "racec"
      ],
      "metadata": {
        "colab": {
          "base_uri": "https://localhost:8080/",
          "height": 423
        },
        "id": "3s9A4_uPy6_Q",
        "outputId": "927aa9fd-4fe8-490c-83ce-52fc412bab45"
      },
      "execution_count": 217,
      "outputs": [
        {
          "output_type": "execute_result",
          "data": {
            "text/plain": [
              "     Arrest_Year Arrest_Month  Actions_at_arrest___Cooperative  \\\n",
              "0           2020     Apr-June                                0   \n",
              "1           2020     Apr-June                                0   \n",
              "2           2020     Apr-June                                0   \n",
              "3           2020     Apr-June                                0   \n",
              "4           2020     Apr-June                                0   \n",
              "..           ...          ...                              ...   \n",
              "123         2021      Oct-Dec                                1   \n",
              "124         2021      Oct-Dec                                1   \n",
              "125         2021      Oct-Dec                                1   \n",
              "126         2021      Oct-Dec                                1   \n",
              "127         2021      Oct-Dec                                1   \n",
              "\n",
              "           Perceived_Race  ObjectId  \n",
              "0                   Black      1063  \n",
              "1    East/Southeast Asian       197  \n",
              "2              Indigenous       128  \n",
              "3                  Latino        73  \n",
              "4          Middle-Eastern       184  \n",
              "..                    ...       ...  \n",
              "123                Latino       138  \n",
              "124        Middle-Eastern       214  \n",
              "125           South Asian       229  \n",
              "126     Unknown or Legacy       252  \n",
              "127                 White      1514  \n",
              "\n",
              "[128 rows x 5 columns]"
            ],
            "text/html": [
              "\n",
              "  <div id=\"df-b03f374b-6351-4233-ab0d-397a2b2d834b\">\n",
              "    <div class=\"colab-df-container\">\n",
              "      <div>\n",
              "<style scoped>\n",
              "    .dataframe tbody tr th:only-of-type {\n",
              "        vertical-align: middle;\n",
              "    }\n",
              "\n",
              "    .dataframe tbody tr th {\n",
              "        vertical-align: top;\n",
              "    }\n",
              "\n",
              "    .dataframe thead th {\n",
              "        text-align: right;\n",
              "    }\n",
              "</style>\n",
              "<table border=\"1\" class=\"dataframe\">\n",
              "  <thead>\n",
              "    <tr style=\"text-align: right;\">\n",
              "      <th></th>\n",
              "      <th>Arrest_Year</th>\n",
              "      <th>Arrest_Month</th>\n",
              "      <th>Actions_at_arrest___Cooperative</th>\n",
              "      <th>Perceived_Race</th>\n",
              "      <th>ObjectId</th>\n",
              "    </tr>\n",
              "  </thead>\n",
              "  <tbody>\n",
              "    <tr>\n",
              "      <th>0</th>\n",
              "      <td>2020</td>\n",
              "      <td>Apr-June</td>\n",
              "      <td>0</td>\n",
              "      <td>Black</td>\n",
              "      <td>1063</td>\n",
              "    </tr>\n",
              "    <tr>\n",
              "      <th>1</th>\n",
              "      <td>2020</td>\n",
              "      <td>Apr-June</td>\n",
              "      <td>0</td>\n",
              "      <td>East/Southeast Asian</td>\n",
              "      <td>197</td>\n",
              "    </tr>\n",
              "    <tr>\n",
              "      <th>2</th>\n",
              "      <td>2020</td>\n",
              "      <td>Apr-June</td>\n",
              "      <td>0</td>\n",
              "      <td>Indigenous</td>\n",
              "      <td>128</td>\n",
              "    </tr>\n",
              "    <tr>\n",
              "      <th>3</th>\n",
              "      <td>2020</td>\n",
              "      <td>Apr-June</td>\n",
              "      <td>0</td>\n",
              "      <td>Latino</td>\n",
              "      <td>73</td>\n",
              "    </tr>\n",
              "    <tr>\n",
              "      <th>4</th>\n",
              "      <td>2020</td>\n",
              "      <td>Apr-June</td>\n",
              "      <td>0</td>\n",
              "      <td>Middle-Eastern</td>\n",
              "      <td>184</td>\n",
              "    </tr>\n",
              "    <tr>\n",
              "      <th>...</th>\n",
              "      <td>...</td>\n",
              "      <td>...</td>\n",
              "      <td>...</td>\n",
              "      <td>...</td>\n",
              "      <td>...</td>\n",
              "    </tr>\n",
              "    <tr>\n",
              "      <th>123</th>\n",
              "      <td>2021</td>\n",
              "      <td>Oct-Dec</td>\n",
              "      <td>1</td>\n",
              "      <td>Latino</td>\n",
              "      <td>138</td>\n",
              "    </tr>\n",
              "    <tr>\n",
              "      <th>124</th>\n",
              "      <td>2021</td>\n",
              "      <td>Oct-Dec</td>\n",
              "      <td>1</td>\n",
              "      <td>Middle-Eastern</td>\n",
              "      <td>214</td>\n",
              "    </tr>\n",
              "    <tr>\n",
              "      <th>125</th>\n",
              "      <td>2021</td>\n",
              "      <td>Oct-Dec</td>\n",
              "      <td>1</td>\n",
              "      <td>South Asian</td>\n",
              "      <td>229</td>\n",
              "    </tr>\n",
              "    <tr>\n",
              "      <th>126</th>\n",
              "      <td>2021</td>\n",
              "      <td>Oct-Dec</td>\n",
              "      <td>1</td>\n",
              "      <td>Unknown or Legacy</td>\n",
              "      <td>252</td>\n",
              "    </tr>\n",
              "    <tr>\n",
              "      <th>127</th>\n",
              "      <td>2021</td>\n",
              "      <td>Oct-Dec</td>\n",
              "      <td>1</td>\n",
              "      <td>White</td>\n",
              "      <td>1514</td>\n",
              "    </tr>\n",
              "  </tbody>\n",
              "</table>\n",
              "<p>128 rows × 5 columns</p>\n",
              "</div>\n",
              "      <button class=\"colab-df-convert\" onclick=\"convertToInteractive('df-b03f374b-6351-4233-ab0d-397a2b2d834b')\"\n",
              "              title=\"Convert this dataframe to an interactive table.\"\n",
              "              style=\"display:none;\">\n",
              "        \n",
              "  <svg xmlns=\"http://www.w3.org/2000/svg\" height=\"24px\"viewBox=\"0 0 24 24\"\n",
              "       width=\"24px\">\n",
              "    <path d=\"M0 0h24v24H0V0z\" fill=\"none\"/>\n",
              "    <path d=\"M18.56 5.44l.94 2.06.94-2.06 2.06-.94-2.06-.94-.94-2.06-.94 2.06-2.06.94zm-11 1L8.5 8.5l.94-2.06 2.06-.94-2.06-.94L8.5 2.5l-.94 2.06-2.06.94zm10 10l.94 2.06.94-2.06 2.06-.94-2.06-.94-.94-2.06-.94 2.06-2.06.94z\"/><path d=\"M17.41 7.96l-1.37-1.37c-.4-.4-.92-.59-1.43-.59-.52 0-1.04.2-1.43.59L10.3 9.45l-7.72 7.72c-.78.78-.78 2.05 0 2.83L4 21.41c.39.39.9.59 1.41.59.51 0 1.02-.2 1.41-.59l7.78-7.78 2.81-2.81c.8-.78.8-2.07 0-2.86zM5.41 20L4 18.59l7.72-7.72 1.47 1.35L5.41 20z\"/>\n",
              "  </svg>\n",
              "      </button>\n",
              "      \n",
              "  <style>\n",
              "    .colab-df-container {\n",
              "      display:flex;\n",
              "      flex-wrap:wrap;\n",
              "      gap: 12px;\n",
              "    }\n",
              "\n",
              "    .colab-df-convert {\n",
              "      background-color: #E8F0FE;\n",
              "      border: none;\n",
              "      border-radius: 50%;\n",
              "      cursor: pointer;\n",
              "      display: none;\n",
              "      fill: #1967D2;\n",
              "      height: 32px;\n",
              "      padding: 0 0 0 0;\n",
              "      width: 32px;\n",
              "    }\n",
              "\n",
              "    .colab-df-convert:hover {\n",
              "      background-color: #E2EBFA;\n",
              "      box-shadow: 0px 1px 2px rgba(60, 64, 67, 0.3), 0px 1px 3px 1px rgba(60, 64, 67, 0.15);\n",
              "      fill: #174EA6;\n",
              "    }\n",
              "\n",
              "    [theme=dark] .colab-df-convert {\n",
              "      background-color: #3B4455;\n",
              "      fill: #D2E3FC;\n",
              "    }\n",
              "\n",
              "    [theme=dark] .colab-df-convert:hover {\n",
              "      background-color: #434B5C;\n",
              "      box-shadow: 0px 1px 3px 1px rgba(0, 0, 0, 0.15);\n",
              "      filter: drop-shadow(0px 1px 2px rgba(0, 0, 0, 0.3));\n",
              "      fill: #FFFFFF;\n",
              "    }\n",
              "  </style>\n",
              "\n",
              "      <script>\n",
              "        const buttonEl =\n",
              "          document.querySelector('#df-b03f374b-6351-4233-ab0d-397a2b2d834b button.colab-df-convert');\n",
              "        buttonEl.style.display =\n",
              "          google.colab.kernel.accessAllowed ? 'block' : 'none';\n",
              "\n",
              "        async function convertToInteractive(key) {\n",
              "          const element = document.querySelector('#df-b03f374b-6351-4233-ab0d-397a2b2d834b');\n",
              "          const dataTable =\n",
              "            await google.colab.kernel.invokeFunction('convertToInteractive',\n",
              "                                                     [key], {});\n",
              "          if (!dataTable) return;\n",
              "\n",
              "          const docLinkHtml = 'Like what you see? Visit the ' +\n",
              "            '<a target=\"_blank\" href=https://colab.research.google.com/notebooks/data_table.ipynb>data table notebook</a>'\n",
              "            + ' to learn more about interactive tables.';\n",
              "          element.innerHTML = '';\n",
              "          dataTable['output_type'] = 'display_data';\n",
              "          await google.colab.output.renderOutput(dataTable, element);\n",
              "          const docLink = document.createElement('div');\n",
              "          docLink.innerHTML = docLinkHtml;\n",
              "          element.appendChild(docLink);\n",
              "        }\n",
              "      </script>\n",
              "    </div>\n",
              "  </div>\n",
              "  "
            ]
          },
          "metadata": {},
          "execution_count": 217
        }
      ]
    },
    {
      "cell_type": "code",
      "source": [
        "# group arrests people by perceived race\n",
        "races_people = df.Perceived_Race.value_counts().index.tolist()\n",
        "race_number = df.Perceived_Race.value_counts()\n",
        "print(race_number)"
      ],
      "metadata": {
        "colab": {
          "base_uri": "https://localhost:8080/"
        },
        "id": "1kb505TJsN8p",
        "outputId": "f3050f95-7968-44d6-cc52-9281fdd35801"
      },
      "execution_count": 218,
      "outputs": [
        {
          "output_type": "stream",
          "name": "stdout",
          "text": [
            "White                   27407\n",
            "Black                   17352\n",
            "Unknown or Legacy        5002\n",
            "East/Southeast Asian     4388\n",
            "South Asian              3594\n",
            "Middle-Eastern           3213\n",
            "Indigenous               1907\n",
            "Latino                   1752\n",
            "Name: Perceived_Race, dtype: int64\n"
          ]
        }
      ]
    },
    {
      "cell_type": "code",
      "source": [
        "racetotal = racec.groupby('Perceived_Race')['ObjectId'].sum().reset_index()\n",
        "fig, ax = plt.subplots()\n",
        "\n",
        "# create the bar chart\n",
        "ax.bar(racetotal['Perceived_Race'], racetotal['ObjectId'], color='hotpink')\n",
        "ax.set_xlabel('Perceived Race')\n",
        "ax.set_ylabel('Number of Arrests')\n",
        "ax.set_title('Number of Arrests by Perceived Race')\n",
        "\n",
        "# add percentage values to the bar chart\n",
        "total = racetotal['ObjectId'].sum()\n",
        "offset = 0\n",
        "for i, v in enumerate(racetotal['ObjectId']):\n",
        "    percentage = round((v/total)*100, 2)\n",
        "    x_pos = i + offset\n",
        "    y_pos = v/2\n",
        "    ax.text(x_pos, y_pos, str(percentage)+'%', ha='center', va='center', fontsize=10)\n",
        "\n",
        "# rotate the x-axis labels by 90 degrees\n",
        "ax.set_xticklabels(racetotal['Perceived_Race'], rotation=90)\n",
        "\n",
        "plt.show()\n"
      ],
      "metadata": {
        "colab": {
          "base_uri": "https://localhost:8080/",
          "height": 642
        },
        "id": "CJ7HhOKdu-2N",
        "outputId": "30eb65c4-814b-4747-b178-c6bcaf57c041"
      },
      "execution_count": 219,
      "outputs": [
        {
          "output_type": "display_data",
          "data": {
            "text/plain": [
              "<Figure size 800x550 with 1 Axes>"
            ],
            "image/png": "[encoded data removed]"
          },
          "metadata": {}
        }
      ]
    },
    {
      "cell_type": "markdown",
      "source": [
        "The bar chart illustrates the racial breakdown of arrests, with White individuals accounting for the largest percentage at 42.42%, followed by Black individuals at 26.85%. The percentage of arrests for Latino individuals is the lowest among the groups represented in the chart, at 2.71%."
      ],
      "metadata": {
        "id": "Gj8_j1Hoc9CT"
      }
    },
    {
      "cell_type": "markdown",
      "source": [
        "### Perceived Races, Action at Arrest (Cooperative) and Number of Arrests"
      ],
      "metadata": {
        "id": "Etso4CL5cVWq"
      }
    },
    {
      "cell_type": "code",
      "source": [
        "# group arrests people by perceived race\n",
        "agg_df = racec.groupby(['Perceived_Race', 'Actions_at_arrest___Cooperative']).sum()['ObjectId'].unstack().reset_index()\n",
        "\n",
        "# plot the bar chart\n",
        "fig, ax = plt.subplots()\n",
        "ax.bar(agg_df['Perceived_Race'], agg_df[0], color='orange', label='Not Cooperative')\n",
        "ax.bar(agg_df['Perceived_Race'], agg_df[1], color='blue', label='Cooperative')\n",
        "ax.set_xlabel('Perceived Race')\n",
        "ax.set_ylabel('Number of Arrests')\n",
        "ax.set_title('Number of Arrests by Perceived Race & Actions_at_arrest___Cooperative')\n",
        "ax.legend()\n",
        "# rotate the x-axis labels by 90 degrees\n",
        "ax.set_xticklabels(racetotal['Perceived_Race'], rotation=90)\n",
        "plt.show()"
      ],
      "metadata": {
        "colab": {
          "base_uri": "https://localhost:8080/",
          "height": 642
        },
        "id": "v5F0adNny42H",
        "outputId": "b55872f1-586b-4a9c-e04c-c4eafe772019"
      },
      "execution_count": 220,
      "outputs": [
        {
          "output_type": "display_data",
          "data": {
            "text/plain": [
              "<Figure size 800x550 with 1 Axes>"
            ],
            "image/png": "[encoded data removed]"
          },
          "metadata": {}
        }
      ]
    },
    {
      "cell_type": "markdown",
      "source": [
        "This plot shows the total number of arrests by perceived race, grouped by whether the individual cooperated or not. While White individuals account for approximately 10,000 more arrests than Black individuals, the proportion of non-cooperative individuals within each group is roughly similar. To explore this further, we have created a table that shows the number of cooperative arrests and cooperative percentage for each racial group, which will provide additional insight into the patterns observed in the plot."
      ],
      "metadata": {
        "id": "hcjZYoRGedb_"
      }
    },
    {
      "cell_type": "code",
      "source": [
        "# group cooperative or not ordered for arrested people by perceived race\n",
        "race_coop = df.groupby('Perceived_Race').agg({'Actions_at_arrest___Cooperative': 'sum', 'ObjectId': 'count'})\n",
        "race_coop_percent = (race_coop['Actions_at_arrest___Cooperative'] / race_coop['ObjectId']) * 100\n",
        "\n",
        "# create a table to display the results\n",
        "race_coop_table = pd.concat([race_coop['ObjectId'], race_coop['Actions_at_arrest___Cooperative'], race_coop_percent], axis=1, sort=False)\n",
        "race_coop_table.columns = ['Total Arrests', 'Actions_at_arrest___Cooperative', 'Actions_at_arrest___Cooperative %']\n",
        "race_coop_table.index.name = 'Perceived Race'\n",
        "race_coop_table = race_coop_table.round(2)\n",
        "\n",
        "race_coop_table"
      ],
      "metadata": {
        "colab": {
          "base_uri": "https://localhost:8080/",
          "height": 410
        },
        "id": "D7ud39IP3bKN",
        "outputId": "132b946c-e5e5-4925-bffc-0e4ea34c7a0c"
      },
      "execution_count": 221,
      "outputs": [
        {
          "output_type": "execute_result",
          "data": {
            "text/plain": [
              "                      Total Arrests  Actions_at_arrest___Cooperative  \\\n",
              "Perceived Race                                                         \n",
              "Black                         17352                             7453   \n",
              "East/Southeast Asian           4388                             2267   \n",
              "Indigenous                     1907                              758   \n",
              "Latino                         1752                              892   \n",
              "Middle-Eastern                 3213                             1509   \n",
              "South Asian                    3594                             1662   \n",
              "Unknown or Legacy              5002                             2214   \n",
              "White                         27407                            12283   \n",
              "\n",
              "                      Actions_at_arrest___Cooperative %  \n",
              "Perceived Race                                           \n",
              "Black                                             42.95  \n",
              "East/Southeast Asian                              51.66  \n",
              "Indigenous                                        39.75  \n",
              "Latino                                            50.91  \n",
              "Middle-Eastern                                    46.97  \n",
              "South Asian                                       46.24  \n",
              "Unknown or Legacy                                 44.26  \n",
              "White                                             44.82  "
            ],
            "text/html": [
              "\n",
              "  <div id=\"df-05616eca-7c99-427b-8111-27b27edbbe27\">\n",
              "    <div class=\"colab-df-container\">\n",
              "      <div>\n",
              "<style scoped>\n",
              "    .dataframe tbody tr th:only-of-type {\n",
              "        vertical-align: middle;\n",
              "    }\n",
              "\n",
              "    .dataframe tbody tr th {\n",
              "        vertical-align: top;\n",
              "    }\n",
              "\n",
              "    .dataframe thead th {\n",
              "        text-align: right;\n",
              "    }\n",
              "</style>\n",
              "<table border=\"1\" class=\"dataframe\">\n",
              "  <thead>\n",
              "    <tr style=\"text-align: right;\">\n",
              "      <th></th>\n",
              "      <th>Total Arrests</th>\n",
              "      <th>Actions_at_arrest___Cooperative</th>\n",
              "      <th>Actions_at_arrest___Cooperative %</th>\n",
              "    </tr>\n",
              "    <tr>\n",
              "      <th>Perceived Race</th>\n",
              "      <th></th>\n",
              "      <th></th>\n",
              "      <th></th>\n",
              "    </tr>\n",
              "  </thead>\n",
              "  <tbody>\n",
              "    <tr>\n",
              "      <th>Black</th>\n",
              "      <td>17352</td>\n",
              "      <td>7453</td>\n",
              "      <td>42.95</td>\n",
              "    </tr>\n",
              "    <tr>\n",
              "      <th>East/Southeast Asian</th>\n",
              "      <td>4388</td>\n",
              "      <td>2267</td>\n",
              "      <td>51.66</td>\n",
              "    </tr>\n",
              "    <tr>\n",
              "      <th>Indigenous</th>\n",
              "      <td>1907</td>\n",
              "      <td>758</td>\n",
              "      <td>39.75</td>\n",
              "    </tr>\n",
              "    <tr>\n",
              "      <th>Latino</th>\n",
              "      <td>1752</td>\n",
              "      <td>892</td>\n",
              "      <td>50.91</td>\n",
              "    </tr>\n",
              "    <tr>\n",
              "      <th>Middle-Eastern</th>\n",
              "      <td>3213</td>\n",
              "      <td>1509</td>\n",
              "      <td>46.97</td>\n",
              "    </tr>\n",
              "    <tr>\n",
              "      <th>South Asian</th>\n",
              "      <td>3594</td>\n",
              "      <td>1662</td>\n",
              "      <td>46.24</td>\n",
              "    </tr>\n",
              "    <tr>\n",
              "      <th>Unknown or Legacy</th>\n",
              "      <td>5002</td>\n",
              "      <td>2214</td>\n",
              "      <td>44.26</td>\n",
              "    </tr>\n",
              "    <tr>\n",
              "      <th>White</th>\n",
              "      <td>27407</td>\n",
              "      <td>12283</td>\n",
              "      <td>44.82</td>\n",
              "    </tr>\n",
              "  </tbody>\n",
              "</table>\n",
              "</div>\n",
              "      <button class=\"colab-df-convert\" onclick=\"convertToInteractive('df-05616eca-7c99-427b-8111-27b27edbbe27')\"\n",
              "              title=\"Convert this dataframe to an interactive table.\"\n",
              "              style=\"display:none;\">\n",
              "        \n",
              "  <svg xmlns=\"http://www.w3.org/2000/svg\" height=\"24px\"viewBox=\"0 0 24 24\"\n",
              "       width=\"24px\">\n",
              "    <path d=\"M0 0h24v24H0V0z\" fill=\"none\"/>\n",
              "    <path d=\"M18.56 5.44l.94 2.06.94-2.06 2.06-.94-2.06-.94-.94-2.06-.94 2.06-2.06.94zm-11 1L8.5 8.5l.94-2.06 2.06-.94-2.06-.94L8.5 2.5l-.94 2.06-2.06.94zm10 10l.94 2.06.94-2.06 2.06-.94-2.06-.94-.94-2.06-.94 2.06-2.06.94z\"/><path d=\"M17.41 7.96l-1.37-1.37c-.4-.4-.92-.59-1.43-.59-.52 0-1.04.2-1.43.59L10.3 9.45l-7.72 7.72c-.78.78-.78 2.05 0 2.83L4 21.41c.39.39.9.59 1.41.59.51 0 1.02-.2 1.41-.59l7.78-7.78 2.81-2.81c.8-.78.8-2.07 0-2.86zM5.41 20L4 18.59l7.72-7.72 1.47 1.35L5.41 20z\"/>\n",
              "  </svg>\n",
              "      </button>\n",
              "      \n",
              "  <style>\n",
              "    .colab-df-container {\n",
              "      display:flex;\n",
              "      flex-wrap:wrap;\n",
              "      gap: 12px;\n",
              "    }\n",
              "\n",
              "    .colab-df-convert {\n",
              "      background-color: #E8F0FE;\n",
              "      border: none;\n",
              "      border-radius: 50%;\n",
              "      cursor: pointer;\n",
              "      display: none;\n",
              "      fill: #1967D2;\n",
              "      height: 32px;\n",
              "      padding: 0 0 0 0;\n",
              "      width: 32px;\n",
              "    }\n",
              "\n",
              "    .colab-df-convert:hover {\n",
              "      background-color: #E2EBFA;\n",
              "      box-shadow: 0px 1px 2px rgba(60, 64, 67, 0.3), 0px 1px 3px 1px rgba(60, 64, 67, 0.15);\n",
              "      fill: #174EA6;\n",
              "    }\n",
              "\n",
              "    [theme=dark] .colab-df-convert {\n",
              "      background-color: #3B4455;\n",
              "      fill: #D2E3FC;\n",
              "    }\n",
              "\n",
              "    [theme=dark] .colab-df-convert:hover {\n",
              "      background-color: #434B5C;\n",
              "      box-shadow: 0px 1px 3px 1px rgba(0, 0, 0, 0.15);\n",
              "      filter: drop-shadow(0px 1px 2px rgba(0, 0, 0, 0.3));\n",
              "      fill: #FFFFFF;\n",
              "    }\n",
              "  </style>\n",
              "\n",
              "      <script>\n",
              "        const buttonEl =\n",
              "          document.querySelector('#df-05616eca-7c99-427b-8111-27b27edbbe27 button.colab-df-convert');\n",
              "        buttonEl.style.display =\n",
              "          google.colab.kernel.accessAllowed ? 'block' : 'none';\n",
              "\n",
              "        async function convertToInteractive(key) {\n",
              "          const element = document.querySelector('#df-05616eca-7c99-427b-8111-27b27edbbe27');\n",
              "          const dataTable =\n",
              "            await google.colab.kernel.invokeFunction('convertToInteractive',\n",
              "                                                     [key], {});\n",
              "          if (!dataTable) return;\n",
              "\n",
              "          const docLinkHtml = 'Like what you see? Visit the ' +\n",
              "            '<a target=\"_blank\" href=https://colab.research.google.com/notebooks/data_table.ipynb>data table notebook</a>'\n",
              "            + ' to learn more about interactive tables.';\n",
              "          element.innerHTML = '';\n",
              "          dataTable['output_type'] = 'display_data';\n",
              "          await google.colab.output.renderOutput(dataTable, element);\n",
              "          const docLink = document.createElement('div');\n",
              "          docLink.innerHTML = docLinkHtml;\n",
              "          element.appendChild(docLink);\n",
              "        }\n",
              "      </script>\n",
              "    </div>\n",
              "  </div>\n",
              "  "
            ]
          },
          "metadata": {},
          "execution_count": 221
        }
      ]
    },
    {
      "cell_type": "markdown",
      "source": [
        "According to the table, there were 17,352 arrests of individuals perceived as Black, and of those arrests, 7,453 (42.95%) were cooperative. Similarly, there were 27,407 arrests of individuals perceived as White, and of those arrests, 12,283 (44.82%) were cooperative.\n",
        "East/Southeast Asian (51.66%) and Latino (50.91%) individuals appear to have a slightly higher proportion of cooperative arrests than other groups, while Indigenous individuals have a lower proportion (42.95%).\n"
      ],
      "metadata": {
        "id": "oDyUvUQk3jpj"
      }
    },
    {
      "cell_type": "markdown",
      "source": [
        "### Booked, Perceived Races and Number of Arrests"
      ],
      "metadata": {
        "id": "IqucSiblf0qL"
      }
    },
    {
      "cell_type": "code",
      "source": [
        "# group book or not ordered for arrested people by perceived race\n",
        "race_book = df.groupby('Perceived_Race').agg({'Booked': 'sum', 'ObjectId': 'count'})\n",
        "race_book_percent = (race_book['Booked'] / race_book['ObjectId']) * 100\n",
        "\n",
        "# create a table to display the results\n",
        "race_book_table = pd.concat([race_book['ObjectId'], race_book['Booked'], race_book_percent], axis=1, sort=False)\n",
        "race_book_table.columns = ['Total Arrests', 'Booked', 'Booked %']\n",
        "race_book_table.index.name = 'Perceived Race'\n",
        "race_book_table = race_book_table.round(2)\n",
        "\n",
        "race_book_table"
      ],
      "metadata": {
        "colab": {
          "base_uri": "https://localhost:8080/",
          "height": 331
        },
        "id": "5I6PfBsb3od4",
        "outputId": "94152079-c38f-48d1-d308-3ddbddf98de9"
      },
      "execution_count": 222,
      "outputs": [
        {
          "output_type": "execute_result",
          "data": {
            "text/plain": [
              "                      Total Arrests  Booked  Booked %\n",
              "Perceived Race                                       \n",
              "Black                         17352    9666     55.71\n",
              "East/Southeast Asian           4388    2094     47.72\n",
              "Indigenous                     1907    1071     56.16\n",
              "Latino                         1752     964     55.02\n",
              "Middle-Eastern                 3213    1630     50.73\n",
              "South Asian                    3594    1776     49.42\n",
              "Unknown or Legacy              5002    2435     48.68\n",
              "White                         27407   14247     51.98"
            ],
            "text/html": [
              "\n",
              "  <div id=\"df-63a78cb5-8060-48dd-a3c8-4803e3780fff\">\n",
              "    <div class=\"colab-df-container\">\n",
              "      <div>\n",
              "<style scoped>\n",
              "    .dataframe tbody tr th:only-of-type {\n",
              "        vertical-align: middle;\n",
              "    }\n",
              "\n",
              "    .dataframe tbody tr th {\n",
              "        vertical-align: top;\n",
              "    }\n",
              "\n",
              "    .dataframe thead th {\n",
              "        text-align: right;\n",
              "    }\n",
              "</style>\n",
              "<table border=\"1\" class=\"dataframe\">\n",
              "  <thead>\n",
              "    <tr style=\"text-align: right;\">\n",
              "      <th></th>\n",
              "      <th>Total Arrests</th>\n",
              "      <th>Booked</th>\n",
              "      <th>Booked %</th>\n",
              "    </tr>\n",
              "    <tr>\n",
              "      <th>Perceived Race</th>\n",
              "      <th></th>\n",
              "      <th></th>\n",
              "      <th></th>\n",
              "    </tr>\n",
              "  </thead>\n",
              "  <tbody>\n",
              "    <tr>\n",
              "      <th>Black</th>\n",
              "      <td>17352</td>\n",
              "      <td>9666</td>\n",
              "      <td>55.71</td>\n",
              "    </tr>\n",
              "    <tr>\n",
              "      <th>East/Southeast Asian</th>\n",
              "      <td>4388</td>\n",
              "      <td>2094</td>\n",
              "      <td>47.72</td>\n",
              "    </tr>\n",
              "    <tr>\n",
              "      <th>Indigenous</th>\n",
              "      <td>1907</td>\n",
              "      <td>1071</td>\n",
              "      <td>56.16</td>\n",
              "    </tr>\n",
              "    <tr>\n",
              "      <th>Latino</th>\n",
              "      <td>1752</td>\n",
              "      <td>964</td>\n",
              "      <td>55.02</td>\n",
              "    </tr>\n",
              "    <tr>\n",
              "      <th>Middle-Eastern</th>\n",
              "      <td>3213</td>\n",
              "      <td>1630</td>\n",
              "      <td>50.73</td>\n",
              "    </tr>\n",
              "    <tr>\n",
              "      <th>South Asian</th>\n",
              "      <td>3594</td>\n",
              "      <td>1776</td>\n",
              "      <td>49.42</td>\n",
              "    </tr>\n",
              "    <tr>\n",
              "      <th>Unknown or Legacy</th>\n",
              "      <td>5002</td>\n",
              "      <td>2435</td>\n",
              "      <td>48.68</td>\n",
              "    </tr>\n",
              "    <tr>\n",
              "      <th>White</th>\n",
              "      <td>27407</td>\n",
              "      <td>14247</td>\n",
              "      <td>51.98</td>\n",
              "    </tr>\n",
              "  </tbody>\n",
              "</table>\n",
              "</div>\n",
              "      <button class=\"colab-df-convert\" onclick=\"convertToInteractive('df-63a78cb5-8060-48dd-a3c8-4803e3780fff')\"\n",
              "              title=\"Convert this dataframe to an interactive table.\"\n",
              "              style=\"display:none;\">\n",
              "        \n",
              "  <svg xmlns=\"http://www.w3.org/2000/svg\" height=\"24px\"viewBox=\"0 0 24 24\"\n",
              "       width=\"24px\">\n",
              "    <path d=\"M0 0h24v24H0V0z\" fill=\"none\"/>\n",
              "    <path d=\"M18.56 5.44l.94 2.06.94-2.06 2.06-.94-2.06-.94-.94-2.06-.94 2.06-2.06.94zm-11 1L8.5 8.5l.94-2.06 2.06-.94-2.06-.94L8.5 2.5l-.94 2.06-2.06.94zm10 10l.94 2.06.94-2.06 2.06-.94-2.06-.94-.94-2.06-.94 2.06-2.06.94z\"/><path d=\"M17.41 7.96l-1.37-1.37c-.4-.4-.92-.59-1.43-.59-.52 0-1.04.2-1.43.59L10.3 9.45l-7.72 7.72c-.78.78-.78 2.05 0 2.83L4 21.41c.39.39.9.59 1.41.59.51 0 1.02-.2 1.41-.59l7.78-7.78 2.81-2.81c.8-.78.8-2.07 0-2.86zM5.41 20L4 18.59l7.72-7.72 1.47 1.35L5.41 20z\"/>\n",
              "  </svg>\n",
              "      </button>\n",
              "      \n",
              "  <style>\n",
              "    .colab-df-container {\n",
              "      display:flex;\n",
              "      flex-wrap:wrap;\n",
              "      gap: 12px;\n",
              "    }\n",
              "\n",
              "    .colab-df-convert {\n",
              "      background-color: #E8F0FE;\n",
              "      border: none;\n",
              "      border-radius: 50%;\n",
              "      cursor: pointer;\n",
              "      display: none;\n",
              "      fill: #1967D2;\n",
              "      height: 32px;\n",
              "      padding: 0 0 0 0;\n",
              "      width: 32px;\n",
              "    }\n",
              "\n",
              "    .colab-df-convert:hover {\n",
              "      background-color: #E2EBFA;\n",
              "      box-shadow: 0px 1px 2px rgba(60, 64, 67, 0.3), 0px 1px 3px 1px rgba(60, 64, 67, 0.15);\n",
              "      fill: #174EA6;\n",
              "    }\n",
              "\n",
              "    [theme=dark] .colab-df-convert {\n",
              "      background-color: #3B4455;\n",
              "      fill: #D2E3FC;\n",
              "    }\n",
              "\n",
              "    [theme=dark] .colab-df-convert:hover {\n",
              "      background-color: #434B5C;\n",
              "      box-shadow: 0px 1px 3px 1px rgba(0, 0, 0, 0.15);\n",
              "      filter: drop-shadow(0px 1px 2px rgba(0, 0, 0, 0.3));\n",
              "      fill: #FFFFFF;\n",
              "    }\n",
              "  </style>\n",
              "\n",
              "      <script>\n",
              "        const buttonEl =\n",
              "          document.querySelector('#df-63a78cb5-8060-48dd-a3c8-4803e3780fff button.colab-df-convert');\n",
              "        buttonEl.style.display =\n",
              "          google.colab.kernel.accessAllowed ? 'block' : 'none';\n",
              "\n",
              "        async function convertToInteractive(key) {\n",
              "          const element = document.querySelector('#df-63a78cb5-8060-48dd-a3c8-4803e3780fff');\n",
              "          const dataTable =\n",
              "            await google.colab.kernel.invokeFunction('convertToInteractive',\n",
              "                                                     [key], {});\n",
              "          if (!dataTable) return;\n",
              "\n",
              "          const docLinkHtml = 'Like what you see? Visit the ' +\n",
              "            '<a target=\"_blank\" href=https://colab.research.google.com/notebooks/data_table.ipynb>data table notebook</a>'\n",
              "            + ' to learn more about interactive tables.';\n",
              "          element.innerHTML = '';\n",
              "          dataTable['output_type'] = 'display_data';\n",
              "          await google.colab.output.renderOutput(dataTable, element);\n",
              "          const docLink = document.createElement('div');\n",
              "          docLink.innerHTML = docLinkHtml;\n",
              "          element.appendChild(docLink);\n",
              "        }\n",
              "      </script>\n",
              "    </div>\n",
              "  </div>\n",
              "  "
            ]
          },
          "metadata": {},
          "execution_count": 222
        }
      ]
    },
    {
      "cell_type": "markdown",
      "source": [
        "This table shows the number of arrests and the proportion of arrests resulting in booking for each perceived race category. Overall, the table suggests that Indigenous (56.16%) and Black (55.71%) individuals are slightly more likely to be booked following an arrest than other groups, while East/Southeast Asian (47.72%) and South Asian (49.42%) individuals are slightly less likely. "
      ],
      "metadata": {
        "id": "ueUjoVfV4T-a"
      }
    },
    {
      "cell_type": "code",
      "source": [
        "# Select only the columns we need for our analysis\n",
        "sub = df[['Arrest_Year','Arrest_Month','Perceived_Race', 'Booked','Sex','ObjectId']]\n",
        "\n",
        "# Group the data by year, month, and perceived race, and calculate the count of ObjectIds (arrests) and the sum of Booked (booked arrests)\n",
        "aggsub=sub.groupby(['Arrest_Year','Arrest_Month','Perceived_Race']).agg({'ObjectId': 'count','Booked': 'sum'}).reset_index()\n",
        "aggsub"
      ],
      "metadata": {
        "colab": {
          "base_uri": "https://localhost:8080/",
          "height": 423
        },
        "id": "xw6r8V8Daxrt",
        "outputId": "cf63decc-0415-42db-fcff-4989c662fe48"
      },
      "execution_count": 223,
      "outputs": [
        {
          "output_type": "execute_result",
          "data": {
            "text/plain": [
              "    Arrest_Year Arrest_Month        Perceived_Race  ObjectId  Booked\n",
              "0          2020     Apr-June                 Black      1803     952\n",
              "1          2020     Apr-June  East/Southeast Asian       423     208\n",
              "2          2020     Apr-June            Indigenous       196     109\n",
              "3          2020     Apr-June                Latino       170      90\n",
              "4          2020     Apr-June        Middle-Eastern       339     156\n",
              "..          ...          ...                   ...       ...     ...\n",
              "59         2021      Oct-Dec                Latino       261     135\n",
              "60         2021      Oct-Dec        Middle-Eastern       462     233\n",
              "61         2021      Oct-Dec           South Asian       488     232\n",
              "62         2021      Oct-Dec     Unknown or Legacy       561     255\n",
              "63         2021      Oct-Dec                 White      3509    1777\n",
              "\n",
              "[64 rows x 5 columns]"
            ],
            "text/html": [
              "\n",
              "  <div id=\"df-a18a957a-9a7d-4ef9-b62e-8a95d94ed936\">\n",
              "    <div class=\"colab-df-container\">\n",
              "      <div>\n",
              "<style scoped>\n",
              "    .dataframe tbody tr th:only-of-type {\n",
              "        vertical-align: middle;\n",
              "    }\n",
              "\n",
              "    .dataframe tbody tr th {\n",
              "        vertical-align: top;\n",
              "    }\n",
              "\n",
              "    .dataframe thead th {\n",
              "        text-align: right;\n",
              "    }\n",
              "</style>\n",
              "<table border=\"1\" class=\"dataframe\">\n",
              "  <thead>\n",
              "    <tr style=\"text-align: right;\">\n",
              "      <th></th>\n",
              "      <th>Arrest_Year</th>\n",
              "      <th>Arrest_Month</th>\n",
              "      <th>Perceived_Race</th>\n",
              "      <th>ObjectId</th>\n",
              "      <th>Booked</th>\n",
              "    </tr>\n",
              "  </thead>\n",
              "  <tbody>\n",
              "    <tr>\n",
              "      <th>0</th>\n",
              "      <td>2020</td>\n",
              "      <td>Apr-June</td>\n",
              "      <td>Black</td>\n",
              "      <td>1803</td>\n",
              "      <td>952</td>\n",
              "    </tr>\n",
              "    <tr>\n",
              "      <th>1</th>\n",
              "      <td>2020</td>\n",
              "      <td>Apr-June</td>\n",
              "      <td>East/Southeast Asian</td>\n",
              "      <td>423</td>\n",
              "      <td>208</td>\n",
              "    </tr>\n",
              "    <tr>\n",
              "      <th>2</th>\n",
              "      <td>2020</td>\n",
              "      <td>Apr-June</td>\n",
              "      <td>Indigenous</td>\n",
              "      <td>196</td>\n",
              "      <td>109</td>\n",
              "    </tr>\n",
              "    <tr>\n",
              "      <th>3</th>\n",
              "      <td>2020</td>\n",
              "      <td>Apr-June</td>\n",
              "      <td>Latino</td>\n",
              "      <td>170</td>\n",
              "      <td>90</td>\n",
              "    </tr>\n",
              "    <tr>\n",
              "      <th>4</th>\n",
              "      <td>2020</td>\n",
              "      <td>Apr-June</td>\n",
              "      <td>Middle-Eastern</td>\n",
              "      <td>339</td>\n",
              "      <td>156</td>\n",
              "    </tr>\n",
              "    <tr>\n",
              "      <th>...</th>\n",
              "      <td>...</td>\n",
              "      <td>...</td>\n",
              "      <td>...</td>\n",
              "      <td>...</td>\n",
              "      <td>...</td>\n",
              "    </tr>\n",
              "    <tr>\n",
              "      <th>59</th>\n",
              "      <td>2021</td>\n",
              "      <td>Oct-Dec</td>\n",
              "      <td>Latino</td>\n",
              "      <td>261</td>\n",
              "      <td>135</td>\n",
              "    </tr>\n",
              "    <tr>\n",
              "      <th>60</th>\n",
              "      <td>2021</td>\n",
              "      <td>Oct-Dec</td>\n",
              "      <td>Middle-Eastern</td>\n",
              "      <td>462</td>\n",
              "      <td>233</td>\n",
              "    </tr>\n",
              "    <tr>\n",
              "      <th>61</th>\n",
              "      <td>2021</td>\n",
              "      <td>Oct-Dec</td>\n",
              "      <td>South Asian</td>\n",
              "      <td>488</td>\n",
              "      <td>232</td>\n",
              "    </tr>\n",
              "    <tr>\n",
              "      <th>62</th>\n",
              "      <td>2021</td>\n",
              "      <td>Oct-Dec</td>\n",
              "      <td>Unknown or Legacy</td>\n",
              "      <td>561</td>\n",
              "      <td>255</td>\n",
              "    </tr>\n",
              "    <tr>\n",
              "      <th>63</th>\n",
              "      <td>2021</td>\n",
              "      <td>Oct-Dec</td>\n",
              "      <td>White</td>\n",
              "      <td>3509</td>\n",
              "      <td>1777</td>\n",
              "    </tr>\n",
              "  </tbody>\n",
              "</table>\n",
              "<p>64 rows × 5 columns</p>\n",
              "</div>\n",
              "      <button class=\"colab-df-convert\" onclick=\"convertToInteractive('df-a18a957a-9a7d-4ef9-b62e-8a95d94ed936')\"\n",
              "              title=\"Convert this dataframe to an interactive table.\"\n",
              "              style=\"display:none;\">\n",
              "        \n",
              "  <svg xmlns=\"http://www.w3.org/2000/svg\" height=\"24px\"viewBox=\"0 0 24 24\"\n",
              "       width=\"24px\">\n",
              "    <path d=\"M0 0h24v24H0V0z\" fill=\"none\"/>\n",
              "    <path d=\"M18.56 5.44l.94 2.06.94-2.06 2.06-.94-2.06-.94-.94-2.06-.94 2.06-2.06.94zm-11 1L8.5 8.5l.94-2.06 2.06-.94-2.06-.94L8.5 2.5l-.94 2.06-2.06.94zm10 10l.94 2.06.94-2.06 2.06-.94-2.06-.94-.94-2.06-.94 2.06-2.06.94z\"/><path d=\"M17.41 7.96l-1.37-1.37c-.4-.4-.92-.59-1.43-.59-.52 0-1.04.2-1.43.59L10.3 9.45l-7.72 7.72c-.78.78-.78 2.05 0 2.83L4 21.41c.39.39.9.59 1.41.59.51 0 1.02-.2 1.41-.59l7.78-7.78 2.81-2.81c.8-.78.8-2.07 0-2.86zM5.41 20L4 18.59l7.72-7.72 1.47 1.35L5.41 20z\"/>\n",
              "  </svg>\n",
              "      </button>\n",
              "      \n",
              "  <style>\n",
              "    .colab-df-container {\n",
              "      display:flex;\n",
              "      flex-wrap:wrap;\n",
              "      gap: 12px;\n",
              "    }\n",
              "\n",
              "    .colab-df-convert {\n",
              "      background-color: #E8F0FE;\n",
              "      border: none;\n",
              "      border-radius: 50%;\n",
              "      cursor: pointer;\n",
              "      display: none;\n",
              "      fill: #1967D2;\n",
              "      height: 32px;\n",
              "      padding: 0 0 0 0;\n",
              "      width: 32px;\n",
              "    }\n",
              "\n",
              "    .colab-df-convert:hover {\n",
              "      background-color: #E2EBFA;\n",
              "      box-shadow: 0px 1px 2px rgba(60, 64, 67, 0.3), 0px 1px 3px 1px rgba(60, 64, 67, 0.15);\n",
              "      fill: #174EA6;\n",
              "    }\n",
              "\n",
              "    [theme=dark] .colab-df-convert {\n",
              "      background-color: #3B4455;\n",
              "      fill: #D2E3FC;\n",
              "    }\n",
              "\n",
              "    [theme=dark] .colab-df-convert:hover {\n",
              "      background-color: #434B5C;\n",
              "      box-shadow: 0px 1px 3px 1px rgba(0, 0, 0, 0.15);\n",
              "      filter: drop-shadow(0px 1px 2px rgba(0, 0, 0, 0.3));\n",
              "      fill: #FFFFFF;\n",
              "    }\n",
              "  </style>\n",
              "\n",
              "      <script>\n",
              "        const buttonEl =\n",
              "          document.querySelector('#df-a18a957a-9a7d-4ef9-b62e-8a95d94ed936 button.colab-df-convert');\n",
              "        buttonEl.style.display =\n",
              "          google.colab.kernel.accessAllowed ? 'block' : 'none';\n",
              "\n",
              "        async function convertToInteractive(key) {\n",
              "          const element = document.querySelector('#df-a18a957a-9a7d-4ef9-b62e-8a95d94ed936');\n",
              "          const dataTable =\n",
              "            await google.colab.kernel.invokeFunction('convertToInteractive',\n",
              "                                                     [key], {});\n",
              "          if (!dataTable) return;\n",
              "\n",
              "          const docLinkHtml = 'Like what you see? Visit the ' +\n",
              "            '<a target=\"_blank\" href=https://colab.research.google.com/notebooks/data_table.ipynb>data table notebook</a>'\n",
              "            + ' to learn more about interactive tables.';\n",
              "          element.innerHTML = '';\n",
              "          dataTable['output_type'] = 'display_data';\n",
              "          await google.colab.output.renderOutput(dataTable, element);\n",
              "          const docLink = document.createElement('div');\n",
              "          docLink.innerHTML = docLinkHtml;\n",
              "          element.appendChild(docLink);\n",
              "        }\n",
              "      </script>\n",
              "    </div>\n",
              "  </div>\n",
              "  "
            ]
          },
          "metadata": {},
          "execution_count": 223
        }
      ]
    },
    {
      "cell_type": "code",
      "source": [
        "# Get the unique perceived race categories from the aggregated DataFrame\n",
        "races = aggsub['Perceived_Race'].unique()\n",
        "\n",
        "# Iterate over each perceived race category and plot a regression line of booked arrests against total arrests for that category\n",
        "fig, ax = plt.subplots()\n",
        "\n",
        "for race in races:\n",
        "    race_data = aggsub[aggsub['Perceived_Race'] == race]\n",
        "    sns.regplot(x=\"Booked\", y=\"ObjectId\", data=race_data, label=race, ci=None)\n",
        "\n",
        "ax.legend()\n",
        "plt.show()"
      ],
      "metadata": {
        "colab": {
          "base_uri": "https://localhost:8080/",
          "height": 503
        },
        "id": "g2LKfB4Pjd-m",
        "outputId": "16a0c112-10e5-430c-a0d0-0ddfe025f561"
      },
      "execution_count": 224,
      "outputs": [
        {
          "output_type": "display_data",
          "data": {
            "text/plain": [
              "<Figure size 800x550 with 1 Axes>"
            ],
            "image/png": "[encoded data removed]"
          },
          "metadata": {}
        }
      ]
    },
    {
      "cell_type": "markdown",
      "source": [
        "The scatterplot with regression lines for each perceived race category shows a clear linear relationship between the number of booked strip searches and the total number of arrests. Each race category is represented by a different regression line, with all lines showing a positive slope and a statistically significant relationship between the two variables. "
      ],
      "metadata": {
        "id": "24zx-OlCkpFM"
      }
    },
    {
      "cell_type": "code",
      "source": [
        "# Group the DataFrame by quarter and ArrestLocDiv, and count the number of observations in each group\n",
        "new_df = df.groupby(['Quarter', 'ArrestLocDiv']).count()[['ObjectId']]\n",
        "new_df = new_df.unstack(level=1)\n",
        "\n",
        "colors = ['blue', 'orange', 'green', 'red', 'purple', 'brown', 'pink', 'gray', 'olive', 'cyan', 'magenta', 'teal', 'gold', 'navy', 'sienna', 'maroon', 'darkslateblue', 'limegreen']\n",
        "# Create a line plot of the number of arrests by location over time\n",
        "ax = new_df.plot(kind='line', color=colors)\n",
        "ax.legend(loc='center left', bbox_to_anchor=(1, 0.5))\n",
        "# Add axis labels and a title to the plot\n",
        "plt.xlabel('Quarter')\n",
        "plt.ylabel('Number of Arrests')\n",
        "plt.title('Number of Arrests by Location')\n",
        "plt.ylim(0, 1000) # Focus on different ArrestLocDiv\n",
        "plt.show()\n"
      ],
      "metadata": {
        "colab": {
          "base_uri": "https://localhost:8080/",
          "height": 482
        },
        "id": "lCpwLS_CJszV",
        "outputId": "1d1aab35-e857-430c-c920-488300c1f3be"
      },
      "execution_count": 225,
      "outputs": [
        {
          "output_type": "display_data",
          "data": {
            "text/plain": [
              "<Figure size 800x550 with 1 Axes>"
            ],
            "image/png": "[encoded data removed]"
          },
          "metadata": {}
        }
      ]
    },
    {
      "cell_type": "markdown",
      "source": [
        "The plot shows the number of arrests by arrest location for each quarter from 2020 to 2021. Each line represents a different arrest location, and the colour of each line is unique. The y-axis shows the number of arrests, and the x-axis represents the quarters of the two years.\n",
        "It is clear from the plot that Loc51 has the highest number of arrests compared to other arrest locations. Additionally, we can see that the number of arrests fluctuates throughout the quarters, with some quarters having higher arrest rates than others."
      ],
      "metadata": {
        "id": "0231alfEKAJn"
      }
    },
    {
      "cell_type": "markdown",
      "source": [
        "## T-test"
      ],
      "metadata": {
        "id": "RFZ1m2ORjLSG"
      }
    },
    {
      "cell_type": "markdown",
      "source": [
        "### T-test #1: Number of Arrests Male vs Female"
      ],
      "metadata": {
        "id": "uh0BCDpOjOio"
      }
    },
    {
      "cell_type": "markdown",
      "source": [
        "H0 (Null Hypothesis): The mean number of arrests among sex groups is equal.\n",
        "\n",
        "Ha (Alternative Hypothesis): The mean number of arrests among sex groups is not equal."
      ],
      "metadata": {
        "id": "qHh1lX6bjVYm"
      }
    },
    {
      "cell_type": "code",
      "source": [
        "# Create separate subsets of different sex\n",
        "M = sexsub[sexsub['Sex'] == 'M'][['ObjectId']]\n",
        "F = sexsub[sexsub['Sex'] == 'F'][['ObjectId']]\n",
        "U = sexsub[sexsub['Sex'] == 'U'][['ObjectId']]"
      ],
      "metadata": {
        "id": "h_5upXaqjaKQ"
      },
      "execution_count": 226,
      "outputs": []
    },
    {
      "cell_type": "code",
      "source": [
        "# check normality\n",
        "stat, p = stats.shapiro(M)\n",
        "print(p)\n",
        "stat, p = stats.shapiro(F)\n",
        "print(p)\n",
        "#satisfied normality"
      ],
      "metadata": {
        "colab": {
          "base_uri": "https://localhost:8080/"
        },
        "id": "vAcWPtSLjdbM",
        "outputId": "05384bca-b13c-452f-b555-071290f54a95"
      },
      "execution_count": 227,
      "outputs": [
        {
          "output_type": "stream",
          "name": "stdout",
          "text": [
            "0.4491638243198395\n",
            "0.3535528779029846\n"
          ]
        }
      ]
    },
    {
      "cell_type": "code",
      "source": [
        "# check equal variance\n",
        "M = M.values.flatten()\n",
        "F = F.values.flatten()\n",
        "stat, p = stats.levene(M, F)\n",
        "# equal variance\n",
        "print(p)"
      ],
      "metadata": {
        "colab": {
          "base_uri": "https://localhost:8080/"
        },
        "id": "am0Rct5yjdhX",
        "outputId": "2507ba8c-dc2a-465b-a289-f5adf75e8313"
      },
      "execution_count": 228,
      "outputs": [
        {
          "output_type": "stream",
          "name": "stdout",
          "text": [
            "0.23324344778964115\n"
          ]
        }
      ]
    },
    {
      "cell_type": "code",
      "source": [
        "# Mean and STD for male and female\n",
        "print(\"Male - mean: {:.2f}, std: {:.2f}\".format(np.mean(M), np.std(M)))\n",
        "print(\"Female - mean: {:.2f}, std: {:.2f}\".format(np.mean(F), np.std(F)))"
      ],
      "metadata": {
        "colab": {
          "base_uri": "https://localhost:8080/"
        },
        "id": "7m7jWMsOjdoX",
        "outputId": "a259d324-e531-4dcd-a40c-a621359f40b4"
      },
      "execution_count": 229,
      "outputs": [
        {
          "output_type": "stream",
          "name": "stdout",
          "text": [
            "Male - mean: 6513.25, std: 490.29\n",
            "Female - mean: 1562.50, std: 244.09\n"
          ]
        }
      ]
    },
    {
      "cell_type": "code",
      "source": [
        "# Calculate the t-statistic and p-value for the two groups (M and F)\n",
        "t_statistic, p_value = stats.ttest_ind(M, F)\n",
        "print(\"The t-statistic is {:.3f} and the p-value is {:.3e}\".format(t_statistic, p_value))"
      ],
      "metadata": {
        "colab": {
          "base_uri": "https://localhost:8080/"
        },
        "id": "jsEe-3PLjkvN",
        "outputId": "05fecba2-81d4-468c-f800-e38976ddb8e4"
      },
      "execution_count": 230,
      "outputs": [
        {
          "output_type": "stream",
          "name": "stdout",
          "text": [
            "The t-statistic is 23.916 and the p-value is 9.407e-13\n"
          ]
        }
      ]
    },
    {
      "cell_type": "markdown",
      "source": [
        "The mean number of arrests for male individuals is 6513.25 with a standard deviation of 490.29, while the mean number of arrests for female individuals is 1562.50 with a standard deviation of 244.09. The t-test comparing the means of the two groups yielded a t-statistic of 23.916 and a very small p-value of 9.407e-13.\n",
        "\n",
        "This indicates that there is a significant difference in the mean number of arrests between the two groups. Specifically, we have enough evidence to reject the null hypothesis that the means of arrests between male and female individuals are equal, in favor of the alternative hypothesis that they are not equal. "
      ],
      "metadata": {
        "id": "aPWQYtgCkgB1"
      }
    },
    {
      "cell_type": "markdown",
      "source": [
        "### T-test #2: Number of Arrests White vs Black"
      ],
      "metadata": {
        "id": "iynpHu74jSSP"
      }
    },
    {
      "cell_type": "markdown",
      "source": [
        "H0 (Null Hypothesis): The mean number of arrests between White and Black individuals is equal.\n",
        "\n",
        "Ha (Alternative Hypothesis): The mean number of arrests between White and Black individuals is not equal."
      ],
      "metadata": {
        "id": "IbwlKZBfk2Af"
      }
    },
    {
      "cell_type": "code",
      "source": [
        "# Create separate subsets of different race\n",
        "W = racec[racec['Perceived_Race'] == 'White'][['ObjectId']]\n",
        "B = racec[racec['Perceived_Race'] == 'Black'][['ObjectId']]"
      ],
      "metadata": {
        "id": "gjsIi5VqjldT"
      },
      "execution_count": 231,
      "outputs": []
    },
    {
      "cell_type": "code",
      "source": [
        "# check normality\n",
        "stat, p = stats.shapiro(W)\n",
        "print(p)\n",
        "stat, p = stats.shapiro(B)\n",
        "print(p)\n",
        "#satisfied normality"
      ],
      "metadata": {
        "colab": {
          "base_uri": "https://localhost:8080/"
        },
        "id": "bdm577urjG7z",
        "outputId": "0ef42870-79c2-4ea6-973f-8ea8622d1fd3"
      },
      "execution_count": 232,
      "outputs": [
        {
          "output_type": "stream",
          "name": "stdout",
          "text": [
            "0.07920736819505692\n",
            "0.14689260721206665\n"
          ]
        }
      ]
    },
    {
      "cell_type": "code",
      "source": [
        "# check equal variance\n",
        "W = W.values.flatten()\n",
        "B = B.values.flatten()\n",
        "stat, p = stats.levene(W, B)\n",
        "# equal variance\n",
        "print(p)"
      ],
      "metadata": {
        "colab": {
          "base_uri": "https://localhost:8080/"
        },
        "id": "YfGOMYgvmUal",
        "outputId": "71403015-3973-459c-9ef2-6278b1ccf85b"
      },
      "execution_count": 233,
      "outputs": [
        {
          "output_type": "stream",
          "name": "stdout",
          "text": [
            "0.24552641247859874\n"
          ]
        }
      ]
    },
    {
      "cell_type": "code",
      "source": [
        "# Mean and STD for White and Black\n",
        "print(\"White - mean: {:.2f}, std: {:.2f}\".format(np.mean(W), np.std(W)))\n",
        "print(\"Black - mean: {:.2f}, std: {:.2f}\".format(np.mean(B), np.std(B)))"
      ],
      "metadata": {
        "colab": {
          "base_uri": "https://localhost:8080/"
        },
        "id": "0cJDmX5nlUGy",
        "outputId": "25f9f319-ff0e-44e2-9546-aff612876577"
      },
      "execution_count": 234,
      "outputs": [
        {
          "output_type": "stream",
          "name": "stdout",
          "text": [
            "White - mean: 1712.94, std: 250.52\n",
            "Black - mean: 1084.50, std: 188.09\n"
          ]
        }
      ]
    },
    {
      "cell_type": "code",
      "source": [
        "# Calculate the t-statistic and p-value for the two groups (W and B)\n",
        "t_statistic, p_value = stats.ttest_ind(W, B)\n",
        "\n",
        "# Print the results of the t-test to the console\n",
        "print(\"The t-statistic is {:.3f} and the p-value is {:.3e}\".format(t_statistic, p_value))"
      ],
      "metadata": {
        "colab": {
          "base_uri": "https://localhost:8080/"
        },
        "id": "huVoivmRmbFB",
        "outputId": "bf6fe557-9abf-48ff-b4be-140f1e84b572"
      },
      "execution_count": 235,
      "outputs": [
        {
          "output_type": "stream",
          "name": "stdout",
          "text": [
            "The t-statistic is 7.769 and the p-value is 1.142e-08\n"
          ]
        }
      ]
    },
    {
      "cell_type": "markdown",
      "source": [
        "The mean number of arrests for White individuals is 1712.94 with a standard deviation of 250.52, while the mean number of arrests for Black individuals is 1084.50 with a standard deviation of 188.09. The t-test comparing the means of the two groups yielded a t-statistic of 7.769 and a very small p-value of 1.142e-08.\n",
        "\n",
        "The small p-value indicates that the probability of observing such a large difference in means by chance alone is very low, providing strong evidence against the null hypothesis that there is no difference in the mean number of arrests between White and Black individuals. Therefore, we can reject the null hypothesis in favour of the alternative hypothesis that the mean number of arrests between the two groups is not equal. "
      ],
      "metadata": {
        "id": "rE9NBUFCnIlC"
      }
    },
    {
      "cell_type": "markdown",
      "source": [
        "### T-test #3: Mean of Cooperative Arrests Among Different Perceived Race Groups"
      ],
      "metadata": {
        "id": "SK9wSuNhnid8"
      }
    },
    {
      "cell_type": "markdown",
      "source": [
        "H0 (Null Hypothesis): The mean of cooperative arrests among race groups is equal.\n",
        "\n",
        "Ha (Alternative Hypothesis): The mean of cooperative arrests among race groups is not equal."
      ],
      "metadata": {
        "id": "h3uy99FhnmUE"
      }
    },
    {
      "cell_type": "code",
      "source": [
        "race1 = df[[\n",
        "    'Arrest_Year', 'Arrest_Month', 'ObjectId', 'Perceived_Race', 'StripSearch',\n",
        "    'Actions_at_arrest___Combative__', 'Actions_at_arrest___Cooperative'\n",
        "]].dropna()"
      ],
      "metadata": {
        "id": "y_k6VfXjrJ8a"
      },
      "execution_count": 236,
      "outputs": []
    },
    {
      "cell_type": "code",
      "source": [
        "racenum = race1.groupby([\n",
        "    'Arrest_Year', 'Arrest_Month', 'Actions_at_arrest___Cooperative', 'Perceived_Race'\n",
        "]).agg({\n",
        "    'ObjectId': 'count'\n",
        "}).reset_index()\n",
        "\n",
        "race_to_number = {\n",
        "    'White': 1,\n",
        "    'Unknown or Legacy': 2,\n",
        "    'Black': 3,\n",
        "    'South Asian': 4,\n",
        "    'Indigenous': 5,\n",
        "    'Middle-Eastern': 6,\n",
        "    'Latino': 7,\n",
        "    'East/Southeast Asian': 8\n",
        "}\n",
        "\n",
        "# Map race names to numbers\n",
        "racenum['Perceived_Race'] = racenum['Perceived_Race'].map(race_to_number)\n",
        "# group arrests people by perceived race\n",
        "racenew = racenum.groupby('Perceived_Race')['ObjectId'].sum().reset_index()"
      ],
      "metadata": {
        "id": "juq0t0vro1Na"
      },
      "execution_count": 237,
      "outputs": []
    },
    {
      "cell_type": "code",
      "source": [
        "# create separate subsets of different race\n",
        "ncoop = racenum[racenum['Actions_at_arrest___Cooperative'] == 1]\n",
        "groupednc = ncoop.groupby([\n",
        "    'Arrest_Year', 'Arrest_Month', 'Perceived_Race',\n",
        "    'Actions_at_arrest___Cooperative'\n",
        "]).agg({\n",
        "    'ObjectId': 'sum'\n",
        "}).reset_index()\n",
        "groupednc"
      ],
      "metadata": {
        "colab": {
          "base_uri": "https://localhost:8080/",
          "height": 423
        },
        "id": "h41kq1zcnhqb",
        "outputId": "c1bbd6bd-f494-4865-b90a-df22d3f57cbc"
      },
      "execution_count": 238,
      "outputs": [
        {
          "output_type": "execute_result",
          "data": {
            "text/plain": [
              "    Arrest_Year Arrest_Month  Perceived_Race  Actions_at_arrest___Cooperative  \\\n",
              "0          2020     Apr-June               1                                1   \n",
              "1          2020     Apr-June               2                                1   \n",
              "2          2020     Apr-June               3                                1   \n",
              "3          2020     Apr-June               4                                1   \n",
              "4          2020     Apr-June               5                                1   \n",
              "..          ...          ...             ...                              ...   \n",
              "59         2021      Oct-Dec               4                                1   \n",
              "60         2021      Oct-Dec               5                                1   \n",
              "61         2021      Oct-Dec               6                                1   \n",
              "62         2021      Oct-Dec               7                                1   \n",
              "63         2021      Oct-Dec               8                                1   \n",
              "\n",
              "    ObjectId  \n",
              "0       1395  \n",
              "1        242  \n",
              "2        740  \n",
              "3        170  \n",
              "4         68  \n",
              "..       ...  \n",
              "59       229  \n",
              "60        87  \n",
              "61       214  \n",
              "62       138  \n",
              "63       345  \n",
              "\n",
              "[64 rows x 5 columns]"
            ],
            "text/html": [
              "\n",
              "  <div id=\"df-703a9612-f6a0-46dd-acba-c474e697da7e\">\n",
              "    <div class=\"colab-df-container\">\n",
              "      <div>\n",
              "<style scoped>\n",
              "    .dataframe tbody tr th:only-of-type {\n",
              "        vertical-align: middle;\n",
              "    }\n",
              "\n",
              "    .dataframe tbody tr th {\n",
              "        vertical-align: top;\n",
              "    }\n",
              "\n",
              "    .dataframe thead th {\n",
              "        text-align: right;\n",
              "    }\n",
              "</style>\n",
              "<table border=\"1\" class=\"dataframe\">\n",
              "  <thead>\n",
              "    <tr style=\"text-align: right;\">\n",
              "      <th></th>\n",
              "      <th>Arrest_Year</th>\n",
              "      <th>Arrest_Month</th>\n",
              "      <th>Perceived_Race</th>\n",
              "      <th>Actions_at_arrest___Cooperative</th>\n",
              "      <th>ObjectId</th>\n",
              "    </tr>\n",
              "  </thead>\n",
              "  <tbody>\n",
              "    <tr>\n",
              "      <th>0</th>\n",
              "      <td>2020</td>\n",
              "      <td>Apr-June</td>\n",
              "      <td>1</td>\n",
              "      <td>1</td>\n",
              "      <td>1395</td>\n",
              "    </tr>\n",
              "    <tr>\n",
              "      <th>1</th>\n",
              "      <td>2020</td>\n",
              "      <td>Apr-June</td>\n",
              "      <td>2</td>\n",
              "      <td>1</td>\n",
              "      <td>242</td>\n",
              "    </tr>\n",
              "    <tr>\n",
              "      <th>2</th>\n",
              "      <td>2020</td>\n",
              "      <td>Apr-June</td>\n",
              "      <td>3</td>\n",
              "      <td>1</td>\n",
              "      <td>740</td>\n",
              "    </tr>\n",
              "    <tr>\n",
              "      <th>3</th>\n",
              "      <td>2020</td>\n",
              "      <td>Apr-June</td>\n",
              "      <td>4</td>\n",
              "      <td>1</td>\n",
              "      <td>170</td>\n",
              "    </tr>\n",
              "    <tr>\n",
              "      <th>4</th>\n",
              "      <td>2020</td>\n",
              "      <td>Apr-June</td>\n",
              "      <td>5</td>\n",
              "      <td>1</td>\n",
              "      <td>68</td>\n",
              "    </tr>\n",
              "    <tr>\n",
              "      <th>...</th>\n",
              "      <td>...</td>\n",
              "      <td>...</td>\n",
              "      <td>...</td>\n",
              "      <td>...</td>\n",
              "      <td>...</td>\n",
              "    </tr>\n",
              "    <tr>\n",
              "      <th>59</th>\n",
              "      <td>2021</td>\n",
              "      <td>Oct-Dec</td>\n",
              "      <td>4</td>\n",
              "      <td>1</td>\n",
              "      <td>229</td>\n",
              "    </tr>\n",
              "    <tr>\n",
              "      <th>60</th>\n",
              "      <td>2021</td>\n",
              "      <td>Oct-Dec</td>\n",
              "      <td>5</td>\n",
              "      <td>1</td>\n",
              "      <td>87</td>\n",
              "    </tr>\n",
              "    <tr>\n",
              "      <th>61</th>\n",
              "      <td>2021</td>\n",
              "      <td>Oct-Dec</td>\n",
              "      <td>6</td>\n",
              "      <td>1</td>\n",
              "      <td>214</td>\n",
              "    </tr>\n",
              "    <tr>\n",
              "      <th>62</th>\n",
              "      <td>2021</td>\n",
              "      <td>Oct-Dec</td>\n",
              "      <td>7</td>\n",
              "      <td>1</td>\n",
              "      <td>138</td>\n",
              "    </tr>\n",
              "    <tr>\n",
              "      <th>63</th>\n",
              "      <td>2021</td>\n",
              "      <td>Oct-Dec</td>\n",
              "      <td>8</td>\n",
              "      <td>1</td>\n",
              "      <td>345</td>\n",
              "    </tr>\n",
              "  </tbody>\n",
              "</table>\n",
              "<p>64 rows × 5 columns</p>\n",
              "</div>\n",
              "      <button class=\"colab-df-convert\" onclick=\"convertToInteractive('df-703a9612-f6a0-46dd-acba-c474e697da7e')\"\n",
              "              title=\"Convert this dataframe to an interactive table.\"\n",
              "              style=\"display:none;\">\n",
              "        \n",
              "  <svg xmlns=\"http://www.w3.org/2000/svg\" height=\"24px\"viewBox=\"0 0 24 24\"\n",
              "       width=\"24px\">\n",
              "    <path d=\"M0 0h24v24H0V0z\" fill=\"none\"/>\n",
              "    <path d=\"M18.56 5.44l.94 2.06.94-2.06 2.06-.94-2.06-.94-.94-2.06-.94 2.06-2.06.94zm-11 1L8.5 8.5l.94-2.06 2.06-.94-2.06-.94L8.5 2.5l-.94 2.06-2.06.94zm10 10l.94 2.06.94-2.06 2.06-.94-2.06-.94-.94-2.06-.94 2.06-2.06.94z\"/><path d=\"M17.41 7.96l-1.37-1.37c-.4-.4-.92-.59-1.43-.59-.52 0-1.04.2-1.43.59L10.3 9.45l-7.72 7.72c-.78.78-.78 2.05 0 2.83L4 21.41c.39.39.9.59 1.41.59.51 0 1.02-.2 1.41-.59l7.78-7.78 2.81-2.81c.8-.78.8-2.07 0-2.86zM5.41 20L4 18.59l7.72-7.72 1.47 1.35L5.41 20z\"/>\n",
              "  </svg>\n",
              "      </button>\n",
              "      \n",
              "  <style>\n",
              "    .colab-df-container {\n",
              "      display:flex;\n",
              "      flex-wrap:wrap;\n",
              "      gap: 12px;\n",
              "    }\n",
              "\n",
              "    .colab-df-convert {\n",
              "      background-color: #E8F0FE;\n",
              "      border: none;\n",
              "      border-radius: 50%;\n",
              "      cursor: pointer;\n",
              "      display: none;\n",
              "      fill: #1967D2;\n",
              "      height: 32px;\n",
              "      padding: 0 0 0 0;\n",
              "      width: 32px;\n",
              "    }\n",
              "\n",
              "    .colab-df-convert:hover {\n",
              "      background-color: #E2EBFA;\n",
              "      box-shadow: 0px 1px 2px rgba(60, 64, 67, 0.3), 0px 1px 3px 1px rgba(60, 64, 67, 0.15);\n",
              "      fill: #174EA6;\n",
              "    }\n",
              "\n",
              "    [theme=dark] .colab-df-convert {\n",
              "      background-color: #3B4455;\n",
              "      fill: #D2E3FC;\n",
              "    }\n",
              "\n",
              "    [theme=dark] .colab-df-convert:hover {\n",
              "      background-color: #434B5C;\n",
              "      box-shadow: 0px 1px 3px 1px rgba(0, 0, 0, 0.15);\n",
              "      filter: drop-shadow(0px 1px 2px rgba(0, 0, 0, 0.3));\n",
              "      fill: #FFFFFF;\n",
              "    }\n",
              "  </style>\n",
              "\n",
              "      <script>\n",
              "        const buttonEl =\n",
              "          document.querySelector('#df-703a9612-f6a0-46dd-acba-c474e697da7e button.colab-df-convert');\n",
              "        buttonEl.style.display =\n",
              "          google.colab.kernel.accessAllowed ? 'block' : 'none';\n",
              "\n",
              "        async function convertToInteractive(key) {\n",
              "          const element = document.querySelector('#df-703a9612-f6a0-46dd-acba-c474e697da7e');\n",
              "          const dataTable =\n",
              "            await google.colab.kernel.invokeFunction('convertToInteractive',\n",
              "                                                     [key], {});\n",
              "          if (!dataTable) return;\n",
              "\n",
              "          const docLinkHtml = 'Like what you see? Visit the ' +\n",
              "            '<a target=\"_blank\" href=https://colab.research.google.com/notebooks/data_table.ipynb>data table notebook</a>'\n",
              "            + ' to learn more about interactive tables.';\n",
              "          element.innerHTML = '';\n",
              "          dataTable['output_type'] = 'display_data';\n",
              "          await google.colab.output.renderOutput(dataTable, element);\n",
              "          const docLink = document.createElement('div');\n",
              "          docLink.innerHTML = docLinkHtml;\n",
              "          element.appendChild(docLink);\n",
              "        }\n",
              "      </script>\n",
              "    </div>\n",
              "  </div>\n",
              "  "
            ]
          },
          "metadata": {},
          "execution_count": 238
        }
      ]
    },
    {
      "cell_type": "code",
      "source": [
        "# create a dictionary with race as keys and number of cases as values\n",
        "race_object_dict = {i: [] for i in range(1, 9)}\n",
        "\n",
        "# Iterate through each row and append the object ID to the corresponding list in the dictionary\n",
        "for index, row in groupednc.iterrows():\n",
        "    race = row['Perceived_Race']\n",
        "    obj_id = row['ObjectId']\n",
        "    race_object_dict[race].append(obj_id)\n",
        "race_object_dict"
      ],
      "metadata": {
        "colab": {
          "base_uri": "https://localhost:8080/"
        },
        "id": "J88g4DrAn6IB",
        "outputId": "a8f8f118-124a-4d6f-b187-b55ce9aa6e27"
      },
      "execution_count": 239,
      "outputs": [
        {
          "output_type": "execute_result",
          "data": {
            "text/plain": [
              "{1: [1395, 1921, 1555, 1357, 1519, 1500, 1522, 1514],\n",
              " 2: [242, 442, 263, 199, 276, 249, 291, 252],\n",
              " 3: [740, 1168, 1003, 831, 914, 988, 885, 924],\n",
              " 4: [170, 242, 224, 204, 205, 192, 196, 229],\n",
              " 5: [68, 115, 103, 100, 82, 116, 87, 87],\n",
              " 6: [155, 188, 188, 174, 199, 173, 218, 214],\n",
              " 7: [97, 91, 112, 100, 112, 103, 139, 138],\n",
              " 8: [226, 312, 291, 261, 263, 291, 278, 345]}"
            ]
          },
          "metadata": {},
          "execution_count": 239
        }
      ]
    },
    {
      "cell_type": "code",
      "source": [
        "# use a loop to check normality of all races\n",
        "for race in range(1, 9):\n",
        "    # we don't care about the test statistic\n",
        "    _, p_value = stats.shapiro(race_object_dict[race])\n",
        "    if p_value > 0.05:\n",
        "        print(\n",
        "            f\"Perceived Race {race} follows a normal distribution (p-value: {p_value})\"\n",
        "        )\n",
        "    else:\n",
        "        print(\n",
        "            f\"Perceived Race {race} doesn't follow a normal distribution (p-value: {p_value})\"\n",
        "        )"
      ],
      "metadata": {
        "colab": {
          "base_uri": "https://localhost:8080/"
        },
        "id": "1WY2e-Ynr-Ok",
        "outputId": "fbe05a90-1511-4f08-ae6c-fc6b9a509959"
      },
      "execution_count": 240,
      "outputs": [
        {
          "output_type": "stream",
          "name": "stdout",
          "text": [
            "Perceived Race 1 doesn't follow a normal distribution (p-value: 0.014748751185834408)\n",
            "Perceived Race 2 doesn't follow a normal distribution (p-value: 0.015614503994584084)\n",
            "Perceived Race 3 follows a normal distribution (p-value: 0.9032807350158691)\n",
            "Perceived Race 4 follows a normal distribution (p-value: 0.9320549368858337)\n",
            "Perceived Race 5 follows a normal distribution (p-value: 0.6737602353096008)\n",
            "Perceived Race 6 follows a normal distribution (p-value: 0.8120182156562805)\n",
            "Perceived Race 7 follows a normal distribution (p-value: 0.1438567340373993)\n",
            "Perceived Race 8 follows a normal distribution (p-value: 0.9642883539199829)\n"
          ]
        }
      ]
    },
    {
      "cell_type": "code",
      "source": [
        "# loop to use t-test to check the means of arrested with cooperative or not between races with the same sample size\n",
        "for i in range(1, 8):\n",
        "    for j in range(i + 1, 9):\n",
        "        if len(race_object_dict[i]) == len(race_object_dict[j]):\n",
        "            _, p_value = stats.ttest_ind(race_object_dict[i],\n",
        "                                         race_object_dict[j])\n",
        "            if p_value > 0.05:\n",
        "                print(\n",
        "                    f\"Perceived Race {i} and {j}s' means are not significantly different (p-value: {p_value})\"\n",
        "                )\n",
        "            else:\n",
        "                print(\n",
        "                    f\"Perceived Race {i} and {j}s' means are significantly different (p-value: {p_value})\"\n",
        "                )"
      ],
      "metadata": {
        "colab": {
          "base_uri": "https://localhost:8080/"
        },
        "id": "OzUnC75Or_2U",
        "outputId": "49916c03-1bc4-45a1-aea3-b361d6164ebb"
      },
      "execution_count": 241,
      "outputs": [
        {
          "output_type": "stream",
          "name": "stdout",
          "text": [
            "Perceived Race 1 and 2s' means are significantly different (p-value: 1.7893882111715004e-11)\n",
            "Perceived Race 1 and 3s' means are significantly different (p-value: 1.3045942557294891e-06)\n",
            "Perceived Race 1 and 4s' means are significantly different (p-value: 3.2039290914641213e-12)\n",
            "Perceived Race 1 and 5s' means are significantly different (p-value: 9.902788533585298e-13)\n",
            "Perceived Race 1 and 6s' means are significantly different (p-value: 2.5916528805598022e-12)\n",
            "Perceived Race 1 and 7s' means are significantly different (p-value: 1.1752976368404241e-12)\n",
            "Perceived Race 1 and 8s' means are significantly different (p-value: 8.437135158673093e-12)\n",
            "Perceived Race 2 and 3s' means are significantly different (p-value: 4.6956635945973466e-09)\n",
            "Perceived Race 2 and 4s' means are significantly different (p-value: 0.02181337341150806)\n",
            "Perceived Race 2 and 5s' means are significantly different (p-value: 6.655638312561267e-06)\n",
            "Perceived Race 2 and 6s' means are significantly different (p-value: 0.005092463683378551)\n",
            "Perceived Race 2 and 7s' means are significantly different (p-value: 1.9823936544471078e-05)\n",
            "Perceived Race 2 and 8s' means are not significantly different (p-value: 0.8191951136754432)\n",
            "Perceived Race 3 and 4s' means are significantly different (p-value: 2.5129072222742045e-10)\n",
            "Perceived Race 3 and 5s' means are significantly different (p-value: 3.251626329135332e-11)\n",
            "Perceived Race 3 and 6s' means are significantly different (p-value: 1.7238289380375808e-10)\n",
            "Perceived Race 3 and 7s' means are significantly different (p-value: 4.354395039298881e-11)\n",
            "Perceived Race 3 and 8s' means are significantly different (p-value: 1.4415112201291694e-09)\n",
            "Perceived Race 4 and 5s' means are significantly different (p-value: 2.197612447575192e-08)\n",
            "Perceived Race 4 and 6s' means are not significantly different (p-value: 0.10749062051750687)\n",
            "Perceived Race 4 and 7s' means are significantly different (p-value: 2.3175778012735109e-07)\n",
            "Perceived Race 4 and 8s' means are significantly different (p-value: 0.00018623241625084487)\n",
            "Perceived Race 5 and 6s' means are significantly different (p-value: 1.2293967941162886e-07)\n",
            "Perceived Race 5 and 7s' means are not significantly different (p-value: 0.0750851324465448)\n",
            "Perceived Race 5 and 8s' means are significantly different (p-value: 2.0254291345339396e-09)\n",
            "Perceived Race 6 and 7s' means are significantly different (p-value: 1.8811090931414813e-06)\n",
            "Perceived Race 6 and 8s' means are significantly different (p-value: 1.5837057955749985e-05)\n",
            "Perceived Race 7 and 8s' means are significantly different (p-value: 8.240668204496394e-09)\n"
          ]
        }
      ]
    },
    {
      "cell_type": "markdown",
      "source": [
        "Among all races, only white and unknown races fail normality. A loop was applied to carry out T-Tests between the perceived races with equal sample sizes. Based on the p-values listed, it appears that in some cases (such as Perceived Race White vs. Unknown, or Black vs. East/Southeast Asian), the means are significantly different at a high level of statistical significance (p < 0.001).Note that there are not enough evidence to prove the mean of cooperative arrests is significantly different between unknown races and East/Southeast Asian, South Asian and Middle Eastern, Indigenous and Latino. "
      ],
      "metadata": {
        "id": "F8yaJm9ZsIOL"
      }
    },
    {
      "cell_type": "markdown",
      "source": [
        "## Power Analysis"
      ],
      "metadata": {
        "id": "OJuPOsqW4lRr"
      }
    },
    {
      "cell_type": "markdown",
      "source": [
        "Calculating sample sizes needed to observe a statistically significant effect at Cohen's d = {0.2, 0.5, 0.8}."
      ],
      "metadata": {
        "id": "hB7UeX7373z1"
      }
    },
    {
      "cell_type": "code",
      "source": [
        "# effect size calculation\n",
        "power_analysis = smp.TTestIndPower()\n",
        "sample_size_small = power_analysis.solve_power(effect_size=0.2, power=0.8, alpha=0.05)\n",
        "sample_size_medium = power_analysis.solve_power(effect_size=0.5, power=0.8, alpha=0.05)\n",
        "sample_size_large = power_analysis.solve_power(effect_size=0.8, power=0.8, alpha=0.05)\n",
        "\n",
        "sample_sizes = [[\"For small effect size (d = 0.2)\", \"For medium effect size (d = 0.5)\", \"For large effect size (d = 0.8)\"], \n",
        "                [sample_size_small, sample_size_medium, sample_size_large]]\n",
        "\n",
        "sample_sizes_df = pd.DataFrame(sample_sizes[1:], columns = sample_sizes[0])\n",
        "sample_sizes_df"
      ],
      "metadata": {
        "colab": {
          "base_uri": "https://localhost:8080/",
          "height": 142
        },
        "id": "4stKXdfK8xsy",
        "outputId": "46f25e57-04ed-4213-ca0f-d4a1a62bbffe"
      },
      "execution_count": 242,
      "outputs": [
        {
          "output_type": "execute_result",
          "data": {
            "text/plain": [
              "   For small effect size (d = 0.2)  For medium effect size (d = 0.5)  \\\n",
              "0                       393.405693                         63.765611   \n",
              "\n",
              "   For large effect size (d = 0.8)  \n",
              "0                        25.524572  "
            ],
            "text/html": [
              "\n",
              "  <div id=\"df-ec6cd992-a407-4bae-afcd-92bc64631fe5\">\n",
              "    <div class=\"colab-df-container\">\n",
              "      <div>\n",
              "<style scoped>\n",
              "    .dataframe tbody tr th:only-of-type {\n",
              "        vertical-align: middle;\n",
              "    }\n",
              "\n",
              "    .dataframe tbody tr th {\n",
              "        vertical-align: top;\n",
              "    }\n",
              "\n",
              "    .dataframe thead th {\n",
              "        text-align: right;\n",
              "    }\n",
              "</style>\n",
              "<table border=\"1\" class=\"dataframe\">\n",
              "  <thead>\n",
              "    <tr style=\"text-align: right;\">\n",
              "      <th></th>\n",
              "      <th>For small effect size (d = 0.2)</th>\n",
              "      <th>For medium effect size (d = 0.5)</th>\n",
              "      <th>For large effect size (d = 0.8)</th>\n",
              "    </tr>\n",
              "  </thead>\n",
              "  <tbody>\n",
              "    <tr>\n",
              "      <th>0</th>\n",
              "      <td>393.405693</td>\n",
              "      <td>63.765611</td>\n",
              "      <td>25.524572</td>\n",
              "    </tr>\n",
              "  </tbody>\n",
              "</table>\n",
              "</div>\n",
              "      <button class=\"colab-df-convert\" onclick=\"convertToInteractive('df-ec6cd992-a407-4bae-afcd-92bc64631fe5')\"\n",
              "              title=\"Convert this dataframe to an interactive table.\"\n",
              "              style=\"display:none;\">\n",
              "        \n",
              "  <svg xmlns=\"http://www.w3.org/2000/svg\" height=\"24px\"viewBox=\"0 0 24 24\"\n",
              "       width=\"24px\">\n",
              "    <path d=\"M0 0h24v24H0V0z\" fill=\"none\"/>\n",
              "    <path d=\"M18.56 5.44l.94 2.06.94-2.06 2.06-.94-2.06-.94-.94-2.06-.94 2.06-2.06.94zm-11 1L8.5 8.5l.94-2.06 2.06-.94-2.06-.94L8.5 2.5l-.94 2.06-2.06.94zm10 10l.94 2.06.94-2.06 2.06-.94-2.06-.94-.94-2.06-.94 2.06-2.06.94z\"/><path d=\"M17.41 7.96l-1.37-1.37c-.4-.4-.92-.59-1.43-.59-.52 0-1.04.2-1.43.59L10.3 9.45l-7.72 7.72c-.78.78-.78 2.05 0 2.83L4 21.41c.39.39.9.59 1.41.59.51 0 1.02-.2 1.41-.59l7.78-7.78 2.81-2.81c.8-.78.8-2.07 0-2.86zM5.41 20L4 18.59l7.72-7.72 1.47 1.35L5.41 20z\"/>\n",
              "  </svg>\n",
              "      </button>\n",
              "      \n",
              "  <style>\n",
              "    .colab-df-container {\n",
              "      display:flex;\n",
              "      flex-wrap:wrap;\n",
              "      gap: 12px;\n",
              "    }\n",
              "\n",
              "    .colab-df-convert {\n",
              "      background-color: #E8F0FE;\n",
              "      border: none;\n",
              "      border-radius: 50%;\n",
              "      cursor: pointer;\n",
              "      display: none;\n",
              "      fill: #1967D2;\n",
              "      height: 32px;\n",
              "      padding: 0 0 0 0;\n",
              "      width: 32px;\n",
              "    }\n",
              "\n",
              "    .colab-df-convert:hover {\n",
              "      background-color: #E2EBFA;\n",
              "      box-shadow: 0px 1px 2px rgba(60, 64, 67, 0.3), 0px 1px 3px 1px rgba(60, 64, 67, 0.15);\n",
              "      fill: #174EA6;\n",
              "    }\n",
              "\n",
              "    [theme=dark] .colab-df-convert {\n",
              "      background-color: #3B4455;\n",
              "      fill: #D2E3FC;\n",
              "    }\n",
              "\n",
              "    [theme=dark] .colab-df-convert:hover {\n",
              "      background-color: #434B5C;\n",
              "      box-shadow: 0px 1px 3px 1px rgba(0, 0, 0, 0.15);\n",
              "      filter: drop-shadow(0px 1px 2px rgba(0, 0, 0, 0.3));\n",
              "      fill: #FFFFFF;\n",
              "    }\n",
              "  </style>\n",
              "\n",
              "      <script>\n",
              "        const buttonEl =\n",
              "          document.querySelector('#df-ec6cd992-a407-4bae-afcd-92bc64631fe5 button.colab-df-convert');\n",
              "        buttonEl.style.display =\n",
              "          google.colab.kernel.accessAllowed ? 'block' : 'none';\n",
              "\n",
              "        async function convertToInteractive(key) {\n",
              "          const element = document.querySelector('#df-ec6cd992-a407-4bae-afcd-92bc64631fe5');\n",
              "          const dataTable =\n",
              "            await google.colab.kernel.invokeFunction('convertToInteractive',\n",
              "                                                     [key], {});\n",
              "          if (!dataTable) return;\n",
              "\n",
              "          const docLinkHtml = 'Like what you see? Visit the ' +\n",
              "            '<a target=\"_blank\" href=https://colab.research.google.com/notebooks/data_table.ipynb>data table notebook</a>'\n",
              "            + ' to learn more about interactive tables.';\n",
              "          element.innerHTML = '';\n",
              "          dataTable['output_type'] = 'display_data';\n",
              "          await google.colab.output.renderOutput(dataTable, element);\n",
              "          const docLink = document.createElement('div');\n",
              "          docLink.innerHTML = docLinkHtml;\n",
              "          element.appendChild(docLink);\n",
              "        }\n",
              "      </script>\n",
              "    </div>\n",
              "  </div>\n",
              "  "
            ]
          },
          "metadata": {},
          "execution_count": 242
        }
      ]
    },
    {
      "cell_type": "markdown",
      "source": [
        "### Power Curves"
      ],
      "metadata": {
        "id": "12ez622__29h"
      }
    },
    {
      "cell_type": "code",
      "source": [
        "# plot power curves\n",
        "effect_sizes = np.array([0.2, 0.5, 0.8])\n",
        "sample_sizes = np.array(range(10, 500, 10))\n",
        "\n",
        "plt.style.use('seaborn')\n",
        "fig = plt.figure()\n",
        "ax = fig.add_subplot(1, 1, 1)\n",
        "fig = power_analysis.plot_power(\n",
        "    dep_var='nobs', nobs=sample_sizes,  \n",
        "    effect_size=effect_sizes, alpha=0.05, ax=ax, \n",
        "    title='Power Curve')"
      ],
      "metadata": {
        "colab": {
          "base_uri": "https://localhost:8080/",
          "height": 524
        },
        "id": "u7ABpC5_8zRI",
        "outputId": "175978bc-d34c-4ca4-9864-b9bd1345fbad"
      },
      "execution_count": 243,
      "outputs": [
        {
          "output_type": "display_data",
          "data": {
            "text/plain": [
              "<Figure size 800x550 with 1 Axes>"
            ],
            "image/png": "[encoded data removed]"
          },
          "metadata": {}
        }
      ]
    },
    {
      "cell_type": "markdown",
      "source": [
        "## ANCOVA"
      ],
      "metadata": {
        "id": "Zy35Gt4CvC9_"
      }
    },
    {
      "cell_type": "markdown",
      "source": [
        "### ANCOVA #1: ObjectId ~ Booked * Perceived_Race"
      ],
      "metadata": {
        "id": "bRJDcme4vFlW"
      }
    },
    {
      "cell_type": "code",
      "source": [
        "homogeneity_test = \"ObjectId ~ Booked * Perceived_Race\"\n",
        "model_test = smf.ols(homogeneity_test, data=aggsub).fit()\n",
        "print(model_test.summary())"
      ],
      "metadata": {
        "colab": {
          "base_uri": "https://localhost:8080/"
        },
        "id": "pbUnKDW7lJBb",
        "outputId": "39c3ccfb-9ca8-4bd7-875d-deac281fbc52"
      },
      "execution_count": 244,
      "outputs": [
        {
          "output_type": "stream",
          "name": "stdout",
          "text": [
            "                            OLS Regression Results                            \n",
            "==============================================================================\n",
            "Dep. Variable:               ObjectId   R-squared:                       0.998\n",
            "Model:                            OLS   Adj. R-squared:                  0.997\n",
            "Method:                 Least Squares   F-statistic:                     1545.\n",
            "Date:                Sun, 16 Apr 2023   Prob (F-statistic):           4.65e-59\n",
            "Time:                        18:48:25   Log-Likelihood:                -340.99\n",
            "No. Observations:                  64   AIC:                             714.0\n",
            "Df Residuals:                      48   BIC:                             748.5\n",
            "Df Model:                          15                                         \n",
            "Covariance Type:            nonrobust                                         \n",
            "=================================================================================================================\n",
            "                                                    coef    std err          t      P>|t|      [0.025      0.975]\n",
            "-----------------------------------------------------------------------------------------------------------------\n",
            "Intercept                                       737.3518    152.672      4.830      0.000     430.384    1044.320\n",
            "Perceived_Race[T.East/Southeast Asian]         -630.4972    227.664     -2.769      0.008   -1088.247    -172.747\n",
            "Perceived_Race[T.Indigenous]                   -633.0703    203.354     -3.113      0.003   -1041.941    -224.200\n",
            "Perceived_Race[T.Latino]                       -679.3219    200.617     -3.386      0.001   -1082.689    -275.955\n",
            "Perceived_Race[T.Middle-Eastern]               -622.3328    237.660     -2.619      0.012   -1100.180    -144.486\n",
            "Perceived_Race[T.South Asian]                  -514.7102    230.109     -2.237      0.030    -977.375     -52.046\n",
            "Perceived_Race[T.Unknown or Legacy]            -591.1969    178.822     -3.306      0.002    -950.743    -231.651\n",
            "Perceived_Race[T.White]                         383.5916    215.418      1.781      0.081     -49.535     816.718\n",
            "Booked                                            1.1849      0.125      9.462      0.000       0.933       1.437\n",
            "Booked:Perceived_Race[T.East/Southeast Asian]     0.5024      0.653      0.770      0.445      -0.810       1.815\n",
            "Booked:Perceived_Race[T.Indigenous]              -0.1833      1.000     -0.183      0.855      -2.193       1.827\n",
            "Booked:Perceived_Race[T.Latino]                   0.1510      1.074      0.141      0.889      -2.009       2.311\n",
            "Booked:Perceived_Race[T.Middle-Eastern]           0.2218      0.897      0.247      0.806      -1.582       2.026\n",
            "Booked:Perceived_Race[T.South Asian]             -0.1641      0.780     -0.210      0.834      -1.733       1.405\n",
            "Booked:Perceived_Race[T.Unknown or Legacy]        0.3891      0.324      1.202      0.235      -0.262       1.040\n",
            "Booked:Perceived_Race[T.White]                    0.1094      0.151      0.724      0.473      -0.194       0.413\n",
            "==============================================================================\n",
            "Omnibus:                        6.852   Durbin-Watson:                   1.266\n",
            "Prob(Omnibus):                  0.033   Jarque-Bera (JB):               11.519\n",
            "Skew:                          -0.143   Prob(JB):                      0.00315\n",
            "Kurtosis:                       5.059   Cond. No.                     6.11e+04\n",
            "==============================================================================\n",
            "\n",
            "Notes:\n",
            "[1] Standard Errors assume that the covariance matrix of the errors is correctly specified.\n",
            "[2] The condition number is large, 6.11e+04. This might indicate that there are\n",
            "strong multicollinearity or other numerical problems.\n"
          ]
        }
      ]
    },
    {
      "cell_type": "markdown",
      "source": [
        "The table shows the coefficient estimates for each variable, the standard error, the t-statistic, and the p-value. The R-squared value of the model is 0.998, indicating a strong fit. The p-values for the variables indicate whether they are statistically significant at the 0.05 level. "
      ],
      "metadata": {
        "id": "t0NA1wsFwOrs"
      }
    },
    {
      "cell_type": "markdown",
      "source": [
        "To check the homogenity, we check if the relationship between total arrests and total number of booked strip search is the same across all races. We examine the interaction term of Number of bookings and races, the interaction term generates slopes. Note that the p-values for all interaction terms are above the benchhmark 0.05, thus the slopes does not significantly differ from all races, which meets the assumption of homogeinity. "
      ],
      "metadata": {
        "id": "sDTiqKIclqu9"
      }
    },
    {
      "cell_type": "code",
      "source": [
        "#ANCOVA\n",
        "race_dum = pd.get_dummies(aggsub['Perceived_Race'], drop_first=True)\n",
        "race_dum.columns = race_dum.columns.str.replace(' ', '_').str.replace('/', '_').str.replace('-', '_')\n",
        "racesub = pd.concat([aggsub, race_dum], axis=1)\n",
        "\n",
        "formula = \"ObjectId ~ Booked + East_Southeast_Asian + Indigenous + Latino + Middle_Eastern + South_Asian + Unknown_or_Legacy + White\"\n",
        "ancovam = smf.ols(formula, data=racesub).fit()\n",
        "print(ancovam.summary())\n",
        "table_data = []\n",
        "for col, coef, std_err, z, p, ci_low, ci_high in zip(ancovam.params.index, ancovam.params, ancovam.bse, ancovam.tvalues, ancovam.pvalues, ancovam.conf_int()[0], ancovam.conf_int()[1]):\n",
        "    table_data.append([col, coef, std_err, z, p, ci_low, ci_high])\n",
        "\n",
        "headers = ['Variable', 'Coefficient', 'Std. Error', 'z', 'P>|z|', '[0.025', '0.975]']\n",
        "title = \"Model Summary of ObjectId ~ Booked + Perceived Race\"\n",
        "table_length = len(headers) * 15 + 1\n",
        "title_spaces = (table_length - len(title)) // 2\n",
        "ctitle = \" \" * title_spaces + title + \" \" * title_spaces\n",
        "print(ctitle)\n",
        "print(tabulate(table_data, headers=headers, tablefmt='fancy_grid'))\n"
      ],
      "metadata": {
        "colab": {
          "base_uri": "https://localhost:8080/"
        },
        "id": "faEDwdG4clcq",
        "outputId": "1f5c6eb1-bb3b-4915-99b4-44b2f0bbd83c"
      },
      "execution_count": 245,
      "outputs": [
        {
          "output_type": "stream",
          "name": "stdout",
          "text": [
            "                            OLS Regression Results                            \n",
            "==============================================================================\n",
            "Dep. Variable:               ObjectId   R-squared:                       0.998\n",
            "Model:                            OLS   Adj. R-squared:                  0.998\n",
            "Method:                 Least Squares   F-statistic:                     3173.\n",
            "Date:                Sun, 16 Apr 2023   Prob (F-statistic):           2.17e-70\n",
            "Time:                        18:48:25   Log-Likelihood:                -342.42\n",
            "No. Observations:                  64   AIC:                             702.8\n",
            "Df Residuals:                      55   BIC:                             722.3\n",
            "Df Model:                           8                                         \n",
            "Covariance Type:            nonrobust                                         \n",
            "========================================================================================\n",
            "                           coef    std err          t      P>|t|      [0.025      0.975]\n",
            "----------------------------------------------------------------------------------------\n",
            "Intercept              624.0008     79.855      7.814      0.000     463.969     784.033\n",
            "Booked                   1.2787      0.064     19.948      0.000       1.150       1.407\n",
            "East_Southeast_Asian  -410.2027     66.613     -6.158      0.000    -543.697    -276.708\n",
            "Indigenous            -556.8129     74.156     -7.509      0.000    -705.425    -408.201\n",
            "Latino                -559.0851     74.953     -7.459      0.000    -709.294    -408.876\n",
            "Middle_Eastern        -482.9126     70.016     -6.897      0.000    -623.228    -342.598\n",
            "South_Asian           -458.6240     68.942     -6.652      0.000    -596.786    -320.462\n",
            "Unknown_or_Legacy     -387.9576     64.134     -6.049      0.000    -516.485    -259.430\n",
            "White                  524.6547     45.863     11.440      0.000     432.743     616.567\n",
            "==============================================================================\n",
            "Omnibus:                        6.300   Durbin-Watson:                   1.220\n",
            "Prob(Omnibus):                  0.043   Jarque-Bera (JB):               10.288\n",
            "Skew:                          -0.046   Prob(JB):                      0.00583\n",
            "Kurtosis:                       4.962   Cond. No.                     2.14e+04\n",
            "==============================================================================\n",
            "\n",
            "Notes:\n",
            "[1] Standard Errors assume that the covariance matrix of the errors is correctly specified.\n",
            "[2] The condition number is large, 2.14e+04. This might indicate that there are\n",
            "strong multicollinearity or other numerical problems.\n",
            "                           Model Summary of ObjectId ~ Booked + Perceived Race                           \n",
            "╒══════════════════════╤═══════════════╤══════════════╤══════════╤═════════════╤════════════╤════════════╕\n",
            "│ Variable             │   Coefficient │   Std. Error │        z │       P>|z| │     [0.025 │     0.975] │\n",
            "╞══════════════════════╪═══════════════╪══════════════╪══════════╪═════════════╪════════════╪════════════╡\n",
            "│ Intercept            │     624.001   │   79.8545    │  7.81422 │ 1.75236e-10 │  463.969   │  784.033   │\n",
            "├──────────────────────┼───────────────┼──────────────┼──────────┼─────────────┼────────────┼────────────┤\n",
            "│ Booked               │       1.27871 │    0.0641021 │ 19.948   │ 7.51899e-27 │    1.15024 │    1.40717 │\n",
            "├──────────────────────┼───────────────┼──────────────┼──────────┼─────────────┼────────────┼────────────┤\n",
            "│ East_Southeast_Asian │    -410.203   │   66.6127    │ -6.15803 │ 8.92811e-08 │ -543.697   │ -276.708   │\n",
            "├──────────────────────┼───────────────┼──────────────┼──────────┼─────────────┼────────────┼────────────┤\n",
            "│ Indigenous           │    -556.813   │   74.156     │ -7.50867 │ 5.53656e-10 │ -705.425   │ -408.201   │\n",
            "├──────────────────────┼───────────────┼──────────────┼──────────┼─────────────┼────────────┼────────────┤\n",
            "│ Latino               │    -559.085   │   74.9529    │ -7.45915 │ 6.67288e-10 │ -709.294   │ -408.876   │\n",
            "├──────────────────────┼───────────────┼──────────────┼──────────┼─────────────┼────────────┼────────────┤\n",
            "│ Middle_Eastern       │    -482.913   │   70.0159    │ -6.89719 │ 5.55885e-09 │ -623.228   │ -342.598   │\n",
            "├──────────────────────┼───────────────┼──────────────┼──────────┼─────────────┼────────────┼────────────┤\n",
            "│ South_Asian          │    -458.624   │   68.9415    │ -6.65236 │ 1.39823e-08 │ -596.786   │ -320.462   │\n",
            "├──────────────────────┼───────────────┼──────────────┼──────────┼─────────────┼────────────┼────────────┤\n",
            "│ Unknown_or_Legacy    │    -387.958   │   64.1339    │ -6.04918 │ 1.33976e-07 │ -516.485   │ -259.43    │\n",
            "├──────────────────────┼───────────────┼──────────────┼──────────┼─────────────┼────────────┼────────────┤\n",
            "│ White                │     524.655   │   45.8633    │ 11.4395  │ 3.63089e-16 │  432.743   │  616.567   │\n",
            "╘══════════════════════╧═══════════════╧══════════════╧══════════╧═════════════╧════════════╧════════════╛\n"
          ]
        }
      ]
    },
    {
      "cell_type": "markdown",
      "source": [
        "Note that the adjusted R-square is 0.998 which means our model fits the data well and the model explains 99.8% of the variability of the predictive variable, total number of arrests. Also, the p-value for all explanatory variables is smaller than the threshold of 0.05, thus all variables are significant predictors. Holding all other variables constant, for every 1 unit increase in the book, the total arrests increases by 1.28. Black is a reference group of the model, holding other variables constant, East/Southeast Asian group is 410.20 units of total arrests lower, the Indigenous group is 556.81 units of total arrests lower, the Latino group is 559.09 units of total arrests lower, Mid-Eastern group is 482.91 units of total arrests lower, South Asian group is 458.62 units of total arrests lower, Unknown or Legacy group is 387.96 units of total arrests lower, White group is 524.65 units of total arrests higher, than the Black group on average.\n"
      ],
      "metadata": {
        "id": "MI0K3SSSrQsp"
      }
    },
    {
      "cell_type": "code",
      "source": [
        "fitted_values = ancovam.fittedvalues\n",
        "residuals = ancovam.resid\n",
        "\n",
        "_, pval, _, _ = het_breuschpagan(residuals, racesub[['Booked', 'East_Southeast_Asian', 'Indigenous', 'Latino', 'Middle_Eastern', 'South_Asian', 'Unknown_or_Legacy', 'White']])\n",
        "\n",
        "print(\"Breusch-Pagan test p-value:\", pval)\n"
      ],
      "metadata": {
        "colab": {
          "base_uri": "https://localhost:8080/"
        },
        "id": "6cdI-3-SnrAy",
        "outputId": "cca5a740-43c5-43a4-8a6f-80ebbd89d024"
      },
      "execution_count": 246,
      "outputs": [
        {
          "output_type": "stream",
          "name": "stdout",
          "text": [
            "Breusch-Pagan test p-value: 6.295056454374421e-06\n"
          ]
        }
      ]
    },
    {
      "cell_type": "markdown",
      "source": [
        "To check if the variance of residual is equal across all races, we use Breusch-Pagan test after building the ANCOVA model. The p-value is smaller than 0.05, indicates the model fails homoscedasticity assumption."
      ],
      "metadata": {
        "id": "gBWujlcVoivr"
      }
    },
    {
      "cell_type": "code",
      "source": [
        "#check residuals normality\n",
        "residuals = ancovam.resid\n",
        "shapiro_stat, shapiro_pval = stats.shapiro(residuals)\n",
        "print(\"Shapiro-Wilk test p-value:\", shapiro_pval)"
      ],
      "metadata": {
        "id": "Oq1CsMtAqOTw",
        "colab": {
          "base_uri": "https://localhost:8080/"
        },
        "outputId": "ba958b49-f041-4f0b-de16-982bc56a1156"
      },
      "execution_count": 247,
      "outputs": [
        {
          "output_type": "stream",
          "name": "stdout",
          "text": [
            "Shapiro-Wilk test p-value: 0.01819002628326416\n"
          ]
        }
      ]
    },
    {
      "cell_type": "markdown",
      "source": [
        "The p-value of Shapiro-Wilk tests indicates the residuals are not normally distributed as the p-value of the test is 0.02< 0.05. However, this might due to the over sensitive of the test as our smaple size is larger than 50."
      ],
      "metadata": {
        "id": "YjoiFY3Xqe18"
      }
    },
    {
      "cell_type": "markdown",
      "source": [
        "### ANCOVA #2: ObjectId ~ Booked + Sex"
      ],
      "metadata": {
        "id": "jD7UeUenEBxw"
      }
    },
    {
      "cell_type": "code",
      "source": [
        "aggsubs=sub.groupby(['Arrest_Year','Arrest_Month','Sex']).agg({'ObjectId': 'count','Booked': 'sum'}).reset_index()\n",
        "print(aggsubs)\n",
        "aggsubs = pd.get_dummies(aggsubs, columns=['Sex'], prefix='Sex')"
      ],
      "metadata": {
        "id": "XFQOoV9Di9cI",
        "colab": {
          "base_uri": "https://localhost:8080/"
        },
        "outputId": "64c92a94-cc00-414f-b966-6cc413598767"
      },
      "execution_count": 248,
      "outputs": [
        {
          "output_type": "stream",
          "name": "stdout",
          "text": [
            "    Arrest_Year Arrest_Month Sex  ObjectId  Booked\n",
            "0          2020     Apr-June   F      1172     520\n",
            "1          2020     Apr-June   M      5615    2950\n",
            "2          2020     Apr-June   U         1       0\n",
            "3          2020      Jan-Mar   F      2060     961\n",
            "4          2020      Jan-Mar   M      7265    4367\n",
            "5          2020    July-Sept   F      1522     734\n",
            "6          2020    July-Sept   M      6673    3815\n",
            "7          2020    July-Sept   U         1       0\n",
            "8          2020      Oct-Dec   F      1309     579\n",
            "9          2020      Oct-Dec   M      5899    3165\n",
            "10         2020      Oct-Dec   U         4       1\n",
            "11         2021     Apr-June   F      1619     671\n",
            "12         2021     Apr-June   M      6616    3467\n",
            "13         2021     Apr-June   U         1       0\n",
            "14         2021      Jan-Mar   F      1572     673\n",
            "15         2021      Jan-Mar   M      6491    3434\n",
            "16         2021    July-Sept   F      1631     664\n",
            "17         2021    July-Sept   M      6803    3693\n",
            "18         2021    July-Sept   U         2       1\n",
            "19         2021      Oct-Dec   F      1615     687\n",
            "20         2021      Oct-Dec   M      6744    3501\n"
          ]
        }
      ]
    },
    {
      "cell_type": "code",
      "source": [
        "\n",
        "homogeneity_test = \"ObjectId ~ Booked * Sex_F + Booked * Sex_M+Booked*Sex_U\"\n",
        "model_test = smf.ols(homogeneity_test, data=aggsubs).fit()\n",
        "print(model_test.summary())"
      ],
      "metadata": {
        "colab": {
          "base_uri": "https://localhost:8080/"
        },
        "id": "NRMkTiqUXnaD",
        "outputId": "a65df870-f188-4771-c476-8db53c3f7762"
      },
      "execution_count": 249,
      "outputs": [
        {
          "output_type": "stream",
          "name": "stdout",
          "text": [
            "                            OLS Regression Results                            \n",
            "==============================================================================\n",
            "Dep. Variable:               ObjectId   R-squared:                       0.998\n",
            "Model:                            OLS   Adj. R-squared:                  0.997\n",
            "Method:                 Least Squares   F-statistic:                     1485.\n",
            "Date:                Sun, 16 Apr 2023   Prob (F-statistic):           1.18e-19\n",
            "Time:                        18:48:25   Log-Likelihood:                -131.17\n",
            "No. Observations:                  21   AIC:                             274.3\n",
            "Df Residuals:                      15   BIC:                             280.6\n",
            "Df Model:                           5                                         \n",
            "Covariance Type:            nonrobust                                         \n",
            "================================================================================\n",
            "                   coef    std err          t      P>|t|      [0.025      0.975]\n",
            "--------------------------------------------------------------------------------\n",
            "Intercept      690.2914    139.942      4.933      0.000     392.013     988.570\n",
            "Booked           1.2585     33.724      0.037      0.971     -70.622      73.139\n",
            "Sex_F         -434.6090    254.117     -1.710      0.108    -976.246     107.028\n",
            "Booked:Sex_F     0.6461     33.725      0.019      0.985     -71.238      72.530\n",
            "Sex_M         1814.1919    357.243      5.078      0.000    1052.747    2575.636\n",
            "Booked:Sex_M    -0.1290     33.724     -0.004      0.997     -72.010      71.752\n",
            "Sex_U         -689.2914    152.391     -4.523      0.000   -1014.105    -364.478\n",
            "Booked:Sex_U     0.7415    101.171      0.007      0.994    -214.900     216.383\n",
            "==============================================================================\n",
            "Omnibus:                        0.259   Durbin-Watson:                   0.932\n",
            "Prob(Omnibus):                  0.879   Jarque-Bera (JB):                0.237\n",
            "Skew:                           0.209   Prob(JB):                        0.888\n",
            "Kurtosis:                       2.690   Cond. No.                     3.88e+19\n",
            "==============================================================================\n",
            "\n",
            "Notes:\n",
            "[1] Standard Errors assume that the covariance matrix of the errors is correctly specified.\n",
            "[2] The smallest eigenvalue is 1.37e-31. This might indicate that there are\n",
            "strong multicollinearity problems or that the design matrix is singular.\n"
          ]
        }
      ]
    },
    {
      "cell_type": "markdown",
      "source": [
        "The table shows the coefficient estimates for each variable, the standard error, the t-statistic, and the p-value. The R-squared value of the model is 0.997, indicating a strong fit. The p-values for the variables indicate whether they are statistically significant at the 0.05 level."
      ],
      "metadata": {
        "id": "vp4FiFBxZmlD"
      }
    },
    {
      "cell_type": "markdown",
      "source": [
        "To check the homogenity, we check if the relationship between total arrests and total number of booked strip search is the same across all gender. We examine the interaction term of Number of bookings and gender, the interaction term generates slopes. Note that the p-values for interaction terms are above the benchhmark 0.05, thus the slopes don't  significantly differ from all races, which meet the assumption of homogeinity."
      ],
      "metadata": {
        "id": "5HHpjUHOaBde"
      }
    },
    {
      "cell_type": "code",
      "source": [
        "# Define the formulas for the OLS model\n",
        "formulas = \"ObjectId ~ Booked + Sex_F + Sex_M + Sex_U\"\n",
        "# Fit the OLS model to the aggregated data using the defined formulas\n",
        "ancovams = smf.ols(formulas, data=aggsubs).fit()\n",
        "\n",
        "print(ancovams.summary())\n",
        "\n",
        "# Create an empty list to store the table data\n",
        "table_data = []\n",
        "for col, coef, std_err, z, p, ci_low, ci_high in zip(ancovam.params.index, ancovam.params, ancovam.bse, ancovam.tvalues, ancovam.pvalues, ancovam.conf_int()[0], ancovam.conf_int()[1]):\n",
        "    table_data.append([col, coef, std_err, z, p, ci_low, ci_high])\n",
        "\n",
        "# Define the headers for the table\n",
        "headers = ['Variable', 'Coefficient', 'Std. Error', 'z', 'P>|z|', '[0.025', '0.975]']\n",
        "# Define the title for the table and center it\n",
        "title = \"Model Summary of ObjectId ~ Booked + Sex\"\n",
        "table_length = len(headers) * 13 + 1\n",
        "title_spaces = (table_length - len(title)) // 2\n",
        "ctitle = \" \" * title_spaces + title + \" \" * title_spaces\n",
        "print(ctitle)\n",
        "print(tabulate(table_data, headers=headers, tablefmt='fancy_grid'))\n"
      ],
      "metadata": {
        "id": "NXmAVhKsYxut",
        "colab": {
          "base_uri": "https://localhost:8080/"
        },
        "outputId": "1305bc06-08b6-437b-a08e-1ab1c6b0df68"
      },
      "execution_count": 250,
      "outputs": [
        {
          "output_type": "stream",
          "name": "stdout",
          "text": [
            "                            OLS Regression Results                            \n",
            "==============================================================================\n",
            "Dep. Variable:               ObjectId   R-squared:                       0.998\n",
            "Model:                            OLS   Adj. R-squared:                  0.997\n",
            "Method:                 Least Squares   F-statistic:                     2341.\n",
            "Date:                Sun, 16 Apr 2023   Prob (F-statistic):           1.95e-22\n",
            "Time:                        18:48:25   Log-Likelihood:                -133.07\n",
            "No. Observations:                  21   AIC:                             274.1\n",
            "Df Residuals:                      17   BIC:                             278.3\n",
            "Df Model:                           3                                         \n",
            "Covariance Type:            nonrobust                                         \n",
            "==============================================================================\n",
            "                 coef    std err          t      P>|t|      [0.025      0.975]\n",
            "------------------------------------------------------------------------------\n",
            "Intercept    754.6043    137.999      5.468      0.000     463.452    1045.756\n",
            "Booked         1.1945      0.128      9.326      0.000       0.924       1.465\n",
            "Sex_F        -11.6479     66.116     -0.176      0.862    -151.140     127.844\n",
            "Sex_M       1519.5343    322.208      4.716      0.000     839.735    2199.334\n",
            "Sex_U       -753.2821    146.075     -5.157      0.000   -1061.474    -445.091\n",
            "==============================================================================\n",
            "Omnibus:                        0.441   Durbin-Watson:                   1.141\n",
            "Prob(Omnibus):                  0.802   Jarque-Bera (JB):                0.552\n",
            "Skew:                           0.115   Prob(JB):                        0.759\n",
            "Kurtosis:                       2.239   Cond. No.                     2.01e+19\n",
            "==============================================================================\n",
            "\n",
            "Notes:\n",
            "[1] Standard Errors assume that the covariance matrix of the errors is correctly specified.\n",
            "[2] The smallest eigenvalue is 2.63e-31. This might indicate that there are\n",
            "strong multicollinearity problems or that the design matrix is singular.\n",
            "                          Model Summary of ObjectId ~ Booked + Sex                          \n",
            "╒══════════════════════╤═══════════════╤══════════════╤══════════╤═════════════╤════════════╤════════════╕\n",
            "│ Variable             │   Coefficient │   Std. Error │        z │       P>|z| │     [0.025 │     0.975] │\n",
            "╞══════════════════════╪═══════════════╪══════════════╪══════════╪═════════════╪════════════╪════════════╡\n",
            "│ Intercept            │     624.001   │   79.8545    │  7.81422 │ 1.75236e-10 │  463.969   │  784.033   │\n",
            "├──────────────────────┼───────────────┼──────────────┼──────────┼─────────────┼────────────┼────────────┤\n",
            "│ Booked               │       1.27871 │    0.0641021 │ 19.948   │ 7.51899e-27 │    1.15024 │    1.40717 │\n",
            "├──────────────────────┼───────────────┼──────────────┼──────────┼─────────────┼────────────┼────────────┤\n",
            "│ East_Southeast_Asian │    -410.203   │   66.6127    │ -6.15803 │ 8.92811e-08 │ -543.697   │ -276.708   │\n",
            "├──────────────────────┼───────────────┼──────────────┼──────────┼─────────────┼────────────┼────────────┤\n",
            "│ Indigenous           │    -556.813   │   74.156     │ -7.50867 │ 5.53656e-10 │ -705.425   │ -408.201   │\n",
            "├──────────────────────┼───────────────┼──────────────┼──────────┼─────────────┼────────────┼────────────┤\n",
            "│ Latino               │    -559.085   │   74.9529    │ -7.45915 │ 6.67288e-10 │ -709.294   │ -408.876   │\n",
            "├──────────────────────┼───────────────┼──────────────┼──────────┼─────────────┼────────────┼────────────┤\n",
            "│ Middle_Eastern       │    -482.913   │   70.0159    │ -6.89719 │ 5.55885e-09 │ -623.228   │ -342.598   │\n",
            "├──────────────────────┼───────────────┼──────────────┼──────────┼─────────────┼────────────┼────────────┤\n",
            "│ South_Asian          │    -458.624   │   68.9415    │ -6.65236 │ 1.39823e-08 │ -596.786   │ -320.462   │\n",
            "├──────────────────────┼───────────────┼──────────────┼──────────┼─────────────┼────────────┼────────────┤\n",
            "│ Unknown_or_Legacy    │    -387.958   │   64.1339    │ -6.04918 │ 1.33976e-07 │ -516.485   │ -259.43    │\n",
            "├──────────────────────┼───────────────┼──────────────┼──────────┼─────────────┼────────────┼────────────┤\n",
            "│ White                │     524.655   │   45.8633    │ 11.4395  │ 3.63089e-16 │  432.743   │  616.567   │\n",
            "╘══════════════════════╧═══════════════╧══════════════╧══════════╧═════════════╧════════════╧════════════╛\n"
          ]
        }
      ]
    },
    {
      "cell_type": "markdown",
      "source": [
        "Note that the adjusted R-square is 0.997 which means the our model fits the data well and the model explaines 99.7% of the variability of the predictive variable, total number of arrests. Also, the p-value for all exaplainatory variables are smaller than 0.05, thus gender a significant predictor. Holding all other variables constant, every 1 unit increase in booked, the total arrests increases by 1.19. Female is a reference group of the model, holding other variables constant, male is 1531.18 units of total arrests higher, unknown is 741.63 units of total arrests lower,than the female group on average."
      ],
      "metadata": {
        "id": "CVxvAOIMdYHS"
      }
    },
    {
      "cell_type": "code",
      "source": [
        "# Calculate the fitted values and residuals for the OLS model\n",
        "fitted_values = ancovams.fittedvalues\n",
        "residuals = ancovams.resid\n",
        "# Use the 'het_breuschpagan' function from the 'statsmodels.stats.diagnostic' library to perform the Breusch-Pagan test of heteroscedasticity\n",
        "# The test takes the residuals as the first argument, and the regressors (Booked, Sex_F, Sex_M, and Sex_U) as the second argument\n",
        "_, pval, _, _ = het_breuschpagan(residuals, aggsubs[['Booked','Sex_F', 'Sex_M', 'Sex_U']])\n",
        "\n",
        "print(\"Breusch-Pagan test p-value:\", pval)"
      ],
      "metadata": {
        "id": "c2ELB3970hUm",
        "colab": {
          "base_uri": "https://localhost:8080/"
        },
        "outputId": "e76026c1-bada-4579-f12b-9d9fbb1312e1"
      },
      "execution_count": 251,
      "outputs": [
        {
          "output_type": "stream",
          "name": "stdout",
          "text": [
            "Breusch-Pagan test p-value: 0.01884206238652575\n"
          ]
        }
      ]
    },
    {
      "cell_type": "markdown",
      "source": [
        "To check if the variance of residual is equal across all races, we use Breusch-Pagan test after building the ANCOVA model. The p-value is smaller than 0.05, indicates the model fails homoscedasticity assumption."
      ],
      "metadata": {
        "id": "TxwOFiFm9tO-"
      }
    },
    {
      "cell_type": "code",
      "source": [
        "#check residuals normality\n",
        "residuals = ancovams.resid\n",
        "shapiro_stat, shapiro_pval = stats.shapiro(residuals)\n",
        "print(\"Shapiro-Wilk test p-value:\", shapiro_pval)"
      ],
      "metadata": {
        "id": "F1U82GSfnyDa",
        "colab": {
          "base_uri": "https://localhost:8080/"
        },
        "outputId": "6a8520c3-9a8a-4696-cf6a-223dd217a80c"
      },
      "execution_count": 252,
      "outputs": [
        {
          "output_type": "stream",
          "name": "stdout",
          "text": [
            "Shapiro-Wilk test p-value: 0.5671059489250183\n"
          ]
        }
      ]
    },
    {
      "cell_type": "markdown",
      "source": [
        "The p-value of Shapiro-Wilk tests indicates the residuals are normally distributed as the p-value of the test is 0.56> 0.05. "
      ],
      "metadata": {
        "id": "XuTbpbDLn5cs"
      }
    },
    {
      "cell_type": "markdown",
      "source": [
        "## Logistic Regression"
      ],
      "metadata": {
        "id": "zbW5MimQEs5w"
      }
    },
    {
      "cell_type": "markdown",
      "source": [
        "### Logistic Regression 1: Predict Actions_at_arrest___Cooperative"
      ],
      "metadata": {
        "id": "48ugSvHFEvw6"
      }
    },
    {
      "cell_type": "code",
      "source": [
        "# create dummy variables for the object columns\n",
        "dummy=pd.get_dummies(df.select_dtypes(object))\n",
        "dummy.head()"
      ],
      "metadata": {
        "id": "ayqExYLuErrA",
        "colab": {
          "base_uri": "https://localhost:8080/",
          "height": 317
        },
        "outputId": "f296d26f-a888-4259-895a-2d3e6bbad556"
      },
      "execution_count": 253,
      "outputs": [
        {
          "output_type": "execute_result",
          "data": {
            "text/plain": [
              "   Arrest_Month_Apr-June  Arrest_Month_Jan-Mar  Arrest_Month_July-Sept  \\\n",
              "0                      0                     0                       1   \n",
              "1                      0                     0                       1   \n",
              "2                      0                     0                       0   \n",
              "3                      0                     1                       0   \n",
              "4                      0                     1                       0   \n",
              "\n",
              "   Arrest_Month_Oct-Dec  Perceived_Race_Black  \\\n",
              "0                     0                     0   \n",
              "1                     0                     0   \n",
              "2                     1                     0   \n",
              "3                     0                     1   \n",
              "4                     0                     0   \n",
              "\n",
              "   Perceived_Race_East/Southeast Asian  Perceived_Race_Indigenous  \\\n",
              "0                                    0                          0   \n",
              "1                                    0                          0   \n",
              "2                                    0                          0   \n",
              "3                                    0                          0   \n",
              "4                                    0                          0   \n",
              "\n",
              "   Perceived_Race_Latino  Perceived_Race_Middle-Eastern  \\\n",
              "0                      0                              0   \n",
              "1                      0                              0   \n",
              "2                      0                              0   \n",
              "3                      0                              0   \n",
              "4                      0                              0   \n",
              "\n",
              "   Perceived_Race_South Asian  ...  Occurrence_Category_harassment  \\\n",
              "0                           0  ...                               0   \n",
              "1                           0  ...                               0   \n",
              "2                           0  ...                               0   \n",
              "3                           0  ...                               1   \n",
              "4                           1  ...                               0   \n",
              "\n",
              "   Occurrence_Category_impaired  Occurrence_Category_mischief  \\\n",
              "0                             0                             0   \n",
              "1                             0                             0   \n",
              "2                             0                             0   \n",
              "3                             0                             0   \n",
              "4                             0                             0   \n",
              "\n",
              "   Occurrence_Category_other  Occurrence_Category_police  \\\n",
              "0                          0                           0   \n",
              "1                          0                           0   \n",
              "2                          0                           0   \n",
              "3                          0                           0   \n",
              "4                          0                           0   \n",
              "\n",
              "   Occurrence_Category_robbery  Occurrence_Category_sexual and children  \\\n",
              "0                            0                                        0   \n",
              "1                            0                                        0   \n",
              "2                            0                                        0   \n",
              "3                            0                                        0   \n",
              "4                            0                                        0   \n",
              "\n",
              "   Occurrence_Category_vehicle  Occurrence_Category_warrant  \\\n",
              "0                            0                            0   \n",
              "1                            0                            0   \n",
              "2                            0                            0   \n",
              "3                            0                            0   \n",
              "4                            0                            0   \n",
              "\n",
              "   Occurrence_Category_weapons and homicide  \n",
              "0                                         0  \n",
              "1                                         0  \n",
              "2                                         0  \n",
              "3                                         0  \n",
              "4                                         0  \n",
              "\n",
              "[5 rows x 60 columns]"
            ],
            "text/html": [
              "\n",
              "  <div id=\"df-8b52ce13-f8c8-425b-9cea-6f1c6565c0a1\">\n",
              "    <div class=\"colab-df-container\">\n",
              "      <div>\n",
              "<style scoped>\n",
              "    .dataframe tbody tr th:only-of-type {\n",
              "        vertical-align: middle;\n",
              "    }\n",
              "\n",
              "    .dataframe tbody tr th {\n",
              "        vertical-align: top;\n",
              "    }\n",
              "\n",
              "    .dataframe thead th {\n",
              "        text-align: right;\n",
              "    }\n",
              "</style>\n",
              "<table border=\"1\" class=\"dataframe\">\n",
              "  <thead>\n",
              "    <tr style=\"text-align: right;\">\n",
              "      <th></th>\n",
              "      <th>Arrest_Month_Apr-June</th>\n",
              "      <th>Arrest_Month_Jan-Mar</th>\n",
              "      <th>Arrest_Month_July-Sept</th>\n",
              "      <th>Arrest_Month_Oct-Dec</th>\n",
              "      <th>Perceived_Race_Black</th>\n",
              "      <th>Perceived_Race_East/Southeast Asian</th>\n",
              "      <th>Perceived_Race_Indigenous</th>\n",
              "      <th>Perceived_Race_Latino</th>\n",
              "      <th>Perceived_Race_Middle-Eastern</th>\n",
              "      <th>Perceived_Race_South Asian</th>\n",
              "      <th>...</th>\n",
              "      <th>Occurrence_Category_harassment</th>\n",
              "      <th>Occurrence_Category_impaired</th>\n",
              "      <th>Occurrence_Category_mischief</th>\n",
              "      <th>Occurrence_Category_other</th>\n",
              "      <th>Occurrence_Category_police</th>\n",
              "      <th>Occurrence_Category_robbery</th>\n",
              "      <th>Occurrence_Category_sexual and children</th>\n",
              "      <th>Occurrence_Category_vehicle</th>\n",
              "      <th>Occurrence_Category_warrant</th>\n",
              "      <th>Occurrence_Category_weapons and homicide</th>\n",
              "    </tr>\n",
              "  </thead>\n",
              "  <tbody>\n",
              "    <tr>\n",
              "      <th>0</th>\n",
              "      <td>0</td>\n",
              "      <td>0</td>\n",
              "      <td>1</td>\n",
              "      <td>0</td>\n",
              "      <td>0</td>\n",
              "      <td>0</td>\n",
              "      <td>0</td>\n",
              "      <td>0</td>\n",
              "      <td>0</td>\n",
              "      <td>0</td>\n",
              "      <td>...</td>\n",
              "      <td>0</td>\n",
              "      <td>0</td>\n",
              "      <td>0</td>\n",
              "      <td>0</td>\n",
              "      <td>0</td>\n",
              "      <td>0</td>\n",
              "      <td>0</td>\n",
              "      <td>0</td>\n",
              "      <td>0</td>\n",
              "      <td>0</td>\n",
              "    </tr>\n",
              "    <tr>\n",
              "      <th>1</th>\n",
              "      <td>0</td>\n",
              "      <td>0</td>\n",
              "      <td>1</td>\n",
              "      <td>0</td>\n",
              "      <td>0</td>\n",
              "      <td>0</td>\n",
              "      <td>0</td>\n",
              "      <td>0</td>\n",
              "      <td>0</td>\n",
              "      <td>0</td>\n",
              "      <td>...</td>\n",
              "      <td>0</td>\n",
              "      <td>0</td>\n",
              "      <td>0</td>\n",
              "      <td>0</td>\n",
              "      <td>0</td>\n",
              "      <td>0</td>\n",
              "      <td>0</td>\n",
              "      <td>0</td>\n",
              "      <td>0</td>\n",
              "      <td>0</td>\n",
              "    </tr>\n",
              "    <tr>\n",
              "      <th>2</th>\n",
              "      <td>0</td>\n",
              "      <td>0</td>\n",
              "      <td>0</td>\n",
              "      <td>1</td>\n",
              "      <td>0</td>\n",
              "      <td>0</td>\n",
              "      <td>0</td>\n",
              "      <td>0</td>\n",
              "      <td>0</td>\n",
              "      <td>0</td>\n",
              "      <td>...</td>\n",
              "      <td>0</td>\n",
              "      <td>0</td>\n",
              "      <td>0</td>\n",
              "      <td>0</td>\n",
              "      <td>0</td>\n",
              "      <td>0</td>\n",
              "      <td>0</td>\n",
              "      <td>0</td>\n",
              "      <td>0</td>\n",
              "      <td>0</td>\n",
              "    </tr>\n",
              "    <tr>\n",
              "      <th>3</th>\n",
              "      <td>0</td>\n",
              "      <td>1</td>\n",
              "      <td>0</td>\n",
              "      <td>0</td>\n",
              "      <td>1</td>\n",
              "      <td>0</td>\n",
              "      <td>0</td>\n",
              "      <td>0</td>\n",
              "      <td>0</td>\n",
              "      <td>0</td>\n",
              "      <td>...</td>\n",
              "      <td>1</td>\n",
              "      <td>0</td>\n",
              "      <td>0</td>\n",
              "      <td>0</td>\n",
              "      <td>0</td>\n",
              "      <td>0</td>\n",
              "      <td>0</td>\n",
              "      <td>0</td>\n",
              "      <td>0</td>\n",
              "      <td>0</td>\n",
              "    </tr>\n",
              "    <tr>\n",
              "      <th>4</th>\n",
              "      <td>0</td>\n",
              "      <td>1</td>\n",
              "      <td>0</td>\n",
              "      <td>0</td>\n",
              "      <td>0</td>\n",
              "      <td>0</td>\n",
              "      <td>0</td>\n",
              "      <td>0</td>\n",
              "      <td>0</td>\n",
              "      <td>1</td>\n",
              "      <td>...</td>\n",
              "      <td>0</td>\n",
              "      <td>0</td>\n",
              "      <td>0</td>\n",
              "      <td>0</td>\n",
              "      <td>0</td>\n",
              "      <td>0</td>\n",
              "      <td>0</td>\n",
              "      <td>0</td>\n",
              "      <td>0</td>\n",
              "      <td>0</td>\n",
              "    </tr>\n",
              "  </tbody>\n",
              "</table>\n",
              "<p>5 rows × 60 columns</p>\n",
              "</div>\n",
              "      <button class=\"colab-df-convert\" onclick=\"convertToInteractive('df-8b52ce13-f8c8-425b-9cea-6f1c6565c0a1')\"\n",
              "              title=\"Convert this dataframe to an interactive table.\"\n",
              "              style=\"display:none;\">\n",
              "        \n",
              "  <svg xmlns=\"http://www.w3.org/2000/svg\" height=\"24px\"viewBox=\"0 0 24 24\"\n",
              "       width=\"24px\">\n",
              "    <path d=\"M0 0h24v24H0V0z\" fill=\"none\"/>\n",
              "    <path d=\"M18.56 5.44l.94 2.06.94-2.06 2.06-.94-2.06-.94-.94-2.06-.94 2.06-2.06.94zm-11 1L8.5 8.5l.94-2.06 2.06-.94-2.06-.94L8.5 2.5l-.94 2.06-2.06.94zm10 10l.94 2.06.94-2.06 2.06-.94-2.06-.94-.94-2.06-.94 2.06-2.06.94z\"/><path d=\"M17.41 7.96l-1.37-1.37c-.4-.4-.92-.59-1.43-.59-.52 0-1.04.2-1.43.59L10.3 9.45l-7.72 7.72c-.78.78-.78 2.05 0 2.83L4 21.41c.39.39.9.59 1.41.59.51 0 1.02-.2 1.41-.59l7.78-7.78 2.81-2.81c.8-.78.8-2.07 0-2.86zM5.41 20L4 18.59l7.72-7.72 1.47 1.35L5.41 20z\"/>\n",
              "  </svg>\n",
              "      </button>\n",
              "      \n",
              "  <style>\n",
              "    .colab-df-container {\n",
              "      display:flex;\n",
              "      flex-wrap:wrap;\n",
              "      gap: 12px;\n",
              "    }\n",
              "\n",
              "    .colab-df-convert {\n",
              "      background-color: #E8F0FE;\n",
              "      border: none;\n",
              "      border-radius: 50%;\n",
              "      cursor: pointer;\n",
              "      display: none;\n",
              "      fill: #1967D2;\n",
              "      height: 32px;\n",
              "      padding: 0 0 0 0;\n",
              "      width: 32px;\n",
              "    }\n",
              "\n",
              "    .colab-df-convert:hover {\n",
              "      background-color: #E2EBFA;\n",
              "      box-shadow: 0px 1px 2px rgba(60, 64, 67, 0.3), 0px 1px 3px 1px rgba(60, 64, 67, 0.15);\n",
              "      fill: #174EA6;\n",
              "    }\n",
              "\n",
              "    [theme=dark] .colab-df-convert {\n",
              "      background-color: #3B4455;\n",
              "      fill: #D2E3FC;\n",
              "    }\n",
              "\n",
              "    [theme=dark] .colab-df-convert:hover {\n",
              "      background-color: #434B5C;\n",
              "      box-shadow: 0px 1px 3px 1px rgba(0, 0, 0, 0.15);\n",
              "      filter: drop-shadow(0px 1px 2px rgba(0, 0, 0, 0.3));\n",
              "      fill: #FFFFFF;\n",
              "    }\n",
              "  </style>\n",
              "\n",
              "      <script>\n",
              "        const buttonEl =\n",
              "          document.querySelector('#df-8b52ce13-f8c8-425b-9cea-6f1c6565c0a1 button.colab-df-convert');\n",
              "        buttonEl.style.display =\n",
              "          google.colab.kernel.accessAllowed ? 'block' : 'none';\n",
              "\n",
              "        async function convertToInteractive(key) {\n",
              "          const element = document.querySelector('#df-8b52ce13-f8c8-425b-9cea-6f1c6565c0a1');\n",
              "          const dataTable =\n",
              "            await google.colab.kernel.invokeFunction('convertToInteractive',\n",
              "                                                     [key], {});\n",
              "          if (!dataTable) return;\n",
              "\n",
              "          const docLinkHtml = 'Like what you see? Visit the ' +\n",
              "            '<a target=\"_blank\" href=https://colab.research.google.com/notebooks/data_table.ipynb>data table notebook</a>'\n",
              "            + ' to learn more about interactive tables.';\n",
              "          element.innerHTML = '';\n",
              "          dataTable['output_type'] = 'display_data';\n",
              "          await google.colab.output.renderOutput(dataTable, element);\n",
              "          const docLink = document.createElement('div');\n",
              "          docLink.innerHTML = docLinkHtml;\n",
              "          element.appendChild(docLink);\n",
              "        }\n",
              "      </script>\n",
              "    </div>\n",
              "  </div>\n",
              "  "
            ]
          },
          "metadata": {},
          "execution_count": 253
        }
      ]
    },
    {
      "cell_type": "code",
      "source": [
        "# Select the columns of interest from the dummy DataFrame\n",
        "X = dummy[['ArrestLocDiv_31', 'Occurrence_Category_other', 'ArrestLocDiv_51']]\n",
        "y = df.Actions_at_arrest___Cooperative\n",
        "X_train, X_test, y_train, y_test = train_test_split(X, y, test_size=0.3, random_state=2023)"
      ],
      "metadata": {
        "id": "gqwhA3UbErvj"
      },
      "execution_count": 254,
      "outputs": []
    },
    {
      "cell_type": "code",
      "source": [
        "# plot a heatmap of the correlation matrix\n",
        "sns.heatmap(X.corr(), annot=True)"
      ],
      "metadata": {
        "id": "dL4fj90HpdMM",
        "outputId": "906b8f43-34b9-49f5-80ea-4566859df9e2",
        "colab": {
          "base_uri": "https://localhost:8080/",
          "height": 506
        }
      },
      "execution_count": 255,
      "outputs": [
        {
          "output_type": "execute_result",
          "data": {
            "text/plain": [
              "<Axes: >"
            ]
          },
          "metadata": {},
          "execution_count": 255
        },
        {
          "output_type": "display_data",
          "data": {
            "text/plain": [
              "<Figure size 800x550 with 2 Axes>"
            ],
            "image/png": "[encoded data removed]"
          },
          "metadata": {}
        }
      ]
    },
    {
      "cell_type": "markdown",
      "source": [
        "The heatmap data indicates that the correlation between the three variables (ArrestLocDiv_31, Occurrence_Category_other, and ArrestLocDiv_51) is very low, with correlation coefficients ranging from -0.055 to 0.024, suggesting a weak linear relationship between them. This suggests that these three variables can be used as separate independent variables in logistic regression analysis without causing multicollinearity issues."
      ],
      "metadata": {
        "id": "mfnd-DlbLw3A"
      }
    },
    {
      "cell_type": "code",
      "source": [
        "# Create a logistic regression model\n",
        "lr = LogisticRegressionCV()\n",
        "\n",
        "# Fit the logistic regression model to the training data\n",
        "lr.fit(X, y)\n",
        "\n",
        "# Print a classification report for the model's predictions\n",
        "print(classification_report(lr.predict(X), y))\n"
      ],
      "metadata": {
        "id": "U66vWBoXEr0U",
        "colab": {
          "base_uri": "https://localhost:8080/"
        },
        "outputId": "7af6e950-3d8b-45cf-fc95-98bf3652c667"
      },
      "execution_count": 256,
      "outputs": [
        {
          "output_type": "stream",
          "name": "stdout",
          "text": [
            "              precision    recall  f1-score   support\n",
            "\n",
            "           0       0.98      0.56      0.71     62352\n",
            "           1       0.05      0.66      0.10      2263\n",
            "\n",
            "    accuracy                           0.56     64615\n",
            "   macro avg       0.52      0.61      0.40     64615\n",
            "weighted avg       0.95      0.56      0.69     64615\n",
            "\n"
          ]
        }
      ]
    },
    {
      "cell_type": "code",
      "source": [
        "print(confusion_matrix(lr.predict(X), y))"
      ],
      "metadata": {
        "id": "0hwRbMArdHU2",
        "colab": {
          "base_uri": "https://localhost:8080/"
        },
        "outputId": "9b058bd1-c578-4745-f0f1-fb7ef86b6f58"
      },
      "execution_count": 257,
      "outputs": [
        {
          "output_type": "stream",
          "name": "stdout",
          "text": [
            "[[34815 27537]\n",
            " [  762  1501]]\n"
          ]
        }
      ]
    },
    {
      "cell_type": "markdown",
      "source": [
        "This shows the resulting confusion matrix, with the numbers of true positives, true negatives, false positives, and false negatives. Specifically, there were 34,815 true negatives (predicted not cooperative and actually not cooperative), indicating that the model correctly predicted that the person would not cooperate in these cases. Additionally, there were 1,501 true positives (predicted cooperative and actually cooperative), indicating that the model correctly predicted that the person would cooperate in these cases. However, there were also 27,537 false positives (predicted cooperative but actually not cooperative), which means that the model incorrectly predicted that the person would cooperate in these cases. Finally, there were 762 false positives (predicted not cooperative but actually cooperative), which means that the model incorrectly predicted that the person would not cooperate in these cases.\n"
      ],
      "metadata": {
        "id": "nQHR8JbvNZJb"
      }
    },
    {
      "cell_type": "code",
      "source": [
        "# Concatenate the 'X' and 'y' DataFrames along the columns axis to create a new DataFrame 'data'\n",
        "data = pd.concat(objs=[X, y], axis=1)\n",
        "# fit a logistic regression model to the data\n",
        "log_reg = smf.logit(\n",
        "    \"Actions_at_arrest___Cooperative ~ ArrestLocDiv_31 + Occurrence_Category_other + ArrestLocDiv_51\",\n",
        "    data=data).fit()\n",
        "log_reg.summary()"
      ],
      "metadata": {
        "id": "CF-FFyxMEr5c",
        "colab": {
          "base_uri": "https://localhost:8080/",
          "height": 341
        },
        "outputId": "b81ace70-b32d-41b4-864f-83ef1bd0284b"
      },
      "execution_count": 258,
      "outputs": [
        {
          "output_type": "stream",
          "name": "stdout",
          "text": [
            "Optimization terminated successfully.\n",
            "         Current function value: 0.682343\n",
            "         Iterations 4\n"
          ]
        },
        {
          "output_type": "execute_result",
          "data": {
            "text/plain": [
              "<class 'statsmodels.iolib.summary.Summary'>\n",
              "\"\"\"\n",
              "                                  Logit Regression Results                                 \n",
              "===========================================================================================\n",
              "Dep. Variable:     Actions_at_arrest___Cooperative   No. Observations:                64615\n",
              "Model:                                       Logit   Df Residuals:                    64611\n",
              "Method:                                        MLE   Df Model:                            3\n",
              "Date:                             Sun, 16 Apr 2023   Pseudo R-squ.:                0.008248\n",
              "Time:                                     18:48:28   Log-Likelihood:                -44090.\n",
              "converged:                                    True   LL-Null:                       -44456.\n",
              "Covariance Type:                         nonrobust   LLR p-value:                1.207e-158\n",
              "=============================================================================================\n",
              "                                coef    std err          z      P>|z|      [0.025      0.975]\n",
              "---------------------------------------------------------------------------------------------\n",
              "Intercept                    -0.1753      0.009    -20.007      0.000      -0.192      -0.158\n",
              "ArrestLocDiv_31               0.8740      0.045     19.285      0.000       0.785       0.963\n",
              "Occurrence_Category_other    -0.4021      0.029    -13.665      0.000      -0.460      -0.344\n",
              "ArrestLocDiv_51              -0.3256      0.030    -10.708      0.000      -0.385      -0.266\n",
              "=============================================================================================\n",
              "\"\"\""
            ],
            "text/html": [
              "<table class=\"simpletable\">\n",
              "<caption>Logit Regression Results</caption>\n",
              "<tr>\n",
              "  <th>Dep. Variable:</th>   <td>Actions_at_arrest___Cooperative</td> <th>  No. Observations:  </th>   <td> 64615</td>  \n",
              "</tr>\n",
              "<tr>\n",
              "  <th>Model:</th>                        <td>Logit</td>              <th>  Df Residuals:      </th>   <td> 64611</td>  \n",
              "</tr>\n",
              "<tr>\n",
              "  <th>Method:</th>                        <td>MLE</td>               <th>  Df Model:          </th>   <td>     3</td>  \n",
              "</tr>\n",
              "<tr>\n",
              "  <th>Date:</th>                   <td>Sun, 16 Apr 2023</td>         <th>  Pseudo R-squ.:     </th>  <td>0.008248</td> \n",
              "</tr>\n",
              "<tr>\n",
              "  <th>Time:</th>                       <td>18:48:28</td>             <th>  Log-Likelihood:    </th>  <td> -44090.</td> \n",
              "</tr>\n",
              "<tr>\n",
              "  <th>converged:</th>                    <td>True</td>               <th>  LL-Null:           </th>  <td> -44456.</td> \n",
              "</tr>\n",
              "<tr>\n",
              "  <th>Covariance Type:</th>            <td>nonrobust</td>            <th>  LLR p-value:       </th> <td>1.207e-158</td>\n",
              "</tr>\n",
              "</table>\n",
              "<table class=\"simpletable\">\n",
              "<tr>\n",
              "              <td></td>                 <th>coef</th>     <th>std err</th>      <th>z</th>      <th>P>|z|</th>  <th>[0.025</th>    <th>0.975]</th>  \n",
              "</tr>\n",
              "<tr>\n",
              "  <th>Intercept</th>                 <td>   -0.1753</td> <td>    0.009</td> <td>  -20.007</td> <td> 0.000</td> <td>   -0.192</td> <td>   -0.158</td>\n",
              "</tr>\n",
              "<tr>\n",
              "  <th>ArrestLocDiv_31</th>           <td>    0.8740</td> <td>    0.045</td> <td>   19.285</td> <td> 0.000</td> <td>    0.785</td> <td>    0.963</td>\n",
              "</tr>\n",
              "<tr>\n",
              "  <th>Occurrence_Category_other</th> <td>   -0.4021</td> <td>    0.029</td> <td>  -13.665</td> <td> 0.000</td> <td>   -0.460</td> <td>   -0.344</td>\n",
              "</tr>\n",
              "<tr>\n",
              "  <th>ArrestLocDiv_51</th>           <td>   -0.3256</td> <td>    0.030</td> <td>  -10.708</td> <td> 0.000</td> <td>   -0.385</td> <td>   -0.266</td>\n",
              "</tr>\n",
              "</table>"
            ]
          },
          "metadata": {},
          "execution_count": 258
        }
      ]
    },
    {
      "cell_type": "markdown",
      "source": [
        "Compared with arrested people who were not arrested at ArrestLocDiv_31, the log odds of getting the arrested people to be cooperative during the arrest at ArrestLocDiv_31 are 0.874 higher, controlling for other features. Note this feature is statistically significant. The coefficient for ArrestLocDiv_51 is -0.3256, indicating that compared with arrested people who were not arrested at ArrestLocDiv_51, the log odds of getting the arrested people to be cooperative during the arrest at ArrestLocDiv_51 are 0.3256 lower, controlling for other features. Again, the feature is statistically significant. The coefficient for Occurrence_Category_other is -0.4021, indicating that when compared to other reasons for arrest that are not categorized under Occurrence_Category_other, the log odds of arrested individuals being cooperative during the arrest for reasons falling under Occurrence_Category_other are 0.4021 lower. It is important to note that this feature is statistically significant."
      ],
      "metadata": {
        "id": "7TT44DtKNmTi"
      }
    },
    {
      "cell_type": "code",
      "source": [
        "# display the odds ratio\n",
        "odds_ratios = pd.DataFrame({\n",
        "    \"OR\": log_reg.params,\n",
        "    \"Lower CI\": log_reg.conf_int()[0],\n",
        "    \"Upper CI\": log_reg.conf_int()[1],\n",
        "})\n",
        "odds_ratios = np.exp(odds_ratios)\n",
        "\n",
        "print(odds_ratios)"
      ],
      "metadata": {
        "id": "XhAIZVCsEr_8",
        "colab": {
          "base_uri": "https://localhost:8080/"
        },
        "outputId": "92153ccb-6544-4877-dff6-72f5263ec022"
      },
      "execution_count": 259,
      "outputs": [
        {
          "output_type": "stream",
          "name": "stdout",
          "text": [
            "                                 OR  Lower CI  Upper CI\n",
            "Intercept                  0.839239  0.824953  0.853772\n",
            "ArrestLocDiv_31            2.396433  2.192756  2.619029\n",
            "Occurrence_Category_other  0.668885  0.631396  0.708600\n",
            "ArrestLocDiv_51            0.722074  0.680296  0.766417\n"
          ]
        }
      ]
    },
    {
      "cell_type": "markdown",
      "source": [
        "The values in the second column represent the odds ratios for each predictor variable. The odds ratio for ArrestLocDiv_31 is 2.396433, indicating that individuals arrested at ArrestLocDiv_31 are more likely to exhibit cooperative behaviour during the arrest compared to those who were not arrested there. On the other hand, the odds ratio for Occurrence_Category_other is 0.668885, suggesting that individuals arrested for reasons falling under Occurrence_Category_other are less likely to exhibit cooperative behaviour during the arrest compared to those arrested for other reasons. Similarly, the odds ratio for ArrestLocDiv_51 is 0.722074, which means that individuals arrested at ArrestLocDiv_51 are also less likely to exhibit cooperative behaviour during the arrest compared to those who were not arrested there. The confidence intervals for all three odds ratios do not include 1, indicating that these associations are statistically significant."
      ],
      "metadata": {
        "id": "rXrzcjdZNfDL"
      }
    },
    {
      "cell_type": "code",
      "source": [
        "\n",
        "# Calculate the predicted probabilities\n",
        "y_pred = lr.predict_proba(X_test)[:, 0]\n",
        "\n",
        "# Calculate the mean and standard deviation of the predicted probabilities\n",
        "y_mean = np.mean(y_pred)\n",
        "se = np.sqrt((y_pred * (1 - y_pred)) / len(y_pred))\n",
        "y_std = se * 1.96\n",
        "\n",
        "# Plot the prediction interval\n",
        "plt.fill_between(range(len(y_pred)),\n",
        "                 y_mean - y_std,\n",
        "                 y_mean + y_std,\n",
        "                 alpha=.1,\n",
        "                 color='blue',\n",
        "                 label='Prediction Interval',\n",
        "                 linewidth=2)\n",
        "plt.ylim(0.45, 0.65)\n",
        "plt.yticks(np.arange(0.45, 0.65, 0.01))\n",
        "plt.legend(),\n",
        "plt.xlabel('X')\n",
        "plt.ylabel('Y')\n",
        "plt.show()"
      ],
      "metadata": {
        "id": "QPxGaTlrr-Tc",
        "colab": {
          "base_uri": "https://localhost:8080/",
          "height": 503
        },
        "outputId": "196c9902-ba07-465a-844c-5dc1a5f9f37e"
      },
      "execution_count": 260,
      "outputs": [
        {
          "output_type": "display_data",
          "data": {
            "text/plain": [
              "<Figure size 800x550 with 1 Axes>"
            ],
            "image/png": "[encoded data removed]"
          },
          "metadata": {}
        }
      ]
    },
    {
      "cell_type": "markdown",
      "source": [
        "This is the prediction interval for our first logistic regression model. The shaded region represents the range of values where we expect the true probability of the outcome variable to lie with 95% confidence. The x-axis of the plot represents the index number of the data points in the test dataset, while the y-axis represents the probability of the model's predictions. Based on the plot, we can see that the model's predicted results mostly fall around 0.55, and the confidence interval is relatively stable, indicating that the model's predicted results are relatively accurate."
      ],
      "metadata": {
        "id": "l_bmzxNONMUE"
      }
    },
    {
      "cell_type": "code",
      "source": [
        "# fit model\n",
        "logit_model = sm.Logit(y_train, X_train)\n",
        "logit_result = logit_model.fit(alpha=0.05)\n",
        "\n",
        "# calculation\n",
        "conf_int = logit_result.conf_int()\n",
        "conf_int.columns = ['Lower CI', 'Upper CI']\n",
        "conf_int['OR'] = logit_result.params\n",
        "conf_int = np.exp(conf_int)\n",
        "conf_int = conf_int[['Lower CI', 'Upper CI', 'OR']]\n",
        "\n",
        "# CI\n",
        "fig, ax = plt.subplots()\n",
        "ax.errorbar(conf_int['OR'],\n",
        "            conf_int.index,\n",
        "            xerr=(conf_int['OR'] - conf_int['Lower CI'],\n",
        "                  conf_int['Upper CI'] - conf_int['OR']),\n",
        "            fmt='o',\n",
        "            markersize=8,\n",
        "            capsize=5)\n",
        "ax.set_xlabel('Odds Ratio')\n",
        "ax.set_ylabel('Coefficients')\n",
        "ax.set_title('Confidence Intervals for Logistic Regression Coefficients')\n",
        "plt.show()"
      ],
      "metadata": {
        "id": "nFzxxWmksHnX",
        "colab": {
          "base_uri": "https://localhost:8080/",
          "height": 533
        },
        "outputId": "c17f0091-485c-4c1b-b709-a875ce2aad3f"
      },
      "execution_count": 261,
      "outputs": [
        {
          "output_type": "stream",
          "name": "stdout",
          "text": [
            "Optimization terminated successfully.\n",
            "         Current function value: 0.685587\n",
            "         Iterations 4\n"
          ]
        },
        {
          "output_type": "display_data",
          "data": {
            "text/plain": [
              "<Figure size 800x550 with 1 Axes>"
            ],
            "image/png": "[encoded data removed]"
          },
          "metadata": {}
        }
      ]
    },
    {
      "cell_type": "markdown",
      "source": [
        "The plot shows the odds ratios and confidence intervals for the coefficients of our first logistic regression model. The points on the plot represent the estimated odds ratios for each predictor variable, and the error bars represent the 95% confidence intervals around these estimates. If the error bar does not cross the value of 1 on the horizontal axis, it suggests that the odds ratio estimate is statistically significant at the 95% confidence level. A value of 1 for the odds ratio indicates that the predictor variable has no effect on the outcome variable. In this plot, we can see that the odds ratio estimates for all predictor variables are statistically significant, as their error bars do not cross the value of 1. For example, the odds ratio estimate for ArrestLocDic_31 is 2, and its confidence interval [1.8, 2.2] does not include 1."
      ],
      "metadata": {
        "id": "fKpgIwRYNCXC"
      }
    },
    {
      "cell_type": "markdown",
      "source": [
        "###Logistic Regression 2： Booked~Actions_at_arrest_Cooperative+Perceived_Race"
      ],
      "metadata": {
        "id": "U6INf6hEEldU"
      }
    },
    {
      "cell_type": "code",
      "source": [
        "sub2 = df[['Perceived_Race', 'Booked','Actions_at_arrest___Cooperative']]\n",
        "\n",
        "sub2 = pd.get_dummies(sub2, columns=['Perceived_Race'])\n",
        "\n",
        "# Split the data into training and testing sets\n",
        "X2_train, X2_test, y2_train, y2_test = train_test_split(sub2[['Actions_at_arrest___Cooperative', 'Perceived_Race_Black', 'Perceived_Race_Indigenous', 'Perceived_Race_Latino', 'Perceived_Race_South Asian', 'Perceived_Race_Unknown or Legacy', 'Perceived_Race_White']], sub2['Booked'], test_size=0.3, random_state=2178)\n",
        "model2 = LogisticRegression()\n",
        "model2.fit(X2_train, y2_train)\n",
        "\n",
        "coef = np.squeeze(model2.coef_)\n",
        "# Compute the standard errors of the coefficient estimates\n",
        "se = np.sqrt(np.diag(np.linalg.inv(np.dot(X2_train.T, X2_train))))\n",
        "# Compute the z-scores\n",
        "z = coef / se\n",
        "# Compute the two-tailed p-values\n",
        "p = 2 * (1 - stats.norm.cdf(np.abs(z)))\n",
        "\n",
        "# Compute the 95% confidence intervals\n",
        "ci_low = coef - 1.96 * se\n",
        "ci_high = coef + 1.96 * se\n",
        "print('Coefficient Estimates:\\n', coef)\n",
        "print('Intercept:\\n', model2.intercept_)\n",
        "print('Standard Errors:\\n', se)\n",
        "print('Z-Scores:\\n', z)\n",
        "print('P-Values:\\n', p)\n",
        "print('95% Confidence Intervals:\\n', np.column_stack((ci_low, ci_high)))\n",
        "\n"
      ],
      "metadata": {
        "id": "5NMxKcF2A4Zm",
        "colab": {
          "base_uri": "https://localhost:8080/"
        },
        "outputId": "ed5c0ba7-7056-42f3-979a-2f0b5470b594"
      },
      "execution_count": 262,
      "outputs": [
        {
          "output_type": "stream",
          "name": "stdout",
          "text": [
            "Coefficient Estimates:\n",
            " [ 0.19242055  0.2687146   0.30104031  0.28540087  0.0239326  -0.02367078\n",
            "  0.1224254 ]\n",
            "Intercept:\n",
            " [-0.13127674]\n",
            "Standard Errors:\n",
            " [0.00896714 0.00987393 0.02775321 0.02916112 0.02024688 0.01726812\n",
            " 0.00824367]\n",
            "Z-Scores:\n",
            " [21.45841787 27.21455295 10.8470457   9.78703514  1.18203878 -1.3707794\n",
            " 14.85084549]\n",
            "P-Values:\n",
            " [0.         0.         0.         0.         0.23719032 0.17044373\n",
            " 0.        ]\n",
            "95% Confidence Intervals:\n",
            " [[ 0.17484496  0.20999614]\n",
            " [ 0.24936169  0.2880675 ]\n",
            " [ 0.24664403  0.3554366 ]\n",
            " [ 0.22824508  0.34255666]\n",
            " [-0.01575129  0.06361649]\n",
            " [-0.05751629  0.01017473]\n",
            " [ 0.10626782  0.13858299]]\n"
          ]
        }
      ]
    },
    {
      "cell_type": "code",
      "source": [
        "# DataFrame object containing the coefficient estimates of the logistic regression model fitted to the X2_train and y2_train data\n",
        "coef_df = pd.DataFrame({'Predictor Variable': X2_train.columns, 'Coefficient Estimate': model2.coef_.flatten()})\n",
        "print(coef_df)"
      ],
      "metadata": {
        "id": "bm2-l588dWri",
        "colab": {
          "base_uri": "https://localhost:8080/"
        },
        "outputId": "4e47e72b-fb54-45aa-a357-50fef9cb4bc8"
      },
      "execution_count": 263,
      "outputs": [
        {
          "output_type": "stream",
          "name": "stdout",
          "text": [
            "                 Predictor Variable  Coefficient Estimate\n",
            "0   Actions_at_arrest___Cooperative              0.192421\n",
            "1              Perceived_Race_Black              0.268715\n",
            "2         Perceived_Race_Indigenous              0.301040\n",
            "3             Perceived_Race_Latino              0.285401\n",
            "4        Perceived_Race_South Asian              0.023933\n",
            "5  Perceived_Race_Unknown or Legacy             -0.023671\n",
            "6              Perceived_Race_White              0.122425\n"
          ]
        }
      ]
    },
    {
      "cell_type": "markdown",
      "source": [
        "The above is the summary of the second logistic regression model. The intercept term in the Logit Regression Results table represents the estimated log odds of the outcome variable when all predictor variables are equal to zero, which is -0.13. Holding all other variables constant, for each unit increase in cooperative action, the log odds of being booked for a strip search increased by 0.19. Holding all other variables constant, Black, Indigenous, Latino, South Asian and White dependents have higher log odds of being booked, while the Unknown group has a lower log odds of being booked, compared to the reference group, Middle-eastern. Among all the groups, the South Asian and Unknown groups have a p-value that is above the threshold of 0.05, indicating their coefficient estimate is not statistically significant."
      ],
      "metadata": {
        "id": "yPh2TWoJMfDE"
      }
    },
    {
      "cell_type": "code",
      "source": [
        "# print accuracy\n",
        "accuracy = model2.score(X2_test, y2_test)\n",
        "print('Accuracy:', accuracy)"
      ],
      "metadata": {
        "id": "wTvRiDDyZyYZ",
        "colab": {
          "base_uri": "https://localhost:8080/"
        },
        "outputId": "7d4617ee-6ab8-4ec5-f3b7-5e0b90ae3e53"
      },
      "execution_count": 264,
      "outputs": [
        {
          "output_type": "stream",
          "name": "stdout",
          "text": [
            "Accuracy: 0.535981428939902\n"
          ]
        }
      ]
    },
    {
      "cell_type": "markdown",
      "source": [
        "Noted that the accuracy of our second logistic regression model is 0.54."
      ],
      "metadata": {
        "id": "naAmGRoyMpVL"
      }
    },
    {
      "cell_type": "code",
      "source": [
        "# print confusion matrix\n",
        "y2_pred = model2.predict(X2_test)\n",
        "cm2 = confusion_matrix(y2_test, y2_pred)\n",
        "print('Confusion Matrix:')\n",
        "print(cm2)"
      ],
      "metadata": {
        "id": "aQDLef0wXlqz",
        "colab": {
          "base_uri": "https://localhost:8080/"
        },
        "outputId": "b5fbdbfe-b054-4add-81a4-38d866cc378b"
      },
      "execution_count": 265,
      "outputs": [
        {
          "output_type": "stream",
          "name": "stdout",
          "text": [
            "Confusion Matrix:\n",
            "[[3595 5589]\n",
            " [3406 6795]]\n"
          ]
        }
      ]
    },
    {
      "cell_type": "markdown",
      "source": [
        "We used a confusion matrix to evaluate how well our model performed in predicting whether an individual would be booked for a strip search, based on their race and actions at arrest. The results of the confusion matrix are shown in Table 13, which shows the number of true positives, true negatives, false positives, and false negatives. In particular, the confusion matrix indicates that the model correctly predicted 3,595 cases as true negatives, where the person wasn’t booked for a strip search and the model predicted that they indeed weren’t booked. Additionally, there were 6,795 cases where the model correctly predicted that the person was booked for a strip search (true positives). However, there were also 5,589 cases where the model incorrectly predicted that the person was booked for a strip search (false positives). Finally, the model incorrectly predicted that the person wasn’t booked for a strip search in 3,406 cases (false negatives)."
      ],
      "metadata": {
        "id": "Aphsth4pMmOu"
      }
    },
    {
      "cell_type": "code",
      "source": [
        "y2_pred_proba = model2.predict_proba(X2_test)[:,1]\n",
        "\n",
        "# Create a prediction interval plot\n",
        "plt.scatter(y2_test, y2_pred_proba)\n",
        "plt.axhline(y=np.mean(y2_pred_proba), color='r', linestyle='--')\n",
        "plt.axhline(y=np.mean(y2_pred_proba) + 1.96 * np.std(y2_pred_proba), color='g', linestyle='--')\n",
        "plt.axhline(y=np.mean(y2_pred_proba) - 1.96 * np.std(y2_pred_proba), color='g', linestyle='--')\n",
        "plt.xlabel('Observed Outcome')\n",
        "plt.ylabel('Predicted Probability')\n",
        "plt.title('Prediction Interval Plot')\n",
        "plt.show()\n",
        "\n"
      ],
      "metadata": {
        "id": "WxKVdmp40weF",
        "colab": {
          "base_uri": "https://localhost:8080/",
          "height": 524
        },
        "outputId": "55bd1e53-c750-42b7-d8fb-fa61e8da8473"
      },
      "execution_count": 266,
      "outputs": [
        {
          "output_type": "display_data",
          "data": {
            "text/plain": [
              "<Figure size 800x550 with 1 Axes>"
            ],
            "image/png": "[encoded data removed]"
          },
          "metadata": {}
        }
      ]
    },
    {
      "cell_type": "markdown",
      "source": [
        "The red dashed line serves as a reference line at the mean predicted probability while the two green dashed lines indicate the upper and lower bounds of a 95% prediction interval. The interval is calculated as the mean predicted probability plus or minus 1.96 times the standard deviation of the predicted probabilities. The above plot helps visualizes how well the model predictions match the observed outcomes. Noted that the points are widely spread out, which suggests the model’s predictions are less reliable and the prediction interval might be widened."
      ],
      "metadata": {
        "id": "IY9686gNMq6H"
      }
    },
    {
      "cell_type": "code",
      "source": [
        "# Extract the coefficient estimates from the logistic regression model\n",
        "coef = np.squeeze(model2.coef_)\n",
        "# Calculate the odds ratios\n",
        "odds_ratio = np.exp(coef)\n",
        "\n",
        "# Compute the standard errors of the coefficient estimates\n",
        "se = np.sqrt(np.diag(np.linalg.inv(np.dot(X2_train.T, X2_train))))\n",
        "# Compute the z-scores\n",
        "z = coef / se\n",
        "p = 2 * (1 - stats.norm.cdf(np.abs(z)))\n",
        "# Compute the 95% confidence intervals\n",
        "ci_low = np.exp(coef - 1.96 * se)\n",
        "ci_high = np.exp(coef + 1.96 * se)\n",
        "\n",
        "print('Coefficient Estimates:\\n', coef)\n",
        "print('Odds Ratios:\\n', odds_ratio)\n",
        "print('Intercept:\\n', model2.intercept_)\n",
        "print('Standard Errors:\\n', se)\n",
        "print('Z-Scores:\\n', z)\n",
        "print('P-Values:\\n', p)\n",
        "print('95% Confidence Intervals:\\n', np.column_stack((ci_low, ci_high)))"
      ],
      "metadata": {
        "id": "D9ljb3EWoA2S",
        "colab": {
          "base_uri": "https://localhost:8080/"
        },
        "outputId": "cce9fcb1-e889-4f50-b243-5a4a44655337"
      },
      "execution_count": 267,
      "outputs": [
        {
          "output_type": "stream",
          "name": "stdout",
          "text": [
            "Coefficient Estimates:\n",
            " [ 0.19242055  0.2687146   0.30104031  0.28540087  0.0239326  -0.02367078\n",
            "  0.1224254 ]\n",
            "Odds Ratios:\n",
            " [1.21218019 1.3082817  1.35126382 1.3302952  1.02422128 0.97660718\n",
            " 1.13023481]\n",
            "Intercept:\n",
            " [-0.13127674]\n",
            "Standard Errors:\n",
            " [0.00896714 0.00987393 0.02775321 0.02916112 0.02024688 0.01726812\n",
            " 0.00824367]\n",
            "Z-Scores:\n",
            " [21.45841787 27.21455295 10.8470457   9.78703514  1.18203878 -1.3707794\n",
            " 14.85084549]\n",
            "P-Values:\n",
            " [0.         0.         0.         0.         0.23719032 0.17044373\n",
            " 0.        ]\n",
            "95% Confidence Intervals:\n",
            " [[1.19106155 1.2336733 ]\n",
            " [1.28320608 1.33384734]\n",
            " [1.27972348 1.42680346]\n",
            " [1.25639321 1.40854416]\n",
            " [0.98437211 1.06568362]\n",
            " [0.94410651 1.01022667]\n",
            " [1.11211968 1.148645  ]]\n"
          ]
        }
      ]
    },
    {
      "cell_type": "markdown",
      "source": [
        "All VIF are less then 10, the assumption of no multicollinearity met. "
      ],
      "metadata": {
        "id": "Mi7UtiNWv_V3"
      }
    },
    {
      "cell_type": "code",
      "source": [
        "# check multicollinearity by VIF\n",
        "var = sub2.drop(\"Booked\", axis=1)\n",
        "var[\"Intercept\"] = 1\n",
        "\n",
        "vif = pd.DataFrame()\n",
        "vif[\"Predictive Variable\"] = var.columns\n",
        "vif[\"VIF\"] = [variance_inflation_factor(var.values, i) for i in range(var.shape[1])]\n",
        "\n",
        "print(vif)"
      ],
      "metadata": {
        "id": "FKIj15A_vXqs",
        "colab": {
          "base_uri": "https://localhost:8080/"
        },
        "outputId": "5f4f8fac-6810-4157-995c-6176c4fcee0a"
      },
      "execution_count": 268,
      "outputs": [
        {
          "output_type": "stream",
          "name": "stdout",
          "text": [
            "                   Predictive Variable       VIF\n",
            "0      Actions_at_arrest___Cooperative  1.002526\n",
            "1                 Perceived_Race_Black       inf\n",
            "2  Perceived_Race_East/Southeast Asian       inf\n",
            "3            Perceived_Race_Indigenous       inf\n",
            "4                Perceived_Race_Latino       inf\n",
            "5        Perceived_Race_Middle-Eastern       inf\n",
            "6           Perceived_Race_South Asian       inf\n",
            "7     Perceived_Race_Unknown or Legacy       inf\n",
            "8                 Perceived_Race_White       inf\n",
            "9                            Intercept  0.000000\n"
          ]
        }
      ]
    },
    {
      "cell_type": "code",
      "source": [
        "# creat a heatmap\n",
        "corr_matrix = sub2.corr()\n",
        "plt.figure(figsize=(16, 6))\n",
        "sns.heatmap(corr_matrix, vmin=-1, vmax=1,annot=True, cmap=\"BrBG\").set_title('Correlation Heatmap', fontdict={'fontsize':18}, pad=12);\n",
        "plt.show()"
      ],
      "metadata": {
        "id": "l1-4Z8MTwKEJ",
        "colab": {
          "base_uri": "https://localhost:8080/",
          "height": 444
        },
        "outputId": "c58c491d-366d-4a6b-e39d-c38cf442ad28"
      },
      "execution_count": 269,
      "outputs": [
        {
          "output_type": "display_data",
          "data": {
            "text/plain": [
              "<Figure size 1600x600 with 2 Axes>"
            ],
            "image/png": "[encoded data removed]"
          },
          "metadata": {}
        }
      ]
    },
    {
      "cell_type": "markdown",
      "source": [
        "The heatmap data indicates that the correlation between the perceived races and booked is very low, with correlation coefficients ranging from -0.525 to 0.049, suggesting a weak linear relationship between them. This suggests that these variables can be used as separate independent variables in logistic regression analysis without causing multicollinearity issues."
      ],
      "metadata": {
        "id": "fclr4be8M95U"
      }
    },
    {
      "cell_type": "markdown",
      "source": [
        "The model explains a small proportion of the predicted variable Booked. When the person is cooperative at arrest, the log-odds of being booked increases, compared to when the person is not cooperative. There is no significant difference in log-odds of being booked between Indigenous, Latino and Black.\n",
        "The log-odds of being booked for South-Asian, Middle-Eastern, Unkown and White is lower than Black."
      ],
      "metadata": {
        "id": "I-Aef_9BsQ7F"
      }
    }
  ]
}