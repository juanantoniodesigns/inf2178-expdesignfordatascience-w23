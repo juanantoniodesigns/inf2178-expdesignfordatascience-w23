{
  "nbformat": 4,
  "nbformat_minor": 0,
  "metadata": {
    "colab": {
      "provenance": []
    },
    "kernelspec": {
      "name": "python3",
      "display_name": "Python 3"
    },
    "language_info": {
      "name": "python"
    }
  },
  "cells": [
    {
      "cell_type": "markdown",
      "source": [
        "# RQ1: ANCOVA with Power Analysis & T-Tests\n",
        "\n",
        "---\n",
        "\n"
      ],
      "metadata": {
        "id": "k-npo09cxri2"
      }
    },
    {
      "cell_type": "code",
      "source": [
        "!pip install pingouin\n",
        "\n",
        "import pandas as pd\n",
        "import numpy as np\n",
        "import matplotlib.pyplot as plt\n",
        "from pingouin import ancova\n",
        "import seaborn as sns\n",
        "from scipy import stats\n",
        "%matplotlib inline \n",
        "import statsmodels\n",
        "from statsmodels.stats.power import TTestPower\n",
        "from scipy.stats import ttest_ind\n",
        "pd.options.display.max_columns = None #show all columns in data"
      ],
      "metadata": {
        "id": "4vAipKo6xwRB",
        "colab": {
          "base_uri": "https://localhost:8080/"
        },
        "outputId": "50638588-c582-425c-e14f-08e6f7c7be48"
      },
      "execution_count": null,
      "outputs": [
        {
          "output_type": "stream",
          "name": "stdout",
          "text": [
            "Looking in indexes: https://pypi.org/simple, https://us-python.pkg.dev/colab-wheels/public/simple/\n",
            "Requirement already satisfied: pingouin in /usr/local/lib/python3.9/dist-packages (0.5.3)\n",
            "Requirement already satisfied: pandas-flavor>=0.2.0 in /usr/local/lib/python3.9/dist-packages (from pingouin) (0.5.0)\n",
            "Requirement already satisfied: scipy>=1.7 in /usr/local/lib/python3.9/dist-packages (from pingouin) (1.10.1)\n",
            "Requirement already satisfied: outdated in /usr/local/lib/python3.9/dist-packages (from pingouin) (0.2.2)\n",
            "Requirement already satisfied: tabulate in /usr/local/lib/python3.9/dist-packages (from pingouin) (0.8.10)\n",
            "Requirement already satisfied: scikit-learn in /usr/local/lib/python3.9/dist-packages (from pingouin) (1.2.2)\n",
            "Requirement already satisfied: seaborn>=0.11 in /usr/local/lib/python3.9/dist-packages (from pingouin) (0.12.2)\n",
            "Requirement already satisfied: statsmodels>=0.13 in /usr/local/lib/python3.9/dist-packages (from pingouin) (0.13.5)\n",
            "Requirement already satisfied: numpy>=1.19 in /usr/local/lib/python3.9/dist-packages (from pingouin) (1.22.4)\n",
            "Requirement already satisfied: matplotlib>=3.0.2 in /usr/local/lib/python3.9/dist-packages (from pingouin) (3.7.1)\n",
            "Requirement already satisfied: pandas>=1.0 in /usr/local/lib/python3.9/dist-packages (from pingouin) (1.5.3)\n",
            "Requirement already satisfied: cycler>=0.10 in /usr/local/lib/python3.9/dist-packages (from matplotlib>=3.0.2->pingouin) (0.11.0)\n",
            "Requirement already satisfied: kiwisolver>=1.0.1 in /usr/local/lib/python3.9/dist-packages (from matplotlib>=3.0.2->pingouin) (1.4.4)\n",
            "Requirement already satisfied: contourpy>=1.0.1 in /usr/local/lib/python3.9/dist-packages (from matplotlib>=3.0.2->pingouin) (1.0.7)\n",
            "Requirement already satisfied: importlib-resources>=3.2.0 in /usr/local/lib/python3.9/dist-packages (from matplotlib>=3.0.2->pingouin) (5.12.0)\n",
            "Requirement already satisfied: pyparsing>=2.3.1 in /usr/local/lib/python3.9/dist-packages (from matplotlib>=3.0.2->pingouin) (3.0.9)\n",
            "Requirement already satisfied: fonttools>=4.22.0 in /usr/local/lib/python3.9/dist-packages (from matplotlib>=3.0.2->pingouin) (4.39.3)\n",
            "Requirement already satisfied: pillow>=6.2.0 in /usr/local/lib/python3.9/dist-packages (from matplotlib>=3.0.2->pingouin) (8.4.0)\n",
            "Requirement already satisfied: python-dateutil>=2.7 in /usr/local/lib/python3.9/dist-packages (from matplotlib>=3.0.2->pingouin) (2.8.2)\n",
            "Requirement already satisfied: packaging>=20.0 in /usr/local/lib/python3.9/dist-packages (from matplotlib>=3.0.2->pingouin) (23.0)\n",
            "Requirement already satisfied: pytz>=2020.1 in /usr/local/lib/python3.9/dist-packages (from pandas>=1.0->pingouin) (2022.7.1)\n",
            "Requirement already satisfied: xarray in /usr/local/lib/python3.9/dist-packages (from pandas-flavor>=0.2.0->pingouin) (2022.12.0)\n",
            "Requirement already satisfied: lazy-loader>=0.1 in /usr/local/lib/python3.9/dist-packages (from pandas-flavor>=0.2.0->pingouin) (0.2)\n",
            "Requirement already satisfied: patsy>=0.5.2 in /usr/local/lib/python3.9/dist-packages (from statsmodels>=0.13->pingouin) (0.5.3)\n",
            "Requirement already satisfied: setuptools>=44 in /usr/local/lib/python3.9/dist-packages (from outdated->pingouin) (67.6.1)\n",
            "Requirement already satisfied: littleutils in /usr/local/lib/python3.9/dist-packages (from outdated->pingouin) (0.2.2)\n",
            "Requirement already satisfied: requests in /usr/local/lib/python3.9/dist-packages (from outdated->pingouin) (2.27.1)\n",
            "Requirement already satisfied: threadpoolctl>=2.0.0 in /usr/local/lib/python3.9/dist-packages (from scikit-learn->pingouin) (3.1.0)\n",
            "Requirement already satisfied: joblib>=1.1.1 in /usr/local/lib/python3.9/dist-packages (from scikit-learn->pingouin) (1.2.0)\n",
            "Requirement already satisfied: zipp>=3.1.0 in /usr/local/lib/python3.9/dist-packages (from importlib-resources>=3.2.0->matplotlib>=3.0.2->pingouin) (3.15.0)\n",
            "Requirement already satisfied: six in /usr/local/lib/python3.9/dist-packages (from patsy>=0.5.2->statsmodels>=0.13->pingouin) (1.16.0)\n",
            "Requirement already satisfied: idna<4,>=2.5 in /usr/local/lib/python3.9/dist-packages (from requests->outdated->pingouin) (3.4)\n",
            "Requirement already satisfied: urllib3<1.27,>=1.21.1 in /usr/local/lib/python3.9/dist-packages (from requests->outdated->pingouin) (1.26.15)\n",
            "Requirement already satisfied: certifi>=2017.4.17 in /usr/local/lib/python3.9/dist-packages (from requests->outdated->pingouin) (2022.12.7)\n",
            "Requirement already satisfied: charset-normalizer~=2.0.0 in /usr/local/lib/python3.9/dist-packages (from requests->outdated->pingouin) (2.0.12)\n"
          ]
        }
      ]
    },
    {
      "cell_type": "code",
      "source": [
        "#Read the file\n",
        "data = pd.read_csv(\"/content/drive/MyDrive/Arrests_and_Strip_Searches_(RBDC-ARR-TBL-001).csv\")\n",
        "# Gary temp - data = pd.read_csv(\"/content/drive/MyDrive/Arrests_and_Strip_Searches_(RBDC-ARR-TBL-001).csv\")"
      ],
      "metadata": {
        "id": "kHkcquC_0kWE"
      },
      "execution_count": null,
      "outputs": []
    },
    {
      "cell_type": "code",
      "source": [
        "#Assign 0 to the null values in the columns related to actions at arrest and search reasons\n",
        "L = ['Actions_at_arrest___Combative__', 'Actions_at_arrest___Assaulted_o', 'Actions_at_arrest___Concealed_i', 'Actions_at_arrest___Resisted__d', 'Actions_at_arrest___Mental_inst', 'SearchReason_CauseInjury', 'SearchReason_AssistEscape', 'SearchReason_PossessWeapons', 'SearchReason_PossessEvidence', 'ItemsFound']\n",
        "for x in L:\n",
        "  data[x] = data[x].replace(np.NaN, 0)"
      ],
      "metadata": {
        "id": "CV_joSIKut80"
      },
      "execution_count": null,
      "outputs": []
    },
    {
      "cell_type": "code",
      "source": [
        "# Calculate the sum of the columns related to actions at arrest and search reasons to form a new column \"Event number\"\n",
        "data[\"Event number\"] = data['Actions_at_arrest___Combative__'] + data['Actions_at_arrest___Assaulted_o'] + data['Actions_at_arrest___Concealed_i'] + data['Actions_at_arrest___Resisted__d'] + data['Actions_at_arrest___Mental_inst'] + data['SearchReason_CauseInjury'] + data['SearchReason_AssistEscape'] + data['SearchReason_PossessWeapons'] + data['SearchReason_PossessEvidence'] + data['ItemsFound']"
      ],
      "metadata": {
        "id": "RkfBG7yC0ruD"
      },
      "execution_count": null,
      "outputs": []
    },
    {
      "cell_type": "code",
      "source": [
        "#Removed all columns except interested ones\n",
        "data = data.loc[:, data.columns.intersection(['Sex','Event number','PersonID'])]\n",
        "data.shape"
      ],
      "metadata": {
        "colab": {
          "base_uri": "https://localhost:8080/"
        },
        "id": "K63uJsHC81pp",
        "outputId": "8c35d8fe-79c2-4244-dfe4-28577497c2d7"
      },
      "execution_count": null,
      "outputs": [
        {
          "output_type": "execute_result",
          "data": {
            "text/plain": [
              "(65276, 3)"
            ]
          },
          "metadata": {},
          "execution_count": 8
        }
      ]
    },
    {
      "cell_type": "code",
      "source": [
        "#Delete rows with unclear sex of gender and nan values\n",
        "data = data.loc[data[\"Sex\"] != \"U\"]\n",
        "data = data.dropna(axis = 0)\n",
        "data.shape"
      ],
      "metadata": {
        "id": "jlsH3cfP9K45",
        "colab": {
          "base_uri": "https://localhost:8080/"
        },
        "outputId": "d3efa96a-5f85-4214-d5a2-cfd4890c943a"
      },
      "execution_count": null,
      "outputs": [
        {
          "output_type": "execute_result",
          "data": {
            "text/plain": [
              "(65267, 3)"
            ]
          },
          "metadata": {},
          "execution_count": 9
        }
      ]
    },
    {
      "cell_type": "code",
      "source": [
        "data.head"
      ],
      "metadata": {
        "colab": {
          "base_uri": "https://localhost:8080/"
        },
        "id": "v-ftft7x9SKt",
        "outputId": "32133003-df13-4cfe-ef6e-f4e11f1ca860"
      },
      "execution_count": null,
      "outputs": [
        {
          "output_type": "execute_result",
          "data": {
            "text/plain": [
              "<bound method NDFrame.head of        PersonID Sex  Event number\n",
              "0        326622   M           0.0\n",
              "1        326622   M           0.0\n",
              "2        326622   M           0.0\n",
              "3        327535   M           0.0\n",
              "4        327535   M           0.0\n",
              "...         ...  ..           ...\n",
              "65271    316123   F           1.0\n",
              "65272    307736   M           0.0\n",
              "65273    324057   F           0.0\n",
              "65274    331870   M           0.0\n",
              "65275    310583   M           0.0\n",
              "\n",
              "[65267 rows x 3 columns]>"
            ]
          },
          "metadata": {},
          "execution_count": 10
        }
      ]
    },
    {
      "cell_type": "code",
      "source": [
        "#Calculate the total arrest cases for each arrestee\n",
        "data2 = data.groupby('PersonID').size().reset_index(name='Arrested number')\n",
        "data2"
      ],
      "metadata": {
        "colab": {
          "base_uri": "https://localhost:8080/"
        },
        "id": "GITyMY509afK",
        "outputId": "3795bba2-4c95-4888-bb38-5b745ddab1e9"
      },
      "execution_count": null,
      "outputs": [
        {
          "output_type": "execute_result",
          "data": {
            "text/plain": [
              "       PersonID  Arrested number\n",
              "0        300000                1\n",
              "1        300001                1\n",
              "2        300002                1\n",
              "3        300003                8\n",
              "4        300004                1\n",
              "...         ...              ...\n",
              "37339    337342                5\n",
              "37340    337343                1\n",
              "37341    337344                1\n",
              "37342    337345                1\n",
              "37343    337346                1\n",
              "\n",
              "[37344 rows x 2 columns]"
            ],
            "text/html": [
              "\n",
              "  <div id=\"df-0ebc187a-266e-4a09-b462-23489c103fa5\">\n",
              "    <div class=\"colab-df-container\">\n",
              "      <div>\n",
              "<style scoped>\n",
              "    .dataframe tbody tr th:only-of-type {\n",
              "        vertical-align: middle;\n",
              "    }\n",
              "\n",
              "    .dataframe tbody tr th {\n",
              "        vertical-align: top;\n",
              "    }\n",
              "\n",
              "    .dataframe thead th {\n",
              "        text-align: right;\n",
              "    }\n",
              "</style>\n",
              "<table border=\"1\" class=\"dataframe\">\n",
              "  <thead>\n",
              "    <tr style=\"text-align: right;\">\n",
              "      <th></th>\n",
              "      <th>PersonID</th>\n",
              "      <th>Arrested number</th>\n",
              "    </tr>\n",
              "  </thead>\n",
              "  <tbody>\n",
              "    <tr>\n",
              "      <th>0</th>\n",
              "      <td>300000</td>\n",
              "      <td>1</td>\n",
              "    </tr>\n",
              "    <tr>\n",
              "      <th>1</th>\n",
              "      <td>300001</td>\n",
              "      <td>1</td>\n",
              "    </tr>\n",
              "    <tr>\n",
              "      <th>2</th>\n",
              "      <td>300002</td>\n",
              "      <td>1</td>\n",
              "    </tr>\n",
              "    <tr>\n",
              "      <th>3</th>\n",
              "      <td>300003</td>\n",
              "      <td>8</td>\n",
              "    </tr>\n",
              "    <tr>\n",
              "      <th>4</th>\n",
              "      <td>300004</td>\n",
              "      <td>1</td>\n",
              "    </tr>\n",
              "    <tr>\n",
              "      <th>...</th>\n",
              "      <td>...</td>\n",
              "      <td>...</td>\n",
              "    </tr>\n",
              "    <tr>\n",
              "      <th>37339</th>\n",
              "      <td>337342</td>\n",
              "      <td>5</td>\n",
              "    </tr>\n",
              "    <tr>\n",
              "      <th>37340</th>\n",
              "      <td>337343</td>\n",
              "      <td>1</td>\n",
              "    </tr>\n",
              "    <tr>\n",
              "      <th>37341</th>\n",
              "      <td>337344</td>\n",
              "      <td>1</td>\n",
              "    </tr>\n",
              "    <tr>\n",
              "      <th>37342</th>\n",
              "      <td>337345</td>\n",
              "      <td>1</td>\n",
              "    </tr>\n",
              "    <tr>\n",
              "      <th>37343</th>\n",
              "      <td>337346</td>\n",
              "      <td>1</td>\n",
              "    </tr>\n",
              "  </tbody>\n",
              "</table>\n",
              "<p>37344 rows × 2 columns</p>\n",
              "</div>\n",
              "      <button class=\"colab-df-convert\" onclick=\"convertToInteractive('df-0ebc187a-266e-4a09-b462-23489c103fa5')\"\n",
              "              title=\"Convert this dataframe to an interactive table.\"\n",
              "              style=\"display:none;\">\n",
              "        \n",
              "  <svg xmlns=\"http://www.w3.org/2000/svg\" height=\"24px\"viewBox=\"0 0 24 24\"\n",
              "       width=\"24px\">\n",
              "    <path d=\"M0 0h24v24H0V0z\" fill=\"none\"/>\n",
              "    <path d=\"M18.56 5.44l.94 2.06.94-2.06 2.06-.94-2.06-.94-.94-2.06-.94 2.06-2.06.94zm-11 1L8.5 8.5l.94-2.06 2.06-.94-2.06-.94L8.5 2.5l-.94 2.06-2.06.94zm10 10l.94 2.06.94-2.06 2.06-.94-2.06-.94-.94-2.06-.94 2.06-2.06.94z\"/><path d=\"M17.41 7.96l-1.37-1.37c-.4-.4-.92-.59-1.43-.59-.52 0-1.04.2-1.43.59L10.3 9.45l-7.72 7.72c-.78.78-.78 2.05 0 2.83L4 21.41c.39.39.9.59 1.41.59.51 0 1.02-.2 1.41-.59l7.78-7.78 2.81-2.81c.8-.78.8-2.07 0-2.86zM5.41 20L4 18.59l7.72-7.72 1.47 1.35L5.41 20z\"/>\n",
              "  </svg>\n",
              "      </button>\n",
              "      \n",
              "  <style>\n",
              "    .colab-df-container {\n",
              "      display:flex;\n",
              "      flex-wrap:wrap;\n",
              "      gap: 12px;\n",
              "    }\n",
              "\n",
              "    .colab-df-convert {\n",
              "      background-color: #E8F0FE;\n",
              "      border: none;\n",
              "      border-radius: 50%;\n",
              "      cursor: pointer;\n",
              "      display: none;\n",
              "      fill: #1967D2;\n",
              "      height: 32px;\n",
              "      padding: 0 0 0 0;\n",
              "      width: 32px;\n",
              "    }\n",
              "\n",
              "    .colab-df-convert:hover {\n",
              "      background-color: #E2EBFA;\n",
              "      box-shadow: 0px 1px 2px rgba(60, 64, 67, 0.3), 0px 1px 3px 1px rgba(60, 64, 67, 0.15);\n",
              "      fill: #174EA6;\n",
              "    }\n",
              "\n",
              "    [theme=dark] .colab-df-convert {\n",
              "      background-color: #3B4455;\n",
              "      fill: #D2E3FC;\n",
              "    }\n",
              "\n",
              "    [theme=dark] .colab-df-convert:hover {\n",
              "      background-color: #434B5C;\n",
              "      box-shadow: 0px 1px 3px 1px rgba(0, 0, 0, 0.15);\n",
              "      filter: drop-shadow(0px 1px 2px rgba(0, 0, 0, 0.3));\n",
              "      fill: #FFFFFF;\n",
              "    }\n",
              "  </style>\n",
              "\n",
              "      <script>\n",
              "        const buttonEl =\n",
              "          document.querySelector('#df-0ebc187a-266e-4a09-b462-23489c103fa5 button.colab-df-convert');\n",
              "        buttonEl.style.display =\n",
              "          google.colab.kernel.accessAllowed ? 'block' : 'none';\n",
              "\n",
              "        async function convertToInteractive(key) {\n",
              "          const element = document.querySelector('#df-0ebc187a-266e-4a09-b462-23489c103fa5');\n",
              "          const dataTable =\n",
              "            await google.colab.kernel.invokeFunction('convertToInteractive',\n",
              "                                                     [key], {});\n",
              "          if (!dataTable) return;\n",
              "\n",
              "          const docLinkHtml = 'Like what you see? Visit the ' +\n",
              "            '<a target=\"_blank\" href=https://colab.research.google.com/notebooks/data_table.ipynb>data table notebook</a>'\n",
              "            + ' to learn more about interactive tables.';\n",
              "          element.innerHTML = '';\n",
              "          dataTable['output_type'] = 'display_data';\n",
              "          await google.colab.output.renderOutput(dataTable, element);\n",
              "          const docLink = document.createElement('div');\n",
              "          docLink.innerHTML = docLinkHtml;\n",
              "          element.appendChild(docLink);\n",
              "        }\n",
              "      </script>\n",
              "    </div>\n",
              "  </div>\n",
              "  "
            ]
          },
          "metadata": {},
          "execution_count": 11
        }
      ]
    },
    {
      "cell_type": "code",
      "source": [
        "#Calculate the sums of event numbers for each arrestee\n",
        "data3 = data.groupby('PersonID')['Event number'].sum().reset_index(name='Total event number')\n",
        "data = data.drop('Event number', axis=1).drop_duplicates()\n",
        "data3 = pd.merge(data, data3, on=\"PersonID\")\n",
        "data3"
      ],
      "metadata": {
        "colab": {
          "base_uri": "https://localhost:8080/"
        },
        "id": "BF0xtX580qTe",
        "outputId": "3b14f475-d371-4dbb-9e17-529780ef2162"
      },
      "execution_count": null,
      "outputs": [
        {
          "output_type": "execute_result",
          "data": {
            "text/plain": [
              "       PersonID Sex  Total event number\n",
              "0        326622   M                 0.0\n",
              "1        327535   M                 0.0\n",
              "2        330778   M                 3.0\n",
              "3        328630   M                 0.0\n",
              "4        312724   M                 4.0\n",
              "...         ...  ..                 ...\n",
              "37376    316123   F                 1.0\n",
              "37377    307736   M                 0.0\n",
              "37378    324057   F                 0.0\n",
              "37379    331870   M                 0.0\n",
              "37380    310583   M                 0.0\n",
              "\n",
              "[37381 rows x 3 columns]"
            ],
            "text/html": [
              "\n",
              "  <div id=\"df-d73c42f7-7fef-41a0-be71-25db88ad7a0b\">\n",
              "    <div class=\"colab-df-container\">\n",
              "      <div>\n",
              "<style scoped>\n",
              "    .dataframe tbody tr th:only-of-type {\n",
              "        vertical-align: middle;\n",
              "    }\n",
              "\n",
              "    .dataframe tbody tr th {\n",
              "        vertical-align: top;\n",
              "    }\n",
              "\n",
              "    .dataframe thead th {\n",
              "        text-align: right;\n",
              "    }\n",
              "</style>\n",
              "<table border=\"1\" class=\"dataframe\">\n",
              "  <thead>\n",
              "    <tr style=\"text-align: right;\">\n",
              "      <th></th>\n",
              "      <th>PersonID</th>\n",
              "      <th>Sex</th>\n",
              "      <th>Total event number</th>\n",
              "    </tr>\n",
              "  </thead>\n",
              "  <tbody>\n",
              "    <tr>\n",
              "      <th>0</th>\n",
              "      <td>326622</td>\n",
              "      <td>M</td>\n",
              "      <td>0.0</td>\n",
              "    </tr>\n",
              "    <tr>\n",
              "      <th>1</th>\n",
              "      <td>327535</td>\n",
              "      <td>M</td>\n",
              "      <td>0.0</td>\n",
              "    </tr>\n",
              "    <tr>\n",
              "      <th>2</th>\n",
              "      <td>330778</td>\n",
              "      <td>M</td>\n",
              "      <td>3.0</td>\n",
              "    </tr>\n",
              "    <tr>\n",
              "      <th>3</th>\n",
              "      <td>328630</td>\n",
              "      <td>M</td>\n",
              "      <td>0.0</td>\n",
              "    </tr>\n",
              "    <tr>\n",
              "      <th>4</th>\n",
              "      <td>312724</td>\n",
              "      <td>M</td>\n",
              "      <td>4.0</td>\n",
              "    </tr>\n",
              "    <tr>\n",
              "      <th>...</th>\n",
              "      <td>...</td>\n",
              "      <td>...</td>\n",
              "      <td>...</td>\n",
              "    </tr>\n",
              "    <tr>\n",
              "      <th>37376</th>\n",
              "      <td>316123</td>\n",
              "      <td>F</td>\n",
              "      <td>1.0</td>\n",
              "    </tr>\n",
              "    <tr>\n",
              "      <th>37377</th>\n",
              "      <td>307736</td>\n",
              "      <td>M</td>\n",
              "      <td>0.0</td>\n",
              "    </tr>\n",
              "    <tr>\n",
              "      <th>37378</th>\n",
              "      <td>324057</td>\n",
              "      <td>F</td>\n",
              "      <td>0.0</td>\n",
              "    </tr>\n",
              "    <tr>\n",
              "      <th>37379</th>\n",
              "      <td>331870</td>\n",
              "      <td>M</td>\n",
              "      <td>0.0</td>\n",
              "    </tr>\n",
              "    <tr>\n",
              "      <th>37380</th>\n",
              "      <td>310583</td>\n",
              "      <td>M</td>\n",
              "      <td>0.0</td>\n",
              "    </tr>\n",
              "  </tbody>\n",
              "</table>\n",
              "<p>37381 rows × 3 columns</p>\n",
              "</div>\n",
              "      <button class=\"colab-df-convert\" onclick=\"convertToInteractive('df-d73c42f7-7fef-41a0-be71-25db88ad7a0b')\"\n",
              "              title=\"Convert this dataframe to an interactive table.\"\n",
              "              style=\"display:none;\">\n",
              "        \n",
              "  <svg xmlns=\"http://www.w3.org/2000/svg\" height=\"24px\"viewBox=\"0 0 24 24\"\n",
              "       width=\"24px\">\n",
              "    <path d=\"M0 0h24v24H0V0z\" fill=\"none\"/>\n",
              "    <path d=\"M18.56 5.44l.94 2.06.94-2.06 2.06-.94-2.06-.94-.94-2.06-.94 2.06-2.06.94zm-11 1L8.5 8.5l.94-2.06 2.06-.94-2.06-.94L8.5 2.5l-.94 2.06-2.06.94zm10 10l.94 2.06.94-2.06 2.06-.94-2.06-.94-.94-2.06-.94 2.06-2.06.94z\"/><path d=\"M17.41 7.96l-1.37-1.37c-.4-.4-.92-.59-1.43-.59-.52 0-1.04.2-1.43.59L10.3 9.45l-7.72 7.72c-.78.78-.78 2.05 0 2.83L4 21.41c.39.39.9.59 1.41.59.51 0 1.02-.2 1.41-.59l7.78-7.78 2.81-2.81c.8-.78.8-2.07 0-2.86zM5.41 20L4 18.59l7.72-7.72 1.47 1.35L5.41 20z\"/>\n",
              "  </svg>\n",
              "      </button>\n",
              "      \n",
              "  <style>\n",
              "    .colab-df-container {\n",
              "      display:flex;\n",
              "      flex-wrap:wrap;\n",
              "      gap: 12px;\n",
              "    }\n",
              "\n",
              "    .colab-df-convert {\n",
              "      background-color: #E8F0FE;\n",
              "      border: none;\n",
              "      border-radius: 50%;\n",
              "      cursor: pointer;\n",
              "      display: none;\n",
              "      fill: #1967D2;\n",
              "      height: 32px;\n",
              "      padding: 0 0 0 0;\n",
              "      width: 32px;\n",
              "    }\n",
              "\n",
              "    .colab-df-convert:hover {\n",
              "      background-color: #E2EBFA;\n",
              "      box-shadow: 0px 1px 2px rgba(60, 64, 67, 0.3), 0px 1px 3px 1px rgba(60, 64, 67, 0.15);\n",
              "      fill: #174EA6;\n",
              "    }\n",
              "\n",
              "    [theme=dark] .colab-df-convert {\n",
              "      background-color: #3B4455;\n",
              "      fill: #D2E3FC;\n",
              "    }\n",
              "\n",
              "    [theme=dark] .colab-df-convert:hover {\n",
              "      background-color: #434B5C;\n",
              "      box-shadow: 0px 1px 3px 1px rgba(0, 0, 0, 0.15);\n",
              "      filter: drop-shadow(0px 1px 2px rgba(0, 0, 0, 0.3));\n",
              "      fill: #FFFFFF;\n",
              "    }\n",
              "  </style>\n",
              "\n",
              "      <script>\n",
              "        const buttonEl =\n",
              "          document.querySelector('#df-d73c42f7-7fef-41a0-be71-25db88ad7a0b button.colab-df-convert');\n",
              "        buttonEl.style.display =\n",
              "          google.colab.kernel.accessAllowed ? 'block' : 'none';\n",
              "\n",
              "        async function convertToInteractive(key) {\n",
              "          const element = document.querySelector('#df-d73c42f7-7fef-41a0-be71-25db88ad7a0b');\n",
              "          const dataTable =\n",
              "            await google.colab.kernel.invokeFunction('convertToInteractive',\n",
              "                                                     [key], {});\n",
              "          if (!dataTable) return;\n",
              "\n",
              "          const docLinkHtml = 'Like what you see? Visit the ' +\n",
              "            '<a target=\"_blank\" href=https://colab.research.google.com/notebooks/data_table.ipynb>data table notebook</a>'\n",
              "            + ' to learn more about interactive tables.';\n",
              "          element.innerHTML = '';\n",
              "          dataTable['output_type'] = 'display_data';\n",
              "          await google.colab.output.renderOutput(dataTable, element);\n",
              "          const docLink = document.createElement('div');\n",
              "          docLink.innerHTML = docLinkHtml;\n",
              "          element.appendChild(docLink);\n",
              "        }\n",
              "      </script>\n",
              "    </div>\n",
              "  </div>\n",
              "  "
            ]
          },
          "metadata": {},
          "execution_count": 12
        }
      ]
    },
    {
      "cell_type": "code",
      "source": [
        "#Merge two data frames on PersonID\n",
        "data = pd.merge(data2, data3, on=\"PersonID\")\n",
        "data"
      ],
      "metadata": {
        "colab": {
          "base_uri": "https://localhost:8080/"
        },
        "id": "ujrf8JCYzEb6",
        "outputId": "acf504fb-7580-4190-970c-cfdf4bb001c0"
      },
      "execution_count": null,
      "outputs": [
        {
          "output_type": "execute_result",
          "data": {
            "text/plain": [
              "       PersonID  Arrested number Sex  Total event number\n",
              "0        300000                1   M                 0.0\n",
              "1        300001                1   F                 0.0\n",
              "2        300002                1   M                 0.0\n",
              "3        300003                8   M                 3.0\n",
              "4        300004                1   M                 0.0\n",
              "...         ...              ...  ..                 ...\n",
              "37376    337342                5   M                 1.0\n",
              "37377    337343                1   M                 0.0\n",
              "37378    337344                1   M                 3.0\n",
              "37379    337345                1   M                 0.0\n",
              "37380    337346                1   M                 0.0\n",
              "\n",
              "[37381 rows x 4 columns]"
            ],
            "text/html": [
              "\n",
              "  <div id=\"df-69086887-0cf2-4d36-8e81-97b9908fc610\">\n",
              "    <div class=\"colab-df-container\">\n",
              "      <div>\n",
              "<style scoped>\n",
              "    .dataframe tbody tr th:only-of-type {\n",
              "        vertical-align: middle;\n",
              "    }\n",
              "\n",
              "    .dataframe tbody tr th {\n",
              "        vertical-align: top;\n",
              "    }\n",
              "\n",
              "    .dataframe thead th {\n",
              "        text-align: right;\n",
              "    }\n",
              "</style>\n",
              "<table border=\"1\" class=\"dataframe\">\n",
              "  <thead>\n",
              "    <tr style=\"text-align: right;\">\n",
              "      <th></th>\n",
              "      <th>PersonID</th>\n",
              "      <th>Arrested number</th>\n",
              "      <th>Sex</th>\n",
              "      <th>Total event number</th>\n",
              "    </tr>\n",
              "  </thead>\n",
              "  <tbody>\n",
              "    <tr>\n",
              "      <th>0</th>\n",
              "      <td>300000</td>\n",
              "      <td>1</td>\n",
              "      <td>M</td>\n",
              "      <td>0.0</td>\n",
              "    </tr>\n",
              "    <tr>\n",
              "      <th>1</th>\n",
              "      <td>300001</td>\n",
              "      <td>1</td>\n",
              "      <td>F</td>\n",
              "      <td>0.0</td>\n",
              "    </tr>\n",
              "    <tr>\n",
              "      <th>2</th>\n",
              "      <td>300002</td>\n",
              "      <td>1</td>\n",
              "      <td>M</td>\n",
              "      <td>0.0</td>\n",
              "    </tr>\n",
              "    <tr>\n",
              "      <th>3</th>\n",
              "      <td>300003</td>\n",
              "      <td>8</td>\n",
              "      <td>M</td>\n",
              "      <td>3.0</td>\n",
              "    </tr>\n",
              "    <tr>\n",
              "      <th>4</th>\n",
              "      <td>300004</td>\n",
              "      <td>1</td>\n",
              "      <td>M</td>\n",
              "      <td>0.0</td>\n",
              "    </tr>\n",
              "    <tr>\n",
              "      <th>...</th>\n",
              "      <td>...</td>\n",
              "      <td>...</td>\n",
              "      <td>...</td>\n",
              "      <td>...</td>\n",
              "    </tr>\n",
              "    <tr>\n",
              "      <th>37376</th>\n",
              "      <td>337342</td>\n",
              "      <td>5</td>\n",
              "      <td>M</td>\n",
              "      <td>1.0</td>\n",
              "    </tr>\n",
              "    <tr>\n",
              "      <th>37377</th>\n",
              "      <td>337343</td>\n",
              "      <td>1</td>\n",
              "      <td>M</td>\n",
              "      <td>0.0</td>\n",
              "    </tr>\n",
              "    <tr>\n",
              "      <th>37378</th>\n",
              "      <td>337344</td>\n",
              "      <td>1</td>\n",
              "      <td>M</td>\n",
              "      <td>3.0</td>\n",
              "    </tr>\n",
              "    <tr>\n",
              "      <th>37379</th>\n",
              "      <td>337345</td>\n",
              "      <td>1</td>\n",
              "      <td>M</td>\n",
              "      <td>0.0</td>\n",
              "    </tr>\n",
              "    <tr>\n",
              "      <th>37380</th>\n",
              "      <td>337346</td>\n",
              "      <td>1</td>\n",
              "      <td>M</td>\n",
              "      <td>0.0</td>\n",
              "    </tr>\n",
              "  </tbody>\n",
              "</table>\n",
              "<p>37381 rows × 4 columns</p>\n",
              "</div>\n",
              "      <button class=\"colab-df-convert\" onclick=\"convertToInteractive('df-69086887-0cf2-4d36-8e81-97b9908fc610')\"\n",
              "              title=\"Convert this dataframe to an interactive table.\"\n",
              "              style=\"display:none;\">\n",
              "        \n",
              "  <svg xmlns=\"http://www.w3.org/2000/svg\" height=\"24px\"viewBox=\"0 0 24 24\"\n",
              "       width=\"24px\">\n",
              "    <path d=\"M0 0h24v24H0V0z\" fill=\"none\"/>\n",
              "    <path d=\"M18.56 5.44l.94 2.06.94-2.06 2.06-.94-2.06-.94-.94-2.06-.94 2.06-2.06.94zm-11 1L8.5 8.5l.94-2.06 2.06-.94-2.06-.94L8.5 2.5l-.94 2.06-2.06.94zm10 10l.94 2.06.94-2.06 2.06-.94-2.06-.94-.94-2.06-.94 2.06-2.06.94z\"/><path d=\"M17.41 7.96l-1.37-1.37c-.4-.4-.92-.59-1.43-.59-.52 0-1.04.2-1.43.59L10.3 9.45l-7.72 7.72c-.78.78-.78 2.05 0 2.83L4 21.41c.39.39.9.59 1.41.59.51 0 1.02-.2 1.41-.59l7.78-7.78 2.81-2.81c.8-.78.8-2.07 0-2.86zM5.41 20L4 18.59l7.72-7.72 1.47 1.35L5.41 20z\"/>\n",
              "  </svg>\n",
              "      </button>\n",
              "      \n",
              "  <style>\n",
              "    .colab-df-container {\n",
              "      display:flex;\n",
              "      flex-wrap:wrap;\n",
              "      gap: 12px;\n",
              "    }\n",
              "\n",
              "    .colab-df-convert {\n",
              "      background-color: #E8F0FE;\n",
              "      border: none;\n",
              "      border-radius: 50%;\n",
              "      cursor: pointer;\n",
              "      display: none;\n",
              "      fill: #1967D2;\n",
              "      height: 32px;\n",
              "      padding: 0 0 0 0;\n",
              "      width: 32px;\n",
              "    }\n",
              "\n",
              "    .colab-df-convert:hover {\n",
              "      background-color: #E2EBFA;\n",
              "      box-shadow: 0px 1px 2px rgba(60, 64, 67, 0.3), 0px 1px 3px 1px rgba(60, 64, 67, 0.15);\n",
              "      fill: #174EA6;\n",
              "    }\n",
              "\n",
              "    [theme=dark] .colab-df-convert {\n",
              "      background-color: #3B4455;\n",
              "      fill: #D2E3FC;\n",
              "    }\n",
              "\n",
              "    [theme=dark] .colab-df-convert:hover {\n",
              "      background-color: #434B5C;\n",
              "      box-shadow: 0px 1px 3px 1px rgba(0, 0, 0, 0.15);\n",
              "      filter: drop-shadow(0px 1px 2px rgba(0, 0, 0, 0.3));\n",
              "      fill: #FFFFFF;\n",
              "    }\n",
              "  </style>\n",
              "\n",
              "      <script>\n",
              "        const buttonEl =\n",
              "          document.querySelector('#df-69086887-0cf2-4d36-8e81-97b9908fc610 button.colab-df-convert');\n",
              "        buttonEl.style.display =\n",
              "          google.colab.kernel.accessAllowed ? 'block' : 'none';\n",
              "\n",
              "        async function convertToInteractive(key) {\n",
              "          const element = document.querySelector('#df-69086887-0cf2-4d36-8e81-97b9908fc610');\n",
              "          const dataTable =\n",
              "            await google.colab.kernel.invokeFunction('convertToInteractive',\n",
              "                                                     [key], {});\n",
              "          if (!dataTable) return;\n",
              "\n",
              "          const docLinkHtml = 'Like what you see? Visit the ' +\n",
              "            '<a target=\"_blank\" href=https://colab.research.google.com/notebooks/data_table.ipynb>data table notebook</a>'\n",
              "            + ' to learn more about interactive tables.';\n",
              "          element.innerHTML = '';\n",
              "          dataTable['output_type'] = 'display_data';\n",
              "          await google.colab.output.renderOutput(dataTable, element);\n",
              "          const docLink = document.createElement('div');\n",
              "          docLink.innerHTML = docLinkHtml;\n",
              "          element.appendChild(docLink);\n",
              "        }\n",
              "      </script>\n",
              "    </div>\n",
              "  </div>\n",
              "  "
            ]
          },
          "metadata": {},
          "execution_count": 13
        }
      ]
    },
    {
      "cell_type": "code",
      "source": [
        "#Some rows with same Person ID have different gender, which does not make sense. So we remove these rows\n",
        "data = data.drop_duplicates(subset=['PersonID'], keep = False)\n",
        "data"
      ],
      "metadata": {
        "colab": {
          "base_uri": "https://localhost:8080/"
        },
        "id": "Iqv0qXeeFCHd",
        "outputId": "b2ef8d1d-4be5-4bf6-e0df-fe00cfa21e4c"
      },
      "execution_count": null,
      "outputs": [
        {
          "output_type": "execute_result",
          "data": {
            "text/plain": [
              "       PersonID  Arrested number Sex  Total event number\n",
              "0        300000                1   M                 0.0\n",
              "1        300001                1   F                 0.0\n",
              "2        300002                1   M                 0.0\n",
              "3        300003                8   M                 3.0\n",
              "4        300004                1   M                 0.0\n",
              "...         ...              ...  ..                 ...\n",
              "37376    337342                5   M                 1.0\n",
              "37377    337343                1   M                 0.0\n",
              "37378    337344                1   M                 3.0\n",
              "37379    337345                1   M                 0.0\n",
              "37380    337346                1   M                 0.0\n",
              "\n",
              "[37307 rows x 4 columns]"
            ],
            "text/html": [
              "\n",
              "  <div id=\"df-a4bbb0e1-b353-4e9a-8d26-8833af6327d9\">\n",
              "    <div class=\"colab-df-container\">\n",
              "      <div>\n",
              "<style scoped>\n",
              "    .dataframe tbody tr th:only-of-type {\n",
              "        vertical-align: middle;\n",
              "    }\n",
              "\n",
              "    .dataframe tbody tr th {\n",
              "        vertical-align: top;\n",
              "    }\n",
              "\n",
              "    .dataframe thead th {\n",
              "        text-align: right;\n",
              "    }\n",
              "</style>\n",
              "<table border=\"1\" class=\"dataframe\">\n",
              "  <thead>\n",
              "    <tr style=\"text-align: right;\">\n",
              "      <th></th>\n",
              "      <th>PersonID</th>\n",
              "      <th>Arrested number</th>\n",
              "      <th>Sex</th>\n",
              "      <th>Total event number</th>\n",
              "    </tr>\n",
              "  </thead>\n",
              "  <tbody>\n",
              "    <tr>\n",
              "      <th>0</th>\n",
              "      <td>300000</td>\n",
              "      <td>1</td>\n",
              "      <td>M</td>\n",
              "      <td>0.0</td>\n",
              "    </tr>\n",
              "    <tr>\n",
              "      <th>1</th>\n",
              "      <td>300001</td>\n",
              "      <td>1</td>\n",
              "      <td>F</td>\n",
              "      <td>0.0</td>\n",
              "    </tr>\n",
              "    <tr>\n",
              "      <th>2</th>\n",
              "      <td>300002</td>\n",
              "      <td>1</td>\n",
              "      <td>M</td>\n",
              "      <td>0.0</td>\n",
              "    </tr>\n",
              "    <tr>\n",
              "      <th>3</th>\n",
              "      <td>300003</td>\n",
              "      <td>8</td>\n",
              "      <td>M</td>\n",
              "      <td>3.0</td>\n",
              "    </tr>\n",
              "    <tr>\n",
              "      <th>4</th>\n",
              "      <td>300004</td>\n",
              "      <td>1</td>\n",
              "      <td>M</td>\n",
              "      <td>0.0</td>\n",
              "    </tr>\n",
              "    <tr>\n",
              "      <th>...</th>\n",
              "      <td>...</td>\n",
              "      <td>...</td>\n",
              "      <td>...</td>\n",
              "      <td>...</td>\n",
              "    </tr>\n",
              "    <tr>\n",
              "      <th>37376</th>\n",
              "      <td>337342</td>\n",
              "      <td>5</td>\n",
              "      <td>M</td>\n",
              "      <td>1.0</td>\n",
              "    </tr>\n",
              "    <tr>\n",
              "      <th>37377</th>\n",
              "      <td>337343</td>\n",
              "      <td>1</td>\n",
              "      <td>M</td>\n",
              "      <td>0.0</td>\n",
              "    </tr>\n",
              "    <tr>\n",
              "      <th>37378</th>\n",
              "      <td>337344</td>\n",
              "      <td>1</td>\n",
              "      <td>M</td>\n",
              "      <td>3.0</td>\n",
              "    </tr>\n",
              "    <tr>\n",
              "      <th>37379</th>\n",
              "      <td>337345</td>\n",
              "      <td>1</td>\n",
              "      <td>M</td>\n",
              "      <td>0.0</td>\n",
              "    </tr>\n",
              "    <tr>\n",
              "      <th>37380</th>\n",
              "      <td>337346</td>\n",
              "      <td>1</td>\n",
              "      <td>M</td>\n",
              "      <td>0.0</td>\n",
              "    </tr>\n",
              "  </tbody>\n",
              "</table>\n",
              "<p>37307 rows × 4 columns</p>\n",
              "</div>\n",
              "      <button class=\"colab-df-convert\" onclick=\"convertToInteractive('df-a4bbb0e1-b353-4e9a-8d26-8833af6327d9')\"\n",
              "              title=\"Convert this dataframe to an interactive table.\"\n",
              "              style=\"display:none;\">\n",
              "        \n",
              "  <svg xmlns=\"http://www.w3.org/2000/svg\" height=\"24px\"viewBox=\"0 0 24 24\"\n",
              "       width=\"24px\">\n",
              "    <path d=\"M0 0h24v24H0V0z\" fill=\"none\"/>\n",
              "    <path d=\"M18.56 5.44l.94 2.06.94-2.06 2.06-.94-2.06-.94-.94-2.06-.94 2.06-2.06.94zm-11 1L8.5 8.5l.94-2.06 2.06-.94-2.06-.94L8.5 2.5l-.94 2.06-2.06.94zm10 10l.94 2.06.94-2.06 2.06-.94-2.06-.94-.94-2.06-.94 2.06-2.06.94z\"/><path d=\"M17.41 7.96l-1.37-1.37c-.4-.4-.92-.59-1.43-.59-.52 0-1.04.2-1.43.59L10.3 9.45l-7.72 7.72c-.78.78-.78 2.05 0 2.83L4 21.41c.39.39.9.59 1.41.59.51 0 1.02-.2 1.41-.59l7.78-7.78 2.81-2.81c.8-.78.8-2.07 0-2.86zM5.41 20L4 18.59l7.72-7.72 1.47 1.35L5.41 20z\"/>\n",
              "  </svg>\n",
              "      </button>\n",
              "      \n",
              "  <style>\n",
              "    .colab-df-container {\n",
              "      display:flex;\n",
              "      flex-wrap:wrap;\n",
              "      gap: 12px;\n",
              "    }\n",
              "\n",
              "    .colab-df-convert {\n",
              "      background-color: #E8F0FE;\n",
              "      border: none;\n",
              "      border-radius: 50%;\n",
              "      cursor: pointer;\n",
              "      display: none;\n",
              "      fill: #1967D2;\n",
              "      height: 32px;\n",
              "      padding: 0 0 0 0;\n",
              "      width: 32px;\n",
              "    }\n",
              "\n",
              "    .colab-df-convert:hover {\n",
              "      background-color: #E2EBFA;\n",
              "      box-shadow: 0px 1px 2px rgba(60, 64, 67, 0.3), 0px 1px 3px 1px rgba(60, 64, 67, 0.15);\n",
              "      fill: #174EA6;\n",
              "    }\n",
              "\n",
              "    [theme=dark] .colab-df-convert {\n",
              "      background-color: #3B4455;\n",
              "      fill: #D2E3FC;\n",
              "    }\n",
              "\n",
              "    [theme=dark] .colab-df-convert:hover {\n",
              "      background-color: #434B5C;\n",
              "      box-shadow: 0px 1px 3px 1px rgba(0, 0, 0, 0.15);\n",
              "      filter: drop-shadow(0px 1px 2px rgba(0, 0, 0, 0.3));\n",
              "      fill: #FFFFFF;\n",
              "    }\n",
              "  </style>\n",
              "\n",
              "      <script>\n",
              "        const buttonEl =\n",
              "          document.querySelector('#df-a4bbb0e1-b353-4e9a-8d26-8833af6327d9 button.colab-df-convert');\n",
              "        buttonEl.style.display =\n",
              "          google.colab.kernel.accessAllowed ? 'block' : 'none';\n",
              "\n",
              "        async function convertToInteractive(key) {\n",
              "          const element = document.querySelector('#df-a4bbb0e1-b353-4e9a-8d26-8833af6327d9');\n",
              "          const dataTable =\n",
              "            await google.colab.kernel.invokeFunction('convertToInteractive',\n",
              "                                                     [key], {});\n",
              "          if (!dataTable) return;\n",
              "\n",
              "          const docLinkHtml = 'Like what you see? Visit the ' +\n",
              "            '<a target=\"_blank\" href=https://colab.research.google.com/notebooks/data_table.ipynb>data table notebook</a>'\n",
              "            + ' to learn more about interactive tables.';\n",
              "          element.innerHTML = '';\n",
              "          dataTable['output_type'] = 'display_data';\n",
              "          await google.colab.output.renderOutput(dataTable, element);\n",
              "          const docLink = document.createElement('div');\n",
              "          docLink.innerHTML = docLinkHtml;\n",
              "          element.appendChild(docLink);\n",
              "        }\n",
              "      </script>\n",
              "    </div>\n",
              "  </div>\n",
              "  "
            ]
          },
          "metadata": {},
          "execution_count": 14
        }
      ]
    },
    {
      "cell_type": "code",
      "source": [
        "#Plot Arrest numbers with Event numbers to see if they have a linear relationship\n",
        "sns.lmplot(data=data, x='Total event number', y='Arrested number', hue='Sex')"
      ],
      "metadata": {
        "colab": {
          "base_uri": "https://localhost:8080/"
        },
        "id": "BwdU14kImIPk",
        "outputId": "692c253a-d33a-45c0-bfdb-9ec9fcf6f746"
      },
      "execution_count": null,
      "outputs": [
        {
          "output_type": "execute_result",
          "data": {
            "text/plain": [
              "<seaborn.axisgrid.FacetGrid at 0x7f3785387160>"
            ]
          },
          "metadata": {},
          "execution_count": 15
        },
        {
          "output_type": "display_data",
          "data": {
            "text/plain": [
              "<Figure size 562x500 with 1 Axes>"
            ],
            "image/png": "[encoded data removed]"
          },
          "metadata": {}
        }
      ]
    },
    {
      "cell_type": "code",
      "source": [
        "ax = sns.barplot(data=data, x=\"Arrested number\", y=\"Total event number\", hue=\"Sex\")\n",
        "ax.set_xticklabels(ax.get_xticklabels(), rotation=40, ha=\"right\")\n",
        "plt.tight_layout()\n",
        "plt.show()"
      ],
      "metadata": {
        "colab": {
          "base_uri": "https://localhost:8080/"
        },
        "id": "BKdaU_zqGb04",
        "outputId": "f18a1974-fb6d-46bb-e33e-bdec30970114"
      },
      "execution_count": null,
      "outputs": [
        {
          "output_type": "display_data",
          "data": {
            "text/plain": [
              "<Figure size 640x480 with 1 Axes>"
            ],
            "image/png": "[encoded data removed]"
          },
          "metadata": {}
        }
      ]
    },
    {
      "cell_type": "code",
      "source": [
        "#code for Cohen's D \n",
        "\n",
        "#function to calculate the pooled standard deviation of 2 samples\n",
        "def pooled_standard_deviation(sample1,sample2):\n",
        "    #calculate the sample size\n",
        "    n1, n2 = len(sample1), len(sample2)\n",
        "    #calculate the variances\n",
        "    var1, var2 = np.var(sample1, ddof=1), np.var(sample2, ddof=1)\n",
        "    #calculate the pooled standard deviation\n",
        "    numerator = ((n1-1) * var1) + ((n2-1) * var2)\n",
        "    denominator = n1+n2-2\n",
        "    return np.sqrt(numerator/denominator)\n",
        "\n",
        "# function to calculate Cohen's d for independent samples\n",
        "def Cohens_d(sample1, sample2):\n",
        "    u1, u2 = np.mean(sample1), np.mean(sample2)\n",
        "    s_pooled = pooled_standard_deviation(sample1, sample2)\n",
        "    #print(s_pooled)\n",
        "    return ((u1 - u2) / s_pooled)"
      ],
      "metadata": {
        "id": "QtmHuNGBHbo0"
      },
      "execution_count": null,
      "outputs": []
    },
    {
      "cell_type": "code",
      "source": [
        "#Create gender groups from dataset \n",
        "F = data[data['Sex']=='F']\n",
        "M = data[data['Sex']=='M']\n",
        "\n",
        "F_Arrested = F['Arrested number']\n",
        "M_Arrested = M['Arrested number']"
      ],
      "metadata": {
        "id": "TiN76sQNaDQ0"
      },
      "execution_count": null,
      "outputs": []
    },
    {
      "cell_type": "code",
      "source": [
        "#Conduct power analysis \n",
        "from statsmodels.stats.power import TTestIndPower\n",
        "effect_size = Cohens_d(M_Arrested,F_Arrested)\n",
        "alpha = 0.05\n",
        "power = 0.8\n",
        "ratio_ =len(F_Arrested)/len(M_Arrested)\n",
        "print('Effect size (Cohen\\'s D) for period 3 grades:',effect_size)"
      ],
      "metadata": {
        "colab": {
          "base_uri": "https://localhost:8080/"
        },
        "id": "Cd0q7Qvca5Fd",
        "outputId": "a69e3496-329e-4b81-f4ee-bf305b9e1f8e"
      },
      "execution_count": null,
      "outputs": [
        {
          "output_type": "stream",
          "name": "stdout",
          "text": [
            "Effect size (Cohen's D) for period 3 grades: 0.06852953568200851\n"
          ]
        }
      ]
    },
    {
      "cell_type": "code",
      "source": [
        "#https://www.statsmodels.org/dev/generated/statsmodels.stats.power.TTestIndPower.solve_power.html\n",
        "analysis = TTestIndPower()\n",
        "sample_size = analysis.solve_power(effect_size, power=power, nobs1=None, ratio=ratio_, alpha=alpha)\n",
        "print('Sample Size of nobs1: %.3f' % sample_size, 'needed for M_Arrested') \n",
        "print('Actual size of M_Arrested:', len(M_Arrested))\n",
        "nobs2 =ratio_*sample_size\n",
        "print('Sample Size of nobs2: %.3f' % nobs2, 'needed for F_Arrested')\n",
        "print('Actual size of F_Arrested:', len(F_Arrested))"
      ],
      "metadata": {
        "colab": {
          "base_uri": "https://localhost:8080/"
        },
        "id": "QnYWCauAbhhc",
        "outputId": "a181ac5e-b66c-4ad4-99c5-2388a2f9d096"
      },
      "execution_count": null,
      "outputs": [
        {
          "output_type": "stream",
          "name": "stdout",
          "text": [
            "Sample Size of nobs1: 8142.368 needed for M_Arrested\n",
            "Actual size of M_Arrested: 29648\n",
            "Sample Size of nobs2: 2103.427 needed for F_Arrested\n",
            "Actual size of F_Arrested: 7659\n"
          ]
        }
      ]
    },
    {
      "cell_type": "code",
      "source": [
        "#Another way to go about this is the other direction. We can test the power of the actual sample size of the male group\n",
        "power = TTestPower()\n",
        "n_test = power.solve_power(nobs=29648, effect_size = effect_size, power = None, alpha = 0.05)\n",
        "print('Power: {:.3f}'.format(n_test))"
      ],
      "metadata": {
        "colab": {
          "base_uri": "https://localhost:8080/"
        },
        "id": "aSa4b_8hdn4F",
        "outputId": "57038490-0abd-4414-f6b9-77826311ed34"
      },
      "execution_count": null,
      "outputs": [
        {
          "output_type": "stream",
          "name": "stdout",
          "text": [
            "Power: 1.000\n"
          ]
        }
      ]
    },
    {
      "cell_type": "code",
      "source": [
        "#Power curve\n",
        "effect_sizes = np.array([effect_size, 0.2, 0.5])\n",
        "sample_sizes = np.array(range(5, 10000))\n",
        "analysis.plot_power(dep_var='nobs', nobs=sample_sizes,\n",
        "               effect_size=effect_sizes)\n",
        "plt.show()\n",
        "     "
      ],
      "metadata": {
        "colab": {
          "base_uri": "https://localhost:8080/"
        },
        "id": "xp9K9J5BfYxV",
        "outputId": "6ba24777-9a7b-4380-fc36-c0fdf960f0ee"
      },
      "execution_count": null,
      "outputs": [
        {
          "output_type": "stream",
          "name": "stderr",
          "text": [
            "/usr/local/lib/python3.9/dist-packages/scipy/stats/_continuous_distns.py:6832: RuntimeWarning: invalid value encountered in _nct_sf\n",
            "  return np.clip(_boost._nct_sf(x, df, nc), 0, 1)\n",
            "/usr/local/lib/python3.9/dist-packages/scipy/stats/_continuous_distns.py:6826: RuntimeWarning: invalid value encountered in _nct_cdf\n",
            "  return np.clip(_boost._nct_cdf(x, df, nc), 0, 1)\n"
          ]
        },
        {
          "output_type": "display_data",
          "data": {
            "text/plain": [
              "<Figure size 640x480 with 1 Axes>"
            ],
            "image/png": "[encoded data removed]"
          },
          "metadata": {}
        }
      ]
    },
    {
      "cell_type": "code",
      "source": [
        "#Conduct a T-test to check if the mean arrest times of both genders are equal\n",
        "t_stat, p_value = ttest_ind(F_Arrested, M_Arrested)\n",
        "print(\"T-statistic value: \", t_stat)  \n",
        "print(\"P-Value: \", p_value)"
      ],
      "metadata": {
        "colab": {
          "base_uri": "https://localhost:8080/"
        },
        "id": "wTl3oYYHFwSP",
        "outputId": "da25ef58-bd62-4f50-9b80-2eea0cce4d42"
      },
      "execution_count": null,
      "outputs": [
        {
          "output_type": "stream",
          "name": "stdout",
          "text": [
            "T-statistic value:  -5.346460486332444\n",
            "P-Value:  9.021713706600806e-08\n"
          ]
        }
      ]
    },
    {
      "cell_type": "code",
      "source": [
        "#Conduct a T-test to check if the mean event numbers of both genders are equal\n",
        "t_stat, p_value = ttest_ind(F['Total event number'], M['Total event number'])\n",
        "print(\"T-statistic value: \", t_stat)  \n",
        "print(\"P-Value: \", p_value)"
      ],
      "metadata": {
        "colab": {
          "base_uri": "https://localhost:8080/"
        },
        "id": "5W4JZFyIHTez",
        "outputId": "5068d245-abc3-401b-f994-e849edd4cc54"
      },
      "execution_count": null,
      "outputs": [
        {
          "output_type": "stream",
          "name": "stdout",
          "text": [
            "T-statistic value:  -5.614490569527928\n",
            "P-Value:  1.9854137436681365e-08\n"
          ]
        }
      ]
    },
    {
      "cell_type": "code",
      "source": [
        "#Apply ANCOVA\n",
        "#Null hypothesis: Arrestees of both genders have same numbers of being arrested on average after accounting for their total event numbers.\n",
        "ancova(data=data, dv='Arrested number', covar='Total event number', between='Sex')"
      ],
      "metadata": {
        "colab": {
          "base_uri": "https://localhost:8080/"
        },
        "id": "F4rP1-a4Fptk",
        "outputId": "379d39ae-903c-4499-8f3c-3688e6659a8b"
      },
      "execution_count": null,
      "outputs": [
        {
          "output_type": "execute_result",
          "data": {
            "text/plain": [
              "               Source            SS     DF             F     p-unc       np2\n",
              "0                 Sex      9.743263      1      4.424106  0.035441  0.000119\n",
              "1  Total event number  69179.972620      1  31412.426274  0.000000  0.457131\n",
              "2            Residual  82155.057877  37304           NaN       NaN       NaN"
            ],
            "text/html": [
              "\n",
              "  <div id=\"df-405afad4-ea53-4c61-bd26-2bb06737660b\">\n",
              "    <div class=\"colab-df-container\">\n",
              "      <div>\n",
              "<style scoped>\n",
              "    .dataframe tbody tr th:only-of-type {\n",
              "        vertical-align: middle;\n",
              "    }\n",
              "\n",
              "    .dataframe tbody tr th {\n",
              "        vertical-align: top;\n",
              "    }\n",
              "\n",
              "    .dataframe thead th {\n",
              "        text-align: right;\n",
              "    }\n",
              "</style>\n",
              "<table border=\"1\" class=\"dataframe\">\n",
              "  <thead>\n",
              "    <tr style=\"text-align: right;\">\n",
              "      <th></th>\n",
              "      <th>Source</th>\n",
              "      <th>SS</th>\n",
              "      <th>DF</th>\n",
              "      <th>F</th>\n",
              "      <th>p-unc</th>\n",
              "      <th>np2</th>\n",
              "    </tr>\n",
              "  </thead>\n",
              "  <tbody>\n",
              "    <tr>\n",
              "      <th>0</th>\n",
              "      <td>Sex</td>\n",
              "      <td>9.743263</td>\n",
              "      <td>1</td>\n",
              "      <td>4.424106</td>\n",
              "      <td>0.035441</td>\n",
              "      <td>0.000119</td>\n",
              "    </tr>\n",
              "    <tr>\n",
              "      <th>1</th>\n",
              "      <td>Total event number</td>\n",
              "      <td>69179.972620</td>\n",
              "      <td>1</td>\n",
              "      <td>31412.426274</td>\n",
              "      <td>0.000000</td>\n",
              "      <td>0.457131</td>\n",
              "    </tr>\n",
              "    <tr>\n",
              "      <th>2</th>\n",
              "      <td>Residual</td>\n",
              "      <td>82155.057877</td>\n",
              "      <td>37304</td>\n",
              "      <td>NaN</td>\n",
              "      <td>NaN</td>\n",
              "      <td>NaN</td>\n",
              "    </tr>\n",
              "  </tbody>\n",
              "</table>\n",
              "</div>\n",
              "      <button class=\"colab-df-convert\" onclick=\"convertToInteractive('df-405afad4-ea53-4c61-bd26-2bb06737660b')\"\n",
              "              title=\"Convert this dataframe to an interactive table.\"\n",
              "              style=\"display:none;\">\n",
              "        \n",
              "  <svg xmlns=\"http://www.w3.org/2000/svg\" height=\"24px\"viewBox=\"0 0 24 24\"\n",
              "       width=\"24px\">\n",
              "    <path d=\"M0 0h24v24H0V0z\" fill=\"none\"/>\n",
              "    <path d=\"M18.56 5.44l.94 2.06.94-2.06 2.06-.94-2.06-.94-.94-2.06-.94 2.06-2.06.94zm-11 1L8.5 8.5l.94-2.06 2.06-.94-2.06-.94L8.5 2.5l-.94 2.06-2.06.94zm10 10l.94 2.06.94-2.06 2.06-.94-2.06-.94-.94-2.06-.94 2.06-2.06.94z\"/><path d=\"M17.41 7.96l-1.37-1.37c-.4-.4-.92-.59-1.43-.59-.52 0-1.04.2-1.43.59L10.3 9.45l-7.72 7.72c-.78.78-.78 2.05 0 2.83L4 21.41c.39.39.9.59 1.41.59.51 0 1.02-.2 1.41-.59l7.78-7.78 2.81-2.81c.8-.78.8-2.07 0-2.86zM5.41 20L4 18.59l7.72-7.72 1.47 1.35L5.41 20z\"/>\n",
              "  </svg>\n",
              "      </button>\n",
              "      \n",
              "  <style>\n",
              "    .colab-df-container {\n",
              "      display:flex;\n",
              "      flex-wrap:wrap;\n",
              "      gap: 12px;\n",
              "    }\n",
              "\n",
              "    .colab-df-convert {\n",
              "      background-color: #E8F0FE;\n",
              "      border: none;\n",
              "      border-radius: 50%;\n",
              "      cursor: pointer;\n",
              "      display: none;\n",
              "      fill: #1967D2;\n",
              "      height: 32px;\n",
              "      padding: 0 0 0 0;\n",
              "      width: 32px;\n",
              "    }\n",
              "\n",
              "    .colab-df-convert:hover {\n",
              "      background-color: #E2EBFA;\n",
              "      box-shadow: 0px 1px 2px rgba(60, 64, 67, 0.3), 0px 1px 3px 1px rgba(60, 64, 67, 0.15);\n",
              "      fill: #174EA6;\n",
              "    }\n",
              "\n",
              "    [theme=dark] .colab-df-convert {\n",
              "      background-color: #3B4455;\n",
              "      fill: #D2E3FC;\n",
              "    }\n",
              "\n",
              "    [theme=dark] .colab-df-convert:hover {\n",
              "      background-color: #434B5C;\n",
              "      box-shadow: 0px 1px 3px 1px rgba(0, 0, 0, 0.15);\n",
              "      filter: drop-shadow(0px 1px 2px rgba(0, 0, 0, 0.3));\n",
              "      fill: #FFFFFF;\n",
              "    }\n",
              "  </style>\n",
              "\n",
              "      <script>\n",
              "        const buttonEl =\n",
              "          document.querySelector('#df-405afad4-ea53-4c61-bd26-2bb06737660b button.colab-df-convert');\n",
              "        buttonEl.style.display =\n",
              "          google.colab.kernel.accessAllowed ? 'block' : 'none';\n",
              "\n",
              "        async function convertToInteractive(key) {\n",
              "          const element = document.querySelector('#df-405afad4-ea53-4c61-bd26-2bb06737660b');\n",
              "          const dataTable =\n",
              "            await google.colab.kernel.invokeFunction('convertToInteractive',\n",
              "                                                     [key], {});\n",
              "          if (!dataTable) return;\n",
              "\n",
              "          const docLinkHtml = 'Like what you see? Visit the ' +\n",
              "            '<a target=\"_blank\" href=https://colab.research.google.com/notebooks/data_table.ipynb>data table notebook</a>'\n",
              "            + ' to learn more about interactive tables.';\n",
              "          element.innerHTML = '';\n",
              "          dataTable['output_type'] = 'display_data';\n",
              "          await google.colab.output.renderOutput(dataTable, element);\n",
              "          const docLink = document.createElement('div');\n",
              "          docLink.innerHTML = docLinkHtml;\n",
              "          element.appendChild(docLink);\n",
              "        }\n",
              "      </script>\n",
              "    </div>\n",
              "  </div>\n",
              "  "
            ]
          },
          "metadata": {},
          "execution_count": 25
        }
      ]
    },
    {
      "cell_type": "markdown",
      "source": [
        "# RQ2: Logistic Regression"
      ],
      "metadata": {
        "id": "YgmX2Fctxclm"
      }
    },
    {
      "cell_type": "code",
      "execution_count": null,
      "metadata": {
        "id": "moQWUF0i4pb3",
        "colab": {
          "base_uri": "https://localhost:8080/"
        },
        "outputId": "c488f2ca-46e4-4cd0-8a5f-bafc70a67e44"
      },
      "outputs": [
        {
          "output_type": "stream",
          "name": "stdout",
          "text": [
            "Looking in indexes: https://pypi.org/simple, https://us-python.pkg.dev/colab-wheels/public/simple/\n",
            "Requirement already satisfied: scikit-learn in /usr/local/lib/python3.9/dist-packages (1.2.2)\n",
            "Requirement already satisfied: joblib>=1.1.1 in /usr/local/lib/python3.9/dist-packages (from scikit-learn) (1.2.0)\n",
            "Requirement already satisfied: numpy>=1.17.3 in /usr/local/lib/python3.9/dist-packages (from scikit-learn) (1.22.4)\n",
            "Requirement already satisfied: threadpoolctl>=2.0.0 in /usr/local/lib/python3.9/dist-packages (from scikit-learn) (3.1.0)\n",
            "Requirement already satisfied: scipy>=1.3.2 in /usr/local/lib/python3.9/dist-packages (from scikit-learn) (1.10.1)\n"
          ]
        }
      ],
      "source": [
        "#Import the following libraries\n",
        "import pandas as pd\n",
        "import numpy as np\n",
        "import matplotlib.pyplot as plt\n",
        "import seaborn as sns\n",
        "import re\n",
        "\n",
        "import statsmodels.api as sm\n",
        "from statsmodels.formula.api import ols\n",
        "import statsmodels.stats.api as sms\n",
        "from statsmodels.stats.anova import anova_lm\n",
        "from statsmodels.graphics.factorplots import interaction_plot\n",
        "import statsmodels.stats.multicomp as mc\n",
        "from statsmodels.stats.multicomp import pairwise_tukeyhsd\n",
        "\n",
        "from scipy import stats\n",
        "from scipy.stats import f_oneway\n",
        "\n",
        "from sklearn.model_selection import train_test_split\n",
        "from sklearn.metrics import confusion_matrix, accuracy_score\n",
        "from sklearn.preprocessing import OneHotEncoder\n",
        "\n",
        "import statsmodels.formula.api as smf\n",
        "\n",
        "from statsmodels.genmod.generalized_linear_model import GLM\n",
        "from statsmodels.genmod import families\n",
        "from statsmodels.stats.outliers_influence import variance_inflation_factor\n",
        "!pip install scikit-learn"
      ]
    },
    {
      "cell_type": "code",
      "source": [
        "from google.colab import drive\n",
        "drive.mount('/content/drive')"
      ],
      "metadata": {
        "colab": {
          "base_uri": "https://localhost:8080/"
        },
        "id": "T1-G1TW2unls",
        "outputId": "c8d41ba8-32c7-4646-cb5e-60ae2d739347"
      },
      "execution_count": null,
      "outputs": [
        {
          "output_type": "stream",
          "name": "stdout",
          "text": [
            "Mounted at /content/drive\n"
          ]
        }
      ]
    },
    {
      "cell_type": "code",
      "source": [
        "#Read the file\n",
        "# df = pd.read_csv(\"Arrests_and_Strip_Searches_(RBDC-ARR-TBL-001).csv\")\n",
        "df = pd.read_csv(\"/content/drive/MyDrive/Arrests_and_Strip_Searches_(RBDC-ARR-TBL-001).csv\")\n",
        "df"
      ],
      "metadata": {
        "id": "RONLTZan4tpb",
        "colab": {
          "base_uri": "https://localhost:8080/",
          "height": 522
        },
        "outputId": "40f84485-11fe-42d4-cfe5-36ebfc8f8ba3"
      },
      "execution_count": null,
      "outputs": [
        {
          "output_type": "execute_result",
          "data": {
            "text/plain": [
              "       Arrest_Year Arrest_Month  EventID   ArrestID  PersonID  \\\n",
              "0             2020    July-Sept  1005907  6017884.0    326622   \n",
              "1             2020    July-Sept  1014562  6056669.0    326622   \n",
              "2             2020      Oct-Dec  1029922  6057065.0    326622   \n",
              "3             2021      Jan-Mar  1052190  6029059.0    327535   \n",
              "4             2021      Jan-Mar  1015512  6040372.0    327535   \n",
              "...            ...          ...      ...        ...       ...   \n",
              "65271         2021      Oct-Dec  1055609  6044336.0    316123   \n",
              "65272         2021      Oct-Dec  1032758  6031692.0    307736   \n",
              "65273         2021      Oct-Dec  1021067  6064396.0    324057   \n",
              "65274         2021      Oct-Dec  1008998  6008662.0    331870   \n",
              "65275         2021      Oct-Dec  1033395  6032145.0    310583   \n",
              "\n",
              "          Perceived_Race Sex    Age_group__at_arrest_  \\\n",
              "0                  White   M      Aged 35 to 44 years   \n",
              "1                  White   M      Aged 35 to 44 years   \n",
              "2      Unknown or Legacy   M      Aged 35 to 44 years   \n",
              "3                  Black   M      Aged 25 to 34 years   \n",
              "4            South Asian   M      Aged 25 to 34 years   \n",
              "...                  ...  ..                      ...   \n",
              "65271         Indigenous   F      Aged 25 to 34 years   \n",
              "65272        South Asian   M      Aged 35 to 44 years   \n",
              "65273              White   F      Aged 45 to 54 years   \n",
              "65274  Unknown or Legacy   M  Aged 17 years and under   \n",
              "65275             Latino   M      Aged 18 to 24 years   \n",
              "\n",
              "       Youth_at_arrest__under_18_years ArrestLocDiv  ...  \\\n",
              "0                          Not a youth           54  ...   \n",
              "1                          Not a youth           54  ...   \n",
              "2                          Not a youth           54  ...   \n",
              "3                          Not a youth           XX  ...   \n",
              "4                          Not a youth           XX  ...   \n",
              "...                                ...          ...  ...   \n",
              "65271                      Not a youth           XX  ...   \n",
              "65272                      Not a youth           54  ...   \n",
              "65273                      Not a youth           XX  ...   \n",
              "65274  Youth (aged 17 years and under)           XX  ...   \n",
              "65275                      Not a youth           XX  ...   \n",
              "\n",
              "       Actions_at_arrest___Resisted__d  Actions_at_arrest___Mental_inst  \\\n",
              "0                                    0                                0   \n",
              "1                                    0                                0   \n",
              "2                                    0                                0   \n",
              "3                                    0                                0   \n",
              "4                                    0                                0   \n",
              "...                                ...                              ...   \n",
              "65271                                1                                0   \n",
              "65272                                0                                0   \n",
              "65273                                0                                0   \n",
              "65274                                0                                0   \n",
              "65275                                0                                0   \n",
              "\n",
              "      Actions_at_arrest___Assaulted_o  Actions_at_arrest___Cooperative  \\\n",
              "0                                   0                                1   \n",
              "1                                   0                                0   \n",
              "2                                   0                                0   \n",
              "3                                   0                                0   \n",
              "4                                   0                                0   \n",
              "...                               ...                              ...   \n",
              "65271                               0                                0   \n",
              "65272                               0                                0   \n",
              "65273                               0                                0   \n",
              "65274                               0                                1   \n",
              "65275                               0                                1   \n",
              "\n",
              "       SearchReason_CauseInjury  SearchReason_AssistEscape  \\\n",
              "0                           NaN                        NaN   \n",
              "1                           NaN                        NaN   \n",
              "2                           NaN                        NaN   \n",
              "3                           NaN                        NaN   \n",
              "4                           NaN                        NaN   \n",
              "...                         ...                        ...   \n",
              "65271                       NaN                        NaN   \n",
              "65272                       NaN                        NaN   \n",
              "65273                       NaN                        NaN   \n",
              "65274                       NaN                        NaN   \n",
              "65275                       NaN                        NaN   \n",
              "\n",
              "       SearchReason_PossessWeapons  SearchReason_PossessEvidence  ItemsFound  \\\n",
              "0                              NaN                           NaN         NaN   \n",
              "1                              NaN                           NaN         NaN   \n",
              "2                              NaN                           NaN         NaN   \n",
              "3                              NaN                           NaN         NaN   \n",
              "4                              NaN                           NaN         NaN   \n",
              "...                            ...                           ...         ...   \n",
              "65271                          NaN                           NaN         NaN   \n",
              "65272                          NaN                           NaN         NaN   \n",
              "65273                          NaN                           NaN         NaN   \n",
              "65274                          NaN                           NaN         NaN   \n",
              "65275                          NaN                           NaN         NaN   \n",
              "\n",
              "       ObjectId  \n",
              "0             1  \n",
              "1             2  \n",
              "2             3  \n",
              "3             4  \n",
              "4             5  \n",
              "...         ...  \n",
              "65271     65272  \n",
              "65272     65273  \n",
              "65273     65274  \n",
              "65274     65275  \n",
              "65275     65276  \n",
              "\n",
              "[65276 rows x 25 columns]"
            ],
            "text/html": [
              "\n",
              "  <div id=\"df-265b539d-d9df-4d1c-849a-ea840ba2af64\">\n",
              "    <div class=\"colab-df-container\">\n",
              "      <div>\n",
              "<style scoped>\n",
              "    .dataframe tbody tr th:only-of-type {\n",
              "        vertical-align: middle;\n",
              "    }\n",
              "\n",
              "    .dataframe tbody tr th {\n",
              "        vertical-align: top;\n",
              "    }\n",
              "\n",
              "    .dataframe thead th {\n",
              "        text-align: right;\n",
              "    }\n",
              "</style>\n",
              "<table border=\"1\" class=\"dataframe\">\n",
              "  <thead>\n",
              "    <tr style=\"text-align: right;\">\n",
              "      <th></th>\n",
              "      <th>Arrest_Year</th>\n",
              "      <th>Arrest_Month</th>\n",
              "      <th>EventID</th>\n",
              "      <th>ArrestID</th>\n",
              "      <th>PersonID</th>\n",
              "      <th>Perceived_Race</th>\n",
              "      <th>Sex</th>\n",
              "      <th>Age_group__at_arrest_</th>\n",
              "      <th>Youth_at_arrest__under_18_years</th>\n",
              "      <th>ArrestLocDiv</th>\n",
              "      <th>...</th>\n",
              "      <th>Actions_at_arrest___Resisted__d</th>\n",
              "      <th>Actions_at_arrest___Mental_inst</th>\n",
              "      <th>Actions_at_arrest___Assaulted_o</th>\n",
              "      <th>Actions_at_arrest___Cooperative</th>\n",
              "      <th>SearchReason_CauseInjury</th>\n",
              "      <th>SearchReason_AssistEscape</th>\n",
              "      <th>SearchReason_PossessWeapons</th>\n",
              "      <th>SearchReason_PossessEvidence</th>\n",
              "      <th>ItemsFound</th>\n",
              "      <th>ObjectId</th>\n",
              "    </tr>\n",
              "  </thead>\n",
              "  <tbody>\n",
              "    <tr>\n",
              "      <th>0</th>\n",
              "      <td>2020</td>\n",
              "      <td>July-Sept</td>\n",
              "      <td>1005907</td>\n",
              "      <td>6017884.0</td>\n",
              "      <td>326622</td>\n",
              "      <td>White</td>\n",
              "      <td>M</td>\n",
              "      <td>Aged 35 to 44 years</td>\n",
              "      <td>Not a youth</td>\n",
              "      <td>54</td>\n",
              "      <td>...</td>\n",
              "      <td>0</td>\n",
              "      <td>0</td>\n",
              "      <td>0</td>\n",
              "      <td>1</td>\n",
              "      <td>NaN</td>\n",
              "      <td>NaN</td>\n",
              "      <td>NaN</td>\n",
              "      <td>NaN</td>\n",
              "      <td>NaN</td>\n",
              "      <td>1</td>\n",
              "    </tr>\n",
              "    <tr>\n",
              "      <th>1</th>\n",
              "      <td>2020</td>\n",
              "      <td>July-Sept</td>\n",
              "      <td>1014562</td>\n",
              "      <td>6056669.0</td>\n",
              "      <td>326622</td>\n",
              "      <td>White</td>\n",
              "      <td>M</td>\n",
              "      <td>Aged 35 to 44 years</td>\n",
              "      <td>Not a youth</td>\n",
              "      <td>54</td>\n",
              "      <td>...</td>\n",
              "      <td>0</td>\n",
              "      <td>0</td>\n",
              "      <td>0</td>\n",
              "      <td>0</td>\n",
              "      <td>NaN</td>\n",
              "      <td>NaN</td>\n",
              "      <td>NaN</td>\n",
              "      <td>NaN</td>\n",
              "      <td>NaN</td>\n",
              "      <td>2</td>\n",
              "    </tr>\n",
              "    <tr>\n",
              "      <th>2</th>\n",
              "      <td>2020</td>\n",
              "      <td>Oct-Dec</td>\n",
              "      <td>1029922</td>\n",
              "      <td>6057065.0</td>\n",
              "      <td>326622</td>\n",
              "      <td>Unknown or Legacy</td>\n",
              "      <td>M</td>\n",
              "      <td>Aged 35 to 44 years</td>\n",
              "      <td>Not a youth</td>\n",
              "      <td>54</td>\n",
              "      <td>...</td>\n",
              "      <td>0</td>\n",
              "      <td>0</td>\n",
              "      <td>0</td>\n",
              "      <td>0</td>\n",
              "      <td>NaN</td>\n",
              "      <td>NaN</td>\n",
              "      <td>NaN</td>\n",
              "      <td>NaN</td>\n",
              "      <td>NaN</td>\n",
              "      <td>3</td>\n",
              "    </tr>\n",
              "    <tr>\n",
              "      <th>3</th>\n",
              "      <td>2021</td>\n",
              "      <td>Jan-Mar</td>\n",
              "      <td>1052190</td>\n",
              "      <td>6029059.0</td>\n",
              "      <td>327535</td>\n",
              "      <td>Black</td>\n",
              "      <td>M</td>\n",
              "      <td>Aged 25 to 34 years</td>\n",
              "      <td>Not a youth</td>\n",
              "      <td>XX</td>\n",
              "      <td>...</td>\n",
              "      <td>0</td>\n",
              "      <td>0</td>\n",
              "      <td>0</td>\n",
              "      <td>0</td>\n",
              "      <td>NaN</td>\n",
              "      <td>NaN</td>\n",
              "      <td>NaN</td>\n",
              "      <td>NaN</td>\n",
              "      <td>NaN</td>\n",
              "      <td>4</td>\n",
              "    </tr>\n",
              "    <tr>\n",
              "      <th>4</th>\n",
              "      <td>2021</td>\n",
              "      <td>Jan-Mar</td>\n",
              "      <td>1015512</td>\n",
              "      <td>6040372.0</td>\n",
              "      <td>327535</td>\n",
              "      <td>South Asian</td>\n",
              "      <td>M</td>\n",
              "      <td>Aged 25 to 34 years</td>\n",
              "      <td>Not a youth</td>\n",
              "      <td>XX</td>\n",
              "      <td>...</td>\n",
              "      <td>0</td>\n",
              "      <td>0</td>\n",
              "      <td>0</td>\n",
              "      <td>0</td>\n",
              "      <td>NaN</td>\n",
              "      <td>NaN</td>\n",
              "      <td>NaN</td>\n",
              "      <td>NaN</td>\n",
              "      <td>NaN</td>\n",
              "      <td>5</td>\n",
              "    </tr>\n",
              "    <tr>\n",
              "      <th>...</th>\n",
              "      <td>...</td>\n",
              "      <td>...</td>\n",
              "      <td>...</td>\n",
              "      <td>...</td>\n",
              "      <td>...</td>\n",
              "      <td>...</td>\n",
              "      <td>...</td>\n",
              "      <td>...</td>\n",
              "      <td>...</td>\n",
              "      <td>...</td>\n",
              "      <td>...</td>\n",
              "      <td>...</td>\n",
              "      <td>...</td>\n",
              "      <td>...</td>\n",
              "      <td>...</td>\n",
              "      <td>...</td>\n",
              "      <td>...</td>\n",
              "      <td>...</td>\n",
              "      <td>...</td>\n",
              "      <td>...</td>\n",
              "      <td>...</td>\n",
              "    </tr>\n",
              "    <tr>\n",
              "      <th>65271</th>\n",
              "      <td>2021</td>\n",
              "      <td>Oct-Dec</td>\n",
              "      <td>1055609</td>\n",
              "      <td>6044336.0</td>\n",
              "      <td>316123</td>\n",
              "      <td>Indigenous</td>\n",
              "      <td>F</td>\n",
              "      <td>Aged 25 to 34 years</td>\n",
              "      <td>Not a youth</td>\n",
              "      <td>XX</td>\n",
              "      <td>...</td>\n",
              "      <td>1</td>\n",
              "      <td>0</td>\n",
              "      <td>0</td>\n",
              "      <td>0</td>\n",
              "      <td>NaN</td>\n",
              "      <td>NaN</td>\n",
              "      <td>NaN</td>\n",
              "      <td>NaN</td>\n",
              "      <td>NaN</td>\n",
              "      <td>65272</td>\n",
              "    </tr>\n",
              "    <tr>\n",
              "      <th>65272</th>\n",
              "      <td>2021</td>\n",
              "      <td>Oct-Dec</td>\n",
              "      <td>1032758</td>\n",
              "      <td>6031692.0</td>\n",
              "      <td>307736</td>\n",
              "      <td>South Asian</td>\n",
              "      <td>M</td>\n",
              "      <td>Aged 35 to 44 years</td>\n",
              "      <td>Not a youth</td>\n",
              "      <td>54</td>\n",
              "      <td>...</td>\n",
              "      <td>0</td>\n",
              "      <td>0</td>\n",
              "      <td>0</td>\n",
              "      <td>0</td>\n",
              "      <td>NaN</td>\n",
              "      <td>NaN</td>\n",
              "      <td>NaN</td>\n",
              "      <td>NaN</td>\n",
              "      <td>NaN</td>\n",
              "      <td>65273</td>\n",
              "    </tr>\n",
              "    <tr>\n",
              "      <th>65273</th>\n",
              "      <td>2021</td>\n",
              "      <td>Oct-Dec</td>\n",
              "      <td>1021067</td>\n",
              "      <td>6064396.0</td>\n",
              "      <td>324057</td>\n",
              "      <td>White</td>\n",
              "      <td>F</td>\n",
              "      <td>Aged 45 to 54 years</td>\n",
              "      <td>Not a youth</td>\n",
              "      <td>XX</td>\n",
              "      <td>...</td>\n",
              "      <td>0</td>\n",
              "      <td>0</td>\n",
              "      <td>0</td>\n",
              "      <td>0</td>\n",
              "      <td>NaN</td>\n",
              "      <td>NaN</td>\n",
              "      <td>NaN</td>\n",
              "      <td>NaN</td>\n",
              "      <td>NaN</td>\n",
              "      <td>65274</td>\n",
              "    </tr>\n",
              "    <tr>\n",
              "      <th>65274</th>\n",
              "      <td>2021</td>\n",
              "      <td>Oct-Dec</td>\n",
              "      <td>1008998</td>\n",
              "      <td>6008662.0</td>\n",
              "      <td>331870</td>\n",
              "      <td>Unknown or Legacy</td>\n",
              "      <td>M</td>\n",
              "      <td>Aged 17 years and under</td>\n",
              "      <td>Youth (aged 17 years and under)</td>\n",
              "      <td>XX</td>\n",
              "      <td>...</td>\n",
              "      <td>0</td>\n",
              "      <td>0</td>\n",
              "      <td>0</td>\n",
              "      <td>1</td>\n",
              "      <td>NaN</td>\n",
              "      <td>NaN</td>\n",
              "      <td>NaN</td>\n",
              "      <td>NaN</td>\n",
              "      <td>NaN</td>\n",
              "      <td>65275</td>\n",
              "    </tr>\n",
              "    <tr>\n",
              "      <th>65275</th>\n",
              "      <td>2021</td>\n",
              "      <td>Oct-Dec</td>\n",
              "      <td>1033395</td>\n",
              "      <td>6032145.0</td>\n",
              "      <td>310583</td>\n",
              "      <td>Latino</td>\n",
              "      <td>M</td>\n",
              "      <td>Aged 18 to 24 years</td>\n",
              "      <td>Not a youth</td>\n",
              "      <td>XX</td>\n",
              "      <td>...</td>\n",
              "      <td>0</td>\n",
              "      <td>0</td>\n",
              "      <td>0</td>\n",
              "      <td>1</td>\n",
              "      <td>NaN</td>\n",
              "      <td>NaN</td>\n",
              "      <td>NaN</td>\n",
              "      <td>NaN</td>\n",
              "      <td>NaN</td>\n",
              "      <td>65276</td>\n",
              "    </tr>\n",
              "  </tbody>\n",
              "</table>\n",
              "<p>65276 rows × 25 columns</p>\n",
              "</div>\n",
              "      <button class=\"colab-df-convert\" onclick=\"convertToInteractive('df-265b539d-d9df-4d1c-849a-ea840ba2af64')\"\n",
              "              title=\"Convert this dataframe to an interactive table.\"\n",
              "              style=\"display:none;\">\n",
              "        \n",
              "  <svg xmlns=\"http://www.w3.org/2000/svg\" height=\"24px\"viewBox=\"0 0 24 24\"\n",
              "       width=\"24px\">\n",
              "    <path d=\"M0 0h24v24H0V0z\" fill=\"none\"/>\n",
              "    <path d=\"M18.56 5.44l.94 2.06.94-2.06 2.06-.94-2.06-.94-.94-2.06-.94 2.06-2.06.94zm-11 1L8.5 8.5l.94-2.06 2.06-.94-2.06-.94L8.5 2.5l-.94 2.06-2.06.94zm10 10l.94 2.06.94-2.06 2.06-.94-2.06-.94-.94-2.06-.94 2.06-2.06.94z\"/><path d=\"M17.41 7.96l-1.37-1.37c-.4-.4-.92-.59-1.43-.59-.52 0-1.04.2-1.43.59L10.3 9.45l-7.72 7.72c-.78.78-.78 2.05 0 2.83L4 21.41c.39.39.9.59 1.41.59.51 0 1.02-.2 1.41-.59l7.78-7.78 2.81-2.81c.8-.78.8-2.07 0-2.86zM5.41 20L4 18.59l7.72-7.72 1.47 1.35L5.41 20z\"/>\n",
              "  </svg>\n",
              "      </button>\n",
              "      \n",
              "  <style>\n",
              "    .colab-df-container {\n",
              "      display:flex;\n",
              "      flex-wrap:wrap;\n",
              "      gap: 12px;\n",
              "    }\n",
              "\n",
              "    .colab-df-convert {\n",
              "      background-color: #E8F0FE;\n",
              "      border: none;\n",
              "      border-radius: 50%;\n",
              "      cursor: pointer;\n",
              "      display: none;\n",
              "      fill: #1967D2;\n",
              "      height: 32px;\n",
              "      padding: 0 0 0 0;\n",
              "      width: 32px;\n",
              "    }\n",
              "\n",
              "    .colab-df-convert:hover {\n",
              "      background-color: #E2EBFA;\n",
              "      box-shadow: 0px 1px 2px rgba(60, 64, 67, 0.3), 0px 1px 3px 1px rgba(60, 64, 67, 0.15);\n",
              "      fill: #174EA6;\n",
              "    }\n",
              "\n",
              "    [theme=dark] .colab-df-convert {\n",
              "      background-color: #3B4455;\n",
              "      fill: #D2E3FC;\n",
              "    }\n",
              "\n",
              "    [theme=dark] .colab-df-convert:hover {\n",
              "      background-color: #434B5C;\n",
              "      box-shadow: 0px 1px 3px 1px rgba(0, 0, 0, 0.15);\n",
              "      filter: drop-shadow(0px 1px 2px rgba(0, 0, 0, 0.3));\n",
              "      fill: #FFFFFF;\n",
              "    }\n",
              "  </style>\n",
              "\n",
              "      <script>\n",
              "        const buttonEl =\n",
              "          document.querySelector('#df-265b539d-d9df-4d1c-849a-ea840ba2af64 button.colab-df-convert');\n",
              "        buttonEl.style.display =\n",
              "          google.colab.kernel.accessAllowed ? 'block' : 'none';\n",
              "\n",
              "        async function convertToInteractive(key) {\n",
              "          const element = document.querySelector('#df-265b539d-d9df-4d1c-849a-ea840ba2af64');\n",
              "          const dataTable =\n",
              "            await google.colab.kernel.invokeFunction('convertToInteractive',\n",
              "                                                     [key], {});\n",
              "          if (!dataTable) return;\n",
              "\n",
              "          const docLinkHtml = 'Like what you see? Visit the ' +\n",
              "            '<a target=\"_blank\" href=https://colab.research.google.com/notebooks/data_table.ipynb>data table notebook</a>'\n",
              "            + ' to learn more about interactive tables.';\n",
              "          element.innerHTML = '';\n",
              "          dataTable['output_type'] = 'display_data';\n",
              "          await google.colab.output.renderOutput(dataTable, element);\n",
              "          const docLink = document.createElement('div');\n",
              "          docLink.innerHTML = docLinkHtml;\n",
              "          element.appendChild(docLink);\n",
              "        }\n",
              "      </script>\n",
              "    </div>\n",
              "  </div>\n",
              "  "
            ]
          },
          "metadata": {},
          "execution_count": 37
        }
      ]
    },
    {
      "cell_type": "code",
      "source": [
        "# Having a look at the data types\n",
        "df.info()"
      ],
      "metadata": {
        "colab": {
          "base_uri": "https://localhost:8080/"
        },
        "id": "j858RYXi7WS2",
        "outputId": "a4686ee7-e10c-46ff-fed7-1b5ad84f5996"
      },
      "execution_count": null,
      "outputs": [
        {
          "output_type": "stream",
          "name": "stdout",
          "text": [
            "<class 'pandas.core.frame.DataFrame'>\n",
            "RangeIndex: 65276 entries, 0 to 65275\n",
            "Data columns (total 25 columns):\n",
            " #   Column                           Non-Null Count  Dtype  \n",
            "---  ------                           --------------  -----  \n",
            " 0   Arrest_Year                      65276 non-null  int64  \n",
            " 1   Arrest_Month                     65276 non-null  object \n",
            " 2   EventID                          65276 non-null  int64  \n",
            " 3   ArrestID                         64807 non-null  float64\n",
            " 4   PersonID                         65276 non-null  int64  \n",
            " 5   Perceived_Race                   65272 non-null  object \n",
            " 6   Sex                              65276 non-null  object \n",
            " 7   Age_group__at_arrest_            65252 non-null  object \n",
            " 8   Youth_at_arrest__under_18_years  65276 non-null  object \n",
            " 9   ArrestLocDiv                     65276 non-null  object \n",
            " 10  StripSearch                      65276 non-null  int64  \n",
            " 11  Booked                           65276 non-null  int64  \n",
            " 12  Occurrence_Category              65111 non-null  object \n",
            " 13  Actions_at_arrest___Concealed_i  65276 non-null  int64  \n",
            " 14  Actions_at_arrest___Combative__  65276 non-null  int64  \n",
            " 15  Actions_at_arrest___Resisted__d  65276 non-null  int64  \n",
            " 16  Actions_at_arrest___Mental_inst  65276 non-null  int64  \n",
            " 17  Actions_at_arrest___Assaulted_o  65276 non-null  int64  \n",
            " 18  Actions_at_arrest___Cooperative  65276 non-null  int64  \n",
            " 19  SearchReason_CauseInjury         7801 non-null   float64\n",
            " 20  SearchReason_AssistEscape        7801 non-null   float64\n",
            " 21  SearchReason_PossessWeapons      7801 non-null   float64\n",
            " 22  SearchReason_PossessEvidence     7801 non-null   float64\n",
            " 23  ItemsFound                       7801 non-null   float64\n",
            " 24  ObjectId                         65276 non-null  int64  \n",
            "dtypes: float64(6), int64(12), object(7)\n",
            "memory usage: 12.5+ MB\n"
          ]
        }
      ]
    },
    {
      "cell_type": "code",
      "source": [
        "# Lets see how many missing values we have in our dataset\n",
        "df.isnull().sum()"
      ],
      "metadata": {
        "colab": {
          "base_uri": "https://localhost:8080/"
        },
        "id": "ufbqqe697qmR",
        "outputId": "34f2bccf-5f30-489a-cefb-94f9795ff0b0"
      },
      "execution_count": null,
      "outputs": [
        {
          "output_type": "execute_result",
          "data": {
            "text/plain": [
              "Arrest_Year                            0\n",
              "Arrest_Month                           0\n",
              "EventID                                0\n",
              "ArrestID                             469\n",
              "PersonID                               0\n",
              "Perceived_Race                         4\n",
              "Sex                                    0\n",
              "Age_group__at_arrest_                 24\n",
              "Youth_at_arrest__under_18_years        0\n",
              "ArrestLocDiv                           0\n",
              "StripSearch                            0\n",
              "Booked                                 0\n",
              "Occurrence_Category                  165\n",
              "Actions_at_arrest___Concealed_i        0\n",
              "Actions_at_arrest___Combative__        0\n",
              "Actions_at_arrest___Resisted__d        0\n",
              "Actions_at_arrest___Mental_inst        0\n",
              "Actions_at_arrest___Assaulted_o        0\n",
              "Actions_at_arrest___Cooperative        0\n",
              "SearchReason_CauseInjury           57475\n",
              "SearchReason_AssistEscape          57475\n",
              "SearchReason_PossessWeapons        57475\n",
              "SearchReason_PossessEvidence       57475\n",
              "ItemsFound                         57475\n",
              "ObjectId                               0\n",
              "dtype: int64"
            ]
          },
          "metadata": {},
          "execution_count": 39
        }
      ]
    },
    {
      "cell_type": "code",
      "source": [
        "# Checking to see how many perceived races are in the dataset\n",
        "df['Perceived_Race'].value_counts()"
      ],
      "metadata": {
        "colab": {
          "base_uri": "https://localhost:8080/"
        },
        "id": "JF3761Fh8gm_",
        "outputId": "5e0c50be-8e04-48e0-e939-2deab813c78b"
      },
      "execution_count": null,
      "outputs": [
        {
          "output_type": "execute_result",
          "data": {
            "text/plain": [
              "White                   27723\n",
              "Black                   17526\n",
              "Unknown or Legacy        5056\n",
              "East/Southeast Asian     4415\n",
              "South Asian              3613\n",
              "Middle-Eastern           3237\n",
              "Indigenous               1934\n",
              "Latino                   1768\n",
              "Name: Perceived_Race, dtype: int64"
            ]
          },
          "metadata": {},
          "execution_count": 40
        }
      ]
    },
    {
      "cell_type": "code",
      "source": [
        "#Trying to fix the Unkown or Legacy values\n",
        "#First, assigning a null value to them\n",
        "df['Perceived_Race'] = df['Perceived_Race'].replace('Unknown or Legacy', pd.NA)"
      ],
      "metadata": {
        "id": "lLrXyRU09mtp"
      },
      "execution_count": null,
      "outputs": []
    },
    {
      "cell_type": "code",
      "source": [
        "df['Perceived_Race'].isnull().sum()"
      ],
      "metadata": {
        "colab": {
          "base_uri": "https://localhost:8080/"
        },
        "id": "PqE2lS1J98wJ",
        "outputId": "215b6776-45c4-4eb5-f92d-fb0874968529"
      },
      "execution_count": null,
      "outputs": [
        {
          "output_type": "execute_result",
          "data": {
            "text/plain": [
              "5060"
            ]
          },
          "metadata": {},
          "execution_count": 42
        }
      ]
    },
    {
      "cell_type": "code",
      "source": [
        "df[['Perceived_Race']]=df.groupby('PersonID')[['Perceived_Race']].fillna(method='ffill')"
      ],
      "metadata": {
        "id": "AD2EuDJsDQpe"
      },
      "execution_count": null,
      "outputs": []
    },
    {
      "cell_type": "code",
      "source": [
        "df = df[df['Perceived_Race'].notna()]\n",
        "df['Perceived_Race'].isnull().sum()"
      ],
      "metadata": {
        "colab": {
          "base_uri": "https://localhost:8080/"
        },
        "id": "_kW17RcgDRsn",
        "outputId": "2dc5c326-95bb-4566-b4d9-ee8fabeda52a"
      },
      "execution_count": null,
      "outputs": [
        {
          "output_type": "execute_result",
          "data": {
            "text/plain": [
              "0"
            ]
          },
          "metadata": {},
          "execution_count": 44
        }
      ]
    },
    {
      "cell_type": "code",
      "source": [
        "df.drop(df.loc[df['Sex']=='U'].index, inplace=True)"
      ],
      "metadata": {
        "id": "TLgtBcDLUm8f",
        "colab": {
          "base_uri": "https://localhost:8080/"
        },
        "outputId": "d5d3e406-ce7a-47ed-99a9-3bd91c32373a"
      },
      "execution_count": null,
      "outputs": [
        {
          "output_type": "stream",
          "name": "stderr",
          "text": [
            "<ipython-input-45-75d8f7d68787>:1: SettingWithCopyWarning: \n",
            "A value is trying to be set on a copy of a slice from a DataFrame\n",
            "\n",
            "See the caveats in the documentation: https://pandas.pydata.org/pandas-docs/stable/user_guide/indexing.html#returning-a-view-versus-a-copy\n",
            "  df.drop(df.loc[df['Sex']=='U'].index, inplace=True)\n"
          ]
        }
      ]
    },
    {
      "cell_type": "code",
      "source": [
        "#Checking some individual columns and seeing if we can optimize them for analysis\n",
        "df['Occurrence_Category'].value_counts()"
      ],
      "metadata": {
        "colab": {
          "base_uri": "https://localhost:8080/"
        },
        "id": "Mxdr6ouJQfH5",
        "outputId": "0193083c-74e5-465f-a3a5-0cf6cea12fa0"
      },
      "execution_count": null,
      "outputs": [
        {
          "output_type": "execute_result",
          "data": {
            "text/plain": [
              "Assault                                            7257\n",
              "Assault & Other crimes against persons             6728\n",
              "Robbery & Theft                                    4296\n",
              "Warrant                                            4165\n",
              "FTA/FTC/Compliance Check/Parollee                  4147\n",
              "Police Category - Administrative                   3788\n",
              "FTA/FTC, Compliance Check & Parollee               3692\n",
              "Robbery/Theft                                      3561\n",
              "Drug Related                                       2562\n",
              "Other Statute & Other Incident Type                2216\n",
              "Other Offence                                      1855\n",
              "Vehicle Related (inc. Impaired)                    1775\n",
              "Mischief & Fraud                                   1558\n",
              "Mischief                                           1267\n",
              "Harassment/Threatening                             1248\n",
              "Impaired                                           1199\n",
              "Harassment & Threatening                           1180\n",
              "Weapons                                            1043\n",
              "Weapons & Homicide                                 1030\n",
              "Other Statute                                       898\n",
              "Break & Enter                                       883\n",
              "Break and Enter                                     846\n",
              "Sexual Related Crime                                748\n",
              "Vehicle Related                                     710\n",
              "Sexual Related Crimes & Crimes Against Children     697\n",
              "LLA                                                 569\n",
              "Police Category - Incident                          532\n",
              "Fraud                                               411\n",
              "Mental Health                                       233\n",
              "Homicide                                             63\n",
              "Crimes against Children                              61\n",
              "Name: Occurrence_Category, dtype: int64"
            ]
          },
          "metadata": {},
          "execution_count": 46
        }
      ]
    },
    {
      "cell_type": "code",
      "source": [
        "# Lets assign 99999 to missing arrest values and others as 0\n",
        "df = df.fillna(value = {\n",
        "    'ArrestID': 99999,\n",
        "    'SearchReason_CauseInjury': 0,\n",
        "    'SearchReason_AssistEscape': 0,\n",
        "    'SearchReason_PossessWeapons': 0,\n",
        "    'SearchReason_PossessEvidence':0,\n",
        "    'ItemsFound': 0\n",
        "    })\n",
        "df['Occurrence_Category'].fillna(value='Other Offence', inplace=True)\n",
        "# Renaming values that are similar\n",
        "df[\"Occurrence_Category\"] = df[\"Occurrence_Category\"].apply(lambda x: re.sub(\"^Break and Enter$\", \"Robbery/Theft\", x))\n",
        "df[\"Occurrence_Category\"] = df[\"Occurrence_Category\"].apply(lambda x: re.sub(\"^Break & Enter$\", \"Robbery/Theft\", x))\n",
        "df[\"Occurrence_Category\"] = df[\"Occurrence_Category\"].apply(lambda x: re.sub(\"^Other Statute & Other Incident Type$\", \"Other Offence\", x))\n",
        "df[\"Occurrence_Category\"] = df[\"Occurrence_Category\"].apply(lambda x: re.sub(\"^Other Statute$\", \"Other Offence\", x))\n",
        "df[\"Occurrence_Category\"] = df[\"Occurrence_Category\"].apply(lambda x: re.sub(\"^Harassment/Threatening$\", \"Harassment & Threatening\", x))\n",
        "df[\"Occurrence_Category\"] = df[\"Occurrence_Category\"].apply(lambda x: re.sub(\"^FTA/FTC, Compliance Check & Parollee$\", \"Warrant/Police\", x))\n",
        "df[\"Occurrence_Category\"] = df[\"Occurrence_Category\"].apply(lambda x: re.sub(\"^FTA/FTC/Compliance Check/Parollee$\", \"Warrant/Police\", x))\n",
        "\n",
        "df[\"Occurrence_Category\"] = df[\"Occurrence_Category\"].apply(lambda x: re.sub(\"^Assault & Other crimes against persons$\", \"Assault\", x))\n",
        "df[\"Occurrence_Category\"] = df[\"Occurrence_Category\"].apply(lambda x: re.sub(\"^Robbery & Theft$\", \"Robbery/Theft\", x))\n",
        "df[\"Occurrence_Category\"] = df[\"Occurrence_Category\"].apply(lambda x: re.sub(\"^Mischief$\", \"Mischief & Fraud\", x))\n",
        "df[\"Occurrence_Category\"] = df[\"Occurrence_Category\"].apply(lambda x: re.sub(\"^Fraud$\", \"Mischief & Fraud\", x))\n",
        "\n",
        "df[\"Occurrence_Category\"] = df[\"Occurrence_Category\"].apply(lambda x: re.sub(\"^Vehicle Related$\", \"Vehicle Related (inc. Impaired)\", x))\n",
        "df[\"Occurrence_Category\"] = df[\"Occurrence_Category\"].apply(lambda x: re.sub(\"^Impaired$\", \"Vehicle Related (inc. Impaired)\", x))\n",
        "df[\"Occurrence_Category\"] = df[\"Occurrence_Category\"].apply(lambda x: re.sub(\"^Homicide$\", \"Weapons & Homicide\", x))\n",
        "df[\"Occurrence_Category\"] = df[\"Occurrence_Category\"].apply(lambda x: re.sub(\"^Weapons$\", \"Weapons & Homicide\", x))\n",
        "df[\"Occurrence_Category\"] = df[\"Occurrence_Category\"].apply(lambda x: re.sub(\"^Crimes against Children$\", \"Sexual Related Crimes & Crimes Against Children\", x))\n",
        "df[\"Occurrence_Category\"] = df[\"Occurrence_Category\"].apply(lambda x: re.sub(\"^Sexual Related Crime$\", \"Sexual Related Crimes & Crimes Against Children\", x))\n",
        "\n",
        "df[\"Occurrence_Category\"] = df[\"Occurrence_Category\"].apply(lambda x: re.sub(\"^Police Category - Incident$\", \"Warrant/Police\", x))\n",
        "df[\"Occurrence_Category\"] = df[\"Occurrence_Category\"].apply(lambda x: re.sub(\"^Police Category - Administrative$\", \"Warrant/Police\", x))\n",
        "df[\"Occurrence_Category\"] = df[\"Occurrence_Category\"].apply(lambda x: re.sub(\"^Warrant$\", \"Warrant/Police\", x))\n",
        "\n"
      ],
      "metadata": {
        "id": "vwTlVm0XQioN"
      },
      "execution_count": null,
      "outputs": []
    },
    {
      "cell_type": "code",
      "source": [
        "df['Occurrence_Category'].value_counts()"
      ],
      "metadata": {
        "colab": {
          "base_uri": "https://localhost:8080/"
        },
        "id": "mbZWrL9urJwQ",
        "outputId": "a969971b-9987-441f-9c41-1f49e0cb1029"
      },
      "execution_count": null,
      "outputs": [
        {
          "output_type": "execute_result",
          "data": {
            "text/plain": [
              "Warrant/Police                                     16324\n",
              "Assault                                            13985\n",
              "Robbery/Theft                                       9586\n",
              "Other Offence                                       5125\n",
              "Vehicle Related (inc. Impaired)                     3684\n",
              "Mischief & Fraud                                    3236\n",
              "Drug Related                                        2562\n",
              "Harassment & Threatening                            2428\n",
              "Weapons & Homicide                                  2136\n",
              "Sexual Related Crimes & Crimes Against Children     1506\n",
              "LLA                                                  569\n",
              "Mental Health                                        233\n",
              "Name: Occurrence_Category, dtype: int64"
            ]
          },
          "metadata": {},
          "execution_count": 48
        }
      ]
    },
    {
      "cell_type": "code",
      "source": [
        "df[\"Perceived_Race\"].value_counts()"
      ],
      "metadata": {
        "colab": {
          "base_uri": "https://localhost:8080/"
        },
        "id": "-8tcxBU7HaFm",
        "outputId": "cddb7a48-944a-42e6-d04d-be44d6dcbdab"
      },
      "execution_count": null,
      "outputs": [
        {
          "output_type": "execute_result",
          "data": {
            "text/plain": [
              "White                   28182\n",
              "Black                   17825\n",
              "East/Southeast Asian     4522\n",
              "South Asian              3713\n",
              "Middle-Eastern           3334\n",
              "Indigenous               1984\n",
              "Latino                   1814\n",
              "Name: Perceived_Race, dtype: int64"
            ]
          },
          "metadata": {},
          "execution_count": 49
        }
      ]
    },
    {
      "cell_type": "code",
      "source": [
        "#From EDA, we saw that the biggest difference is between white and black race, so keeping all other races as \"Other\"\n",
        "df[\"Perceived_Race\"] = df[\"Perceived_Race\"].apply(lambda x: re.sub(\"^East/Southeast Asian$\", \"AllOthers\", x))\n",
        "df[\"Perceived_Race\"] = df[\"Perceived_Race\"].apply(lambda x: re.sub(\"^Indigenous$\", \"AllOthers\", x))\n",
        "df[\"Perceived_Race\"] = df[\"Perceived_Race\"].apply(lambda x: re.sub(\"^Latino$\", \"AllOthers\", x))\n",
        "df[\"Perceived_Race\"] = df[\"Perceived_Race\"].apply(lambda x: re.sub(\"^Middle-Eastern$\", \"AllOthers\", x))\n",
        "df[\"Perceived_Race\"] = df[\"Perceived_Race\"].apply(lambda x: re.sub(\"^South Asian$\", \"AllOthers\", x))"
      ],
      "metadata": {
        "id": "eUf_cMjf-_2_"
      },
      "execution_count": null,
      "outputs": []
    },
    {
      "cell_type": "code",
      "source": [
        "#trying to get total arrests as a quantitive feature\n",
        "# df['PersonID'].value_counts()\n",
        "dfFeatured2 = df.groupby('PersonID').size().reset_index(name='TotalInteractions')\n",
        "dfFeatured2.isna().sum()"
      ],
      "metadata": {
        "colab": {
          "base_uri": "https://localhost:8080/"
        },
        "id": "uTzEQwKXpx62",
        "outputId": "e688785d-ac56-4cfd-9c7c-9fac816d4aed"
      },
      "execution_count": null,
      "outputs": [
        {
          "output_type": "execute_result",
          "data": {
            "text/plain": [
              "PersonID             0\n",
              "TotalInteractions    0\n",
              "dtype: int64"
            ]
          },
          "metadata": {},
          "execution_count": 51
        }
      ]
    },
    {
      "cell_type": "code",
      "source": [
        "dfFeatured2"
      ],
      "metadata": {
        "colab": {
          "base_uri": "https://localhost:8080/",
          "height": 424
        },
        "id": "iHc_f-cKtlXj",
        "outputId": "62bd6db6-fc0f-4e48-a65c-cb68328402ab"
      },
      "execution_count": null,
      "outputs": [
        {
          "output_type": "execute_result",
          "data": {
            "text/plain": [
              "       PersonID  TotalInteractions\n",
              "0        300000                  1\n",
              "1        300001                  1\n",
              "2        300002                  1\n",
              "3        300003                  8\n",
              "4        300004                  1\n",
              "...         ...                ...\n",
              "34505    337342                  5\n",
              "34506    337343                  1\n",
              "34507    337344                  1\n",
              "34508    337345                  1\n",
              "34509    337346                  1\n",
              "\n",
              "[34510 rows x 2 columns]"
            ],
            "text/html": [
              "\n",
              "  <div id=\"df-b8f45a53-a733-4297-8dc8-bbd4bff1b085\">\n",
              "    <div class=\"colab-df-container\">\n",
              "      <div>\n",
              "<style scoped>\n",
              "    .dataframe tbody tr th:only-of-type {\n",
              "        vertical-align: middle;\n",
              "    }\n",
              "\n",
              "    .dataframe tbody tr th {\n",
              "        vertical-align: top;\n",
              "    }\n",
              "\n",
              "    .dataframe thead th {\n",
              "        text-align: right;\n",
              "    }\n",
              "</style>\n",
              "<table border=\"1\" class=\"dataframe\">\n",
              "  <thead>\n",
              "    <tr style=\"text-align: right;\">\n",
              "      <th></th>\n",
              "      <th>PersonID</th>\n",
              "      <th>TotalInteractions</th>\n",
              "    </tr>\n",
              "  </thead>\n",
              "  <tbody>\n",
              "    <tr>\n",
              "      <th>0</th>\n",
              "      <td>300000</td>\n",
              "      <td>1</td>\n",
              "    </tr>\n",
              "    <tr>\n",
              "      <th>1</th>\n",
              "      <td>300001</td>\n",
              "      <td>1</td>\n",
              "    </tr>\n",
              "    <tr>\n",
              "      <th>2</th>\n",
              "      <td>300002</td>\n",
              "      <td>1</td>\n",
              "    </tr>\n",
              "    <tr>\n",
              "      <th>3</th>\n",
              "      <td>300003</td>\n",
              "      <td>8</td>\n",
              "    </tr>\n",
              "    <tr>\n",
              "      <th>4</th>\n",
              "      <td>300004</td>\n",
              "      <td>1</td>\n",
              "    </tr>\n",
              "    <tr>\n",
              "      <th>...</th>\n",
              "      <td>...</td>\n",
              "      <td>...</td>\n",
              "    </tr>\n",
              "    <tr>\n",
              "      <th>34505</th>\n",
              "      <td>337342</td>\n",
              "      <td>5</td>\n",
              "    </tr>\n",
              "    <tr>\n",
              "      <th>34506</th>\n",
              "      <td>337343</td>\n",
              "      <td>1</td>\n",
              "    </tr>\n",
              "    <tr>\n",
              "      <th>34507</th>\n",
              "      <td>337344</td>\n",
              "      <td>1</td>\n",
              "    </tr>\n",
              "    <tr>\n",
              "      <th>34508</th>\n",
              "      <td>337345</td>\n",
              "      <td>1</td>\n",
              "    </tr>\n",
              "    <tr>\n",
              "      <th>34509</th>\n",
              "      <td>337346</td>\n",
              "      <td>1</td>\n",
              "    </tr>\n",
              "  </tbody>\n",
              "</table>\n",
              "<p>34510 rows × 2 columns</p>\n",
              "</div>\n",
              "      <button class=\"colab-df-convert\" onclick=\"convertToInteractive('df-b8f45a53-a733-4297-8dc8-bbd4bff1b085')\"\n",
              "              title=\"Convert this dataframe to an interactive table.\"\n",
              "              style=\"display:none;\">\n",
              "        \n",
              "  <svg xmlns=\"http://www.w3.org/2000/svg\" height=\"24px\"viewBox=\"0 0 24 24\"\n",
              "       width=\"24px\">\n",
              "    <path d=\"M0 0h24v24H0V0z\" fill=\"none\"/>\n",
              "    <path d=\"M18.56 5.44l.94 2.06.94-2.06 2.06-.94-2.06-.94-.94-2.06-.94 2.06-2.06.94zm-11 1L8.5 8.5l.94-2.06 2.06-.94-2.06-.94L8.5 2.5l-.94 2.06-2.06.94zm10 10l.94 2.06.94-2.06 2.06-.94-2.06-.94-.94-2.06-.94 2.06-2.06.94z\"/><path d=\"M17.41 7.96l-1.37-1.37c-.4-.4-.92-.59-1.43-.59-.52 0-1.04.2-1.43.59L10.3 9.45l-7.72 7.72c-.78.78-.78 2.05 0 2.83L4 21.41c.39.39.9.59 1.41.59.51 0 1.02-.2 1.41-.59l7.78-7.78 2.81-2.81c.8-.78.8-2.07 0-2.86zM5.41 20L4 18.59l7.72-7.72 1.47 1.35L5.41 20z\"/>\n",
              "  </svg>\n",
              "      </button>\n",
              "      \n",
              "  <style>\n",
              "    .colab-df-container {\n",
              "      display:flex;\n",
              "      flex-wrap:wrap;\n",
              "      gap: 12px;\n",
              "    }\n",
              "\n",
              "    .colab-df-convert {\n",
              "      background-color: #E8F0FE;\n",
              "      border: none;\n",
              "      border-radius: 50%;\n",
              "      cursor: pointer;\n",
              "      display: none;\n",
              "      fill: #1967D2;\n",
              "      height: 32px;\n",
              "      padding: 0 0 0 0;\n",
              "      width: 32px;\n",
              "    }\n",
              "\n",
              "    .colab-df-convert:hover {\n",
              "      background-color: #E2EBFA;\n",
              "      box-shadow: 0px 1px 2px rgba(60, 64, 67, 0.3), 0px 1px 3px 1px rgba(60, 64, 67, 0.15);\n",
              "      fill: #174EA6;\n",
              "    }\n",
              "\n",
              "    [theme=dark] .colab-df-convert {\n",
              "      background-color: #3B4455;\n",
              "      fill: #D2E3FC;\n",
              "    }\n",
              "\n",
              "    [theme=dark] .colab-df-convert:hover {\n",
              "      background-color: #434B5C;\n",
              "      box-shadow: 0px 1px 3px 1px rgba(0, 0, 0, 0.15);\n",
              "      filter: drop-shadow(0px 1px 2px rgba(0, 0, 0, 0.3));\n",
              "      fill: #FFFFFF;\n",
              "    }\n",
              "  </style>\n",
              "\n",
              "      <script>\n",
              "        const buttonEl =\n",
              "          document.querySelector('#df-b8f45a53-a733-4297-8dc8-bbd4bff1b085 button.colab-df-convert');\n",
              "        buttonEl.style.display =\n",
              "          google.colab.kernel.accessAllowed ? 'block' : 'none';\n",
              "\n",
              "        async function convertToInteractive(key) {\n",
              "          const element = document.querySelector('#df-b8f45a53-a733-4297-8dc8-bbd4bff1b085');\n",
              "          const dataTable =\n",
              "            await google.colab.kernel.invokeFunction('convertToInteractive',\n",
              "                                                     [key], {});\n",
              "          if (!dataTable) return;\n",
              "\n",
              "          const docLinkHtml = 'Like what you see? Visit the ' +\n",
              "            '<a target=\"_blank\" href=https://colab.research.google.com/notebooks/data_table.ipynb>data table notebook</a>'\n",
              "            + ' to learn more about interactive tables.';\n",
              "          element.innerHTML = '';\n",
              "          dataTable['output_type'] = 'display_data';\n",
              "          await google.colab.output.renderOutput(dataTable, element);\n",
              "          const docLink = document.createElement('div');\n",
              "          docLink.innerHTML = docLinkHtml;\n",
              "          element.appendChild(docLink);\n",
              "        }\n",
              "      </script>\n",
              "    </div>\n",
              "  </div>\n",
              "  "
            ]
          },
          "metadata": {},
          "execution_count": 52
        }
      ]
    },
    {
      "cell_type": "code",
      "source": [
        "df = pd.merge(df, dfFeatured2, on=\"PersonID\")"
      ],
      "metadata": {
        "id": "mkT-Mw7wskDx"
      },
      "execution_count": null,
      "outputs": []
    },
    {
      "cell_type": "code",
      "source": [
        "#EDA\n",
        "\n",
        "stripSearchs = df.groupby(['Perceived_Race','Sex','Occurrence_Category'])['StripSearch'].sum().reset_index()\n",
        "\n",
        "sns.set(rc={'figure.figsize':(15,10)})\n",
        "sns.boxplot(data=stripSearchs, x=\"StripSearch\", y=\"Perceived_Race\", hue=\"Sex\")\n",
        "sns.stripplot(x='StripSearch', y='Perceived_Race', data=stripSearchs)"
      ],
      "metadata": {
        "colab": {
          "base_uri": "https://localhost:8080/",
          "height": 876
        },
        "id": "i5PRUXU1vHH-",
        "outputId": "d102167b-3019-4318-c42d-b990a56df918"
      },
      "execution_count": null,
      "outputs": [
        {
          "output_type": "execute_result",
          "data": {
            "text/plain": [
              "<Axes: xlabel='StripSearch', ylabel='Perceived_Race'>"
            ]
          },
          "metadata": {},
          "execution_count": 54
        },
        {
          "output_type": "display_data",
          "data": {
            "text/plain": [
              "<Figure size 1500x1000 with 1 Axes>"
            ],
            "image/png": "[encoded data removed]"
          },
          "metadata": {}
        }
      ]
    },
    {
      "cell_type": "code",
      "source": [
        "ax = sns.barplot(data=stripSearchs, x=\"Perceived_Race\", y=\"StripSearch\", hue=\"Occurrence_Category\")\n",
        "ax.set_xticklabels(ax.get_xticklabels(), rotation=40, ha=\"right\")\n",
        "plt.tight_layout()\n",
        "plt.show()"
      ],
      "metadata": {
        "colab": {
          "base_uri": "https://localhost:8080/",
          "height": 1000
        },
        "id": "1W3ihZRYvHbE",
        "outputId": "9c749a9d-0e66-4ab6-a99f-9a4541007fda"
      },
      "execution_count": null,
      "outputs": [
        {
          "output_type": "display_data",
          "data": {
            "text/plain": [
              "<Figure size 1500x1000 with 1 Axes>"
            ],
            "image/png": "[encoded data removed]"
          },
          "metadata": {}
        }
      ]
    },
    {
      "cell_type": "code",
      "source": [
        "x = df[['TotalInteractions', 'Perceived_Race', 'Occurrence_Category', 'Sex']].copy()"
      ],
      "metadata": {
        "id": "Z5HbfaLQNgtU"
      },
      "execution_count": null,
      "outputs": []
    },
    {
      "cell_type": "code",
      "source": [
        "x  = pd.get_dummies(x, columns = ['Perceived_Race', 'Sex'], drop_first=True)\n",
        "y = df[['StripSearch']].copy()"
      ],
      "metadata": {
        "id": "F9TLDqvYO1FY"
      },
      "execution_count": null,
      "outputs": []
    },
    {
      "cell_type": "code",
      "source": [
        "y['StripSearch'].value_counts()"
      ],
      "metadata": {
        "colab": {
          "base_uri": "https://localhost:8080/"
        },
        "id": "ICrZgcffRkJ0",
        "outputId": "56bac019-8580-48b8-a524-8d7d4479b69f"
      },
      "execution_count": null,
      "outputs": [
        {
          "output_type": "execute_result",
          "data": {
            "text/plain": [
              "0    53920\n",
              "1     7454\n",
              "Name: StripSearch, dtype: int64"
            ]
          },
          "metadata": {},
          "execution_count": 58
        }
      ]
    },
    {
      "cell_type": "code",
      "source": [
        "y['StripSearch']"
      ],
      "metadata": {
        "colab": {
          "base_uri": "https://localhost:8080/"
        },
        "id": "Wr-7ofG9nvPA",
        "outputId": "9f3f9b89-67d8-4522-b1d1-dcaed95751a0"
      },
      "execution_count": null,
      "outputs": [
        {
          "output_type": "execute_result",
          "data": {
            "text/plain": [
              "0        0\n",
              "1        0\n",
              "2        0\n",
              "3        0\n",
              "4        0\n",
              "        ..\n",
              "61369    0\n",
              "61370    0\n",
              "61371    0\n",
              "61372    0\n",
              "61373    0\n",
              "Name: StripSearch, Length: 61374, dtype: int64"
            ]
          },
          "metadata": {},
          "execution_count": 59
        }
      ]
    },
    {
      "cell_type": "code",
      "source": [
        "#Checking the assumptions for Logistic Regression\n",
        "# Box Tidwell \n",
        "dfBTx = x.copy()\n",
        "dfBTx.head()"
      ],
      "metadata": {
        "id": "ZcTs_c0KLQOq",
        "colab": {
          "base_uri": "https://localhost:8080/",
          "height": 206
        },
        "outputId": "e914b048-4990-4e58-dbf4-9d4fdc46d45c"
      },
      "execution_count": null,
      "outputs": [
        {
          "output_type": "execute_result",
          "data": {
            "text/plain": [
              "   TotalInteractions       Occurrence_Category  Perceived_Race_Black  \\\n",
              "0                  3                   Assault                     0   \n",
              "1                  3                   Assault                     0   \n",
              "2                  3                   Assault                     0   \n",
              "3                  3  Harassment & Threatening                     1   \n",
              "4                  3            Warrant/Police                     0   \n",
              "\n",
              "   Perceived_Race_White  Sex_M  \n",
              "0                     1      1  \n",
              "1                     1      1  \n",
              "2                     1      1  \n",
              "3                     0      1  \n",
              "4                     0      1  "
            ],
            "text/html": [
              "\n",
              "  <div id=\"df-f97c558f-4674-478d-bcf3-5d78b0bfe137\">\n",
              "    <div class=\"colab-df-container\">\n",
              "      <div>\n",
              "<style scoped>\n",
              "    .dataframe tbody tr th:only-of-type {\n",
              "        vertical-align: middle;\n",
              "    }\n",
              "\n",
              "    .dataframe tbody tr th {\n",
              "        vertical-align: top;\n",
              "    }\n",
              "\n",
              "    .dataframe thead th {\n",
              "        text-align: right;\n",
              "    }\n",
              "</style>\n",
              "<table border=\"1\" class=\"dataframe\">\n",
              "  <thead>\n",
              "    <tr style=\"text-align: right;\">\n",
              "      <th></th>\n",
              "      <th>TotalInteractions</th>\n",
              "      <th>Occurrence_Category</th>\n",
              "      <th>Perceived_Race_Black</th>\n",
              "      <th>Perceived_Race_White</th>\n",
              "      <th>Sex_M</th>\n",
              "    </tr>\n",
              "  </thead>\n",
              "  <tbody>\n",
              "    <tr>\n",
              "      <th>0</th>\n",
              "      <td>3</td>\n",
              "      <td>Assault</td>\n",
              "      <td>0</td>\n",
              "      <td>1</td>\n",
              "      <td>1</td>\n",
              "    </tr>\n",
              "    <tr>\n",
              "      <th>1</th>\n",
              "      <td>3</td>\n",
              "      <td>Assault</td>\n",
              "      <td>0</td>\n",
              "      <td>1</td>\n",
              "      <td>1</td>\n",
              "    </tr>\n",
              "    <tr>\n",
              "      <th>2</th>\n",
              "      <td>3</td>\n",
              "      <td>Assault</td>\n",
              "      <td>0</td>\n",
              "      <td>1</td>\n",
              "      <td>1</td>\n",
              "    </tr>\n",
              "    <tr>\n",
              "      <th>3</th>\n",
              "      <td>3</td>\n",
              "      <td>Harassment &amp; Threatening</td>\n",
              "      <td>1</td>\n",
              "      <td>0</td>\n",
              "      <td>1</td>\n",
              "    </tr>\n",
              "    <tr>\n",
              "      <th>4</th>\n",
              "      <td>3</td>\n",
              "      <td>Warrant/Police</td>\n",
              "      <td>0</td>\n",
              "      <td>0</td>\n",
              "      <td>1</td>\n",
              "    </tr>\n",
              "  </tbody>\n",
              "</table>\n",
              "</div>\n",
              "      <button class=\"colab-df-convert\" onclick=\"convertToInteractive('df-f97c558f-4674-478d-bcf3-5d78b0bfe137')\"\n",
              "              title=\"Convert this dataframe to an interactive table.\"\n",
              "              style=\"display:none;\">\n",
              "        \n",
              "  <svg xmlns=\"http://www.w3.org/2000/svg\" height=\"24px\"viewBox=\"0 0 24 24\"\n",
              "       width=\"24px\">\n",
              "    <path d=\"M0 0h24v24H0V0z\" fill=\"none\"/>\n",
              "    <path d=\"M18.56 5.44l.94 2.06.94-2.06 2.06-.94-2.06-.94-.94-2.06-.94 2.06-2.06.94zm-11 1L8.5 8.5l.94-2.06 2.06-.94-2.06-.94L8.5 2.5l-.94 2.06-2.06.94zm10 10l.94 2.06.94-2.06 2.06-.94-2.06-.94-.94-2.06-.94 2.06-2.06.94z\"/><path d=\"M17.41 7.96l-1.37-1.37c-.4-.4-.92-.59-1.43-.59-.52 0-1.04.2-1.43.59L10.3 9.45l-7.72 7.72c-.78.78-.78 2.05 0 2.83L4 21.41c.39.39.9.59 1.41.59.51 0 1.02-.2 1.41-.59l7.78-7.78 2.81-2.81c.8-.78.8-2.07 0-2.86zM5.41 20L4 18.59l7.72-7.72 1.47 1.35L5.41 20z\"/>\n",
              "  </svg>\n",
              "      </button>\n",
              "      \n",
              "  <style>\n",
              "    .colab-df-container {\n",
              "      display:flex;\n",
              "      flex-wrap:wrap;\n",
              "      gap: 12px;\n",
              "    }\n",
              "\n",
              "    .colab-df-convert {\n",
              "      background-color: #E8F0FE;\n",
              "      border: none;\n",
              "      border-radius: 50%;\n",
              "      cursor: pointer;\n",
              "      display: none;\n",
              "      fill: #1967D2;\n",
              "      height: 32px;\n",
              "      padding: 0 0 0 0;\n",
              "      width: 32px;\n",
              "    }\n",
              "\n",
              "    .colab-df-convert:hover {\n",
              "      background-color: #E2EBFA;\n",
              "      box-shadow: 0px 1px 2px rgba(60, 64, 67, 0.3), 0px 1px 3px 1px rgba(60, 64, 67, 0.15);\n",
              "      fill: #174EA6;\n",
              "    }\n",
              "\n",
              "    [theme=dark] .colab-df-convert {\n",
              "      background-color: #3B4455;\n",
              "      fill: #D2E3FC;\n",
              "    }\n",
              "\n",
              "    [theme=dark] .colab-df-convert:hover {\n",
              "      background-color: #434B5C;\n",
              "      box-shadow: 0px 1px 3px 1px rgba(0, 0, 0, 0.15);\n",
              "      filter: drop-shadow(0px 1px 2px rgba(0, 0, 0, 0.3));\n",
              "      fill: #FFFFFF;\n",
              "    }\n",
              "  </style>\n",
              "\n",
              "      <script>\n",
              "        const buttonEl =\n",
              "          document.querySelector('#df-f97c558f-4674-478d-bcf3-5d78b0bfe137 button.colab-df-convert');\n",
              "        buttonEl.style.display =\n",
              "          google.colab.kernel.accessAllowed ? 'block' : 'none';\n",
              "\n",
              "        async function convertToInteractive(key) {\n",
              "          const element = document.querySelector('#df-f97c558f-4674-478d-bcf3-5d78b0bfe137');\n",
              "          const dataTable =\n",
              "            await google.colab.kernel.invokeFunction('convertToInteractive',\n",
              "                                                     [key], {});\n",
              "          if (!dataTable) return;\n",
              "\n",
              "          const docLinkHtml = 'Like what you see? Visit the ' +\n",
              "            '<a target=\"_blank\" href=https://colab.research.google.com/notebooks/data_table.ipynb>data table notebook</a>'\n",
              "            + ' to learn more about interactive tables.';\n",
              "          element.innerHTML = '';\n",
              "          dataTable['output_type'] = 'display_data';\n",
              "          await google.colab.output.renderOutput(dataTable, element);\n",
              "          const docLink = document.createElement('div');\n",
              "          docLink.innerHTML = docLinkHtml;\n",
              "          element.appendChild(docLink);\n",
              "        }\n",
              "      </script>\n",
              "    </div>\n",
              "  </div>\n",
              "  "
            ]
          },
          "metadata": {},
          "execution_count": 60
        }
      ]
    },
    {
      "cell_type": "code",
      "source": [
        "continuous_var = ['TotalInteractions']\n",
        "for var in continuous_var:\n",
        "    dfBTx[f'{var}:Log_{var}'] = dfBTx[var].apply(lambda x: x * np.log(x)) #np.log = natural log\n",
        "\n",
        "dfBTx.head()"
      ],
      "metadata": {
        "colab": {
          "base_uri": "https://localhost:8080/",
          "height": 206
        },
        "id": "CVaQdfPFNtEd",
        "outputId": "b4ae8b39-6716-434d-bf77-0051bc6a8813"
      },
      "execution_count": null,
      "outputs": [
        {
          "output_type": "execute_result",
          "data": {
            "text/plain": [
              "   TotalInteractions       Occurrence_Category  Perceived_Race_Black  \\\n",
              "0                  3                   Assault                     0   \n",
              "1                  3                   Assault                     0   \n",
              "2                  3                   Assault                     0   \n",
              "3                  3  Harassment & Threatening                     1   \n",
              "4                  3            Warrant/Police                     0   \n",
              "\n",
              "   Perceived_Race_White  Sex_M  TotalInteractions:Log_TotalInteractions  \n",
              "0                     1      1                                 3.295837  \n",
              "1                     1      1                                 3.295837  \n",
              "2                     1      1                                 3.295837  \n",
              "3                     0      1                                 3.295837  \n",
              "4                     0      1                                 3.295837  "
            ],
            "text/html": [
              "\n",
              "  <div id=\"df-1d1b58b7-7d9a-4d0e-894f-0b845e5ec452\">\n",
              "    <div class=\"colab-df-container\">\n",
              "      <div>\n",
              "<style scoped>\n",
              "    .dataframe tbody tr th:only-of-type {\n",
              "        vertical-align: middle;\n",
              "    }\n",
              "\n",
              "    .dataframe tbody tr th {\n",
              "        vertical-align: top;\n",
              "    }\n",
              "\n",
              "    .dataframe thead th {\n",
              "        text-align: right;\n",
              "    }\n",
              "</style>\n",
              "<table border=\"1\" class=\"dataframe\">\n",
              "  <thead>\n",
              "    <tr style=\"text-align: right;\">\n",
              "      <th></th>\n",
              "      <th>TotalInteractions</th>\n",
              "      <th>Occurrence_Category</th>\n",
              "      <th>Perceived_Race_Black</th>\n",
              "      <th>Perceived_Race_White</th>\n",
              "      <th>Sex_M</th>\n",
              "      <th>TotalInteractions:Log_TotalInteractions</th>\n",
              "    </tr>\n",
              "  </thead>\n",
              "  <tbody>\n",
              "    <tr>\n",
              "      <th>0</th>\n",
              "      <td>3</td>\n",
              "      <td>Assault</td>\n",
              "      <td>0</td>\n",
              "      <td>1</td>\n",
              "      <td>1</td>\n",
              "      <td>3.295837</td>\n",
              "    </tr>\n",
              "    <tr>\n",
              "      <th>1</th>\n",
              "      <td>3</td>\n",
              "      <td>Assault</td>\n",
              "      <td>0</td>\n",
              "      <td>1</td>\n",
              "      <td>1</td>\n",
              "      <td>3.295837</td>\n",
              "    </tr>\n",
              "    <tr>\n",
              "      <th>2</th>\n",
              "      <td>3</td>\n",
              "      <td>Assault</td>\n",
              "      <td>0</td>\n",
              "      <td>1</td>\n",
              "      <td>1</td>\n",
              "      <td>3.295837</td>\n",
              "    </tr>\n",
              "    <tr>\n",
              "      <th>3</th>\n",
              "      <td>3</td>\n",
              "      <td>Harassment &amp; Threatening</td>\n",
              "      <td>1</td>\n",
              "      <td>0</td>\n",
              "      <td>1</td>\n",
              "      <td>3.295837</td>\n",
              "    </tr>\n",
              "    <tr>\n",
              "      <th>4</th>\n",
              "      <td>3</td>\n",
              "      <td>Warrant/Police</td>\n",
              "      <td>0</td>\n",
              "      <td>0</td>\n",
              "      <td>1</td>\n",
              "      <td>3.295837</td>\n",
              "    </tr>\n",
              "  </tbody>\n",
              "</table>\n",
              "</div>\n",
              "      <button class=\"colab-df-convert\" onclick=\"convertToInteractive('df-1d1b58b7-7d9a-4d0e-894f-0b845e5ec452')\"\n",
              "              title=\"Convert this dataframe to an interactive table.\"\n",
              "              style=\"display:none;\">\n",
              "        \n",
              "  <svg xmlns=\"http://www.w3.org/2000/svg\" height=\"24px\"viewBox=\"0 0 24 24\"\n",
              "       width=\"24px\">\n",
              "    <path d=\"M0 0h24v24H0V0z\" fill=\"none\"/>\n",
              "    <path d=\"M18.56 5.44l.94 2.06.94-2.06 2.06-.94-2.06-.94-.94-2.06-.94 2.06-2.06.94zm-11 1L8.5 8.5l.94-2.06 2.06-.94-2.06-.94L8.5 2.5l-.94 2.06-2.06.94zm10 10l.94 2.06.94-2.06 2.06-.94-2.06-.94-.94-2.06-.94 2.06-2.06.94z\"/><path d=\"M17.41 7.96l-1.37-1.37c-.4-.4-.92-.59-1.43-.59-.52 0-1.04.2-1.43.59L10.3 9.45l-7.72 7.72c-.78.78-.78 2.05 0 2.83L4 21.41c.39.39.9.59 1.41.59.51 0 1.02-.2 1.41-.59l7.78-7.78 2.81-2.81c.8-.78.8-2.07 0-2.86zM5.41 20L4 18.59l7.72-7.72 1.47 1.35L5.41 20z\"/>\n",
              "  </svg>\n",
              "      </button>\n",
              "      \n",
              "  <style>\n",
              "    .colab-df-container {\n",
              "      display:flex;\n",
              "      flex-wrap:wrap;\n",
              "      gap: 12px;\n",
              "    }\n",
              "\n",
              "    .colab-df-convert {\n",
              "      background-color: #E8F0FE;\n",
              "      border: none;\n",
              "      border-radius: 50%;\n",
              "      cursor: pointer;\n",
              "      display: none;\n",
              "      fill: #1967D2;\n",
              "      height: 32px;\n",
              "      padding: 0 0 0 0;\n",
              "      width: 32px;\n",
              "    }\n",
              "\n",
              "    .colab-df-convert:hover {\n",
              "      background-color: #E2EBFA;\n",
              "      box-shadow: 0px 1px 2px rgba(60, 64, 67, 0.3), 0px 1px 3px 1px rgba(60, 64, 67, 0.15);\n",
              "      fill: #174EA6;\n",
              "    }\n",
              "\n",
              "    [theme=dark] .colab-df-convert {\n",
              "      background-color: #3B4455;\n",
              "      fill: #D2E3FC;\n",
              "    }\n",
              "\n",
              "    [theme=dark] .colab-df-convert:hover {\n",
              "      background-color: #434B5C;\n",
              "      box-shadow: 0px 1px 3px 1px rgba(0, 0, 0, 0.15);\n",
              "      filter: drop-shadow(0px 1px 2px rgba(0, 0, 0, 0.3));\n",
              "      fill: #FFFFFF;\n",
              "    }\n",
              "  </style>\n",
              "\n",
              "      <script>\n",
              "        const buttonEl =\n",
              "          document.querySelector('#df-1d1b58b7-7d9a-4d0e-894f-0b845e5ec452 button.colab-df-convert');\n",
              "        buttonEl.style.display =\n",
              "          google.colab.kernel.accessAllowed ? 'block' : 'none';\n",
              "\n",
              "        async function convertToInteractive(key) {\n",
              "          const element = document.querySelector('#df-1d1b58b7-7d9a-4d0e-894f-0b845e5ec452');\n",
              "          const dataTable =\n",
              "            await google.colab.kernel.invokeFunction('convertToInteractive',\n",
              "                                                     [key], {});\n",
              "          if (!dataTable) return;\n",
              "\n",
              "          const docLinkHtml = 'Like what you see? Visit the ' +\n",
              "            '<a target=\"_blank\" href=https://colab.research.google.com/notebooks/data_table.ipynb>data table notebook</a>'\n",
              "            + ' to learn more about interactive tables.';\n",
              "          element.innerHTML = '';\n",
              "          dataTable['output_type'] = 'display_data';\n",
              "          await google.colab.output.renderOutput(dataTable, element);\n",
              "          const docLink = document.createElement('div');\n",
              "          docLink.innerHTML = docLinkHtml;\n",
              "          element.appendChild(docLink);\n",
              "        }\n",
              "      </script>\n",
              "    </div>\n",
              "  </div>\n",
              "  "
            ]
          },
          "metadata": {},
          "execution_count": 61
        }
      ]
    },
    {
      "cell_type": "code",
      "source": [
        "# Keep columns related to continuous variables\n",
        "cols_to_keep = continuous_var + dfBTx.columns.tolist()[-len(continuous_var):]\n",
        "cols_to_keep"
      ],
      "metadata": {
        "colab": {
          "base_uri": "https://localhost:8080/"
        },
        "id": "_XuWgmC4OA7c",
        "outputId": "8aaba4a9-4928-4acd-ad10-15b2bb436ee1"
      },
      "execution_count": null,
      "outputs": [
        {
          "output_type": "execute_result",
          "data": {
            "text/plain": [
              "['TotalInteractions', 'TotalInteractions:Log_TotalInteractions']"
            ]
          },
          "metadata": {},
          "execution_count": 62
        }
      ]
    },
    {
      "cell_type": "code",
      "source": [
        "X_lt = dfBTx[cols_to_keep]\n",
        "y_lt = y['StripSearch']\n",
        "\n",
        "# Add constant\n",
        "X_lt = sm.add_constant(X_lt, prepend=False)\n",
        "  \n",
        "# Build model and fit the data (using statsmodel's Logit)\n",
        "logit_results = GLM(y_lt, X_lt, family=families.Binomial()).fit()\n",
        "\n",
        "# Display summary results\n",
        "print(logit_results.summary())\n",
        "\n",
        "# From this test, not sure if i ran it pefectly or not, from this test, the total interactions are statistically significant and hence non-linear. "
      ],
      "metadata": {
        "colab": {
          "base_uri": "https://localhost:8080/"
        },
        "id": "o07a1jX9OOUS",
        "outputId": "f9864f23-fa82-4652-cefd-724aaa5c0ff2"
      },
      "execution_count": null,
      "outputs": [
        {
          "output_type": "stream",
          "name": "stdout",
          "text": [
            "                 Generalized Linear Model Regression Results                  \n",
            "==============================================================================\n",
            "Dep. Variable:            StripSearch   No. Observations:                61374\n",
            "Model:                            GLM   Df Residuals:                    61371\n",
            "Model Family:                Binomial   Df Model:                            2\n",
            "Link Function:                  Logit   Scale:                          1.0000\n",
            "Method:                          IRLS   Log-Likelihood:                -21886.\n",
            "Date:                Sat, 15 Apr 2023   Deviance:                       43771.\n",
            "Time:                        13:32:48   Pearson chi2:                 6.07e+04\n",
            "No. Iterations:                     5   Pseudo R-squ. (CS):            0.02608\n",
            "Covariance Type:            nonrobust                                         \n",
            "===========================================================================================================\n",
            "                                              coef    std err          z      P>|z|      [0.025      0.975]\n",
            "-----------------------------------------------------------------------------------------------------------\n",
            "TotalInteractions                           0.4088      0.014     29.172      0.000       0.381       0.436\n",
            "TotalInteractions:Log_TotalInteractions    -0.1058      0.004    -24.750      0.000      -0.114      -0.097\n",
            "const                                      -2.9075      0.031    -93.893      0.000      -2.968      -2.847\n",
            "===========================================================================================================\n"
          ]
        }
      ]
    },
    {
      "cell_type": "code",
      "source": [
        "logit_results = GLM(y_lt, X_lt['TotalInteractions'], family=families.Binomial()).fit()\n",
        "predicted = logit_results.predict(y)\n",
        "\n",
        "# Get log odds values\n",
        "log_odds = np.log(predicted / (1 - predicted))\n",
        "\n",
        "# Visualize predictor continuous variable vs logit values\n",
        "plt.scatter(x = dfBTx['TotalInteractions'].values, y = log_odds);\n",
        "plt.show()"
      ],
      "metadata": {
        "colab": {
          "base_uri": "https://localhost:8080/",
          "height": 835
        },
        "id": "jE7MaCecQMS2",
        "outputId": "fe25c28f-879e-4487-edc1-e6c8615d3633"
      },
      "execution_count": null,
      "outputs": [
        {
          "output_type": "display_data",
          "data": {
            "text/plain": [
              "<Figure size 1500x1000 with 1 Axes>"
            ],
            "image/png": "[encoded data removed]"
          },
          "metadata": {}
        }
      ]
    },
    {
      "cell_type": "code",
      "source": [
        "#Split train and test data\n",
        "x_train, x_test, y_train, y_test = train_test_split(x,y, test_size = 0.25, random_state=123) "
      ],
      "metadata": {
        "id": "JFVr8JN6VF_t"
      },
      "execution_count": null,
      "outputs": []
    },
    {
      "cell_type": "code",
      "source": [
        "y_train.info()"
      ],
      "metadata": {
        "colab": {
          "base_uri": "https://localhost:8080/"
        },
        "id": "IPEptIJnY7MG",
        "outputId": "b53877c8-61e6-45d9-f95b-f1b7ac6cf6f4"
      },
      "execution_count": null,
      "outputs": [
        {
          "output_type": "stream",
          "name": "stdout",
          "text": [
            "<class 'pandas.core.frame.DataFrame'>\n",
            "Int64Index: 46030 entries, 14670 to 52734\n",
            "Data columns (total 1 columns):\n",
            " #   Column       Non-Null Count  Dtype\n",
            "---  ------       --------------  -----\n",
            " 0   StripSearch  46030 non-null  int64\n",
            "dtypes: int64(1)\n",
            "memory usage: 719.2 KB\n"
          ]
        }
      ]
    },
    {
      "cell_type": "code",
      "source": [
        "# Create the formula string \n",
        "all_columns = ' + '.join(x)\n",
        "formula = \"StripSearch ~ \" + all_columns \n",
        "print(\"Formula: \", formula, \"\\n\")"
      ],
      "metadata": {
        "colab": {
          "base_uri": "https://localhost:8080/"
        },
        "id": "zCrlAM2MXGa1",
        "outputId": "dea89fa7-02ca-4265-9868-6a50cbd08205"
      },
      "execution_count": null,
      "outputs": [
        {
          "output_type": "stream",
          "name": "stdout",
          "text": [
            "Formula:  StripSearch ~ TotalInteractions + Occurrence_Category + Perceived_Race_Black + Perceived_Race_White + Sex_M \n",
            "\n"
          ]
        }
      ]
    },
    {
      "cell_type": "code",
      "source": [
        "trainingdata = pd.concat([x_train,y_train], axis = 1)\n",
        "log_reg_1 = smf.logit(formula, data=trainingdata).fit()\n",
        "log_reg_1.summary()"
      ],
      "metadata": {
        "id": "63piq0f-XRNA",
        "colab": {
          "base_uri": "https://localhost:8080/",
          "height": 640
        },
        "outputId": "a0a91a15-0a55-47a9-bd06-11aa0b926284"
      },
      "execution_count": null,
      "outputs": [
        {
          "output_type": "stream",
          "name": "stdout",
          "text": [
            "Warning: Maximum number of iterations has been exceeded.\n",
            "         Current function value: 0.343411\n",
            "         Iterations: 35\n"
          ]
        },
        {
          "output_type": "stream",
          "name": "stderr",
          "text": [
            "/usr/local/lib/python3.9/dist-packages/statsmodels/base/model.py:604: ConvergenceWarning: Maximum Likelihood optimization failed to converge. Check mle_retvals\n",
            "  warnings.warn(\"Maximum Likelihood optimization failed to \"\n"
          ]
        },
        {
          "output_type": "execute_result",
          "data": {
            "text/plain": [
              "<class 'statsmodels.iolib.summary.Summary'>\n",
              "\"\"\"\n",
              "                           Logit Regression Results                           \n",
              "==============================================================================\n",
              "Dep. Variable:            StripSearch   No. Observations:                46030\n",
              "Model:                          Logit   Df Residuals:                    46014\n",
              "Method:                           MLE   Df Model:                           15\n",
              "Date:                Sat, 15 Apr 2023   Pseudo R-squ.:                 0.07530\n",
              "Time:                        13:33:02   Log-Likelihood:                -15807.\n",
              "converged:                      False   LL-Null:                       -17094.\n",
              "Covariance Type:            nonrobust   LLR p-value:                     0.000\n",
              "==========================================================================================================================================\n",
              "                                                                             coef    std err          z      P>|z|      [0.025      0.975]\n",
              "------------------------------------------------------------------------------------------------------------------------------------------\n",
              "Intercept                                                                 -2.8413      0.055    -51.383      0.000      -2.950      -2.733\n",
              "Occurrence_Category[T.Drug Related]                                        1.6401      0.057     28.535      0.000       1.527       1.753\n",
              "Occurrence_Category[T.Harassment & Threatening]                            0.0212      0.082      0.257      0.797      -0.140       0.183\n",
              "Occurrence_Category[T.LLA]                                               -16.8689    519.328     -0.032      0.974   -1034.733    1000.995\n",
              "Occurrence_Category[T.Mental Health]                                      -3.1575      1.004     -3.144      0.002      -5.126      -1.189\n",
              "Occurrence_Category[T.Mischief & Fraud]                                   -0.3824      0.081     -4.716      0.000      -0.541      -0.224\n",
              "Occurrence_Category[T.Other Offence]                                      -0.7634      0.077     -9.873      0.000      -0.915      -0.612\n",
              "Occurrence_Category[T.Robbery/Theft]                                       0.1164      0.048      2.416      0.016       0.022       0.211\n",
              "Occurrence_Category[T.Sexual Related Crimes & Crimes Against Children]    -0.4538      0.124     -3.648      0.000      -0.698      -0.210\n",
              "Occurrence_Category[T.Vehicle Related (inc. Impaired)]                    -1.2295      0.117    -10.521      0.000      -1.459      -1.000\n",
              "Occurrence_Category[T.Warrant/Police]                                      0.1136      0.042      2.692      0.007       0.031       0.196\n",
              "Occurrence_Category[T.Weapons & Homicide]                                  0.9775      0.068     14.452      0.000       0.845       1.110\n",
              "TotalInteractions                                                          0.0586      0.002     26.706      0.000       0.054       0.063\n",
              "Perceived_Race_Black                                                       0.4230      0.043      9.846      0.000       0.339       0.507\n",
              "Perceived_Race_White                                                       0.3911      0.040      9.706      0.000       0.312       0.470\n",
              "Sex_M                                                                      0.2224      0.039      5.657      0.000       0.145       0.300\n",
              "==========================================================================================================================================\n",
              "\"\"\""
            ],
            "text/html": [
              "<table class=\"simpletable\">\n",
              "<caption>Logit Regression Results</caption>\n",
              "<tr>\n",
              "  <th>Dep. Variable:</th>      <td>StripSearch</td>   <th>  No. Observations:  </th>  <td> 46030</td> \n",
              "</tr>\n",
              "<tr>\n",
              "  <th>Model:</th>                 <td>Logit</td>      <th>  Df Residuals:      </th>  <td> 46014</td> \n",
              "</tr>\n",
              "<tr>\n",
              "  <th>Method:</th>                 <td>MLE</td>       <th>  Df Model:          </th>  <td>    15</td> \n",
              "</tr>\n",
              "<tr>\n",
              "  <th>Date:</th>            <td>Sat, 15 Apr 2023</td> <th>  Pseudo R-squ.:     </th>  <td>0.07530</td>\n",
              "</tr>\n",
              "<tr>\n",
              "  <th>Time:</th>                <td>13:33:02</td>     <th>  Log-Likelihood:    </th> <td> -15807.</td>\n",
              "</tr>\n",
              "<tr>\n",
              "  <th>converged:</th>             <td>False</td>      <th>  LL-Null:           </th> <td> -17094.</td>\n",
              "</tr>\n",
              "<tr>\n",
              "  <th>Covariance Type:</th>     <td>nonrobust</td>    <th>  LLR p-value:       </th>  <td> 0.000</td> \n",
              "</tr>\n",
              "</table>\n",
              "<table class=\"simpletable\">\n",
              "<tr>\n",
              "                                     <td></td>                                       <th>coef</th>     <th>std err</th>      <th>z</th>      <th>P>|z|</th>  <th>[0.025</th>    <th>0.975]</th>  \n",
              "</tr>\n",
              "<tr>\n",
              "  <th>Intercept</th>                                                              <td>   -2.8413</td> <td>    0.055</td> <td>  -51.383</td> <td> 0.000</td> <td>   -2.950</td> <td>   -2.733</td>\n",
              "</tr>\n",
              "<tr>\n",
              "  <th>Occurrence_Category[T.Drug Related]</th>                                    <td>    1.6401</td> <td>    0.057</td> <td>   28.535</td> <td> 0.000</td> <td>    1.527</td> <td>    1.753</td>\n",
              "</tr>\n",
              "<tr>\n",
              "  <th>Occurrence_Category[T.Harassment & Threatening]</th>                        <td>    0.0212</td> <td>    0.082</td> <td>    0.257</td> <td> 0.797</td> <td>   -0.140</td> <td>    0.183</td>\n",
              "</tr>\n",
              "<tr>\n",
              "  <th>Occurrence_Category[T.LLA]</th>                                             <td>  -16.8689</td> <td>  519.328</td> <td>   -0.032</td> <td> 0.974</td> <td>-1034.733</td> <td> 1000.995</td>\n",
              "</tr>\n",
              "<tr>\n",
              "  <th>Occurrence_Category[T.Mental Health]</th>                                   <td>   -3.1575</td> <td>    1.004</td> <td>   -3.144</td> <td> 0.002</td> <td>   -5.126</td> <td>   -1.189</td>\n",
              "</tr>\n",
              "<tr>\n",
              "  <th>Occurrence_Category[T.Mischief & Fraud]</th>                                <td>   -0.3824</td> <td>    0.081</td> <td>   -4.716</td> <td> 0.000</td> <td>   -0.541</td> <td>   -0.224</td>\n",
              "</tr>\n",
              "<tr>\n",
              "  <th>Occurrence_Category[T.Other Offence]</th>                                   <td>   -0.7634</td> <td>    0.077</td> <td>   -9.873</td> <td> 0.000</td> <td>   -0.915</td> <td>   -0.612</td>\n",
              "</tr>\n",
              "<tr>\n",
              "  <th>Occurrence_Category[T.Robbery/Theft]</th>                                   <td>    0.1164</td> <td>    0.048</td> <td>    2.416</td> <td> 0.016</td> <td>    0.022</td> <td>    0.211</td>\n",
              "</tr>\n",
              "<tr>\n",
              "  <th>Occurrence_Category[T.Sexual Related Crimes & Crimes Against Children]</th> <td>   -0.4538</td> <td>    0.124</td> <td>   -3.648</td> <td> 0.000</td> <td>   -0.698</td> <td>   -0.210</td>\n",
              "</tr>\n",
              "<tr>\n",
              "  <th>Occurrence_Category[T.Vehicle Related (inc. Impaired)]</th>                 <td>   -1.2295</td> <td>    0.117</td> <td>  -10.521</td> <td> 0.000</td> <td>   -1.459</td> <td>   -1.000</td>\n",
              "</tr>\n",
              "<tr>\n",
              "  <th>Occurrence_Category[T.Warrant/Police]</th>                                  <td>    0.1136</td> <td>    0.042</td> <td>    2.692</td> <td> 0.007</td> <td>    0.031</td> <td>    0.196</td>\n",
              "</tr>\n",
              "<tr>\n",
              "  <th>Occurrence_Category[T.Weapons & Homicide]</th>                              <td>    0.9775</td> <td>    0.068</td> <td>   14.452</td> <td> 0.000</td> <td>    0.845</td> <td>    1.110</td>\n",
              "</tr>\n",
              "<tr>\n",
              "  <th>TotalInteractions</th>                                                      <td>    0.0586</td> <td>    0.002</td> <td>   26.706</td> <td> 0.000</td> <td>    0.054</td> <td>    0.063</td>\n",
              "</tr>\n",
              "<tr>\n",
              "  <th>Perceived_Race_Black</th>                                                   <td>    0.4230</td> <td>    0.043</td> <td>    9.846</td> <td> 0.000</td> <td>    0.339</td> <td>    0.507</td>\n",
              "</tr>\n",
              "<tr>\n",
              "  <th>Perceived_Race_White</th>                                                   <td>    0.3911</td> <td>    0.040</td> <td>    9.706</td> <td> 0.000</td> <td>    0.312</td> <td>    0.470</td>\n",
              "</tr>\n",
              "<tr>\n",
              "  <th>Sex_M</th>                                                                  <td>    0.2224</td> <td>    0.039</td> <td>    5.657</td> <td> 0.000</td> <td>    0.145</td> <td>    0.300</td>\n",
              "</tr>\n",
              "</table>"
            ]
          },
          "metadata": {},
          "execution_count": 68
        }
      ]
    },
    {
      "cell_type": "code",
      "source": [
        "pred_1 = log_reg_1.predict(x_test)\n",
        "prediction_1 = list(map(round, pred_1))\n",
        "# Accuracy score\n",
        "print('\\nTest accuracy = ', accuracy_score(y_test, prediction_1))"
      ],
      "metadata": {
        "colab": {
          "base_uri": "https://localhost:8080/"
        },
        "id": "D4nasQKLXXcw",
        "outputId": "07d56377-d4b8-43db-ac6d-fb3dd1883ef7"
      },
      "execution_count": null,
      "outputs": [
        {
          "output_type": "stream",
          "name": "stdout",
          "text": [
            "\n",
            "Test accuracy =  0.8797575599582899\n"
          ]
        }
      ]
    },
    {
      "cell_type": "code",
      "source": [
        "# Confusion matrix\n",
        "cm2 = confusion_matrix(y_test, prediction_1)\n",
        "print (\"\\nConfusion Matrix : \\n\", cm2) "
      ],
      "metadata": {
        "id": "HnioEJhLc2Hk",
        "outputId": "111c0702-fe58-485f-b167-cf559d4e7c21",
        "colab": {
          "base_uri": "https://localhost:8080/"
        }
      },
      "execution_count": null,
      "outputs": [
        {
          "output_type": "stream",
          "name": "stdout",
          "text": [
            "\n",
            "Confusion Matrix : \n",
            " [[13482    35]\n",
            " [ 1810    17]]\n"
          ]
        }
      ]
    },
    {
      "cell_type": "code",
      "source": [
        "np.exp(log_reg_1.params)"
      ],
      "metadata": {
        "colab": {
          "base_uri": "https://localhost:8080/"
        },
        "id": "yALsrOZb3F-_",
        "outputId": "92c7286e-6816-475a-d048-b138ad694c09"
      },
      "execution_count": null,
      "outputs": [
        {
          "output_type": "execute_result",
          "data": {
            "text/plain": [
              "Intercept                                                                 5.834726e-02\n",
              "Occurrence_Category[T.Drug Related]                                       5.155551e+00\n",
              "Occurrence_Category[T.Harassment & Threatening]                           1.021389e+00\n",
              "Occurrence_Category[T.LLA]                                                4.719651e-08\n",
              "Occurrence_Category[T.Mental Health]                                      4.253108e-02\n",
              "Occurrence_Category[T.Mischief & Fraud]                                   6.821966e-01\n",
              "Occurrence_Category[T.Other Offence]                                      4.660909e-01\n",
              "Occurrence_Category[T.Robbery/Theft]                                      1.123390e+00\n",
              "Occurrence_Category[T.Sexual Related Crimes & Crimes Against Children]    6.351833e-01\n",
              "Occurrence_Category[T.Vehicle Related (inc. Impaired)]                    2.924293e-01\n",
              "Occurrence_Category[T.Warrant/Police]                                     1.120284e+00\n",
              "Occurrence_Category[T.Weapons & Homicide]                                 2.657933e+00\n",
              "TotalInteractions                                                         1.060372e+00\n",
              "Perceived_Race_Black                                                      1.526563e+00\n",
              "Perceived_Race_White                                                      1.478577e+00\n",
              "Sex_M                                                                     1.249131e+00\n",
              "dtype: float64"
            ]
          },
          "metadata": {},
          "execution_count": 71
        }
      ]
    },
    {
      "cell_type": "code",
      "source": [
        "fig, ax = plt.subplots(figsize=(8, 8))\n",
        "ax.imshow(cm2)\n",
        "ax.grid(False)\n",
        "ax.xaxis.set(ticks=(0, 1), ticklabels=('Predicted SS', 'Predicted Not SS'))\n",
        "ax.yaxis.set(ticks=(0, 1), ticklabels=('Actual SS', 'Actual Not SS'))\n",
        "ax.set_ylim(1.5, -0.5)\n",
        "for i in range(2):\n",
        "    for j in range(2):\n",
        "        ax.text(j, i, cm2[i, j], ha='center', va='center', color='red')\n",
        "plt.show()"
      ],
      "metadata": {
        "colab": {
          "base_uri": "https://localhost:8080/",
          "height": 681
        },
        "id": "0Mx1PghJ3OEb",
        "outputId": "9113656a-d0cd-405f-a56e-49d34837b48d"
      },
      "execution_count": null,
      "outputs": [
        {
          "output_type": "display_data",
          "data": {
            "text/plain": [
              "<Figure size 800x800 with 1 Axes>"
            ],
            "image/png": "[encoded data removed]"
          },
          "metadata": {}
        }
      ]
    },
    {
      "cell_type": "code",
      "source": [
        "log_reg_1.predict(x)"
      ],
      "metadata": {
        "colab": {
          "base_uri": "https://localhost:8080/"
        },
        "id": "mA8EJYlSg9bs",
        "outputId": "957d89fa-ed7b-4f5c-84bc-f0356f840ec6"
      },
      "execution_count": null,
      "outputs": [
        {
          "output_type": "execute_result",
          "data": {
            "text/plain": [
              "0        0.113855\n",
              "1        0.113855\n",
              "2        0.113855\n",
              "3        0.119323\n",
              "4        0.088713\n",
              "           ...   \n",
              "61369    0.092956\n",
              "61370    0.017771\n",
              "61371    0.071739\n",
              "61372    0.083812\n",
              "61373    0.050082\n",
              "Length: 61374, dtype: float64"
            ]
          },
          "metadata": {},
          "execution_count": 80
        }
      ]
    },
    {
      "cell_type": "code",
      "source": [
        "#I tried to work on the prediction interval but it didnt work for me, i would need more time to learn it. - Gary"
      ],
      "metadata": {
        "colab": {
          "base_uri": "https://localhost:8080/",
          "height": 294
        },
        "id": "F2hFEPvuJlCU",
        "outputId": "27a6b122-4339-4041-d567-de1422f4017b"
      },
      "execution_count": null,
      "outputs": [
        {
          "output_type": "error",
          "ename": "AttributeError",
          "evalue": "ignored",
          "traceback": [
            "\u001b[0;31m---------------------------------------------------------------------------\u001b[0m",
            "\u001b[0;31mAttributeError\u001b[0m                            Traceback (most recent call last)",
            "\u001b[0;32m<ipython-input-81-5415e3349471>\u001b[0m in \u001b[0;36m<cell line: 1>\u001b[0;34m()\u001b[0m\n\u001b[0;32m----> 1\u001b[0;31m \u001b[0mlog_reg_1\u001b[0m\u001b[0;34m.\u001b[0m\u001b[0mscore\u001b[0m\u001b[0;34m(\u001b[0m\u001b[0mx\u001b[0m\u001b[0;34m,\u001b[0m\u001b[0my\u001b[0m\u001b[0;34m)\u001b[0m\u001b[0;34m\u001b[0m\u001b[0;34m\u001b[0m\u001b[0m\n\u001b[0m",
            "\u001b[0;32m/usr/local/lib/python3.9/dist-packages/statsmodels/base/wrapper.py\u001b[0m in \u001b[0;36m__getattribute__\u001b[0;34m(self, attr)\u001b[0m\n\u001b[1;32m     32\u001b[0m             \u001b[0;32mpass\u001b[0m\u001b[0;34m\u001b[0m\u001b[0;34m\u001b[0m\u001b[0m\n\u001b[1;32m     33\u001b[0m \u001b[0;34m\u001b[0m\u001b[0m\n\u001b[0;32m---> 34\u001b[0;31m         \u001b[0mobj\u001b[0m \u001b[0;34m=\u001b[0m \u001b[0mgetattr\u001b[0m\u001b[0;34m(\u001b[0m\u001b[0mresults\u001b[0m\u001b[0;34m,\u001b[0m \u001b[0mattr\u001b[0m\u001b[0;34m)\u001b[0m\u001b[0;34m\u001b[0m\u001b[0;34m\u001b[0m\u001b[0m\n\u001b[0m\u001b[1;32m     35\u001b[0m         \u001b[0mdata\u001b[0m \u001b[0;34m=\u001b[0m \u001b[0mresults\u001b[0m\u001b[0;34m.\u001b[0m\u001b[0mmodel\u001b[0m\u001b[0;34m.\u001b[0m\u001b[0mdata\u001b[0m\u001b[0;34m\u001b[0m\u001b[0;34m\u001b[0m\u001b[0m\n\u001b[1;32m     36\u001b[0m         \u001b[0mhow\u001b[0m \u001b[0;34m=\u001b[0m \u001b[0mself\u001b[0m\u001b[0;34m.\u001b[0m\u001b[0m_wrap_attrs\u001b[0m\u001b[0;34m.\u001b[0m\u001b[0mget\u001b[0m\u001b[0;34m(\u001b[0m\u001b[0mattr\u001b[0m\u001b[0;34m)\u001b[0m\u001b[0;34m\u001b[0m\u001b[0;34m\u001b[0m\u001b[0m\n",
            "\u001b[0;31mAttributeError\u001b[0m: 'LogitResults' object has no attribute 'score'"
          ]
        }
      ]
    },
    {
      "cell_type": "code",
      "source": [],
      "metadata": {
        "id": "nhmVyUlAK53Y"
      },
      "execution_count": null,
      "outputs": []
    }
  ]
}